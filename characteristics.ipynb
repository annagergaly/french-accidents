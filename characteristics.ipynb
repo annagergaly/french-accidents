{
  "nbformat": 4,
  "nbformat_minor": 0,
  "metadata": {
    "colab": {
      "provenance": []
    },
    "kernelspec": {
      "name": "python3",
      "display_name": "Python 3"
    },
    "language_info": {
      "name": "python"
    }
  },
  "cells": [
    {
      "cell_type": "markdown",
      "source": [
        "# Characteristics"
      ],
      "metadata": {
        "id": "S3BS7uxawQHe"
      }
    },
    {
      "cell_type": "code",
      "execution_count": 145,
      "metadata": {
        "id": "vRcin-4QJ9hD"
      },
      "outputs": [],
      "source": [
        "import pandas as pd\n",
        "from sklearn.metrics.cluster import contingency_matrix\n",
        "from scipy.stats.contingency import association\n",
        "import seaborn as sns"
      ]
    },
    {
      "cell_type": "code",
      "source": [
        "def cramersv(a, b):\n",
        "    return association(contingency_matrix(a, b))"
      ],
      "metadata": {
        "id": "yM51tEi-K4bP"
      },
      "execution_count": 146,
      "outputs": []
    },
    {
      "cell_type": "code",
      "source": [
        "df = pd.read_csv('data/caracteristics.csv', encoding='latin1')"
      ],
      "metadata": {
        "colab": {
          "base_uri": "https://localhost:8080/"
        },
        "id": "9DFksgo3M5DT",
        "outputId": "4e89826f-7f4a-4340-d7d0-6ddd78e48170"
      },
      "execution_count": 147,
      "outputs": [
        {
          "output_type": "stream",
          "name": "stderr",
          "text": [
            "<ipython-input-147-9b4bedd28ad2>:1: DtypeWarning: Columns (14) have mixed types. Specify dtype option on import or set low_memory=False.\n",
            "  df = pd.read_csv('data/caracteristics.csv', encoding='latin1')\n"
          ]
        }
      ]
    },
    {
      "cell_type": "code",
      "source": [
        "def fill_with_most_common(df, column_name):\n",
        "  most_common_value = df[column_name].mode()[0]\n",
        "  df[column_name].fillna(most_common_value, inplace=True)"
      ],
      "metadata": {
        "id": "6F5plP19AyO5"
      },
      "execution_count": 148,
      "outputs": []
    },
    {
      "cell_type": "code",
      "source": [
        "df.head()"
      ],
      "metadata": {
        "colab": {
          "base_uri": "https://localhost:8080/",
          "height": 206
        },
        "id": "APjkr6bQQT8t",
        "outputId": "b3c10f30-961b-487e-d806-a7e9e9e4550f"
      },
      "execution_count": 149,
      "outputs": [
        {
          "output_type": "execute_result",
          "data": {
            "text/plain": [
              "        Num_Acc  an  mois  jour  hrmn  lum  agg  int  atm  col    com  \\\n",
              "0  201600000001  16     2     1  1445    1    2    1  8.0  3.0    5.0   \n",
              "1  201600000002  16     3    16  1800    1    2    6  1.0  6.0    5.0   \n",
              "2  201600000003  16     7    13  1900    1    1    1  1.0  6.0   11.0   \n",
              "3  201600000004  16     8    15  1930    2    2    1  7.0  3.0  477.0   \n",
              "4  201600000005  16    12    23  1100    1    2    3  1.0  3.0   11.0   \n",
              "\n",
              "                   adr gps  lat long  dep  \n",
              "0   46, rue Sonneville   M  0.0  0.0  590  \n",
              "1  1a rue du cimetière   M  0.0  0.0  590  \n",
              "2                  NaN   M  0.0  0.0  590  \n",
              "3   52 rue victor hugo   M  0.0  0.0  590  \n",
              "4     rue Joliot curie   M  0.0  0.0  590  "
            ],
            "text/html": [
              "\n",
              "  <div id=\"df-70ea1cad-860f-4565-afcf-b6d70f09de05\" class=\"colab-df-container\">\n",
              "    <div>\n",
              "<style scoped>\n",
              "    .dataframe tbody tr th:only-of-type {\n",
              "        vertical-align: middle;\n",
              "    }\n",
              "\n",
              "    .dataframe tbody tr th {\n",
              "        vertical-align: top;\n",
              "    }\n",
              "\n",
              "    .dataframe thead th {\n",
              "        text-align: right;\n",
              "    }\n",
              "</style>\n",
              "<table border=\"1\" class=\"dataframe\">\n",
              "  <thead>\n",
              "    <tr style=\"text-align: right;\">\n",
              "      <th></th>\n",
              "      <th>Num_Acc</th>\n",
              "      <th>an</th>\n",
              "      <th>mois</th>\n",
              "      <th>jour</th>\n",
              "      <th>hrmn</th>\n",
              "      <th>lum</th>\n",
              "      <th>agg</th>\n",
              "      <th>int</th>\n",
              "      <th>atm</th>\n",
              "      <th>col</th>\n",
              "      <th>com</th>\n",
              "      <th>adr</th>\n",
              "      <th>gps</th>\n",
              "      <th>lat</th>\n",
              "      <th>long</th>\n",
              "      <th>dep</th>\n",
              "    </tr>\n",
              "  </thead>\n",
              "  <tbody>\n",
              "    <tr>\n",
              "      <th>0</th>\n",
              "      <td>201600000001</td>\n",
              "      <td>16</td>\n",
              "      <td>2</td>\n",
              "      <td>1</td>\n",
              "      <td>1445</td>\n",
              "      <td>1</td>\n",
              "      <td>2</td>\n",
              "      <td>1</td>\n",
              "      <td>8.0</td>\n",
              "      <td>3.0</td>\n",
              "      <td>5.0</td>\n",
              "      <td>46, rue Sonneville</td>\n",
              "      <td>M</td>\n",
              "      <td>0.0</td>\n",
              "      <td>0.0</td>\n",
              "      <td>590</td>\n",
              "    </tr>\n",
              "    <tr>\n",
              "      <th>1</th>\n",
              "      <td>201600000002</td>\n",
              "      <td>16</td>\n",
              "      <td>3</td>\n",
              "      <td>16</td>\n",
              "      <td>1800</td>\n",
              "      <td>1</td>\n",
              "      <td>2</td>\n",
              "      <td>6</td>\n",
              "      <td>1.0</td>\n",
              "      <td>6.0</td>\n",
              "      <td>5.0</td>\n",
              "      <td>1a rue du cimetière</td>\n",
              "      <td>M</td>\n",
              "      <td>0.0</td>\n",
              "      <td>0.0</td>\n",
              "      <td>590</td>\n",
              "    </tr>\n",
              "    <tr>\n",
              "      <th>2</th>\n",
              "      <td>201600000003</td>\n",
              "      <td>16</td>\n",
              "      <td>7</td>\n",
              "      <td>13</td>\n",
              "      <td>1900</td>\n",
              "      <td>1</td>\n",
              "      <td>1</td>\n",
              "      <td>1</td>\n",
              "      <td>1.0</td>\n",
              "      <td>6.0</td>\n",
              "      <td>11.0</td>\n",
              "      <td>NaN</td>\n",
              "      <td>M</td>\n",
              "      <td>0.0</td>\n",
              "      <td>0.0</td>\n",
              "      <td>590</td>\n",
              "    </tr>\n",
              "    <tr>\n",
              "      <th>3</th>\n",
              "      <td>201600000004</td>\n",
              "      <td>16</td>\n",
              "      <td>8</td>\n",
              "      <td>15</td>\n",
              "      <td>1930</td>\n",
              "      <td>2</td>\n",
              "      <td>2</td>\n",
              "      <td>1</td>\n",
              "      <td>7.0</td>\n",
              "      <td>3.0</td>\n",
              "      <td>477.0</td>\n",
              "      <td>52 rue victor hugo</td>\n",
              "      <td>M</td>\n",
              "      <td>0.0</td>\n",
              "      <td>0.0</td>\n",
              "      <td>590</td>\n",
              "    </tr>\n",
              "    <tr>\n",
              "      <th>4</th>\n",
              "      <td>201600000005</td>\n",
              "      <td>16</td>\n",
              "      <td>12</td>\n",
              "      <td>23</td>\n",
              "      <td>1100</td>\n",
              "      <td>1</td>\n",
              "      <td>2</td>\n",
              "      <td>3</td>\n",
              "      <td>1.0</td>\n",
              "      <td>3.0</td>\n",
              "      <td>11.0</td>\n",
              "      <td>rue Joliot curie</td>\n",
              "      <td>M</td>\n",
              "      <td>0.0</td>\n",
              "      <td>0.0</td>\n",
              "      <td>590</td>\n",
              "    </tr>\n",
              "  </tbody>\n",
              "</table>\n",
              "</div>\n",
              "    <div class=\"colab-df-buttons\">\n",
              "\n",
              "  <div class=\"colab-df-container\">\n",
              "    <button class=\"colab-df-convert\" onclick=\"convertToInteractive('df-70ea1cad-860f-4565-afcf-b6d70f09de05')\"\n",
              "            title=\"Convert this dataframe to an interactive table.\"\n",
              "            style=\"display:none;\">\n",
              "\n",
              "  <svg xmlns=\"http://www.w3.org/2000/svg\" height=\"24px\" viewBox=\"0 -960 960 960\">\n",
              "    <path d=\"M120-120v-720h720v720H120Zm60-500h600v-160H180v160Zm220 220h160v-160H400v160Zm0 220h160v-160H400v160ZM180-400h160v-160H180v160Zm440 0h160v-160H620v160ZM180-180h160v-160H180v160Zm440 0h160v-160H620v160Z\"/>\n",
              "  </svg>\n",
              "    </button>\n",
              "\n",
              "  <style>\n",
              "    .colab-df-container {\n",
              "      display:flex;\n",
              "      gap: 12px;\n",
              "    }\n",
              "\n",
              "    .colab-df-convert {\n",
              "      background-color: #E8F0FE;\n",
              "      border: none;\n",
              "      border-radius: 50%;\n",
              "      cursor: pointer;\n",
              "      display: none;\n",
              "      fill: #1967D2;\n",
              "      height: 32px;\n",
              "      padding: 0 0 0 0;\n",
              "      width: 32px;\n",
              "    }\n",
              "\n",
              "    .colab-df-convert:hover {\n",
              "      background-color: #E2EBFA;\n",
              "      box-shadow: 0px 1px 2px rgba(60, 64, 67, 0.3), 0px 1px 3px 1px rgba(60, 64, 67, 0.15);\n",
              "      fill: #174EA6;\n",
              "    }\n",
              "\n",
              "    .colab-df-buttons div {\n",
              "      margin-bottom: 4px;\n",
              "    }\n",
              "\n",
              "    [theme=dark] .colab-df-convert {\n",
              "      background-color: #3B4455;\n",
              "      fill: #D2E3FC;\n",
              "    }\n",
              "\n",
              "    [theme=dark] .colab-df-convert:hover {\n",
              "      background-color: #434B5C;\n",
              "      box-shadow: 0px 1px 3px 1px rgba(0, 0, 0, 0.15);\n",
              "      filter: drop-shadow(0px 1px 2px rgba(0, 0, 0, 0.3));\n",
              "      fill: #FFFFFF;\n",
              "    }\n",
              "  </style>\n",
              "\n",
              "    <script>\n",
              "      const buttonEl =\n",
              "        document.querySelector('#df-70ea1cad-860f-4565-afcf-b6d70f09de05 button.colab-df-convert');\n",
              "      buttonEl.style.display =\n",
              "        google.colab.kernel.accessAllowed ? 'block' : 'none';\n",
              "\n",
              "      async function convertToInteractive(key) {\n",
              "        const element = document.querySelector('#df-70ea1cad-860f-4565-afcf-b6d70f09de05');\n",
              "        const dataTable =\n",
              "          await google.colab.kernel.invokeFunction('convertToInteractive',\n",
              "                                                    [key], {});\n",
              "        if (!dataTable) return;\n",
              "\n",
              "        const docLinkHtml = 'Like what you see? Visit the ' +\n",
              "          '<a target=\"_blank\" href=https://colab.research.google.com/notebooks/data_table.ipynb>data table notebook</a>'\n",
              "          + ' to learn more about interactive tables.';\n",
              "        element.innerHTML = '';\n",
              "        dataTable['output_type'] = 'display_data';\n",
              "        await google.colab.output.renderOutput(dataTable, element);\n",
              "        const docLink = document.createElement('div');\n",
              "        docLink.innerHTML = docLinkHtml;\n",
              "        element.appendChild(docLink);\n",
              "      }\n",
              "    </script>\n",
              "  </div>\n",
              "\n",
              "\n",
              "<div id=\"df-1f684e4f-2a6a-4b4f-83dd-ca5026676dee\">\n",
              "  <button class=\"colab-df-quickchart\" onclick=\"quickchart('df-1f684e4f-2a6a-4b4f-83dd-ca5026676dee')\"\n",
              "            title=\"Suggest charts\"\n",
              "            style=\"display:none;\">\n",
              "\n",
              "<svg xmlns=\"http://www.w3.org/2000/svg\" height=\"24px\"viewBox=\"0 0 24 24\"\n",
              "     width=\"24px\">\n",
              "    <g>\n",
              "        <path d=\"M19 3H5c-1.1 0-2 .9-2 2v14c0 1.1.9 2 2 2h14c1.1 0 2-.9 2-2V5c0-1.1-.9-2-2-2zM9 17H7v-7h2v7zm4 0h-2V7h2v10zm4 0h-2v-4h2v4z\"/>\n",
              "    </g>\n",
              "</svg>\n",
              "  </button>\n",
              "\n",
              "<style>\n",
              "  .colab-df-quickchart {\n",
              "      --bg-color: #E8F0FE;\n",
              "      --fill-color: #1967D2;\n",
              "      --hover-bg-color: #E2EBFA;\n",
              "      --hover-fill-color: #174EA6;\n",
              "      --disabled-fill-color: #AAA;\n",
              "      --disabled-bg-color: #DDD;\n",
              "  }\n",
              "\n",
              "  [theme=dark] .colab-df-quickchart {\n",
              "      --bg-color: #3B4455;\n",
              "      --fill-color: #D2E3FC;\n",
              "      --hover-bg-color: #434B5C;\n",
              "      --hover-fill-color: #FFFFFF;\n",
              "      --disabled-bg-color: #3B4455;\n",
              "      --disabled-fill-color: #666;\n",
              "  }\n",
              "\n",
              "  .colab-df-quickchart {\n",
              "    background-color: var(--bg-color);\n",
              "    border: none;\n",
              "    border-radius: 50%;\n",
              "    cursor: pointer;\n",
              "    display: none;\n",
              "    fill: var(--fill-color);\n",
              "    height: 32px;\n",
              "    padding: 0;\n",
              "    width: 32px;\n",
              "  }\n",
              "\n",
              "  .colab-df-quickchart:hover {\n",
              "    background-color: var(--hover-bg-color);\n",
              "    box-shadow: 0 1px 2px rgba(60, 64, 67, 0.3), 0 1px 3px 1px rgba(60, 64, 67, 0.15);\n",
              "    fill: var(--button-hover-fill-color);\n",
              "  }\n",
              "\n",
              "  .colab-df-quickchart-complete:disabled,\n",
              "  .colab-df-quickchart-complete:disabled:hover {\n",
              "    background-color: var(--disabled-bg-color);\n",
              "    fill: var(--disabled-fill-color);\n",
              "    box-shadow: none;\n",
              "  }\n",
              "\n",
              "  .colab-df-spinner {\n",
              "    border: 2px solid var(--fill-color);\n",
              "    border-color: transparent;\n",
              "    border-bottom-color: var(--fill-color);\n",
              "    animation:\n",
              "      spin 1s steps(1) infinite;\n",
              "  }\n",
              "\n",
              "  @keyframes spin {\n",
              "    0% {\n",
              "      border-color: transparent;\n",
              "      border-bottom-color: var(--fill-color);\n",
              "      border-left-color: var(--fill-color);\n",
              "    }\n",
              "    20% {\n",
              "      border-color: transparent;\n",
              "      border-left-color: var(--fill-color);\n",
              "      border-top-color: var(--fill-color);\n",
              "    }\n",
              "    30% {\n",
              "      border-color: transparent;\n",
              "      border-left-color: var(--fill-color);\n",
              "      border-top-color: var(--fill-color);\n",
              "      border-right-color: var(--fill-color);\n",
              "    }\n",
              "    40% {\n",
              "      border-color: transparent;\n",
              "      border-right-color: var(--fill-color);\n",
              "      border-top-color: var(--fill-color);\n",
              "    }\n",
              "    60% {\n",
              "      border-color: transparent;\n",
              "      border-right-color: var(--fill-color);\n",
              "    }\n",
              "    80% {\n",
              "      border-color: transparent;\n",
              "      border-right-color: var(--fill-color);\n",
              "      border-bottom-color: var(--fill-color);\n",
              "    }\n",
              "    90% {\n",
              "      border-color: transparent;\n",
              "      border-bottom-color: var(--fill-color);\n",
              "    }\n",
              "  }\n",
              "</style>\n",
              "\n",
              "  <script>\n",
              "    async function quickchart(key) {\n",
              "      const quickchartButtonEl =\n",
              "        document.querySelector('#' + key + ' button');\n",
              "      quickchartButtonEl.disabled = true;  // To prevent multiple clicks.\n",
              "      quickchartButtonEl.classList.add('colab-df-spinner');\n",
              "      try {\n",
              "        const charts = await google.colab.kernel.invokeFunction(\n",
              "            'suggestCharts', [key], {});\n",
              "      } catch (error) {\n",
              "        console.error('Error during call to suggestCharts:', error);\n",
              "      }\n",
              "      quickchartButtonEl.classList.remove('colab-df-spinner');\n",
              "      quickchartButtonEl.classList.add('colab-df-quickchart-complete');\n",
              "    }\n",
              "    (() => {\n",
              "      let quickchartButtonEl =\n",
              "        document.querySelector('#df-1f684e4f-2a6a-4b4f-83dd-ca5026676dee button');\n",
              "      quickchartButtonEl.style.display =\n",
              "        google.colab.kernel.accessAllowed ? 'block' : 'none';\n",
              "    })();\n",
              "  </script>\n",
              "</div>\n",
              "    </div>\n",
              "  </div>\n"
            ],
            "application/vnd.google.colaboratory.intrinsic+json": {
              "type": "dataframe",
              "variable_name": "df"
            }
          },
          "metadata": {},
          "execution_count": 149
        }
      ]
    },
    {
      "cell_type": "code",
      "source": [
        "df.rename(columns={'an': 'Year', 'mois': 'Month', 'jour': 'Day', 'hrmn': 'Time', 'lum': 'Lighting',\n",
        "                   'dep': 'Department', 'com': 'Municipality', 'agg': 'Localisation', 'int': 'Intersection',\n",
        "                   'atm': 'Atmospheric conditions', 'col': 'Collision type', 'adr': 'Address'}, inplace=True)"
      ],
      "metadata": {
        "id": "5Gv5z2BPR3BR"
      },
      "execution_count": 150,
      "outputs": []
    },
    {
      "cell_type": "code",
      "source": [
        "df.head()"
      ],
      "metadata": {
        "colab": {
          "base_uri": "https://localhost:8080/",
          "height": 206
        },
        "id": "BR31OeGLV533",
        "outputId": "d45026a3-ef1f-4d4e-e5dd-355fada29756"
      },
      "execution_count": 151,
      "outputs": [
        {
          "output_type": "execute_result",
          "data": {
            "text/plain": [
              "        Num_Acc  Year  Month  Day  Time  Lighting  Localisation  Intersection  \\\n",
              "0  201600000001    16      2    1  1445         1             2             1   \n",
              "1  201600000002    16      3   16  1800         1             2             6   \n",
              "2  201600000003    16      7   13  1900         1             1             1   \n",
              "3  201600000004    16      8   15  1930         2             2             1   \n",
              "4  201600000005    16     12   23  1100         1             2             3   \n",
              "\n",
              "   Atmospheric conditions  Collision type  Municipality              Address  \\\n",
              "0                     8.0             3.0           5.0   46, rue Sonneville   \n",
              "1                     1.0             6.0           5.0  1a rue du cimetière   \n",
              "2                     1.0             6.0          11.0                  NaN   \n",
              "3                     7.0             3.0         477.0   52 rue victor hugo   \n",
              "4                     1.0             3.0          11.0     rue Joliot curie   \n",
              "\n",
              "  gps  lat long  Department  \n",
              "0   M  0.0  0.0         590  \n",
              "1   M  0.0  0.0         590  \n",
              "2   M  0.0  0.0         590  \n",
              "3   M  0.0  0.0         590  \n",
              "4   M  0.0  0.0         590  "
            ],
            "text/html": [
              "\n",
              "  <div id=\"df-40d1d28c-4b32-4415-8f80-592b32e49564\" class=\"colab-df-container\">\n",
              "    <div>\n",
              "<style scoped>\n",
              "    .dataframe tbody tr th:only-of-type {\n",
              "        vertical-align: middle;\n",
              "    }\n",
              "\n",
              "    .dataframe tbody tr th {\n",
              "        vertical-align: top;\n",
              "    }\n",
              "\n",
              "    .dataframe thead th {\n",
              "        text-align: right;\n",
              "    }\n",
              "</style>\n",
              "<table border=\"1\" class=\"dataframe\">\n",
              "  <thead>\n",
              "    <tr style=\"text-align: right;\">\n",
              "      <th></th>\n",
              "      <th>Num_Acc</th>\n",
              "      <th>Year</th>\n",
              "      <th>Month</th>\n",
              "      <th>Day</th>\n",
              "      <th>Time</th>\n",
              "      <th>Lighting</th>\n",
              "      <th>Localisation</th>\n",
              "      <th>Intersection</th>\n",
              "      <th>Atmospheric conditions</th>\n",
              "      <th>Collision type</th>\n",
              "      <th>Municipality</th>\n",
              "      <th>Address</th>\n",
              "      <th>gps</th>\n",
              "      <th>lat</th>\n",
              "      <th>long</th>\n",
              "      <th>Department</th>\n",
              "    </tr>\n",
              "  </thead>\n",
              "  <tbody>\n",
              "    <tr>\n",
              "      <th>0</th>\n",
              "      <td>201600000001</td>\n",
              "      <td>16</td>\n",
              "      <td>2</td>\n",
              "      <td>1</td>\n",
              "      <td>1445</td>\n",
              "      <td>1</td>\n",
              "      <td>2</td>\n",
              "      <td>1</td>\n",
              "      <td>8.0</td>\n",
              "      <td>3.0</td>\n",
              "      <td>5.0</td>\n",
              "      <td>46, rue Sonneville</td>\n",
              "      <td>M</td>\n",
              "      <td>0.0</td>\n",
              "      <td>0.0</td>\n",
              "      <td>590</td>\n",
              "    </tr>\n",
              "    <tr>\n",
              "      <th>1</th>\n",
              "      <td>201600000002</td>\n",
              "      <td>16</td>\n",
              "      <td>3</td>\n",
              "      <td>16</td>\n",
              "      <td>1800</td>\n",
              "      <td>1</td>\n",
              "      <td>2</td>\n",
              "      <td>6</td>\n",
              "      <td>1.0</td>\n",
              "      <td>6.0</td>\n",
              "      <td>5.0</td>\n",
              "      <td>1a rue du cimetière</td>\n",
              "      <td>M</td>\n",
              "      <td>0.0</td>\n",
              "      <td>0.0</td>\n",
              "      <td>590</td>\n",
              "    </tr>\n",
              "    <tr>\n",
              "      <th>2</th>\n",
              "      <td>201600000003</td>\n",
              "      <td>16</td>\n",
              "      <td>7</td>\n",
              "      <td>13</td>\n",
              "      <td>1900</td>\n",
              "      <td>1</td>\n",
              "      <td>1</td>\n",
              "      <td>1</td>\n",
              "      <td>1.0</td>\n",
              "      <td>6.0</td>\n",
              "      <td>11.0</td>\n",
              "      <td>NaN</td>\n",
              "      <td>M</td>\n",
              "      <td>0.0</td>\n",
              "      <td>0.0</td>\n",
              "      <td>590</td>\n",
              "    </tr>\n",
              "    <tr>\n",
              "      <th>3</th>\n",
              "      <td>201600000004</td>\n",
              "      <td>16</td>\n",
              "      <td>8</td>\n",
              "      <td>15</td>\n",
              "      <td>1930</td>\n",
              "      <td>2</td>\n",
              "      <td>2</td>\n",
              "      <td>1</td>\n",
              "      <td>7.0</td>\n",
              "      <td>3.0</td>\n",
              "      <td>477.0</td>\n",
              "      <td>52 rue victor hugo</td>\n",
              "      <td>M</td>\n",
              "      <td>0.0</td>\n",
              "      <td>0.0</td>\n",
              "      <td>590</td>\n",
              "    </tr>\n",
              "    <tr>\n",
              "      <th>4</th>\n",
              "      <td>201600000005</td>\n",
              "      <td>16</td>\n",
              "      <td>12</td>\n",
              "      <td>23</td>\n",
              "      <td>1100</td>\n",
              "      <td>1</td>\n",
              "      <td>2</td>\n",
              "      <td>3</td>\n",
              "      <td>1.0</td>\n",
              "      <td>3.0</td>\n",
              "      <td>11.0</td>\n",
              "      <td>rue Joliot curie</td>\n",
              "      <td>M</td>\n",
              "      <td>0.0</td>\n",
              "      <td>0.0</td>\n",
              "      <td>590</td>\n",
              "    </tr>\n",
              "  </tbody>\n",
              "</table>\n",
              "</div>\n",
              "    <div class=\"colab-df-buttons\">\n",
              "\n",
              "  <div class=\"colab-df-container\">\n",
              "    <button class=\"colab-df-convert\" onclick=\"convertToInteractive('df-40d1d28c-4b32-4415-8f80-592b32e49564')\"\n",
              "            title=\"Convert this dataframe to an interactive table.\"\n",
              "            style=\"display:none;\">\n",
              "\n",
              "  <svg xmlns=\"http://www.w3.org/2000/svg\" height=\"24px\" viewBox=\"0 -960 960 960\">\n",
              "    <path d=\"M120-120v-720h720v720H120Zm60-500h600v-160H180v160Zm220 220h160v-160H400v160Zm0 220h160v-160H400v160ZM180-400h160v-160H180v160Zm440 0h160v-160H620v160ZM180-180h160v-160H180v160Zm440 0h160v-160H620v160Z\"/>\n",
              "  </svg>\n",
              "    </button>\n",
              "\n",
              "  <style>\n",
              "    .colab-df-container {\n",
              "      display:flex;\n",
              "      gap: 12px;\n",
              "    }\n",
              "\n",
              "    .colab-df-convert {\n",
              "      background-color: #E8F0FE;\n",
              "      border: none;\n",
              "      border-radius: 50%;\n",
              "      cursor: pointer;\n",
              "      display: none;\n",
              "      fill: #1967D2;\n",
              "      height: 32px;\n",
              "      padding: 0 0 0 0;\n",
              "      width: 32px;\n",
              "    }\n",
              "\n",
              "    .colab-df-convert:hover {\n",
              "      background-color: #E2EBFA;\n",
              "      box-shadow: 0px 1px 2px rgba(60, 64, 67, 0.3), 0px 1px 3px 1px rgba(60, 64, 67, 0.15);\n",
              "      fill: #174EA6;\n",
              "    }\n",
              "\n",
              "    .colab-df-buttons div {\n",
              "      margin-bottom: 4px;\n",
              "    }\n",
              "\n",
              "    [theme=dark] .colab-df-convert {\n",
              "      background-color: #3B4455;\n",
              "      fill: #D2E3FC;\n",
              "    }\n",
              "\n",
              "    [theme=dark] .colab-df-convert:hover {\n",
              "      background-color: #434B5C;\n",
              "      box-shadow: 0px 1px 3px 1px rgba(0, 0, 0, 0.15);\n",
              "      filter: drop-shadow(0px 1px 2px rgba(0, 0, 0, 0.3));\n",
              "      fill: #FFFFFF;\n",
              "    }\n",
              "  </style>\n",
              "\n",
              "    <script>\n",
              "      const buttonEl =\n",
              "        document.querySelector('#df-40d1d28c-4b32-4415-8f80-592b32e49564 button.colab-df-convert');\n",
              "      buttonEl.style.display =\n",
              "        google.colab.kernel.accessAllowed ? 'block' : 'none';\n",
              "\n",
              "      async function convertToInteractive(key) {\n",
              "        const element = document.querySelector('#df-40d1d28c-4b32-4415-8f80-592b32e49564');\n",
              "        const dataTable =\n",
              "          await google.colab.kernel.invokeFunction('convertToInteractive',\n",
              "                                                    [key], {});\n",
              "        if (!dataTable) return;\n",
              "\n",
              "        const docLinkHtml = 'Like what you see? Visit the ' +\n",
              "          '<a target=\"_blank\" href=https://colab.research.google.com/notebooks/data_table.ipynb>data table notebook</a>'\n",
              "          + ' to learn more about interactive tables.';\n",
              "        element.innerHTML = '';\n",
              "        dataTable['output_type'] = 'display_data';\n",
              "        await google.colab.output.renderOutput(dataTable, element);\n",
              "        const docLink = document.createElement('div');\n",
              "        docLink.innerHTML = docLinkHtml;\n",
              "        element.appendChild(docLink);\n",
              "      }\n",
              "    </script>\n",
              "  </div>\n",
              "\n",
              "\n",
              "<div id=\"df-ae41a441-ab36-4f30-8f5f-de2770d7c712\">\n",
              "  <button class=\"colab-df-quickchart\" onclick=\"quickchart('df-ae41a441-ab36-4f30-8f5f-de2770d7c712')\"\n",
              "            title=\"Suggest charts\"\n",
              "            style=\"display:none;\">\n",
              "\n",
              "<svg xmlns=\"http://www.w3.org/2000/svg\" height=\"24px\"viewBox=\"0 0 24 24\"\n",
              "     width=\"24px\">\n",
              "    <g>\n",
              "        <path d=\"M19 3H5c-1.1 0-2 .9-2 2v14c0 1.1.9 2 2 2h14c1.1 0 2-.9 2-2V5c0-1.1-.9-2-2-2zM9 17H7v-7h2v7zm4 0h-2V7h2v10zm4 0h-2v-4h2v4z\"/>\n",
              "    </g>\n",
              "</svg>\n",
              "  </button>\n",
              "\n",
              "<style>\n",
              "  .colab-df-quickchart {\n",
              "      --bg-color: #E8F0FE;\n",
              "      --fill-color: #1967D2;\n",
              "      --hover-bg-color: #E2EBFA;\n",
              "      --hover-fill-color: #174EA6;\n",
              "      --disabled-fill-color: #AAA;\n",
              "      --disabled-bg-color: #DDD;\n",
              "  }\n",
              "\n",
              "  [theme=dark] .colab-df-quickchart {\n",
              "      --bg-color: #3B4455;\n",
              "      --fill-color: #D2E3FC;\n",
              "      --hover-bg-color: #434B5C;\n",
              "      --hover-fill-color: #FFFFFF;\n",
              "      --disabled-bg-color: #3B4455;\n",
              "      --disabled-fill-color: #666;\n",
              "  }\n",
              "\n",
              "  .colab-df-quickchart {\n",
              "    background-color: var(--bg-color);\n",
              "    border: none;\n",
              "    border-radius: 50%;\n",
              "    cursor: pointer;\n",
              "    display: none;\n",
              "    fill: var(--fill-color);\n",
              "    height: 32px;\n",
              "    padding: 0;\n",
              "    width: 32px;\n",
              "  }\n",
              "\n",
              "  .colab-df-quickchart:hover {\n",
              "    background-color: var(--hover-bg-color);\n",
              "    box-shadow: 0 1px 2px rgba(60, 64, 67, 0.3), 0 1px 3px 1px rgba(60, 64, 67, 0.15);\n",
              "    fill: var(--button-hover-fill-color);\n",
              "  }\n",
              "\n",
              "  .colab-df-quickchart-complete:disabled,\n",
              "  .colab-df-quickchart-complete:disabled:hover {\n",
              "    background-color: var(--disabled-bg-color);\n",
              "    fill: var(--disabled-fill-color);\n",
              "    box-shadow: none;\n",
              "  }\n",
              "\n",
              "  .colab-df-spinner {\n",
              "    border: 2px solid var(--fill-color);\n",
              "    border-color: transparent;\n",
              "    border-bottom-color: var(--fill-color);\n",
              "    animation:\n",
              "      spin 1s steps(1) infinite;\n",
              "  }\n",
              "\n",
              "  @keyframes spin {\n",
              "    0% {\n",
              "      border-color: transparent;\n",
              "      border-bottom-color: var(--fill-color);\n",
              "      border-left-color: var(--fill-color);\n",
              "    }\n",
              "    20% {\n",
              "      border-color: transparent;\n",
              "      border-left-color: var(--fill-color);\n",
              "      border-top-color: var(--fill-color);\n",
              "    }\n",
              "    30% {\n",
              "      border-color: transparent;\n",
              "      border-left-color: var(--fill-color);\n",
              "      border-top-color: var(--fill-color);\n",
              "      border-right-color: var(--fill-color);\n",
              "    }\n",
              "    40% {\n",
              "      border-color: transparent;\n",
              "      border-right-color: var(--fill-color);\n",
              "      border-top-color: var(--fill-color);\n",
              "    }\n",
              "    60% {\n",
              "      border-color: transparent;\n",
              "      border-right-color: var(--fill-color);\n",
              "    }\n",
              "    80% {\n",
              "      border-color: transparent;\n",
              "      border-right-color: var(--fill-color);\n",
              "      border-bottom-color: var(--fill-color);\n",
              "    }\n",
              "    90% {\n",
              "      border-color: transparent;\n",
              "      border-bottom-color: var(--fill-color);\n",
              "    }\n",
              "  }\n",
              "</style>\n",
              "\n",
              "  <script>\n",
              "    async function quickchart(key) {\n",
              "      const quickchartButtonEl =\n",
              "        document.querySelector('#' + key + ' button');\n",
              "      quickchartButtonEl.disabled = true;  // To prevent multiple clicks.\n",
              "      quickchartButtonEl.classList.add('colab-df-spinner');\n",
              "      try {\n",
              "        const charts = await google.colab.kernel.invokeFunction(\n",
              "            'suggestCharts', [key], {});\n",
              "      } catch (error) {\n",
              "        console.error('Error during call to suggestCharts:', error);\n",
              "      }\n",
              "      quickchartButtonEl.classList.remove('colab-df-spinner');\n",
              "      quickchartButtonEl.classList.add('colab-df-quickchart-complete');\n",
              "    }\n",
              "    (() => {\n",
              "      let quickchartButtonEl =\n",
              "        document.querySelector('#df-ae41a441-ab36-4f30-8f5f-de2770d7c712 button');\n",
              "      quickchartButtonEl.style.display =\n",
              "        google.colab.kernel.accessAllowed ? 'block' : 'none';\n",
              "    })();\n",
              "  </script>\n",
              "</div>\n",
              "    </div>\n",
              "  </div>\n"
            ],
            "application/vnd.google.colaboratory.intrinsic+json": {
              "type": "dataframe",
              "variable_name": "df"
            }
          },
          "metadata": {},
          "execution_count": 151
        }
      ]
    },
    {
      "cell_type": "markdown",
      "source": [
        "## Year\n",
        "\n"
      ],
      "metadata": {
        "id": "pfyTZtkFW7Xi"
      }
    },
    {
      "cell_type": "markdown",
      "source": [
        "Year of the accident"
      ],
      "metadata": {
        "id": "4QXTrvrCa0tz"
      }
    },
    {
      "cell_type": "code",
      "source": [
        "df['Year'].value_counts()"
      ],
      "metadata": {
        "colab": {
          "base_uri": "https://localhost:8080/"
        },
        "id": "jftFw9g8WH2J",
        "outputId": "ebd76d71-dd89-4f4a-dc57-500e54b8836a"
      },
      "execution_count": 152,
      "outputs": [
        {
          "output_type": "execute_result",
          "data": {
            "text/plain": [
              "Year\n",
              "5     87026\n",
              "7     83850\n",
              "6     82993\n",
              "8     76767\n",
              "9     74409\n",
              "10    69379\n",
              "11    66974\n",
              "12    62250\n",
              "14    59854\n",
              "16    59432\n",
              "15    58654\n",
              "13    58397\n",
              "Name: count, dtype: int64"
            ]
          },
          "metadata": {},
          "execution_count": 152
        }
      ]
    },
    {
      "cell_type": "code",
      "source": [
        "df['Year'].isna().sum()"
      ],
      "metadata": {
        "colab": {
          "base_uri": "https://localhost:8080/"
        },
        "id": "xnpsbv-2Z5hz",
        "outputId": "f455ea0b-6348-4c5f-c0ea-6c442b0eede4"
      },
      "execution_count": 153,
      "outputs": [
        {
          "output_type": "execute_result",
          "data": {
            "text/plain": [
              "0"
            ]
          },
          "metadata": {},
          "execution_count": 153
        }
      ]
    },
    {
      "cell_type": "markdown",
      "source": [
        "### !Important!\n",
        "\n",
        "Too much data, so the year 2005 and 2006 is deleted from the dataframe.\n",
        "\n",
        "These used outdated categories so the data we lost isn't very valuable anyway."
      ],
      "metadata": {
        "id": "30CrH5XsasS1"
      }
    },
    {
      "cell_type": "code",
      "source": [
        "df = df[df['Year'] > 6]"
      ],
      "metadata": {
        "id": "N6ud0PmLbMB0"
      },
      "execution_count": 154,
      "outputs": []
    },
    {
      "cell_type": "markdown",
      "source": [
        "## Month\n",
        "\n"
      ],
      "metadata": {
        "id": "o-AyKYfgXG_T"
      }
    },
    {
      "cell_type": "markdown",
      "source": [
        "Month of the accident"
      ],
      "metadata": {
        "id": "OmulveYBayys"
      }
    },
    {
      "cell_type": "code",
      "source": [
        "df['Month'].value_counts()"
      ],
      "metadata": {
        "colab": {
          "base_uri": "https://localhost:8080/"
        },
        "id": "7Ikb-9JCWEiC",
        "outputId": "74c55372-62cc-47ac-8643-6865059df37b"
      },
      "execution_count": 155,
      "outputs": [
        {
          "output_type": "execute_result",
          "data": {
            "text/plain": [
              "Month\n",
              "10    63685\n",
              "6     62027\n",
              "9     61571\n",
              "7     59371\n",
              "5     57650\n",
              "11    57442\n",
              "4     54332\n",
              "12    54290\n",
              "3     52816\n",
              "1     51212\n",
              "8     49848\n",
              "2     45722\n",
              "Name: count, dtype: int64"
            ]
          },
          "metadata": {},
          "execution_count": 155
        }
      ]
    },
    {
      "cell_type": "code",
      "source": [
        "df['Month'].isna().sum()"
      ],
      "metadata": {
        "colab": {
          "base_uri": "https://localhost:8080/"
        },
        "id": "iPFFgsZgWGp0",
        "outputId": "8780d92d-f525-4a83-ad93-de749cc82fa8"
      },
      "execution_count": 156,
      "outputs": [
        {
          "output_type": "execute_result",
          "data": {
            "text/plain": [
              "0"
            ]
          },
          "metadata": {},
          "execution_count": 156
        }
      ]
    },
    {
      "cell_type": "markdown",
      "source": [
        "## Day\n",
        "\n"
      ],
      "metadata": {
        "id": "1yBdtj5cXJUk"
      }
    },
    {
      "cell_type": "markdown",
      "source": [
        "Day of the accident"
      ],
      "metadata": {
        "id": "J2pl-sHCaw9N"
      }
    },
    {
      "cell_type": "code",
      "source": [
        "df['Day'].value_counts()"
      ],
      "metadata": {
        "colab": {
          "base_uri": "https://localhost:8080/"
        },
        "id": "iBNjDMeFWKTR",
        "outputId": "be74da09-3e1a-4856-e469-5b9fe281d8f5"
      },
      "execution_count": 157,
      "outputs": [
        {
          "output_type": "execute_result",
          "data": {
            "text/plain": [
              "Day\n",
              "6     23046\n",
              "10    23007\n",
              "12    22820\n",
              "7     22743\n",
              "5     22692\n",
              "9     22609\n",
              "8     22589\n",
              "16    22486\n",
              "15    22429\n",
              "4     22348\n",
              "19    22258\n",
              "11    22234\n",
              "14    22228\n",
              "21    22202\n",
              "3     22096\n",
              "17    22034\n",
              "13    21987\n",
              "18    21907\n",
              "23    21769\n",
              "2     21762\n",
              "20    21748\n",
              "22    21726\n",
              "28    21452\n",
              "24    21309\n",
              "27    21159\n",
              "26    21009\n",
              "1     20995\n",
              "25    20856\n",
              "30    20337\n",
              "29    20152\n",
              "31    11977\n",
              "Name: count, dtype: int64"
            ]
          },
          "metadata": {},
          "execution_count": 157
        }
      ]
    },
    {
      "cell_type": "code",
      "source": [
        "df['Day'].isna().sum()"
      ],
      "metadata": {
        "colab": {
          "base_uri": "https://localhost:8080/"
        },
        "id": "fIPzqiLxWL5o",
        "outputId": "925ec83e-5c56-4841-fc76-b707bb1cf88e"
      },
      "execution_count": 158,
      "outputs": [
        {
          "output_type": "execute_result",
          "data": {
            "text/plain": [
              "0"
            ]
          },
          "metadata": {},
          "execution_count": 158
        }
      ]
    },
    {
      "cell_type": "markdown",
      "source": [
        "## Holiday columns prep"
      ],
      "metadata": {
        "id": "bavxTVRtzdA_"
      }
    },
    {
      "cell_type": "code",
      "source": [
        "holiday_df = pd.read_csv('data/holidays.csv', encoding='latin1')"
      ],
      "metadata": {
        "id": "h_EgM4f9ziDv"
      },
      "execution_count": 159,
      "outputs": []
    },
    {
      "cell_type": "code",
      "source": [
        "holiday_df['holiday'].value_counts()"
      ],
      "metadata": {
        "colab": {
          "base_uri": "https://localhost:8080/"
        },
        "id": "it8LuykOzk65",
        "outputId": "b50770b5-751a-42f5-fbf1-fa117f261cab"
      },
      "execution_count": 160,
      "outputs": [
        {
          "output_type": "execute_result",
          "data": {
            "text/plain": [
              "holiday\n",
              "New year                        12\n",
              "Easter Monday                   12\n",
              "Labour Day                      12\n",
              "Ascension Thursday              12\n",
              "Victory in Europe Day           12\n",
              "Whit Monday                     12\n",
              "Bastille Day                    12\n",
              "Assumption of Mary to Heaven    12\n",
              "All Saints Day                  12\n",
              "Armistice Day                   12\n",
              "Christmas Day                   12\n",
              "Name: count, dtype: int64"
            ]
          },
          "metadata": {},
          "execution_count": 160
        }
      ]
    },
    {
      "cell_type": "code",
      "source": [
        "# Convert ds column in holidays_df to datetime\n",
        "holiday_df['ds'] = pd.to_datetime(holiday_df['ds'])\n",
        "\n",
        "for holiday in holiday_df['holiday'].unique():\n",
        "    df[holiday] = 0"
      ],
      "metadata": {
        "id": "vM0XsJQO2IT2"
      },
      "execution_count": 161,
      "outputs": []
    },
    {
      "cell_type": "code",
      "source": [
        "# Add 2000 to the 'Year' column\n",
        "df['Year'] += 2000\n",
        "df['Date'] = pd.to_datetime(df[['Year', 'Month', 'Day']])\n",
        "df['Holiday'] = 0"
      ],
      "metadata": {
        "id": "KhE75w3e2TLm"
      },
      "execution_count": 162,
      "outputs": []
    },
    {
      "cell_type": "code",
      "source": [
        "holiday_map = {row['ds']: row['holiday'] for _, row in holiday_df.iterrows()}\n",
        "\n",
        "for index, date in df['Date'].items():\n",
        "    if date in holiday_map:\n",
        "        holiday_name = holiday_map[date]\n",
        "        df.at[index, holiday_name] = 1\n",
        "        df.at[index, 'Holiday'] = 1"
      ],
      "metadata": {
        "id": "Xnx4Kmky2fQ2"
      },
      "execution_count": 163,
      "outputs": []
    },
    {
      "cell_type": "code",
      "source": [
        "df.drop(['Year', 'Month', 'Day'], axis=1, inplace=True)"
      ],
      "metadata": {
        "id": "On4UIKWi5vYN"
      },
      "execution_count": 164,
      "outputs": []
    },
    {
      "cell_type": "code",
      "source": [
        "df.columns"
      ],
      "metadata": {
        "colab": {
          "base_uri": "https://localhost:8080/"
        },
        "id": "x3DkYUwu6ghF",
        "outputId": "77cdb453-6ff6-4f2d-937c-e16f7eebd62d"
      },
      "execution_count": 165,
      "outputs": [
        {
          "output_type": "execute_result",
          "data": {
            "text/plain": [
              "Index(['Num_Acc', 'Time', 'Lighting', 'Localisation', 'Intersection',\n",
              "       'Atmospheric conditions', 'Collision type', 'Municipality', 'Address',\n",
              "       'gps', 'lat', 'long', 'Department', 'New year', 'Easter Monday',\n",
              "       'Labour Day', 'Ascension Thursday', 'Victory in Europe Day',\n",
              "       'Whit Monday', 'Bastille Day', 'Assumption of Mary to Heaven',\n",
              "       'All Saints Day', 'Armistice Day', 'Christmas Day', 'Date', 'Holiday'],\n",
              "      dtype='object')"
            ]
          },
          "metadata": {},
          "execution_count": 165
        }
      ]
    },
    {
      "cell_type": "markdown",
      "source": [
        "## Time\n",
        "\n"
      ],
      "metadata": {
        "id": "2HMSfo6lXLFS"
      }
    },
    {
      "cell_type": "markdown",
      "source": [
        "Time of the accident in hour and minutes (hhmm)"
      ],
      "metadata": {
        "id": "Hadu0c_Fau2T"
      }
    },
    {
      "cell_type": "code",
      "source": [
        "df['Time'].value_counts()"
      ],
      "metadata": {
        "colab": {
          "base_uri": "https://localhost:8080/"
        },
        "id": "D-MIeSWeWL1Q",
        "outputId": "c9388cdb-2bf9-4b77-b9e1-58f384eb9d86"
      },
      "execution_count": 166,
      "outputs": [
        {
          "output_type": "execute_result",
          "data": {
            "text/plain": [
              "Time\n",
              "1800    10369\n",
              "1730     9389\n",
              "1700     9186\n",
              "1830     9065\n",
              "1900     8208\n",
              "        ...  \n",
              "141         4\n",
              "441         4\n",
              "559         4\n",
              "322         3\n",
              "521         3\n",
              "Name: count, Length: 1439, dtype: int64"
            ]
          },
          "metadata": {},
          "execution_count": 166
        }
      ]
    },
    {
      "cell_type": "code",
      "source": [
        "df['Time'].isna().sum()"
      ],
      "metadata": {
        "colab": {
          "base_uri": "https://localhost:8080/"
        },
        "id": "FzhKwTVmWLwQ",
        "outputId": "0684529f-bf2e-4c4c-b2c2-b899f531ab22"
      },
      "execution_count": 167,
      "outputs": [
        {
          "output_type": "execute_result",
          "data": {
            "text/plain": [
              "0"
            ]
          },
          "metadata": {},
          "execution_count": 167
        }
      ]
    },
    {
      "cell_type": "markdown",
      "source": [
        "New category instead of time: **Time of day**\n",
        "\n",
        "1 - Night (11 pm to 4 am)\n",
        "\n",
        "2 - Dawn (4 am to 6 am)\n",
        "\n",
        "3 - Morning (6 am to noon)\n",
        "\n",
        "4 - Afternoon (noon to 6 pm)\n",
        "\n",
        "5 - Evening (6 pm to 11 pm)"
      ],
      "metadata": {
        "id": "BU-aRGpCDjaE"
      }
    },
    {
      "cell_type": "code",
      "source": [
        "def map_time(time):\n",
        "    if 2300 <= time < 400:\n",
        "        return 1  # Night\n",
        "    elif 400 <= time < 600:\n",
        "        return 2  # Dawn\n",
        "    elif 600 <= time < 1200:\n",
        "        return 3  # Morning\n",
        "    elif 1200 <= time < 1800:\n",
        "        return 4  # Afternoon\n",
        "    else:\n",
        "        return 5  # Evening\n",
        "\n",
        "df['Time_of_day'] = df['Time'].apply(map_time)\n",
        "df.drop(['Time'], axis=1, inplace=True)"
      ],
      "metadata": {
        "id": "VYsYDUuxCbBq"
      },
      "execution_count": 168,
      "outputs": []
    },
    {
      "cell_type": "markdown",
      "source": [
        "## Lighting"
      ],
      "metadata": {
        "id": "HS4mr5z1XNd0"
      }
    },
    {
      "cell_type": "markdown",
      "source": [
        "Lighting conditions in which the accident occurred\n",
        "\n",
        "1 - Full day\n",
        "\n",
        "2 - Twilight or dawn\n",
        "\n",
        "3 - Night without public lighting\n",
        "\n",
        "4 - Night with public lighting not lit\n",
        "\n",
        "5 - Night with public lighting on"
      ],
      "metadata": {
        "id": "oh8KwpGRaqaS"
      }
    },
    {
      "cell_type": "code",
      "source": [
        "df['Lighting'].value_counts()"
      ],
      "metadata": {
        "colab": {
          "base_uri": "https://localhost:8080/"
        },
        "id": "Xlmvll3EWLp5",
        "outputId": "983a4926-ee55-455b-b138-4b652371231d"
      },
      "execution_count": 169,
      "outputs": [
        {
          "output_type": "execute_result",
          "data": {
            "text/plain": [
              "Lighting\n",
              "1    460382\n",
              "5    112592\n",
              "3     51945\n",
              "2     39414\n",
              "4      5633\n",
              "Name: count, dtype: int64"
            ]
          },
          "metadata": {},
          "execution_count": 169
        }
      ]
    },
    {
      "cell_type": "code",
      "source": [
        "df['Lighting'].isna().sum()"
      ],
      "metadata": {
        "colab": {
          "base_uri": "https://localhost:8080/"
        },
        "id": "bQqCu4W5WLfp",
        "outputId": "54a7960e-0a0a-4c37-c72e-2f141c699523"
      },
      "execution_count": 170,
      "outputs": [
        {
          "output_type": "execute_result",
          "data": {
            "text/plain": [
              "0"
            ]
          },
          "metadata": {},
          "execution_count": 170
        }
      ]
    },
    {
      "cell_type": "markdown",
      "source": [
        "### NEW ORDER\n",
        "\n",
        "Light 1-5, 1 being well lit, 5 being no light!\n",
        "\n",
        "1 - Full day\n",
        "\n",
        "2 - Night with public lighting on\n",
        "\n",
        "3 - Twilight or dawn\n",
        "\n",
        "4 - Night with public lighting not lit\n",
        "\n",
        "5 - Night without public lighting"
      ],
      "metadata": {
        "id": "aGsxAuWf7dsR"
      }
    },
    {
      "cell_type": "code",
      "source": [
        "mapping = {\n",
        "    2: 3, # Twilight or dawn is nr 3 instead of 2\n",
        "    3: 5, # Night without public lighting is nr 5 instead of 3\n",
        "    5: 2  # Night with public lighting on is nr 2 instead of 5\n",
        "}\n",
        "\n",
        "df['Lighting'] = df['Lighting'].replace(mapping)"
      ],
      "metadata": {
        "id": "ESgXwJZG9GCF"
      },
      "execution_count": 171,
      "outputs": []
    },
    {
      "cell_type": "code",
      "source": [
        "df['Lighting'].value_counts()"
      ],
      "metadata": {
        "colab": {
          "base_uri": "https://localhost:8080/"
        },
        "id": "VTGA0ezK-KyU",
        "outputId": "368eb33f-44e7-4eb5-e044-aaf8e9d2bf36"
      },
      "execution_count": 172,
      "outputs": [
        {
          "output_type": "execute_result",
          "data": {
            "text/plain": [
              "Lighting\n",
              "1    460382\n",
              "2    112592\n",
              "5     51945\n",
              "3     39414\n",
              "4      5633\n",
              "Name: count, dtype: int64"
            ]
          },
          "metadata": {},
          "execution_count": 172
        }
      ]
    },
    {
      "cell_type": "markdown",
      "source": [
        "## Localisation & Address\n"
      ],
      "metadata": {
        "id": "HnlqhcIKXPsZ"
      }
    },
    {
      "cell_type": "markdown",
      "source": [
        "**Localisation**\n",
        "\n",
        "1 - Out of agglomeration\n",
        "\n",
        "2 - In built-up areas"
      ],
      "metadata": {
        "id": "10yXBxeVajt0"
      }
    },
    {
      "cell_type": "code",
      "source": [
        "df['Localisation'].value_counts()"
      ],
      "metadata": {
        "colab": {
          "base_uri": "https://localhost:8080/"
        },
        "id": "5FptVR2-WP-S",
        "outputId": "8c1e83d3-77d1-4ea3-aadb-35aad4b66788"
      },
      "execution_count": 173,
      "outputs": [
        {
          "output_type": "execute_result",
          "data": {
            "text/plain": [
              "Localisation\n",
              "2    459158\n",
              "1    210808\n",
              "Name: count, dtype: int64"
            ]
          },
          "metadata": {},
          "execution_count": 173
        }
      ]
    },
    {
      "cell_type": "code",
      "source": [
        "df['Localisation'].isna().sum()"
      ],
      "metadata": {
        "colab": {
          "base_uri": "https://localhost:8080/"
        },
        "id": "LXV1yqRMb0KD",
        "outputId": "05b7b26d-8fc5-4607-d2b6-3ebe79a6ef90"
      },
      "execution_count": 174,
      "outputs": [
        {
          "output_type": "execute_result",
          "data": {
            "text/plain": [
              "0"
            ]
          },
          "metadata": {},
          "execution_count": 174
        }
      ]
    },
    {
      "cell_type": "markdown",
      "source": [
        "**Address**\n",
        "\n",
        "Postal address: variable filled in for accidents occurring in built-up areas"
      ],
      "metadata": {
        "id": "QipMRInqbwmc"
      }
    },
    {
      "cell_type": "code",
      "source": [
        "df['Address'].value_counts()"
      ],
      "metadata": {
        "colab": {
          "base_uri": "https://localhost:8080/"
        },
        "id": "8iRdT3WPWSeI",
        "outputId": "8600beaf-5175-44e7-81a5-b7dcc120f923"
      },
      "execution_count": 175,
      "outputs": [
        {
          "output_type": "execute_result",
          "data": {
            "text/plain": [
              "Address\n",
              "AUTOROUTE A1                2259\n",
              "AUTOROUTE A86               2078\n",
              "A13                         1936\n",
              "A4                          1871\n",
              "AUTOROUTE A6                1675\n",
              "                            ... \n",
              "43, RUE DE LIEGE               1\n",
              "21, RUE GERANDO                1\n",
              "23, RUE SAULNIER               1\n",
              "61, RUE DE MAUBEUGE            1\n",
              "12, VIGOUREUX(RUE VICTOR       1\n",
              "Name: count, Length: 297268, dtype: int64"
            ]
          },
          "metadata": {},
          "execution_count": 175
        }
      ]
    },
    {
      "cell_type": "code",
      "source": [
        "df['Address'].isna().sum()"
      ],
      "metadata": {
        "colab": {
          "base_uri": "https://localhost:8080/"
        },
        "id": "OFhQqKp-b0cE",
        "outputId": "f74ec001-795b-46b7-ecf0-3fb5d506dae4"
      },
      "execution_count": 176,
      "outputs": [
        {
          "output_type": "execute_result",
          "data": {
            "text/plain": [
              "112622"
            ]
          },
          "metadata": {},
          "execution_count": 176
        }
      ]
    },
    {
      "cell_type": "markdown",
      "source": [
        "Address row is useless"
      ],
      "metadata": {
        "id": "hLc3Qzon-y0M"
      }
    },
    {
      "cell_type": "code",
      "source": [
        "df.drop('Address', axis=1, inplace=True)"
      ],
      "metadata": {
        "id": "cgykFfQEc5t5"
      },
      "execution_count": 177,
      "outputs": []
    },
    {
      "cell_type": "markdown",
      "source": [
        "## Intersection"
      ],
      "metadata": {
        "id": "NWCgGNv1XRiy"
      }
    },
    {
      "cell_type": "markdown",
      "source": [
        "Type of Intersection:\n",
        "\n",
        "1 - Out of intersection\n",
        "\n",
        "2 - Intersection in X\n",
        "\n",
        "3 - Intersection in T\n",
        "\n",
        "4 - Intersection in Y\n",
        "\n",
        "5 - Intersection with more than 4 branches\n",
        "\n",
        "6 - Giratory\n",
        "\n",
        "7 - Place\n",
        "\n",
        "8 - Level crossing\n",
        "\n",
        "9 - Other intersection"
      ],
      "metadata": {
        "id": "ug_rOndFbGog"
      }
    },
    {
      "cell_type": "code",
      "source": [
        "df['Intersection'].value_counts()"
      ],
      "metadata": {
        "colab": {
          "base_uri": "https://localhost:8080/"
        },
        "id": "fNDruWDxWScB",
        "outputId": "cec6c74c-0ac9-4b19-eb5a-53d937a56aa6"
      },
      "execution_count": 178,
      "outputs": [
        {
          "output_type": "execute_result",
          "data": {
            "text/plain": [
              "Intersection\n",
              "1    476217\n",
              "2     81866\n",
              "3     58772\n",
              "6     18954\n",
              "9      9713\n",
              "4      9419\n",
              "5      8612\n",
              "7      5573\n",
              "8       743\n",
              "0        97\n",
              "Name: count, dtype: int64"
            ]
          },
          "metadata": {},
          "execution_count": 178
        }
      ]
    },
    {
      "cell_type": "code",
      "source": [
        "df['Intersection'].isna().sum()"
      ],
      "metadata": {
        "colab": {
          "base_uri": "https://localhost:8080/"
        },
        "id": "ZRYv1SvHWSZp",
        "outputId": "ab22bcf4-5d5e-458e-eef0-4c21b1b96822"
      },
      "execution_count": 179,
      "outputs": [
        {
          "output_type": "execute_result",
          "data": {
            "text/plain": [
              "0"
            ]
          },
          "metadata": {},
          "execution_count": 179
        }
      ]
    },
    {
      "cell_type": "markdown",
      "source": [
        "Not useful data"
      ],
      "metadata": {
        "id": "6OJo6_wQmDzG"
      }
    },
    {
      "cell_type": "code",
      "source": [
        "df.drop('Intersection', axis=1, inplace=True)"
      ],
      "metadata": {
        "id": "7oLDdUpJmCac"
      },
      "execution_count": 180,
      "outputs": []
    },
    {
      "cell_type": "markdown",
      "source": [
        "## Atmospheric conditions"
      ],
      "metadata": {
        "id": "Md1GHPgbXUPQ"
      }
    },
    {
      "cell_type": "markdown",
      "source": [
        "Atmospheric conditions:\n",
        "\n",
        "1 - Normal\n",
        "\n",
        "2 - Light rain\n",
        "\n",
        "3 - Heavy rain\n",
        "\n",
        "4 - Snow - hail\n",
        "\n",
        "5 - Fog - smoke\n",
        "\n",
        "6 - Strong wind - storm\n",
        "\n",
        "7 - Dazzling weather\n",
        "\n",
        "8 - Cloudy weather\n",
        "\n",
        "9 - Other"
      ],
      "metadata": {
        "id": "vUdeNcSRbLVZ"
      }
    },
    {
      "cell_type": "code",
      "source": [
        "df['Atmospheric conditions'].value_counts()"
      ],
      "metadata": {
        "colab": {
          "base_uri": "https://localhost:8080/"
        },
        "id": "Hzt14fuyWSRS",
        "outputId": "3c3d5bda-fbfe-4b29-a674-1c07cb55f947"
      },
      "execution_count": 181,
      "outputs": [
        {
          "output_type": "execute_result",
          "data": {
            "text/plain": [
              "Atmospheric conditions\n",
              "1.0    541365\n",
              "2.0     71084\n",
              "8.0     21552\n",
              "3.0     15082\n",
              "7.0      6466\n",
              "9.0      4866\n",
              "5.0      4150\n",
              "4.0      3741\n",
              "6.0      1605\n",
              "Name: count, dtype: int64"
            ]
          },
          "metadata": {},
          "execution_count": 181
        }
      ]
    },
    {
      "cell_type": "code",
      "source": [
        "df['Atmospheric conditions'].isna().sum()"
      ],
      "metadata": {
        "colab": {
          "base_uri": "https://localhost:8080/"
        },
        "id": "YZGgwX8yWSKI",
        "outputId": "644c7afb-dbc2-468d-c6e5-cde47a2992c8"
      },
      "execution_count": 182,
      "outputs": [
        {
          "output_type": "execute_result",
          "data": {
            "text/plain": [
              "55"
            ]
          },
          "metadata": {},
          "execution_count": 182
        }
      ]
    },
    {
      "cell_type": "code",
      "source": [
        "fill_with_most_common(df, 'Atmospheric conditions')"
      ],
      "metadata": {
        "id": "RYAVtTq7BEWs"
      },
      "execution_count": 183,
      "outputs": []
    },
    {
      "cell_type": "markdown",
      "source": [
        "## Collision type"
      ],
      "metadata": {
        "id": "IN439DjqXVJJ"
      }
    },
    {
      "cell_type": "markdown",
      "source": [
        "Type of collision:\n",
        "\n",
        "1 - Two vehicles - frontal\n",
        "\n",
        "2 - Two vehicles - from the rear\n",
        "\n",
        "3 - Two vehicles - by the side\n",
        "\n",
        "4 - Three vehicles and more - in chain\n",
        "\n",
        "5 - Three or more vehicles - multiple collisions\n",
        "\n",
        "6 - Other collision\n",
        "\n",
        "7 - Without collision"
      ],
      "metadata": {
        "id": "WG0Ht8iJbOrL"
      }
    },
    {
      "cell_type": "code",
      "source": [
        "df['Collision type'].value_counts()"
      ],
      "metadata": {
        "colab": {
          "base_uri": "https://localhost:8080/"
        },
        "id": "2rrHkerOWXdp",
        "outputId": "c38fef92-1bda-4c59-cc76-2b1db287e883"
      },
      "execution_count": 184,
      "outputs": [
        {
          "output_type": "execute_result",
          "data": {
            "text/plain": [
              "Collision type\n",
              "6.0    222679\n",
              "3.0    191873\n",
              "2.0     78372\n",
              "7.0     70179\n",
              "1.0     65198\n",
              "5.0     21110\n",
              "4.0     20544\n",
              "Name: count, dtype: int64"
            ]
          },
          "metadata": {},
          "execution_count": 184
        }
      ]
    },
    {
      "cell_type": "code",
      "source": [
        "df['Collision type'].isna().sum()"
      ],
      "metadata": {
        "colab": {
          "base_uri": "https://localhost:8080/"
        },
        "id": "xaFTn5JdWXZw",
        "outputId": "7381ffd6-688e-46c3-c72b-2ef4aa59710c"
      },
      "execution_count": 185,
      "outputs": [
        {
          "output_type": "execute_result",
          "data": {
            "text/plain": [
              "11"
            ]
          },
          "metadata": {},
          "execution_count": 185
        }
      ]
    },
    {
      "cell_type": "code",
      "source": [
        "fill_with_most_common(df, 'Collision type')"
      ],
      "metadata": {
        "id": "QMAkXo3mA_Zc"
      },
      "execution_count": 186,
      "outputs": []
    },
    {
      "cell_type": "markdown",
      "source": [
        "## Municipality\n",
        "\n",
        "The commune number is a code given by INSEE. The code has 3 numbers set to the right."
      ],
      "metadata": {
        "id": "JfqDGtp5XWwg"
      }
    },
    {
      "cell_type": "code",
      "source": [
        "df['Municipality'].value_counts()"
      ],
      "metadata": {
        "colab": {
          "base_uri": "https://localhost:8080/"
        },
        "id": "2lwK6gvRWXXF",
        "outputId": "5e8de611-cd42-4646-d7bb-bde9218eda9e"
      },
      "execution_count": 187,
      "outputs": [
        {
          "output_type": "execute_result",
          "data": {
            "text/plain": [
              "Municipality\n",
              "55.0     25399\n",
              "88.0     10419\n",
              "113.0     8699\n",
              "63.0      8263\n",
              "7.0       8253\n",
              "         ...  \n",
              "768.0        1\n",
              "790.0        1\n",
              "828.0        1\n",
              "816.0        1\n",
              "916.0        1\n",
              "Name: count, Length: 914, dtype: int64"
            ]
          },
          "metadata": {},
          "execution_count": 187
        }
      ]
    },
    {
      "cell_type": "code",
      "source": [
        "df['Municipality'].isna().sum()"
      ],
      "metadata": {
        "colab": {
          "base_uri": "https://localhost:8080/"
        },
        "id": "32EMmrD4Wp7J",
        "outputId": "dccc52e1-0b44-4e6e-8307-4e405280c09b"
      },
      "execution_count": 188,
      "outputs": [
        {
          "output_type": "execute_result",
          "data": {
            "text/plain": [
              "0"
            ]
          },
          "metadata": {},
          "execution_count": 188
        }
      ]
    },
    {
      "cell_type": "code",
      "source": [
        "fill_with_most_common(df, 'Municipality')"
      ],
      "metadata": {
        "id": "zfKDrA_cAFO2"
      },
      "execution_count": 189,
      "outputs": []
    },
    {
      "cell_type": "markdown",
      "source": [
        "## Department\n",
        "\n"
      ],
      "metadata": {
        "id": "aDpwQKfFXXhQ"
      }
    },
    {
      "cell_type": "markdown",
      "source": [
        "INSEE Code (National Institute of Statistics and Economic Studies) of the departmeent followed by a 0 (201 Corse-du-Sud - 202 Haute-Corse)"
      ],
      "metadata": {
        "id": "TTVYz0AIbVP7"
      }
    },
    {
      "cell_type": "code",
      "source": [
        "df['Department'].value_counts()"
      ],
      "metadata": {
        "colab": {
          "base_uri": "https://localhost:8080/"
        },
        "id": "5TbUEgETWxpx",
        "outputId": "5a427cc3-dd33-4827-f32c-ccd683bab78b"
      },
      "execution_count": 190,
      "outputs": [
        {
          "output_type": "execute_result",
          "data": {
            "text/plain": [
              "Department\n",
              "750    72162\n",
              "130    41979\n",
              "930    28194\n",
              "920    26411\n",
              "940    24864\n",
              "       ...  \n",
              "90       967\n",
              "150      813\n",
              "230      717\n",
              "480      711\n",
              "976      542\n",
              "Name: count, Length: 101, dtype: int64"
            ]
          },
          "metadata": {},
          "execution_count": 190
        }
      ]
    },
    {
      "cell_type": "code",
      "source": [
        "df['Department'].isna().sum()"
      ],
      "metadata": {
        "colab": {
          "base_uri": "https://localhost:8080/"
        },
        "id": "qJ4l82-cWxjx",
        "outputId": "71619d84-ff3d-4da5-feb4-702fbbdfa985"
      },
      "execution_count": 191,
      "outputs": [
        {
          "output_type": "execute_result",
          "data": {
            "text/plain": [
              "0"
            ]
          },
          "metadata": {},
          "execution_count": 191
        }
      ]
    },
    {
      "cell_type": "markdown",
      "source": [
        "Regions:\n",
        "\n",
        "1. Auvergne-Rhône-Alpes\n",
        "2. Bourgogne-Franche-Comté\n",
        "3. Brittany\n",
        "4. Centre-Val de Loire\n",
        "5. Corsica\n",
        "6. French Guiana\n",
        "7. Grand Est\n",
        "8. Guadeloupe\n",
        "9. Hauts-de-France\n",
        "10. Île-de-France\n",
        "11. Martinique\n",
        "12. Mayotte\n",
        "13. Normandy\n",
        "14. Nouvelle-Aquitaine\n",
        "15. Occitanie\n",
        "16. Pays de la Loire\n",
        "17. Provence-Alpes-Côte d'Azur\n",
        "18. Réunion"
      ],
      "metadata": {
        "id": "nWXEmx5FnIz2"
      }
    },
    {
      "cell_type": "code",
      "source": [
        "mapping = {\n",
        "    10: \"Auvergne-Rhône-Alpes\", 30: \"Auvergne-Rhône-Alpes\", 70: \"Auvergne-Rhône-Alpes\", 150: \"Auvergne-Rhône-Alpes\",\n",
        "    260: \"Auvergne-Rhône-Alpes\", 380: \"Auvergne-Rhône-Alpes\", 420: \"Auvergne-Rhône-Alpes\", 430: \"Auvergne-Rhône-Alpes\",\n",
        "    630: \"Auvergne-Rhône-Alpes\", 690: \"Auvergne-Rhône-Alpes\", 730: \"Auvergne-Rhône-Alpes\",\n",
        "    740: \"Auvergne-Rhône-Alpes\", 210: \"Bourgogne-Franche-Comté\", 250: \"Bourgogne-Franche-Comté\", 390: \"Bourgogne-Franche-Comté\",\n",
        "    580: \"Bourgogne-Franche-Comté\", 700: \"Bourgogne-Franche-Comté\", 710: \"Bourgogne-Franche-Comté\", 890: \"Bourgogne-Franche-Comté\",\n",
        "    900: \"Bourgogne-Franche-Comté\", 220: \"Brittany\", 290: \"Brittany\", 350: \"Brittany\", 560: \"Brittany\",\n",
        "    180: \"Centre-Val de Loire\", 280: \"Centre-Val de Loire\", 360: \"Centre-Val de Loire\", 370: \"Centre-Val de Loire\",\n",
        "    410: \"Centre-Val de Loire\", 450: \"Centre-Val de Loire\", 20: \"Corsica\", 201: \"Corsica\", 202: \"Corsica\", 973: \"French Guiana\",\n",
        "    80: \"Grand Est\", 100: \"Grand Est\", 510: \"Grand Est\", 520: \"Grand Est\", 540: \"Grand Est\",\n",
        "    550: \"Grand Est\", 570: \"Grand Est\", 670: \"Grand Est\", 680: \"Grand Est\", 880: \"Grand Est\",\n",
        "    971: \"Guadeloupe\", 20: \"Hauts-de-France\", 590: \"Hauts-de-France\", 600: \"Hauts-de-France\", 620: \"Hauts-de-France\",\n",
        "    800: \"Hauts-de-France\", 750: \"Île-de-France\", 770: \"Île-de-France\", 780: \"Île-de-France\",\n",
        "    910: \"Île-de-France\", 920: \"Île-de-France\", 930: \"Île-de-France\", 940: \"Île-de-France\",\n",
        "    950: \"Île-de-France\", 972: \"Martinique\", 976: \"Mayotte\", 140: \"Normandy\", 270: \"Normandy\",\n",
        "    500: \"Normandy\", 610: \"Normandy\", 760: \"Normandy\", 160: \"Nouvelle-Aquitaine\", 170: \"Nouvelle-Aquitaine\",\n",
        "    190: \"Nouvelle-Aquitaine\", 230: \"Nouvelle-Aquitaine\", 240: \"Nouvelle-Aquitaine\", 330: \"Nouvelle-Aquitaine\",\n",
        "    400: \"Nouvelle-Aquitaine\", 470: \"Nouvelle-Aquitaine\", 640: \"Nouvelle-Aquitaine\", 790: \"Nouvelle-Aquitaine\",\n",
        "    860: \"Nouvelle-Aquitaine\", 870: \"Nouvelle-Aquitaine\", 90: \"Occitanie\", 110: \"Occitanie\", 120: \"Occitanie\",\n",
        "    300: \"Occitanie\", 310: \"Occitanie\", 320: \"Occitanie\", 340: \"Occitanie\", 460: \"Occitanie\",\n",
        "    480: \"Occitanie\", 650: \"Occitanie\", 660: \"Occitanie\", 810: \"Occitanie\", 820: \"Occitanie\",\n",
        "    440: \"Pays de la Loire\", 490: \"Pays de la Loire\", 530: \"Pays de la Loire\", 720: \"Pays de la Loire\",\n",
        "    850: \"Pays de la Loire\", 40: \"Provence-Alpes-Côte d'Azur\", 50: \"Provence-Alpes-Côte d'Azur\",\n",
        "    60: \"Provence-Alpes-Côte d'Azur\", 130: \"Provence-Alpes-Côte d'Azur\", 830: \"Provence-Alpes-Côte d'Azur\",\n",
        "    840: \"Provence-Alpes-Côte d'Azur\", 974: \"Réunion\"\n",
        "}\n",
        "\n",
        "reverse_mapping = {\n",
        "    \"Auvergne-Rhône-Alpes\": 1, \"Bourgogne-Franche-Comté\": 2, \"Brittany\": 3,\n",
        "    \"Centre-Val de Loire\": 4, \"Corsica\": 5, \"French Guiana\": 6, \"Grand Est\": 7,\n",
        "    \"Guadeloupe\": 8, \"Hauts-de-France\": 9, \"Île-de-France\": 10, \"Martinique\": 11,\n",
        "    \"Mayotte\": 12, \"Normandy\": 13, \"Nouvelle-Aquitaine\": 14, \"Occitanie\": 15,\n",
        "    \"Pays de la Loire\": 16, \"Provence-Alpes-Côte d'Azur\": 17, \"Réunion\": 18\n",
        "}\n",
        "\n",
        "df['Regions'] = df['Department'].map(mapping)"
      ],
      "metadata": {
        "id": "RgyuZ4rEmuHV"
      },
      "execution_count": 192,
      "outputs": []
    },
    {
      "cell_type": "code",
      "source": [
        "df['Regions'].value_counts()"
      ],
      "metadata": {
        "colab": {
          "base_uri": "https://localhost:8080/"
        },
        "id": "2rZicvWduvFO",
        "outputId": "1662a644-0a8f-4139-f689-2ee3899b5770"
      },
      "execution_count": 193,
      "outputs": [
        {
          "output_type": "execute_result",
          "data": {
            "text/plain": [
              "Regions\n",
              "Île-de-France                 197019\n",
              "Provence-Alpes-Côte d'Azur     80117\n",
              "Auvergne-Rhône-Alpes           64425\n",
              "Nouvelle-Aquitaine             58084\n",
              "Occitanie                      48887\n",
              "Hauts-de-France                39775\n",
              "Grand Est                      38444\n",
              "Brittany                       25385\n",
              "Pays de la Loire               25331\n",
              "Normandy                       23730\n",
              "Centre-Val de Loire            23043\n",
              "Bourgogne-Franche-Comté        20340\n",
              "Réunion                         7076\n",
              "Corsica                         5371\n",
              "Martinique                      4521\n",
              "Guadeloupe                      4089\n",
              "French Guiana                   3787\n",
              "Mayotte                          542\n",
              "Name: count, dtype: int64"
            ]
          },
          "metadata": {},
          "execution_count": 193
        }
      ]
    },
    {
      "cell_type": "code",
      "source": [
        "df['Regions'] = df['Regions'].map(reverse_mapping)"
      ],
      "metadata": {
        "id": "cf-M6FlvvJYX"
      },
      "execution_count": 194,
      "outputs": []
    },
    {
      "cell_type": "code",
      "source": [
        "df['Regions'].value_counts()"
      ],
      "metadata": {
        "colab": {
          "base_uri": "https://localhost:8080/"
        },
        "id": "3K5Xe9QHyNpo",
        "outputId": "b6c880ba-10aa-447c-a78a-0111881ec0f6"
      },
      "execution_count": 195,
      "outputs": [
        {
          "output_type": "execute_result",
          "data": {
            "text/plain": [
              "Regions\n",
              "10    197019\n",
              "17     80117\n",
              "1      64425\n",
              "14     58084\n",
              "15     48887\n",
              "9      39775\n",
              "7      38444\n",
              "3      25385\n",
              "16     25331\n",
              "13     23730\n",
              "4      23043\n",
              "2      20340\n",
              "18      7076\n",
              "5       5371\n",
              "11      4521\n",
              "8       4089\n",
              "6       3787\n",
              "12       542\n",
              "Name: count, dtype: int64"
            ]
          },
          "metadata": {},
          "execution_count": 195
        }
      ]
    },
    {
      "cell_type": "code",
      "source": [
        "df['Regions'].isna().sum()"
      ],
      "metadata": {
        "colab": {
          "base_uri": "https://localhost:8080/"
        },
        "id": "ZcFgrL-ZyO3S",
        "outputId": "52912bb6-f354-40e1-c9f3-ac31e8160332"
      },
      "execution_count": 196,
      "outputs": [
        {
          "output_type": "execute_result",
          "data": {
            "text/plain": [
              "0"
            ]
          },
          "metadata": {},
          "execution_count": 196
        }
      ]
    },
    {
      "cell_type": "markdown",
      "source": [
        "## gps"
      ],
      "metadata": {
        "id": "Li7QvJMIXZhA"
      }
    },
    {
      "cell_type": "markdown",
      "source": [
        "**GPS coding: 1 originator character:**\n",
        "\n",
        "M = Métropole\n",
        "\n",
        "A = Antilles (Martinique or Guadeloupe)\n",
        "\n",
        "G = Guyane\n",
        "\n",
        "R = Réunion\n",
        "\n",
        "Y = Mayotte"
      ],
      "metadata": {
        "id": "d2pw74SZfc7z"
      }
    },
    {
      "cell_type": "code",
      "source": [
        "df['gps'].value_counts()"
      ],
      "metadata": {
        "colab": {
          "base_uri": "https://localhost:8080/"
        },
        "id": "koFgdIlaWp3B",
        "outputId": "85bcd9e1-f6f4-448a-ca91-83a4146819ea"
      },
      "execution_count": 197,
      "outputs": [
        {
          "output_type": "execute_result",
          "data": {
            "text/plain": [
              "gps\n",
              "M    303169\n",
              "A      5625\n",
              "R      3631\n",
              "G      2096\n",
              "Y       329\n",
              "S         4\n",
              "T         2\n",
              "C         2\n",
              "P         1\n",
              "Name: count, dtype: int64"
            ]
          },
          "metadata": {},
          "execution_count": 197
        }
      ]
    },
    {
      "cell_type": "code",
      "source": [
        "df['gps'].isna().sum()"
      ],
      "metadata": {
        "colab": {
          "base_uri": "https://localhost:8080/"
        },
        "id": "gb82koB5WpvS",
        "outputId": "2d9984c7-986f-48a9-ed98-08217f233e00"
      },
      "execution_count": 198,
      "outputs": [
        {
          "output_type": "execute_result",
          "data": {
            "text/plain": [
              "355107"
            ]
          },
          "metadata": {},
          "execution_count": 198
        }
      ]
    },
    {
      "cell_type": "code",
      "source": [
        "df.drop('gps', axis=1, inplace=True)"
      ],
      "metadata": {
        "id": "2kAvPbN9CAlG"
      },
      "execution_count": 199,
      "outputs": []
    },
    {
      "cell_type": "markdown",
      "source": [
        "## Lon & Lat"
      ],
      "metadata": {
        "id": "Ys5lzZhlXafA"
      }
    },
    {
      "cell_type": "code",
      "source": [
        "df['long'].value_counts()"
      ],
      "metadata": {
        "colab": {
          "base_uri": "https://localhost:8080/"
        },
        "id": "LZR2NEVuWpkx",
        "outputId": "91278224-b2d4-4b3b-cae3-1779c8f6cfc7"
      },
      "execution_count": 200,
      "outputs": [
        {
          "output_type": "execute_result",
          "data": {
            "text/plain": [
              "long\n",
              "0.0          75509\n",
              "0            32301\n",
              "-             3209\n",
              "345699.0       143\n",
              "247391.0        41\n",
              "             ...  \n",
              "728009.0         1\n",
              "732241.0         1\n",
              "734638.0         1\n",
              "737333.0         1\n",
              "6127000.0        1\n",
              "Name: count, Length: 141007, dtype: int64"
            ]
          },
          "metadata": {},
          "execution_count": 200
        }
      ]
    },
    {
      "cell_type": "code",
      "source": [
        "df['long'].isna().sum()"
      ],
      "metadata": {
        "colab": {
          "base_uri": "https://localhost:8080/"
        },
        "id": "ehWHxLICbtT7",
        "outputId": "3fb60a30-037d-41b1-c82a-dedca81e967d"
      },
      "execution_count": 201,
      "outputs": [
        {
          "output_type": "execute_result",
          "data": {
            "text/plain": [
              "358702"
            ]
          },
          "metadata": {},
          "execution_count": 201
        }
      ]
    },
    {
      "cell_type": "code",
      "source": [
        "df['lat'].value_counts()"
      ],
      "metadata": {
        "colab": {
          "base_uri": "https://localhost:8080/"
        },
        "id": "Hfi8GwWRgSEz",
        "outputId": "44c1ca91-2460-4138-dd40-82420bce2ef9"
      },
      "execution_count": 202,
      "outputs": [
        {
          "output_type": "execute_result",
          "data": {
            "text/plain": [
              "lat\n",
              "0.0          88006\n",
              "4.0          22481\n",
              "5.0            406\n",
              "4881740.0       60\n",
              "4881750.0       57\n",
              "             ...  \n",
              "4518368.0        1\n",
              "4516557.0        1\n",
              "4517062.0        1\n",
              "4559408.0        1\n",
              "1626700.0        1\n",
              "Name: count, Length: 112073, dtype: int64"
            ]
          },
          "metadata": {},
          "execution_count": 202
        }
      ]
    },
    {
      "cell_type": "code",
      "source": [
        "df['lat'].isna().sum()"
      ],
      "metadata": {
        "colab": {
          "base_uri": "https://localhost:8080/"
        },
        "id": "nNVZBb2AgShi",
        "outputId": "386e8743-fe90-483f-a8b5-cf50f5497fdc"
      },
      "execution_count": 203,
      "outputs": [
        {
          "output_type": "execute_result",
          "data": {
            "text/plain": [
              "358698"
            ]
          },
          "metadata": {},
          "execution_count": 203
        }
      ]
    },
    {
      "cell_type": "code",
      "source": [
        "print('Correct long coordinates:')\n",
        "df.shape[0]-df['long'].isna().sum() - len(df[df['long'] == 0.0]) - len(df[df['long'] == '0']) - len(df[df['long'] == '-'])"
      ],
      "metadata": {
        "colab": {
          "base_uri": "https://localhost:8080/"
        },
        "id": "pmQTM1e2gz4K",
        "outputId": "da2bed81-3c34-4a69-c56d-4774272f1aa2"
      },
      "execution_count": 204,
      "outputs": [
        {
          "output_type": "stream",
          "name": "stdout",
          "text": [
            "Correct long coordinates:\n"
          ]
        },
        {
          "output_type": "execute_result",
          "data": {
            "text/plain": [
              "200245"
            ]
          },
          "metadata": {},
          "execution_count": 204
        }
      ]
    },
    {
      "cell_type": "code",
      "source": [
        "print('Correct lat coordinates:')\n",
        "df.shape[0]-df['lat'].isna().sum() - len(df[df['lat'] == 0.0])"
      ],
      "metadata": {
        "colab": {
          "base_uri": "https://localhost:8080/"
        },
        "id": "GV5vd5SahjlK",
        "outputId": "7a71d476-6a57-44e9-d7d5-383a50ba8862"
      },
      "execution_count": 205,
      "outputs": [
        {
          "output_type": "stream",
          "name": "stdout",
          "text": [
            "Correct lat coordinates:\n"
          ]
        },
        {
          "output_type": "execute_result",
          "data": {
            "text/plain": [
              "223262"
            ]
          },
          "metadata": {},
          "execution_count": 205
        }
      ]
    },
    {
      "cell_type": "code",
      "source": [
        "df.drop('long', axis=1, inplace=True)\n",
        "df.drop('lat', axis=1, inplace=True)"
      ],
      "metadata": {
        "id": "LRNQKpjFCMb8"
      },
      "execution_count": 206,
      "outputs": []
    },
    {
      "cell_type": "markdown",
      "source": [
        "## Holidays\n",
        "\n",
        "I don't think we should keep if the event was on a specific holiday. We should only store if it was a holiday or not."
      ],
      "metadata": {
        "id": "NBgWfweIFKeD"
      }
    },
    {
      "cell_type": "code",
      "source": [
        "cols = list(df.columns)\n",
        "cols[7:18]"
      ],
      "metadata": {
        "colab": {
          "base_uri": "https://localhost:8080/"
        },
        "id": "ZhUkZABfFMSZ",
        "outputId": "7cfb2a6d-eafa-4e33-d257-532513501efd"
      },
      "execution_count": 209,
      "outputs": [
        {
          "output_type": "execute_result",
          "data": {
            "text/plain": [
              "['New year',\n",
              " 'Easter Monday',\n",
              " 'Labour Day',\n",
              " 'Ascension Thursday',\n",
              " 'Victory in Europe Day',\n",
              " 'Whit Monday',\n",
              " 'Bastille Day',\n",
              " 'Assumption of Mary to Heaven',\n",
              " 'All Saints Day',\n",
              " 'Armistice Day',\n",
              " 'Christmas Day']"
            ]
          },
          "metadata": {},
          "execution_count": 209
        }
      ]
    },
    {
      "cell_type": "code",
      "source": [
        "df.drop(cols[7:18], axis=1, inplace=True)"
      ],
      "metadata": {
        "id": "rk54iqYTFshZ"
      },
      "execution_count": 210,
      "outputs": []
    },
    {
      "cell_type": "markdown",
      "source": [
        "# Result"
      ],
      "metadata": {
        "id": "sGJV5qQTCRPm"
      }
    },
    {
      "cell_type": "code",
      "source": [
        "df.head()"
      ],
      "metadata": {
        "colab": {
          "base_uri": "https://localhost:8080/",
          "height": 206
        },
        "id": "nbdtJVrdCQor",
        "outputId": "5d81ba6d-0629-40e0-e0db-21b02b9f9ff7"
      },
      "execution_count": 211,
      "outputs": [
        {
          "output_type": "execute_result",
          "data": {
            "text/plain": [
              "        Num_Acc  Lighting  Localisation  Atmospheric conditions  \\\n",
              "0  201600000001         1             2                     8.0   \n",
              "1  201600000002         1             2                     1.0   \n",
              "2  201600000003         1             1                     1.0   \n",
              "3  201600000004         3             2                     7.0   \n",
              "4  201600000005         1             2                     1.0   \n",
              "\n",
              "   Collision type  Municipality  Department       Date  Holiday  Time_of_day  \\\n",
              "0             3.0           5.0         590 2016-02-01        0            4   \n",
              "1             6.0           5.0         590 2016-03-16        0            5   \n",
              "2             6.0          11.0         590 2016-07-13        0            5   \n",
              "3             3.0         477.0         590 2016-08-15        1            5   \n",
              "4             3.0          11.0         590 2016-12-23        0            3   \n",
              "\n",
              "   Regions  \n",
              "0        9  \n",
              "1        9  \n",
              "2        9  \n",
              "3        9  \n",
              "4        9  "
            ],
            "text/html": [
              "\n",
              "  <div id=\"df-1fb87ae7-db9f-4852-a4f0-b673a8cfff31\" class=\"colab-df-container\">\n",
              "    <div>\n",
              "<style scoped>\n",
              "    .dataframe tbody tr th:only-of-type {\n",
              "        vertical-align: middle;\n",
              "    }\n",
              "\n",
              "    .dataframe tbody tr th {\n",
              "        vertical-align: top;\n",
              "    }\n",
              "\n",
              "    .dataframe thead th {\n",
              "        text-align: right;\n",
              "    }\n",
              "</style>\n",
              "<table border=\"1\" class=\"dataframe\">\n",
              "  <thead>\n",
              "    <tr style=\"text-align: right;\">\n",
              "      <th></th>\n",
              "      <th>Num_Acc</th>\n",
              "      <th>Lighting</th>\n",
              "      <th>Localisation</th>\n",
              "      <th>Atmospheric conditions</th>\n",
              "      <th>Collision type</th>\n",
              "      <th>Municipality</th>\n",
              "      <th>Department</th>\n",
              "      <th>Date</th>\n",
              "      <th>Holiday</th>\n",
              "      <th>Time_of_day</th>\n",
              "      <th>Regions</th>\n",
              "    </tr>\n",
              "  </thead>\n",
              "  <tbody>\n",
              "    <tr>\n",
              "      <th>0</th>\n",
              "      <td>201600000001</td>\n",
              "      <td>1</td>\n",
              "      <td>2</td>\n",
              "      <td>8.0</td>\n",
              "      <td>3.0</td>\n",
              "      <td>5.0</td>\n",
              "      <td>590</td>\n",
              "      <td>2016-02-01</td>\n",
              "      <td>0</td>\n",
              "      <td>4</td>\n",
              "      <td>9</td>\n",
              "    </tr>\n",
              "    <tr>\n",
              "      <th>1</th>\n",
              "      <td>201600000002</td>\n",
              "      <td>1</td>\n",
              "      <td>2</td>\n",
              "      <td>1.0</td>\n",
              "      <td>6.0</td>\n",
              "      <td>5.0</td>\n",
              "      <td>590</td>\n",
              "      <td>2016-03-16</td>\n",
              "      <td>0</td>\n",
              "      <td>5</td>\n",
              "      <td>9</td>\n",
              "    </tr>\n",
              "    <tr>\n",
              "      <th>2</th>\n",
              "      <td>201600000003</td>\n",
              "      <td>1</td>\n",
              "      <td>1</td>\n",
              "      <td>1.0</td>\n",
              "      <td>6.0</td>\n",
              "      <td>11.0</td>\n",
              "      <td>590</td>\n",
              "      <td>2016-07-13</td>\n",
              "      <td>0</td>\n",
              "      <td>5</td>\n",
              "      <td>9</td>\n",
              "    </tr>\n",
              "    <tr>\n",
              "      <th>3</th>\n",
              "      <td>201600000004</td>\n",
              "      <td>3</td>\n",
              "      <td>2</td>\n",
              "      <td>7.0</td>\n",
              "      <td>3.0</td>\n",
              "      <td>477.0</td>\n",
              "      <td>590</td>\n",
              "      <td>2016-08-15</td>\n",
              "      <td>1</td>\n",
              "      <td>5</td>\n",
              "      <td>9</td>\n",
              "    </tr>\n",
              "    <tr>\n",
              "      <th>4</th>\n",
              "      <td>201600000005</td>\n",
              "      <td>1</td>\n",
              "      <td>2</td>\n",
              "      <td>1.0</td>\n",
              "      <td>3.0</td>\n",
              "      <td>11.0</td>\n",
              "      <td>590</td>\n",
              "      <td>2016-12-23</td>\n",
              "      <td>0</td>\n",
              "      <td>3</td>\n",
              "      <td>9</td>\n",
              "    </tr>\n",
              "  </tbody>\n",
              "</table>\n",
              "</div>\n",
              "    <div class=\"colab-df-buttons\">\n",
              "\n",
              "  <div class=\"colab-df-container\">\n",
              "    <button class=\"colab-df-convert\" onclick=\"convertToInteractive('df-1fb87ae7-db9f-4852-a4f0-b673a8cfff31')\"\n",
              "            title=\"Convert this dataframe to an interactive table.\"\n",
              "            style=\"display:none;\">\n",
              "\n",
              "  <svg xmlns=\"http://www.w3.org/2000/svg\" height=\"24px\" viewBox=\"0 -960 960 960\">\n",
              "    <path d=\"M120-120v-720h720v720H120Zm60-500h600v-160H180v160Zm220 220h160v-160H400v160Zm0 220h160v-160H400v160ZM180-400h160v-160H180v160Zm440 0h160v-160H620v160ZM180-180h160v-160H180v160Zm440 0h160v-160H620v160Z\"/>\n",
              "  </svg>\n",
              "    </button>\n",
              "\n",
              "  <style>\n",
              "    .colab-df-container {\n",
              "      display:flex;\n",
              "      gap: 12px;\n",
              "    }\n",
              "\n",
              "    .colab-df-convert {\n",
              "      background-color: #E8F0FE;\n",
              "      border: none;\n",
              "      border-radius: 50%;\n",
              "      cursor: pointer;\n",
              "      display: none;\n",
              "      fill: #1967D2;\n",
              "      height: 32px;\n",
              "      padding: 0 0 0 0;\n",
              "      width: 32px;\n",
              "    }\n",
              "\n",
              "    .colab-df-convert:hover {\n",
              "      background-color: #E2EBFA;\n",
              "      box-shadow: 0px 1px 2px rgba(60, 64, 67, 0.3), 0px 1px 3px 1px rgba(60, 64, 67, 0.15);\n",
              "      fill: #174EA6;\n",
              "    }\n",
              "\n",
              "    .colab-df-buttons div {\n",
              "      margin-bottom: 4px;\n",
              "    }\n",
              "\n",
              "    [theme=dark] .colab-df-convert {\n",
              "      background-color: #3B4455;\n",
              "      fill: #D2E3FC;\n",
              "    }\n",
              "\n",
              "    [theme=dark] .colab-df-convert:hover {\n",
              "      background-color: #434B5C;\n",
              "      box-shadow: 0px 1px 3px 1px rgba(0, 0, 0, 0.15);\n",
              "      filter: drop-shadow(0px 1px 2px rgba(0, 0, 0, 0.3));\n",
              "      fill: #FFFFFF;\n",
              "    }\n",
              "  </style>\n",
              "\n",
              "    <script>\n",
              "      const buttonEl =\n",
              "        document.querySelector('#df-1fb87ae7-db9f-4852-a4f0-b673a8cfff31 button.colab-df-convert');\n",
              "      buttonEl.style.display =\n",
              "        google.colab.kernel.accessAllowed ? 'block' : 'none';\n",
              "\n",
              "      async function convertToInteractive(key) {\n",
              "        const element = document.querySelector('#df-1fb87ae7-db9f-4852-a4f0-b673a8cfff31');\n",
              "        const dataTable =\n",
              "          await google.colab.kernel.invokeFunction('convertToInteractive',\n",
              "                                                    [key], {});\n",
              "        if (!dataTable) return;\n",
              "\n",
              "        const docLinkHtml = 'Like what you see? Visit the ' +\n",
              "          '<a target=\"_blank\" href=https://colab.research.google.com/notebooks/data_table.ipynb>data table notebook</a>'\n",
              "          + ' to learn more about interactive tables.';\n",
              "        element.innerHTML = '';\n",
              "        dataTable['output_type'] = 'display_data';\n",
              "        await google.colab.output.renderOutput(dataTable, element);\n",
              "        const docLink = document.createElement('div');\n",
              "        docLink.innerHTML = docLinkHtml;\n",
              "        element.appendChild(docLink);\n",
              "      }\n",
              "    </script>\n",
              "  </div>\n",
              "\n",
              "\n",
              "<div id=\"df-01184747-39a6-4527-8441-697d5040bb90\">\n",
              "  <button class=\"colab-df-quickchart\" onclick=\"quickchart('df-01184747-39a6-4527-8441-697d5040bb90')\"\n",
              "            title=\"Suggest charts\"\n",
              "            style=\"display:none;\">\n",
              "\n",
              "<svg xmlns=\"http://www.w3.org/2000/svg\" height=\"24px\"viewBox=\"0 0 24 24\"\n",
              "     width=\"24px\">\n",
              "    <g>\n",
              "        <path d=\"M19 3H5c-1.1 0-2 .9-2 2v14c0 1.1.9 2 2 2h14c1.1 0 2-.9 2-2V5c0-1.1-.9-2-2-2zM9 17H7v-7h2v7zm4 0h-2V7h2v10zm4 0h-2v-4h2v4z\"/>\n",
              "    </g>\n",
              "</svg>\n",
              "  </button>\n",
              "\n",
              "<style>\n",
              "  .colab-df-quickchart {\n",
              "      --bg-color: #E8F0FE;\n",
              "      --fill-color: #1967D2;\n",
              "      --hover-bg-color: #E2EBFA;\n",
              "      --hover-fill-color: #174EA6;\n",
              "      --disabled-fill-color: #AAA;\n",
              "      --disabled-bg-color: #DDD;\n",
              "  }\n",
              "\n",
              "  [theme=dark] .colab-df-quickchart {\n",
              "      --bg-color: #3B4455;\n",
              "      --fill-color: #D2E3FC;\n",
              "      --hover-bg-color: #434B5C;\n",
              "      --hover-fill-color: #FFFFFF;\n",
              "      --disabled-bg-color: #3B4455;\n",
              "      --disabled-fill-color: #666;\n",
              "  }\n",
              "\n",
              "  .colab-df-quickchart {\n",
              "    background-color: var(--bg-color);\n",
              "    border: none;\n",
              "    border-radius: 50%;\n",
              "    cursor: pointer;\n",
              "    display: none;\n",
              "    fill: var(--fill-color);\n",
              "    height: 32px;\n",
              "    padding: 0;\n",
              "    width: 32px;\n",
              "  }\n",
              "\n",
              "  .colab-df-quickchart:hover {\n",
              "    background-color: var(--hover-bg-color);\n",
              "    box-shadow: 0 1px 2px rgba(60, 64, 67, 0.3), 0 1px 3px 1px rgba(60, 64, 67, 0.15);\n",
              "    fill: var(--button-hover-fill-color);\n",
              "  }\n",
              "\n",
              "  .colab-df-quickchart-complete:disabled,\n",
              "  .colab-df-quickchart-complete:disabled:hover {\n",
              "    background-color: var(--disabled-bg-color);\n",
              "    fill: var(--disabled-fill-color);\n",
              "    box-shadow: none;\n",
              "  }\n",
              "\n",
              "  .colab-df-spinner {\n",
              "    border: 2px solid var(--fill-color);\n",
              "    border-color: transparent;\n",
              "    border-bottom-color: var(--fill-color);\n",
              "    animation:\n",
              "      spin 1s steps(1) infinite;\n",
              "  }\n",
              "\n",
              "  @keyframes spin {\n",
              "    0% {\n",
              "      border-color: transparent;\n",
              "      border-bottom-color: var(--fill-color);\n",
              "      border-left-color: var(--fill-color);\n",
              "    }\n",
              "    20% {\n",
              "      border-color: transparent;\n",
              "      border-left-color: var(--fill-color);\n",
              "      border-top-color: var(--fill-color);\n",
              "    }\n",
              "    30% {\n",
              "      border-color: transparent;\n",
              "      border-left-color: var(--fill-color);\n",
              "      border-top-color: var(--fill-color);\n",
              "      border-right-color: var(--fill-color);\n",
              "    }\n",
              "    40% {\n",
              "      border-color: transparent;\n",
              "      border-right-color: var(--fill-color);\n",
              "      border-top-color: var(--fill-color);\n",
              "    }\n",
              "    60% {\n",
              "      border-color: transparent;\n",
              "      border-right-color: var(--fill-color);\n",
              "    }\n",
              "    80% {\n",
              "      border-color: transparent;\n",
              "      border-right-color: var(--fill-color);\n",
              "      border-bottom-color: var(--fill-color);\n",
              "    }\n",
              "    90% {\n",
              "      border-color: transparent;\n",
              "      border-bottom-color: var(--fill-color);\n",
              "    }\n",
              "  }\n",
              "</style>\n",
              "\n",
              "  <script>\n",
              "    async function quickchart(key) {\n",
              "      const quickchartButtonEl =\n",
              "        document.querySelector('#' + key + ' button');\n",
              "      quickchartButtonEl.disabled = true;  // To prevent multiple clicks.\n",
              "      quickchartButtonEl.classList.add('colab-df-spinner');\n",
              "      try {\n",
              "        const charts = await google.colab.kernel.invokeFunction(\n",
              "            'suggestCharts', [key], {});\n",
              "      } catch (error) {\n",
              "        console.error('Error during call to suggestCharts:', error);\n",
              "      }\n",
              "      quickchartButtonEl.classList.remove('colab-df-spinner');\n",
              "      quickchartButtonEl.classList.add('colab-df-quickchart-complete');\n",
              "    }\n",
              "    (() => {\n",
              "      let quickchartButtonEl =\n",
              "        document.querySelector('#df-01184747-39a6-4527-8441-697d5040bb90 button');\n",
              "      quickchartButtonEl.style.display =\n",
              "        google.colab.kernel.accessAllowed ? 'block' : 'none';\n",
              "    })();\n",
              "  </script>\n",
              "</div>\n",
              "    </div>\n",
              "  </div>\n"
            ],
            "application/vnd.google.colaboratory.intrinsic+json": {
              "type": "dataframe",
              "variable_name": "df"
            }
          },
          "metadata": {},
          "execution_count": 211
        }
      ]
    },
    {
      "cell_type": "code",
      "source": [
        "df.to_csv('data/characteristics_prepped.csv', index=False)"
      ],
      "metadata": {
        "id": "vkQMdgP0CoRL"
      },
      "execution_count": 212,
      "outputs": []
    },
    {
      "cell_type": "markdown",
      "source": [
        "### Correlation"
      ],
      "metadata": {
        "id": "l4UCcCPpK9lZ"
      }
    },
    {
      "cell_type": "code",
      "source": [
        "cols = list(df.columns)\n",
        "cols = cols[1:5] + cols[7:]\n",
        "cols"
      ],
      "metadata": {
        "id": "ZjuD7JZbK_53",
        "colab": {
          "base_uri": "https://localhost:8080/"
        },
        "outputId": "64de1413-234d-4f01-bad0-b7273245e248"
      },
      "execution_count": 216,
      "outputs": [
        {
          "output_type": "execute_result",
          "data": {
            "text/plain": [
              "['Lighting',\n",
              " 'Localisation',\n",
              " 'Atmospheric conditions',\n",
              " 'Collision type',\n",
              " 'Date',\n",
              " 'Holiday',\n",
              " 'Time_of_day',\n",
              " 'Regions']"
            ]
          },
          "metadata": {},
          "execution_count": 216
        }
      ]
    },
    {
      "cell_type": "code",
      "source": [
        "corr = df[cols].corr(method=cramersv, numeric_only=False)\n",
        "sns.heatmap(corr, square=True, annot=True)"
      ],
      "metadata": {
        "colab": {
          "base_uri": "https://localhost:8080/",
          "height": 601
        },
        "id": "TgJFgZ-vNJHH",
        "outputId": "25433da8-dcd6-4597-d191-c9d165b5a6f7"
      },
      "execution_count": 217,
      "outputs": [
        {
          "output_type": "execute_result",
          "data": {
            "text/plain": [
              "<Axes: >"
            ]
          },
          "metadata": {},
          "execution_count": 217
        },
        {
          "output_type": "display_data",
          "data": {
            "text/plain": [
              "<Figure size 640x480 with 2 Axes>"
            ],
            "image/png": "[encoded data removed]"
          },
          "metadata": {}
        }
      ]
    },
    {
      "cell_type": "code",
      "source": [
        "df.shape"
      ],
      "metadata": {
        "colab": {
          "base_uri": "https://localhost:8080/"
        },
        "id": "Z9nvAwFcNyc3",
        "outputId": "51f84b9a-ca6a-43c1-8c9a-17c17a51b2d9"
      },
      "execution_count": 218,
      "outputs": [
        {
          "output_type": "execute_result",
          "data": {
            "text/plain": [
              "(669966, 11)"
            ]
          },
          "metadata": {},
          "execution_count": 218
        }
      ]
    },
    {
      "cell_type": "markdown",
      "source": [
        "# Notes\n",
        "\n",
        "## Bad news\n",
        "\n",
        "- **Municipality** or 'Commune number' is not really usable. Not sure what extra info could it give us, other than the place specificly. Commune number is to be used with Department to identify the specific commune. Usually needed to identify a certain address.\n",
        "\n",
        "- **Address:** Very specific. A LOT of different addresses. I don't think we need this column\n",
        "\n",
        "- **Department:** Practically postal code. Maybe keep only this, so we have a rough idea where it is, but commune number is too detailed in my opinion.\n",
        "\n",
        "- **gps:** Missing for half of the data. Not sure what to fill the null values with (maybe add a placeholder category for the null values or yeet the column to the trash)\n",
        "\n",
        "- **lon-lat:** About 230 000 are filled out correctly. Less then a quarter of the database. Coordinates should be yeeted in my opinion. Or at least normalized, and a placeholder value for the null/incorrect ones.\n",
        "\n",
        "\n",
        "## Time\n",
        "\n",
        "Maybe we should make an additional column which contains (yymmdd) number. Then maybe we could embed this continuity in the data itself. I would still keep month and day because they are useful for determining holidays, or to recognise spikes within the year.\n",
        "\n",
        "## Categoric parameters\n",
        "\n",
        "I would introduce dummy columns for most of the categoric data (except if it has something to do with space/time/continuity that can be expressed using numbers.\n"
      ],
      "metadata": {
        "id": "s3aeaQFyd2WU"
      }
    }
  ]
}