{
  "nbformat": 4,
  "nbformat_minor": 0,
  "metadata": {
    "colab": {
      "provenance": []
    },
    "kernelspec": {
      "name": "python3",
      "display_name": "Python 3"
    },
    "language_info": {
      "name": "python"
    }
  },
  "cells": [
    {
      "cell_type": "markdown",
      "source": [
        "# Characteristics"
      ],
      "metadata": {
        "id": "S3BS7uxawQHe"
      }
    },
    {
      "cell_type": "code",
      "execution_count": 22,
      "metadata": {
        "id": "vRcin-4QJ9hD"
      },
      "outputs": [],
      "source": [
        "import pandas as pd\n",
        "from sklearn.metrics.cluster import contingency_matrix\n",
        "from scipy.stats.contingency import association\n",
        "import seaborn as sns"
      ]
    },
    {
      "cell_type": "code",
      "source": [
        "def cramersv(a, b):\n",
        "    return association(contingency_matrix(a, b))"
      ],
      "metadata": {
        "id": "yM51tEi-K4bP"
      },
      "execution_count": 23,
      "outputs": []
    },
    {
      "cell_type": "code",
      "source": [
        "df = pd.read_csv('data/caracteristics.csv', encoding='latin1')"
      ],
      "metadata": {
        "colab": {
          "base_uri": "https://localhost:8080/"
        },
        "id": "9DFksgo3M5DT",
        "outputId": "6f3e8eef-7593-47c8-909c-0d80cb23c402"
      },
      "execution_count": 24,
      "outputs": [
        {
          "output_type": "stream",
          "name": "stderr",
          "text": [
            "<ipython-input-24-9b4bedd28ad2>:1: DtypeWarning: Columns (14) have mixed types. Specify dtype option on import or set low_memory=False.\n",
            "  df = pd.read_csv('data/caracteristics.csv', encoding='latin1')\n"
          ]
        }
      ]
    },
    {
      "cell_type": "code",
      "source": [
        "def fill_with_most_common(df, column_name):\n",
        "  most_common_value = df[column_name].mode()[0]\n",
        "  df[column_name].fillna(most_common_value, inplace=True)"
      ],
      "metadata": {
        "id": "6F5plP19AyO5"
      },
      "execution_count": 25,
      "outputs": []
    },
    {
      "cell_type": "code",
      "source": [
        "df.head()"
      ],
      "metadata": {
        "colab": {
          "base_uri": "https://localhost:8080/",
          "height": 206
        },
        "id": "APjkr6bQQT8t",
        "outputId": "f3386463-2f17-496c-90bf-230aabc1520b"
      },
      "execution_count": 26,
      "outputs": [
        {
          "output_type": "execute_result",
          "data": {
            "text/plain": [
              "        Num_Acc  an  mois  jour  hrmn  lum  agg  int  atm  col    com  \\\n",
              "0  201600000001  16     2     1  1445    1    2    1  8.0  3.0    5.0   \n",
              "1  201600000002  16     3    16  1800    1    2    6  1.0  6.0    5.0   \n",
              "2  201600000003  16     7    13  1900    1    1    1  1.0  6.0   11.0   \n",
              "3  201600000004  16     8    15  1930    2    2    1  7.0  3.0  477.0   \n",
              "4  201600000005  16    12    23  1100    1    2    3  1.0  3.0   11.0   \n",
              "\n",
              "                   adr gps  lat long  dep  \n",
              "0   46, rue Sonneville   M  0.0  0.0  590  \n",
              "1  1a rue du cimetière   M  0.0  0.0  590  \n",
              "2                  NaN   M  0.0  0.0  590  \n",
              "3   52 rue victor hugo   M  0.0  0.0  590  \n",
              "4     rue Joliot curie   M  0.0  0.0  590  "
            ],
            "text/html": [
              "\n",
              "  <div id=\"df-b8ee1fd3-9620-4032-87c6-2330dff0d5dc\" class=\"colab-df-container\">\n",
              "    <div>\n",
              "<style scoped>\n",
              "    .dataframe tbody tr th:only-of-type {\n",
              "        vertical-align: middle;\n",
              "    }\n",
              "\n",
              "    .dataframe tbody tr th {\n",
              "        vertical-align: top;\n",
              "    }\n",
              "\n",
              "    .dataframe thead th {\n",
              "        text-align: right;\n",
              "    }\n",
              "</style>\n",
              "<table border=\"1\" class=\"dataframe\">\n",
              "  <thead>\n",
              "    <tr style=\"text-align: right;\">\n",
              "      <th></th>\n",
              "      <th>Num_Acc</th>\n",
              "      <th>an</th>\n",
              "      <th>mois</th>\n",
              "      <th>jour</th>\n",
              "      <th>hrmn</th>\n",
              "      <th>lum</th>\n",
              "      <th>agg</th>\n",
              "      <th>int</th>\n",
              "      <th>atm</th>\n",
              "      <th>col</th>\n",
              "      <th>com</th>\n",
              "      <th>adr</th>\n",
              "      <th>gps</th>\n",
              "      <th>lat</th>\n",
              "      <th>long</th>\n",
              "      <th>dep</th>\n",
              "    </tr>\n",
              "  </thead>\n",
              "  <tbody>\n",
              "    <tr>\n",
              "      <th>0</th>\n",
              "      <td>201600000001</td>\n",
              "      <td>16</td>\n",
              "      <td>2</td>\n",
              "      <td>1</td>\n",
              "      <td>1445</td>\n",
              "      <td>1</td>\n",
              "      <td>2</td>\n",
              "      <td>1</td>\n",
              "      <td>8.0</td>\n",
              "      <td>3.0</td>\n",
              "      <td>5.0</td>\n",
              "      <td>46, rue Sonneville</td>\n",
              "      <td>M</td>\n",
              "      <td>0.0</td>\n",
              "      <td>0.0</td>\n",
              "      <td>590</td>\n",
              "    </tr>\n",
              "    <tr>\n",
              "      <th>1</th>\n",
              "      <td>201600000002</td>\n",
              "      <td>16</td>\n",
              "      <td>3</td>\n",
              "      <td>16</td>\n",
              "      <td>1800</td>\n",
              "      <td>1</td>\n",
              "      <td>2</td>\n",
              "      <td>6</td>\n",
              "      <td>1.0</td>\n",
              "      <td>6.0</td>\n",
              "      <td>5.0</td>\n",
              "      <td>1a rue du cimetière</td>\n",
              "      <td>M</td>\n",
              "      <td>0.0</td>\n",
              "      <td>0.0</td>\n",
              "      <td>590</td>\n",
              "    </tr>\n",
              "    <tr>\n",
              "      <th>2</th>\n",
              "      <td>201600000003</td>\n",
              "      <td>16</td>\n",
              "      <td>7</td>\n",
              "      <td>13</td>\n",
              "      <td>1900</td>\n",
              "      <td>1</td>\n",
              "      <td>1</td>\n",
              "      <td>1</td>\n",
              "      <td>1.0</td>\n",
              "      <td>6.0</td>\n",
              "      <td>11.0</td>\n",
              "      <td>NaN</td>\n",
              "      <td>M</td>\n",
              "      <td>0.0</td>\n",
              "      <td>0.0</td>\n",
              "      <td>590</td>\n",
              "    </tr>\n",
              "    <tr>\n",
              "      <th>3</th>\n",
              "      <td>201600000004</td>\n",
              "      <td>16</td>\n",
              "      <td>8</td>\n",
              "      <td>15</td>\n",
              "      <td>1930</td>\n",
              "      <td>2</td>\n",
              "      <td>2</td>\n",
              "      <td>1</td>\n",
              "      <td>7.0</td>\n",
              "      <td>3.0</td>\n",
              "      <td>477.0</td>\n",
              "      <td>52 rue victor hugo</td>\n",
              "      <td>M</td>\n",
              "      <td>0.0</td>\n",
              "      <td>0.0</td>\n",
              "      <td>590</td>\n",
              "    </tr>\n",
              "    <tr>\n",
              "      <th>4</th>\n",
              "      <td>201600000005</td>\n",
              "      <td>16</td>\n",
              "      <td>12</td>\n",
              "      <td>23</td>\n",
              "      <td>1100</td>\n",
              "      <td>1</td>\n",
              "      <td>2</td>\n",
              "      <td>3</td>\n",
              "      <td>1.0</td>\n",
              "      <td>3.0</td>\n",
              "      <td>11.0</td>\n",
              "      <td>rue Joliot curie</td>\n",
              "      <td>M</td>\n",
              "      <td>0.0</td>\n",
              "      <td>0.0</td>\n",
              "      <td>590</td>\n",
              "    </tr>\n",
              "  </tbody>\n",
              "</table>\n",
              "</div>\n",
              "    <div class=\"colab-df-buttons\">\n",
              "\n",
              "  <div class=\"colab-df-container\">\n",
              "    <button class=\"colab-df-convert\" onclick=\"convertToInteractive('df-b8ee1fd3-9620-4032-87c6-2330dff0d5dc')\"\n",
              "            title=\"Convert this dataframe to an interactive table.\"\n",
              "            style=\"display:none;\">\n",
              "\n",
              "  <svg xmlns=\"http://www.w3.org/2000/svg\" height=\"24px\" viewBox=\"0 -960 960 960\">\n",
              "    <path d=\"M120-120v-720h720v720H120Zm60-500h600v-160H180v160Zm220 220h160v-160H400v160Zm0 220h160v-160H400v160ZM180-400h160v-160H180v160Zm440 0h160v-160H620v160ZM180-180h160v-160H180v160Zm440 0h160v-160H620v160Z\"/>\n",
              "  </svg>\n",
              "    </button>\n",
              "\n",
              "  <style>\n",
              "    .colab-df-container {\n",
              "      display:flex;\n",
              "      gap: 12px;\n",
              "    }\n",
              "\n",
              "    .colab-df-convert {\n",
              "      background-color: #E8F0FE;\n",
              "      border: none;\n",
              "      border-radius: 50%;\n",
              "      cursor: pointer;\n",
              "      display: none;\n",
              "      fill: #1967D2;\n",
              "      height: 32px;\n",
              "      padding: 0 0 0 0;\n",
              "      width: 32px;\n",
              "    }\n",
              "\n",
              "    .colab-df-convert:hover {\n",
              "      background-color: #E2EBFA;\n",
              "      box-shadow: 0px 1px 2px rgba(60, 64, 67, 0.3), 0px 1px 3px 1px rgba(60, 64, 67, 0.15);\n",
              "      fill: #174EA6;\n",
              "    }\n",
              "\n",
              "    .colab-df-buttons div {\n",
              "      margin-bottom: 4px;\n",
              "    }\n",
              "\n",
              "    [theme=dark] .colab-df-convert {\n",
              "      background-color: #3B4455;\n",
              "      fill: #D2E3FC;\n",
              "    }\n",
              "\n",
              "    [theme=dark] .colab-df-convert:hover {\n",
              "      background-color: #434B5C;\n",
              "      box-shadow: 0px 1px 3px 1px rgba(0, 0, 0, 0.15);\n",
              "      filter: drop-shadow(0px 1px 2px rgba(0, 0, 0, 0.3));\n",
              "      fill: #FFFFFF;\n",
              "    }\n",
              "  </style>\n",
              "\n",
              "    <script>\n",
              "      const buttonEl =\n",
              "        document.querySelector('#df-b8ee1fd3-9620-4032-87c6-2330dff0d5dc button.colab-df-convert');\n",
              "      buttonEl.style.display =\n",
              "        google.colab.kernel.accessAllowed ? 'block' : 'none';\n",
              "\n",
              "      async function convertToInteractive(key) {\n",
              "        const element = document.querySelector('#df-b8ee1fd3-9620-4032-87c6-2330dff0d5dc');\n",
              "        const dataTable =\n",
              "          await google.colab.kernel.invokeFunction('convertToInteractive',\n",
              "                                                    [key], {});\n",
              "        if (!dataTable) return;\n",
              "\n",
              "        const docLinkHtml = 'Like what you see? Visit the ' +\n",
              "          '<a target=\"_blank\" href=https://colab.research.google.com/notebooks/data_table.ipynb>data table notebook</a>'\n",
              "          + ' to learn more about interactive tables.';\n",
              "        element.innerHTML = '';\n",
              "        dataTable['output_type'] = 'display_data';\n",
              "        await google.colab.output.renderOutput(dataTable, element);\n",
              "        const docLink = document.createElement('div');\n",
              "        docLink.innerHTML = docLinkHtml;\n",
              "        element.appendChild(docLink);\n",
              "      }\n",
              "    </script>\n",
              "  </div>\n",
              "\n",
              "\n",
              "<div id=\"df-5653ae36-b815-465b-bcfb-916e80a741c5\">\n",
              "  <button class=\"colab-df-quickchart\" onclick=\"quickchart('df-5653ae36-b815-465b-bcfb-916e80a741c5')\"\n",
              "            title=\"Suggest charts\"\n",
              "            style=\"display:none;\">\n",
              "\n",
              "<svg xmlns=\"http://www.w3.org/2000/svg\" height=\"24px\"viewBox=\"0 0 24 24\"\n",
              "     width=\"24px\">\n",
              "    <g>\n",
              "        <path d=\"M19 3H5c-1.1 0-2 .9-2 2v14c0 1.1.9 2 2 2h14c1.1 0 2-.9 2-2V5c0-1.1-.9-2-2-2zM9 17H7v-7h2v7zm4 0h-2V7h2v10zm4 0h-2v-4h2v4z\"/>\n",
              "    </g>\n",
              "</svg>\n",
              "  </button>\n",
              "\n",
              "<style>\n",
              "  .colab-df-quickchart {\n",
              "      --bg-color: #E8F0FE;\n",
              "      --fill-color: #1967D2;\n",
              "      --hover-bg-color: #E2EBFA;\n",
              "      --hover-fill-color: #174EA6;\n",
              "      --disabled-fill-color: #AAA;\n",
              "      --disabled-bg-color: #DDD;\n",
              "  }\n",
              "\n",
              "  [theme=dark] .colab-df-quickchart {\n",
              "      --bg-color: #3B4455;\n",
              "      --fill-color: #D2E3FC;\n",
              "      --hover-bg-color: #434B5C;\n",
              "      --hover-fill-color: #FFFFFF;\n",
              "      --disabled-bg-color: #3B4455;\n",
              "      --disabled-fill-color: #666;\n",
              "  }\n",
              "\n",
              "  .colab-df-quickchart {\n",
              "    background-color: var(--bg-color);\n",
              "    border: none;\n",
              "    border-radius: 50%;\n",
              "    cursor: pointer;\n",
              "    display: none;\n",
              "    fill: var(--fill-color);\n",
              "    height: 32px;\n",
              "    padding: 0;\n",
              "    width: 32px;\n",
              "  }\n",
              "\n",
              "  .colab-df-quickchart:hover {\n",
              "    background-color: var(--hover-bg-color);\n",
              "    box-shadow: 0 1px 2px rgba(60, 64, 67, 0.3), 0 1px 3px 1px rgba(60, 64, 67, 0.15);\n",
              "    fill: var(--button-hover-fill-color);\n",
              "  }\n",
              "\n",
              "  .colab-df-quickchart-complete:disabled,\n",
              "  .colab-df-quickchart-complete:disabled:hover {\n",
              "    background-color: var(--disabled-bg-color);\n",
              "    fill: var(--disabled-fill-color);\n",
              "    box-shadow: none;\n",
              "  }\n",
              "\n",
              "  .colab-df-spinner {\n",
              "    border: 2px solid var(--fill-color);\n",
              "    border-color: transparent;\n",
              "    border-bottom-color: var(--fill-color);\n",
              "    animation:\n",
              "      spin 1s steps(1) infinite;\n",
              "  }\n",
              "\n",
              "  @keyframes spin {\n",
              "    0% {\n",
              "      border-color: transparent;\n",
              "      border-bottom-color: var(--fill-color);\n",
              "      border-left-color: var(--fill-color);\n",
              "    }\n",
              "    20% {\n",
              "      border-color: transparent;\n",
              "      border-left-color: var(--fill-color);\n",
              "      border-top-color: var(--fill-color);\n",
              "    }\n",
              "    30% {\n",
              "      border-color: transparent;\n",
              "      border-left-color: var(--fill-color);\n",
              "      border-top-color: var(--fill-color);\n",
              "      border-right-color: var(--fill-color);\n",
              "    }\n",
              "    40% {\n",
              "      border-color: transparent;\n",
              "      border-right-color: var(--fill-color);\n",
              "      border-top-color: var(--fill-color);\n",
              "    }\n",
              "    60% {\n",
              "      border-color: transparent;\n",
              "      border-right-color: var(--fill-color);\n",
              "    }\n",
              "    80% {\n",
              "      border-color: transparent;\n",
              "      border-right-color: var(--fill-color);\n",
              "      border-bottom-color: var(--fill-color);\n",
              "    }\n",
              "    90% {\n",
              "      border-color: transparent;\n",
              "      border-bottom-color: var(--fill-color);\n",
              "    }\n",
              "  }\n",
              "</style>\n",
              "\n",
              "  <script>\n",
              "    async function quickchart(key) {\n",
              "      const quickchartButtonEl =\n",
              "        document.querySelector('#' + key + ' button');\n",
              "      quickchartButtonEl.disabled = true;  // To prevent multiple clicks.\n",
              "      quickchartButtonEl.classList.add('colab-df-spinner');\n",
              "      try {\n",
              "        const charts = await google.colab.kernel.invokeFunction(\n",
              "            'suggestCharts', [key], {});\n",
              "      } catch (error) {\n",
              "        console.error('Error during call to suggestCharts:', error);\n",
              "      }\n",
              "      quickchartButtonEl.classList.remove('colab-df-spinner');\n",
              "      quickchartButtonEl.classList.add('colab-df-quickchart-complete');\n",
              "    }\n",
              "    (() => {\n",
              "      let quickchartButtonEl =\n",
              "        document.querySelector('#df-5653ae36-b815-465b-bcfb-916e80a741c5 button');\n",
              "      quickchartButtonEl.style.display =\n",
              "        google.colab.kernel.accessAllowed ? 'block' : 'none';\n",
              "    })();\n",
              "  </script>\n",
              "</div>\n",
              "    </div>\n",
              "  </div>\n"
            ],
            "application/vnd.google.colaboratory.intrinsic+json": {
              "type": "dataframe",
              "variable_name": "df"
            }
          },
          "metadata": {},
          "execution_count": 26
        }
      ]
    },
    {
      "cell_type": "code",
      "source": [
        "df.rename(columns={'an': 'Year', 'mois': 'Month', 'jour': 'Day', 'hrmn': 'Time', 'lum': 'Lighting',\n",
        "                   'dep': 'Department', 'com': 'Municipality', 'agg': 'Localisation', 'int': 'Intersection',\n",
        "                   'atm': 'Atmospheric conditions', 'col': 'Collision type', 'adr': 'Address'}, inplace=True)"
      ],
      "metadata": {
        "id": "5Gv5z2BPR3BR"
      },
      "execution_count": 27,
      "outputs": []
    },
    {
      "cell_type": "code",
      "source": [
        "df.head()"
      ],
      "metadata": {
        "colab": {
          "base_uri": "https://localhost:8080/",
          "height": 206
        },
        "id": "BR31OeGLV533",
        "outputId": "01b22534-6619-486b-be88-bb184bfbbd7c"
      },
      "execution_count": 28,
      "outputs": [
        {
          "output_type": "execute_result",
          "data": {
            "text/plain": [
              "        Num_Acc  Year  Month  Day  Time  Lighting  Localisation  Intersection  \\\n",
              "0  201600000001    16      2    1  1445         1             2             1   \n",
              "1  201600000002    16      3   16  1800         1             2             6   \n",
              "2  201600000003    16      7   13  1900         1             1             1   \n",
              "3  201600000004    16      8   15  1930         2             2             1   \n",
              "4  201600000005    16     12   23  1100         1             2             3   \n",
              "\n",
              "   Atmospheric conditions  Collision type  Municipality              Address  \\\n",
              "0                     8.0             3.0           5.0   46, rue Sonneville   \n",
              "1                     1.0             6.0           5.0  1a rue du cimetière   \n",
              "2                     1.0             6.0          11.0                  NaN   \n",
              "3                     7.0             3.0         477.0   52 rue victor hugo   \n",
              "4                     1.0             3.0          11.0     rue Joliot curie   \n",
              "\n",
              "  gps  lat long  Department  \n",
              "0   M  0.0  0.0         590  \n",
              "1   M  0.0  0.0         590  \n",
              "2   M  0.0  0.0         590  \n",
              "3   M  0.0  0.0         590  \n",
              "4   M  0.0  0.0         590  "
            ],
            "text/html": [
              "\n",
              "  <div id=\"df-11049366-922f-41a7-a109-c57129fe0627\" class=\"colab-df-container\">\n",
              "    <div>\n",
              "<style scoped>\n",
              "    .dataframe tbody tr th:only-of-type {\n",
              "        vertical-align: middle;\n",
              "    }\n",
              "\n",
              "    .dataframe tbody tr th {\n",
              "        vertical-align: top;\n",
              "    }\n",
              "\n",
              "    .dataframe thead th {\n",
              "        text-align: right;\n",
              "    }\n",
              "</style>\n",
              "<table border=\"1\" class=\"dataframe\">\n",
              "  <thead>\n",
              "    <tr style=\"text-align: right;\">\n",
              "      <th></th>\n",
              "      <th>Num_Acc</th>\n",
              "      <th>Year</th>\n",
              "      <th>Month</th>\n",
              "      <th>Day</th>\n",
              "      <th>Time</th>\n",
              "      <th>Lighting</th>\n",
              "      <th>Localisation</th>\n",
              "      <th>Intersection</th>\n",
              "      <th>Atmospheric conditions</th>\n",
              "      <th>Collision type</th>\n",
              "      <th>Municipality</th>\n",
              "      <th>Address</th>\n",
              "      <th>gps</th>\n",
              "      <th>lat</th>\n",
              "      <th>long</th>\n",
              "      <th>Department</th>\n",
              "    </tr>\n",
              "  </thead>\n",
              "  <tbody>\n",
              "    <tr>\n",
              "      <th>0</th>\n",
              "      <td>201600000001</td>\n",
              "      <td>16</td>\n",
              "      <td>2</td>\n",
              "      <td>1</td>\n",
              "      <td>1445</td>\n",
              "      <td>1</td>\n",
              "      <td>2</td>\n",
              "      <td>1</td>\n",
              "      <td>8.0</td>\n",
              "      <td>3.0</td>\n",
              "      <td>5.0</td>\n",
              "      <td>46, rue Sonneville</td>\n",
              "      <td>M</td>\n",
              "      <td>0.0</td>\n",
              "      <td>0.0</td>\n",
              "      <td>590</td>\n",
              "    </tr>\n",
              "    <tr>\n",
              "      <th>1</th>\n",
              "      <td>201600000002</td>\n",
              "      <td>16</td>\n",
              "      <td>3</td>\n",
              "      <td>16</td>\n",
              "      <td>1800</td>\n",
              "      <td>1</td>\n",
              "      <td>2</td>\n",
              "      <td>6</td>\n",
              "      <td>1.0</td>\n",
              "      <td>6.0</td>\n",
              "      <td>5.0</td>\n",
              "      <td>1a rue du cimetière</td>\n",
              "      <td>M</td>\n",
              "      <td>0.0</td>\n",
              "      <td>0.0</td>\n",
              "      <td>590</td>\n",
              "    </tr>\n",
              "    <tr>\n",
              "      <th>2</th>\n",
              "      <td>201600000003</td>\n",
              "      <td>16</td>\n",
              "      <td>7</td>\n",
              "      <td>13</td>\n",
              "      <td>1900</td>\n",
              "      <td>1</td>\n",
              "      <td>1</td>\n",
              "      <td>1</td>\n",
              "      <td>1.0</td>\n",
              "      <td>6.0</td>\n",
              "      <td>11.0</td>\n",
              "      <td>NaN</td>\n",
              "      <td>M</td>\n",
              "      <td>0.0</td>\n",
              "      <td>0.0</td>\n",
              "      <td>590</td>\n",
              "    </tr>\n",
              "    <tr>\n",
              "      <th>3</th>\n",
              "      <td>201600000004</td>\n",
              "      <td>16</td>\n",
              "      <td>8</td>\n",
              "      <td>15</td>\n",
              "      <td>1930</td>\n",
              "      <td>2</td>\n",
              "      <td>2</td>\n",
              "      <td>1</td>\n",
              "      <td>7.0</td>\n",
              "      <td>3.0</td>\n",
              "      <td>477.0</td>\n",
              "      <td>52 rue victor hugo</td>\n",
              "      <td>M</td>\n",
              "      <td>0.0</td>\n",
              "      <td>0.0</td>\n",
              "      <td>590</td>\n",
              "    </tr>\n",
              "    <tr>\n",
              "      <th>4</th>\n",
              "      <td>201600000005</td>\n",
              "      <td>16</td>\n",
              "      <td>12</td>\n",
              "      <td>23</td>\n",
              "      <td>1100</td>\n",
              "      <td>1</td>\n",
              "      <td>2</td>\n",
              "      <td>3</td>\n",
              "      <td>1.0</td>\n",
              "      <td>3.0</td>\n",
              "      <td>11.0</td>\n",
              "      <td>rue Joliot curie</td>\n",
              "      <td>M</td>\n",
              "      <td>0.0</td>\n",
              "      <td>0.0</td>\n",
              "      <td>590</td>\n",
              "    </tr>\n",
              "  </tbody>\n",
              "</table>\n",
              "</div>\n",
              "    <div class=\"colab-df-buttons\">\n",
              "\n",
              "  <div class=\"colab-df-container\">\n",
              "    <button class=\"colab-df-convert\" onclick=\"convertToInteractive('df-11049366-922f-41a7-a109-c57129fe0627')\"\n",
              "            title=\"Convert this dataframe to an interactive table.\"\n",
              "            style=\"display:none;\">\n",
              "\n",
              "  <svg xmlns=\"http://www.w3.org/2000/svg\" height=\"24px\" viewBox=\"0 -960 960 960\">\n",
              "    <path d=\"M120-120v-720h720v720H120Zm60-500h600v-160H180v160Zm220 220h160v-160H400v160Zm0 220h160v-160H400v160ZM180-400h160v-160H180v160Zm440 0h160v-160H620v160ZM180-180h160v-160H180v160Zm440 0h160v-160H620v160Z\"/>\n",
              "  </svg>\n",
              "    </button>\n",
              "\n",
              "  <style>\n",
              "    .colab-df-container {\n",
              "      display:flex;\n",
              "      gap: 12px;\n",
              "    }\n",
              "\n",
              "    .colab-df-convert {\n",
              "      background-color: #E8F0FE;\n",
              "      border: none;\n",
              "      border-radius: 50%;\n",
              "      cursor: pointer;\n",
              "      display: none;\n",
              "      fill: #1967D2;\n",
              "      height: 32px;\n",
              "      padding: 0 0 0 0;\n",
              "      width: 32px;\n",
              "    }\n",
              "\n",
              "    .colab-df-convert:hover {\n",
              "      background-color: #E2EBFA;\n",
              "      box-shadow: 0px 1px 2px rgba(60, 64, 67, 0.3), 0px 1px 3px 1px rgba(60, 64, 67, 0.15);\n",
              "      fill: #174EA6;\n",
              "    }\n",
              "\n",
              "    .colab-df-buttons div {\n",
              "      margin-bottom: 4px;\n",
              "    }\n",
              "\n",
              "    [theme=dark] .colab-df-convert {\n",
              "      background-color: #3B4455;\n",
              "      fill: #D2E3FC;\n",
              "    }\n",
              "\n",
              "    [theme=dark] .colab-df-convert:hover {\n",
              "      background-color: #434B5C;\n",
              "      box-shadow: 0px 1px 3px 1px rgba(0, 0, 0, 0.15);\n",
              "      filter: drop-shadow(0px 1px 2px rgba(0, 0, 0, 0.3));\n",
              "      fill: #FFFFFF;\n",
              "    }\n",
              "  </style>\n",
              "\n",
              "    <script>\n",
              "      const buttonEl =\n",
              "        document.querySelector('#df-11049366-922f-41a7-a109-c57129fe0627 button.colab-df-convert');\n",
              "      buttonEl.style.display =\n",
              "        google.colab.kernel.accessAllowed ? 'block' : 'none';\n",
              "\n",
              "      async function convertToInteractive(key) {\n",
              "        const element = document.querySelector('#df-11049366-922f-41a7-a109-c57129fe0627');\n",
              "        const dataTable =\n",
              "          await google.colab.kernel.invokeFunction('convertToInteractive',\n",
              "                                                    [key], {});\n",
              "        if (!dataTable) return;\n",
              "\n",
              "        const docLinkHtml = 'Like what you see? Visit the ' +\n",
              "          '<a target=\"_blank\" href=https://colab.research.google.com/notebooks/data_table.ipynb>data table notebook</a>'\n",
              "          + ' to learn more about interactive tables.';\n",
              "        element.innerHTML = '';\n",
              "        dataTable['output_type'] = 'display_data';\n",
              "        await google.colab.output.renderOutput(dataTable, element);\n",
              "        const docLink = document.createElement('div');\n",
              "        docLink.innerHTML = docLinkHtml;\n",
              "        element.appendChild(docLink);\n",
              "      }\n",
              "    </script>\n",
              "  </div>\n",
              "\n",
              "\n",
              "<div id=\"df-5e3dd0a8-66cb-4c0c-b662-b8cd3f86ee00\">\n",
              "  <button class=\"colab-df-quickchart\" onclick=\"quickchart('df-5e3dd0a8-66cb-4c0c-b662-b8cd3f86ee00')\"\n",
              "            title=\"Suggest charts\"\n",
              "            style=\"display:none;\">\n",
              "\n",
              "<svg xmlns=\"http://www.w3.org/2000/svg\" height=\"24px\"viewBox=\"0 0 24 24\"\n",
              "     width=\"24px\">\n",
              "    <g>\n",
              "        <path d=\"M19 3H5c-1.1 0-2 .9-2 2v14c0 1.1.9 2 2 2h14c1.1 0 2-.9 2-2V5c0-1.1-.9-2-2-2zM9 17H7v-7h2v7zm4 0h-2V7h2v10zm4 0h-2v-4h2v4z\"/>\n",
              "    </g>\n",
              "</svg>\n",
              "  </button>\n",
              "\n",
              "<style>\n",
              "  .colab-df-quickchart {\n",
              "      --bg-color: #E8F0FE;\n",
              "      --fill-color: #1967D2;\n",
              "      --hover-bg-color: #E2EBFA;\n",
              "      --hover-fill-color: #174EA6;\n",
              "      --disabled-fill-color: #AAA;\n",
              "      --disabled-bg-color: #DDD;\n",
              "  }\n",
              "\n",
              "  [theme=dark] .colab-df-quickchart {\n",
              "      --bg-color: #3B4455;\n",
              "      --fill-color: #D2E3FC;\n",
              "      --hover-bg-color: #434B5C;\n",
              "      --hover-fill-color: #FFFFFF;\n",
              "      --disabled-bg-color: #3B4455;\n",
              "      --disabled-fill-color: #666;\n",
              "  }\n",
              "\n",
              "  .colab-df-quickchart {\n",
              "    background-color: var(--bg-color);\n",
              "    border: none;\n",
              "    border-radius: 50%;\n",
              "    cursor: pointer;\n",
              "    display: none;\n",
              "    fill: var(--fill-color);\n",
              "    height: 32px;\n",
              "    padding: 0;\n",
              "    width: 32px;\n",
              "  }\n",
              "\n",
              "  .colab-df-quickchart:hover {\n",
              "    background-color: var(--hover-bg-color);\n",
              "    box-shadow: 0 1px 2px rgba(60, 64, 67, 0.3), 0 1px 3px 1px rgba(60, 64, 67, 0.15);\n",
              "    fill: var(--button-hover-fill-color);\n",
              "  }\n",
              "\n",
              "  .colab-df-quickchart-complete:disabled,\n",
              "  .colab-df-quickchart-complete:disabled:hover {\n",
              "    background-color: var(--disabled-bg-color);\n",
              "    fill: var(--disabled-fill-color);\n",
              "    box-shadow: none;\n",
              "  }\n",
              "\n",
              "  .colab-df-spinner {\n",
              "    border: 2px solid var(--fill-color);\n",
              "    border-color: transparent;\n",
              "    border-bottom-color: var(--fill-color);\n",
              "    animation:\n",
              "      spin 1s steps(1) infinite;\n",
              "  }\n",
              "\n",
              "  @keyframes spin {\n",
              "    0% {\n",
              "      border-color: transparent;\n",
              "      border-bottom-color: var(--fill-color);\n",
              "      border-left-color: var(--fill-color);\n",
              "    }\n",
              "    20% {\n",
              "      border-color: transparent;\n",
              "      border-left-color: var(--fill-color);\n",
              "      border-top-color: var(--fill-color);\n",
              "    }\n",
              "    30% {\n",
              "      border-color: transparent;\n",
              "      border-left-color: var(--fill-color);\n",
              "      border-top-color: var(--fill-color);\n",
              "      border-right-color: var(--fill-color);\n",
              "    }\n",
              "    40% {\n",
              "      border-color: transparent;\n",
              "      border-right-color: var(--fill-color);\n",
              "      border-top-color: var(--fill-color);\n",
              "    }\n",
              "    60% {\n",
              "      border-color: transparent;\n",
              "      border-right-color: var(--fill-color);\n",
              "    }\n",
              "    80% {\n",
              "      border-color: transparent;\n",
              "      border-right-color: var(--fill-color);\n",
              "      border-bottom-color: var(--fill-color);\n",
              "    }\n",
              "    90% {\n",
              "      border-color: transparent;\n",
              "      border-bottom-color: var(--fill-color);\n",
              "    }\n",
              "  }\n",
              "</style>\n",
              "\n",
              "  <script>\n",
              "    async function quickchart(key) {\n",
              "      const quickchartButtonEl =\n",
              "        document.querySelector('#' + key + ' button');\n",
              "      quickchartButtonEl.disabled = true;  // To prevent multiple clicks.\n",
              "      quickchartButtonEl.classList.add('colab-df-spinner');\n",
              "      try {\n",
              "        const charts = await google.colab.kernel.invokeFunction(\n",
              "            'suggestCharts', [key], {});\n",
              "      } catch (error) {\n",
              "        console.error('Error during call to suggestCharts:', error);\n",
              "      }\n",
              "      quickchartButtonEl.classList.remove('colab-df-spinner');\n",
              "      quickchartButtonEl.classList.add('colab-df-quickchart-complete');\n",
              "    }\n",
              "    (() => {\n",
              "      let quickchartButtonEl =\n",
              "        document.querySelector('#df-5e3dd0a8-66cb-4c0c-b662-b8cd3f86ee00 button');\n",
              "      quickchartButtonEl.style.display =\n",
              "        google.colab.kernel.accessAllowed ? 'block' : 'none';\n",
              "    })();\n",
              "  </script>\n",
              "</div>\n",
              "    </div>\n",
              "  </div>\n"
            ],
            "application/vnd.google.colaboratory.intrinsic+json": {
              "type": "dataframe",
              "variable_name": "df"
            }
          },
          "metadata": {},
          "execution_count": 28
        }
      ]
    },
    {
      "cell_type": "markdown",
      "source": [
        "## Year\n",
        "\n"
      ],
      "metadata": {
        "id": "pfyTZtkFW7Xi"
      }
    },
    {
      "cell_type": "markdown",
      "source": [
        "Year of the accident"
      ],
      "metadata": {
        "id": "4QXTrvrCa0tz"
      }
    },
    {
      "cell_type": "code",
      "source": [
        "df['Year'].value_counts()"
      ],
      "metadata": {
        "colab": {
          "base_uri": "https://localhost:8080/"
        },
        "id": "jftFw9g8WH2J",
        "outputId": "5d13aa96-491d-425d-d8fa-7499d197d20a"
      },
      "execution_count": 29,
      "outputs": [
        {
          "output_type": "execute_result",
          "data": {
            "text/plain": [
              "Year\n",
              "5     87026\n",
              "7     83850\n",
              "6     82993\n",
              "8     76767\n",
              "9     74409\n",
              "10    69379\n",
              "11    66974\n",
              "12    62250\n",
              "14    59854\n",
              "16    59432\n",
              "15    58654\n",
              "13    58397\n",
              "Name: count, dtype: int64"
            ]
          },
          "metadata": {},
          "execution_count": 29
        }
      ]
    },
    {
      "cell_type": "code",
      "source": [
        "df['Year'].isna().sum()"
      ],
      "metadata": {
        "colab": {
          "base_uri": "https://localhost:8080/"
        },
        "id": "xnpsbv-2Z5hz",
        "outputId": "8443413f-82fe-485c-a31b-fe8d0c09a0e8"
      },
      "execution_count": 30,
      "outputs": [
        {
          "output_type": "execute_result",
          "data": {
            "text/plain": [
              "0"
            ]
          },
          "metadata": {},
          "execution_count": 30
        }
      ]
    },
    {
      "cell_type": "markdown",
      "source": [
        "## Month\n",
        "\n"
      ],
      "metadata": {
        "id": "o-AyKYfgXG_T"
      }
    },
    {
      "cell_type": "markdown",
      "source": [
        "Month of the accident"
      ],
      "metadata": {
        "id": "OmulveYBayys"
      }
    },
    {
      "cell_type": "code",
      "source": [
        "df['Month'].value_counts()"
      ],
      "metadata": {
        "colab": {
          "base_uri": "https://localhost:8080/"
        },
        "id": "7Ikb-9JCWEiC",
        "outputId": "3e66e47b-86ba-4140-8f7d-7b80f9c938af"
      },
      "execution_count": 31,
      "outputs": [
        {
          "output_type": "execute_result",
          "data": {
            "text/plain": [
              "Month\n",
              "10    79559\n",
              "6     78372\n",
              "9     76977\n",
              "7     74466\n",
              "11    72645\n",
              "5     72443\n",
              "12    68816\n",
              "4     67430\n",
              "3     65630\n",
              "1     64662\n",
              "8     62401\n",
              "2     56584\n",
              "Name: count, dtype: int64"
            ]
          },
          "metadata": {},
          "execution_count": 31
        }
      ]
    },
    {
      "cell_type": "code",
      "source": [
        "df['Month'].isna().sum()"
      ],
      "metadata": {
        "colab": {
          "base_uri": "https://localhost:8080/"
        },
        "id": "iPFFgsZgWGp0",
        "outputId": "a70f9bb3-6059-4fb8-f63a-35b26ab1521b"
      },
      "execution_count": 32,
      "outputs": [
        {
          "output_type": "execute_result",
          "data": {
            "text/plain": [
              "0"
            ]
          },
          "metadata": {},
          "execution_count": 32
        }
      ]
    },
    {
      "cell_type": "markdown",
      "source": [
        "## Day\n",
        "\n"
      ],
      "metadata": {
        "id": "1yBdtj5cXJUk"
      }
    },
    {
      "cell_type": "markdown",
      "source": [
        "Day of the accident"
      ],
      "metadata": {
        "id": "J2pl-sHCaw9N"
      }
    },
    {
      "cell_type": "code",
      "source": [
        "df['Day'].value_counts()"
      ],
      "metadata": {
        "colab": {
          "base_uri": "https://localhost:8080/"
        },
        "id": "iBNjDMeFWKTR",
        "outputId": "423b5913-ca51-4810-8a09-a9518cbab097"
      },
      "execution_count": 33,
      "outputs": [
        {
          "output_type": "execute_result",
          "data": {
            "text/plain": [
              "Day\n",
              "10    28693\n",
              "6     28667\n",
              "7     28576\n",
              "12    28462\n",
              "9     28345\n",
              "8     28325\n",
              "16    28094\n",
              "4     28058\n",
              "5     28054\n",
              "15    28031\n",
              "19    27970\n",
              "11    27956\n",
              "14    27891\n",
              "3     27868\n",
              "21    27797\n",
              "18    27682\n",
              "13    27600\n",
              "17    27552\n",
              "22    27447\n",
              "20    27433\n",
              "23    27417\n",
              "2     27334\n",
              "28    26927\n",
              "24    26718\n",
              "1     26485\n",
              "27    26447\n",
              "26    26177\n",
              "25    26155\n",
              "30    25502\n",
              "29    25308\n",
              "31    15014\n",
              "Name: count, dtype: int64"
            ]
          },
          "metadata": {},
          "execution_count": 33
        }
      ]
    },
    {
      "cell_type": "code",
      "source": [
        "df['Day'].isna().sum()"
      ],
      "metadata": {
        "colab": {
          "base_uri": "https://localhost:8080/"
        },
        "id": "fIPzqiLxWL5o",
        "outputId": "f3946028-a572-44ad-a22f-897c827ff9d8"
      },
      "execution_count": 34,
      "outputs": [
        {
          "output_type": "execute_result",
          "data": {
            "text/plain": [
              "0"
            ]
          },
          "metadata": {},
          "execution_count": 34
        }
      ]
    },
    {
      "cell_type": "markdown",
      "source": [
        "## Holiday columns prep"
      ],
      "metadata": {
        "id": "bavxTVRtzdA_"
      }
    },
    {
      "cell_type": "code",
      "source": [
        "holiday_df = pd.read_csv('data/holidays.csv', encoding='latin1')"
      ],
      "metadata": {
        "id": "h_EgM4f9ziDv"
      },
      "execution_count": 35,
      "outputs": []
    },
    {
      "cell_type": "code",
      "source": [
        "holiday_df['holiday'].value_counts()"
      ],
      "metadata": {
        "colab": {
          "base_uri": "https://localhost:8080/"
        },
        "id": "it8LuykOzk65",
        "outputId": "65e59c28-b134-4b0c-bf31-b187a5b5dd03"
      },
      "execution_count": 36,
      "outputs": [
        {
          "output_type": "execute_result",
          "data": {
            "text/plain": [
              "holiday\n",
              "New year                        12\n",
              "Easter Monday                   12\n",
              "Labour Day                      12\n",
              "Ascension Thursday              12\n",
              "Victory in Europe Day           12\n",
              "Whit Monday                     12\n",
              "Bastille Day                    12\n",
              "Assumption of Mary to Heaven    12\n",
              "All Saints Day                  12\n",
              "Armistice Day                   12\n",
              "Christmas Day                   12\n",
              "Name: count, dtype: int64"
            ]
          },
          "metadata": {},
          "execution_count": 36
        }
      ]
    },
    {
      "cell_type": "code",
      "source": [
        "# Convert ds column in holidays_df to datetime\n",
        "holiday_df['ds'] = pd.to_datetime(holiday_df['ds'])\n",
        "\n",
        "for holiday in holiday_df['holiday'].unique():\n",
        "    df[holiday] = 0"
      ],
      "metadata": {
        "id": "vM0XsJQO2IT2"
      },
      "execution_count": 37,
      "outputs": []
    },
    {
      "cell_type": "code",
      "source": [
        "# Add 2000 to the 'Year' column\n",
        "df['Year'] += 2000\n",
        "df['Date'] = pd.to_datetime(df[['Year', 'Month', 'Day']])\n",
        "df['Holiday'] = 0"
      ],
      "metadata": {
        "id": "KhE75w3e2TLm"
      },
      "execution_count": 38,
      "outputs": []
    },
    {
      "cell_type": "code",
      "source": [
        "holiday_map = {row['ds']: row['holiday'] for _, row in holiday_df.iterrows()}\n",
        "\n",
        "for index, date in df['Date'].items():\n",
        "    if date in holiday_map:\n",
        "        holiday_name = holiday_map[date]\n",
        "        df.at[index, holiday_name] = 1\n",
        "        df.at[index, 'Holiday'] = 1"
      ],
      "metadata": {
        "id": "Xnx4Kmky2fQ2"
      },
      "execution_count": 40,
      "outputs": []
    },
    {
      "cell_type": "code",
      "source": [
        "df.drop(['Year', 'Month', 'Day'], axis=1, inplace=True)"
      ],
      "metadata": {
        "id": "On4UIKWi5vYN"
      },
      "execution_count": 41,
      "outputs": []
    },
    {
      "cell_type": "code",
      "source": [
        "df.columns"
      ],
      "metadata": {
        "colab": {
          "base_uri": "https://localhost:8080/"
        },
        "id": "x3DkYUwu6ghF",
        "outputId": "f6c2df1d-21e6-4c88-907f-6ab3ef9c041a"
      },
      "execution_count": 42,
      "outputs": [
        {
          "output_type": "execute_result",
          "data": {
            "text/plain": [
              "Index(['Num_Acc', 'Time', 'Lighting', 'Localisation', 'Intersection',\n",
              "       'Atmospheric conditions', 'Collision type', 'Municipality', 'Address',\n",
              "       'gps', 'lat', 'long', 'Department', 'New year', 'Easter Monday',\n",
              "       'Labour Day', 'Ascension Thursday', 'Victory in Europe Day',\n",
              "       'Whit Monday', 'Bastille Day', 'Assumption of Mary to Heaven',\n",
              "       'All Saints Day', 'Armistice Day', 'Christmas Day', 'Date', 'Holiday'],\n",
              "      dtype='object')"
            ]
          },
          "metadata": {},
          "execution_count": 42
        }
      ]
    },
    {
      "cell_type": "markdown",
      "source": [
        "## Time\n",
        "\n"
      ],
      "metadata": {
        "id": "2HMSfo6lXLFS"
      }
    },
    {
      "cell_type": "markdown",
      "source": [
        "Time of the accident in hour and minutes (hhmm)"
      ],
      "metadata": {
        "id": "Hadu0c_Fau2T"
      }
    },
    {
      "cell_type": "code",
      "source": [
        "df['Time'].value_counts()"
      ],
      "metadata": {
        "colab": {
          "base_uri": "https://localhost:8080/"
        },
        "id": "D-MIeSWeWL1Q",
        "outputId": "c0067507-e61a-400d-a56b-e1d5eec694a3"
      },
      "execution_count": 43,
      "outputs": [
        {
          "output_type": "execute_result",
          "data": {
            "text/plain": [
              "Time\n",
              "1800    13090\n",
              "1730    11722\n",
              "1700    11611\n",
              "1830    11322\n",
              "1900    10238\n",
              "        ...  \n",
              "434         6\n",
              "334         6\n",
              "559         6\n",
              "322         5\n",
              "527         5\n",
              "Name: count, Length: 1439, dtype: int64"
            ]
          },
          "metadata": {},
          "execution_count": 43
        }
      ]
    },
    {
      "cell_type": "code",
      "source": [
        "df['Time'].isna().sum()"
      ],
      "metadata": {
        "colab": {
          "base_uri": "https://localhost:8080/"
        },
        "id": "FzhKwTVmWLwQ",
        "outputId": "2902e576-f305-420c-f6aa-35a0734a6a55"
      },
      "execution_count": 44,
      "outputs": [
        {
          "output_type": "execute_result",
          "data": {
            "text/plain": [
              "0"
            ]
          },
          "metadata": {},
          "execution_count": 44
        }
      ]
    },
    {
      "cell_type": "markdown",
      "source": [
        "New category instead of time: **Time of day**\n",
        "\n",
        "1 - Night (11 pm to 4 am)\n",
        "\n",
        "2 - Dawn (4 am to 6 am)\n",
        "\n",
        "3 - Morning (6 am to noon)\n",
        "\n",
        "4 - Afternoon (noon to 6 pm)\n",
        "\n",
        "5 - Evening (6 pm to 11 pm)"
      ],
      "metadata": {
        "id": "BU-aRGpCDjaE"
      }
    },
    {
      "cell_type": "code",
      "source": [
        "def map_time(time):\n",
        "    if 2300 <= time < 400:\n",
        "        return 1  # Night\n",
        "    elif 400 <= time < 600:\n",
        "        return 2  # Dawn\n",
        "    elif 600 <= time < 1200:\n",
        "        return 3  # Morning\n",
        "    elif 1200 <= time < 1800:\n",
        "        return 4  # Afternoon\n",
        "    else:\n",
        "        return 5  # Evening\n",
        "\n",
        "df['Time_of_day'] = df['Time'].apply(map_time)\n",
        "df.drop(['Time'], axis=1, inplace=True)"
      ],
      "metadata": {
        "id": "VYsYDUuxCbBq"
      },
      "execution_count": 45,
      "outputs": []
    },
    {
      "cell_type": "markdown",
      "source": [
        "## Lighting"
      ],
      "metadata": {
        "id": "HS4mr5z1XNd0"
      }
    },
    {
      "cell_type": "markdown",
      "source": [
        "Lighting conditions in which the accident occurred\n",
        "\n",
        "1 - Full day\n",
        "\n",
        "2 - Twilight or dawn\n",
        "\n",
        "3 - Night without public lighting\n",
        "\n",
        "4 - Night with public lighting not lit\n",
        "\n",
        "5 - Night with public lighting on"
      ],
      "metadata": {
        "id": "oh8KwpGRaqaS"
      }
    },
    {
      "cell_type": "code",
      "source": [
        "df['Lighting'].value_counts()"
      ],
      "metadata": {
        "colab": {
          "base_uri": "https://localhost:8080/"
        },
        "id": "Xlmvll3EWLp5",
        "outputId": "201cde39-fb48-4624-c92a-81349f7950d9"
      },
      "execution_count": 46,
      "outputs": [
        {
          "output_type": "execute_result",
          "data": {
            "text/plain": [
              "Lighting\n",
              "1    576861\n",
              "5    141279\n",
              "3     65811\n",
              "2     49140\n",
              "4      6894\n",
              "Name: count, dtype: int64"
            ]
          },
          "metadata": {},
          "execution_count": 46
        }
      ]
    },
    {
      "cell_type": "code",
      "source": [
        "df['Lighting'].isna().sum()"
      ],
      "metadata": {
        "colab": {
          "base_uri": "https://localhost:8080/"
        },
        "id": "bQqCu4W5WLfp",
        "outputId": "5673ba02-e7d3-4038-ddbf-5d90abef24f1"
      },
      "execution_count": 47,
      "outputs": [
        {
          "output_type": "execute_result",
          "data": {
            "text/plain": [
              "0"
            ]
          },
          "metadata": {},
          "execution_count": 47
        }
      ]
    },
    {
      "cell_type": "markdown",
      "source": [
        "### NEW ORDER\n",
        "\n",
        "Light 1-5, 1 being well lit, 5 being no light!\n",
        "\n",
        "1 - Full day\n",
        "\n",
        "2 - Night with public lighting on\n",
        "\n",
        "3 - Twilight or dawn\n",
        "\n",
        "4 - Night with public lighting not lit\n",
        "\n",
        "5 - Night without public lighting"
      ],
      "metadata": {
        "id": "aGsxAuWf7dsR"
      }
    },
    {
      "cell_type": "code",
      "source": [
        "mapping = {\n",
        "    2: 3, # Twilight or dawn is nr 3 instead of 2\n",
        "    3: 5, # Night without public lighting is nr 5 instead of 3\n",
        "    5: 2  # Night with public lighting on is nr 2 instead of 5\n",
        "}\n",
        "\n",
        "df['Lighting'] = df['Lighting'].replace(mapping)"
      ],
      "metadata": {
        "id": "ESgXwJZG9GCF"
      },
      "execution_count": 48,
      "outputs": []
    },
    {
      "cell_type": "code",
      "source": [
        "df['Lighting'].value_counts()"
      ],
      "metadata": {
        "colab": {
          "base_uri": "https://localhost:8080/"
        },
        "id": "VTGA0ezK-KyU",
        "outputId": "54c368d0-cc29-4d0f-df2e-c8fab98b0b9f"
      },
      "execution_count": 49,
      "outputs": [
        {
          "output_type": "execute_result",
          "data": {
            "text/plain": [
              "Lighting\n",
              "1    576861\n",
              "2    141279\n",
              "5     65811\n",
              "3     49140\n",
              "4      6894\n",
              "Name: count, dtype: int64"
            ]
          },
          "metadata": {},
          "execution_count": 49
        }
      ]
    },
    {
      "cell_type": "markdown",
      "source": [
        "## Localisation & Address\n"
      ],
      "metadata": {
        "id": "HnlqhcIKXPsZ"
      }
    },
    {
      "cell_type": "markdown",
      "source": [
        "**Localisation**\n",
        "\n",
        "1 - Out of agglomeration\n",
        "\n",
        "2 - In built-up areas"
      ],
      "metadata": {
        "id": "10yXBxeVajt0"
      }
    },
    {
      "cell_type": "code",
      "source": [
        "df['Localisation'].value_counts()"
      ],
      "metadata": {
        "colab": {
          "base_uri": "https://localhost:8080/"
        },
        "id": "5FptVR2-WP-S",
        "outputId": "ff60153b-ad63-4bbe-c699-9c5f2f4022d2"
      },
      "execution_count": 50,
      "outputs": [
        {
          "output_type": "execute_result",
          "data": {
            "text/plain": [
              "Localisation\n",
              "2    576166\n",
              "1    263819\n",
              "Name: count, dtype: int64"
            ]
          },
          "metadata": {},
          "execution_count": 50
        }
      ]
    },
    {
      "cell_type": "code",
      "source": [
        "df['Localisation'].isna().sum()"
      ],
      "metadata": {
        "colab": {
          "base_uri": "https://localhost:8080/"
        },
        "id": "LXV1yqRMb0KD",
        "outputId": "cd2931c2-0ac3-4e12-c78d-f681db26ea91"
      },
      "execution_count": 51,
      "outputs": [
        {
          "output_type": "execute_result",
          "data": {
            "text/plain": [
              "0"
            ]
          },
          "metadata": {},
          "execution_count": 51
        }
      ]
    },
    {
      "cell_type": "markdown",
      "source": [
        "**Address**\n",
        "\n",
        "Postal address: variable filled in for accidents occurring in built-up areas"
      ],
      "metadata": {
        "id": "QipMRInqbwmc"
      }
    },
    {
      "cell_type": "code",
      "source": [
        "df['Address'].value_counts()"
      ],
      "metadata": {
        "colab": {
          "base_uri": "https://localhost:8080/"
        },
        "id": "8iRdT3WPWSeI",
        "outputId": "a0a24887-eed0-46e0-d6d0-db707b37197e"
      },
      "execution_count": 52,
      "outputs": [
        {
          "output_type": "execute_result",
          "data": {
            "text/plain": [
              "Address\n",
              "AUTOROUTE A1                2816\n",
              "AUTOROUTE A86               2495\n",
              "A4                          2244\n",
              "A13                         2164\n",
              "AUTOROUTE A6                1990\n",
              "                            ... \n",
              "49, QUAI FRANCOIS MAURIA       1\n",
              "34, BOULEVARD ARAGO            1\n",
              "angle, BOULEVARD MASSENA       1\n",
              "19, PLACE JEANNE D ARC         1\n",
              "TOULOUSE(AVENUE)               1\n",
              "Name: count, Length: 364688, dtype: int64"
            ]
          },
          "metadata": {},
          "execution_count": 52
        }
      ]
    },
    {
      "cell_type": "code",
      "source": [
        "df['Address'].isna().sum()"
      ],
      "metadata": {
        "colab": {
          "base_uri": "https://localhost:8080/"
        },
        "id": "OFhQqKp-b0cE",
        "outputId": "e3f7da5c-5dc8-44a2-e24a-b09383ec9ea4"
      },
      "execution_count": 53,
      "outputs": [
        {
          "output_type": "execute_result",
          "data": {
            "text/plain": [
              "140542"
            ]
          },
          "metadata": {},
          "execution_count": 53
        }
      ]
    },
    {
      "cell_type": "markdown",
      "source": [
        "Address row is useless"
      ],
      "metadata": {
        "id": "hLc3Qzon-y0M"
      }
    },
    {
      "cell_type": "code",
      "source": [
        "df.drop('Address', axis=1, inplace=True)"
      ],
      "metadata": {
        "id": "cgykFfQEc5t5"
      },
      "execution_count": 54,
      "outputs": []
    },
    {
      "cell_type": "markdown",
      "source": [
        "## Intersection"
      ],
      "metadata": {
        "id": "NWCgGNv1XRiy"
      }
    },
    {
      "cell_type": "markdown",
      "source": [
        "Type of Intersection:\n",
        "\n",
        "1 - Out of intersection\n",
        "\n",
        "2 - Intersection in X\n",
        "\n",
        "3 - Intersection in T\n",
        "\n",
        "4 - Intersection in Y\n",
        "\n",
        "5 - Intersection with more than 4 branches\n",
        "\n",
        "6 - Giratory\n",
        "\n",
        "7 - Place\n",
        "\n",
        "8 - Level crossing\n",
        "\n",
        "9 - Other intersection"
      ],
      "metadata": {
        "id": "ug_rOndFbGog"
      }
    },
    {
      "cell_type": "code",
      "source": [
        "df['Intersection'].value_counts()"
      ],
      "metadata": {
        "colab": {
          "base_uri": "https://localhost:8080/"
        },
        "id": "fNDruWDxWScB",
        "outputId": "9b858cb0-7592-448b-f1dd-5883acb7a59e"
      },
      "execution_count": 55,
      "outputs": [
        {
          "output_type": "execute_result",
          "data": {
            "text/plain": [
              "Intersection\n",
              "1    599652\n",
              "2    103008\n",
              "3     73774\n",
              "6     22358\n",
              "9     13247\n",
              "4     11481\n",
              "5      9364\n",
              "7      6075\n",
              "8       920\n",
              "0       106\n",
              "Name: count, dtype: int64"
            ]
          },
          "metadata": {},
          "execution_count": 55
        }
      ]
    },
    {
      "cell_type": "code",
      "source": [
        "df['Intersection'].isna().sum()"
      ],
      "metadata": {
        "colab": {
          "base_uri": "https://localhost:8080/"
        },
        "id": "ZRYv1SvHWSZp",
        "outputId": "b8858998-93bc-4947-9a60-9782476fef7d"
      },
      "execution_count": 56,
      "outputs": [
        {
          "output_type": "execute_result",
          "data": {
            "text/plain": [
              "0"
            ]
          },
          "metadata": {},
          "execution_count": 56
        }
      ]
    },
    {
      "cell_type": "markdown",
      "source": [
        "## Atmospheric conditions"
      ],
      "metadata": {
        "id": "Md1GHPgbXUPQ"
      }
    },
    {
      "cell_type": "markdown",
      "source": [
        "Atmospheric conditions:\n",
        "\n",
        "1 - Normal\n",
        "\n",
        "2 - Light rain\n",
        "\n",
        "3 - Heavy rain\n",
        "\n",
        "4 - Snow - hail\n",
        "\n",
        "5 - Fog - smoke\n",
        "\n",
        "6 - Strong wind - storm\n",
        "\n",
        "7 - Dazzling weather\n",
        "\n",
        "8 - Cloudy weather\n",
        "\n",
        "9 - Other"
      ],
      "metadata": {
        "id": "vUdeNcSRbLVZ"
      }
    },
    {
      "cell_type": "code",
      "source": [
        "df['Atmospheric conditions'].value_counts()"
      ],
      "metadata": {
        "colab": {
          "base_uri": "https://localhost:8080/"
        },
        "id": "Hzt14fuyWSRS",
        "outputId": "da4f6159-fdb0-4687-cb7a-a2770af8c1d4"
      },
      "execution_count": 57,
      "outputs": [
        {
          "output_type": "execute_result",
          "data": {
            "text/plain": [
              "Atmospheric conditions\n",
              "1.0    680577\n",
              "2.0     87150\n",
              "8.0     27317\n",
              "3.0     18082\n",
              "7.0      7879\n",
              "9.0      6298\n",
              "5.0      5485\n",
              "4.0      5151\n",
              "6.0      1991\n",
              "Name: count, dtype: int64"
            ]
          },
          "metadata": {},
          "execution_count": 57
        }
      ]
    },
    {
      "cell_type": "code",
      "source": [
        "df['Atmospheric conditions'].isna().sum()"
      ],
      "metadata": {
        "colab": {
          "base_uri": "https://localhost:8080/"
        },
        "id": "YZGgwX8yWSKI",
        "outputId": "37116474-e276-4d62-a46d-ceae51a7fa43"
      },
      "execution_count": 58,
      "outputs": [
        {
          "output_type": "execute_result",
          "data": {
            "text/plain": [
              "55"
            ]
          },
          "metadata": {},
          "execution_count": 58
        }
      ]
    },
    {
      "cell_type": "code",
      "source": [
        "fill_with_most_common(df, 'Atmospheric conditions')"
      ],
      "metadata": {
        "id": "RYAVtTq7BEWs"
      },
      "execution_count": 59,
      "outputs": []
    },
    {
      "cell_type": "markdown",
      "source": [
        "## Collision type"
      ],
      "metadata": {
        "id": "IN439DjqXVJJ"
      }
    },
    {
      "cell_type": "markdown",
      "source": [
        "Type of collision:\n",
        "\n",
        "1 - Two vehicles - frontal\n",
        "\n",
        "2 - Two vehicles - from the rear\n",
        "\n",
        "3 - Two vehicles - by the side\n",
        "\n",
        "4 - Three vehicles and more - in chain\n",
        "\n",
        "5 - Three or more vehicles - multiple collisions\n",
        "\n",
        "6 - Other collision\n",
        "\n",
        "7 - Without collision"
      ],
      "metadata": {
        "id": "WG0Ht8iJbOrL"
      }
    },
    {
      "cell_type": "code",
      "source": [
        "df['Collision type'].value_counts()"
      ],
      "metadata": {
        "colab": {
          "base_uri": "https://localhost:8080/"
        },
        "id": "2rrHkerOWXdp",
        "outputId": "14321af0-eb8e-4b1c-b01a-ef72a77ef52c"
      },
      "execution_count": 60,
      "outputs": [
        {
          "output_type": "execute_result",
          "data": {
            "text/plain": [
              "Collision type\n",
              "6.0    277153\n",
              "3.0    242732\n",
              "2.0     96778\n",
              "7.0     87688\n",
              "1.0     83491\n",
              "5.0     26873\n",
              "4.0     25259\n",
              "Name: count, dtype: int64"
            ]
          },
          "metadata": {},
          "execution_count": 60
        }
      ]
    },
    {
      "cell_type": "code",
      "source": [
        "df['Collision type'].isna().sum()"
      ],
      "metadata": {
        "colab": {
          "base_uri": "https://localhost:8080/"
        },
        "id": "xaFTn5JdWXZw",
        "outputId": "384d5d6b-4429-46a5-8592-0dffec336c1b"
      },
      "execution_count": 61,
      "outputs": [
        {
          "output_type": "execute_result",
          "data": {
            "text/plain": [
              "11"
            ]
          },
          "metadata": {},
          "execution_count": 61
        }
      ]
    },
    {
      "cell_type": "code",
      "source": [
        "fill_with_most_common(df, 'Collision type')"
      ],
      "metadata": {
        "id": "QMAkXo3mA_Zc"
      },
      "execution_count": 62,
      "outputs": []
    },
    {
      "cell_type": "markdown",
      "source": [
        "## Municipality\n",
        "\n",
        "The commune number is a code given by INSEE. The code has 3 numbers set to the right."
      ],
      "metadata": {
        "id": "JfqDGtp5XWwg"
      }
    },
    {
      "cell_type": "code",
      "source": [
        "df['Municipality'].value_counts()"
      ],
      "metadata": {
        "colab": {
          "base_uri": "https://localhost:8080/"
        },
        "id": "2lwK6gvRWXXF",
        "outputId": "b5f8561a-eb59-461d-9ce0-cb9de3baf158"
      },
      "execution_count": 63,
      "outputs": [
        {
          "output_type": "execute_result",
          "data": {
            "text/plain": [
              "Municipality\n",
              "55.0     32563\n",
              "88.0     13982\n",
              "7.0      10646\n",
              "63.0     10176\n",
              "113.0     9895\n",
              "         ...  \n",
              "952.0        1\n",
              "925.0        1\n",
              "892.0        1\n",
              "878.0        1\n",
              "847.0        1\n",
              "Name: count, Length: 924, dtype: int64"
            ]
          },
          "metadata": {},
          "execution_count": 63
        }
      ]
    },
    {
      "cell_type": "code",
      "source": [
        "df['Municipality'].isna().sum()"
      ],
      "metadata": {
        "colab": {
          "base_uri": "https://localhost:8080/"
        },
        "id": "32EMmrD4Wp7J",
        "outputId": "3be98589-c2ae-45de-814d-1624cd1e2449"
      },
      "execution_count": 64,
      "outputs": [
        {
          "output_type": "execute_result",
          "data": {
            "text/plain": [
              "2"
            ]
          },
          "metadata": {},
          "execution_count": 64
        }
      ]
    },
    {
      "cell_type": "code",
      "source": [
        "fill_with_most_common(df, 'Municipality')"
      ],
      "metadata": {
        "id": "zfKDrA_cAFO2"
      },
      "execution_count": 65,
      "outputs": []
    },
    {
      "cell_type": "markdown",
      "source": [
        "## Department\n",
        "\n"
      ],
      "metadata": {
        "id": "aDpwQKfFXXhQ"
      }
    },
    {
      "cell_type": "markdown",
      "source": [
        "INSEE Code (National Institute of Statistics and Economic Studies) of the departmeent followed by a 0 (201 Corse-du-Sud - 202 Haute-Corse)"
      ],
      "metadata": {
        "id": "TTVYz0AIbVP7"
      }
    },
    {
      "cell_type": "code",
      "source": [
        "df['Department'].value_counts()"
      ],
      "metadata": {
        "colab": {
          "base_uri": "https://localhost:8080/"
        },
        "id": "5TbUEgETWxpx",
        "outputId": "e30226d3-fc10-434c-96f2-c94d5649485b"
      },
      "execution_count": 66,
      "outputs": [
        {
          "output_type": "execute_result",
          "data": {
            "text/plain": [
              "Department\n",
              "750    87482\n",
              "130    52188\n",
              "930    33810\n",
              "920    31261\n",
              "940    29389\n",
              "       ...  \n",
              "90      1272\n",
              "150     1012\n",
              "230      953\n",
              "480      949\n",
              "976      542\n",
              "Name: count, Length: 101, dtype: int64"
            ]
          },
          "metadata": {},
          "execution_count": 66
        }
      ]
    },
    {
      "cell_type": "code",
      "source": [
        "df['Department'].isna().sum()"
      ],
      "metadata": {
        "colab": {
          "base_uri": "https://localhost:8080/"
        },
        "id": "qJ4l82-cWxjx",
        "outputId": "3c7f256c-9f1b-4852-d393-92039b3f15a5"
      },
      "execution_count": 67,
      "outputs": [
        {
          "output_type": "execute_result",
          "data": {
            "text/plain": [
              "0"
            ]
          },
          "metadata": {},
          "execution_count": 67
        }
      ]
    },
    {
      "cell_type": "markdown",
      "source": [
        "## gps"
      ],
      "metadata": {
        "id": "Li7QvJMIXZhA"
      }
    },
    {
      "cell_type": "markdown",
      "source": [
        "**GPS coding: 1 originator character:**\n",
        "\n",
        "M = Métropole\n",
        "\n",
        "A = Antilles (Martinique or Guadeloupe)\n",
        "\n",
        "G = Guyane\n",
        "\n",
        "R = Réunion\n",
        "\n",
        "Y = Mayotte"
      ],
      "metadata": {
        "id": "d2pw74SZfc7z"
      }
    },
    {
      "cell_type": "code",
      "source": [
        "df['gps'].value_counts()"
      ],
      "metadata": {
        "colab": {
          "base_uri": "https://localhost:8080/"
        },
        "id": "koFgdIlaWp3B",
        "outputId": "c4d353fa-1dd8-488f-92d7-4ccdc2a138a0"
      },
      "execution_count": 68,
      "outputs": [
        {
          "output_type": "execute_result",
          "data": {
            "text/plain": [
              "gps\n",
              "M    352824\n",
              "A      6545\n",
              "R      4161\n",
              "G      2349\n",
              "Y       329\n",
              "0         9\n",
              "S         4\n",
              "T         2\n",
              "C         2\n",
              "P         1\n",
              "Name: count, dtype: int64"
            ]
          },
          "metadata": {},
          "execution_count": 68
        }
      ]
    },
    {
      "cell_type": "code",
      "source": [
        "df['gps'].isna().sum()"
      ],
      "metadata": {
        "colab": {
          "base_uri": "https://localhost:8080/"
        },
        "id": "gb82koB5WpvS",
        "outputId": "238c54fe-25f1-4dab-aae4-743c3a49878e"
      },
      "execution_count": 69,
      "outputs": [
        {
          "output_type": "execute_result",
          "data": {
            "text/plain": [
              "473759"
            ]
          },
          "metadata": {},
          "execution_count": 69
        }
      ]
    },
    {
      "cell_type": "code",
      "source": [
        "df.drop('gps', axis=1, inplace=True)"
      ],
      "metadata": {
        "id": "2kAvPbN9CAlG"
      },
      "execution_count": 70,
      "outputs": []
    },
    {
      "cell_type": "markdown",
      "source": [
        "## Lon & Lat"
      ],
      "metadata": {
        "id": "Ys5lzZhlXafA"
      }
    },
    {
      "cell_type": "code",
      "source": [
        "df['long'].value_counts()"
      ],
      "metadata": {
        "colab": {
          "base_uri": "https://localhost:8080/"
        },
        "id": "LZR2NEVuWpkx",
        "outputId": "d59c57bb-ae87-484e-9bfe-378b7d8b6c9a"
      },
      "execution_count": 71,
      "outputs": [
        {
          "output_type": "execute_result",
          "data": {
            "text/plain": [
              "long\n",
              "0.0          105356\n",
              "0             32301\n",
              "-              3209\n",
              "345699.0        154\n",
              "247391.0         41\n",
              "              ...  \n",
              "-150982.0         1\n",
              "-148092.0         1\n",
              "-153343.0         1\n",
              "-149269.0         1\n",
              "6086700.0         1\n",
              "Name: count, Length: 142013, dtype: int64"
            ]
          },
          "metadata": {},
          "execution_count": 71
        }
      ]
    },
    {
      "cell_type": "code",
      "source": [
        "df['long'].isna().sum()"
      ],
      "metadata": {
        "colab": {
          "base_uri": "https://localhost:8080/"
        },
        "id": "ehWHxLICbtT7",
        "outputId": "648d12d3-dfdc-472d-b96d-edb53b0cc9ab"
      },
      "execution_count": 72,
      "outputs": [
        {
          "output_type": "execute_result",
          "data": {
            "text/plain": [
              "477518"
            ]
          },
          "metadata": {},
          "execution_count": 72
        }
      ]
    },
    {
      "cell_type": "code",
      "source": [
        "df['lat'].value_counts()"
      ],
      "metadata": {
        "colab": {
          "base_uri": "https://localhost:8080/"
        },
        "id": "Hfi8GwWRgSEz",
        "outputId": "4543495b-8a64-49a6-a6ef-5d9d5a481625"
      },
      "execution_count": 73,
      "outputs": [
        {
          "output_type": "execute_result",
          "data": {
            "text/plain": [
              "lat\n",
              "0.0          117839\n",
              "4.0           22481\n",
              "5.0             406\n",
              "4881740.0        60\n",
              "4881750.0        57\n",
              "              ...  \n",
              "4811298.0         1\n",
              "4815684.0         1\n",
              "4854475.0         1\n",
              "4807827.0         1\n",
              "4322423.0         1\n",
              "Name: count, Length: 112591, dtype: int64"
            ]
          },
          "metadata": {},
          "execution_count": 73
        }
      ]
    },
    {
      "cell_type": "code",
      "source": [
        "df['lat'].isna().sum()"
      ],
      "metadata": {
        "colab": {
          "base_uri": "https://localhost:8080/"
        },
        "id": "nNVZBb2AgShi",
        "outputId": "af218784-0fe8-4f94-94e8-b75cb68a0650"
      },
      "execution_count": 74,
      "outputs": [
        {
          "output_type": "execute_result",
          "data": {
            "text/plain": [
              "477514"
            ]
          },
          "metadata": {},
          "execution_count": 74
        }
      ]
    },
    {
      "cell_type": "code",
      "source": [
        "print('Correct long coordinates:')\n",
        "df.shape[0]-df['long'].isna().sum() - len(df[df['long'] == 0.0]) - len(df[df['long'] == '0']) - len(df[df['long'] == '-'])"
      ],
      "metadata": {
        "colab": {
          "base_uri": "https://localhost:8080/"
        },
        "id": "pmQTM1e2gz4K",
        "outputId": "ad072646-80ca-4b5f-fbf8-d2f907d187f4"
      },
      "execution_count": 75,
      "outputs": [
        {
          "output_type": "stream",
          "name": "stdout",
          "text": [
            "Correct long coordinates:\n"
          ]
        },
        {
          "output_type": "execute_result",
          "data": {
            "text/plain": [
              "221601"
            ]
          },
          "metadata": {},
          "execution_count": 75
        }
      ]
    },
    {
      "cell_type": "code",
      "source": [
        "print('Correct lat coordinates:')\n",
        "df.shape[0]-df['lat'].isna().sum() - len(df[df['lat'] == 0.0])"
      ],
      "metadata": {
        "colab": {
          "base_uri": "https://localhost:8080/"
        },
        "id": "GV5vd5SahjlK",
        "outputId": "2c073f30-ec18-4db2-e10c-32e4812f46bf"
      },
      "execution_count": 76,
      "outputs": [
        {
          "output_type": "stream",
          "name": "stdout",
          "text": [
            "Correct lat coordinates:\n"
          ]
        },
        {
          "output_type": "execute_result",
          "data": {
            "text/plain": [
              "244632"
            ]
          },
          "metadata": {},
          "execution_count": 76
        }
      ]
    },
    {
      "cell_type": "code",
      "source": [
        "df.drop('long', axis=1, inplace=True)\n",
        "df.drop('lat', axis=1, inplace=True)"
      ],
      "metadata": {
        "id": "LRNQKpjFCMb8"
      },
      "execution_count": 77,
      "outputs": []
    },
    {
      "cell_type": "markdown",
      "source": [
        "## Holidays\n",
        "\n",
        "I don't think we should keep if the event was on a specific holiday. We should only store if it was a holiday or not."
      ],
      "metadata": {
        "id": "NBgWfweIFKeD"
      }
    },
    {
      "cell_type": "code",
      "source": [
        "cols = list(df.columns)\n",
        "cols[8:19]"
      ],
      "metadata": {
        "colab": {
          "base_uri": "https://localhost:8080/"
        },
        "id": "ZhUkZABfFMSZ",
        "outputId": "2fc89021-c2b1-4312-e8f4-676cdd3cb37c"
      },
      "execution_count": 81,
      "outputs": [
        {
          "output_type": "execute_result",
          "data": {
            "text/plain": [
              "['New year',\n",
              " 'Easter Monday',\n",
              " 'Labour Day',\n",
              " 'Ascension Thursday',\n",
              " 'Victory in Europe Day',\n",
              " 'Whit Monday',\n",
              " 'Bastille Day',\n",
              " 'Assumption of Mary to Heaven',\n",
              " 'All Saints Day',\n",
              " 'Armistice Day',\n",
              " 'Christmas Day']"
            ]
          },
          "metadata": {},
          "execution_count": 81
        }
      ]
    },
    {
      "cell_type": "code",
      "source": [
        "df.drop(cols[8:19], axis=1, inplace=True)"
      ],
      "metadata": {
        "id": "rk54iqYTFshZ"
      },
      "execution_count": 83,
      "outputs": []
    },
    {
      "cell_type": "markdown",
      "source": [
        "# Result"
      ],
      "metadata": {
        "id": "sGJV5qQTCRPm"
      }
    },
    {
      "cell_type": "code",
      "source": [
        "df.head()"
      ],
      "metadata": {
        "colab": {
          "base_uri": "https://localhost:8080/",
          "height": 206
        },
        "id": "nbdtJVrdCQor",
        "outputId": "635b1f33-fab3-4167-9c19-d1b89eb07fd1"
      },
      "execution_count": 84,
      "outputs": [
        {
          "output_type": "execute_result",
          "data": {
            "text/plain": [
              "        Num_Acc  Lighting  Localisation  Intersection  Atmospheric conditions  \\\n",
              "0  201600000001         1             2             1                     8.0   \n",
              "1  201600000002         1             2             6                     1.0   \n",
              "2  201600000003         1             1             1                     1.0   \n",
              "3  201600000004         3             2             1                     7.0   \n",
              "4  201600000005         1             2             3                     1.0   \n",
              "\n",
              "   Collision type  Municipality  Department       Date  Holiday  Time_of_day  \n",
              "0             3.0           5.0         590 2016-02-01        0            4  \n",
              "1             6.0           5.0         590 2016-03-16        0            5  \n",
              "2             6.0          11.0         590 2016-07-13        0            5  \n",
              "3             3.0         477.0         590 2016-08-15        1            5  \n",
              "4             3.0          11.0         590 2016-12-23        0            3  "
            ],
            "text/html": [
              "\n",
              "  <div id=\"df-e278b2b2-a902-41b0-a879-3361bb68364b\" class=\"colab-df-container\">\n",
              "    <div>\n",
              "<style scoped>\n",
              "    .dataframe tbody tr th:only-of-type {\n",
              "        vertical-align: middle;\n",
              "    }\n",
              "\n",
              "    .dataframe tbody tr th {\n",
              "        vertical-align: top;\n",
              "    }\n",
              "\n",
              "    .dataframe thead th {\n",
              "        text-align: right;\n",
              "    }\n",
              "</style>\n",
              "<table border=\"1\" class=\"dataframe\">\n",
              "  <thead>\n",
              "    <tr style=\"text-align: right;\">\n",
              "      <th></th>\n",
              "      <th>Num_Acc</th>\n",
              "      <th>Lighting</th>\n",
              "      <th>Localisation</th>\n",
              "      <th>Intersection</th>\n",
              "      <th>Atmospheric conditions</th>\n",
              "      <th>Collision type</th>\n",
              "      <th>Municipality</th>\n",
              "      <th>Department</th>\n",
              "      <th>Date</th>\n",
              "      <th>Holiday</th>\n",
              "      <th>Time_of_day</th>\n",
              "    </tr>\n",
              "  </thead>\n",
              "  <tbody>\n",
              "    <tr>\n",
              "      <th>0</th>\n",
              "      <td>201600000001</td>\n",
              "      <td>1</td>\n",
              "      <td>2</td>\n",
              "      <td>1</td>\n",
              "      <td>8.0</td>\n",
              "      <td>3.0</td>\n",
              "      <td>5.0</td>\n",
              "      <td>590</td>\n",
              "      <td>2016-02-01</td>\n",
              "      <td>0</td>\n",
              "      <td>4</td>\n",
              "    </tr>\n",
              "    <tr>\n",
              "      <th>1</th>\n",
              "      <td>201600000002</td>\n",
              "      <td>1</td>\n",
              "      <td>2</td>\n",
              "      <td>6</td>\n",
              "      <td>1.0</td>\n",
              "      <td>6.0</td>\n",
              "      <td>5.0</td>\n",
              "      <td>590</td>\n",
              "      <td>2016-03-16</td>\n",
              "      <td>0</td>\n",
              "      <td>5</td>\n",
              "    </tr>\n",
              "    <tr>\n",
              "      <th>2</th>\n",
              "      <td>201600000003</td>\n",
              "      <td>1</td>\n",
              "      <td>1</td>\n",
              "      <td>1</td>\n",
              "      <td>1.0</td>\n",
              "      <td>6.0</td>\n",
              "      <td>11.0</td>\n",
              "      <td>590</td>\n",
              "      <td>2016-07-13</td>\n",
              "      <td>0</td>\n",
              "      <td>5</td>\n",
              "    </tr>\n",
              "    <tr>\n",
              "      <th>3</th>\n",
              "      <td>201600000004</td>\n",
              "      <td>3</td>\n",
              "      <td>2</td>\n",
              "      <td>1</td>\n",
              "      <td>7.0</td>\n",
              "      <td>3.0</td>\n",
              "      <td>477.0</td>\n",
              "      <td>590</td>\n",
              "      <td>2016-08-15</td>\n",
              "      <td>1</td>\n",
              "      <td>5</td>\n",
              "    </tr>\n",
              "    <tr>\n",
              "      <th>4</th>\n",
              "      <td>201600000005</td>\n",
              "      <td>1</td>\n",
              "      <td>2</td>\n",
              "      <td>3</td>\n",
              "      <td>1.0</td>\n",
              "      <td>3.0</td>\n",
              "      <td>11.0</td>\n",
              "      <td>590</td>\n",
              "      <td>2016-12-23</td>\n",
              "      <td>0</td>\n",
              "      <td>3</td>\n",
              "    </tr>\n",
              "  </tbody>\n",
              "</table>\n",
              "</div>\n",
              "    <div class=\"colab-df-buttons\">\n",
              "\n",
              "  <div class=\"colab-df-container\">\n",
              "    <button class=\"colab-df-convert\" onclick=\"convertToInteractive('df-e278b2b2-a902-41b0-a879-3361bb68364b')\"\n",
              "            title=\"Convert this dataframe to an interactive table.\"\n",
              "            style=\"display:none;\">\n",
              "\n",
              "  <svg xmlns=\"http://www.w3.org/2000/svg\" height=\"24px\" viewBox=\"0 -960 960 960\">\n",
              "    <path d=\"M120-120v-720h720v720H120Zm60-500h600v-160H180v160Zm220 220h160v-160H400v160Zm0 220h160v-160H400v160ZM180-400h160v-160H180v160Zm440 0h160v-160H620v160ZM180-180h160v-160H180v160Zm440 0h160v-160H620v160Z\"/>\n",
              "  </svg>\n",
              "    </button>\n",
              "\n",
              "  <style>\n",
              "    .colab-df-container {\n",
              "      display:flex;\n",
              "      gap: 12px;\n",
              "    }\n",
              "\n",
              "    .colab-df-convert {\n",
              "      background-color: #E8F0FE;\n",
              "      border: none;\n",
              "      border-radius: 50%;\n",
              "      cursor: pointer;\n",
              "      display: none;\n",
              "      fill: #1967D2;\n",
              "      height: 32px;\n",
              "      padding: 0 0 0 0;\n",
              "      width: 32px;\n",
              "    }\n",
              "\n",
              "    .colab-df-convert:hover {\n",
              "      background-color: #E2EBFA;\n",
              "      box-shadow: 0px 1px 2px rgba(60, 64, 67, 0.3), 0px 1px 3px 1px rgba(60, 64, 67, 0.15);\n",
              "      fill: #174EA6;\n",
              "    }\n",
              "\n",
              "    .colab-df-buttons div {\n",
              "      margin-bottom: 4px;\n",
              "    }\n",
              "\n",
              "    [theme=dark] .colab-df-convert {\n",
              "      background-color: #3B4455;\n",
              "      fill: #D2E3FC;\n",
              "    }\n",
              "\n",
              "    [theme=dark] .colab-df-convert:hover {\n",
              "      background-color: #434B5C;\n",
              "      box-shadow: 0px 1px 3px 1px rgba(0, 0, 0, 0.15);\n",
              "      filter: drop-shadow(0px 1px 2px rgba(0, 0, 0, 0.3));\n",
              "      fill: #FFFFFF;\n",
              "    }\n",
              "  </style>\n",
              "\n",
              "    <script>\n",
              "      const buttonEl =\n",
              "        document.querySelector('#df-e278b2b2-a902-41b0-a879-3361bb68364b button.colab-df-convert');\n",
              "      buttonEl.style.display =\n",
              "        google.colab.kernel.accessAllowed ? 'block' : 'none';\n",
              "\n",
              "      async function convertToInteractive(key) {\n",
              "        const element = document.querySelector('#df-e278b2b2-a902-41b0-a879-3361bb68364b');\n",
              "        const dataTable =\n",
              "          await google.colab.kernel.invokeFunction('convertToInteractive',\n",
              "                                                    [key], {});\n",
              "        if (!dataTable) return;\n",
              "\n",
              "        const docLinkHtml = 'Like what you see? Visit the ' +\n",
              "          '<a target=\"_blank\" href=https://colab.research.google.com/notebooks/data_table.ipynb>data table notebook</a>'\n",
              "          + ' to learn more about interactive tables.';\n",
              "        element.innerHTML = '';\n",
              "        dataTable['output_type'] = 'display_data';\n",
              "        await google.colab.output.renderOutput(dataTable, element);\n",
              "        const docLink = document.createElement('div');\n",
              "        docLink.innerHTML = docLinkHtml;\n",
              "        element.appendChild(docLink);\n",
              "      }\n",
              "    </script>\n",
              "  </div>\n",
              "\n",
              "\n",
              "<div id=\"df-60ced424-8e02-47c8-b800-dff85785bd7f\">\n",
              "  <button class=\"colab-df-quickchart\" onclick=\"quickchart('df-60ced424-8e02-47c8-b800-dff85785bd7f')\"\n",
              "            title=\"Suggest charts\"\n",
              "            style=\"display:none;\">\n",
              "\n",
              "<svg xmlns=\"http://www.w3.org/2000/svg\" height=\"24px\"viewBox=\"0 0 24 24\"\n",
              "     width=\"24px\">\n",
              "    <g>\n",
              "        <path d=\"M19 3H5c-1.1 0-2 .9-2 2v14c0 1.1.9 2 2 2h14c1.1 0 2-.9 2-2V5c0-1.1-.9-2-2-2zM9 17H7v-7h2v7zm4 0h-2V7h2v10zm4 0h-2v-4h2v4z\"/>\n",
              "    </g>\n",
              "</svg>\n",
              "  </button>\n",
              "\n",
              "<style>\n",
              "  .colab-df-quickchart {\n",
              "      --bg-color: #E8F0FE;\n",
              "      --fill-color: #1967D2;\n",
              "      --hover-bg-color: #E2EBFA;\n",
              "      --hover-fill-color: #174EA6;\n",
              "      --disabled-fill-color: #AAA;\n",
              "      --disabled-bg-color: #DDD;\n",
              "  }\n",
              "\n",
              "  [theme=dark] .colab-df-quickchart {\n",
              "      --bg-color: #3B4455;\n",
              "      --fill-color: #D2E3FC;\n",
              "      --hover-bg-color: #434B5C;\n",
              "      --hover-fill-color: #FFFFFF;\n",
              "      --disabled-bg-color: #3B4455;\n",
              "      --disabled-fill-color: #666;\n",
              "  }\n",
              "\n",
              "  .colab-df-quickchart {\n",
              "    background-color: var(--bg-color);\n",
              "    border: none;\n",
              "    border-radius: 50%;\n",
              "    cursor: pointer;\n",
              "    display: none;\n",
              "    fill: var(--fill-color);\n",
              "    height: 32px;\n",
              "    padding: 0;\n",
              "    width: 32px;\n",
              "  }\n",
              "\n",
              "  .colab-df-quickchart:hover {\n",
              "    background-color: var(--hover-bg-color);\n",
              "    box-shadow: 0 1px 2px rgba(60, 64, 67, 0.3), 0 1px 3px 1px rgba(60, 64, 67, 0.15);\n",
              "    fill: var(--button-hover-fill-color);\n",
              "  }\n",
              "\n",
              "  .colab-df-quickchart-complete:disabled,\n",
              "  .colab-df-quickchart-complete:disabled:hover {\n",
              "    background-color: var(--disabled-bg-color);\n",
              "    fill: var(--disabled-fill-color);\n",
              "    box-shadow: none;\n",
              "  }\n",
              "\n",
              "  .colab-df-spinner {\n",
              "    border: 2px solid var(--fill-color);\n",
              "    border-color: transparent;\n",
              "    border-bottom-color: var(--fill-color);\n",
              "    animation:\n",
              "      spin 1s steps(1) infinite;\n",
              "  }\n",
              "\n",
              "  @keyframes spin {\n",
              "    0% {\n",
              "      border-color: transparent;\n",
              "      border-bottom-color: var(--fill-color);\n",
              "      border-left-color: var(--fill-color);\n",
              "    }\n",
              "    20% {\n",
              "      border-color: transparent;\n",
              "      border-left-color: var(--fill-color);\n",
              "      border-top-color: var(--fill-color);\n",
              "    }\n",
              "    30% {\n",
              "      border-color: transparent;\n",
              "      border-left-color: var(--fill-color);\n",
              "      border-top-color: var(--fill-color);\n",
              "      border-right-color: var(--fill-color);\n",
              "    }\n",
              "    40% {\n",
              "      border-color: transparent;\n",
              "      border-right-color: var(--fill-color);\n",
              "      border-top-color: var(--fill-color);\n",
              "    }\n",
              "    60% {\n",
              "      border-color: transparent;\n",
              "      border-right-color: var(--fill-color);\n",
              "    }\n",
              "    80% {\n",
              "      border-color: transparent;\n",
              "      border-right-color: var(--fill-color);\n",
              "      border-bottom-color: var(--fill-color);\n",
              "    }\n",
              "    90% {\n",
              "      border-color: transparent;\n",
              "      border-bottom-color: var(--fill-color);\n",
              "    }\n",
              "  }\n",
              "</style>\n",
              "\n",
              "  <script>\n",
              "    async function quickchart(key) {\n",
              "      const quickchartButtonEl =\n",
              "        document.querySelector('#' + key + ' button');\n",
              "      quickchartButtonEl.disabled = true;  // To prevent multiple clicks.\n",
              "      quickchartButtonEl.classList.add('colab-df-spinner');\n",
              "      try {\n",
              "        const charts = await google.colab.kernel.invokeFunction(\n",
              "            'suggestCharts', [key], {});\n",
              "      } catch (error) {\n",
              "        console.error('Error during call to suggestCharts:', error);\n",
              "      }\n",
              "      quickchartButtonEl.classList.remove('colab-df-spinner');\n",
              "      quickchartButtonEl.classList.add('colab-df-quickchart-complete');\n",
              "    }\n",
              "    (() => {\n",
              "      let quickchartButtonEl =\n",
              "        document.querySelector('#df-60ced424-8e02-47c8-b800-dff85785bd7f button');\n",
              "      quickchartButtonEl.style.display =\n",
              "        google.colab.kernel.accessAllowed ? 'block' : 'none';\n",
              "    })();\n",
              "  </script>\n",
              "</div>\n",
              "    </div>\n",
              "  </div>\n"
            ],
            "application/vnd.google.colaboratory.intrinsic+json": {
              "type": "dataframe",
              "variable_name": "df"
            }
          },
          "metadata": {},
          "execution_count": 84
        }
      ]
    },
    {
      "cell_type": "code",
      "source": [
        "df.to_csv('data/characteristics_prepped.csv', index=False)"
      ],
      "metadata": {
        "id": "vkQMdgP0CoRL"
      },
      "execution_count": 85,
      "outputs": []
    },
    {
      "cell_type": "markdown",
      "source": [
        "### Correlation"
      ],
      "metadata": {
        "id": "l4UCcCPpK9lZ"
      }
    },
    {
      "cell_type": "code",
      "source": [
        "cols = list(df.columns)\n",
        "cols = cols[1:6] + cols[8:]\n",
        "cols"
      ],
      "metadata": {
        "id": "ZjuD7JZbK_53",
        "colab": {
          "base_uri": "https://localhost:8080/"
        },
        "outputId": "d0aba8fd-8d02-4f6c-b8df-d0ddf46e34a2"
      },
      "execution_count": 96,
      "outputs": [
        {
          "output_type": "execute_result",
          "data": {
            "text/plain": [
              "['Lighting',\n",
              " 'Localisation',\n",
              " 'Intersection',\n",
              " 'Atmospheric conditions',\n",
              " 'Collision type',\n",
              " 'Date',\n",
              " 'Holiday',\n",
              " 'Time_of_day']"
            ]
          },
          "metadata": {},
          "execution_count": 96
        }
      ]
    },
    {
      "cell_type": "code",
      "source": [
        "corr = df[cols].corr(method=cramersv, numeric_only=False)\n",
        "sns.heatmap(corr, square=True, annot=True)"
      ],
      "metadata": {
        "colab": {
          "base_uri": "https://localhost:8080/",
          "height": 601
        },
        "id": "TgJFgZ-vNJHH",
        "outputId": "ca681203-1cca-448b-cb61-03ef544590b5"
      },
      "execution_count": 97,
      "outputs": [
        {
          "output_type": "execute_result",
          "data": {
            "text/plain": [
              "<Axes: >"
            ]
          },
          "metadata": {},
          "execution_count": 97
        },
        {
          "output_type": "display_data",
          "data": {
            "text/plain": [
              "<Figure size 640x480 with 2 Axes>"
            ],
            "image/png": "[encoded data removed]"
          },
          "metadata": {}
        }
      ]
    },
    {
      "cell_type": "code",
      "source": [
        "df.shape"
      ],
      "metadata": {
        "colab": {
          "base_uri": "https://localhost:8080/"
        },
        "id": "Z9nvAwFcNyc3",
        "outputId": "d99a9606-39e8-4b47-a340-38d3287eb61e"
      },
      "execution_count": 98,
      "outputs": [
        {
          "output_type": "execute_result",
          "data": {
            "text/plain": [
              "(839985, 11)"
            ]
          },
          "metadata": {},
          "execution_count": 98
        }
      ]
    },
    {
      "cell_type": "markdown",
      "source": [
        "# Notes\n",
        "\n",
        "## Bad news\n",
        "\n",
        "- **Municipality** or 'Commune number' is not really usable. Not sure what extra info could it give us, other than the place specificly. Commune number is to be used with Department to identify the specific commune. Usually needed to identify a certain address.\n",
        "\n",
        "- **Address:** Very specific. A LOT of different addresses. I don't think we need this column\n",
        "\n",
        "- **Department:** Practically postal code. Maybe keep only this, so we have a rough idea where it is, but commune number is too detailed in my opinion.\n",
        "\n",
        "- **gps:** Missing for half of the data. Not sure what to fill the null values with (maybe add a placeholder category for the null values or yeet the column to the trash)\n",
        "\n",
        "- **lon-lat:** About 230 000 are filled out correctly. Less then a quarter of the database. Coordinates should be yeeted in my opinion. Or at least normalized, and a placeholder value for the null/incorrect ones.\n",
        "\n",
        "\n",
        "## Time\n",
        "\n",
        "Maybe we should make an additional column which contains (yymmdd) number. Then maybe we could embed this continuity in the data itself. I would still keep month and day because they are useful for determining holidays, or to recognise spikes within the year.\n",
        "\n",
        "## Categoric parameters\n",
        "\n",
        "I would introduce dummy columns for most of the categoric data (except if it has something to do with space/time/continuity that can be expressed using numbers.\n"
      ],
      "metadata": {
        "id": "s3aeaQFyd2WU"
      }
    }
  ]
}