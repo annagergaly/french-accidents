{
  "nbformat": 4,
  "nbformat_minor": 0,
  "metadata": {
    "colab": {
      "provenance": []
    },
    "kernelspec": {
      "name": "python3",
      "display_name": "Python 3"
    },
    "language_info": {
      "name": "python"
    }
  },
  "cells": [
    {
      "cell_type": "markdown",
      "source": [
        "# Characteristics"
      ],
      "metadata": {
        "id": "S3BS7uxawQHe"
      }
    },
    {
      "cell_type": "code",
      "execution_count": 91,
      "metadata": {
        "id": "vRcin-4QJ9hD"
      },
      "outputs": [],
      "source": [
        "import pandas as pd"
      ]
    },
    {
      "cell_type": "code",
      "source": [
        "df = pd.read_csv('data/caracteristics.csv', encoding='latin1')"
      ],
      "metadata": {
        "colab": {
          "base_uri": "https://localhost:8080/"
        },
        "id": "9DFksgo3M5DT",
        "outputId": "11537744-b292-46da-adc2-ee4cd35563a5"
      },
      "execution_count": 92,
      "outputs": [
        {
          "output_type": "stream",
          "name": "stderr",
          "text": [
            "<ipython-input-92-9b4bedd28ad2>:1: DtypeWarning: Columns (14) have mixed types. Specify dtype option on import or set low_memory=False.\n",
            "  df = pd.read_csv('data/caracteristics.csv', encoding='latin1')\n"
          ]
        }
      ]
    },
    {
      "cell_type": "code",
      "source": [
        "def fill_with_most_common(df, column_name):\n",
        "  most_common_value = df[column_name].mode()[0]\n",
        "  df[column_name].fillna(most_common_value, inplace=True)"
      ],
      "metadata": {
        "id": "6F5plP19AyO5"
      },
      "execution_count": 93,
      "outputs": []
    },
    {
      "cell_type": "code",
      "source": [
        "df.head()"
      ],
      "metadata": {
        "colab": {
          "base_uri": "https://localhost:8080/",
          "height": 206
        },
        "id": "APjkr6bQQT8t",
        "outputId": "5b6d2b90-720b-42b4-f7b4-251622bd1fcb"
      },
      "execution_count": 94,
      "outputs": [
        {
          "output_type": "execute_result",
          "data": {
            "text/plain": [
              "        Num_Acc  an  mois  jour  hrmn  lum  agg  int  atm  col    com  \\\n",
              "0  201600000001  16     2     1  1445    1    2    1  8.0  3.0    5.0   \n",
              "1  201600000002  16     3    16  1800    1    2    6  1.0  6.0    5.0   \n",
              "2  201600000003  16     7    13  1900    1    1    1  1.0  6.0   11.0   \n",
              "3  201600000004  16     8    15  1930    2    2    1  7.0  3.0  477.0   \n",
              "4  201600000005  16    12    23  1100    1    2    3  1.0  3.0   11.0   \n",
              "\n",
              "                   adr gps  lat long  dep  \n",
              "0   46, rue Sonneville   M  0.0  0.0  590  \n",
              "1  1a rue du cimetière   M  0.0  0.0  590  \n",
              "2                  NaN   M  0.0  0.0  590  \n",
              "3   52 rue victor hugo   M  0.0  0.0  590  \n",
              "4     rue Joliot curie   M  0.0  0.0  590  "
            ],
            "text/html": [
              "\n",
              "  <div id=\"df-d125af98-3706-4970-802d-0f6786405e16\" class=\"colab-df-container\">\n",
              "    <div>\n",
              "<style scoped>\n",
              "    .dataframe tbody tr th:only-of-type {\n",
              "        vertical-align: middle;\n",
              "    }\n",
              "\n",
              "    .dataframe tbody tr th {\n",
              "        vertical-align: top;\n",
              "    }\n",
              "\n",
              "    .dataframe thead th {\n",
              "        text-align: right;\n",
              "    }\n",
              "</style>\n",
              "<table border=\"1\" class=\"dataframe\">\n",
              "  <thead>\n",
              "    <tr style=\"text-align: right;\">\n",
              "      <th></th>\n",
              "      <th>Num_Acc</th>\n",
              "      <th>an</th>\n",
              "      <th>mois</th>\n",
              "      <th>jour</th>\n",
              "      <th>hrmn</th>\n",
              "      <th>lum</th>\n",
              "      <th>agg</th>\n",
              "      <th>int</th>\n",
              "      <th>atm</th>\n",
              "      <th>col</th>\n",
              "      <th>com</th>\n",
              "      <th>adr</th>\n",
              "      <th>gps</th>\n",
              "      <th>lat</th>\n",
              "      <th>long</th>\n",
              "      <th>dep</th>\n",
              "    </tr>\n",
              "  </thead>\n",
              "  <tbody>\n",
              "    <tr>\n",
              "      <th>0</th>\n",
              "      <td>201600000001</td>\n",
              "      <td>16</td>\n",
              "      <td>2</td>\n",
              "      <td>1</td>\n",
              "      <td>1445</td>\n",
              "      <td>1</td>\n",
              "      <td>2</td>\n",
              "      <td>1</td>\n",
              "      <td>8.0</td>\n",
              "      <td>3.0</td>\n",
              "      <td>5.0</td>\n",
              "      <td>46, rue Sonneville</td>\n",
              "      <td>M</td>\n",
              "      <td>0.0</td>\n",
              "      <td>0.0</td>\n",
              "      <td>590</td>\n",
              "    </tr>\n",
              "    <tr>\n",
              "      <th>1</th>\n",
              "      <td>201600000002</td>\n",
              "      <td>16</td>\n",
              "      <td>3</td>\n",
              "      <td>16</td>\n",
              "      <td>1800</td>\n",
              "      <td>1</td>\n",
              "      <td>2</td>\n",
              "      <td>6</td>\n",
              "      <td>1.0</td>\n",
              "      <td>6.0</td>\n",
              "      <td>5.0</td>\n",
              "      <td>1a rue du cimetière</td>\n",
              "      <td>M</td>\n",
              "      <td>0.0</td>\n",
              "      <td>0.0</td>\n",
              "      <td>590</td>\n",
              "    </tr>\n",
              "    <tr>\n",
              "      <th>2</th>\n",
              "      <td>201600000003</td>\n",
              "      <td>16</td>\n",
              "      <td>7</td>\n",
              "      <td>13</td>\n",
              "      <td>1900</td>\n",
              "      <td>1</td>\n",
              "      <td>1</td>\n",
              "      <td>1</td>\n",
              "      <td>1.0</td>\n",
              "      <td>6.0</td>\n",
              "      <td>11.0</td>\n",
              "      <td>NaN</td>\n",
              "      <td>M</td>\n",
              "      <td>0.0</td>\n",
              "      <td>0.0</td>\n",
              "      <td>590</td>\n",
              "    </tr>\n",
              "    <tr>\n",
              "      <th>3</th>\n",
              "      <td>201600000004</td>\n",
              "      <td>16</td>\n",
              "      <td>8</td>\n",
              "      <td>15</td>\n",
              "      <td>1930</td>\n",
              "      <td>2</td>\n",
              "      <td>2</td>\n",
              "      <td>1</td>\n",
              "      <td>7.0</td>\n",
              "      <td>3.0</td>\n",
              "      <td>477.0</td>\n",
              "      <td>52 rue victor hugo</td>\n",
              "      <td>M</td>\n",
              "      <td>0.0</td>\n",
              "      <td>0.0</td>\n",
              "      <td>590</td>\n",
              "    </tr>\n",
              "    <tr>\n",
              "      <th>4</th>\n",
              "      <td>201600000005</td>\n",
              "      <td>16</td>\n",
              "      <td>12</td>\n",
              "      <td>23</td>\n",
              "      <td>1100</td>\n",
              "      <td>1</td>\n",
              "      <td>2</td>\n",
              "      <td>3</td>\n",
              "      <td>1.0</td>\n",
              "      <td>3.0</td>\n",
              "      <td>11.0</td>\n",
              "      <td>rue Joliot curie</td>\n",
              "      <td>M</td>\n",
              "      <td>0.0</td>\n",
              "      <td>0.0</td>\n",
              "      <td>590</td>\n",
              "    </tr>\n",
              "  </tbody>\n",
              "</table>\n",
              "</div>\n",
              "    <div class=\"colab-df-buttons\">\n",
              "\n",
              "  <div class=\"colab-df-container\">\n",
              "    <button class=\"colab-df-convert\" onclick=\"convertToInteractive('df-d125af98-3706-4970-802d-0f6786405e16')\"\n",
              "            title=\"Convert this dataframe to an interactive table.\"\n",
              "            style=\"display:none;\">\n",
              "\n",
              "  <svg xmlns=\"http://www.w3.org/2000/svg\" height=\"24px\" viewBox=\"0 -960 960 960\">\n",
              "    <path d=\"M120-120v-720h720v720H120Zm60-500h600v-160H180v160Zm220 220h160v-160H400v160Zm0 220h160v-160H400v160ZM180-400h160v-160H180v160Zm440 0h160v-160H620v160ZM180-180h160v-160H180v160Zm440 0h160v-160H620v160Z\"/>\n",
              "  </svg>\n",
              "    </button>\n",
              "\n",
              "  <style>\n",
              "    .colab-df-container {\n",
              "      display:flex;\n",
              "      gap: 12px;\n",
              "    }\n",
              "\n",
              "    .colab-df-convert {\n",
              "      background-color: #E8F0FE;\n",
              "      border: none;\n",
              "      border-radius: 50%;\n",
              "      cursor: pointer;\n",
              "      display: none;\n",
              "      fill: #1967D2;\n",
              "      height: 32px;\n",
              "      padding: 0 0 0 0;\n",
              "      width: 32px;\n",
              "    }\n",
              "\n",
              "    .colab-df-convert:hover {\n",
              "      background-color: #E2EBFA;\n",
              "      box-shadow: 0px 1px 2px rgba(60, 64, 67, 0.3), 0px 1px 3px 1px rgba(60, 64, 67, 0.15);\n",
              "      fill: #174EA6;\n",
              "    }\n",
              "\n",
              "    .colab-df-buttons div {\n",
              "      margin-bottom: 4px;\n",
              "    }\n",
              "\n",
              "    [theme=dark] .colab-df-convert {\n",
              "      background-color: #3B4455;\n",
              "      fill: #D2E3FC;\n",
              "    }\n",
              "\n",
              "    [theme=dark] .colab-df-convert:hover {\n",
              "      background-color: #434B5C;\n",
              "      box-shadow: 0px 1px 3px 1px rgba(0, 0, 0, 0.15);\n",
              "      filter: drop-shadow(0px 1px 2px rgba(0, 0, 0, 0.3));\n",
              "      fill: #FFFFFF;\n",
              "    }\n",
              "  </style>\n",
              "\n",
              "    <script>\n",
              "      const buttonEl =\n",
              "        document.querySelector('#df-d125af98-3706-4970-802d-0f6786405e16 button.colab-df-convert');\n",
              "      buttonEl.style.display =\n",
              "        google.colab.kernel.accessAllowed ? 'block' : 'none';\n",
              "\n",
              "      async function convertToInteractive(key) {\n",
              "        const element = document.querySelector('#df-d125af98-3706-4970-802d-0f6786405e16');\n",
              "        const dataTable =\n",
              "          await google.colab.kernel.invokeFunction('convertToInteractive',\n",
              "                                                    [key], {});\n",
              "        if (!dataTable) return;\n",
              "\n",
              "        const docLinkHtml = 'Like what you see? Visit the ' +\n",
              "          '<a target=\"_blank\" href=https://colab.research.google.com/notebooks/data_table.ipynb>data table notebook</a>'\n",
              "          + ' to learn more about interactive tables.';\n",
              "        element.innerHTML = '';\n",
              "        dataTable['output_type'] = 'display_data';\n",
              "        await google.colab.output.renderOutput(dataTable, element);\n",
              "        const docLink = document.createElement('div');\n",
              "        docLink.innerHTML = docLinkHtml;\n",
              "        element.appendChild(docLink);\n",
              "      }\n",
              "    </script>\n",
              "  </div>\n",
              "\n",
              "\n",
              "<div id=\"df-af776d2a-4e85-4c54-aa37-78e2369573f2\">\n",
              "  <button class=\"colab-df-quickchart\" onclick=\"quickchart('df-af776d2a-4e85-4c54-aa37-78e2369573f2')\"\n",
              "            title=\"Suggest charts\"\n",
              "            style=\"display:none;\">\n",
              "\n",
              "<svg xmlns=\"http://www.w3.org/2000/svg\" height=\"24px\"viewBox=\"0 0 24 24\"\n",
              "     width=\"24px\">\n",
              "    <g>\n",
              "        <path d=\"M19 3H5c-1.1 0-2 .9-2 2v14c0 1.1.9 2 2 2h14c1.1 0 2-.9 2-2V5c0-1.1-.9-2-2-2zM9 17H7v-7h2v7zm4 0h-2V7h2v10zm4 0h-2v-4h2v4z\"/>\n",
              "    </g>\n",
              "</svg>\n",
              "  </button>\n",
              "\n",
              "<style>\n",
              "  .colab-df-quickchart {\n",
              "      --bg-color: #E8F0FE;\n",
              "      --fill-color: #1967D2;\n",
              "      --hover-bg-color: #E2EBFA;\n",
              "      --hover-fill-color: #174EA6;\n",
              "      --disabled-fill-color: #AAA;\n",
              "      --disabled-bg-color: #DDD;\n",
              "  }\n",
              "\n",
              "  [theme=dark] .colab-df-quickchart {\n",
              "      --bg-color: #3B4455;\n",
              "      --fill-color: #D2E3FC;\n",
              "      --hover-bg-color: #434B5C;\n",
              "      --hover-fill-color: #FFFFFF;\n",
              "      --disabled-bg-color: #3B4455;\n",
              "      --disabled-fill-color: #666;\n",
              "  }\n",
              "\n",
              "  .colab-df-quickchart {\n",
              "    background-color: var(--bg-color);\n",
              "    border: none;\n",
              "    border-radius: 50%;\n",
              "    cursor: pointer;\n",
              "    display: none;\n",
              "    fill: var(--fill-color);\n",
              "    height: 32px;\n",
              "    padding: 0;\n",
              "    width: 32px;\n",
              "  }\n",
              "\n",
              "  .colab-df-quickchart:hover {\n",
              "    background-color: var(--hover-bg-color);\n",
              "    box-shadow: 0 1px 2px rgba(60, 64, 67, 0.3), 0 1px 3px 1px rgba(60, 64, 67, 0.15);\n",
              "    fill: var(--button-hover-fill-color);\n",
              "  }\n",
              "\n",
              "  .colab-df-quickchart-complete:disabled,\n",
              "  .colab-df-quickchart-complete:disabled:hover {\n",
              "    background-color: var(--disabled-bg-color);\n",
              "    fill: var(--disabled-fill-color);\n",
              "    box-shadow: none;\n",
              "  }\n",
              "\n",
              "  .colab-df-spinner {\n",
              "    border: 2px solid var(--fill-color);\n",
              "    border-color: transparent;\n",
              "    border-bottom-color: var(--fill-color);\n",
              "    animation:\n",
              "      spin 1s steps(1) infinite;\n",
              "  }\n",
              "\n",
              "  @keyframes spin {\n",
              "    0% {\n",
              "      border-color: transparent;\n",
              "      border-bottom-color: var(--fill-color);\n",
              "      border-left-color: var(--fill-color);\n",
              "    }\n",
              "    20% {\n",
              "      border-color: transparent;\n",
              "      border-left-color: var(--fill-color);\n",
              "      border-top-color: var(--fill-color);\n",
              "    }\n",
              "    30% {\n",
              "      border-color: transparent;\n",
              "      border-left-color: var(--fill-color);\n",
              "      border-top-color: var(--fill-color);\n",
              "      border-right-color: var(--fill-color);\n",
              "    }\n",
              "    40% {\n",
              "      border-color: transparent;\n",
              "      border-right-color: var(--fill-color);\n",
              "      border-top-color: var(--fill-color);\n",
              "    }\n",
              "    60% {\n",
              "      border-color: transparent;\n",
              "      border-right-color: var(--fill-color);\n",
              "    }\n",
              "    80% {\n",
              "      border-color: transparent;\n",
              "      border-right-color: var(--fill-color);\n",
              "      border-bottom-color: var(--fill-color);\n",
              "    }\n",
              "    90% {\n",
              "      border-color: transparent;\n",
              "      border-bottom-color: var(--fill-color);\n",
              "    }\n",
              "  }\n",
              "</style>\n",
              "\n",
              "  <script>\n",
              "    async function quickchart(key) {\n",
              "      const quickchartButtonEl =\n",
              "        document.querySelector('#' + key + ' button');\n",
              "      quickchartButtonEl.disabled = true;  // To prevent multiple clicks.\n",
              "      quickchartButtonEl.classList.add('colab-df-spinner');\n",
              "      try {\n",
              "        const charts = await google.colab.kernel.invokeFunction(\n",
              "            'suggestCharts', [key], {});\n",
              "      } catch (error) {\n",
              "        console.error('Error during call to suggestCharts:', error);\n",
              "      }\n",
              "      quickchartButtonEl.classList.remove('colab-df-spinner');\n",
              "      quickchartButtonEl.classList.add('colab-df-quickchart-complete');\n",
              "    }\n",
              "    (() => {\n",
              "      let quickchartButtonEl =\n",
              "        document.querySelector('#df-af776d2a-4e85-4c54-aa37-78e2369573f2 button');\n",
              "      quickchartButtonEl.style.display =\n",
              "        google.colab.kernel.accessAllowed ? 'block' : 'none';\n",
              "    })();\n",
              "  </script>\n",
              "</div>\n",
              "    </div>\n",
              "  </div>\n"
            ],
            "application/vnd.google.colaboratory.intrinsic+json": {
              "type": "dataframe",
              "variable_name": "df"
            }
          },
          "metadata": {},
          "execution_count": 94
        }
      ]
    },
    {
      "cell_type": "code",
      "source": [
        "df.rename(columns={'an': 'Year', 'mois': 'Month', 'jour': 'Day', 'hrmn': 'Time', 'lum': 'Lighting',\n",
        "                   'dep': 'Department', 'com': 'Municipality', 'agg': 'Localisation', 'int': 'Intersection',\n",
        "                   'atm': 'Atmospheric conditions', 'col': 'Collision type', 'adr': 'Address'}, inplace=True)"
      ],
      "metadata": {
        "id": "5Gv5z2BPR3BR"
      },
      "execution_count": 95,
      "outputs": []
    },
    {
      "cell_type": "code",
      "source": [
        "df.head()"
      ],
      "metadata": {
        "colab": {
          "base_uri": "https://localhost:8080/",
          "height": 206
        },
        "id": "BR31OeGLV533",
        "outputId": "c695c82a-dcc2-4689-d847-e3ff3570fb48"
      },
      "execution_count": 96,
      "outputs": [
        {
          "output_type": "execute_result",
          "data": {
            "text/plain": [
              "        Num_Acc  Year  Month  Day  Time  Lighting  Localisation  Intersection  \\\n",
              "0  201600000001    16      2    1  1445         1             2             1   \n",
              "1  201600000002    16      3   16  1800         1             2             6   \n",
              "2  201600000003    16      7   13  1900         1             1             1   \n",
              "3  201600000004    16      8   15  1930         2             2             1   \n",
              "4  201600000005    16     12   23  1100         1             2             3   \n",
              "\n",
              "   Atmospheric conditions  Collision type  Municipality              Address  \\\n",
              "0                     8.0             3.0           5.0   46, rue Sonneville   \n",
              "1                     1.0             6.0           5.0  1a rue du cimetière   \n",
              "2                     1.0             6.0          11.0                  NaN   \n",
              "3                     7.0             3.0         477.0   52 rue victor hugo   \n",
              "4                     1.0             3.0          11.0     rue Joliot curie   \n",
              "\n",
              "  gps  lat long  Department  \n",
              "0   M  0.0  0.0         590  \n",
              "1   M  0.0  0.0         590  \n",
              "2   M  0.0  0.0         590  \n",
              "3   M  0.0  0.0         590  \n",
              "4   M  0.0  0.0         590  "
            ],
            "text/html": [
              "\n",
              "  <div id=\"df-8aa39954-3d57-46b9-b1be-220e21eadbdd\" class=\"colab-df-container\">\n",
              "    <div>\n",
              "<style scoped>\n",
              "    .dataframe tbody tr th:only-of-type {\n",
              "        vertical-align: middle;\n",
              "    }\n",
              "\n",
              "    .dataframe tbody tr th {\n",
              "        vertical-align: top;\n",
              "    }\n",
              "\n",
              "    .dataframe thead th {\n",
              "        text-align: right;\n",
              "    }\n",
              "</style>\n",
              "<table border=\"1\" class=\"dataframe\">\n",
              "  <thead>\n",
              "    <tr style=\"text-align: right;\">\n",
              "      <th></th>\n",
              "      <th>Num_Acc</th>\n",
              "      <th>Year</th>\n",
              "      <th>Month</th>\n",
              "      <th>Day</th>\n",
              "      <th>Time</th>\n",
              "      <th>Lighting</th>\n",
              "      <th>Localisation</th>\n",
              "      <th>Intersection</th>\n",
              "      <th>Atmospheric conditions</th>\n",
              "      <th>Collision type</th>\n",
              "      <th>Municipality</th>\n",
              "      <th>Address</th>\n",
              "      <th>gps</th>\n",
              "      <th>lat</th>\n",
              "      <th>long</th>\n",
              "      <th>Department</th>\n",
              "    </tr>\n",
              "  </thead>\n",
              "  <tbody>\n",
              "    <tr>\n",
              "      <th>0</th>\n",
              "      <td>201600000001</td>\n",
              "      <td>16</td>\n",
              "      <td>2</td>\n",
              "      <td>1</td>\n",
              "      <td>1445</td>\n",
              "      <td>1</td>\n",
              "      <td>2</td>\n",
              "      <td>1</td>\n",
              "      <td>8.0</td>\n",
              "      <td>3.0</td>\n",
              "      <td>5.0</td>\n",
              "      <td>46, rue Sonneville</td>\n",
              "      <td>M</td>\n",
              "      <td>0.0</td>\n",
              "      <td>0.0</td>\n",
              "      <td>590</td>\n",
              "    </tr>\n",
              "    <tr>\n",
              "      <th>1</th>\n",
              "      <td>201600000002</td>\n",
              "      <td>16</td>\n",
              "      <td>3</td>\n",
              "      <td>16</td>\n",
              "      <td>1800</td>\n",
              "      <td>1</td>\n",
              "      <td>2</td>\n",
              "      <td>6</td>\n",
              "      <td>1.0</td>\n",
              "      <td>6.0</td>\n",
              "      <td>5.0</td>\n",
              "      <td>1a rue du cimetière</td>\n",
              "      <td>M</td>\n",
              "      <td>0.0</td>\n",
              "      <td>0.0</td>\n",
              "      <td>590</td>\n",
              "    </tr>\n",
              "    <tr>\n",
              "      <th>2</th>\n",
              "      <td>201600000003</td>\n",
              "      <td>16</td>\n",
              "      <td>7</td>\n",
              "      <td>13</td>\n",
              "      <td>1900</td>\n",
              "      <td>1</td>\n",
              "      <td>1</td>\n",
              "      <td>1</td>\n",
              "      <td>1.0</td>\n",
              "      <td>6.0</td>\n",
              "      <td>11.0</td>\n",
              "      <td>NaN</td>\n",
              "      <td>M</td>\n",
              "      <td>0.0</td>\n",
              "      <td>0.0</td>\n",
              "      <td>590</td>\n",
              "    </tr>\n",
              "    <tr>\n",
              "      <th>3</th>\n",
              "      <td>201600000004</td>\n",
              "      <td>16</td>\n",
              "      <td>8</td>\n",
              "      <td>15</td>\n",
              "      <td>1930</td>\n",
              "      <td>2</td>\n",
              "      <td>2</td>\n",
              "      <td>1</td>\n",
              "      <td>7.0</td>\n",
              "      <td>3.0</td>\n",
              "      <td>477.0</td>\n",
              "      <td>52 rue victor hugo</td>\n",
              "      <td>M</td>\n",
              "      <td>0.0</td>\n",
              "      <td>0.0</td>\n",
              "      <td>590</td>\n",
              "    </tr>\n",
              "    <tr>\n",
              "      <th>4</th>\n",
              "      <td>201600000005</td>\n",
              "      <td>16</td>\n",
              "      <td>12</td>\n",
              "      <td>23</td>\n",
              "      <td>1100</td>\n",
              "      <td>1</td>\n",
              "      <td>2</td>\n",
              "      <td>3</td>\n",
              "      <td>1.0</td>\n",
              "      <td>3.0</td>\n",
              "      <td>11.0</td>\n",
              "      <td>rue Joliot curie</td>\n",
              "      <td>M</td>\n",
              "      <td>0.0</td>\n",
              "      <td>0.0</td>\n",
              "      <td>590</td>\n",
              "    </tr>\n",
              "  </tbody>\n",
              "</table>\n",
              "</div>\n",
              "    <div class=\"colab-df-buttons\">\n",
              "\n",
              "  <div class=\"colab-df-container\">\n",
              "    <button class=\"colab-df-convert\" onclick=\"convertToInteractive('df-8aa39954-3d57-46b9-b1be-220e21eadbdd')\"\n",
              "            title=\"Convert this dataframe to an interactive table.\"\n",
              "            style=\"display:none;\">\n",
              "\n",
              "  <svg xmlns=\"http://www.w3.org/2000/svg\" height=\"24px\" viewBox=\"0 -960 960 960\">\n",
              "    <path d=\"M120-120v-720h720v720H120Zm60-500h600v-160H180v160Zm220 220h160v-160H400v160Zm0 220h160v-160H400v160ZM180-400h160v-160H180v160Zm440 0h160v-160H620v160ZM180-180h160v-160H180v160Zm440 0h160v-160H620v160Z\"/>\n",
              "  </svg>\n",
              "    </button>\n",
              "\n",
              "  <style>\n",
              "    .colab-df-container {\n",
              "      display:flex;\n",
              "      gap: 12px;\n",
              "    }\n",
              "\n",
              "    .colab-df-convert {\n",
              "      background-color: #E8F0FE;\n",
              "      border: none;\n",
              "      border-radius: 50%;\n",
              "      cursor: pointer;\n",
              "      display: none;\n",
              "      fill: #1967D2;\n",
              "      height: 32px;\n",
              "      padding: 0 0 0 0;\n",
              "      width: 32px;\n",
              "    }\n",
              "\n",
              "    .colab-df-convert:hover {\n",
              "      background-color: #E2EBFA;\n",
              "      box-shadow: 0px 1px 2px rgba(60, 64, 67, 0.3), 0px 1px 3px 1px rgba(60, 64, 67, 0.15);\n",
              "      fill: #174EA6;\n",
              "    }\n",
              "\n",
              "    .colab-df-buttons div {\n",
              "      margin-bottom: 4px;\n",
              "    }\n",
              "\n",
              "    [theme=dark] .colab-df-convert {\n",
              "      background-color: #3B4455;\n",
              "      fill: #D2E3FC;\n",
              "    }\n",
              "\n",
              "    [theme=dark] .colab-df-convert:hover {\n",
              "      background-color: #434B5C;\n",
              "      box-shadow: 0px 1px 3px 1px rgba(0, 0, 0, 0.15);\n",
              "      filter: drop-shadow(0px 1px 2px rgba(0, 0, 0, 0.3));\n",
              "      fill: #FFFFFF;\n",
              "    }\n",
              "  </style>\n",
              "\n",
              "    <script>\n",
              "      const buttonEl =\n",
              "        document.querySelector('#df-8aa39954-3d57-46b9-b1be-220e21eadbdd button.colab-df-convert');\n",
              "      buttonEl.style.display =\n",
              "        google.colab.kernel.accessAllowed ? 'block' : 'none';\n",
              "\n",
              "      async function convertToInteractive(key) {\n",
              "        const element = document.querySelector('#df-8aa39954-3d57-46b9-b1be-220e21eadbdd');\n",
              "        const dataTable =\n",
              "          await google.colab.kernel.invokeFunction('convertToInteractive',\n",
              "                                                    [key], {});\n",
              "        if (!dataTable) return;\n",
              "\n",
              "        const docLinkHtml = 'Like what you see? Visit the ' +\n",
              "          '<a target=\"_blank\" href=https://colab.research.google.com/notebooks/data_table.ipynb>data table notebook</a>'\n",
              "          + ' to learn more about interactive tables.';\n",
              "        element.innerHTML = '';\n",
              "        dataTable['output_type'] = 'display_data';\n",
              "        await google.colab.output.renderOutput(dataTable, element);\n",
              "        const docLink = document.createElement('div');\n",
              "        docLink.innerHTML = docLinkHtml;\n",
              "        element.appendChild(docLink);\n",
              "      }\n",
              "    </script>\n",
              "  </div>\n",
              "\n",
              "\n",
              "<div id=\"df-baf744d6-6a5b-451f-aef4-229e4699ae33\">\n",
              "  <button class=\"colab-df-quickchart\" onclick=\"quickchart('df-baf744d6-6a5b-451f-aef4-229e4699ae33')\"\n",
              "            title=\"Suggest charts\"\n",
              "            style=\"display:none;\">\n",
              "\n",
              "<svg xmlns=\"http://www.w3.org/2000/svg\" height=\"24px\"viewBox=\"0 0 24 24\"\n",
              "     width=\"24px\">\n",
              "    <g>\n",
              "        <path d=\"M19 3H5c-1.1 0-2 .9-2 2v14c0 1.1.9 2 2 2h14c1.1 0 2-.9 2-2V5c0-1.1-.9-2-2-2zM9 17H7v-7h2v7zm4 0h-2V7h2v10zm4 0h-2v-4h2v4z\"/>\n",
              "    </g>\n",
              "</svg>\n",
              "  </button>\n",
              "\n",
              "<style>\n",
              "  .colab-df-quickchart {\n",
              "      --bg-color: #E8F0FE;\n",
              "      --fill-color: #1967D2;\n",
              "      --hover-bg-color: #E2EBFA;\n",
              "      --hover-fill-color: #174EA6;\n",
              "      --disabled-fill-color: #AAA;\n",
              "      --disabled-bg-color: #DDD;\n",
              "  }\n",
              "\n",
              "  [theme=dark] .colab-df-quickchart {\n",
              "      --bg-color: #3B4455;\n",
              "      --fill-color: #D2E3FC;\n",
              "      --hover-bg-color: #434B5C;\n",
              "      --hover-fill-color: #FFFFFF;\n",
              "      --disabled-bg-color: #3B4455;\n",
              "      --disabled-fill-color: #666;\n",
              "  }\n",
              "\n",
              "  .colab-df-quickchart {\n",
              "    background-color: var(--bg-color);\n",
              "    border: none;\n",
              "    border-radius: 50%;\n",
              "    cursor: pointer;\n",
              "    display: none;\n",
              "    fill: var(--fill-color);\n",
              "    height: 32px;\n",
              "    padding: 0;\n",
              "    width: 32px;\n",
              "  }\n",
              "\n",
              "  .colab-df-quickchart:hover {\n",
              "    background-color: var(--hover-bg-color);\n",
              "    box-shadow: 0 1px 2px rgba(60, 64, 67, 0.3), 0 1px 3px 1px rgba(60, 64, 67, 0.15);\n",
              "    fill: var(--button-hover-fill-color);\n",
              "  }\n",
              "\n",
              "  .colab-df-quickchart-complete:disabled,\n",
              "  .colab-df-quickchart-complete:disabled:hover {\n",
              "    background-color: var(--disabled-bg-color);\n",
              "    fill: var(--disabled-fill-color);\n",
              "    box-shadow: none;\n",
              "  }\n",
              "\n",
              "  .colab-df-spinner {\n",
              "    border: 2px solid var(--fill-color);\n",
              "    border-color: transparent;\n",
              "    border-bottom-color: var(--fill-color);\n",
              "    animation:\n",
              "      spin 1s steps(1) infinite;\n",
              "  }\n",
              "\n",
              "  @keyframes spin {\n",
              "    0% {\n",
              "      border-color: transparent;\n",
              "      border-bottom-color: var(--fill-color);\n",
              "      border-left-color: var(--fill-color);\n",
              "    }\n",
              "    20% {\n",
              "      border-color: transparent;\n",
              "      border-left-color: var(--fill-color);\n",
              "      border-top-color: var(--fill-color);\n",
              "    }\n",
              "    30% {\n",
              "      border-color: transparent;\n",
              "      border-left-color: var(--fill-color);\n",
              "      border-top-color: var(--fill-color);\n",
              "      border-right-color: var(--fill-color);\n",
              "    }\n",
              "    40% {\n",
              "      border-color: transparent;\n",
              "      border-right-color: var(--fill-color);\n",
              "      border-top-color: var(--fill-color);\n",
              "    }\n",
              "    60% {\n",
              "      border-color: transparent;\n",
              "      border-right-color: var(--fill-color);\n",
              "    }\n",
              "    80% {\n",
              "      border-color: transparent;\n",
              "      border-right-color: var(--fill-color);\n",
              "      border-bottom-color: var(--fill-color);\n",
              "    }\n",
              "    90% {\n",
              "      border-color: transparent;\n",
              "      border-bottom-color: var(--fill-color);\n",
              "    }\n",
              "  }\n",
              "</style>\n",
              "\n",
              "  <script>\n",
              "    async function quickchart(key) {\n",
              "      const quickchartButtonEl =\n",
              "        document.querySelector('#' + key + ' button');\n",
              "      quickchartButtonEl.disabled = true;  // To prevent multiple clicks.\n",
              "      quickchartButtonEl.classList.add('colab-df-spinner');\n",
              "      try {\n",
              "        const charts = await google.colab.kernel.invokeFunction(\n",
              "            'suggestCharts', [key], {});\n",
              "      } catch (error) {\n",
              "        console.error('Error during call to suggestCharts:', error);\n",
              "      }\n",
              "      quickchartButtonEl.classList.remove('colab-df-spinner');\n",
              "      quickchartButtonEl.classList.add('colab-df-quickchart-complete');\n",
              "    }\n",
              "    (() => {\n",
              "      let quickchartButtonEl =\n",
              "        document.querySelector('#df-baf744d6-6a5b-451f-aef4-229e4699ae33 button');\n",
              "      quickchartButtonEl.style.display =\n",
              "        google.colab.kernel.accessAllowed ? 'block' : 'none';\n",
              "    })();\n",
              "  </script>\n",
              "</div>\n",
              "    </div>\n",
              "  </div>\n"
            ],
            "application/vnd.google.colaboratory.intrinsic+json": {
              "type": "dataframe",
              "variable_name": "df"
            }
          },
          "metadata": {},
          "execution_count": 96
        }
      ]
    },
    {
      "cell_type": "markdown",
      "source": [
        "## Year\n",
        "\n"
      ],
      "metadata": {
        "id": "pfyTZtkFW7Xi"
      }
    },
    {
      "cell_type": "markdown",
      "source": [
        "Year of the accident"
      ],
      "metadata": {
        "id": "4QXTrvrCa0tz"
      }
    },
    {
      "cell_type": "code",
      "source": [
        "df['Year'].value_counts()"
      ],
      "metadata": {
        "colab": {
          "base_uri": "https://localhost:8080/"
        },
        "id": "jftFw9g8WH2J",
        "outputId": "ef86fb46-b0c0-44b6-db56-68f0fdb6b8fa"
      },
      "execution_count": 97,
      "outputs": [
        {
          "output_type": "execute_result",
          "data": {
            "text/plain": [
              "5     87026\n",
              "7     83850\n",
              "6     82993\n",
              "8     76767\n",
              "9     74409\n",
              "10    69379\n",
              "11    66974\n",
              "12    62250\n",
              "14    59854\n",
              "16    59432\n",
              "15    58654\n",
              "13    58397\n",
              "Name: Year, dtype: int64"
            ]
          },
          "metadata": {},
          "execution_count": 97
        }
      ]
    },
    {
      "cell_type": "code",
      "source": [
        "df['Year'].isna().sum()"
      ],
      "metadata": {
        "colab": {
          "base_uri": "https://localhost:8080/"
        },
        "id": "xnpsbv-2Z5hz",
        "outputId": "80a7f99a-901f-4d95-a60a-cdef6c6ccc80"
      },
      "execution_count": 98,
      "outputs": [
        {
          "output_type": "execute_result",
          "data": {
            "text/plain": [
              "0"
            ]
          },
          "metadata": {},
          "execution_count": 98
        }
      ]
    },
    {
      "cell_type": "markdown",
      "source": [
        "## Month\n",
        "\n"
      ],
      "metadata": {
        "id": "o-AyKYfgXG_T"
      }
    },
    {
      "cell_type": "markdown",
      "source": [
        "Month of the accident"
      ],
      "metadata": {
        "id": "OmulveYBayys"
      }
    },
    {
      "cell_type": "code",
      "source": [
        "df['Month'].value_counts()"
      ],
      "metadata": {
        "colab": {
          "base_uri": "https://localhost:8080/"
        },
        "id": "7Ikb-9JCWEiC",
        "outputId": "72db9197-97b9-4b59-8ec1-898e93d9ab10"
      },
      "execution_count": 99,
      "outputs": [
        {
          "output_type": "execute_result",
          "data": {
            "text/plain": [
              "10    79559\n",
              "6     78372\n",
              "9     76977\n",
              "7     74466\n",
              "11    72645\n",
              "5     72443\n",
              "12    68816\n",
              "4     67430\n",
              "3     65630\n",
              "1     64662\n",
              "8     62401\n",
              "2     56584\n",
              "Name: Month, dtype: int64"
            ]
          },
          "metadata": {},
          "execution_count": 99
        }
      ]
    },
    {
      "cell_type": "code",
      "source": [
        "df['Month'].isna().sum()"
      ],
      "metadata": {
        "colab": {
          "base_uri": "https://localhost:8080/"
        },
        "id": "iPFFgsZgWGp0",
        "outputId": "80c46d21-e767-4d33-e740-67a11af88796"
      },
      "execution_count": 100,
      "outputs": [
        {
          "output_type": "execute_result",
          "data": {
            "text/plain": [
              "0"
            ]
          },
          "metadata": {},
          "execution_count": 100
        }
      ]
    },
    {
      "cell_type": "markdown",
      "source": [
        "## Day\n",
        "\n"
      ],
      "metadata": {
        "id": "1yBdtj5cXJUk"
      }
    },
    {
      "cell_type": "markdown",
      "source": [
        "Day of the accident"
      ],
      "metadata": {
        "id": "J2pl-sHCaw9N"
      }
    },
    {
      "cell_type": "code",
      "source": [
        "df['Day'].value_counts()"
      ],
      "metadata": {
        "colab": {
          "base_uri": "https://localhost:8080/"
        },
        "id": "iBNjDMeFWKTR",
        "outputId": "6eb96b4e-26a8-4f4e-cb32-40501a3ebe91"
      },
      "execution_count": 101,
      "outputs": [
        {
          "output_type": "execute_result",
          "data": {
            "text/plain": [
              "10    28693\n",
              "6     28667\n",
              "7     28576\n",
              "12    28462\n",
              "9     28345\n",
              "8     28325\n",
              "16    28094\n",
              "4     28058\n",
              "5     28054\n",
              "15    28031\n",
              "19    27970\n",
              "11    27956\n",
              "14    27891\n",
              "3     27868\n",
              "21    27797\n",
              "18    27682\n",
              "13    27600\n",
              "17    27552\n",
              "22    27447\n",
              "20    27433\n",
              "23    27417\n",
              "2     27334\n",
              "28    26927\n",
              "24    26718\n",
              "1     26485\n",
              "27    26447\n",
              "26    26177\n",
              "25    26155\n",
              "30    25502\n",
              "29    25308\n",
              "31    15014\n",
              "Name: Day, dtype: int64"
            ]
          },
          "metadata": {},
          "execution_count": 101
        }
      ]
    },
    {
      "cell_type": "code",
      "source": [
        "df['Day'].isna().sum()"
      ],
      "metadata": {
        "colab": {
          "base_uri": "https://localhost:8080/"
        },
        "id": "fIPzqiLxWL5o",
        "outputId": "00680955-3412-4746-f297-83b21121435f"
      },
      "execution_count": 102,
      "outputs": [
        {
          "output_type": "execute_result",
          "data": {
            "text/plain": [
              "0"
            ]
          },
          "metadata": {},
          "execution_count": 102
        }
      ]
    },
    {
      "cell_type": "markdown",
      "source": [
        "## Holiday columns prep"
      ],
      "metadata": {
        "id": "bavxTVRtzdA_"
      }
    },
    {
      "cell_type": "code",
      "source": [
        "holiday_df = pd.read_csv('data/holidays.csv', encoding='latin1')"
      ],
      "metadata": {
        "id": "h_EgM4f9ziDv"
      },
      "execution_count": 103,
      "outputs": []
    },
    {
      "cell_type": "code",
      "source": [
        "holiday_df['holiday'].value_counts()"
      ],
      "metadata": {
        "colab": {
          "base_uri": "https://localhost:8080/"
        },
        "id": "it8LuykOzk65",
        "outputId": "afe1848d-76b4-49cd-dba3-6c7917f08c3c"
      },
      "execution_count": 104,
      "outputs": [
        {
          "output_type": "execute_result",
          "data": {
            "text/plain": [
              "New year                        12\n",
              "Easter Monday                   12\n",
              "Labour Day                      12\n",
              "Ascension Thursday              12\n",
              "Victory in Europe Day           12\n",
              "Whit Monday                     12\n",
              "Bastille Day                    12\n",
              "Assumption of Mary to Heaven    12\n",
              "All Saints Day                  12\n",
              "Armistice Day                   12\n",
              "Christmas Day                   12\n",
              "Name: holiday, dtype: int64"
            ]
          },
          "metadata": {},
          "execution_count": 104
        }
      ]
    },
    {
      "cell_type": "code",
      "source": [
        "# Convert ds column in holidays_df to datetime\n",
        "holiday_df['ds'] = pd.to_datetime(holiday_df['ds'])\n",
        "\n",
        "for holiday in holiday_df['holiday'].unique():\n",
        "    df[holiday] = 0"
      ],
      "metadata": {
        "id": "vM0XsJQO2IT2"
      },
      "execution_count": 105,
      "outputs": []
    },
    {
      "cell_type": "code",
      "source": [
        "# Add 2000 to the 'Year' column\n",
        "df['Year'] += 2000\n",
        "df['Date'] = pd.to_datetime(df[['Year', 'Month', 'Day']])\n",
        "df['Holiday'] = 0"
      ],
      "metadata": {
        "id": "KhE75w3e2TLm"
      },
      "execution_count": 106,
      "outputs": []
    },
    {
      "cell_type": "code",
      "source": [
        "holiday_map = {row['ds']: row['holiday'] for _, row in holiday_df.iterrows()}\n",
        "\n",
        "for index, date in df['Date'].iteritems():\n",
        "    if date in holiday_map:\n",
        "        holiday_name = holiday_map[date]\n",
        "        df.at[index, holiday_name] = 1\n",
        "        df.at[index, 'Holiday'] = 1"
      ],
      "metadata": {
        "colab": {
          "base_uri": "https://localhost:8080/"
        },
        "id": "Xnx4Kmky2fQ2",
        "outputId": "b31cf6b9-256f-4e65-d90a-1e431f6dda19"
      },
      "execution_count": 107,
      "outputs": [
        {
          "output_type": "stream",
          "name": "stderr",
          "text": [
            "<ipython-input-107-93513884aa1f>:3: FutureWarning: iteritems is deprecated and will be removed in a future version. Use .items instead.\n",
            "  for index, date in df['Date'].iteritems():\n"
          ]
        }
      ]
    },
    {
      "cell_type": "code",
      "source": [
        "df.drop(['Year', 'Month', 'Day'], axis=1, inplace=True)"
      ],
      "metadata": {
        "id": "On4UIKWi5vYN"
      },
      "execution_count": 108,
      "outputs": []
    },
    {
      "cell_type": "code",
      "source": [
        "df.columns"
      ],
      "metadata": {
        "colab": {
          "base_uri": "https://localhost:8080/"
        },
        "id": "x3DkYUwu6ghF",
        "outputId": "c28b4530-ba3e-407b-bd10-38d65d3a1a27"
      },
      "execution_count": 109,
      "outputs": [
        {
          "output_type": "execute_result",
          "data": {
            "text/plain": [
              "Index(['Num_Acc', 'Time', 'Lighting', 'Localisation', 'Intersection',\n",
              "       'Atmospheric conditions', 'Collision type', 'Municipality', 'Address',\n",
              "       'gps', 'lat', 'long', 'Department', 'New year', 'Easter Monday',\n",
              "       'Labour Day', 'Ascension Thursday', 'Victory in Europe Day',\n",
              "       'Whit Monday', 'Bastille Day', 'Assumption of Mary to Heaven',\n",
              "       'All Saints Day', 'Armistice Day', 'Christmas Day', 'Date', 'Holiday'],\n",
              "      dtype='object')"
            ]
          },
          "metadata": {},
          "execution_count": 109
        }
      ]
    },
    {
      "cell_type": "markdown",
      "source": [
        "## Time\n",
        "\n"
      ],
      "metadata": {
        "id": "2HMSfo6lXLFS"
      }
    },
    {
      "cell_type": "markdown",
      "source": [
        "Time of the accident in hour and minutes (hhmm)"
      ],
      "metadata": {
        "id": "Hadu0c_Fau2T"
      }
    },
    {
      "cell_type": "code",
      "source": [
        "df['Time'].value_counts()"
      ],
      "metadata": {
        "colab": {
          "base_uri": "https://localhost:8080/"
        },
        "id": "D-MIeSWeWL1Q",
        "outputId": "86949318-d910-4ddf-eec8-8b077c840fb9"
      },
      "execution_count": 110,
      "outputs": [
        {
          "output_type": "execute_result",
          "data": {
            "text/plain": [
              "1800    13090\n",
              "1730    11722\n",
              "1700    11611\n",
              "1830    11322\n",
              "1900    10238\n",
              "        ...  \n",
              "434         6\n",
              "334         6\n",
              "559         6\n",
              "322         5\n",
              "527         5\n",
              "Name: Time, Length: 1439, dtype: int64"
            ]
          },
          "metadata": {},
          "execution_count": 110
        }
      ]
    },
    {
      "cell_type": "code",
      "source": [
        "df['Time'].isna().sum()"
      ],
      "metadata": {
        "colab": {
          "base_uri": "https://localhost:8080/"
        },
        "id": "FzhKwTVmWLwQ",
        "outputId": "05921312-ed0a-46c6-f1e5-c1c2bbdcc1d7"
      },
      "execution_count": 111,
      "outputs": [
        {
          "output_type": "execute_result",
          "data": {
            "text/plain": [
              "0"
            ]
          },
          "metadata": {},
          "execution_count": 111
        }
      ]
    },
    {
      "cell_type": "markdown",
      "source": [
        "## Lighting"
      ],
      "metadata": {
        "id": "HS4mr5z1XNd0"
      }
    },
    {
      "cell_type": "markdown",
      "source": [
        "Lighting conditions in which the accident occurred\n",
        "\n",
        "1 - Full day\n",
        "\n",
        "2 - Twilight or dawn\n",
        "\n",
        "3 - Night without public lighting\n",
        "\n",
        "4 - Night with public lighting not lit\n",
        "\n",
        "5 - Night with public lighting on"
      ],
      "metadata": {
        "id": "oh8KwpGRaqaS"
      }
    },
    {
      "cell_type": "code",
      "source": [
        "df['Lighting'].value_counts()"
      ],
      "metadata": {
        "colab": {
          "base_uri": "https://localhost:8080/"
        },
        "id": "Xlmvll3EWLp5",
        "outputId": "c6ea606a-5363-4144-bd84-40c2c53a2871"
      },
      "execution_count": 112,
      "outputs": [
        {
          "output_type": "execute_result",
          "data": {
            "text/plain": [
              "1    576861\n",
              "5    141279\n",
              "3     65811\n",
              "2     49140\n",
              "4      6894\n",
              "Name: Lighting, dtype: int64"
            ]
          },
          "metadata": {},
          "execution_count": 112
        }
      ]
    },
    {
      "cell_type": "code",
      "source": [
        "df['Lighting'].isna().sum()"
      ],
      "metadata": {
        "colab": {
          "base_uri": "https://localhost:8080/"
        },
        "id": "bQqCu4W5WLfp",
        "outputId": "23d3fb8a-ca60-45cc-b4ac-a77aa770ad7a"
      },
      "execution_count": 113,
      "outputs": [
        {
          "output_type": "execute_result",
          "data": {
            "text/plain": [
              "0"
            ]
          },
          "metadata": {},
          "execution_count": 113
        }
      ]
    },
    {
      "cell_type": "markdown",
      "source": [
        "### NEW ORDER\n",
        "\n",
        "Light 1-5, 1 being well lit, 5 being no light!\n",
        "\n",
        "1 - Full day\n",
        "\n",
        "2 - Night with public lighting on\n",
        "\n",
        "3 - Twilight or dawn\n",
        "\n",
        "4 - Night with public lighting not lit\n",
        "\n",
        "5 - Night without public lighting"
      ],
      "metadata": {
        "id": "aGsxAuWf7dsR"
      }
    },
    {
      "cell_type": "code",
      "source": [
        "mapping = {\n",
        "    2: 3, # Twilight or dawn is nr 3 instead of 2\n",
        "    3: 5, # Night without public lighting is nr 5 instead of 3\n",
        "    5: 2  # Night with public lighting on is nr 2 instead of 5\n",
        "}\n",
        "\n",
        "df['Lighting'] = df['Lighting'].replace(mapping)"
      ],
      "metadata": {
        "id": "ESgXwJZG9GCF"
      },
      "execution_count": 114,
      "outputs": []
    },
    {
      "cell_type": "code",
      "source": [
        "df['Lighting'].value_counts()"
      ],
      "metadata": {
        "colab": {
          "base_uri": "https://localhost:8080/"
        },
        "id": "VTGA0ezK-KyU",
        "outputId": "3e020fe0-bdb0-4ae4-cbff-9e4aa13ef847"
      },
      "execution_count": 115,
      "outputs": [
        {
          "output_type": "execute_result",
          "data": {
            "text/plain": [
              "1    576861\n",
              "2    141279\n",
              "5     65811\n",
              "3     49140\n",
              "4      6894\n",
              "Name: Lighting, dtype: int64"
            ]
          },
          "metadata": {},
          "execution_count": 115
        }
      ]
    },
    {
      "cell_type": "markdown",
      "source": [
        "## Localisation & Address\n"
      ],
      "metadata": {
        "id": "HnlqhcIKXPsZ"
      }
    },
    {
      "cell_type": "markdown",
      "source": [
        "**Localisation**\n",
        "\n",
        "1 - Out of agglomeration\n",
        "\n",
        "2 - In built-up areas"
      ],
      "metadata": {
        "id": "10yXBxeVajt0"
      }
    },
    {
      "cell_type": "code",
      "source": [
        "df['Localisation'].value_counts()"
      ],
      "metadata": {
        "colab": {
          "base_uri": "https://localhost:8080/"
        },
        "id": "5FptVR2-WP-S",
        "outputId": "bf70c7e8-fe33-4844-b0d6-a7638977f755"
      },
      "execution_count": 116,
      "outputs": [
        {
          "output_type": "execute_result",
          "data": {
            "text/plain": [
              "2    576166\n",
              "1    263819\n",
              "Name: Localisation, dtype: int64"
            ]
          },
          "metadata": {},
          "execution_count": 116
        }
      ]
    },
    {
      "cell_type": "code",
      "source": [
        "df['Localisation'].isna().sum()"
      ],
      "metadata": {
        "colab": {
          "base_uri": "https://localhost:8080/"
        },
        "id": "LXV1yqRMb0KD",
        "outputId": "2aa0f064-7d6e-42a4-be42-daa1ead28491"
      },
      "execution_count": 117,
      "outputs": [
        {
          "output_type": "execute_result",
          "data": {
            "text/plain": [
              "0"
            ]
          },
          "metadata": {},
          "execution_count": 117
        }
      ]
    },
    {
      "cell_type": "markdown",
      "source": [
        "**Address**\n",
        "\n",
        "Postal address: variable filled in for accidents occurring in built-up areas"
      ],
      "metadata": {
        "id": "QipMRInqbwmc"
      }
    },
    {
      "cell_type": "code",
      "source": [
        "df['Address'].value_counts()"
      ],
      "metadata": {
        "colab": {
          "base_uri": "https://localhost:8080/"
        },
        "id": "8iRdT3WPWSeI",
        "outputId": "204ef1d2-6cb5-4169-91f4-add9134bc330"
      },
      "execution_count": 118,
      "outputs": [
        {
          "output_type": "execute_result",
          "data": {
            "text/plain": [
              "AUTOROUTE A1                2816\n",
              "AUTOROUTE A86               2495\n",
              "A4                          2244\n",
              "A13                         2164\n",
              "AUTOROUTE A6                1990\n",
              "                            ... \n",
              "49, QUAI FRANCOIS MAURIA       1\n",
              "34, BOULEVARD ARAGO            1\n",
              "angle, BOULEVARD MASSENA       1\n",
              "19, PLACE JEANNE D ARC         1\n",
              "TOULOUSE(AVENUE)               1\n",
              "Name: Address, Length: 364688, dtype: int64"
            ]
          },
          "metadata": {},
          "execution_count": 118
        }
      ]
    },
    {
      "cell_type": "code",
      "source": [
        "df['Address'].isna().sum()"
      ],
      "metadata": {
        "colab": {
          "base_uri": "https://localhost:8080/"
        },
        "id": "OFhQqKp-b0cE",
        "outputId": "62a5f57a-4fcd-4ee3-bb10-ebda555e03f6"
      },
      "execution_count": 119,
      "outputs": [
        {
          "output_type": "execute_result",
          "data": {
            "text/plain": [
              "140542"
            ]
          },
          "metadata": {},
          "execution_count": 119
        }
      ]
    },
    {
      "cell_type": "markdown",
      "source": [
        "Address row is useless"
      ],
      "metadata": {
        "id": "hLc3Qzon-y0M"
      }
    },
    {
      "cell_type": "code",
      "source": [
        "df.drop('Address', axis=1, inplace=True)"
      ],
      "metadata": {
        "id": "cgykFfQEc5t5"
      },
      "execution_count": 120,
      "outputs": []
    },
    {
      "cell_type": "markdown",
      "source": [
        "## Intersection"
      ],
      "metadata": {
        "id": "NWCgGNv1XRiy"
      }
    },
    {
      "cell_type": "markdown",
      "source": [
        "Type of Intersection:\n",
        "\n",
        "1 - Out of intersection\n",
        "\n",
        "2 - Intersection in X\n",
        "\n",
        "3 - Intersection in T\n",
        "\n",
        "4 - Intersection in Y\n",
        "\n",
        "5 - Intersection with more than 4 branches\n",
        "\n",
        "6 - Giratory\n",
        "\n",
        "7 - Place\n",
        "\n",
        "8 - Level crossing\n",
        "\n",
        "9 - Other intersection"
      ],
      "metadata": {
        "id": "ug_rOndFbGog"
      }
    },
    {
      "cell_type": "code",
      "source": [
        "df['Intersection'].value_counts()"
      ],
      "metadata": {
        "colab": {
          "base_uri": "https://localhost:8080/"
        },
        "id": "fNDruWDxWScB",
        "outputId": "3b70c15e-b865-4059-dc6e-6aab876299a4"
      },
      "execution_count": 121,
      "outputs": [
        {
          "output_type": "execute_result",
          "data": {
            "text/plain": [
              "1    599652\n",
              "2    103008\n",
              "3     73774\n",
              "6     22358\n",
              "9     13247\n",
              "4     11481\n",
              "5      9364\n",
              "7      6075\n",
              "8       920\n",
              "0       106\n",
              "Name: Intersection, dtype: int64"
            ]
          },
          "metadata": {},
          "execution_count": 121
        }
      ]
    },
    {
      "cell_type": "code",
      "source": [
        "df['Intersection'].isna().sum()"
      ],
      "metadata": {
        "colab": {
          "base_uri": "https://localhost:8080/"
        },
        "id": "ZRYv1SvHWSZp",
        "outputId": "a260ec64-4bdf-4792-c4a5-4758336d9cb7"
      },
      "execution_count": 122,
      "outputs": [
        {
          "output_type": "execute_result",
          "data": {
            "text/plain": [
              "0"
            ]
          },
          "metadata": {},
          "execution_count": 122
        }
      ]
    },
    {
      "cell_type": "markdown",
      "source": [
        "## Atmospheric conditions"
      ],
      "metadata": {
        "id": "Md1GHPgbXUPQ"
      }
    },
    {
      "cell_type": "markdown",
      "source": [
        "Atmospheric conditions:\n",
        "\n",
        "1 - Normal\n",
        "\n",
        "2 - Light rain\n",
        "\n",
        "3 - Heavy rain\n",
        "\n",
        "4 - Snow - hail\n",
        "\n",
        "5 - Fog - smoke\n",
        "\n",
        "6 - Strong wind - storm\n",
        "\n",
        "7 - Dazzling weather\n",
        "\n",
        "8 - Cloudy weather\n",
        "\n",
        "9 - Other"
      ],
      "metadata": {
        "id": "vUdeNcSRbLVZ"
      }
    },
    {
      "cell_type": "code",
      "source": [
        "df['Atmospheric conditions'].value_counts()"
      ],
      "metadata": {
        "colab": {
          "base_uri": "https://localhost:8080/"
        },
        "id": "Hzt14fuyWSRS",
        "outputId": "f3227ab3-db77-409c-ad10-715c1d2b7d5b"
      },
      "execution_count": 123,
      "outputs": [
        {
          "output_type": "execute_result",
          "data": {
            "text/plain": [
              "1.0    680577\n",
              "2.0     87150\n",
              "8.0     27317\n",
              "3.0     18082\n",
              "7.0      7879\n",
              "9.0      6298\n",
              "5.0      5485\n",
              "4.0      5151\n",
              "6.0      1991\n",
              "Name: Atmospheric conditions, dtype: int64"
            ]
          },
          "metadata": {},
          "execution_count": 123
        }
      ]
    },
    {
      "cell_type": "code",
      "source": [
        "df['Atmospheric conditions'].isna().sum()"
      ],
      "metadata": {
        "colab": {
          "base_uri": "https://localhost:8080/"
        },
        "id": "YZGgwX8yWSKI",
        "outputId": "a997c8b8-edcf-455f-a6d3-8c6cb1979822"
      },
      "execution_count": 124,
      "outputs": [
        {
          "output_type": "execute_result",
          "data": {
            "text/plain": [
              "55"
            ]
          },
          "metadata": {},
          "execution_count": 124
        }
      ]
    },
    {
      "cell_type": "code",
      "source": [
        "fill_with_most_common(df, 'Atmospheric conditions')"
      ],
      "metadata": {
        "id": "RYAVtTq7BEWs"
      },
      "execution_count": 125,
      "outputs": []
    },
    {
      "cell_type": "markdown",
      "source": [
        "## Collision type"
      ],
      "metadata": {
        "id": "IN439DjqXVJJ"
      }
    },
    {
      "cell_type": "markdown",
      "source": [
        "Type of collision:\n",
        "\n",
        "1 - Two vehicles - frontal\n",
        "\n",
        "2 - Two vehicles - from the rear\n",
        "\n",
        "3 - Two vehicles - by the side\n",
        "\n",
        "4 - Three vehicles and more - in chain\n",
        "\n",
        "5 - Three or more vehicles - multiple collisions\n",
        "\n",
        "6 - Other collision\n",
        "\n",
        "7 - Without collision"
      ],
      "metadata": {
        "id": "WG0Ht8iJbOrL"
      }
    },
    {
      "cell_type": "code",
      "source": [
        "df['Collision type'].value_counts()"
      ],
      "metadata": {
        "colab": {
          "base_uri": "https://localhost:8080/"
        },
        "id": "2rrHkerOWXdp",
        "outputId": "53d8235b-dfc2-4fff-e96d-30135c3e05c6"
      },
      "execution_count": 126,
      "outputs": [
        {
          "output_type": "execute_result",
          "data": {
            "text/plain": [
              "6.0    277153\n",
              "3.0    242732\n",
              "2.0     96778\n",
              "7.0     87688\n",
              "1.0     83491\n",
              "5.0     26873\n",
              "4.0     25259\n",
              "Name: Collision type, dtype: int64"
            ]
          },
          "metadata": {},
          "execution_count": 126
        }
      ]
    },
    {
      "cell_type": "code",
      "source": [
        "df['Collision type'].isna().sum()"
      ],
      "metadata": {
        "colab": {
          "base_uri": "https://localhost:8080/"
        },
        "id": "xaFTn5JdWXZw",
        "outputId": "582e1eb2-c0b5-49f0-f9a8-12cd12567fa8"
      },
      "execution_count": 127,
      "outputs": [
        {
          "output_type": "execute_result",
          "data": {
            "text/plain": [
              "11"
            ]
          },
          "metadata": {},
          "execution_count": 127
        }
      ]
    },
    {
      "cell_type": "code",
      "source": [
        "fill_with_most_common(df, 'Collision type')"
      ],
      "metadata": {
        "id": "QMAkXo3mA_Zc"
      },
      "execution_count": 128,
      "outputs": []
    },
    {
      "cell_type": "markdown",
      "source": [
        "## Municipality\n",
        "\n",
        "The commune number is a code given by INSEE. The code has 3 numbers set to the right."
      ],
      "metadata": {
        "id": "JfqDGtp5XWwg"
      }
    },
    {
      "cell_type": "code",
      "source": [
        "df['Municipality'].value_counts()"
      ],
      "metadata": {
        "colab": {
          "base_uri": "https://localhost:8080/"
        },
        "id": "2lwK6gvRWXXF",
        "outputId": "e9b96bde-b30a-4d8a-f07c-d6f84d18109c"
      },
      "execution_count": 129,
      "outputs": [
        {
          "output_type": "execute_result",
          "data": {
            "text/plain": [
              "55.0     32563\n",
              "88.0     13982\n",
              "7.0      10646\n",
              "63.0     10176\n",
              "113.0     9895\n",
              "         ...  \n",
              "952.0        1\n",
              "925.0        1\n",
              "892.0        1\n",
              "878.0        1\n",
              "847.0        1\n",
              "Name: Municipality, Length: 924, dtype: int64"
            ]
          },
          "metadata": {},
          "execution_count": 129
        }
      ]
    },
    {
      "cell_type": "code",
      "source": [
        "df['Municipality'].isna().sum()"
      ],
      "metadata": {
        "colab": {
          "base_uri": "https://localhost:8080/"
        },
        "id": "32EMmrD4Wp7J",
        "outputId": "97c416e1-07c5-4d76-a4a9-a8df21060ad2"
      },
      "execution_count": 130,
      "outputs": [
        {
          "output_type": "execute_result",
          "data": {
            "text/plain": [
              "2"
            ]
          },
          "metadata": {},
          "execution_count": 130
        }
      ]
    },
    {
      "cell_type": "code",
      "source": [
        "fill_with_most_common(df, 'Municipality')"
      ],
      "metadata": {
        "id": "zfKDrA_cAFO2"
      },
      "execution_count": 131,
      "outputs": []
    },
    {
      "cell_type": "markdown",
      "source": [
        "## Department\n",
        "\n"
      ],
      "metadata": {
        "id": "aDpwQKfFXXhQ"
      }
    },
    {
      "cell_type": "markdown",
      "source": [
        "INSEE Code (National Institute of Statistics and Economic Studies) of the departmeent followed by a 0 (201 Corse-du-Sud - 202 Haute-Corse)"
      ],
      "metadata": {
        "id": "TTVYz0AIbVP7"
      }
    },
    {
      "cell_type": "code",
      "source": [
        "df['Department'].value_counts()"
      ],
      "metadata": {
        "colab": {
          "base_uri": "https://localhost:8080/"
        },
        "id": "5TbUEgETWxpx",
        "outputId": "6a15f62d-d490-4f8d-9a74-20604c878126"
      },
      "execution_count": 132,
      "outputs": [
        {
          "output_type": "execute_result",
          "data": {
            "text/plain": [
              "750    87482\n",
              "130    52188\n",
              "930    33810\n",
              "920    31261\n",
              "940    29389\n",
              "       ...  \n",
              "90      1272\n",
              "150     1012\n",
              "230      953\n",
              "480      949\n",
              "976      542\n",
              "Name: Department, Length: 101, dtype: int64"
            ]
          },
          "metadata": {},
          "execution_count": 132
        }
      ]
    },
    {
      "cell_type": "code",
      "source": [
        "df['Department'].isna().sum()"
      ],
      "metadata": {
        "colab": {
          "base_uri": "https://localhost:8080/"
        },
        "id": "qJ4l82-cWxjx",
        "outputId": "b192ff22-d7ab-4cf8-8db7-888a8b39614a"
      },
      "execution_count": 133,
      "outputs": [
        {
          "output_type": "execute_result",
          "data": {
            "text/plain": [
              "0"
            ]
          },
          "metadata": {},
          "execution_count": 133
        }
      ]
    },
    {
      "cell_type": "markdown",
      "source": [
        "## gps"
      ],
      "metadata": {
        "id": "Li7QvJMIXZhA"
      }
    },
    {
      "cell_type": "markdown",
      "source": [
        "**GPS coding: 1 originator character:**\n",
        "\n",
        "M = Métropole\n",
        "\n",
        "A = Antilles (Martinique or Guadeloupe)\n",
        "\n",
        "G = Guyane\n",
        "\n",
        "R = Réunion\n",
        "\n",
        "Y = Mayotte"
      ],
      "metadata": {
        "id": "d2pw74SZfc7z"
      }
    },
    {
      "cell_type": "code",
      "source": [
        "df['gps'].value_counts()"
      ],
      "metadata": {
        "colab": {
          "base_uri": "https://localhost:8080/"
        },
        "id": "koFgdIlaWp3B",
        "outputId": "8f20f113-7d03-40e9-8b08-246bbe8d0266"
      },
      "execution_count": 134,
      "outputs": [
        {
          "output_type": "execute_result",
          "data": {
            "text/plain": [
              "M    352824\n",
              "A      6545\n",
              "R      4161\n",
              "G      2349\n",
              "Y       329\n",
              "0         9\n",
              "S         4\n",
              "T         2\n",
              "C         2\n",
              "P         1\n",
              "Name: gps, dtype: int64"
            ]
          },
          "metadata": {},
          "execution_count": 134
        }
      ]
    },
    {
      "cell_type": "code",
      "source": [
        "df['gps'].isna().sum()"
      ],
      "metadata": {
        "colab": {
          "base_uri": "https://localhost:8080/"
        },
        "id": "gb82koB5WpvS",
        "outputId": "c1d7d1dd-ea89-4daf-abe3-63fd7186c2ee"
      },
      "execution_count": 135,
      "outputs": [
        {
          "output_type": "execute_result",
          "data": {
            "text/plain": [
              "473759"
            ]
          },
          "metadata": {},
          "execution_count": 135
        }
      ]
    },
    {
      "cell_type": "code",
      "source": [
        "df.drop('gps', axis=1, inplace=True)"
      ],
      "metadata": {
        "id": "2kAvPbN9CAlG"
      },
      "execution_count": 136,
      "outputs": []
    },
    {
      "cell_type": "markdown",
      "source": [
        "## Lon & Lat"
      ],
      "metadata": {
        "id": "Ys5lzZhlXafA"
      }
    },
    {
      "cell_type": "code",
      "source": [
        "df['long'].value_counts()"
      ],
      "metadata": {
        "colab": {
          "base_uri": "https://localhost:8080/"
        },
        "id": "LZR2NEVuWpkx",
        "outputId": "f11c324d-7e20-40ac-baf7-c89ff73bd56e"
      },
      "execution_count": 137,
      "outputs": [
        {
          "output_type": "execute_result",
          "data": {
            "text/plain": [
              "0.0          105356\n",
              "0             32301\n",
              "-              3209\n",
              "345699.0        154\n",
              "247391.0         41\n",
              "              ...  \n",
              "-150982.0         1\n",
              "-148092.0         1\n",
              "-153343.0         1\n",
              "-149269.0         1\n",
              "6086700.0         1\n",
              "Name: long, Length: 142013, dtype: int64"
            ]
          },
          "metadata": {},
          "execution_count": 137
        }
      ]
    },
    {
      "cell_type": "code",
      "source": [
        "df['long'].isna().sum()"
      ],
      "metadata": {
        "colab": {
          "base_uri": "https://localhost:8080/"
        },
        "id": "ehWHxLICbtT7",
        "outputId": "f932e35b-ee07-4575-d28e-2a6e97aeb662"
      },
      "execution_count": 138,
      "outputs": [
        {
          "output_type": "execute_result",
          "data": {
            "text/plain": [
              "477518"
            ]
          },
          "metadata": {},
          "execution_count": 138
        }
      ]
    },
    {
      "cell_type": "code",
      "source": [
        "df['lat'].value_counts()"
      ],
      "metadata": {
        "colab": {
          "base_uri": "https://localhost:8080/"
        },
        "id": "Hfi8GwWRgSEz",
        "outputId": "d5f992a1-abd0-4fce-a2eb-c04ca5598112"
      },
      "execution_count": 139,
      "outputs": [
        {
          "output_type": "execute_result",
          "data": {
            "text/plain": [
              "0.0          117839\n",
              "4.0           22481\n",
              "5.0             406\n",
              "4881740.0        60\n",
              "4881750.0        57\n",
              "              ...  \n",
              "4811298.0         1\n",
              "4815684.0         1\n",
              "4854475.0         1\n",
              "4807827.0         1\n",
              "4322423.0         1\n",
              "Name: lat, Length: 112591, dtype: int64"
            ]
          },
          "metadata": {},
          "execution_count": 139
        }
      ]
    },
    {
      "cell_type": "code",
      "source": [
        "df['lat'].isna().sum()"
      ],
      "metadata": {
        "colab": {
          "base_uri": "https://localhost:8080/"
        },
        "id": "nNVZBb2AgShi",
        "outputId": "d22cd3ae-2e96-43d3-f767-3ec52838c884"
      },
      "execution_count": 140,
      "outputs": [
        {
          "output_type": "execute_result",
          "data": {
            "text/plain": [
              "477514"
            ]
          },
          "metadata": {},
          "execution_count": 140
        }
      ]
    },
    {
      "cell_type": "code",
      "source": [
        "print('Correct long coordinates:')\n",
        "df.shape[0]-df['long'].isna().sum() - len(df[df['long'] == 0.0]) - len(df[df['long'] == '0']) - len(df[df['long'] == '-'])"
      ],
      "metadata": {
        "colab": {
          "base_uri": "https://localhost:8080/"
        },
        "id": "pmQTM1e2gz4K",
        "outputId": "284a6a64-dd7a-466e-d928-baf0aa402d35"
      },
      "execution_count": 141,
      "outputs": [
        {
          "output_type": "stream",
          "name": "stdout",
          "text": [
            "Correct long coordinates:\n"
          ]
        },
        {
          "output_type": "execute_result",
          "data": {
            "text/plain": [
              "221601"
            ]
          },
          "metadata": {},
          "execution_count": 141
        }
      ]
    },
    {
      "cell_type": "code",
      "source": [
        "print('Correct lat coordinates:')\n",
        "df.shape[0]-df['lat'].isna().sum() - len(df[df['lat'] == 0.0])"
      ],
      "metadata": {
        "colab": {
          "base_uri": "https://localhost:8080/"
        },
        "id": "GV5vd5SahjlK",
        "outputId": "bb57ce22-974c-4c04-c660-276c22bc23b6"
      },
      "execution_count": 142,
      "outputs": [
        {
          "output_type": "stream",
          "name": "stdout",
          "text": [
            "Correct lat coordinates:\n"
          ]
        },
        {
          "output_type": "execute_result",
          "data": {
            "text/plain": [
              "244632"
            ]
          },
          "metadata": {},
          "execution_count": 142
        }
      ]
    },
    {
      "cell_type": "code",
      "source": [
        "df.drop('long', axis=1, inplace=True)\n",
        "df.drop('lat', axis=1, inplace=True)"
      ],
      "metadata": {
        "id": "LRNQKpjFCMb8"
      },
      "execution_count": 143,
      "outputs": []
    },
    {
      "cell_type": "markdown",
      "source": [
        "# Result"
      ],
      "metadata": {
        "id": "sGJV5qQTCRPm"
      }
    },
    {
      "cell_type": "code",
      "source": [
        "df.head()"
      ],
      "metadata": {
        "colab": {
          "base_uri": "https://localhost:8080/",
          "height": 394
        },
        "id": "nbdtJVrdCQor",
        "outputId": "c72524e5-87dc-4467-b8f5-4236ccbcd1f6"
      },
      "execution_count": 144,
      "outputs": [
        {
          "output_type": "execute_result",
          "data": {
            "text/plain": [
              "        Num_Acc  Time  Lighting  Localisation  Intersection  \\\n",
              "0  201600000001  1445         1             2             1   \n",
              "1  201600000002  1800         1             2             6   \n",
              "2  201600000003  1900         1             1             1   \n",
              "3  201600000004  1930         3             2             1   \n",
              "4  201600000005  1100         1             2             3   \n",
              "\n",
              "   Atmospheric conditions  Collision type  Municipality  Department  New year  \\\n",
              "0                     8.0             3.0           5.0         590         0   \n",
              "1                     1.0             6.0           5.0         590         0   \n",
              "2                     1.0             6.0          11.0         590         0   \n",
              "3                     7.0             3.0         477.0         590         0   \n",
              "4                     1.0             3.0          11.0         590         0   \n",
              "\n",
              "   ...  Ascension Thursday  Victory in Europe Day  Whit Monday  Bastille Day  \\\n",
              "0  ...                   0                      0            0             0   \n",
              "1  ...                   0                      0            0             0   \n",
              "2  ...                   0                      0            0             0   \n",
              "3  ...                   0                      0            0             0   \n",
              "4  ...                   0                      0            0             0   \n",
              "\n",
              "   Assumption of Mary to Heaven  All Saints Day  Armistice Day  Christmas Day  \\\n",
              "0                             0               0              0              0   \n",
              "1                             0               0              0              0   \n",
              "2                             0               0              0              0   \n",
              "3                             1               0              0              0   \n",
              "4                             0               0              0              0   \n",
              "\n",
              "        Date  Holiday  \n",
              "0 2016-02-01        0  \n",
              "1 2016-03-16        0  \n",
              "2 2016-07-13        0  \n",
              "3 2016-08-15        1  \n",
              "4 2016-12-23        0  \n",
              "\n",
              "[5 rows x 22 columns]"
            ],
            "text/html": [
              "\n",
              "  <div id=\"df-23a8db2e-284e-4c5d-a376-af9871694a0e\" class=\"colab-df-container\">\n",
              "    <div>\n",
              "<style scoped>\n",
              "    .dataframe tbody tr th:only-of-type {\n",
              "        vertical-align: middle;\n",
              "    }\n",
              "\n",
              "    .dataframe tbody tr th {\n",
              "        vertical-align: top;\n",
              "    }\n",
              "\n",
              "    .dataframe thead th {\n",
              "        text-align: right;\n",
              "    }\n",
              "</style>\n",
              "<table border=\"1\" class=\"dataframe\">\n",
              "  <thead>\n",
              "    <tr style=\"text-align: right;\">\n",
              "      <th></th>\n",
              "      <th>Num_Acc</th>\n",
              "      <th>Time</th>\n",
              "      <th>Lighting</th>\n",
              "      <th>Localisation</th>\n",
              "      <th>Intersection</th>\n",
              "      <th>Atmospheric conditions</th>\n",
              "      <th>Collision type</th>\n",
              "      <th>Municipality</th>\n",
              "      <th>Department</th>\n",
              "      <th>New year</th>\n",
              "      <th>...</th>\n",
              "      <th>Ascension Thursday</th>\n",
              "      <th>Victory in Europe Day</th>\n",
              "      <th>Whit Monday</th>\n",
              "      <th>Bastille Day</th>\n",
              "      <th>Assumption of Mary to Heaven</th>\n",
              "      <th>All Saints Day</th>\n",
              "      <th>Armistice Day</th>\n",
              "      <th>Christmas Day</th>\n",
              "      <th>Date</th>\n",
              "      <th>Holiday</th>\n",
              "    </tr>\n",
              "  </thead>\n",
              "  <tbody>\n",
              "    <tr>\n",
              "      <th>0</th>\n",
              "      <td>201600000001</td>\n",
              "      <td>1445</td>\n",
              "      <td>1</td>\n",
              "      <td>2</td>\n",
              "      <td>1</td>\n",
              "      <td>8.0</td>\n",
              "      <td>3.0</td>\n",
              "      <td>5.0</td>\n",
              "      <td>590</td>\n",
              "      <td>0</td>\n",
              "      <td>...</td>\n",
              "      <td>0</td>\n",
              "      <td>0</td>\n",
              "      <td>0</td>\n",
              "      <td>0</td>\n",
              "      <td>0</td>\n",
              "      <td>0</td>\n",
              "      <td>0</td>\n",
              "      <td>0</td>\n",
              "      <td>2016-02-01</td>\n",
              "      <td>0</td>\n",
              "    </tr>\n",
              "    <tr>\n",
              "      <th>1</th>\n",
              "      <td>201600000002</td>\n",
              "      <td>1800</td>\n",
              "      <td>1</td>\n",
              "      <td>2</td>\n",
              "      <td>6</td>\n",
              "      <td>1.0</td>\n",
              "      <td>6.0</td>\n",
              "      <td>5.0</td>\n",
              "      <td>590</td>\n",
              "      <td>0</td>\n",
              "      <td>...</td>\n",
              "      <td>0</td>\n",
              "      <td>0</td>\n",
              "      <td>0</td>\n",
              "      <td>0</td>\n",
              "      <td>0</td>\n",
              "      <td>0</td>\n",
              "      <td>0</td>\n",
              "      <td>0</td>\n",
              "      <td>2016-03-16</td>\n",
              "      <td>0</td>\n",
              "    </tr>\n",
              "    <tr>\n",
              "      <th>2</th>\n",
              "      <td>201600000003</td>\n",
              "      <td>1900</td>\n",
              "      <td>1</td>\n",
              "      <td>1</td>\n",
              "      <td>1</td>\n",
              "      <td>1.0</td>\n",
              "      <td>6.0</td>\n",
              "      <td>11.0</td>\n",
              "      <td>590</td>\n",
              "      <td>0</td>\n",
              "      <td>...</td>\n",
              "      <td>0</td>\n",
              "      <td>0</td>\n",
              "      <td>0</td>\n",
              "      <td>0</td>\n",
              "      <td>0</td>\n",
              "      <td>0</td>\n",
              "      <td>0</td>\n",
              "      <td>0</td>\n",
              "      <td>2016-07-13</td>\n",
              "      <td>0</td>\n",
              "    </tr>\n",
              "    <tr>\n",
              "      <th>3</th>\n",
              "      <td>201600000004</td>\n",
              "      <td>1930</td>\n",
              "      <td>3</td>\n",
              "      <td>2</td>\n",
              "      <td>1</td>\n",
              "      <td>7.0</td>\n",
              "      <td>3.0</td>\n",
              "      <td>477.0</td>\n",
              "      <td>590</td>\n",
              "      <td>0</td>\n",
              "      <td>...</td>\n",
              "      <td>0</td>\n",
              "      <td>0</td>\n",
              "      <td>0</td>\n",
              "      <td>0</td>\n",
              "      <td>1</td>\n",
              "      <td>0</td>\n",
              "      <td>0</td>\n",
              "      <td>0</td>\n",
              "      <td>2016-08-15</td>\n",
              "      <td>1</td>\n",
              "    </tr>\n",
              "    <tr>\n",
              "      <th>4</th>\n",
              "      <td>201600000005</td>\n",
              "      <td>1100</td>\n",
              "      <td>1</td>\n",
              "      <td>2</td>\n",
              "      <td>3</td>\n",
              "      <td>1.0</td>\n",
              "      <td>3.0</td>\n",
              "      <td>11.0</td>\n",
              "      <td>590</td>\n",
              "      <td>0</td>\n",
              "      <td>...</td>\n",
              "      <td>0</td>\n",
              "      <td>0</td>\n",
              "      <td>0</td>\n",
              "      <td>0</td>\n",
              "      <td>0</td>\n",
              "      <td>0</td>\n",
              "      <td>0</td>\n",
              "      <td>0</td>\n",
              "      <td>2016-12-23</td>\n",
              "      <td>0</td>\n",
              "    </tr>\n",
              "  </tbody>\n",
              "</table>\n",
              "<p>5 rows × 22 columns</p>\n",
              "</div>\n",
              "    <div class=\"colab-df-buttons\">\n",
              "\n",
              "  <div class=\"colab-df-container\">\n",
              "    <button class=\"colab-df-convert\" onclick=\"convertToInteractive('df-23a8db2e-284e-4c5d-a376-af9871694a0e')\"\n",
              "            title=\"Convert this dataframe to an interactive table.\"\n",
              "            style=\"display:none;\">\n",
              "\n",
              "  <svg xmlns=\"http://www.w3.org/2000/svg\" height=\"24px\" viewBox=\"0 -960 960 960\">\n",
              "    <path d=\"M120-120v-720h720v720H120Zm60-500h600v-160H180v160Zm220 220h160v-160H400v160Zm0 220h160v-160H400v160ZM180-400h160v-160H180v160Zm440 0h160v-160H620v160ZM180-180h160v-160H180v160Zm440 0h160v-160H620v160Z\"/>\n",
              "  </svg>\n",
              "    </button>\n",
              "\n",
              "  <style>\n",
              "    .colab-df-container {\n",
              "      display:flex;\n",
              "      gap: 12px;\n",
              "    }\n",
              "\n",
              "    .colab-df-convert {\n",
              "      background-color: #E8F0FE;\n",
              "      border: none;\n",
              "      border-radius: 50%;\n",
              "      cursor: pointer;\n",
              "      display: none;\n",
              "      fill: #1967D2;\n",
              "      height: 32px;\n",
              "      padding: 0 0 0 0;\n",
              "      width: 32px;\n",
              "    }\n",
              "\n",
              "    .colab-df-convert:hover {\n",
              "      background-color: #E2EBFA;\n",
              "      box-shadow: 0px 1px 2px rgba(60, 64, 67, 0.3), 0px 1px 3px 1px rgba(60, 64, 67, 0.15);\n",
              "      fill: #174EA6;\n",
              "    }\n",
              "\n",
              "    .colab-df-buttons div {\n",
              "      margin-bottom: 4px;\n",
              "    }\n",
              "\n",
              "    [theme=dark] .colab-df-convert {\n",
              "      background-color: #3B4455;\n",
              "      fill: #D2E3FC;\n",
              "    }\n",
              "\n",
              "    [theme=dark] .colab-df-convert:hover {\n",
              "      background-color: #434B5C;\n",
              "      box-shadow: 0px 1px 3px 1px rgba(0, 0, 0, 0.15);\n",
              "      filter: drop-shadow(0px 1px 2px rgba(0, 0, 0, 0.3));\n",
              "      fill: #FFFFFF;\n",
              "    }\n",
              "  </style>\n",
              "\n",
              "    <script>\n",
              "      const buttonEl =\n",
              "        document.querySelector('#df-23a8db2e-284e-4c5d-a376-af9871694a0e button.colab-df-convert');\n",
              "      buttonEl.style.display =\n",
              "        google.colab.kernel.accessAllowed ? 'block' : 'none';\n",
              "\n",
              "      async function convertToInteractive(key) {\n",
              "        const element = document.querySelector('#df-23a8db2e-284e-4c5d-a376-af9871694a0e');\n",
              "        const dataTable =\n",
              "          await google.colab.kernel.invokeFunction('convertToInteractive',\n",
              "                                                    [key], {});\n",
              "        if (!dataTable) return;\n",
              "\n",
              "        const docLinkHtml = 'Like what you see? Visit the ' +\n",
              "          '<a target=\"_blank\" href=https://colab.research.google.com/notebooks/data_table.ipynb>data table notebook</a>'\n",
              "          + ' to learn more about interactive tables.';\n",
              "        element.innerHTML = '';\n",
              "        dataTable['output_type'] = 'display_data';\n",
              "        await google.colab.output.renderOutput(dataTable, element);\n",
              "        const docLink = document.createElement('div');\n",
              "        docLink.innerHTML = docLinkHtml;\n",
              "        element.appendChild(docLink);\n",
              "      }\n",
              "    </script>\n",
              "  </div>\n",
              "\n",
              "\n",
              "<div id=\"df-b7d79a8f-e534-4a72-8658-5f79863fb1ea\">\n",
              "  <button class=\"colab-df-quickchart\" onclick=\"quickchart('df-b7d79a8f-e534-4a72-8658-5f79863fb1ea')\"\n",
              "            title=\"Suggest charts\"\n",
              "            style=\"display:none;\">\n",
              "\n",
              "<svg xmlns=\"http://www.w3.org/2000/svg\" height=\"24px\"viewBox=\"0 0 24 24\"\n",
              "     width=\"24px\">\n",
              "    <g>\n",
              "        <path d=\"M19 3H5c-1.1 0-2 .9-2 2v14c0 1.1.9 2 2 2h14c1.1 0 2-.9 2-2V5c0-1.1-.9-2-2-2zM9 17H7v-7h2v7zm4 0h-2V7h2v10zm4 0h-2v-4h2v4z\"/>\n",
              "    </g>\n",
              "</svg>\n",
              "  </button>\n",
              "\n",
              "<style>\n",
              "  .colab-df-quickchart {\n",
              "      --bg-color: #E8F0FE;\n",
              "      --fill-color: #1967D2;\n",
              "      --hover-bg-color: #E2EBFA;\n",
              "      --hover-fill-color: #174EA6;\n",
              "      --disabled-fill-color: #AAA;\n",
              "      --disabled-bg-color: #DDD;\n",
              "  }\n",
              "\n",
              "  [theme=dark] .colab-df-quickchart {\n",
              "      --bg-color: #3B4455;\n",
              "      --fill-color: #D2E3FC;\n",
              "      --hover-bg-color: #434B5C;\n",
              "      --hover-fill-color: #FFFFFF;\n",
              "      --disabled-bg-color: #3B4455;\n",
              "      --disabled-fill-color: #666;\n",
              "  }\n",
              "\n",
              "  .colab-df-quickchart {\n",
              "    background-color: var(--bg-color);\n",
              "    border: none;\n",
              "    border-radius: 50%;\n",
              "    cursor: pointer;\n",
              "    display: none;\n",
              "    fill: var(--fill-color);\n",
              "    height: 32px;\n",
              "    padding: 0;\n",
              "    width: 32px;\n",
              "  }\n",
              "\n",
              "  .colab-df-quickchart:hover {\n",
              "    background-color: var(--hover-bg-color);\n",
              "    box-shadow: 0 1px 2px rgba(60, 64, 67, 0.3), 0 1px 3px 1px rgba(60, 64, 67, 0.15);\n",
              "    fill: var(--button-hover-fill-color);\n",
              "  }\n",
              "\n",
              "  .colab-df-quickchart-complete:disabled,\n",
              "  .colab-df-quickchart-complete:disabled:hover {\n",
              "    background-color: var(--disabled-bg-color);\n",
              "    fill: var(--disabled-fill-color);\n",
              "    box-shadow: none;\n",
              "  }\n",
              "\n",
              "  .colab-df-spinner {\n",
              "    border: 2px solid var(--fill-color);\n",
              "    border-color: transparent;\n",
              "    border-bottom-color: var(--fill-color);\n",
              "    animation:\n",
              "      spin 1s steps(1) infinite;\n",
              "  }\n",
              "\n",
              "  @keyframes spin {\n",
              "    0% {\n",
              "      border-color: transparent;\n",
              "      border-bottom-color: var(--fill-color);\n",
              "      border-left-color: var(--fill-color);\n",
              "    }\n",
              "    20% {\n",
              "      border-color: transparent;\n",
              "      border-left-color: var(--fill-color);\n",
              "      border-top-color: var(--fill-color);\n",
              "    }\n",
              "    30% {\n",
              "      border-color: transparent;\n",
              "      border-left-color: var(--fill-color);\n",
              "      border-top-color: var(--fill-color);\n",
              "      border-right-color: var(--fill-color);\n",
              "    }\n",
              "    40% {\n",
              "      border-color: transparent;\n",
              "      border-right-color: var(--fill-color);\n",
              "      border-top-color: var(--fill-color);\n",
              "    }\n",
              "    60% {\n",
              "      border-color: transparent;\n",
              "      border-right-color: var(--fill-color);\n",
              "    }\n",
              "    80% {\n",
              "      border-color: transparent;\n",
              "      border-right-color: var(--fill-color);\n",
              "      border-bottom-color: var(--fill-color);\n",
              "    }\n",
              "    90% {\n",
              "      border-color: transparent;\n",
              "      border-bottom-color: var(--fill-color);\n",
              "    }\n",
              "  }\n",
              "</style>\n",
              "\n",
              "  <script>\n",
              "    async function quickchart(key) {\n",
              "      const quickchartButtonEl =\n",
              "        document.querySelector('#' + key + ' button');\n",
              "      quickchartButtonEl.disabled = true;  // To prevent multiple clicks.\n",
              "      quickchartButtonEl.classList.add('colab-df-spinner');\n",
              "      try {\n",
              "        const charts = await google.colab.kernel.invokeFunction(\n",
              "            'suggestCharts', [key], {});\n",
              "      } catch (error) {\n",
              "        console.error('Error during call to suggestCharts:', error);\n",
              "      }\n",
              "      quickchartButtonEl.classList.remove('colab-df-spinner');\n",
              "      quickchartButtonEl.classList.add('colab-df-quickchart-complete');\n",
              "    }\n",
              "    (() => {\n",
              "      let quickchartButtonEl =\n",
              "        document.querySelector('#df-b7d79a8f-e534-4a72-8658-5f79863fb1ea button');\n",
              "      quickchartButtonEl.style.display =\n",
              "        google.colab.kernel.accessAllowed ? 'block' : 'none';\n",
              "    })();\n",
              "  </script>\n",
              "</div>\n",
              "    </div>\n",
              "  </div>\n"
            ],
            "application/vnd.google.colaboratory.intrinsic+json": {
              "type": "dataframe",
              "variable_name": "df"
            }
          },
          "metadata": {},
          "execution_count": 144
        }
      ]
    },
    {
      "cell_type": "code",
      "source": [
        "df.to_csv('data/characteristics_prepped.csv', index=False)"
      ],
      "metadata": {
        "id": "vkQMdgP0CoRL"
      },
      "execution_count": 145,
      "outputs": []
    },
    {
      "cell_type": "markdown",
      "source": [
        "# Notes\n",
        "\n",
        "## Bad news\n",
        "\n",
        "- **Municipality** or 'Commune number' is not really usable. Not sure what extra info could it give us, other than the place specificly. Commune number is to be used with Department to identify the specific commune. Usually needed to identify a certain address.\n",
        "\n",
        "- **Address:** Very specific. A LOT of different addresses. I don't think we need this column\n",
        "\n",
        "- **Department:** Practically postal code. Maybe keep only this, so we have a rough idea where it is, but commune number is too detailed in my opinion.\n",
        "\n",
        "- **gps:** Missing for half of the data. Not sure what to fill the null values with (maybe add a placeholder category for the null values or yeet the column to the trash)\n",
        "\n",
        "- **lon-lat:** About 230 000 are filled out correctly. Less then a quarter of the database. Coordinates should be yeeted in my opinion. Or at least normalized, and a placeholder value for the null/incorrect ones.\n",
        "\n",
        "\n",
        "## Time\n",
        "\n",
        "Maybe we should make an additional column which contains (yymmdd) number. Then maybe we could embed this continuity in the data itself. I would still keep month and day because they are useful for determining holidays, or to recognise spikes within the year.\n",
        "\n",
        "## Categoric parameters\n",
        "\n",
        "I would introduce dummy columns for most of the categoric data (except if it has something to do with space/time/continuity that can be expressed using numbers.\n"
      ],
      "metadata": {
        "id": "s3aeaQFyd2WU"
      }
    }
  ]
}