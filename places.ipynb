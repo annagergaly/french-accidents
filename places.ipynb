{
 "nbformat": 4,
 "nbformat_minor": 0,
 "metadata": {
  "colab": {
   "provenance": []
  },
  "kernelspec": {
   "name": "french-accidents",
   "language": "python",
   "display_name": "french-accidents"
  },
  "language_info": {
   "name": "python"
  }
 },
 "cells": [
  {
   "cell_type": "code",
   "execution_count": 19,
   "metadata": {
    "id": "qDsAh1YUTmvi",
    "ExecuteTime": {
     "end_time": "2024-04-07T10:12:04.219246Z",
     "start_time": "2024-04-07T10:12:04.210796Z"
    }
   },
   "outputs": [],
   "source": [
    "import pandas as pd\n",
    "import seaborn as sns"
   ]
  },
  {
   "cell_type": "code",
   "source": [
    "path = \"data/places.csv\"\n",
    "df = pd.read_csv(path, low_memory=False)"
   ],
   "metadata": {
    "id": "bT10veceXGBa",
    "ExecuteTime": {
     "end_time": "2024-04-07T10:12:08.209290Z",
     "start_time": "2024-04-07T10:12:04.917013Z"
    }
   },
   "execution_count": 20,
   "outputs": []
  },
  {
   "cell_type": "code",
   "source": [
    "df.rename( columns= { \"catr\": \"road_type\", \"voie\": \"road_num\", \"circ\": \"traffic_type\", \"nbv\": \"num_lanes\", \"vosp\": \"bike_lane_type\",\n",
    "                     \"prof\": \"terrain_type\", \"plan\": \"curve_type\", \"pr1\": \"pr_distance\", \"lartpc\": \"central_width\", \"larrout\": \"width\", \"surf\": \"condition\",\n",
    "                      \"infra\": \"infrastructure\", \"env1\": \"school\"}, inplace=True)"
   ],
   "metadata": {
    "id": "GPl5fF_cqN-I",
    "ExecuteTime": {
     "end_time": "2024-04-07T10:12:08.271761Z",
     "start_time": "2024-04-07T10:12:08.220265Z"
    }
   },
   "execution_count": 21,
   "outputs": []
  },
  {
   "cell_type": "code",
   "source": [
    "df.count()"
   ],
   "metadata": {
    "colab": {
     "base_uri": "https://localhost:8080/"
    },
    "id": "sMj29E_dokY-",
    "outputId": "ab38c5a8-d0a4-4cca-eb9d-70e5c146c21d",
    "ExecuteTime": {
     "end_time": "2024-04-07T10:12:08.580037Z",
     "start_time": "2024-04-07T10:12:08.278427Z"
    }
   },
   "execution_count": 22,
   "outputs": [
    {
     "data": {
      "text/plain": "Num_Acc           839985\nroad_type         839984\nroad_num          780914\nv1                332816\nv2                 33953\ntraffic_type      839187\nnum_lanes         838195\npr                414770\npr_distance       413463\nbike_lane_type    838345\nterrain_type      838924\ncurve_type        838909\ncentral_width     830440\nwidth             831706\ncondition         838968\ninfrastructure    838707\nsitu              838983\nschool            838709\ndtype: int64"
     },
     "execution_count": 22,
     "metadata": {},
     "output_type": "execute_result"
    }
   ]
  },
  {
   "cell_type": "code",
   "source": [
    "df.head()"
   ],
   "metadata": {
    "colab": {
     "base_uri": "https://localhost:8080/",
     "height": 226
    },
    "id": "m4vkwta-adXZ",
    "outputId": "3d27c26f-170c-4b7f-81c3-601a6744227a",
    "ExecuteTime": {
     "end_time": "2024-04-07T10:12:08.693404Z",
     "start_time": "2024-04-07T10:12:08.588170Z"
    }
   },
   "execution_count": 23,
   "outputs": [
    {
     "data": {
      "text/plain": "        Num_Acc  road_type road_num  v1   v2  traffic_type  num_lanes  pr  \\\n0  201600000001        3.0       39 NaN  NaN           2.0        0.0 NaN   \n1  201600000002        3.0       39 NaN  NaN           1.0        0.0 NaN   \n2  201600000003        3.0        1 NaN  NaN           2.0        2.0 NaN   \n3  201600000004        4.0        0 NaN  NaN           2.0        0.0 NaN   \n4  201600000005        4.0        0 NaN  NaN           0.0        0.0 NaN   \n\n   pr_distance  bike_lane_type  terrain_type  curve_type  central_width  \\\n0          NaN             0.0           1.0         3.0            0.0   \n1          NaN             0.0           1.0         2.0            0.0   \n2          NaN             0.0           1.0         3.0            0.0   \n3          NaN             0.0           1.0         1.0            0.0   \n4          NaN             0.0           0.0         1.0            0.0   \n\n   width  condition  infrastructure  situ  school  \n0    0.0        1.0             0.0   1.0     0.0  \n1   58.0        1.0             0.0   1.0     0.0  \n2   68.0        2.0             0.0   3.0    99.0  \n3    0.0        1.0             0.0   1.0    99.0  \n4    0.0        1.0             0.0   1.0     3.0  ",
      "text/html": "<div>\n<style scoped>\n    .dataframe tbody tr th:only-of-type {\n        vertical-align: middle;\n    }\n\n    .dataframe tbody tr th {\n        vertical-align: top;\n    }\n\n    .dataframe thead th {\n        text-align: right;\n    }\n</style>\n<table border=\"1\" class=\"dataframe\">\n  <thead>\n    <tr style=\"text-align: right;\">\n      <th></th>\n      <th>Num_Acc</th>\n      <th>road_type</th>\n      <th>road_num</th>\n      <th>v1</th>\n      <th>v2</th>\n      <th>traffic_type</th>\n      <th>num_lanes</th>\n      <th>pr</th>\n      <th>pr_distance</th>\n      <th>bike_lane_type</th>\n      <th>terrain_type</th>\n      <th>curve_type</th>\n      <th>central_width</th>\n      <th>width</th>\n      <th>condition</th>\n      <th>infrastructure</th>\n      <th>situ</th>\n      <th>school</th>\n    </tr>\n  </thead>\n  <tbody>\n    <tr>\n      <th>0</th>\n      <td>201600000001</td>\n      <td>3.0</td>\n      <td>39</td>\n      <td>NaN</td>\n      <td>NaN</td>\n      <td>2.0</td>\n      <td>0.0</td>\n      <td>NaN</td>\n      <td>NaN</td>\n      <td>0.0</td>\n      <td>1.0</td>\n      <td>3.0</td>\n      <td>0.0</td>\n      <td>0.0</td>\n      <td>1.0</td>\n      <td>0.0</td>\n      <td>1.0</td>\n      <td>0.0</td>\n    </tr>\n    <tr>\n      <th>1</th>\n      <td>201600000002</td>\n      <td>3.0</td>\n      <td>39</td>\n      <td>NaN</td>\n      <td>NaN</td>\n      <td>1.0</td>\n      <td>0.0</td>\n      <td>NaN</td>\n      <td>NaN</td>\n      <td>0.0</td>\n      <td>1.0</td>\n      <td>2.0</td>\n      <td>0.0</td>\n      <td>58.0</td>\n      <td>1.0</td>\n      <td>0.0</td>\n      <td>1.0</td>\n      <td>0.0</td>\n    </tr>\n    <tr>\n      <th>2</th>\n      <td>201600000003</td>\n      <td>3.0</td>\n      <td>1</td>\n      <td>NaN</td>\n      <td>NaN</td>\n      <td>2.0</td>\n      <td>2.0</td>\n      <td>NaN</td>\n      <td>NaN</td>\n      <td>0.0</td>\n      <td>1.0</td>\n      <td>3.0</td>\n      <td>0.0</td>\n      <td>68.0</td>\n      <td>2.0</td>\n      <td>0.0</td>\n      <td>3.0</td>\n      <td>99.0</td>\n    </tr>\n    <tr>\n      <th>3</th>\n      <td>201600000004</td>\n      <td>4.0</td>\n      <td>0</td>\n      <td>NaN</td>\n      <td>NaN</td>\n      <td>2.0</td>\n      <td>0.0</td>\n      <td>NaN</td>\n      <td>NaN</td>\n      <td>0.0</td>\n      <td>1.0</td>\n      <td>1.0</td>\n      <td>0.0</td>\n      <td>0.0</td>\n      <td>1.0</td>\n      <td>0.0</td>\n      <td>1.0</td>\n      <td>99.0</td>\n    </tr>\n    <tr>\n      <th>4</th>\n      <td>201600000005</td>\n      <td>4.0</td>\n      <td>0</td>\n      <td>NaN</td>\n      <td>NaN</td>\n      <td>0.0</td>\n      <td>0.0</td>\n      <td>NaN</td>\n      <td>NaN</td>\n      <td>0.0</td>\n      <td>0.0</td>\n      <td>1.0</td>\n      <td>0.0</td>\n      <td>0.0</td>\n      <td>1.0</td>\n      <td>0.0</td>\n      <td>1.0</td>\n      <td>3.0</td>\n    </tr>\n  </tbody>\n</table>\n</div>"
     },
     "execution_count": 23,
     "metadata": {},
     "output_type": "execute_result"
    }
   ]
  },
  {
   "cell_type": "markdown",
   "source": [
    "## Road Type\n",
    "\n",
    "    1 - Highway\n",
    "\n",
    "    2 - National Road\n",
    "\n",
    "    3 - Departmental Road\n",
    "\n",
    "    4 - Communal Way\n",
    "\n",
    "    5 - Off public network\n",
    "\n",
    "    6 - Parking lot open to public traffic\n",
    "\n",
    "    9 - other\n"
   ],
   "metadata": {
    "id": "SHm5znUO3Yro"
   }
  },
  {
   "cell_type": "code",
   "source": [
    "df['road_type'].value_counts()"
   ],
   "metadata": {
    "colab": {
     "base_uri": "https://localhost:8080/"
    },
    "id": "ajKi7-yKi1gN",
    "outputId": "758a0997-9395-4e19-8e9a-7aa60eb4439d",
    "ExecuteTime": {
     "end_time": "2024-04-07T10:12:08.771754Z",
     "start_time": "2024-04-07T10:12:08.698679Z"
    }
   },
   "execution_count": 24,
   "outputs": [
    {
     "data": {
      "text/plain": "road_type\n4.0    425061\n3.0    262690\n2.0     67918\n1.0     61077\n9.0     16084\n6.0      5520\n5.0      1634\nName: count, dtype: int64"
     },
     "execution_count": 24,
     "metadata": {},
     "output_type": "execute_result"
    }
   ]
  },
  {
   "cell_type": "code",
   "source": [
    "df['road_type'].isna().sum()"
   ],
   "metadata": {
    "colab": {
     "base_uri": "https://localhost:8080/"
    },
    "id": "CRF_Bd1H35kE",
    "outputId": "ee0e5d90-e16e-4af3-adbc-1864d2085195",
    "ExecuteTime": {
     "end_time": "2024-04-07T10:12:08.807952Z",
     "start_time": "2024-04-07T10:12:08.776989Z"
    }
   },
   "execution_count": 25,
   "outputs": [
    {
     "data": {
      "text/plain": "1"
     },
     "execution_count": 25,
     "metadata": {},
     "output_type": "execute_result"
    }
   ]
  },
  {
   "cell_type": "code",
   "source": [
    "df['road_type'].fillna(9.0, inplace=True)"
   ],
   "metadata": {
    "id": "WlN_Z5eA4MPt",
    "ExecuteTime": {
     "end_time": "2024-04-07T10:12:08.839308Z",
     "start_time": "2024-04-07T10:12:08.813227Z"
    }
   },
   "execution_count": 26,
   "outputs": [
    {
     "name": "stderr",
     "output_type": "stream",
     "text": [
      "C:\\Users\\annag\\AppData\\Local\\Temp\\ipykernel_19752\\2883975627.py:1: FutureWarning: A value is trying to be set on a copy of a DataFrame or Series through chained assignment using an inplace method.\n",
      "The behavior will change in pandas 3.0. This inplace method will never work because the intermediate object on which we are setting values always behaves as a copy.\n",
      "\n",
      "For example, when doing 'df[col].method(value, inplace=True)', try using 'df.method({col: value}, inplace=True)' or df[col] = df[col].method(value) instead, to perform the operation inplace on the original object.\n",
      "\n",
      "\n",
      "  df['road_type'].fillna(9.0, inplace=True)\n"
     ]
    }
   ]
  },
  {
   "cell_type": "markdown",
   "source": [
    "## Road number"
   ],
   "metadata": {
    "id": "U5ezoNXp3prW"
   }
  },
  {
   "cell_type": "code",
   "source": [
    "df['road_num'].value_counts()"
   ],
   "metadata": {
    "colab": {
     "base_uri": "https://localhost:8080/"
    },
    "id": "ngeZnlM5kTQb",
    "outputId": "56eeb466-f414-4e25-f5c5-8efc79806590",
    "ExecuteTime": {
     "end_time": "2024-04-07T10:12:09.025475Z",
     "start_time": "2024-04-07T10:12:08.843486Z"
    }
   },
   "execution_count": 27,
   "outputs": [
    {
     "data": {
      "text/plain": "road_num\n0        451032\n1         22224\n6          8953\n7          8055\n4          7173\n          ...  \n00CR7         1\n2913          1\n00D75         1\n00D18         1\n1560          1\nName: count, Length: 1087, dtype: int64"
     },
     "execution_count": 27,
     "metadata": {},
     "output_type": "execute_result"
    }
   ]
  },
  {
   "cell_type": "code",
   "source": [
    "df.drop('road_num', axis=1, inplace=True)"
   ],
   "metadata": {
    "id": "wqd4FOhi41bv",
    "ExecuteTime": {
     "end_time": "2024-04-07T10:12:09.151142Z",
     "start_time": "2024-04-07T10:12:09.030621Z"
    }
   },
   "execution_count": 28,
   "outputs": []
  },
  {
   "cell_type": "markdown",
   "source": [
    "## V1\n",
    "\n",
    "Route number numeric index (?)"
   ],
   "metadata": {
    "id": "WQ8rKS_35BBo"
   }
  },
  {
   "cell_type": "code",
   "source": [
    "df['v1'].value_counts()"
   ],
   "metadata": {
    "colab": {
     "base_uri": "https://localhost:8080/"
    },
    "id": "bJYRVD9dn7Ji",
    "outputId": "33e5779d-ec8f-45fb-f8ba-b94542cb51ae",
    "ExecuteTime": {
     "end_time": "2024-04-07T10:12:09.190921Z",
     "start_time": "2024-04-07T10:12:09.161621Z"
    }
   },
   "execution_count": 29,
   "outputs": [
    {
     "data": {
      "text/plain": "v1\n0.0    325698\n2.0      3307\n1.0      1020\n3.0       768\n6.0       461\n4.0       396\n7.0       392\n9.0       295\n8.0       247\n5.0       232\nName: count, dtype: int64"
     },
     "execution_count": 29,
     "metadata": {},
     "output_type": "execute_result"
    }
   ]
  },
  {
   "cell_type": "code",
   "source": [
    "df['v1'].isna().sum()"
   ],
   "metadata": {
    "colab": {
     "base_uri": "https://localhost:8080/"
    },
    "id": "dUqAyUcyoDRB",
    "outputId": "c5ba9414-5e14-49d9-a5a4-7f24ab382021",
    "ExecuteTime": {
     "end_time": "2024-04-07T10:12:09.222569Z",
     "start_time": "2024-04-07T10:12:09.198185Z"
    }
   },
   "execution_count": 30,
   "outputs": [
    {
     "data": {
      "text/plain": "507169"
     },
     "execution_count": 30,
     "metadata": {},
     "output_type": "execute_result"
    }
   ]
  },
  {
   "cell_type": "code",
   "source": [
    "df.drop('v1', axis=1, inplace=True)"
   ],
   "metadata": {
    "id": "285hqISP_ZFG",
    "ExecuteTime": {
     "end_time": "2024-04-07T10:12:09.332258Z",
     "start_time": "2024-04-07T10:12:09.226850Z"
    }
   },
   "execution_count": 31,
   "outputs": []
  },
  {
   "cell_type": "markdown",
   "source": [
    "## V2\n",
    "\n",
    "Letter alphanumeric index of road"
   ],
   "metadata": {
    "id": "Kt_T17CP5Tn2"
   }
  },
  {
   "cell_type": "code",
   "source": [
    "df['v2'].value_counts()"
   ],
   "metadata": {
    "colab": {
     "base_uri": "https://localhost:8080/"
    },
    "id": "z_nZR7LnptqA",
    "outputId": "9024f5eb-3905-4d8c-b8db-cd1e48089be4",
    "ExecuteTime": {
     "end_time": "2024-04-07T10:12:09.411045Z",
     "start_time": "2024-04-07T10:12:09.336512Z"
    }
   },
   "execution_count": 32,
   "outputs": [
    {
     "data": {
      "text/plain": "v2\nA    20069\nD     2200\nN     1976\nE     1942\nB     1372\n0     1091\nC     1011\na      879\nb      778\n\u0004      537\nF      263\ne      213\nS      177\nG      140\n1      134\nR      114\nL       99\n2       92\nP       77\nJ       71\nH       70\n3       70\nM       63\nK       52\nZ       42\n4       38\nn       35\nc       34\ns       34\nT       33\nW       31\n5       27\n6       27\nI       25\nV       21\nz       16\nd       15\nm       11\n7       11\n8       10\n9        9\nY        7\nO        7\nQ        7\nl        4\nt        3\nU        3\ng        2\nr        2\nv        2\np        2\nf        2\nX        1\nw        1\ny        1\nName: count, dtype: int64"
     },
     "execution_count": 32,
     "metadata": {},
     "output_type": "execute_result"
    }
   ]
  },
  {
   "cell_type": "code",
   "source": [
    "df['v2'].isna().sum()"
   ],
   "metadata": {
    "colab": {
     "base_uri": "https://localhost:8080/"
    },
    "id": "la7-glaM5cdU",
    "outputId": "d23aa6ca-a59d-4990-d3e3-6cee2ef9a79a",
    "ExecuteTime": {
     "end_time": "2024-04-07T10:12:09.487981Z",
     "start_time": "2024-04-07T10:12:09.416463Z"
    }
   },
   "execution_count": 33,
   "outputs": [
    {
     "data": {
      "text/plain": "806032"
     },
     "execution_count": 33,
     "metadata": {},
     "output_type": "execute_result"
    }
   ]
  },
  {
   "cell_type": "code",
   "source": [
    "df.drop('v2', axis=1, inplace=True)"
   ],
   "metadata": {
    "id": "X25LTVin_hWG",
    "ExecuteTime": {
     "end_time": "2024-04-07T10:12:09.581787Z",
     "start_time": "2024-04-07T10:12:09.492439Z"
    }
   },
   "execution_count": 34,
   "outputs": []
  },
  {
   "cell_type": "markdown",
   "source": [
    "## Traffic type\n",
    "\n",
    "    1 - One way\n",
    "\n",
    "    2 - Bidirectional\n",
    "\n",
    "    3 - Separated carriageways\n",
    "\n",
    "    4 - With variable assignment channels\n"
   ],
   "metadata": {
    "id": "P3hKqVXL5l_k"
   }
  },
  {
   "cell_type": "code",
   "source": [
    "df['traffic_type'].value_counts()"
   ],
   "metadata": {
    "colab": {
     "base_uri": "https://localhost:8080/"
    },
    "id": "DSBtlNDF5txy",
    "outputId": "e026a4fb-0ec2-4ade-c8b8-c2fcdf539ccf",
    "ExecuteTime": {
     "end_time": "2024-04-07T10:12:09.628568Z",
     "start_time": "2024-04-07T10:12:09.586136Z"
    }
   },
   "execution_count": 35,
   "outputs": [
    {
     "data": {
      "text/plain": "traffic_type\n2.0    532823\n1.0    149375\n3.0    107855\n0.0     44556\n4.0      4578\nName: count, dtype: int64"
     },
     "execution_count": 35,
     "metadata": {},
     "output_type": "execute_result"
    }
   ]
  },
  {
   "cell_type": "code",
   "source": [
    "df['traffic_type'].isna().sum()"
   ],
   "metadata": {
    "colab": {
     "base_uri": "https://localhost:8080/"
    },
    "id": "LAVhVLfs59ff",
    "outputId": "da845f51-d555-42d3-b777-d2e17d79437d",
    "ExecuteTime": {
     "end_time": "2024-04-07T10:12:09.659070Z",
     "start_time": "2024-04-07T10:12:09.632926Z"
    }
   },
   "execution_count": 36,
   "outputs": [
    {
     "data": {
      "text/plain": "798"
     },
     "execution_count": 36,
     "metadata": {},
     "output_type": "execute_result"
    }
   ]
  },
  {
   "cell_type": "markdown",
   "source": [
    "Filling missing values with the most common value"
   ],
   "metadata": {
    "id": "4RU2q6S4_zzP"
   }
  },
  {
   "cell_type": "code",
   "source": [
    "df['traffic_type'].fillna(2.0, inplace=True)"
   ],
   "metadata": {
    "id": "lFwVHK9X6Dy9",
    "ExecuteTime": {
     "end_time": "2024-04-07T10:12:09.690395Z",
     "start_time": "2024-04-07T10:12:09.663304Z"
    }
   },
   "execution_count": 37,
   "outputs": [
    {
     "name": "stderr",
     "output_type": "stream",
     "text": [
      "C:\\Users\\annag\\AppData\\Local\\Temp\\ipykernel_19752\\3985756781.py:1: FutureWarning: A value is trying to be set on a copy of a DataFrame or Series through chained assignment using an inplace method.\n",
      "The behavior will change in pandas 3.0. This inplace method will never work because the intermediate object on which we are setting values always behaves as a copy.\n",
      "\n",
      "For example, when doing 'df[col].method(value, inplace=True)', try using 'df.method({col: value}, inplace=True)' or df[col] = df[col].method(value) instead, to perform the operation inplace on the original object.\n",
      "\n",
      "\n",
      "  df['traffic_type'].fillna(2.0, inplace=True)\n"
     ]
    }
   ]
  },
  {
   "cell_type": "markdown",
   "source": [
    "## Number of lanes"
   ],
   "metadata": {
    "id": "ixXAUg8n6SZt"
   }
  },
  {
   "cell_type": "code",
   "source": [
    "df['traffic_type'].isna().sum()"
   ],
   "metadata": {
    "colab": {
     "base_uri": "https://localhost:8080/"
    },
    "id": "vWRMMHfD6crt",
    "outputId": "b2bbe2fc-0bfa-4220-c1e2-c1dcf5876b1d",
    "ExecuteTime": {
     "end_time": "2024-04-07T10:12:09.722280Z",
     "start_time": "2024-04-07T10:12:09.695348Z"
    }
   },
   "execution_count": 38,
   "outputs": [
    {
     "data": {
      "text/plain": "0"
     },
     "execution_count": 38,
     "metadata": {},
     "output_type": "execute_result"
    }
   ]
  },
  {
   "cell_type": "code",
   "source": [
    "df['num_lanes'].plot(kind='hist', bins=50)"
   ],
   "metadata": {
    "colab": {
     "base_uri": "https://localhost:8080/",
     "height": 448
    },
    "id": "KRQkLNw3Aa15",
    "outputId": "59afc25c-1ee4-4c60-8d42-b5d8db0d87ee",
    "ExecuteTime": {
     "end_time": "2024-04-07T10:12:11.141926Z",
     "start_time": "2024-04-07T10:12:09.727267Z"
    }
   },
   "execution_count": 39,
   "outputs": [
    {
     "data": {
      "text/plain": "<Axes: ylabel='Frequency'>"
     },
     "execution_count": 39,
     "metadata": {},
     "output_type": "execute_result"
    },
    {
     "data": {
      "text/plain": "<Figure size 640x480 with 1 Axes>",
      "image/png": "[encoded data removed]"
     },
     "metadata": {},
     "output_type": "display_data"
    }
   ]
  },
  {
   "cell_type": "code",
   "source": [
    "df['num_lanes'] = df['num_lanes'].apply(lambda x: 2.0 if x > 10 else x)"
   ],
   "metadata": {
    "id": "a4n0JKJhCzM_",
    "ExecuteTime": {
     "end_time": "2024-04-07T10:12:11.609154Z",
     "start_time": "2024-04-07T10:12:11.146151Z"
    }
   },
   "execution_count": 40,
   "outputs": []
  },
  {
   "cell_type": "code",
   "source": [
    "df['num_lanes'].fillna(2.0, inplace=True)"
   ],
   "metadata": {
    "id": "ZRLQ8-ja6hFZ",
    "ExecuteTime": {
     "end_time": "2024-04-07T10:12:11.640444Z",
     "start_time": "2024-04-07T10:12:11.614374Z"
    }
   },
   "execution_count": 41,
   "outputs": [
    {
     "name": "stderr",
     "output_type": "stream",
     "text": [
      "C:\\Users\\annag\\AppData\\Local\\Temp\\ipykernel_19752\\1068708797.py:1: FutureWarning: A value is trying to be set on a copy of a DataFrame or Series through chained assignment using an inplace method.\n",
      "The behavior will change in pandas 3.0. This inplace method will never work because the intermediate object on which we are setting values always behaves as a copy.\n",
      "\n",
      "For example, when doing 'df[col].method(value, inplace=True)', try using 'df.method({col: value}, inplace=True)' or df[col] = df[col].method(value) instead, to perform the operation inplace on the original object.\n",
      "\n",
      "\n",
      "  df['num_lanes'].fillna(2.0, inplace=True)\n"
     ]
    }
   ]
  },
  {
   "cell_type": "code",
   "source": [
    "df['num_lanes'].plot(kind='hist', bins=11)"
   ],
   "metadata": {
    "colab": {
     "base_uri": "https://localhost:8080/",
     "height": 448
    },
    "id": "r5ITQ3vqF0fF",
    "outputId": "206fefa2-957f-46ad-d749-9fb67658903d",
    "ExecuteTime": {
     "end_time": "2024-04-07T10:12:12.156769Z",
     "start_time": "2024-04-07T10:12:11.643588Z"
    }
   },
   "execution_count": 42,
   "outputs": [
    {
     "data": {
      "text/plain": "<Axes: ylabel='Frequency'>"
     },
     "execution_count": 42,
     "metadata": {},
     "output_type": "execute_result"
    },
    {
     "data": {
      "text/plain": "<Figure size 640x480 with 1 Axes>",
      "image/png": "[encoded data removed]"
     },
     "metadata": {},
     "output_type": "display_data"
    }
   ]
  },
  {
   "cell_type": "code",
   "outputs": [],
   "source": [
    "df['num_lanes'] = df['num_lanes'].apply(lambda x: 7.0 if x > 7.0 else x)"
   ],
   "metadata": {
    "collapsed": false,
    "ExecuteTime": {
     "end_time": "2024-04-07T10:12:12.485810Z",
     "start_time": "2024-04-07T10:12:12.159934Z"
    }
   },
   "execution_count": 43
  },
  {
   "cell_type": "markdown",
   "source": [
    "## Bike lane\n",
    "\n",
    "    1 - Bike path\n",
    "\n",
    "    2 - Cycle Bank\n",
    "\n",
    "    3 - Reserved channel\n"
   ],
   "metadata": {
    "id": "JZIodlcu6l1X"
   }
  },
  {
   "cell_type": "code",
   "source": [
    "df['bike_lane_type'].value_counts()"
   ],
   "metadata": {
    "colab": {
     "base_uri": "https://localhost:8080/"
    },
    "id": "aVVhpPrm6pkF",
    "outputId": "e66dcbcb-5fd4-4779-9cb7-b97103c92d04",
    "ExecuteTime": {
     "end_time": "2024-04-07T10:12:12.517486Z",
     "start_time": "2024-04-07T10:12:12.489004Z"
    }
   },
   "execution_count": 44,
   "outputs": [
    {
     "data": {
      "text/plain": "bike_lane_type\n0.0    787021\n3.0     23473\n1.0     16570\n2.0     11281\nName: count, dtype: int64"
     },
     "execution_count": 44,
     "metadata": {},
     "output_type": "execute_result"
    }
   ]
  },
  {
   "cell_type": "code",
   "source": [
    "df['bike_lane_type'].isna().sum()"
   ],
   "metadata": {
    "colab": {
     "base_uri": "https://localhost:8080/"
    },
    "id": "Fu2MPUEo6wdn",
    "outputId": "a1fa14c4-7281-4d51-a6ae-be363fb66e91",
    "ExecuteTime": {
     "end_time": "2024-04-07T10:12:12.547529Z",
     "start_time": "2024-04-07T10:12:12.522641Z"
    }
   },
   "execution_count": 45,
   "outputs": [
    {
     "data": {
      "text/plain": "1640"
     },
     "execution_count": 45,
     "metadata": {},
     "output_type": "execute_result"
    }
   ]
  },
  {
   "cell_type": "code",
   "source": [
    "df['bike_lane_type'].fillna(0.0, inplace=True)"
   ],
   "metadata": {
    "id": "FS3OIUXT61Vb",
    "ExecuteTime": {
     "end_time": "2024-04-07T10:12:12.579162Z",
     "start_time": "2024-04-07T10:12:12.552738Z"
    }
   },
   "execution_count": 46,
   "outputs": [
    {
     "name": "stderr",
     "output_type": "stream",
     "text": [
      "C:\\Users\\annag\\AppData\\Local\\Temp\\ipykernel_19752\\547755816.py:1: FutureWarning: A value is trying to be set on a copy of a DataFrame or Series through chained assignment using an inplace method.\n",
      "The behavior will change in pandas 3.0. This inplace method will never work because the intermediate object on which we are setting values always behaves as a copy.\n",
      "\n",
      "For example, when doing 'df[col].method(value, inplace=True)', try using 'df.method({col: value}, inplace=True)' or df[col] = df[col].method(value) instead, to perform the operation inplace on the original object.\n",
      "\n",
      "\n",
      "  df['bike_lane_type'].fillna(0.0, inplace=True)\n"
     ]
    }
   ]
  },
  {
   "cell_type": "markdown",
   "source": [
    "## Terrain\n",
    "\n",
    "    1 - Dish\n",
    "\n",
    "    2 - Slope\n",
    "\n",
    "    3 - Hilltop\n",
    "\n",
    "    4- Hill bottom\n",
    "\n"
   ],
   "metadata": {
    "id": "30awdo2h7Akm"
   }
  },
  {
   "cell_type": "code",
   "source": [
    "df['terrain_type'].value_counts()"
   ],
   "metadata": {
    "colab": {
     "base_uri": "https://localhost:8080/"
    },
    "id": "3YNkv6vm7GE5",
    "outputId": "01e726f6-06a9-46b0-e1ec-304440829d0e",
    "ExecuteTime": {
     "end_time": "2024-04-07T10:12:12.626459Z",
     "start_time": "2024-04-07T10:12:12.592675Z"
    }
   },
   "execution_count": 47,
   "outputs": [
    {
     "data": {
      "text/plain": "terrain_type\n1.0    634776\n2.0    114043\n0.0     63894\n3.0     15130\n4.0     11081\nName: count, dtype: int64"
     },
     "execution_count": 47,
     "metadata": {},
     "output_type": "execute_result"
    }
   ]
  },
  {
   "cell_type": "code",
   "source": [
    "df['terrain_type'].isna().sum()"
   ],
   "metadata": {
    "colab": {
     "base_uri": "https://localhost:8080/"
    },
    "id": "NolxfNC37Q7L",
    "outputId": "e7528c4e-c87e-4049-9150-6b019829bd5f",
    "ExecuteTime": {
     "end_time": "2024-04-07T10:12:12.657413Z",
     "start_time": "2024-04-07T10:12:12.630616Z"
    }
   },
   "execution_count": 48,
   "outputs": [
    {
     "data": {
      "text/plain": "1061"
     },
     "execution_count": 48,
     "metadata": {},
     "output_type": "execute_result"
    }
   ]
  },
  {
   "cell_type": "code",
   "source": [
    "df['terrain_type'].fillna(1.0, inplace=True)"
   ],
   "metadata": {
    "id": "dln1_zl57VOy",
    "ExecuteTime": {
     "end_time": "2024-04-07T10:12:12.687771Z",
     "start_time": "2024-04-07T10:12:12.660646Z"
    }
   },
   "execution_count": 49,
   "outputs": [
    {
     "name": "stderr",
     "output_type": "stream",
     "text": [
      "C:\\Users\\annag\\AppData\\Local\\Temp\\ipykernel_19752\\95427357.py:1: FutureWarning: A value is trying to be set on a copy of a DataFrame or Series through chained assignment using an inplace method.\n",
      "The behavior will change in pandas 3.0. This inplace method will never work because the intermediate object on which we are setting values always behaves as a copy.\n",
      "\n",
      "For example, when doing 'df[col].method(value, inplace=True)', try using 'df.method({col: value}, inplace=True)' or df[col] = df[col].method(value) instead, to perform the operation inplace on the original object.\n",
      "\n",
      "\n",
      "  df['terrain_type'].fillna(1.0, inplace=True)\n"
     ]
    }
   ]
  },
  {
   "cell_type": "markdown",
   "source": [
    "## PR number (?)"
   ],
   "metadata": {
    "id": "Y2AIfCPn7ZSH"
   }
  },
  {
   "cell_type": "code",
   "source": [
    "df['pr'].value_counts()"
   ],
   "metadata": {
    "colab": {
     "base_uri": "https://localhost:8080/"
    },
    "id": "IIxQ9fyN7clb",
    "outputId": "8f394966-78f9-4779-8b1c-63c8e960480a",
    "ExecuteTime": {
     "end_time": "2024-04-07T10:12:12.735312Z",
     "start_time": "2024-04-07T10:12:12.690920Z"
    }
   },
   "execution_count": 50,
   "outputs": [
    {
     "data": {
      "text/plain": "pr\n0.0       129543\n1.0        29888\n2.0        14437\n3.0        11661\n4.0         9761\n           ...  \n474.0          1\n475.0          1\n4000.0         1\n2600.0         1\n1125.0         1\nName: count, Length: 736, dtype: int64"
     },
     "execution_count": 50,
     "metadata": {},
     "output_type": "execute_result"
    }
   ]
  },
  {
   "cell_type": "code",
   "source": [
    "df['pr'].isna().sum()"
   ],
   "metadata": {
    "colab": {
     "base_uri": "https://localhost:8080/"
    },
    "id": "YB34K-jt7hdA",
    "outputId": "06934ae1-4981-49ee-f896-77f1f8bebcbf",
    "ExecuteTime": {
     "end_time": "2024-04-07T10:12:12.767084Z",
     "start_time": "2024-04-07T10:12:12.739445Z"
    }
   },
   "execution_count": 51,
   "outputs": [
    {
     "data": {
      "text/plain": "425215"
     },
     "execution_count": 51,
     "metadata": {},
     "output_type": "execute_result"
    }
   ]
  },
  {
   "cell_type": "code",
   "source": [
    "df.drop('pr', axis=1, inplace=True)"
   ],
   "metadata": {
    "id": "aOR6lccpMGER",
    "ExecuteTime": {
     "end_time": "2024-04-07T10:12:12.830123Z",
     "start_time": "2024-04-07T10:12:12.770390Z"
    }
   },
   "execution_count": 52,
   "outputs": []
  },
  {
   "cell_type": "markdown",
   "source": [
    "## PR distance (?)"
   ],
   "metadata": {
    "id": "DTGz-C997mT3"
   }
  },
  {
   "cell_type": "code",
   "source": [
    "df['pr_distance'].value_counts()"
   ],
   "metadata": {
    "colab": {
     "base_uri": "https://localhost:8080/"
    },
    "id": "HwV9YaWj7p1Z",
    "outputId": "97b380ae-1d0f-4ed9-ac22-b179e06eca5c",
    "ExecuteTime": {
     "end_time": "2024-04-07T10:12:12.876432Z",
     "start_time": "2024-04-07T10:12:12.833276Z"
    }
   },
   "execution_count": 53,
   "outputs": [
    {
     "data": {
      "text/plain": "pr_distance\n0.0       173181\n500.0      25276\n200.0      15199\n800.0      14751\n100.0      13998\n           ...  \n2101.0         1\n1465.0         1\n1278.0         1\n1659.0         1\n3437.0         1\nName: count, Length: 2127, dtype: int64"
     },
     "execution_count": 53,
     "metadata": {},
     "output_type": "execute_result"
    }
   ]
  },
  {
   "cell_type": "code",
   "source": [
    "df['pr_distance'].isna().sum()"
   ],
   "metadata": {
    "colab": {
     "base_uri": "https://localhost:8080/"
    },
    "id": "1oeU1rqo7vSi",
    "outputId": "7f9b751c-d876-4a00-85c2-e7e17e7bff36",
    "ExecuteTime": {
     "end_time": "2024-04-07T10:12:12.907640Z",
     "start_time": "2024-04-07T10:12:12.878553Z"
    }
   },
   "execution_count": 54,
   "outputs": [
    {
     "data": {
      "text/plain": "426522"
     },
     "execution_count": 54,
     "metadata": {},
     "output_type": "execute_result"
    }
   ]
  },
  {
   "cell_type": "code",
   "source": [
    "df.drop('pr_distance', axis=1, inplace=True)"
   ],
   "metadata": {
    "id": "v00mMyJGMmoP",
    "ExecuteTime": {
     "end_time": "2024-04-07T10:12:12.985091Z",
     "start_time": "2024-04-07T10:12:12.910748Z"
    }
   },
   "execution_count": 55,
   "outputs": []
  },
  {
   "cell_type": "markdown",
   "source": [
    "## Road curve\n",
    "\n",
    "    1 - Straight part\n",
    "\n",
    "    2 - Curved on the left\n",
    "\n",
    "    3 - Curved right\n",
    "\n",
    "    4 - In \"S\"\n"
   ],
   "metadata": {
    "id": "CV8Vkaio7zH2"
   }
  },
  {
   "cell_type": "code",
   "source": [
    "df['curve_type'].value_counts()"
   ],
   "metadata": {
    "colab": {
     "base_uri": "https://localhost:8080/"
    },
    "id": "EnUwG5Gm75hQ",
    "outputId": "c31a665b-4762-4235-e044-c2ec6c5b05eb",
    "ExecuteTime": {
     "end_time": "2024-04-07T10:12:13.030250Z",
     "start_time": "2024-04-07T10:12:12.988355Z"
    }
   },
   "execution_count": 56,
   "outputs": [
    {
     "data": {
      "text/plain": "curve_type\n1.0    639903\n2.0     68483\n3.0     61946\n0.0     57847\n4.0     10730\nName: count, dtype: int64"
     },
     "execution_count": 56,
     "metadata": {},
     "output_type": "execute_result"
    }
   ]
  },
  {
   "cell_type": "code",
   "source": [
    "df['curve_type'].isna().sum()"
   ],
   "metadata": {
    "colab": {
     "base_uri": "https://localhost:8080/"
    },
    "id": "2oK14uCz8H8T",
    "outputId": "638f8078-cb1a-485a-efed-eb5e71dce61d",
    "ExecuteTime": {
     "end_time": "2024-04-07T10:12:13.061199Z",
     "start_time": "2024-04-07T10:12:13.034497Z"
    }
   },
   "execution_count": 57,
   "outputs": [
    {
     "data": {
      "text/plain": "1076"
     },
     "execution_count": 57,
     "metadata": {},
     "output_type": "execute_result"
    }
   ]
  },
  {
   "cell_type": "code",
   "source": [
    "df['curve_type'].fillna(1.0, inplace=True)"
   ],
   "metadata": {
    "id": "JeeN7Rw48Pzg",
    "ExecuteTime": {
     "end_time": "2024-04-07T10:12:13.092439Z",
     "start_time": "2024-04-07T10:12:13.065362Z"
    }
   },
   "execution_count": 58,
   "outputs": [
    {
     "name": "stderr",
     "output_type": "stream",
     "text": [
      "C:\\Users\\annag\\AppData\\Local\\Temp\\ipykernel_19752\\1026207524.py:1: FutureWarning: A value is trying to be set on a copy of a DataFrame or Series through chained assignment using an inplace method.\n",
      "The behavior will change in pandas 3.0. This inplace method will never work because the intermediate object on which we are setting values always behaves as a copy.\n",
      "\n",
      "For example, when doing 'df[col].method(value, inplace=True)', try using 'df.method({col: value}, inplace=True)' or df[col] = df[col].method(value) instead, to perform the operation inplace on the original object.\n",
      "\n",
      "\n",
      "  df['curve_type'].fillna(1.0, inplace=True)\n"
     ]
    }
   ]
  },
  {
   "cell_type": "markdown",
   "source": [
    "## Central width"
   ],
   "metadata": {
    "id": "xb8UwIVY8b0J"
   }
  },
  {
   "cell_type": "code",
   "source": [
    "df['central_width'].value_counts()"
   ],
   "metadata": {
    "colab": {
     "base_uri": "https://localhost:8080/"
    },
    "id": "OW7ahbvZ8gLU",
    "outputId": "dc08ecac-4ff5-442a-8277-b7bfd0e70562",
    "ExecuteTime": {
     "end_time": "2024-04-07T10:12:13.132470Z",
     "start_time": "2024-04-07T10:12:13.095625Z"
    }
   },
   "execution_count": 59,
   "outputs": [
    {
     "data": {
      "text/plain": "central_width\n0.0      699686\n15.0      30770\n10.0      18085\n20.0      15641\n30.0       7863\n          ...  \n206.0         1\n446.0         1\n915.0         1\n950.0         1\n625.0         1\nName: count, Length: 371, dtype: int64"
     },
     "execution_count": 59,
     "metadata": {},
     "output_type": "execute_result"
    }
   ]
  },
  {
   "cell_type": "code",
   "source": [
    "df['central_width'].isna().sum()"
   ],
   "metadata": {
    "colab": {
     "base_uri": "https://localhost:8080/"
    },
    "id": "NsB_9w8c8mcq",
    "outputId": "2c97bc2c-458c-4633-824f-8af2c43b6fab",
    "ExecuteTime": {
     "end_time": "2024-04-07T10:12:13.163418Z",
     "start_time": "2024-04-07T10:12:13.136688Z"
    }
   },
   "execution_count": 60,
   "outputs": [
    {
     "data": {
      "text/plain": "9545"
     },
     "execution_count": 60,
     "metadata": {},
     "output_type": "execute_result"
    }
   ]
  },
  {
   "cell_type": "code",
   "source": [
    "df['central_width'].plot(kind='hist', bins=50)"
   ],
   "metadata": {
    "colab": {
     "base_uri": "https://localhost:8080/",
     "height": 448
    },
    "id": "beWMBXw6M-oj",
    "outputId": "b385050d-6abd-4608-8048-6c32874ccaf0",
    "ExecuteTime": {
     "end_time": "2024-04-07T10:12:13.861489Z",
     "start_time": "2024-04-07T10:12:13.167618Z"
    }
   },
   "execution_count": 61,
   "outputs": [
    {
     "data": {
      "text/plain": "<Axes: ylabel='Frequency'>"
     },
     "execution_count": 61,
     "metadata": {},
     "output_type": "execute_result"
    },
    {
     "data": {
      "text/plain": "<Figure size 640x480 with 1 Axes>",
      "image/png": "[encoded data removed]"
     },
     "metadata": {},
     "output_type": "display_data"
    }
   ]
  },
  {
   "cell_type": "code",
   "source": [
    "df.drop('central_width', axis=1, inplace=True)"
   ],
   "metadata": {
    "id": "7oLaC3M4OcTf",
    "ExecuteTime": {
     "end_time": "2024-04-07T10:12:13.924169Z",
     "start_time": "2024-04-07T10:12:13.863604Z"
    }
   },
   "execution_count": 62,
   "outputs": []
  },
  {
   "cell_type": "markdown",
   "source": [
    "## Width"
   ],
   "metadata": {
    "id": "xf_iO8up8rBK"
   }
  },
  {
   "cell_type": "code",
   "source": [
    "df['width'].min()"
   ],
   "metadata": {
    "colab": {
     "base_uri": "https://localhost:8080/"
    },
    "id": "-JAakQuw8soD",
    "outputId": "ebde4a7a-7f6d-4a6c-8b21-bec3aeeb860e",
    "ExecuteTime": {
     "end_time": "2024-04-07T10:12:13.955219Z",
     "start_time": "2024-04-07T10:12:13.927273Z"
    }
   },
   "execution_count": 63,
   "outputs": [
    {
     "data": {
      "text/plain": "-81.0"
     },
     "execution_count": 63,
     "metadata": {},
     "output_type": "execute_result"
    }
   ]
  },
  {
   "cell_type": "code",
   "source": [
    "df['width'].max()"
   ],
   "metadata": {
    "colab": {
     "base_uri": "https://localhost:8080/"
    },
    "id": "84pr0jBQSY_L",
    "outputId": "c3e1341d-8079-4b99-f2df-6576ec323eac",
    "ExecuteTime": {
     "end_time": "2024-04-07T10:12:13.986176Z",
     "start_time": "2024-04-07T10:12:13.958423Z"
    }
   },
   "execution_count": 64,
   "outputs": [
    {
     "data": {
      "text/plain": "999.0"
     },
     "execution_count": 64,
     "metadata": {},
     "output_type": "execute_result"
    }
   ]
  },
  {
   "cell_type": "code",
   "source": [
    "df['width'].isna().sum()"
   ],
   "metadata": {
    "colab": {
     "base_uri": "https://localhost:8080/"
    },
    "id": "cC5n8Rj38yD9",
    "outputId": "984b63fd-2bf5-4f9a-de8f-9236c063bc7c",
    "ExecuteTime": {
     "end_time": "2024-04-07T10:12:14.017453Z",
     "start_time": "2024-04-07T10:12:13.989407Z"
    }
   },
   "execution_count": 65,
   "outputs": [
    {
     "data": {
      "text/plain": "8279"
     },
     "execution_count": 65,
     "metadata": {},
     "output_type": "execute_result"
    }
   ]
  },
  {
   "cell_type": "code",
   "source": [
    "df.drop('width', axis=1, inplace=True)"
   ],
   "metadata": {
    "id": "tJxElN028YAa",
    "ExecuteTime": {
     "end_time": "2024-04-07T10:12:14.096811Z",
     "start_time": "2024-04-07T10:12:14.020633Z"
    }
   },
   "execution_count": 66,
   "outputs": []
  },
  {
   "cell_type": "markdown",
   "source": [
    "## Road condition\n",
    "\n",
    "    1 - normal\n",
    "\n",
    "    2 - wet\n",
    "\n",
    "    3 - puddles\n",
    "\n",
    "    4 - flooded\n",
    "\n",
    "    5 - snow\n",
    "\n",
    "    6 - mud\n",
    "\n",
    "    7 - icy\n",
    "\n",
    "    8 - fat - oil\n",
    "\n",
    "    9 - other\n"
   ],
   "metadata": {
    "id": "nW-lbGE_87Sg"
   }
  },
  {
   "cell_type": "code",
   "source": [
    "df['condition'].value_counts()"
   ],
   "metadata": {
    "colab": {
     "base_uri": "https://localhost:8080/"
    },
    "id": "934YWpJM9Dw6",
    "outputId": "c9d7065f-bf44-42e9-f9c2-1196e0fb826f",
    "ExecuteTime": {
     "end_time": "2024-04-07T10:12:14.143580Z",
     "start_time": "2024-04-07T10:12:14.101126Z"
    }
   },
   "execution_count": 67,
   "outputs": [
    {
     "data": {
      "text/plain": "condition\n1.0    652322\n2.0    143254\n0.0     26998\n7.0      5474\n9.0      4483\n5.0      2643\n8.0      2159\n3.0       861\n6.0       466\n4.0       308\nName: count, dtype: int64"
     },
     "execution_count": 67,
     "metadata": {},
     "output_type": "execute_result"
    }
   ]
  },
  {
   "cell_type": "code",
   "source": [
    "df['condition'].isna().sum()"
   ],
   "metadata": {
    "colab": {
     "base_uri": "https://localhost:8080/"
    },
    "id": "p0NxWsoO9ITO",
    "outputId": "df4318c8-f015-46f4-bdff-da61f170f7ef",
    "ExecuteTime": {
     "end_time": "2024-04-07T10:12:14.175636Z",
     "start_time": "2024-04-07T10:12:14.147903Z"
    }
   },
   "execution_count": 68,
   "outputs": [
    {
     "data": {
      "text/plain": "1017"
     },
     "execution_count": 68,
     "metadata": {},
     "output_type": "execute_result"
    }
   ]
  },
  {
   "cell_type": "code",
   "source": [
    "df['condition'].fillna(1.0, inplace=True)"
   ],
   "metadata": {
    "id": "464W8ycKNbL7",
    "ExecuteTime": {
     "end_time": "2024-04-07T10:12:14.207481Z",
     "start_time": "2024-04-07T10:12:14.177781Z"
    }
   },
   "execution_count": 69,
   "outputs": [
    {
     "name": "stderr",
     "output_type": "stream",
     "text": [
      "C:\\Users\\annag\\AppData\\Local\\Temp\\ipykernel_19752\\1682321041.py:1: FutureWarning: A value is trying to be set on a copy of a DataFrame or Series through chained assignment using an inplace method.\n",
      "The behavior will change in pandas 3.0. This inplace method will never work because the intermediate object on which we are setting values always behaves as a copy.\n",
      "\n",
      "For example, when doing 'df[col].method(value, inplace=True)', try using 'df.method({col: value}, inplace=True)' or df[col] = df[col].method(value) instead, to perform the operation inplace on the original object.\n",
      "\n",
      "\n",
      "  df['condition'].fillna(1.0, inplace=True)\n"
     ]
    }
   ]
  },
  {
   "cell_type": "markdown",
   "source": [
    "## Infrastructure\n",
    "\n",
    "    1 - Underground - tunnel\n",
    "\n",
    "    2 - Bridge - autopont\n",
    "\n",
    "    3 - Exchanger or connection brace\n",
    "\n",
    "    4 - Railway\n",
    "\n",
    "    5 - Carrefour arranged\n",
    "\n",
    "    6 - Pedestrian area\n",
    "\n",
    "    7 - Toll zone\n"
   ],
   "metadata": {
    "id": "gDz3qOjl9L8S"
   }
  },
  {
   "cell_type": "code",
   "source": [
    "df['infrastructure'].value_counts()"
   ],
   "metadata": {
    "colab": {
     "base_uri": "https://localhost:8080/"
    },
    "id": "M1gT16K29TZX",
    "outputId": "363ceaa3-9ca7-4ca3-dbe3-5b101dd1b2e1",
    "ExecuteTime": {
     "end_time": "2024-04-07T10:12:14.239200Z",
     "start_time": "2024-04-07T10:12:14.210737Z"
    }
   },
   "execution_count": 70,
   "outputs": [
    {
     "data": {
      "text/plain": "infrastructure\n0.0    747965\n5.0     50330\n3.0     12853\n2.0     11720\n1.0      6994\n6.0      5299\n4.0      3034\n7.0       512\nName: count, dtype: int64"
     },
     "execution_count": 70,
     "metadata": {},
     "output_type": "execute_result"
    }
   ]
  },
  {
   "cell_type": "code",
   "source": [
    "df['infrastructure'].isna().sum()"
   ],
   "metadata": {
    "colab": {
     "base_uri": "https://localhost:8080/"
    },
    "id": "OCCFXEjG9XZf",
    "outputId": "3cc81c68-3aa0-4800-9647-58691f2e385d",
    "ExecuteTime": {
     "end_time": "2024-04-07T10:12:14.271017Z",
     "start_time": "2024-04-07T10:12:14.242300Z"
    }
   },
   "execution_count": 71,
   "outputs": [
    {
     "data": {
      "text/plain": "1278"
     },
     "execution_count": 71,
     "metadata": {},
     "output_type": "execute_result"
    }
   ]
  },
  {
   "cell_type": "code",
   "source": [
    "df['infrastructure'].fillna(0.0, inplace=True)"
   ],
   "metadata": {
    "id": "0-jjbjCw-Sid",
    "ExecuteTime": {
     "end_time": "2024-04-07T10:12:14.287030Z",
     "start_time": "2024-04-07T10:12:14.274363Z"
    }
   },
   "execution_count": 72,
   "outputs": [
    {
     "name": "stderr",
     "output_type": "stream",
     "text": [
      "C:\\Users\\annag\\AppData\\Local\\Temp\\ipykernel_19752\\1528216239.py:1: FutureWarning: A value is trying to be set on a copy of a DataFrame or Series through chained assignment using an inplace method.\n",
      "The behavior will change in pandas 3.0. This inplace method will never work because the intermediate object on which we are setting values always behaves as a copy.\n",
      "\n",
      "For example, when doing 'df[col].method(value, inplace=True)', try using 'df.method({col: value}, inplace=True)' or df[col] = df[col].method(value) instead, to perform the operation inplace on the original object.\n",
      "\n",
      "\n",
      "  df['infrastructure'].fillna(0.0, inplace=True)\n"
     ]
    }
   ]
  },
  {
   "cell_type": "markdown",
   "source": [
    "## Accident situation\n",
    "\n",
    "    1 - On the road\n",
    "\n",
    "    2 - On emergency stop band\n",
    "\n",
    "    3 - On the verge\n",
    "\n",
    "    4 - On the sidewalk\n",
    "\n",
    "    5 - On bike path\n"
   ],
   "metadata": {
    "id": "0rHO6xdH9bWy"
   }
  },
  {
   "cell_type": "code",
   "source": [
    "df['situ'].value_counts()"
   ],
   "metadata": {
    "colab": {
     "base_uri": "https://localhost:8080/"
    },
    "id": "4y99BR409iJg",
    "outputId": "50abf601-4ce9-48d7-8eb3-78f451ac9b70",
    "ExecuteTime": {
     "end_time": "2024-04-07T10:12:14.332298Z",
     "start_time": "2024-04-07T10:12:14.290158Z"
    }
   },
   "execution_count": 73,
   "outputs": [
    {
     "data": {
      "text/plain": "situ\n1.0    722069\n3.0     48818\n0.0     43291\n4.0     14493\n2.0      5191\n5.0      5121\nName: count, dtype: int64"
     },
     "execution_count": 73,
     "metadata": {},
     "output_type": "execute_result"
    }
   ]
  },
  {
   "cell_type": "code",
   "source": [
    "df['situ'].isna().sum()"
   ],
   "metadata": {
    "colab": {
     "base_uri": "https://localhost:8080/"
    },
    "id": "PmX3Al5a9rHg",
    "outputId": "77beb29e-5ad8-41d8-e876-5610576d6d2a",
    "ExecuteTime": {
     "end_time": "2024-04-07T10:12:14.364226Z",
     "start_time": "2024-04-07T10:12:14.336574Z"
    }
   },
   "execution_count": 74,
   "outputs": [
    {
     "data": {
      "text/plain": "1002"
     },
     "execution_count": 74,
     "metadata": {},
     "output_type": "execute_result"
    }
   ]
  },
  {
   "cell_type": "code",
   "source": [
    "df['situ'].fillna(0.0, inplace=True)"
   ],
   "metadata": {
    "id": "PUl-DhR2-fo6",
    "ExecuteTime": {
     "end_time": "2024-04-07T10:12:14.396246Z",
     "start_time": "2024-04-07T10:12:14.367433Z"
    }
   },
   "execution_count": 75,
   "outputs": [
    {
     "name": "stderr",
     "output_type": "stream",
     "text": [
      "C:\\Users\\annag\\AppData\\Local\\Temp\\ipykernel_19752\\1196960274.py:1: FutureWarning: A value is trying to be set on a copy of a DataFrame or Series through chained assignment using an inplace method.\n",
      "The behavior will change in pandas 3.0. This inplace method will never work because the intermediate object on which we are setting values always behaves as a copy.\n",
      "\n",
      "For example, when doing 'df[col].method(value, inplace=True)', try using 'df.method({col: value}, inplace=True)' or df[col] = df[col].method(value) instead, to perform the operation inplace on the original object.\n",
      "\n",
      "\n",
      "  df['situ'].fillna(0.0, inplace=True)\n"
     ]
    }
   ]
  },
  {
   "cell_type": "markdown",
   "source": [
    "## Near school (?)"
   ],
   "metadata": {
    "id": "xl_cKvGQ98UT"
   }
  },
  {
   "cell_type": "code",
   "source": [
    "df['school'].value_counts()"
   ],
   "metadata": {
    "colab": {
     "base_uri": "https://localhost:8080/"
    },
    "id": "TCX6okxL978f",
    "outputId": "81e69c91-fe1e-4311-8a10-4f3a4a82c73d",
    "ExecuteTime": {
     "end_time": "2024-04-07T10:12:14.446896Z",
     "start_time": "2024-04-07T10:12:14.399414Z"
    }
   },
   "execution_count": 76,
   "outputs": [
    {
     "data": {
      "text/plain": "school\n0.0     477933\n99.0    319986\n3.0      40790\nName: count, dtype: int64"
     },
     "execution_count": 76,
     "metadata": {},
     "output_type": "execute_result"
    }
   ]
  },
  {
   "cell_type": "code",
   "source": [
    "df['school'].isna().sum()"
   ],
   "metadata": {
    "colab": {
     "base_uri": "https://localhost:8080/"
    },
    "id": "glJMZ8aq-F3j",
    "outputId": "31db0467-53e4-4b89-f6ec-02a5b5c3ba25",
    "ExecuteTime": {
     "end_time": "2024-04-07T10:12:14.478185Z",
     "start_time": "2024-04-07T10:12:14.450060Z"
    }
   },
   "execution_count": 77,
   "outputs": [
    {
     "data": {
      "text/plain": "1276"
     },
     "execution_count": 77,
     "metadata": {},
     "output_type": "execute_result"
    }
   ]
  },
  {
   "cell_type": "code",
   "source": [
    "df['school'].fillna(0.0, inplace=True)"
   ],
   "metadata": {
    "id": "APlo6SwEINfJ",
    "ExecuteTime": {
     "end_time": "2024-04-07T10:12:14.509202Z",
     "start_time": "2024-04-07T10:12:14.481474Z"
    }
   },
   "execution_count": 78,
   "outputs": [
    {
     "name": "stderr",
     "output_type": "stream",
     "text": [
      "C:\\Users\\annag\\AppData\\Local\\Temp\\ipykernel_19752\\758153558.py:1: FutureWarning: A value is trying to be set on a copy of a DataFrame or Series through chained assignment using an inplace method.\n",
      "The behavior will change in pandas 3.0. This inplace method will never work because the intermediate object on which we are setting values always behaves as a copy.\n",
      "\n",
      "For example, when doing 'df[col].method(value, inplace=True)', try using 'df.method({col: value}, inplace=True)' or df[col] = df[col].method(value) instead, to perform the operation inplace on the original object.\n",
      "\n",
      "\n",
      "  df['school'].fillna(0.0, inplace=True)\n"
     ]
    }
   ]
  },
  {
   "cell_type": "code",
   "source": [
    "df['school'] = df['school'].apply(lambda x: 2.0 if x==99.0 else x/3.0)"
   ],
   "metadata": {
    "id": "sDtIqhoRIXCJ",
    "ExecuteTime": {
     "end_time": "2024-04-07T10:12:15.143201Z",
     "start_time": "2024-04-07T10:12:14.513369Z"
    }
   },
   "execution_count": 79,
   "outputs": []
  },
  {
   "cell_type": "markdown",
   "source": [
    "# Notes\n",
    "\n",
    "## Problem points\n",
    "\n",
    "* The meaning of the **PR** field (and by associatoin the **PR distance** field) and the **near school** field is not clear from neither the description nor the actual values present in the data. A lot of rows are also missing these, it might be best to ignore these fields.\n",
    "\n",
    "* **Road number** and **V1** and **V2** most probably somehow correspond to the french road numbering system, but there are a large number of options and the meanings are not clear cut an there are a large number of missing rows for the latter two.\n",
    "\n",
    "* Completely unrealistic values pop up in the **number of lanes**.\n",
    "\n",
    "* **Width** and **central width** coloumn meanings are not exactly known.\n",
    "\n",
    "## Categorical data\n",
    "\n",
    "* There are a large number of columns which contain categorical data, these seem to be well generalizable via dummy columns."
   ],
   "metadata": {
    "id": "7SE6ZqQF96Js"
   }
  },
  {
   "cell_type": "code",
   "source": [
    "df.head()"
   ],
   "metadata": {
    "colab": {
     "base_uri": "https://localhost:8080/",
     "height": 206
    },
    "id": "ip-Q0k8HEeHn",
    "outputId": "582ea159-980d-4705-fb52-4b02e48a168a",
    "ExecuteTime": {
     "end_time": "2024-04-07T10:12:15.190745Z",
     "start_time": "2024-04-07T10:12:15.147397Z"
    }
   },
   "execution_count": 80,
   "outputs": [
    {
     "data": {
      "text/plain": "        Num_Acc  road_type  traffic_type  num_lanes  bike_lane_type  \\\n0  201600000001        3.0           2.0        0.0             0.0   \n1  201600000002        3.0           1.0        0.0             0.0   \n2  201600000003        3.0           2.0        2.0             0.0   \n3  201600000004        4.0           2.0        0.0             0.0   \n4  201600000005        4.0           0.0        0.0             0.0   \n\n   terrain_type  curve_type  condition  infrastructure  situ  school  \n0           1.0         3.0        1.0             0.0   1.0     0.0  \n1           1.0         2.0        1.0             0.0   1.0     0.0  \n2           1.0         3.0        2.0             0.0   3.0     2.0  \n3           1.0         1.0        1.0             0.0   1.0     2.0  \n4           0.0         1.0        1.0             0.0   1.0     1.0  ",
      "text/html": "<div>\n<style scoped>\n    .dataframe tbody tr th:only-of-type {\n        vertical-align: middle;\n    }\n\n    .dataframe tbody tr th {\n        vertical-align: top;\n    }\n\n    .dataframe thead th {\n        text-align: right;\n    }\n</style>\n<table border=\"1\" class=\"dataframe\">\n  <thead>\n    <tr style=\"text-align: right;\">\n      <th></th>\n      <th>Num_Acc</th>\n      <th>road_type</th>\n      <th>traffic_type</th>\n      <th>num_lanes</th>\n      <th>bike_lane_type</th>\n      <th>terrain_type</th>\n      <th>curve_type</th>\n      <th>condition</th>\n      <th>infrastructure</th>\n      <th>situ</th>\n      <th>school</th>\n    </tr>\n  </thead>\n  <tbody>\n    <tr>\n      <th>0</th>\n      <td>201600000001</td>\n      <td>3.0</td>\n      <td>2.0</td>\n      <td>0.0</td>\n      <td>0.0</td>\n      <td>1.0</td>\n      <td>3.0</td>\n      <td>1.0</td>\n      <td>0.0</td>\n      <td>1.0</td>\n      <td>0.0</td>\n    </tr>\n    <tr>\n      <th>1</th>\n      <td>201600000002</td>\n      <td>3.0</td>\n      <td>1.0</td>\n      <td>0.0</td>\n      <td>0.0</td>\n      <td>1.0</td>\n      <td>2.0</td>\n      <td>1.0</td>\n      <td>0.0</td>\n      <td>1.0</td>\n      <td>0.0</td>\n    </tr>\n    <tr>\n      <th>2</th>\n      <td>201600000003</td>\n      <td>3.0</td>\n      <td>2.0</td>\n      <td>2.0</td>\n      <td>0.0</td>\n      <td>1.0</td>\n      <td>3.0</td>\n      <td>2.0</td>\n      <td>0.0</td>\n      <td>3.0</td>\n      <td>2.0</td>\n    </tr>\n    <tr>\n      <th>3</th>\n      <td>201600000004</td>\n      <td>4.0</td>\n      <td>2.0</td>\n      <td>0.0</td>\n      <td>0.0</td>\n      <td>1.0</td>\n      <td>1.0</td>\n      <td>1.0</td>\n      <td>0.0</td>\n      <td>1.0</td>\n      <td>2.0</td>\n    </tr>\n    <tr>\n      <th>4</th>\n      <td>201600000005</td>\n      <td>4.0</td>\n      <td>0.0</td>\n      <td>0.0</td>\n      <td>0.0</td>\n      <td>0.0</td>\n      <td>1.0</td>\n      <td>1.0</td>\n      <td>0.0</td>\n      <td>1.0</td>\n      <td>1.0</td>\n    </tr>\n  </tbody>\n</table>\n</div>"
     },
     "execution_count": 80,
     "metadata": {},
     "output_type": "execute_result"
    }
   ]
  },
  {
   "cell_type": "code",
   "source": [
    "from sklearn.metrics.cluster import contingency_matrix\n",
    "from scipy.stats.contingency import association\n",
    "\n",
    "def cramersv(a, b):\n",
    "    return association(contingency_matrix(a, b))\n",
    "\n",
    "corr = df.drop('Num_Acc', axis=1).corr(method=cramersv)\n",
    "sns.heatmap(corr, square=True, linewidths=.5, cbar_kws={\"shrink\": .5}, annot=True)\n"
   ],
   "metadata": {
    "colab": {
     "base_uri": "https://localhost:8080/",
     "height": 538
    },
    "id": "zmqkrolvL43g",
    "outputId": "580c8572-aff4-41a9-c4bf-f951ddf9276c",
    "ExecuteTime": {
     "end_time": "2024-04-07T10:12:23.285506Z",
     "start_time": "2024-04-07T10:12:15.194892Z"
    }
   },
   "execution_count": 81,
   "outputs": [
    {
     "data": {
      "text/plain": "<Axes: >"
     },
     "execution_count": 81,
     "metadata": {},
     "output_type": "execute_result"
    },
    {
     "data": {
      "text/plain": "<Figure size 640x480 with 2 Axes>",
      "image/png": "[encoded data removed]"
     },
     "metadata": {},
     "output_type": "display_data"
    }
   ]
  },
  {
   "cell_type": "code",
   "source": [
    "df.to_csv('places_prepped.csv', index=False)"
   ],
   "metadata": {
    "id": "Hui8wDBykFi3",
    "ExecuteTime": {
     "end_time": "2024-04-07T10:12:29.255657Z",
     "start_time": "2024-04-07T10:12:23.287582Z"
    }
   },
   "execution_count": 82,
   "outputs": []
  }
 ]
}
