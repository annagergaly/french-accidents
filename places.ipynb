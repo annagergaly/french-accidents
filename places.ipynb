{
  "nbformat": 4,
  "nbformat_minor": 0,
  "metadata": {
    "colab": {
      "provenance": []
    },
    "kernelspec": {
      "name": "python3",
      "display_name": "Python 3"
    },
    "language_info": {
      "name": "python"
    }
  },
  "cells": [
    {
      "cell_type": "code",
      "execution_count": 1,
      "metadata": {
        "id": "qDsAh1YUTmvi"
      },
      "outputs": [],
      "source": [
        "import pandas as pd\n",
        "import numpy as np\n",
        "import matplotlib.pyplot as plt\n",
        "import random"
      ]
    },
    {
      "cell_type": "code",
      "source": [
        "seed = 6969696969\n",
        "random.seed(seed)"
      ],
      "metadata": {
        "id": "SLjCgIMjUCq5"
      },
      "execution_count": 2,
      "outputs": []
    },
    {
      "cell_type": "code",
      "source": [
        "from google.colab import drive\n",
        "drive.mount('/content/drive')"
      ],
      "metadata": {
        "colab": {
          "base_uri": "https://localhost:8080/"
        },
        "id": "1gyftNBmUFxg",
        "outputId": "b7b6256f-217d-4813-c83c-021d992cd09d"
      },
      "execution_count": 3,
      "outputs": [
        {
          "output_type": "stream",
          "name": "stdout",
          "text": [
            "Mounted at /content/drive\n"
          ]
        }
      ]
    },
    {
      "cell_type": "code",
      "source": [
        "path = \"/content/drive/MyDrive/French_accidents/places.csv\"\n",
        "df = pd.read_csv(path, low_memory=False)"
      ],
      "metadata": {
        "id": "bT10veceXGBa"
      },
      "execution_count": 5,
      "outputs": []
    },
    {
      "cell_type": "code",
      "source": [
        "df.rename( columns= { \"catr\": \"road_type\", \"voie\": \"road_num\", \"circ\": \"traffic_type\", \"nbv\": \"num_lanes\", \"vosp\": \"bike_lane_type\",\n",
        "                     \"prof\": \"terrain_type\", \"plan\": \"curve_type\", \"pr1\": \"pr_distance\", \"lartpc\": \"central_width\", \"larrout\": \"width\", \"surf\": \"condition\",\n",
        "                      \"infra\": \"infrastructure\", \"env1\": \"school\"}, inplace=True)"
      ],
      "metadata": {
        "id": "GPl5fF_cqN-I"
      },
      "execution_count": 23,
      "outputs": []
    },
    {
      "cell_type": "code",
      "source": [
        "df.count()"
      ],
      "metadata": {
        "colab": {
          "base_uri": "https://localhost:8080/"
        },
        "id": "sMj29E_dokY-",
        "outputId": "d4af3dad-4f20-4fdf-bd3e-3272ba5cc870"
      },
      "execution_count": 24,
      "outputs": [
        {
          "output_type": "execute_result",
          "data": {
            "text/plain": [
              "Num_Acc           839985\n",
              "road_type         839984\n",
              "road_num          780914\n",
              "v1                332816\n",
              "v2                 33953\n",
              "traffic_type      839187\n",
              "num_lanes         838195\n",
              "pr                414770\n",
              "pr_distance       413463\n",
              "bike_lane_type    838345\n",
              "terrain_type      838924\n",
              "curve_type        838909\n",
              "central_width     830440\n",
              "width             831706\n",
              "condition         838968\n",
              "infrastructure    838707\n",
              "situ              838983\n",
              "school            838709\n",
              "dtype: int64"
            ]
          },
          "metadata": {},
          "execution_count": 24
        }
      ]
    },
    {
      "cell_type": "code",
      "source": [
        "df.head()"
      ],
      "metadata": {
        "colab": {
          "base_uri": "https://localhost:8080/",
          "height": 206
        },
        "id": "m4vkwta-adXZ",
        "outputId": "be145e95-315f-4742-e78f-94d840e43e28"
      },
      "execution_count": 25,
      "outputs": [
        {
          "output_type": "execute_result",
          "data": {
            "text/plain": [
              "        Num_Acc  road_type road_num  v1   v2  traffic_type  num_lanes  pr  \\\n",
              "0  201600000001        3.0       39 NaN  NaN           2.0        0.0 NaN   \n",
              "1  201600000002        3.0       39 NaN  NaN           1.0        0.0 NaN   \n",
              "2  201600000003        3.0        1 NaN  NaN           2.0        2.0 NaN   \n",
              "3  201600000004        4.0        0 NaN  NaN           2.0        0.0 NaN   \n",
              "4  201600000005        4.0        0 NaN  NaN           0.0        0.0 NaN   \n",
              "\n",
              "   pr_distance  bike_lane_type  terrain_type  curve_type  central_width  \\\n",
              "0          NaN             0.0           1.0         3.0            0.0   \n",
              "1          NaN             0.0           1.0         2.0            0.0   \n",
              "2          NaN             0.0           1.0         3.0            0.0   \n",
              "3          NaN             0.0           1.0         1.0            0.0   \n",
              "4          NaN             0.0           0.0         1.0            0.0   \n",
              "\n",
              "   width  condition  infrastructure  situ  school  \n",
              "0    0.0        1.0             0.0   1.0     0.0  \n",
              "1   58.0        1.0             0.0   1.0     0.0  \n",
              "2   68.0        2.0             0.0   3.0    99.0  \n",
              "3    0.0        1.0             0.0   1.0    99.0  \n",
              "4    0.0        1.0             0.0   1.0     3.0  "
            ],
            "text/html": [
              "\n",
              "  <div id=\"df-d34bd97d-cb33-439f-8623-96f5808c05fb\" class=\"colab-df-container\">\n",
              "    <div>\n",
              "<style scoped>\n",
              "    .dataframe tbody tr th:only-of-type {\n",
              "        vertical-align: middle;\n",
              "    }\n",
              "\n",
              "    .dataframe tbody tr th {\n",
              "        vertical-align: top;\n",
              "    }\n",
              "\n",
              "    .dataframe thead th {\n",
              "        text-align: right;\n",
              "    }\n",
              "</style>\n",
              "<table border=\"1\" class=\"dataframe\">\n",
              "  <thead>\n",
              "    <tr style=\"text-align: right;\">\n",
              "      <th></th>\n",
              "      <th>Num_Acc</th>\n",
              "      <th>road_type</th>\n",
              "      <th>road_num</th>\n",
              "      <th>v1</th>\n",
              "      <th>v2</th>\n",
              "      <th>traffic_type</th>\n",
              "      <th>num_lanes</th>\n",
              "      <th>pr</th>\n",
              "      <th>pr_distance</th>\n",
              "      <th>bike_lane_type</th>\n",
              "      <th>terrain_type</th>\n",
              "      <th>curve_type</th>\n",
              "      <th>central_width</th>\n",
              "      <th>width</th>\n",
              "      <th>condition</th>\n",
              "      <th>infrastructure</th>\n",
              "      <th>situ</th>\n",
              "      <th>school</th>\n",
              "    </tr>\n",
              "  </thead>\n",
              "  <tbody>\n",
              "    <tr>\n",
              "      <th>0</th>\n",
              "      <td>201600000001</td>\n",
              "      <td>3.0</td>\n",
              "      <td>39</td>\n",
              "      <td>NaN</td>\n",
              "      <td>NaN</td>\n",
              "      <td>2.0</td>\n",
              "      <td>0.0</td>\n",
              "      <td>NaN</td>\n",
              "      <td>NaN</td>\n",
              "      <td>0.0</td>\n",
              "      <td>1.0</td>\n",
              "      <td>3.0</td>\n",
              "      <td>0.0</td>\n",
              "      <td>0.0</td>\n",
              "      <td>1.0</td>\n",
              "      <td>0.0</td>\n",
              "      <td>1.0</td>\n",
              "      <td>0.0</td>\n",
              "    </tr>\n",
              "    <tr>\n",
              "      <th>1</th>\n",
              "      <td>201600000002</td>\n",
              "      <td>3.0</td>\n",
              "      <td>39</td>\n",
              "      <td>NaN</td>\n",
              "      <td>NaN</td>\n",
              "      <td>1.0</td>\n",
              "      <td>0.0</td>\n",
              "      <td>NaN</td>\n",
              "      <td>NaN</td>\n",
              "      <td>0.0</td>\n",
              "      <td>1.0</td>\n",
              "      <td>2.0</td>\n",
              "      <td>0.0</td>\n",
              "      <td>58.0</td>\n",
              "      <td>1.0</td>\n",
              "      <td>0.0</td>\n",
              "      <td>1.0</td>\n",
              "      <td>0.0</td>\n",
              "    </tr>\n",
              "    <tr>\n",
              "      <th>2</th>\n",
              "      <td>201600000003</td>\n",
              "      <td>3.0</td>\n",
              "      <td>1</td>\n",
              "      <td>NaN</td>\n",
              "      <td>NaN</td>\n",
              "      <td>2.0</td>\n",
              "      <td>2.0</td>\n",
              "      <td>NaN</td>\n",
              "      <td>NaN</td>\n",
              "      <td>0.0</td>\n",
              "      <td>1.0</td>\n",
              "      <td>3.0</td>\n",
              "      <td>0.0</td>\n",
              "      <td>68.0</td>\n",
              "      <td>2.0</td>\n",
              "      <td>0.0</td>\n",
              "      <td>3.0</td>\n",
              "      <td>99.0</td>\n",
              "    </tr>\n",
              "    <tr>\n",
              "      <th>3</th>\n",
              "      <td>201600000004</td>\n",
              "      <td>4.0</td>\n",
              "      <td>0</td>\n",
              "      <td>NaN</td>\n",
              "      <td>NaN</td>\n",
              "      <td>2.0</td>\n",
              "      <td>0.0</td>\n",
              "      <td>NaN</td>\n",
              "      <td>NaN</td>\n",
              "      <td>0.0</td>\n",
              "      <td>1.0</td>\n",
              "      <td>1.0</td>\n",
              "      <td>0.0</td>\n",
              "      <td>0.0</td>\n",
              "      <td>1.0</td>\n",
              "      <td>0.0</td>\n",
              "      <td>1.0</td>\n",
              "      <td>99.0</td>\n",
              "    </tr>\n",
              "    <tr>\n",
              "      <th>4</th>\n",
              "      <td>201600000005</td>\n",
              "      <td>4.0</td>\n",
              "      <td>0</td>\n",
              "      <td>NaN</td>\n",
              "      <td>NaN</td>\n",
              "      <td>0.0</td>\n",
              "      <td>0.0</td>\n",
              "      <td>NaN</td>\n",
              "      <td>NaN</td>\n",
              "      <td>0.0</td>\n",
              "      <td>0.0</td>\n",
              "      <td>1.0</td>\n",
              "      <td>0.0</td>\n",
              "      <td>0.0</td>\n",
              "      <td>1.0</td>\n",
              "      <td>0.0</td>\n",
              "      <td>1.0</td>\n",
              "      <td>3.0</td>\n",
              "    </tr>\n",
              "  </tbody>\n",
              "</table>\n",
              "</div>\n",
              "    <div class=\"colab-df-buttons\">\n",
              "\n",
              "  <div class=\"colab-df-container\">\n",
              "    <button class=\"colab-df-convert\" onclick=\"convertToInteractive('df-d34bd97d-cb33-439f-8623-96f5808c05fb')\"\n",
              "            title=\"Convert this dataframe to an interactive table.\"\n",
              "            style=\"display:none;\">\n",
              "\n",
              "  <svg xmlns=\"http://www.w3.org/2000/svg\" height=\"24px\" viewBox=\"0 -960 960 960\">\n",
              "    <path d=\"M120-120v-720h720v720H120Zm60-500h600v-160H180v160Zm220 220h160v-160H400v160Zm0 220h160v-160H400v160ZM180-400h160v-160H180v160Zm440 0h160v-160H620v160ZM180-180h160v-160H180v160Zm440 0h160v-160H620v160Z\"/>\n",
              "  </svg>\n",
              "    </button>\n",
              "\n",
              "  <style>\n",
              "    .colab-df-container {\n",
              "      display:flex;\n",
              "      gap: 12px;\n",
              "    }\n",
              "\n",
              "    .colab-df-convert {\n",
              "      background-color: #E8F0FE;\n",
              "      border: none;\n",
              "      border-radius: 50%;\n",
              "      cursor: pointer;\n",
              "      display: none;\n",
              "      fill: #1967D2;\n",
              "      height: 32px;\n",
              "      padding: 0 0 0 0;\n",
              "      width: 32px;\n",
              "    }\n",
              "\n",
              "    .colab-df-convert:hover {\n",
              "      background-color: #E2EBFA;\n",
              "      box-shadow: 0px 1px 2px rgba(60, 64, 67, 0.3), 0px 1px 3px 1px rgba(60, 64, 67, 0.15);\n",
              "      fill: #174EA6;\n",
              "    }\n",
              "\n",
              "    .colab-df-buttons div {\n",
              "      margin-bottom: 4px;\n",
              "    }\n",
              "\n",
              "    [theme=dark] .colab-df-convert {\n",
              "      background-color: #3B4455;\n",
              "      fill: #D2E3FC;\n",
              "    }\n",
              "\n",
              "    [theme=dark] .colab-df-convert:hover {\n",
              "      background-color: #434B5C;\n",
              "      box-shadow: 0px 1px 3px 1px rgba(0, 0, 0, 0.15);\n",
              "      filter: drop-shadow(0px 1px 2px rgba(0, 0, 0, 0.3));\n",
              "      fill: #FFFFFF;\n",
              "    }\n",
              "  </style>\n",
              "\n",
              "    <script>\n",
              "      const buttonEl =\n",
              "        document.querySelector('#df-d34bd97d-cb33-439f-8623-96f5808c05fb button.colab-df-convert');\n",
              "      buttonEl.style.display =\n",
              "        google.colab.kernel.accessAllowed ? 'block' : 'none';\n",
              "\n",
              "      async function convertToInteractive(key) {\n",
              "        const element = document.querySelector('#df-d34bd97d-cb33-439f-8623-96f5808c05fb');\n",
              "        const dataTable =\n",
              "          await google.colab.kernel.invokeFunction('convertToInteractive',\n",
              "                                                    [key], {});\n",
              "        if (!dataTable) return;\n",
              "\n",
              "        const docLinkHtml = 'Like what you see? Visit the ' +\n",
              "          '<a target=\"_blank\" href=https://colab.research.google.com/notebooks/data_table.ipynb>data table notebook</a>'\n",
              "          + ' to learn more about interactive tables.';\n",
              "        element.innerHTML = '';\n",
              "        dataTable['output_type'] = 'display_data';\n",
              "        await google.colab.output.renderOutput(dataTable, element);\n",
              "        const docLink = document.createElement('div');\n",
              "        docLink.innerHTML = docLinkHtml;\n",
              "        element.appendChild(docLink);\n",
              "      }\n",
              "    </script>\n",
              "  </div>\n",
              "\n",
              "\n",
              "<div id=\"df-3e277bfe-0411-4445-9cfb-b187d71dcdf4\">\n",
              "  <button class=\"colab-df-quickchart\" onclick=\"quickchart('df-3e277bfe-0411-4445-9cfb-b187d71dcdf4')\"\n",
              "            title=\"Suggest charts\"\n",
              "            style=\"display:none;\">\n",
              "\n",
              "<svg xmlns=\"http://www.w3.org/2000/svg\" height=\"24px\"viewBox=\"0 0 24 24\"\n",
              "     width=\"24px\">\n",
              "    <g>\n",
              "        <path d=\"M19 3H5c-1.1 0-2 .9-2 2v14c0 1.1.9 2 2 2h14c1.1 0 2-.9 2-2V5c0-1.1-.9-2-2-2zM9 17H7v-7h2v7zm4 0h-2V7h2v10zm4 0h-2v-4h2v4z\"/>\n",
              "    </g>\n",
              "</svg>\n",
              "  </button>\n",
              "\n",
              "<style>\n",
              "  .colab-df-quickchart {\n",
              "      --bg-color: #E8F0FE;\n",
              "      --fill-color: #1967D2;\n",
              "      --hover-bg-color: #E2EBFA;\n",
              "      --hover-fill-color: #174EA6;\n",
              "      --disabled-fill-color: #AAA;\n",
              "      --disabled-bg-color: #DDD;\n",
              "  }\n",
              "\n",
              "  [theme=dark] .colab-df-quickchart {\n",
              "      --bg-color: #3B4455;\n",
              "      --fill-color: #D2E3FC;\n",
              "      --hover-bg-color: #434B5C;\n",
              "      --hover-fill-color: #FFFFFF;\n",
              "      --disabled-bg-color: #3B4455;\n",
              "      --disabled-fill-color: #666;\n",
              "  }\n",
              "\n",
              "  .colab-df-quickchart {\n",
              "    background-color: var(--bg-color);\n",
              "    border: none;\n",
              "    border-radius: 50%;\n",
              "    cursor: pointer;\n",
              "    display: none;\n",
              "    fill: var(--fill-color);\n",
              "    height: 32px;\n",
              "    padding: 0;\n",
              "    width: 32px;\n",
              "  }\n",
              "\n",
              "  .colab-df-quickchart:hover {\n",
              "    background-color: var(--hover-bg-color);\n",
              "    box-shadow: 0 1px 2px rgba(60, 64, 67, 0.3), 0 1px 3px 1px rgba(60, 64, 67, 0.15);\n",
              "    fill: var(--button-hover-fill-color);\n",
              "  }\n",
              "\n",
              "  .colab-df-quickchart-complete:disabled,\n",
              "  .colab-df-quickchart-complete:disabled:hover {\n",
              "    background-color: var(--disabled-bg-color);\n",
              "    fill: var(--disabled-fill-color);\n",
              "    box-shadow: none;\n",
              "  }\n",
              "\n",
              "  .colab-df-spinner {\n",
              "    border: 2px solid var(--fill-color);\n",
              "    border-color: transparent;\n",
              "    border-bottom-color: var(--fill-color);\n",
              "    animation:\n",
              "      spin 1s steps(1) infinite;\n",
              "  }\n",
              "\n",
              "  @keyframes spin {\n",
              "    0% {\n",
              "      border-color: transparent;\n",
              "      border-bottom-color: var(--fill-color);\n",
              "      border-left-color: var(--fill-color);\n",
              "    }\n",
              "    20% {\n",
              "      border-color: transparent;\n",
              "      border-left-color: var(--fill-color);\n",
              "      border-top-color: var(--fill-color);\n",
              "    }\n",
              "    30% {\n",
              "      border-color: transparent;\n",
              "      border-left-color: var(--fill-color);\n",
              "      border-top-color: var(--fill-color);\n",
              "      border-right-color: var(--fill-color);\n",
              "    }\n",
              "    40% {\n",
              "      border-color: transparent;\n",
              "      border-right-color: var(--fill-color);\n",
              "      border-top-color: var(--fill-color);\n",
              "    }\n",
              "    60% {\n",
              "      border-color: transparent;\n",
              "      border-right-color: var(--fill-color);\n",
              "    }\n",
              "    80% {\n",
              "      border-color: transparent;\n",
              "      border-right-color: var(--fill-color);\n",
              "      border-bottom-color: var(--fill-color);\n",
              "    }\n",
              "    90% {\n",
              "      border-color: transparent;\n",
              "      border-bottom-color: var(--fill-color);\n",
              "    }\n",
              "  }\n",
              "</style>\n",
              "\n",
              "  <script>\n",
              "    async function quickchart(key) {\n",
              "      const quickchartButtonEl =\n",
              "        document.querySelector('#' + key + ' button');\n",
              "      quickchartButtonEl.disabled = true;  // To prevent multiple clicks.\n",
              "      quickchartButtonEl.classList.add('colab-df-spinner');\n",
              "      try {\n",
              "        const charts = await google.colab.kernel.invokeFunction(\n",
              "            'suggestCharts', [key], {});\n",
              "      } catch (error) {\n",
              "        console.error('Error during call to suggestCharts:', error);\n",
              "      }\n",
              "      quickchartButtonEl.classList.remove('colab-df-spinner');\n",
              "      quickchartButtonEl.classList.add('colab-df-quickchart-complete');\n",
              "    }\n",
              "    (() => {\n",
              "      let quickchartButtonEl =\n",
              "        document.querySelector('#df-3e277bfe-0411-4445-9cfb-b187d71dcdf4 button');\n",
              "      quickchartButtonEl.style.display =\n",
              "        google.colab.kernel.accessAllowed ? 'block' : 'none';\n",
              "    })();\n",
              "  </script>\n",
              "</div>\n",
              "    </div>\n",
              "  </div>\n"
            ],
            "application/vnd.google.colaboratory.intrinsic+json": {
              "type": "dataframe",
              "variable_name": "df"
            }
          },
          "metadata": {},
          "execution_count": 25
        }
      ]
    },
    {
      "cell_type": "markdown",
      "source": [
        "## Road Type\n",
        "\n",
        "    1 - Highway\n",
        "\n",
        "    2 - National Road\n",
        "\n",
        "    3 - Departmental Road\n",
        "\n",
        "    4 - Communal Way\n",
        "\n",
        "    5 - Off public network\n",
        "\n",
        "    6 - Parking lot open to public traffic\n",
        "\n",
        "    9 - other\n"
      ],
      "metadata": {
        "id": "SHm5znUO3Yro"
      }
    },
    {
      "cell_type": "code",
      "source": [
        "df['road_type'].value_counts()"
      ],
      "metadata": {
        "colab": {
          "base_uri": "https://localhost:8080/"
        },
        "id": "ajKi7-yKi1gN",
        "outputId": "6d785c14-9b16-4600-b4a4-3ec5b2addc7f"
      },
      "execution_count": 26,
      "outputs": [
        {
          "output_type": "execute_result",
          "data": {
            "text/plain": [
              "4.0    425061\n",
              "3.0    262690\n",
              "2.0     67918\n",
              "1.0     61077\n",
              "9.0     16084\n",
              "6.0      5520\n",
              "5.0      1634\n",
              "Name: road_type, dtype: int64"
            ]
          },
          "metadata": {},
          "execution_count": 26
        }
      ]
    },
    {
      "cell_type": "code",
      "source": [
        "df['road_type'].isna().sum()"
      ],
      "metadata": {
        "colab": {
          "base_uri": "https://localhost:8080/"
        },
        "id": "CRF_Bd1H35kE",
        "outputId": "ddea38bc-157e-4595-8e9d-7bddfb0477a6"
      },
      "execution_count": 27,
      "outputs": [
        {
          "output_type": "execute_result",
          "data": {
            "text/plain": [
              "1"
            ]
          },
          "metadata": {},
          "execution_count": 27
        }
      ]
    },
    {
      "cell_type": "code",
      "source": [
        "df['road_type'].fillna(9.0)"
      ],
      "metadata": {
        "colab": {
          "base_uri": "https://localhost:8080/"
        },
        "id": "WlN_Z5eA4MPt",
        "outputId": "4671f620-9aa5-4cef-8c9b-13a4fbc867c1"
      },
      "execution_count": 28,
      "outputs": [
        {
          "output_type": "execute_result",
          "data": {
            "text/plain": [
              "0         3.0\n",
              "1         3.0\n",
              "2         3.0\n",
              "3         4.0\n",
              "4         4.0\n",
              "         ... \n",
              "839980    4.0\n",
              "839981    4.0\n",
              "839982    4.0\n",
              "839983    4.0\n",
              "839984    2.0\n",
              "Name: road_type, Length: 839985, dtype: float64"
            ]
          },
          "metadata": {},
          "execution_count": 28
        }
      ]
    },
    {
      "cell_type": "markdown",
      "source": [
        "## Road number"
      ],
      "metadata": {
        "id": "U5ezoNXp3prW"
      }
    },
    {
      "cell_type": "code",
      "source": [
        "df['road_num'].value_counts()"
      ],
      "metadata": {
        "colab": {
          "base_uri": "https://localhost:8080/"
        },
        "id": "ngeZnlM5kTQb",
        "outputId": "df78bc84-9237-43c1-b832-d7f29e1e41ad"
      },
      "execution_count": 33,
      "outputs": [
        {
          "output_type": "execute_result",
          "data": {
            "text/plain": [
              "0        451032\n",
              "1         22224\n",
              "6          8953\n",
              "7          8055\n",
              "4          7173\n",
              "          ...  \n",
              "00CR7         1\n",
              "2913          1\n",
              "00D75         1\n",
              "00D18         1\n",
              "1560          1\n",
              "Name: road_num, Length: 1087, dtype: int64"
            ]
          },
          "metadata": {},
          "execution_count": 33
        }
      ]
    },
    {
      "cell_type": "code",
      "source": [
        "df['road_num'].isna().sum()"
      ],
      "metadata": {
        "colab": {
          "base_uri": "https://localhost:8080/"
        },
        "id": "TtwARt8B4dUv",
        "outputId": "7fa5cd82-6f6a-4d32-cfb0-9d5781674cec"
      },
      "execution_count": 34,
      "outputs": [
        {
          "output_type": "execute_result",
          "data": {
            "text/plain": [
              "59071"
            ]
          },
          "metadata": {},
          "execution_count": 34
        }
      ]
    },
    {
      "cell_type": "code",
      "source": [
        "df['road_num'].fillna(0)"
      ],
      "metadata": {
        "colab": {
          "base_uri": "https://localhost:8080/"
        },
        "id": "wqd4FOhi41bv",
        "outputId": "f10b0516-e98f-4df2-f1b3-3f800c5d535b"
      },
      "execution_count": 35,
      "outputs": [
        {
          "output_type": "execute_result",
          "data": {
            "text/plain": [
              "0         39\n",
              "1         39\n",
              "2          1\n",
              "3          0\n",
              "4          0\n",
              "          ..\n",
              "839980     0\n",
              "839981     0\n",
              "839982     0\n",
              "839983     0\n",
              "839984     0\n",
              "Name: road_num, Length: 839985, dtype: object"
            ]
          },
          "metadata": {},
          "execution_count": 35
        }
      ]
    },
    {
      "cell_type": "markdown",
      "source": [
        "## V1\n",
        "\n",
        "Route number numeric index (?)"
      ],
      "metadata": {
        "id": "WQ8rKS_35BBo"
      }
    },
    {
      "cell_type": "code",
      "source": [
        "df['v1'].value_counts()"
      ],
      "metadata": {
        "colab": {
          "base_uri": "https://localhost:8080/"
        },
        "id": "bJYRVD9dn7Ji",
        "outputId": "177e04b3-8f02-4828-c54a-a3e9c32735b9"
      },
      "execution_count": 36,
      "outputs": [
        {
          "output_type": "execute_result",
          "data": {
            "text/plain": [
              "0.0    325698\n",
              "2.0      3307\n",
              "1.0      1020\n",
              "3.0       768\n",
              "6.0       461\n",
              "4.0       396\n",
              "7.0       392\n",
              "9.0       295\n",
              "8.0       247\n",
              "5.0       232\n",
              "Name: v1, dtype: int64"
            ]
          },
          "metadata": {},
          "execution_count": 36
        }
      ]
    },
    {
      "cell_type": "code",
      "source": [
        "df['v1'].isna().sum()"
      ],
      "metadata": {
        "colab": {
          "base_uri": "https://localhost:8080/"
        },
        "id": "dUqAyUcyoDRB",
        "outputId": "ee195802-0502-4b09-ada4-6d3e0559cb47"
      },
      "execution_count": 38,
      "outputs": [
        {
          "output_type": "execute_result",
          "data": {
            "text/plain": [
              "507169"
            ]
          },
          "metadata": {},
          "execution_count": 38
        }
      ]
    },
    {
      "cell_type": "markdown",
      "source": [
        "## V2\n",
        "\n",
        "Letter alphanumeric index of road"
      ],
      "metadata": {
        "id": "Kt_T17CP5Tn2"
      }
    },
    {
      "cell_type": "code",
      "source": [
        "df['v2'].value_counts()"
      ],
      "metadata": {
        "colab": {
          "base_uri": "https://localhost:8080/"
        },
        "id": "z_nZR7LnptqA",
        "outputId": "2c573c57-d4dd-4c6f-84a1-60be0df50b20"
      },
      "execution_count": 19,
      "outputs": [
        {
          "output_type": "execute_result",
          "data": {
            "text/plain": [
              "A    20069\n",
              "D     2200\n",
              "N     1976\n",
              "E     1942\n",
              "B     1372\n",
              "0     1091\n",
              "C     1011\n",
              "a      879\n",
              "b      778\n",
              "\u0004      537\n",
              "F      263\n",
              "e      213\n",
              "S      177\n",
              "G      140\n",
              "1      134\n",
              "R      114\n",
              "L       99\n",
              "2       92\n",
              "P       77\n",
              "J       71\n",
              "H       70\n",
              "3       70\n",
              "M       63\n",
              "K       52\n",
              "Z       42\n",
              "4       38\n",
              "n       35\n",
              "c       34\n",
              "s       34\n",
              "T       33\n",
              "W       31\n",
              "5       27\n",
              "6       27\n",
              "I       25\n",
              "V       21\n",
              "z       16\n",
              "d       15\n",
              "m       11\n",
              "7       11\n",
              "8       10\n",
              "9        9\n",
              "Y        7\n",
              "O        7\n",
              "Q        7\n",
              "l        4\n",
              "t        3\n",
              "U        3\n",
              "g        2\n",
              "r        2\n",
              "v        2\n",
              "p        2\n",
              "f        2\n",
              "X        1\n",
              "w        1\n",
              "y        1\n",
              "Name: v2, dtype: int64"
            ]
          },
          "metadata": {},
          "execution_count": 19
        }
      ]
    },
    {
      "cell_type": "code",
      "source": [
        "df['v2'].isna().sum()"
      ],
      "metadata": {
        "colab": {
          "base_uri": "https://localhost:8080/"
        },
        "id": "la7-glaM5cdU",
        "outputId": "837d49be-6a47-4505-b97d-4e0640ece77c"
      },
      "execution_count": 39,
      "outputs": [
        {
          "output_type": "execute_result",
          "data": {
            "text/plain": [
              "806032"
            ]
          },
          "metadata": {},
          "execution_count": 39
        }
      ]
    },
    {
      "cell_type": "markdown",
      "source": [
        "## Traffic type\n",
        "\n",
        "    1 - One way\n",
        "\n",
        "    2 - Bidirectional\n",
        "\n",
        "    3 - Separated carriageways\n",
        "\n",
        "    4 - With variable assignment channels\n"
      ],
      "metadata": {
        "id": "P3hKqVXL5l_k"
      }
    },
    {
      "cell_type": "code",
      "source": [
        "df['traffic_type'].value_counts()"
      ],
      "metadata": {
        "colab": {
          "base_uri": "https://localhost:8080/"
        },
        "id": "DSBtlNDF5txy",
        "outputId": "979939bc-f40e-4fb1-bfc5-d5752a8a7ca7"
      },
      "execution_count": 40,
      "outputs": [
        {
          "output_type": "execute_result",
          "data": {
            "text/plain": [
              "2.0    532823\n",
              "1.0    149375\n",
              "3.0    107855\n",
              "0.0     44556\n",
              "4.0      4578\n",
              "Name: traffic_type, dtype: int64"
            ]
          },
          "metadata": {},
          "execution_count": 40
        }
      ]
    },
    {
      "cell_type": "code",
      "source": [
        "df['traffic_type'].isna().sum()"
      ],
      "metadata": {
        "colab": {
          "base_uri": "https://localhost:8080/"
        },
        "id": "LAVhVLfs59ff",
        "outputId": "56f63b7c-10bf-42cc-e763-efc00693428e"
      },
      "execution_count": 45,
      "outputs": [
        {
          "output_type": "execute_result",
          "data": {
            "text/plain": [
              "798"
            ]
          },
          "metadata": {},
          "execution_count": 45
        }
      ]
    },
    {
      "cell_type": "code",
      "source": [
        "df['traffic_type'].fillna(2.0)"
      ],
      "metadata": {
        "colab": {
          "base_uri": "https://localhost:8080/"
        },
        "id": "lFwVHK9X6Dy9",
        "outputId": "ba81e054-a0d5-4cea-fdce-ba6ee0bc66fa"
      },
      "execution_count": 43,
      "outputs": [
        {
          "output_type": "execute_result",
          "data": {
            "text/plain": [
              "0         2.0\n",
              "1         1.0\n",
              "2         2.0\n",
              "3         2.0\n",
              "4         0.0\n",
              "         ... \n",
              "839980    2.0\n",
              "839981    2.0\n",
              "839982    1.0\n",
              "839983    2.0\n",
              "839984    3.0\n",
              "Name: traffic_type, Length: 839985, dtype: float64"
            ]
          },
          "metadata": {},
          "execution_count": 43
        }
      ]
    },
    {
      "cell_type": "markdown",
      "source": [
        "## Number of lanes"
      ],
      "metadata": {
        "id": "ixXAUg8n6SZt"
      }
    },
    {
      "cell_type": "code",
      "source": [
        "df['num_lanes'].value_counts()"
      ],
      "metadata": {
        "colab": {
          "base_uri": "https://localhost:8080/"
        },
        "id": "z6VQXslm6WNP",
        "outputId": "f7e95e68-5090-4e69-e11d-ba8b8229814d"
      },
      "execution_count": 44,
      "outputs": [
        {
          "output_type": "execute_result",
          "data": {
            "text/plain": [
              "2.0     464716\n",
              "0.0     102796\n",
              "1.0     101345\n",
              "4.0      76934\n",
              "3.0      66252\n",
              "6.0      13945\n",
              "5.0       7839\n",
              "8.0       2332\n",
              "7.0        840\n",
              "10.0       407\n",
              "20.0       241\n",
              "50.0       158\n",
              "9.0        148\n",
              "11.0        32\n",
              "12.0        32\n",
              "40.0        30\n",
              "30.0        27\n",
              "13.0        15\n",
              "25.0        14\n",
              "21.0        11\n",
              "26.0         9\n",
              "15.0         8\n",
              "90.0         7\n",
              "24.0         6\n",
              "14.0         6\n",
              "22.0         5\n",
              "70.0         5\n",
              "60.0         3\n",
              "31.0         3\n",
              "16.0         2\n",
              "53.0         2\n",
              "45.0         2\n",
              "27.0         2\n",
              "17.0         2\n",
              "65.0         1\n",
              "84.0         1\n",
              "39.0         1\n",
              "54.0         1\n",
              "29.0         1\n",
              "62.0         1\n",
              "99.0         1\n",
              "42.0         1\n",
              "41.0         1\n",
              "36.0         1\n",
              "44.0         1\n",
              "33.0         1\n",
              "52.0         1\n",
              "28.0         1\n",
              "91.0         1\n",
              "86.0         1\n",
              "76.0         1\n",
              "23.0         1\n",
              "18.0         1\n",
              "Name: num_lanes, dtype: int64"
            ]
          },
          "metadata": {},
          "execution_count": 44
        }
      ]
    },
    {
      "cell_type": "code",
      "source": [
        "df['traffic_type'].isna().sum()"
      ],
      "metadata": {
        "colab": {
          "base_uri": "https://localhost:8080/"
        },
        "id": "vWRMMHfD6crt",
        "outputId": "4675b2cf-f43a-4254-ace4-1dd28f0470d8"
      },
      "execution_count": 46,
      "outputs": [
        {
          "output_type": "execute_result",
          "data": {
            "text/plain": [
              "798"
            ]
          },
          "metadata": {},
          "execution_count": 46
        }
      ]
    },
    {
      "cell_type": "code",
      "source": [
        "df['num_lanes'].fillna(2.0)"
      ],
      "metadata": {
        "colab": {
          "base_uri": "https://localhost:8080/"
        },
        "id": "ZRLQ8-ja6hFZ",
        "outputId": "bce46618-8e8b-4a30-84b9-bd14c502f0c7"
      },
      "execution_count": 47,
      "outputs": [
        {
          "output_type": "execute_result",
          "data": {
            "text/plain": [
              "0         0.0\n",
              "1         0.0\n",
              "2         2.0\n",
              "3         0.0\n",
              "4         0.0\n",
              "         ... \n",
              "839980    3.0\n",
              "839981    2.0\n",
              "839982    2.0\n",
              "839983    0.0\n",
              "839984    2.0\n",
              "Name: num_lanes, Length: 839985, dtype: float64"
            ]
          },
          "metadata": {},
          "execution_count": 47
        }
      ]
    },
    {
      "cell_type": "markdown",
      "source": [
        "## Bike lane\n",
        "\n",
        "    1 - Bike path\n",
        "\n",
        "    2 - Cycle Bank\n",
        "\n",
        "    3 - Reserved channel\n"
      ],
      "metadata": {
        "id": "JZIodlcu6l1X"
      }
    },
    {
      "cell_type": "code",
      "source": [
        "df['bike_lane_type'].value_counts()"
      ],
      "metadata": {
        "colab": {
          "base_uri": "https://localhost:8080/"
        },
        "id": "aVVhpPrm6pkF",
        "outputId": "8f792d7d-1cfc-4518-c145-320578aeda64"
      },
      "execution_count": 48,
      "outputs": [
        {
          "output_type": "execute_result",
          "data": {
            "text/plain": [
              "0.0    787021\n",
              "3.0     23473\n",
              "1.0     16570\n",
              "2.0     11281\n",
              "Name: bike_lane_type, dtype: int64"
            ]
          },
          "metadata": {},
          "execution_count": 48
        }
      ]
    },
    {
      "cell_type": "code",
      "source": [
        "df['bike_lane_type'].isna().sum()"
      ],
      "metadata": {
        "colab": {
          "base_uri": "https://localhost:8080/"
        },
        "id": "Fu2MPUEo6wdn",
        "outputId": "317ccc12-f051-4f1d-fc76-d2f4b738f56d"
      },
      "execution_count": 49,
      "outputs": [
        {
          "output_type": "execute_result",
          "data": {
            "text/plain": [
              "1640"
            ]
          },
          "metadata": {},
          "execution_count": 49
        }
      ]
    },
    {
      "cell_type": "code",
      "source": [
        "df['bike_lane_type'].fillna(0.0)"
      ],
      "metadata": {
        "colab": {
          "base_uri": "https://localhost:8080/"
        },
        "id": "FS3OIUXT61Vb",
        "outputId": "12e76b89-bd17-4724-ab31-b57ec8c1bf69"
      },
      "execution_count": 50,
      "outputs": [
        {
          "output_type": "execute_result",
          "data": {
            "text/plain": [
              "0         0.0\n",
              "1         0.0\n",
              "2         0.0\n",
              "3         0.0\n",
              "4         0.0\n",
              "         ... \n",
              "839980    0.0\n",
              "839981    0.0\n",
              "839982    0.0\n",
              "839983    0.0\n",
              "839984    0.0\n",
              "Name: bike_lane_type, Length: 839985, dtype: float64"
            ]
          },
          "metadata": {},
          "execution_count": 50
        }
      ]
    },
    {
      "cell_type": "markdown",
      "source": [
        "## Terrain\n",
        "\n",
        "    1 - Dish\n",
        "\n",
        "    2 - Slope\n",
        "\n",
        "    3 - Hilltop\n",
        "\n",
        "    4- Hill bottom\n",
        "\n"
      ],
      "metadata": {
        "id": "30awdo2h7Akm"
      }
    },
    {
      "cell_type": "code",
      "source": [
        "df['terrain_type'].value_counts()"
      ],
      "metadata": {
        "colab": {
          "base_uri": "https://localhost:8080/"
        },
        "id": "3YNkv6vm7GE5",
        "outputId": "172b5e58-0287-4427-a320-2b6642feb0e2"
      },
      "execution_count": 52,
      "outputs": [
        {
          "output_type": "execute_result",
          "data": {
            "text/plain": [
              "1.0    634776\n",
              "2.0    114043\n",
              "0.0     63894\n",
              "3.0     15130\n",
              "4.0     11081\n",
              "Name: terrain_type, dtype: int64"
            ]
          },
          "metadata": {},
          "execution_count": 52
        }
      ]
    },
    {
      "cell_type": "code",
      "source": [
        "df['terrain_type'].isna().sum()"
      ],
      "metadata": {
        "colab": {
          "base_uri": "https://localhost:8080/"
        },
        "id": "NolxfNC37Q7L",
        "outputId": "3028b974-73f6-40eb-b8b9-13e936f14eb7"
      },
      "execution_count": 53,
      "outputs": [
        {
          "output_type": "execute_result",
          "data": {
            "text/plain": [
              "1061"
            ]
          },
          "metadata": {},
          "execution_count": 53
        }
      ]
    },
    {
      "cell_type": "code",
      "source": [
        "df['terrain_type'].fillna(1.0)"
      ],
      "metadata": {
        "colab": {
          "base_uri": "https://localhost:8080/"
        },
        "id": "dln1_zl57VOy",
        "outputId": "26453390-e17c-4ade-d6bf-416b73656ee7"
      },
      "execution_count": 54,
      "outputs": [
        {
          "output_type": "execute_result",
          "data": {
            "text/plain": [
              "0         1.0\n",
              "1         1.0\n",
              "2         1.0\n",
              "3         1.0\n",
              "4         0.0\n",
              "         ... \n",
              "839980    1.0\n",
              "839981    1.0\n",
              "839982    1.0\n",
              "839983    1.0\n",
              "839984    1.0\n",
              "Name: terrain_type, Length: 839985, dtype: float64"
            ]
          },
          "metadata": {},
          "execution_count": 54
        }
      ]
    },
    {
      "cell_type": "markdown",
      "source": [
        "## PR number (?)"
      ],
      "metadata": {
        "id": "Y2AIfCPn7ZSH"
      }
    },
    {
      "cell_type": "code",
      "source": [
        "df['pr'].value_counts()"
      ],
      "metadata": {
        "colab": {
          "base_uri": "https://localhost:8080/"
        },
        "id": "IIxQ9fyN7clb",
        "outputId": "fcfe9807-3ff9-44c4-bd88-25e9388ca44a"
      },
      "execution_count": 55,
      "outputs": [
        {
          "output_type": "execute_result",
          "data": {
            "text/plain": [
              "0.0       129543\n",
              "1.0        29888\n",
              "2.0        14437\n",
              "3.0        11661\n",
              "4.0         9761\n",
              "           ...  \n",
              "474.0          1\n",
              "475.0          1\n",
              "4000.0         1\n",
              "2600.0         1\n",
              "1125.0         1\n",
              "Name: pr, Length: 736, dtype: int64"
            ]
          },
          "metadata": {},
          "execution_count": 55
        }
      ]
    },
    {
      "cell_type": "code",
      "source": [
        "df['pr'].isna().sum()"
      ],
      "metadata": {
        "colab": {
          "base_uri": "https://localhost:8080/"
        },
        "id": "YB34K-jt7hdA",
        "outputId": "6fecb59e-a80d-4691-f163-6cbddee673b5"
      },
      "execution_count": 56,
      "outputs": [
        {
          "output_type": "execute_result",
          "data": {
            "text/plain": [
              "425215"
            ]
          },
          "metadata": {},
          "execution_count": 56
        }
      ]
    },
    {
      "cell_type": "markdown",
      "source": [
        "## PR distance (?)"
      ],
      "metadata": {
        "id": "DTGz-C997mT3"
      }
    },
    {
      "cell_type": "code",
      "source": [
        "df['pr_distance'].value_counts()"
      ],
      "metadata": {
        "colab": {
          "base_uri": "https://localhost:8080/"
        },
        "id": "HwV9YaWj7p1Z",
        "outputId": "a606618b-f171-4a83-99c2-25122c001f5c"
      },
      "execution_count": 57,
      "outputs": [
        {
          "output_type": "execute_result",
          "data": {
            "text/plain": [
              "0.0       173181\n",
              "500.0      25276\n",
              "200.0      15199\n",
              "800.0      14751\n",
              "100.0      13998\n",
              "           ...  \n",
              "2101.0         1\n",
              "1465.0         1\n",
              "1278.0         1\n",
              "1659.0         1\n",
              "3437.0         1\n",
              "Name: pr_distance, Length: 2127, dtype: int64"
            ]
          },
          "metadata": {},
          "execution_count": 57
        }
      ]
    },
    {
      "cell_type": "code",
      "source": [
        "df['pr_distance'].isna().sum()"
      ],
      "metadata": {
        "colab": {
          "base_uri": "https://localhost:8080/"
        },
        "id": "1oeU1rqo7vSi",
        "outputId": "1b797933-bd69-4fc3-9d40-ff04a53cf21b"
      },
      "execution_count": 58,
      "outputs": [
        {
          "output_type": "execute_result",
          "data": {
            "text/plain": [
              "426522"
            ]
          },
          "metadata": {},
          "execution_count": 58
        }
      ]
    },
    {
      "cell_type": "markdown",
      "source": [
        "## Road curve\n",
        "\n",
        "    1 - Straight part\n",
        "\n",
        "    2 - Curved on the left\n",
        "\n",
        "    3 - Curved right\n",
        "\n",
        "    4 - In \"S\"\n"
      ],
      "metadata": {
        "id": "CV8Vkaio7zH2"
      }
    },
    {
      "cell_type": "code",
      "source": [
        "df['curve_type'].value_counts()"
      ],
      "metadata": {
        "colab": {
          "base_uri": "https://localhost:8080/"
        },
        "id": "EnUwG5Gm75hQ",
        "outputId": "cabcd7ac-828f-463e-8083-b0196f366cca"
      },
      "execution_count": 59,
      "outputs": [
        {
          "output_type": "execute_result",
          "data": {
            "text/plain": [
              "1.0    639903\n",
              "2.0     68483\n",
              "3.0     61946\n",
              "0.0     57847\n",
              "4.0     10730\n",
              "Name: curve_type, dtype: int64"
            ]
          },
          "metadata": {},
          "execution_count": 59
        }
      ]
    },
    {
      "cell_type": "code",
      "source": [
        "df['curve_type'].isna().sum()"
      ],
      "metadata": {
        "colab": {
          "base_uri": "https://localhost:8080/"
        },
        "id": "2oK14uCz8H8T",
        "outputId": "db58cb8f-6ee7-4010-ad5a-7cdc5fb1679e"
      },
      "execution_count": 61,
      "outputs": [
        {
          "output_type": "execute_result",
          "data": {
            "text/plain": [
              "1076"
            ]
          },
          "metadata": {},
          "execution_count": 61
        }
      ]
    },
    {
      "cell_type": "code",
      "source": [
        "df['curve_type'].fillna(1.0)"
      ],
      "metadata": {
        "colab": {
          "base_uri": "https://localhost:8080/"
        },
        "id": "JeeN7Rw48Pzg",
        "outputId": "77f6b4c9-ab71-4119-8f7a-499f84b2446c"
      },
      "execution_count": 62,
      "outputs": [
        {
          "output_type": "execute_result",
          "data": {
            "text/plain": [
              "0         3.0\n",
              "1         2.0\n",
              "2         3.0\n",
              "3         1.0\n",
              "4         1.0\n",
              "         ... \n",
              "839980    1.0\n",
              "839981    2.0\n",
              "839982    1.0\n",
              "839983    1.0\n",
              "839984    2.0\n",
              "Name: curve_type, Length: 839985, dtype: float64"
            ]
          },
          "metadata": {},
          "execution_count": 62
        }
      ]
    },
    {
      "cell_type": "markdown",
      "source": [
        "## Central width"
      ],
      "metadata": {
        "id": "xb8UwIVY8b0J"
      }
    },
    {
      "cell_type": "code",
      "source": [
        "df['central_width'].value_counts()"
      ],
      "metadata": {
        "colab": {
          "base_uri": "https://localhost:8080/"
        },
        "id": "OW7ahbvZ8gLU",
        "outputId": "18b86793-cf67-4e5d-b331-16f6c12ae8fd"
      },
      "execution_count": 63,
      "outputs": [
        {
          "output_type": "execute_result",
          "data": {
            "text/plain": [
              "0.0      699686\n",
              "15.0      30770\n",
              "10.0      18085\n",
              "20.0      15641\n",
              "30.0       7863\n",
              "          ...  \n",
              "206.0         1\n",
              "446.0         1\n",
              "915.0         1\n",
              "950.0         1\n",
              "625.0         1\n",
              "Name: central_width, Length: 371, dtype: int64"
            ]
          },
          "metadata": {},
          "execution_count": 63
        }
      ]
    },
    {
      "cell_type": "code",
      "source": [
        "df['central_width'].isna().sum()"
      ],
      "metadata": {
        "colab": {
          "base_uri": "https://localhost:8080/"
        },
        "id": "NsB_9w8c8mcq",
        "outputId": "ef823efe-475c-447d-eeaf-096f6836b605"
      },
      "execution_count": 64,
      "outputs": [
        {
          "output_type": "execute_result",
          "data": {
            "text/plain": [
              "9545"
            ]
          },
          "metadata": {},
          "execution_count": 64
        }
      ]
    },
    {
      "cell_type": "markdown",
      "source": [
        "## Width"
      ],
      "metadata": {
        "id": "xf_iO8up8rBK"
      }
    },
    {
      "cell_type": "code",
      "source": [
        "df['width'].value_counts()"
      ],
      "metadata": {
        "colab": {
          "base_uri": "https://localhost:8080/"
        },
        "id": "-JAakQuw8soD",
        "outputId": "b34773ee-f9cd-4552-8bcc-9d52551570f5"
      },
      "execution_count": 66,
      "outputs": [
        {
          "output_type": "execute_result",
          "data": {
            "text/plain": [
              "0.0      258253\n",
              "60.0      71196\n",
              "70.0      57400\n",
              "80.0      25940\n",
              "50.0      23066\n",
              "          ...  \n",
              "665.0         1\n",
              "985.0         1\n",
              "916.0         1\n",
              "909.0         1\n",
              "363.0         1\n",
              "Name: width, Length: 542, dtype: int64"
            ]
          },
          "metadata": {},
          "execution_count": 66
        }
      ]
    },
    {
      "cell_type": "code",
      "source": [
        "df['width'].isna().sum()"
      ],
      "metadata": {
        "colab": {
          "base_uri": "https://localhost:8080/"
        },
        "id": "cC5n8Rj38yD9",
        "outputId": "e4143619-ca1c-401d-98f7-014a9db9e2c5"
      },
      "execution_count": 67,
      "outputs": [
        {
          "output_type": "execute_result",
          "data": {
            "text/plain": [
              "8279"
            ]
          },
          "metadata": {},
          "execution_count": 67
        }
      ]
    },
    {
      "cell_type": "markdown",
      "source": [
        "## Road condition\n",
        "\n",
        "    1 - normal\n",
        "\n",
        "    2 - wet\n",
        "\n",
        "    3 - puddles\n",
        "\n",
        "    4 - flooded\n",
        "\n",
        "    5 - snow\n",
        "\n",
        "    6 - mud\n",
        "\n",
        "    7 - icy\n",
        "\n",
        "    8 - fat - oil\n",
        "\n",
        "    9 - other\n"
      ],
      "metadata": {
        "id": "nW-lbGE_87Sg"
      }
    },
    {
      "cell_type": "code",
      "source": [
        "df['condition'].value_counts()"
      ],
      "metadata": {
        "colab": {
          "base_uri": "https://localhost:8080/"
        },
        "id": "934YWpJM9Dw6",
        "outputId": "9b3106e7-f982-43a9-f9bb-7655b4a46c17"
      },
      "execution_count": 68,
      "outputs": [
        {
          "output_type": "execute_result",
          "data": {
            "text/plain": [
              "1.0    652322\n",
              "2.0    143254\n",
              "0.0     26998\n",
              "7.0      5474\n",
              "9.0      4483\n",
              "5.0      2643\n",
              "8.0      2159\n",
              "3.0       861\n",
              "6.0       466\n",
              "4.0       308\n",
              "Name: condition, dtype: int64"
            ]
          },
          "metadata": {},
          "execution_count": 68
        }
      ]
    },
    {
      "cell_type": "code",
      "source": [
        "df['condition'].isna().sum()"
      ],
      "metadata": {
        "colab": {
          "base_uri": "https://localhost:8080/"
        },
        "id": "p0NxWsoO9ITO",
        "outputId": "1ca39e47-1008-4cdd-d0c2-433bc41ed857"
      },
      "execution_count": 69,
      "outputs": [
        {
          "output_type": "execute_result",
          "data": {
            "text/plain": [
              "1017"
            ]
          },
          "metadata": {},
          "execution_count": 69
        }
      ]
    },
    {
      "cell_type": "markdown",
      "source": [
        "## Infrastructure\n",
        "\n",
        "    1 - Underground - tunnel\n",
        "\n",
        "    2 - Bridge - autopont\n",
        "\n",
        "    3 - Exchanger or connection brace\n",
        "\n",
        "    4 - Railway\n",
        "\n",
        "    5 - Carrefour arranged\n",
        "\n",
        "    6 - Pedestrian area\n",
        "\n",
        "    7 - Toll zone\n"
      ],
      "metadata": {
        "id": "gDz3qOjl9L8S"
      }
    },
    {
      "cell_type": "code",
      "source": [
        "df['infrastructure'].value_counts()"
      ],
      "metadata": {
        "colab": {
          "base_uri": "https://localhost:8080/"
        },
        "id": "M1gT16K29TZX",
        "outputId": "4b0f12c9-7d31-47a6-9042-8d63bdc14b90"
      },
      "execution_count": 70,
      "outputs": [
        {
          "output_type": "execute_result",
          "data": {
            "text/plain": [
              "0.0    747965\n",
              "5.0     50330\n",
              "3.0     12853\n",
              "2.0     11720\n",
              "1.0      6994\n",
              "6.0      5299\n",
              "4.0      3034\n",
              "7.0       512\n",
              "Name: infrastructure, dtype: int64"
            ]
          },
          "metadata": {},
          "execution_count": 70
        }
      ]
    },
    {
      "cell_type": "code",
      "source": [
        "df['infrastructure'].isna().sum()"
      ],
      "metadata": {
        "colab": {
          "base_uri": "https://localhost:8080/"
        },
        "id": "OCCFXEjG9XZf",
        "outputId": "986a9370-43c5-420a-cd1f-500c75c797a3"
      },
      "execution_count": 71,
      "outputs": [
        {
          "output_type": "execute_result",
          "data": {
            "text/plain": [
              "1278"
            ]
          },
          "metadata": {},
          "execution_count": 71
        }
      ]
    },
    {
      "cell_type": "markdown",
      "source": [
        "## Accident situation\n",
        "\n",
        "    1 - On the road\n",
        "\n",
        "    2 - On emergency stop band\n",
        "\n",
        "    3 - On the verge\n",
        "\n",
        "    4 - On the sidewalk\n",
        "\n",
        "    5 - On bike path\n"
      ],
      "metadata": {
        "id": "0rHO6xdH9bWy"
      }
    },
    {
      "cell_type": "code",
      "source": [
        "df['situ'].value_counts()"
      ],
      "metadata": {
        "colab": {
          "base_uri": "https://localhost:8080/"
        },
        "id": "4y99BR409iJg",
        "outputId": "45c83380-62bb-4afb-8cdc-df75f78f76ae"
      },
      "execution_count": 73,
      "outputs": [
        {
          "output_type": "execute_result",
          "data": {
            "text/plain": [
              "1.0    722069\n",
              "3.0     48818\n",
              "0.0     43291\n",
              "4.0     14493\n",
              "2.0      5191\n",
              "5.0      5121\n",
              "Name: situ, dtype: int64"
            ]
          },
          "metadata": {},
          "execution_count": 73
        }
      ]
    },
    {
      "cell_type": "code",
      "source": [
        "df['situ'].isna().sum()"
      ],
      "metadata": {
        "colab": {
          "base_uri": "https://localhost:8080/"
        },
        "id": "PmX3Al5a9rHg",
        "outputId": "34b949bc-1d04-46d6-e785-5a5ad7bc071c"
      },
      "execution_count": 74,
      "outputs": [
        {
          "output_type": "execute_result",
          "data": {
            "text/plain": [
              "1002"
            ]
          },
          "metadata": {},
          "execution_count": 74
        }
      ]
    },
    {
      "cell_type": "markdown",
      "source": [
        "## Near school (?)"
      ],
      "metadata": {
        "id": "xl_cKvGQ98UT"
      }
    },
    {
      "cell_type": "code",
      "source": [
        "df['school'].value_counts()"
      ],
      "metadata": {
        "colab": {
          "base_uri": "https://localhost:8080/"
        },
        "id": "TCX6okxL978f",
        "outputId": "c2fadcc0-9430-4983-bfe4-694ca8bcbfed"
      },
      "execution_count": 75,
      "outputs": [
        {
          "output_type": "execute_result",
          "data": {
            "text/plain": [
              "0.0     477933\n",
              "99.0    319986\n",
              "3.0      40790\n",
              "Name: school, dtype: int64"
            ]
          },
          "metadata": {},
          "execution_count": 75
        }
      ]
    },
    {
      "cell_type": "code",
      "source": [
        "df['school'].isna().count()"
      ],
      "metadata": {
        "colab": {
          "base_uri": "https://localhost:8080/"
        },
        "id": "glJMZ8aq-F3j",
        "outputId": "9f58cff9-dd93-42b6-e0bf-547c26a7c9a7"
      },
      "execution_count": 76,
      "outputs": [
        {
          "output_type": "execute_result",
          "data": {
            "text/plain": [
              "839985"
            ]
          },
          "metadata": {},
          "execution_count": 76
        }
      ]
    },
    {
      "cell_type": "markdown",
      "source": [
        "# Notes\n",
        "\n",
        "## Problem points\n",
        "\n",
        "* The meaning of the **PR** field (and by associatoin the **PR distance** field) and the **near school** field is not clear from neither the description nor the actual values present in the data. A lot of rows are also missing these, it might be best to ignore these fields.\n",
        "\n",
        "* **Road number** and **V1** and **V2** most probably somehow correspond to the french road numbering system, but there are a large number of options and the meanings are not clear cut an there are a large number of missing rows for the latter two.\n",
        "\n",
        "* Completely unrealistic values pop up in the **number of lanes**.\n",
        "\n",
        "* **Width** and **central width** coloumn meanings are not exactly known.\n",
        "\n",
        "## Categorical data\n",
        "\n",
        "* There are a large number of columns which contain categorical data, these seem to be well generalizable via dummy columns."
      ],
      "metadata": {
        "id": "7SE6ZqQF96Js"
      }
    }
  ]
}