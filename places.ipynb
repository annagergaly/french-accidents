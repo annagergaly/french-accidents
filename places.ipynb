{
  "nbformat": 4,
  "nbformat_minor": 0,
  "metadata": {
    "colab": {
      "provenance": []
    },
    "kernelspec": {
      "name": "python3",
      "display_name": "Python 3"
    },
    "language_info": {
      "name": "python"
    }
  },
  "cells": [
    {
      "cell_type": "code",
      "execution_count": 1,
      "metadata": {
        "id": "qDsAh1YUTmvi"
      },
      "outputs": [],
      "source": [
        "import pandas as pd\n",
        "import numpy as np\n",
        "import matplotlib.pyplot as plt\n",
        "import random\n",
        "import seaborn as sns"
      ]
    },
    {
      "cell_type": "code",
      "source": [
        "from google.colab import drive\n",
        "drive.mount('/content/drive')"
      ],
      "metadata": {
        "colab": {
          "base_uri": "https://localhost:8080/"
        },
        "id": "1gyftNBmUFxg",
        "outputId": "d3333ab8-ecaf-46d0-d44b-536b9e21d899"
      },
      "execution_count": 2,
      "outputs": [
        {
          "output_type": "stream",
          "name": "stdout",
          "text": [
            "Drive already mounted at /content/drive; to attempt to forcibly remount, call drive.mount(\"/content/drive\", force_remount=True).\n"
          ]
        }
      ]
    },
    {
      "cell_type": "code",
      "source": [
        "path = \"/content/drive/MyDrive/French_accidents/places.csv\"\n",
        "df = pd.read_csv(path, low_memory=False)"
      ],
      "metadata": {
        "id": "bT10veceXGBa"
      },
      "execution_count": 3,
      "outputs": []
    },
    {
      "cell_type": "code",
      "source": [
        "df.rename( columns= { \"catr\": \"road_type\", \"voie\": \"road_num\", \"circ\": \"traffic_type\", \"nbv\": \"num_lanes\", \"vosp\": \"bike_lane_type\",\n",
        "                     \"prof\": \"terrain_type\", \"plan\": \"curve_type\", \"pr1\": \"pr_distance\", \"lartpc\": \"central_width\", \"larrout\": \"width\", \"surf\": \"condition\",\n",
        "                      \"infra\": \"infrastructure\", \"env1\": \"school\"}, inplace=True)"
      ],
      "metadata": {
        "id": "GPl5fF_cqN-I"
      },
      "execution_count": 4,
      "outputs": []
    },
    {
      "cell_type": "code",
      "source": [
        "df.count()"
      ],
      "metadata": {
        "colab": {
          "base_uri": "https://localhost:8080/"
        },
        "id": "sMj29E_dokY-",
        "outputId": "ab38c5a8-d0a4-4cca-eb9d-70e5c146c21d"
      },
      "execution_count": 5,
      "outputs": [
        {
          "output_type": "execute_result",
          "data": {
            "text/plain": [
              "Num_Acc           839985\n",
              "road_type         839984\n",
              "road_num          780914\n",
              "v1                332816\n",
              "v2                 33953\n",
              "traffic_type      839187\n",
              "num_lanes         838195\n",
              "pr                414770\n",
              "pr_distance       413463\n",
              "bike_lane_type    838345\n",
              "terrain_type      838924\n",
              "curve_type        838909\n",
              "central_width     830440\n",
              "width             831706\n",
              "condition         838968\n",
              "infrastructure    838707\n",
              "situ              838983\n",
              "school            838709\n",
              "dtype: int64"
            ]
          },
          "metadata": {},
          "execution_count": 5
        }
      ]
    },
    {
      "cell_type": "code",
      "source": [
        "df.head()"
      ],
      "metadata": {
        "colab": {
          "base_uri": "https://localhost:8080/",
          "height": 226
        },
        "id": "m4vkwta-adXZ",
        "outputId": "3d27c26f-170c-4b7f-81c3-601a6744227a"
      },
      "execution_count": 6,
      "outputs": [
        {
          "output_type": "execute_result",
          "data": {
            "text/plain": [
              "        Num_Acc  road_type road_num  v1   v2  traffic_type  num_lanes  pr  \\\n",
              "0  201600000001        3.0       39 NaN  NaN           2.0        0.0 NaN   \n",
              "1  201600000002        3.0       39 NaN  NaN           1.0        0.0 NaN   \n",
              "2  201600000003        3.0        1 NaN  NaN           2.0        2.0 NaN   \n",
              "3  201600000004        4.0        0 NaN  NaN           2.0        0.0 NaN   \n",
              "4  201600000005        4.0        0 NaN  NaN           0.0        0.0 NaN   \n",
              "\n",
              "   pr_distance  bike_lane_type  terrain_type  curve_type  central_width  \\\n",
              "0          NaN             0.0           1.0         3.0            0.0   \n",
              "1          NaN             0.0           1.0         2.0            0.0   \n",
              "2          NaN             0.0           1.0         3.0            0.0   \n",
              "3          NaN             0.0           1.0         1.0            0.0   \n",
              "4          NaN             0.0           0.0         1.0            0.0   \n",
              "\n",
              "   width  condition  infrastructure  situ  school  \n",
              "0    0.0        1.0             0.0   1.0     0.0  \n",
              "1   58.0        1.0             0.0   1.0     0.0  \n",
              "2   68.0        2.0             0.0   3.0    99.0  \n",
              "3    0.0        1.0             0.0   1.0    99.0  \n",
              "4    0.0        1.0             0.0   1.0     3.0  "
            ],
            "text/html": [
              "\n",
              "  <div id=\"df-2807ddc8-0538-43e6-8074-8c5e3451b6d5\" class=\"colab-df-container\">\n",
              "    <div>\n",
              "<style scoped>\n",
              "    .dataframe tbody tr th:only-of-type {\n",
              "        vertical-align: middle;\n",
              "    }\n",
              "\n",
              "    .dataframe tbody tr th {\n",
              "        vertical-align: top;\n",
              "    }\n",
              "\n",
              "    .dataframe thead th {\n",
              "        text-align: right;\n",
              "    }\n",
              "</style>\n",
              "<table border=\"1\" class=\"dataframe\">\n",
              "  <thead>\n",
              "    <tr style=\"text-align: right;\">\n",
              "      <th></th>\n",
              "      <th>Num_Acc</th>\n",
              "      <th>road_type</th>\n",
              "      <th>road_num</th>\n",
              "      <th>v1</th>\n",
              "      <th>v2</th>\n",
              "      <th>traffic_type</th>\n",
              "      <th>num_lanes</th>\n",
              "      <th>pr</th>\n",
              "      <th>pr_distance</th>\n",
              "      <th>bike_lane_type</th>\n",
              "      <th>terrain_type</th>\n",
              "      <th>curve_type</th>\n",
              "      <th>central_width</th>\n",
              "      <th>width</th>\n",
              "      <th>condition</th>\n",
              "      <th>infrastructure</th>\n",
              "      <th>situ</th>\n",
              "      <th>school</th>\n",
              "    </tr>\n",
              "  </thead>\n",
              "  <tbody>\n",
              "    <tr>\n",
              "      <th>0</th>\n",
              "      <td>201600000001</td>\n",
              "      <td>3.0</td>\n",
              "      <td>39</td>\n",
              "      <td>NaN</td>\n",
              "      <td>NaN</td>\n",
              "      <td>2.0</td>\n",
              "      <td>0.0</td>\n",
              "      <td>NaN</td>\n",
              "      <td>NaN</td>\n",
              "      <td>0.0</td>\n",
              "      <td>1.0</td>\n",
              "      <td>3.0</td>\n",
              "      <td>0.0</td>\n",
              "      <td>0.0</td>\n",
              "      <td>1.0</td>\n",
              "      <td>0.0</td>\n",
              "      <td>1.0</td>\n",
              "      <td>0.0</td>\n",
              "    </tr>\n",
              "    <tr>\n",
              "      <th>1</th>\n",
              "      <td>201600000002</td>\n",
              "      <td>3.0</td>\n",
              "      <td>39</td>\n",
              "      <td>NaN</td>\n",
              "      <td>NaN</td>\n",
              "      <td>1.0</td>\n",
              "      <td>0.0</td>\n",
              "      <td>NaN</td>\n",
              "      <td>NaN</td>\n",
              "      <td>0.0</td>\n",
              "      <td>1.0</td>\n",
              "      <td>2.0</td>\n",
              "      <td>0.0</td>\n",
              "      <td>58.0</td>\n",
              "      <td>1.0</td>\n",
              "      <td>0.0</td>\n",
              "      <td>1.0</td>\n",
              "      <td>0.0</td>\n",
              "    </tr>\n",
              "    <tr>\n",
              "      <th>2</th>\n",
              "      <td>201600000003</td>\n",
              "      <td>3.0</td>\n",
              "      <td>1</td>\n",
              "      <td>NaN</td>\n",
              "      <td>NaN</td>\n",
              "      <td>2.0</td>\n",
              "      <td>2.0</td>\n",
              "      <td>NaN</td>\n",
              "      <td>NaN</td>\n",
              "      <td>0.0</td>\n",
              "      <td>1.0</td>\n",
              "      <td>3.0</td>\n",
              "      <td>0.0</td>\n",
              "      <td>68.0</td>\n",
              "      <td>2.0</td>\n",
              "      <td>0.0</td>\n",
              "      <td>3.0</td>\n",
              "      <td>99.0</td>\n",
              "    </tr>\n",
              "    <tr>\n",
              "      <th>3</th>\n",
              "      <td>201600000004</td>\n",
              "      <td>4.0</td>\n",
              "      <td>0</td>\n",
              "      <td>NaN</td>\n",
              "      <td>NaN</td>\n",
              "      <td>2.0</td>\n",
              "      <td>0.0</td>\n",
              "      <td>NaN</td>\n",
              "      <td>NaN</td>\n",
              "      <td>0.0</td>\n",
              "      <td>1.0</td>\n",
              "      <td>1.0</td>\n",
              "      <td>0.0</td>\n",
              "      <td>0.0</td>\n",
              "      <td>1.0</td>\n",
              "      <td>0.0</td>\n",
              "      <td>1.0</td>\n",
              "      <td>99.0</td>\n",
              "    </tr>\n",
              "    <tr>\n",
              "      <th>4</th>\n",
              "      <td>201600000005</td>\n",
              "      <td>4.0</td>\n",
              "      <td>0</td>\n",
              "      <td>NaN</td>\n",
              "      <td>NaN</td>\n",
              "      <td>0.0</td>\n",
              "      <td>0.0</td>\n",
              "      <td>NaN</td>\n",
              "      <td>NaN</td>\n",
              "      <td>0.0</td>\n",
              "      <td>0.0</td>\n",
              "      <td>1.0</td>\n",
              "      <td>0.0</td>\n",
              "      <td>0.0</td>\n",
              "      <td>1.0</td>\n",
              "      <td>0.0</td>\n",
              "      <td>1.0</td>\n",
              "      <td>3.0</td>\n",
              "    </tr>\n",
              "  </tbody>\n",
              "</table>\n",
              "</div>\n",
              "    <div class=\"colab-df-buttons\">\n",
              "\n",
              "  <div class=\"colab-df-container\">\n",
              "    <button class=\"colab-df-convert\" onclick=\"convertToInteractive('df-2807ddc8-0538-43e6-8074-8c5e3451b6d5')\"\n",
              "            title=\"Convert this dataframe to an interactive table.\"\n",
              "            style=\"display:none;\">\n",
              "\n",
              "  <svg xmlns=\"http://www.w3.org/2000/svg\" height=\"24px\" viewBox=\"0 -960 960 960\">\n",
              "    <path d=\"M120-120v-720h720v720H120Zm60-500h600v-160H180v160Zm220 220h160v-160H400v160Zm0 220h160v-160H400v160ZM180-400h160v-160H180v160Zm440 0h160v-160H620v160ZM180-180h160v-160H180v160Zm440 0h160v-160H620v160Z\"/>\n",
              "  </svg>\n",
              "    </button>\n",
              "\n",
              "  <style>\n",
              "    .colab-df-container {\n",
              "      display:flex;\n",
              "      gap: 12px;\n",
              "    }\n",
              "\n",
              "    .colab-df-convert {\n",
              "      background-color: #E8F0FE;\n",
              "      border: none;\n",
              "      border-radius: 50%;\n",
              "      cursor: pointer;\n",
              "      display: none;\n",
              "      fill: #1967D2;\n",
              "      height: 32px;\n",
              "      padding: 0 0 0 0;\n",
              "      width: 32px;\n",
              "    }\n",
              "\n",
              "    .colab-df-convert:hover {\n",
              "      background-color: #E2EBFA;\n",
              "      box-shadow: 0px 1px 2px rgba(60, 64, 67, 0.3), 0px 1px 3px 1px rgba(60, 64, 67, 0.15);\n",
              "      fill: #174EA6;\n",
              "    }\n",
              "\n",
              "    .colab-df-buttons div {\n",
              "      margin-bottom: 4px;\n",
              "    }\n",
              "\n",
              "    [theme=dark] .colab-df-convert {\n",
              "      background-color: #3B4455;\n",
              "      fill: #D2E3FC;\n",
              "    }\n",
              "\n",
              "    [theme=dark] .colab-df-convert:hover {\n",
              "      background-color: #434B5C;\n",
              "      box-shadow: 0px 1px 3px 1px rgba(0, 0, 0, 0.15);\n",
              "      filter: drop-shadow(0px 1px 2px rgba(0, 0, 0, 0.3));\n",
              "      fill: #FFFFFF;\n",
              "    }\n",
              "  </style>\n",
              "\n",
              "    <script>\n",
              "      const buttonEl =\n",
              "        document.querySelector('#df-2807ddc8-0538-43e6-8074-8c5e3451b6d5 button.colab-df-convert');\n",
              "      buttonEl.style.display =\n",
              "        google.colab.kernel.accessAllowed ? 'block' : 'none';\n",
              "\n",
              "      async function convertToInteractive(key) {\n",
              "        const element = document.querySelector('#df-2807ddc8-0538-43e6-8074-8c5e3451b6d5');\n",
              "        const dataTable =\n",
              "          await google.colab.kernel.invokeFunction('convertToInteractive',\n",
              "                                                    [key], {});\n",
              "        if (!dataTable) return;\n",
              "\n",
              "        const docLinkHtml = 'Like what you see? Visit the ' +\n",
              "          '<a target=\"_blank\" href=https://colab.research.google.com/notebooks/data_table.ipynb>data table notebook</a>'\n",
              "          + ' to learn more about interactive tables.';\n",
              "        element.innerHTML = '';\n",
              "        dataTable['output_type'] = 'display_data';\n",
              "        await google.colab.output.renderOutput(dataTable, element);\n",
              "        const docLink = document.createElement('div');\n",
              "        docLink.innerHTML = docLinkHtml;\n",
              "        element.appendChild(docLink);\n",
              "      }\n",
              "    </script>\n",
              "  </div>\n",
              "\n",
              "\n",
              "<div id=\"df-45a9d442-668f-4753-a62d-0d13a3887864\">\n",
              "  <button class=\"colab-df-quickchart\" onclick=\"quickchart('df-45a9d442-668f-4753-a62d-0d13a3887864')\"\n",
              "            title=\"Suggest charts\"\n",
              "            style=\"display:none;\">\n",
              "\n",
              "<svg xmlns=\"http://www.w3.org/2000/svg\" height=\"24px\"viewBox=\"0 0 24 24\"\n",
              "     width=\"24px\">\n",
              "    <g>\n",
              "        <path d=\"M19 3H5c-1.1 0-2 .9-2 2v14c0 1.1.9 2 2 2h14c1.1 0 2-.9 2-2V5c0-1.1-.9-2-2-2zM9 17H7v-7h2v7zm4 0h-2V7h2v10zm4 0h-2v-4h2v4z\"/>\n",
              "    </g>\n",
              "</svg>\n",
              "  </button>\n",
              "\n",
              "<style>\n",
              "  .colab-df-quickchart {\n",
              "      --bg-color: #E8F0FE;\n",
              "      --fill-color: #1967D2;\n",
              "      --hover-bg-color: #E2EBFA;\n",
              "      --hover-fill-color: #174EA6;\n",
              "      --disabled-fill-color: #AAA;\n",
              "      --disabled-bg-color: #DDD;\n",
              "  }\n",
              "\n",
              "  [theme=dark] .colab-df-quickchart {\n",
              "      --bg-color: #3B4455;\n",
              "      --fill-color: #D2E3FC;\n",
              "      --hover-bg-color: #434B5C;\n",
              "      --hover-fill-color: #FFFFFF;\n",
              "      --disabled-bg-color: #3B4455;\n",
              "      --disabled-fill-color: #666;\n",
              "  }\n",
              "\n",
              "  .colab-df-quickchart {\n",
              "    background-color: var(--bg-color);\n",
              "    border: none;\n",
              "    border-radius: 50%;\n",
              "    cursor: pointer;\n",
              "    display: none;\n",
              "    fill: var(--fill-color);\n",
              "    height: 32px;\n",
              "    padding: 0;\n",
              "    width: 32px;\n",
              "  }\n",
              "\n",
              "  .colab-df-quickchart:hover {\n",
              "    background-color: var(--hover-bg-color);\n",
              "    box-shadow: 0 1px 2px rgba(60, 64, 67, 0.3), 0 1px 3px 1px rgba(60, 64, 67, 0.15);\n",
              "    fill: var(--button-hover-fill-color);\n",
              "  }\n",
              "\n",
              "  .colab-df-quickchart-complete:disabled,\n",
              "  .colab-df-quickchart-complete:disabled:hover {\n",
              "    background-color: var(--disabled-bg-color);\n",
              "    fill: var(--disabled-fill-color);\n",
              "    box-shadow: none;\n",
              "  }\n",
              "\n",
              "  .colab-df-spinner {\n",
              "    border: 2px solid var(--fill-color);\n",
              "    border-color: transparent;\n",
              "    border-bottom-color: var(--fill-color);\n",
              "    animation:\n",
              "      spin 1s steps(1) infinite;\n",
              "  }\n",
              "\n",
              "  @keyframes spin {\n",
              "    0% {\n",
              "      border-color: transparent;\n",
              "      border-bottom-color: var(--fill-color);\n",
              "      border-left-color: var(--fill-color);\n",
              "    }\n",
              "    20% {\n",
              "      border-color: transparent;\n",
              "      border-left-color: var(--fill-color);\n",
              "      border-top-color: var(--fill-color);\n",
              "    }\n",
              "    30% {\n",
              "      border-color: transparent;\n",
              "      border-left-color: var(--fill-color);\n",
              "      border-top-color: var(--fill-color);\n",
              "      border-right-color: var(--fill-color);\n",
              "    }\n",
              "    40% {\n",
              "      border-color: transparent;\n",
              "      border-right-color: var(--fill-color);\n",
              "      border-top-color: var(--fill-color);\n",
              "    }\n",
              "    60% {\n",
              "      border-color: transparent;\n",
              "      border-right-color: var(--fill-color);\n",
              "    }\n",
              "    80% {\n",
              "      border-color: transparent;\n",
              "      border-right-color: var(--fill-color);\n",
              "      border-bottom-color: var(--fill-color);\n",
              "    }\n",
              "    90% {\n",
              "      border-color: transparent;\n",
              "      border-bottom-color: var(--fill-color);\n",
              "    }\n",
              "  }\n",
              "</style>\n",
              "\n",
              "  <script>\n",
              "    async function quickchart(key) {\n",
              "      const quickchartButtonEl =\n",
              "        document.querySelector('#' + key + ' button');\n",
              "      quickchartButtonEl.disabled = true;  // To prevent multiple clicks.\n",
              "      quickchartButtonEl.classList.add('colab-df-spinner');\n",
              "      try {\n",
              "        const charts = await google.colab.kernel.invokeFunction(\n",
              "            'suggestCharts', [key], {});\n",
              "      } catch (error) {\n",
              "        console.error('Error during call to suggestCharts:', error);\n",
              "      }\n",
              "      quickchartButtonEl.classList.remove('colab-df-spinner');\n",
              "      quickchartButtonEl.classList.add('colab-df-quickchart-complete');\n",
              "    }\n",
              "    (() => {\n",
              "      let quickchartButtonEl =\n",
              "        document.querySelector('#df-45a9d442-668f-4753-a62d-0d13a3887864 button');\n",
              "      quickchartButtonEl.style.display =\n",
              "        google.colab.kernel.accessAllowed ? 'block' : 'none';\n",
              "    })();\n",
              "  </script>\n",
              "</div>\n",
              "    </div>\n",
              "  </div>\n"
            ],
            "application/vnd.google.colaboratory.intrinsic+json": {
              "type": "dataframe",
              "variable_name": "df"
            }
          },
          "metadata": {},
          "execution_count": 6
        }
      ]
    },
    {
      "cell_type": "markdown",
      "source": [
        "## Road Type\n",
        "\n",
        "    1 - Highway\n",
        "\n",
        "    2 - National Road\n",
        "\n",
        "    3 - Departmental Road\n",
        "\n",
        "    4 - Communal Way\n",
        "\n",
        "    5 - Off public network\n",
        "\n",
        "    6 - Parking lot open to public traffic\n",
        "\n",
        "    9 - other\n"
      ],
      "metadata": {
        "id": "SHm5znUO3Yro"
      }
    },
    {
      "cell_type": "code",
      "source": [
        "df['road_type'].value_counts()"
      ],
      "metadata": {
        "colab": {
          "base_uri": "https://localhost:8080/"
        },
        "id": "ajKi7-yKi1gN",
        "outputId": "758a0997-9395-4e19-8e9a-7aa60eb4439d"
      },
      "execution_count": 7,
      "outputs": [
        {
          "output_type": "execute_result",
          "data": {
            "text/plain": [
              "4.0    425061\n",
              "3.0    262690\n",
              "2.0     67918\n",
              "1.0     61077\n",
              "9.0     16084\n",
              "6.0      5520\n",
              "5.0      1634\n",
              "Name: road_type, dtype: int64"
            ]
          },
          "metadata": {},
          "execution_count": 7
        }
      ]
    },
    {
      "cell_type": "code",
      "source": [
        "df['road_type'].isna().sum()"
      ],
      "metadata": {
        "colab": {
          "base_uri": "https://localhost:8080/"
        },
        "id": "CRF_Bd1H35kE",
        "outputId": "ee0e5d90-e16e-4af3-adbc-1864d2085195"
      },
      "execution_count": 8,
      "outputs": [
        {
          "output_type": "execute_result",
          "data": {
            "text/plain": [
              "1"
            ]
          },
          "metadata": {},
          "execution_count": 8
        }
      ]
    },
    {
      "cell_type": "code",
      "source": [
        "df['road_type'].fillna(9.0, inplace=True)"
      ],
      "metadata": {
        "id": "WlN_Z5eA4MPt"
      },
      "execution_count": 9,
      "outputs": []
    },
    {
      "cell_type": "markdown",
      "source": [
        "## Road number"
      ],
      "metadata": {
        "id": "U5ezoNXp3prW"
      }
    },
    {
      "cell_type": "code",
      "source": [
        "df['road_num'].value_counts()"
      ],
      "metadata": {
        "colab": {
          "base_uri": "https://localhost:8080/"
        },
        "id": "ngeZnlM5kTQb",
        "outputId": "56eeb466-f414-4e25-f5c5-8efc79806590"
      },
      "execution_count": 10,
      "outputs": [
        {
          "output_type": "execute_result",
          "data": {
            "text/plain": [
              "0        451032\n",
              "1         22224\n",
              "6          8953\n",
              "7          8055\n",
              "4          7173\n",
              "          ...  \n",
              "00CR7         1\n",
              "2913          1\n",
              "00D75         1\n",
              "00D18         1\n",
              "1560          1\n",
              "Name: road_num, Length: 1087, dtype: int64"
            ]
          },
          "metadata": {},
          "execution_count": 10
        }
      ]
    },
    {
      "cell_type": "code",
      "source": [
        "df.drop('road_num', axis=1, inplace=True)"
      ],
      "metadata": {
        "id": "wqd4FOhi41bv"
      },
      "execution_count": 11,
      "outputs": []
    },
    {
      "cell_type": "markdown",
      "source": [
        "## V1\n",
        "\n",
        "Route number numeric index (?)"
      ],
      "metadata": {
        "id": "WQ8rKS_35BBo"
      }
    },
    {
      "cell_type": "code",
      "source": [
        "df['v1'].value_counts()"
      ],
      "metadata": {
        "colab": {
          "base_uri": "https://localhost:8080/"
        },
        "id": "bJYRVD9dn7Ji",
        "outputId": "33e5779d-ec8f-45fb-f8ba-b94542cb51ae"
      },
      "execution_count": 12,
      "outputs": [
        {
          "output_type": "execute_result",
          "data": {
            "text/plain": [
              "0.0    325698\n",
              "2.0      3307\n",
              "1.0      1020\n",
              "3.0       768\n",
              "6.0       461\n",
              "4.0       396\n",
              "7.0       392\n",
              "9.0       295\n",
              "8.0       247\n",
              "5.0       232\n",
              "Name: v1, dtype: int64"
            ]
          },
          "metadata": {},
          "execution_count": 12
        }
      ]
    },
    {
      "cell_type": "code",
      "source": [
        "df['v1'].isna().sum()"
      ],
      "metadata": {
        "colab": {
          "base_uri": "https://localhost:8080/"
        },
        "id": "dUqAyUcyoDRB",
        "outputId": "c5ba9414-5e14-49d9-a5a4-7f24ab382021"
      },
      "execution_count": 13,
      "outputs": [
        {
          "output_type": "execute_result",
          "data": {
            "text/plain": [
              "507169"
            ]
          },
          "metadata": {},
          "execution_count": 13
        }
      ]
    },
    {
      "cell_type": "code",
      "source": [
        "df.drop('v1', axis=1, inplace=True)"
      ],
      "metadata": {
        "id": "285hqISP_ZFG"
      },
      "execution_count": 14,
      "outputs": []
    },
    {
      "cell_type": "markdown",
      "source": [
        "## V2\n",
        "\n",
        "Letter alphanumeric index of road"
      ],
      "metadata": {
        "id": "Kt_T17CP5Tn2"
      }
    },
    {
      "cell_type": "code",
      "source": [
        "df['v2'].value_counts()"
      ],
      "metadata": {
        "colab": {
          "base_uri": "https://localhost:8080/"
        },
        "id": "z_nZR7LnptqA",
        "outputId": "9024f5eb-3905-4d8c-b8db-cd1e48089be4"
      },
      "execution_count": 15,
      "outputs": [
        {
          "output_type": "execute_result",
          "data": {
            "text/plain": [
              "A    20069\n",
              "D     2200\n",
              "N     1976\n",
              "E     1942\n",
              "B     1372\n",
              "0     1091\n",
              "C     1011\n",
              "a      879\n",
              "b      778\n",
              "\u0004      537\n",
              "F      263\n",
              "e      213\n",
              "S      177\n",
              "G      140\n",
              "1      134\n",
              "R      114\n",
              "L       99\n",
              "2       92\n",
              "P       77\n",
              "J       71\n",
              "H       70\n",
              "3       70\n",
              "M       63\n",
              "K       52\n",
              "Z       42\n",
              "4       38\n",
              "n       35\n",
              "c       34\n",
              "s       34\n",
              "T       33\n",
              "W       31\n",
              "5       27\n",
              "6       27\n",
              "I       25\n",
              "V       21\n",
              "z       16\n",
              "d       15\n",
              "m       11\n",
              "7       11\n",
              "8       10\n",
              "9        9\n",
              "Y        7\n",
              "O        7\n",
              "Q        7\n",
              "l        4\n",
              "t        3\n",
              "U        3\n",
              "g        2\n",
              "r        2\n",
              "v        2\n",
              "p        2\n",
              "f        2\n",
              "X        1\n",
              "w        1\n",
              "y        1\n",
              "Name: v2, dtype: int64"
            ]
          },
          "metadata": {},
          "execution_count": 15
        }
      ]
    },
    {
      "cell_type": "code",
      "source": [
        "df['v2'].isna().sum()"
      ],
      "metadata": {
        "colab": {
          "base_uri": "https://localhost:8080/"
        },
        "id": "la7-glaM5cdU",
        "outputId": "d23aa6ca-a59d-4990-d3e3-6cee2ef9a79a"
      },
      "execution_count": 16,
      "outputs": [
        {
          "output_type": "execute_result",
          "data": {
            "text/plain": [
              "806032"
            ]
          },
          "metadata": {},
          "execution_count": 16
        }
      ]
    },
    {
      "cell_type": "code",
      "source": [
        "df.drop('v2', axis=1, inplace=True)"
      ],
      "metadata": {
        "id": "X25LTVin_hWG"
      },
      "execution_count": 17,
      "outputs": []
    },
    {
      "cell_type": "markdown",
      "source": [
        "## Traffic type\n",
        "\n",
        "    1 - One way\n",
        "\n",
        "    2 - Bidirectional\n",
        "\n",
        "    3 - Separated carriageways\n",
        "\n",
        "    4 - With variable assignment channels\n"
      ],
      "metadata": {
        "id": "P3hKqVXL5l_k"
      }
    },
    {
      "cell_type": "code",
      "source": [
        "df['traffic_type'].value_counts()"
      ],
      "metadata": {
        "colab": {
          "base_uri": "https://localhost:8080/"
        },
        "id": "DSBtlNDF5txy",
        "outputId": "e026a4fb-0ec2-4ade-c8b8-c2fcdf539ccf"
      },
      "execution_count": 18,
      "outputs": [
        {
          "output_type": "execute_result",
          "data": {
            "text/plain": [
              "2.0    532823\n",
              "1.0    149375\n",
              "3.0    107855\n",
              "0.0     44556\n",
              "4.0      4578\n",
              "Name: traffic_type, dtype: int64"
            ]
          },
          "metadata": {},
          "execution_count": 18
        }
      ]
    },
    {
      "cell_type": "code",
      "source": [
        "df['traffic_type'].isna().sum()"
      ],
      "metadata": {
        "colab": {
          "base_uri": "https://localhost:8080/"
        },
        "id": "LAVhVLfs59ff",
        "outputId": "da845f51-d555-42d3-b777-d2e17d79437d"
      },
      "execution_count": 19,
      "outputs": [
        {
          "output_type": "execute_result",
          "data": {
            "text/plain": [
              "798"
            ]
          },
          "metadata": {},
          "execution_count": 19
        }
      ]
    },
    {
      "cell_type": "markdown",
      "source": [
        "Filling missing values with the most common value"
      ],
      "metadata": {
        "id": "4RU2q6S4_zzP"
      }
    },
    {
      "cell_type": "code",
      "source": [
        "df['traffic_type'].fillna(2.0, inplace=True)"
      ],
      "metadata": {
        "id": "lFwVHK9X6Dy9"
      },
      "execution_count": 20,
      "outputs": []
    },
    {
      "cell_type": "markdown",
      "source": [
        "## Number of lanes"
      ],
      "metadata": {
        "id": "ixXAUg8n6SZt"
      }
    },
    {
      "cell_type": "code",
      "source": [
        "df['traffic_type'].isna().sum()"
      ],
      "metadata": {
        "colab": {
          "base_uri": "https://localhost:8080/"
        },
        "id": "vWRMMHfD6crt",
        "outputId": "b2bbe2fc-0bfa-4220-c1e2-c1dcf5876b1d"
      },
      "execution_count": 21,
      "outputs": [
        {
          "output_type": "execute_result",
          "data": {
            "text/plain": [
              "0"
            ]
          },
          "metadata": {},
          "execution_count": 21
        }
      ]
    },
    {
      "cell_type": "code",
      "source": [
        "df['num_lanes'].plot(kind='hist', bins=50)"
      ],
      "metadata": {
        "colab": {
          "base_uri": "https://localhost:8080/",
          "height": 448
        },
        "id": "KRQkLNw3Aa15",
        "outputId": "59afc25c-1ee4-4c60-8d42-b5d8db0d87ee"
      },
      "execution_count": 22,
      "outputs": [
        {
          "output_type": "execute_result",
          "data": {
            "text/plain": [
              "<Axes: ylabel='Frequency'>"
            ]
          },
          "metadata": {},
          "execution_count": 22
        },
        {
          "output_type": "display_data",
          "data": {
            "text/plain": [
              "<Figure size 640x480 with 1 Axes>"
            ],
            "image/png": "[encoded data removed]"
          },
          "metadata": {}
        }
      ]
    },
    {
      "cell_type": "code",
      "source": [
        "df['num_lanes'] = df['num_lanes'].apply(lambda x: 2.0 if x > 10 else x)"
      ],
      "metadata": {
        "id": "a4n0JKJhCzM_"
      },
      "execution_count": 23,
      "outputs": []
    },
    {
      "cell_type": "code",
      "source": [
        "df['num_lanes'].fillna(2.0, inplace=True)"
      ],
      "metadata": {
        "id": "ZRLQ8-ja6hFZ"
      },
      "execution_count": 24,
      "outputs": []
    },
    {
      "cell_type": "code",
      "source": [
        "df['num_lanes'].plot(kind='hist', bins=11)"
      ],
      "metadata": {
        "colab": {
          "base_uri": "https://localhost:8080/",
          "height": 448
        },
        "id": "r5ITQ3vqF0fF",
        "outputId": "206fefa2-957f-46ad-d749-9fb67658903d"
      },
      "execution_count": 25,
      "outputs": [
        {
          "output_type": "execute_result",
          "data": {
            "text/plain": [
              "<Axes: ylabel='Frequency'>"
            ]
          },
          "metadata": {},
          "execution_count": 25
        },
        {
          "output_type": "display_data",
          "data": {
            "text/plain": [
              "<Figure size 640x480 with 1 Axes>"
            ],
            "image/png": "[encoded data removed]"
          },
          "metadata": {}
        }
      ]
    },
    {
      "cell_type": "markdown",
      "source": [
        "## Bike lane\n",
        "\n",
        "    1 - Bike path\n",
        "\n",
        "    2 - Cycle Bank\n",
        "\n",
        "    3 - Reserved channel\n"
      ],
      "metadata": {
        "id": "JZIodlcu6l1X"
      }
    },
    {
      "cell_type": "code",
      "source": [
        "df['bike_lane_type'].value_counts()"
      ],
      "metadata": {
        "colab": {
          "base_uri": "https://localhost:8080/"
        },
        "id": "aVVhpPrm6pkF",
        "outputId": "e66dcbcb-5fd4-4779-9cb7-b97103c92d04"
      },
      "execution_count": 26,
      "outputs": [
        {
          "output_type": "execute_result",
          "data": {
            "text/plain": [
              "0.0    787021\n",
              "3.0     23473\n",
              "1.0     16570\n",
              "2.0     11281\n",
              "Name: bike_lane_type, dtype: int64"
            ]
          },
          "metadata": {},
          "execution_count": 26
        }
      ]
    },
    {
      "cell_type": "code",
      "source": [
        "df['bike_lane_type'].isna().sum()"
      ],
      "metadata": {
        "colab": {
          "base_uri": "https://localhost:8080/"
        },
        "id": "Fu2MPUEo6wdn",
        "outputId": "a1fa14c4-7281-4d51-a6ae-be363fb66e91"
      },
      "execution_count": 27,
      "outputs": [
        {
          "output_type": "execute_result",
          "data": {
            "text/plain": [
              "1640"
            ]
          },
          "metadata": {},
          "execution_count": 27
        }
      ]
    },
    {
      "cell_type": "code",
      "source": [
        "df['bike_lane_type'].fillna(0.0, inplace=True)"
      ],
      "metadata": {
        "id": "FS3OIUXT61Vb"
      },
      "execution_count": 28,
      "outputs": []
    },
    {
      "cell_type": "markdown",
      "source": [
        "## Terrain\n",
        "\n",
        "    1 - Dish\n",
        "\n",
        "    2 - Slope\n",
        "\n",
        "    3 - Hilltop\n",
        "\n",
        "    4- Hill bottom\n",
        "\n"
      ],
      "metadata": {
        "id": "30awdo2h7Akm"
      }
    },
    {
      "cell_type": "code",
      "source": [
        "df['terrain_type'].value_counts()"
      ],
      "metadata": {
        "colab": {
          "base_uri": "https://localhost:8080/"
        },
        "id": "3YNkv6vm7GE5",
        "outputId": "01e726f6-06a9-46b0-e1ec-304440829d0e"
      },
      "execution_count": 29,
      "outputs": [
        {
          "output_type": "execute_result",
          "data": {
            "text/plain": [
              "1.0    634776\n",
              "2.0    114043\n",
              "0.0     63894\n",
              "3.0     15130\n",
              "4.0     11081\n",
              "Name: terrain_type, dtype: int64"
            ]
          },
          "metadata": {},
          "execution_count": 29
        }
      ]
    },
    {
      "cell_type": "code",
      "source": [
        "df['terrain_type'].isna().sum()"
      ],
      "metadata": {
        "colab": {
          "base_uri": "https://localhost:8080/"
        },
        "id": "NolxfNC37Q7L",
        "outputId": "e7528c4e-c87e-4049-9150-6b019829bd5f"
      },
      "execution_count": 30,
      "outputs": [
        {
          "output_type": "execute_result",
          "data": {
            "text/plain": [
              "1061"
            ]
          },
          "metadata": {},
          "execution_count": 30
        }
      ]
    },
    {
      "cell_type": "code",
      "source": [
        "df['terrain_type'].fillna(1.0, inplace=True)"
      ],
      "metadata": {
        "id": "dln1_zl57VOy"
      },
      "execution_count": 31,
      "outputs": []
    },
    {
      "cell_type": "markdown",
      "source": [
        "## PR number (?)"
      ],
      "metadata": {
        "id": "Y2AIfCPn7ZSH"
      }
    },
    {
      "cell_type": "code",
      "source": [
        "df['pr'].value_counts()"
      ],
      "metadata": {
        "colab": {
          "base_uri": "https://localhost:8080/"
        },
        "id": "IIxQ9fyN7clb",
        "outputId": "8f394966-78f9-4779-8b1c-63c8e960480a"
      },
      "execution_count": 32,
      "outputs": [
        {
          "output_type": "execute_result",
          "data": {
            "text/plain": [
              "0.0       129543\n",
              "1.0        29888\n",
              "2.0        14437\n",
              "3.0        11661\n",
              "4.0         9761\n",
              "           ...  \n",
              "474.0          1\n",
              "475.0          1\n",
              "4000.0         1\n",
              "2600.0         1\n",
              "1125.0         1\n",
              "Name: pr, Length: 736, dtype: int64"
            ]
          },
          "metadata": {},
          "execution_count": 32
        }
      ]
    },
    {
      "cell_type": "code",
      "source": [
        "df['pr'].isna().sum()"
      ],
      "metadata": {
        "colab": {
          "base_uri": "https://localhost:8080/"
        },
        "id": "YB34K-jt7hdA",
        "outputId": "06934ae1-4981-49ee-f896-77f1f8bebcbf"
      },
      "execution_count": 33,
      "outputs": [
        {
          "output_type": "execute_result",
          "data": {
            "text/plain": [
              "425215"
            ]
          },
          "metadata": {},
          "execution_count": 33
        }
      ]
    },
    {
      "cell_type": "code",
      "source": [
        "df.drop('pr', axis=1, inplace=True)"
      ],
      "metadata": {
        "id": "aOR6lccpMGER"
      },
      "execution_count": 34,
      "outputs": []
    },
    {
      "cell_type": "markdown",
      "source": [
        "## PR distance (?)"
      ],
      "metadata": {
        "id": "DTGz-C997mT3"
      }
    },
    {
      "cell_type": "code",
      "source": [
        "df['pr_distance'].value_counts()"
      ],
      "metadata": {
        "colab": {
          "base_uri": "https://localhost:8080/"
        },
        "id": "HwV9YaWj7p1Z",
        "outputId": "97b380ae-1d0f-4ed9-ac22-b179e06eca5c"
      },
      "execution_count": 35,
      "outputs": [
        {
          "output_type": "execute_result",
          "data": {
            "text/plain": [
              "0.0       173181\n",
              "500.0      25276\n",
              "200.0      15199\n",
              "800.0      14751\n",
              "100.0      13998\n",
              "           ...  \n",
              "2101.0         1\n",
              "1465.0         1\n",
              "1278.0         1\n",
              "1659.0         1\n",
              "3437.0         1\n",
              "Name: pr_distance, Length: 2127, dtype: int64"
            ]
          },
          "metadata": {},
          "execution_count": 35
        }
      ]
    },
    {
      "cell_type": "code",
      "source": [
        "df['pr_distance'].isna().sum()"
      ],
      "metadata": {
        "colab": {
          "base_uri": "https://localhost:8080/"
        },
        "id": "1oeU1rqo7vSi",
        "outputId": "7f9b751c-d876-4a00-85c2-e7e17e7bff36"
      },
      "execution_count": 36,
      "outputs": [
        {
          "output_type": "execute_result",
          "data": {
            "text/plain": [
              "426522"
            ]
          },
          "metadata": {},
          "execution_count": 36
        }
      ]
    },
    {
      "cell_type": "code",
      "source": [
        "df.drop('pr_distance', axis=1, inplace=True)"
      ],
      "metadata": {
        "id": "v00mMyJGMmoP"
      },
      "execution_count": 37,
      "outputs": []
    },
    {
      "cell_type": "markdown",
      "source": [
        "## Road curve\n",
        "\n",
        "    1 - Straight part\n",
        "\n",
        "    2 - Curved on the left\n",
        "\n",
        "    3 - Curved right\n",
        "\n",
        "    4 - In \"S\"\n"
      ],
      "metadata": {
        "id": "CV8Vkaio7zH2"
      }
    },
    {
      "cell_type": "code",
      "source": [
        "df['curve_type'].value_counts()"
      ],
      "metadata": {
        "colab": {
          "base_uri": "https://localhost:8080/"
        },
        "id": "EnUwG5Gm75hQ",
        "outputId": "c31a665b-4762-4235-e044-c2ec6c5b05eb"
      },
      "execution_count": 38,
      "outputs": [
        {
          "output_type": "execute_result",
          "data": {
            "text/plain": [
              "1.0    639903\n",
              "2.0     68483\n",
              "3.0     61946\n",
              "0.0     57847\n",
              "4.0     10730\n",
              "Name: curve_type, dtype: int64"
            ]
          },
          "metadata": {},
          "execution_count": 38
        }
      ]
    },
    {
      "cell_type": "code",
      "source": [
        "df['curve_type'].isna().sum()"
      ],
      "metadata": {
        "colab": {
          "base_uri": "https://localhost:8080/"
        },
        "id": "2oK14uCz8H8T",
        "outputId": "638f8078-cb1a-485a-efed-eb5e71dce61d"
      },
      "execution_count": 39,
      "outputs": [
        {
          "output_type": "execute_result",
          "data": {
            "text/plain": [
              "1076"
            ]
          },
          "metadata": {},
          "execution_count": 39
        }
      ]
    },
    {
      "cell_type": "code",
      "source": [
        "df['curve_type'].fillna(1.0, inplace=True)"
      ],
      "metadata": {
        "id": "JeeN7Rw48Pzg"
      },
      "execution_count": 40,
      "outputs": []
    },
    {
      "cell_type": "markdown",
      "source": [
        "## Central width"
      ],
      "metadata": {
        "id": "xb8UwIVY8b0J"
      }
    },
    {
      "cell_type": "code",
      "source": [
        "df['central_width'].value_counts()"
      ],
      "metadata": {
        "colab": {
          "base_uri": "https://localhost:8080/"
        },
        "id": "OW7ahbvZ8gLU",
        "outputId": "dc08ecac-4ff5-442a-8277-b7bfd0e70562"
      },
      "execution_count": 41,
      "outputs": [
        {
          "output_type": "execute_result",
          "data": {
            "text/plain": [
              "0.0      699686\n",
              "15.0      30770\n",
              "10.0      18085\n",
              "20.0      15641\n",
              "30.0       7863\n",
              "          ...  \n",
              "206.0         1\n",
              "446.0         1\n",
              "915.0         1\n",
              "950.0         1\n",
              "625.0         1\n",
              "Name: central_width, Length: 371, dtype: int64"
            ]
          },
          "metadata": {},
          "execution_count": 41
        }
      ]
    },
    {
      "cell_type": "code",
      "source": [
        "df['central_width'].isna().sum()"
      ],
      "metadata": {
        "colab": {
          "base_uri": "https://localhost:8080/"
        },
        "id": "NsB_9w8c8mcq",
        "outputId": "2c97bc2c-458c-4633-824f-8af2c43b6fab"
      },
      "execution_count": 42,
      "outputs": [
        {
          "output_type": "execute_result",
          "data": {
            "text/plain": [
              "9545"
            ]
          },
          "metadata": {},
          "execution_count": 42
        }
      ]
    },
    {
      "cell_type": "code",
      "source": [
        "df['central_width'].plot(kind='hist', bins=50)"
      ],
      "metadata": {
        "colab": {
          "base_uri": "https://localhost:8080/",
          "height": 448
        },
        "id": "beWMBXw6M-oj",
        "outputId": "b385050d-6abd-4608-8048-6c32874ccaf0"
      },
      "execution_count": 43,
      "outputs": [
        {
          "output_type": "execute_result",
          "data": {
            "text/plain": [
              "<Axes: ylabel='Frequency'>"
            ]
          },
          "metadata": {},
          "execution_count": 43
        },
        {
          "output_type": "display_data",
          "data": {
            "text/plain": [
              "<Figure size 640x480 with 1 Axes>"
            ],
            "image/png": "[encoded data removed]"
          },
          "metadata": {}
        }
      ]
    },
    {
      "cell_type": "code",
      "source": [
        "df.drop('central_width', axis=1, inplace=True)"
      ],
      "metadata": {
        "id": "7oLaC3M4OcTf"
      },
      "execution_count": 44,
      "outputs": []
    },
    {
      "cell_type": "markdown",
      "source": [
        "## Width"
      ],
      "metadata": {
        "id": "xf_iO8up8rBK"
      }
    },
    {
      "cell_type": "code",
      "source": [
        "df['width'].min()"
      ],
      "metadata": {
        "colab": {
          "base_uri": "https://localhost:8080/"
        },
        "id": "-JAakQuw8soD",
        "outputId": "ebde4a7a-7f6d-4a6c-8b21-bec3aeeb860e"
      },
      "execution_count": 45,
      "outputs": [
        {
          "output_type": "execute_result",
          "data": {
            "text/plain": [
              "-81.0"
            ]
          },
          "metadata": {},
          "execution_count": 45
        }
      ]
    },
    {
      "cell_type": "code",
      "source": [
        "df['width'].max()"
      ],
      "metadata": {
        "colab": {
          "base_uri": "https://localhost:8080/"
        },
        "id": "84pr0jBQSY_L",
        "outputId": "c3e1341d-8079-4b99-f2df-6576ec323eac"
      },
      "execution_count": 46,
      "outputs": [
        {
          "output_type": "execute_result",
          "data": {
            "text/plain": [
              "999.0"
            ]
          },
          "metadata": {},
          "execution_count": 46
        }
      ]
    },
    {
      "cell_type": "code",
      "source": [
        "df['width'].isna().sum()"
      ],
      "metadata": {
        "colab": {
          "base_uri": "https://localhost:8080/"
        },
        "id": "cC5n8Rj38yD9",
        "outputId": "984b63fd-2bf5-4f9a-de8f-9236c063bc7c"
      },
      "execution_count": 47,
      "outputs": [
        {
          "output_type": "execute_result",
          "data": {
            "text/plain": [
              "8279"
            ]
          },
          "metadata": {},
          "execution_count": 47
        }
      ]
    },
    {
      "cell_type": "code",
      "source": [
        "df.drop('width', axis=1, inplace=True)"
      ],
      "metadata": {
        "id": "tJxElN028YAa"
      },
      "execution_count": 71,
      "outputs": []
    },
    {
      "cell_type": "markdown",
      "source": [
        "## Road condition\n",
        "\n",
        "    1 - normal\n",
        "\n",
        "    2 - wet\n",
        "\n",
        "    3 - puddles\n",
        "\n",
        "    4 - flooded\n",
        "\n",
        "    5 - snow\n",
        "\n",
        "    6 - mud\n",
        "\n",
        "    7 - icy\n",
        "\n",
        "    8 - fat - oil\n",
        "\n",
        "    9 - other\n"
      ],
      "metadata": {
        "id": "nW-lbGE_87Sg"
      }
    },
    {
      "cell_type": "code",
      "source": [
        "df['condition'].value_counts()"
      ],
      "metadata": {
        "colab": {
          "base_uri": "https://localhost:8080/"
        },
        "id": "934YWpJM9Dw6",
        "outputId": "c9d7065f-bf44-42e9-f9c2-1196e0fb826f"
      },
      "execution_count": 53,
      "outputs": [
        {
          "output_type": "execute_result",
          "data": {
            "text/plain": [
              "1.0    652322\n",
              "2.0    143254\n",
              "0.0     26998\n",
              "7.0      5474\n",
              "9.0      4483\n",
              "5.0      2643\n",
              "8.0      2159\n",
              "3.0       861\n",
              "6.0       466\n",
              "4.0       308\n",
              "Name: condition, dtype: int64"
            ]
          },
          "metadata": {},
          "execution_count": 53
        }
      ]
    },
    {
      "cell_type": "code",
      "source": [
        "df['condition'].isna().sum()"
      ],
      "metadata": {
        "colab": {
          "base_uri": "https://localhost:8080/"
        },
        "id": "p0NxWsoO9ITO",
        "outputId": "df4318c8-f015-46f4-bdff-da61f170f7ef"
      },
      "execution_count": 54,
      "outputs": [
        {
          "output_type": "execute_result",
          "data": {
            "text/plain": [
              "1017"
            ]
          },
          "metadata": {},
          "execution_count": 54
        }
      ]
    },
    {
      "cell_type": "code",
      "source": [
        "df['condition'].fillna(1.0, inplace=True)"
      ],
      "metadata": {
        "id": "464W8ycKNbL7"
      },
      "execution_count": 55,
      "outputs": []
    },
    {
      "cell_type": "markdown",
      "source": [
        "## Infrastructure\n",
        "\n",
        "    1 - Underground - tunnel\n",
        "\n",
        "    2 - Bridge - autopont\n",
        "\n",
        "    3 - Exchanger or connection brace\n",
        "\n",
        "    4 - Railway\n",
        "\n",
        "    5 - Carrefour arranged\n",
        "\n",
        "    6 - Pedestrian area\n",
        "\n",
        "    7 - Toll zone\n"
      ],
      "metadata": {
        "id": "gDz3qOjl9L8S"
      }
    },
    {
      "cell_type": "code",
      "source": [
        "df['infrastructure'].value_counts()"
      ],
      "metadata": {
        "colab": {
          "base_uri": "https://localhost:8080/"
        },
        "id": "M1gT16K29TZX",
        "outputId": "363ceaa3-9ca7-4ca3-dbe3-5b101dd1b2e1"
      },
      "execution_count": 56,
      "outputs": [
        {
          "output_type": "execute_result",
          "data": {
            "text/plain": [
              "0.0    747965\n",
              "5.0     50330\n",
              "3.0     12853\n",
              "2.0     11720\n",
              "1.0      6994\n",
              "6.0      5299\n",
              "4.0      3034\n",
              "7.0       512\n",
              "Name: infrastructure, dtype: int64"
            ]
          },
          "metadata": {},
          "execution_count": 56
        }
      ]
    },
    {
      "cell_type": "code",
      "source": [
        "df['infrastructure'].isna().sum()"
      ],
      "metadata": {
        "colab": {
          "base_uri": "https://localhost:8080/"
        },
        "id": "OCCFXEjG9XZf",
        "outputId": "3cc81c68-3aa0-4800-9647-58691f2e385d"
      },
      "execution_count": 57,
      "outputs": [
        {
          "output_type": "execute_result",
          "data": {
            "text/plain": [
              "1278"
            ]
          },
          "metadata": {},
          "execution_count": 57
        }
      ]
    },
    {
      "cell_type": "code",
      "source": [
        "df['infrastructure'].fillna(0.0, inplace=True)"
      ],
      "metadata": {
        "id": "0-jjbjCw-Sid"
      },
      "execution_count": 58,
      "outputs": []
    },
    {
      "cell_type": "markdown",
      "source": [
        "## Accident situation\n",
        "\n",
        "    1 - On the road\n",
        "\n",
        "    2 - On emergency stop band\n",
        "\n",
        "    3 - On the verge\n",
        "\n",
        "    4 - On the sidewalk\n",
        "\n",
        "    5 - On bike path\n"
      ],
      "metadata": {
        "id": "0rHO6xdH9bWy"
      }
    },
    {
      "cell_type": "code",
      "source": [
        "df['situ'].value_counts()"
      ],
      "metadata": {
        "colab": {
          "base_uri": "https://localhost:8080/"
        },
        "id": "4y99BR409iJg",
        "outputId": "50abf601-4ce9-48d7-8eb3-78f451ac9b70"
      },
      "execution_count": 59,
      "outputs": [
        {
          "output_type": "execute_result",
          "data": {
            "text/plain": [
              "1.0    722069\n",
              "3.0     48818\n",
              "0.0     43291\n",
              "4.0     14493\n",
              "2.0      5191\n",
              "5.0      5121\n",
              "Name: situ, dtype: int64"
            ]
          },
          "metadata": {},
          "execution_count": 59
        }
      ]
    },
    {
      "cell_type": "code",
      "source": [
        "df['situ'].isna().sum()"
      ],
      "metadata": {
        "colab": {
          "base_uri": "https://localhost:8080/"
        },
        "id": "PmX3Al5a9rHg",
        "outputId": "77beb29e-5ad8-41d8-e876-5610576d6d2a"
      },
      "execution_count": 60,
      "outputs": [
        {
          "output_type": "execute_result",
          "data": {
            "text/plain": [
              "1002"
            ]
          },
          "metadata": {},
          "execution_count": 60
        }
      ]
    },
    {
      "cell_type": "code",
      "source": [
        "df['situ'].fillna(0.0, inplace=True)"
      ],
      "metadata": {
        "id": "PUl-DhR2-fo6"
      },
      "execution_count": 61,
      "outputs": []
    },
    {
      "cell_type": "markdown",
      "source": [
        "## Near school (?)"
      ],
      "metadata": {
        "id": "xl_cKvGQ98UT"
      }
    },
    {
      "cell_type": "code",
      "source": [
        "df['school'].value_counts()"
      ],
      "metadata": {
        "colab": {
          "base_uri": "https://localhost:8080/"
        },
        "id": "TCX6okxL978f",
        "outputId": "81e69c91-fe1e-4311-8a10-4f3a4a82c73d"
      },
      "execution_count": 62,
      "outputs": [
        {
          "output_type": "execute_result",
          "data": {
            "text/plain": [
              "0.0     477933\n",
              "99.0    319986\n",
              "3.0      40790\n",
              "Name: school, dtype: int64"
            ]
          },
          "metadata": {},
          "execution_count": 62
        }
      ]
    },
    {
      "cell_type": "code",
      "source": [
        "df['school'].isna().sum()"
      ],
      "metadata": {
        "colab": {
          "base_uri": "https://localhost:8080/"
        },
        "id": "glJMZ8aq-F3j",
        "outputId": "31db0467-53e4-4b89-f6ec-02a5b5c3ba25"
      },
      "execution_count": 63,
      "outputs": [
        {
          "output_type": "execute_result",
          "data": {
            "text/plain": [
              "1276"
            ]
          },
          "metadata": {},
          "execution_count": 63
        }
      ]
    },
    {
      "cell_type": "code",
      "source": [
        "df['school'].fillna(0.0, inplace=True)"
      ],
      "metadata": {
        "id": "APlo6SwEINfJ"
      },
      "execution_count": 64,
      "outputs": []
    },
    {
      "cell_type": "code",
      "source": [
        "df['school'] = df['school'].apply(lambda x: 2.0 if x==99.0 else x/3.0)"
      ],
      "metadata": {
        "id": "sDtIqhoRIXCJ"
      },
      "execution_count": 65,
      "outputs": []
    },
    {
      "cell_type": "markdown",
      "source": [
        "# Notes\n",
        "\n",
        "## Problem points\n",
        "\n",
        "* The meaning of the **PR** field (and by associatoin the **PR distance** field) and the **near school** field is not clear from neither the description nor the actual values present in the data. A lot of rows are also missing these, it might be best to ignore these fields.\n",
        "\n",
        "* **Road number** and **V1** and **V2** most probably somehow correspond to the french road numbering system, but there are a large number of options and the meanings are not clear cut an there are a large number of missing rows for the latter two.\n",
        "\n",
        "* Completely unrealistic values pop up in the **number of lanes**.\n",
        "\n",
        "* **Width** and **central width** coloumn meanings are not exactly known.\n",
        "\n",
        "## Categorical data\n",
        "\n",
        "* There are a large number of columns which contain categorical data, these seem to be well generalizable via dummy columns."
      ],
      "metadata": {
        "id": "7SE6ZqQF96Js"
      }
    },
    {
      "cell_type": "code",
      "source": [
        "df.head()"
      ],
      "metadata": {
        "colab": {
          "base_uri": "https://localhost:8080/",
          "height": 206
        },
        "id": "ip-Q0k8HEeHn",
        "outputId": "582ea159-980d-4705-fb52-4b02e48a168a"
      },
      "execution_count": 72,
      "outputs": [
        {
          "output_type": "execute_result",
          "data": {
            "text/plain": [
              "        Num_Acc  road_type  traffic_type  num_lanes  bike_lane_type  \\\n",
              "0  201600000001        3.0           2.0        0.0             0.0   \n",
              "1  201600000002        3.0           1.0        0.0             0.0   \n",
              "2  201600000003        3.0           2.0        2.0             0.0   \n",
              "3  201600000004        4.0           2.0        0.0             0.0   \n",
              "4  201600000005        4.0           0.0        0.0             0.0   \n",
              "\n",
              "   terrain_type  curve_type  condition  infrastructure  situ  school  \n",
              "0           1.0         3.0        1.0             0.0   1.0     0.0  \n",
              "1           1.0         2.0        1.0             0.0   1.0     0.0  \n",
              "2           1.0         3.0        2.0             0.0   3.0     2.0  \n",
              "3           1.0         1.0        1.0             0.0   1.0     2.0  \n",
              "4           0.0         1.0        1.0             0.0   1.0     1.0  "
            ],
            "text/html": [
              "\n",
              "  <div id=\"df-045bdceb-6d37-492d-a10e-255039571ba2\" class=\"colab-df-container\">\n",
              "    <div>\n",
              "<style scoped>\n",
              "    .dataframe tbody tr th:only-of-type {\n",
              "        vertical-align: middle;\n",
              "    }\n",
              "\n",
              "    .dataframe tbody tr th {\n",
              "        vertical-align: top;\n",
              "    }\n",
              "\n",
              "    .dataframe thead th {\n",
              "        text-align: right;\n",
              "    }\n",
              "</style>\n",
              "<table border=\"1\" class=\"dataframe\">\n",
              "  <thead>\n",
              "    <tr style=\"text-align: right;\">\n",
              "      <th></th>\n",
              "      <th>Num_Acc</th>\n",
              "      <th>road_type</th>\n",
              "      <th>traffic_type</th>\n",
              "      <th>num_lanes</th>\n",
              "      <th>bike_lane_type</th>\n",
              "      <th>terrain_type</th>\n",
              "      <th>curve_type</th>\n",
              "      <th>condition</th>\n",
              "      <th>infrastructure</th>\n",
              "      <th>situ</th>\n",
              "      <th>school</th>\n",
              "    </tr>\n",
              "  </thead>\n",
              "  <tbody>\n",
              "    <tr>\n",
              "      <th>0</th>\n",
              "      <td>201600000001</td>\n",
              "      <td>3.0</td>\n",
              "      <td>2.0</td>\n",
              "      <td>0.0</td>\n",
              "      <td>0.0</td>\n",
              "      <td>1.0</td>\n",
              "      <td>3.0</td>\n",
              "      <td>1.0</td>\n",
              "      <td>0.0</td>\n",
              "      <td>1.0</td>\n",
              "      <td>0.0</td>\n",
              "    </tr>\n",
              "    <tr>\n",
              "      <th>1</th>\n",
              "      <td>201600000002</td>\n",
              "      <td>3.0</td>\n",
              "      <td>1.0</td>\n",
              "      <td>0.0</td>\n",
              "      <td>0.0</td>\n",
              "      <td>1.0</td>\n",
              "      <td>2.0</td>\n",
              "      <td>1.0</td>\n",
              "      <td>0.0</td>\n",
              "      <td>1.0</td>\n",
              "      <td>0.0</td>\n",
              "    </tr>\n",
              "    <tr>\n",
              "      <th>2</th>\n",
              "      <td>201600000003</td>\n",
              "      <td>3.0</td>\n",
              "      <td>2.0</td>\n",
              "      <td>2.0</td>\n",
              "      <td>0.0</td>\n",
              "      <td>1.0</td>\n",
              "      <td>3.0</td>\n",
              "      <td>2.0</td>\n",
              "      <td>0.0</td>\n",
              "      <td>3.0</td>\n",
              "      <td>2.0</td>\n",
              "    </tr>\n",
              "    <tr>\n",
              "      <th>3</th>\n",
              "      <td>201600000004</td>\n",
              "      <td>4.0</td>\n",
              "      <td>2.0</td>\n",
              "      <td>0.0</td>\n",
              "      <td>0.0</td>\n",
              "      <td>1.0</td>\n",
              "      <td>1.0</td>\n",
              "      <td>1.0</td>\n",
              "      <td>0.0</td>\n",
              "      <td>1.0</td>\n",
              "      <td>2.0</td>\n",
              "    </tr>\n",
              "    <tr>\n",
              "      <th>4</th>\n",
              "      <td>201600000005</td>\n",
              "      <td>4.0</td>\n",
              "      <td>0.0</td>\n",
              "      <td>0.0</td>\n",
              "      <td>0.0</td>\n",
              "      <td>0.0</td>\n",
              "      <td>1.0</td>\n",
              "      <td>1.0</td>\n",
              "      <td>0.0</td>\n",
              "      <td>1.0</td>\n",
              "      <td>1.0</td>\n",
              "    </tr>\n",
              "  </tbody>\n",
              "</table>\n",
              "</div>\n",
              "    <div class=\"colab-df-buttons\">\n",
              "\n",
              "  <div class=\"colab-df-container\">\n",
              "    <button class=\"colab-df-convert\" onclick=\"convertToInteractive('df-045bdceb-6d37-492d-a10e-255039571ba2')\"\n",
              "            title=\"Convert this dataframe to an interactive table.\"\n",
              "            style=\"display:none;\">\n",
              "\n",
              "  <svg xmlns=\"http://www.w3.org/2000/svg\" height=\"24px\" viewBox=\"0 -960 960 960\">\n",
              "    <path d=\"M120-120v-720h720v720H120Zm60-500h600v-160H180v160Zm220 220h160v-160H400v160Zm0 220h160v-160H400v160ZM180-400h160v-160H180v160Zm440 0h160v-160H620v160ZM180-180h160v-160H180v160Zm440 0h160v-160H620v160Z\"/>\n",
              "  </svg>\n",
              "    </button>\n",
              "\n",
              "  <style>\n",
              "    .colab-df-container {\n",
              "      display:flex;\n",
              "      gap: 12px;\n",
              "    }\n",
              "\n",
              "    .colab-df-convert {\n",
              "      background-color: #E8F0FE;\n",
              "      border: none;\n",
              "      border-radius: 50%;\n",
              "      cursor: pointer;\n",
              "      display: none;\n",
              "      fill: #1967D2;\n",
              "      height: 32px;\n",
              "      padding: 0 0 0 0;\n",
              "      width: 32px;\n",
              "    }\n",
              "\n",
              "    .colab-df-convert:hover {\n",
              "      background-color: #E2EBFA;\n",
              "      box-shadow: 0px 1px 2px rgba(60, 64, 67, 0.3), 0px 1px 3px 1px rgba(60, 64, 67, 0.15);\n",
              "      fill: #174EA6;\n",
              "    }\n",
              "\n",
              "    .colab-df-buttons div {\n",
              "      margin-bottom: 4px;\n",
              "    }\n",
              "\n",
              "    [theme=dark] .colab-df-convert {\n",
              "      background-color: #3B4455;\n",
              "      fill: #D2E3FC;\n",
              "    }\n",
              "\n",
              "    [theme=dark] .colab-df-convert:hover {\n",
              "      background-color: #434B5C;\n",
              "      box-shadow: 0px 1px 3px 1px rgba(0, 0, 0, 0.15);\n",
              "      filter: drop-shadow(0px 1px 2px rgba(0, 0, 0, 0.3));\n",
              "      fill: #FFFFFF;\n",
              "    }\n",
              "  </style>\n",
              "\n",
              "    <script>\n",
              "      const buttonEl =\n",
              "        document.querySelector('#df-045bdceb-6d37-492d-a10e-255039571ba2 button.colab-df-convert');\n",
              "      buttonEl.style.display =\n",
              "        google.colab.kernel.accessAllowed ? 'block' : 'none';\n",
              "\n",
              "      async function convertToInteractive(key) {\n",
              "        const element = document.querySelector('#df-045bdceb-6d37-492d-a10e-255039571ba2');\n",
              "        const dataTable =\n",
              "          await google.colab.kernel.invokeFunction('convertToInteractive',\n",
              "                                                    [key], {});\n",
              "        if (!dataTable) return;\n",
              "\n",
              "        const docLinkHtml = 'Like what you see? Visit the ' +\n",
              "          '<a target=\"_blank\" href=https://colab.research.google.com/notebooks/data_table.ipynb>data table notebook</a>'\n",
              "          + ' to learn more about interactive tables.';\n",
              "        element.innerHTML = '';\n",
              "        dataTable['output_type'] = 'display_data';\n",
              "        await google.colab.output.renderOutput(dataTable, element);\n",
              "        const docLink = document.createElement('div');\n",
              "        docLink.innerHTML = docLinkHtml;\n",
              "        element.appendChild(docLink);\n",
              "      }\n",
              "    </script>\n",
              "  </div>\n",
              "\n",
              "\n",
              "<div id=\"df-7e5892cb-929f-49fb-9ea9-443f5e33eb86\">\n",
              "  <button class=\"colab-df-quickchart\" onclick=\"quickchart('df-7e5892cb-929f-49fb-9ea9-443f5e33eb86')\"\n",
              "            title=\"Suggest charts\"\n",
              "            style=\"display:none;\">\n",
              "\n",
              "<svg xmlns=\"http://www.w3.org/2000/svg\" height=\"24px\"viewBox=\"0 0 24 24\"\n",
              "     width=\"24px\">\n",
              "    <g>\n",
              "        <path d=\"M19 3H5c-1.1 0-2 .9-2 2v14c0 1.1.9 2 2 2h14c1.1 0 2-.9 2-2V5c0-1.1-.9-2-2-2zM9 17H7v-7h2v7zm4 0h-2V7h2v10zm4 0h-2v-4h2v4z\"/>\n",
              "    </g>\n",
              "</svg>\n",
              "  </button>\n",
              "\n",
              "<style>\n",
              "  .colab-df-quickchart {\n",
              "      --bg-color: #E8F0FE;\n",
              "      --fill-color: #1967D2;\n",
              "      --hover-bg-color: #E2EBFA;\n",
              "      --hover-fill-color: #174EA6;\n",
              "      --disabled-fill-color: #AAA;\n",
              "      --disabled-bg-color: #DDD;\n",
              "  }\n",
              "\n",
              "  [theme=dark] .colab-df-quickchart {\n",
              "      --bg-color: #3B4455;\n",
              "      --fill-color: #D2E3FC;\n",
              "      --hover-bg-color: #434B5C;\n",
              "      --hover-fill-color: #FFFFFF;\n",
              "      --disabled-bg-color: #3B4455;\n",
              "      --disabled-fill-color: #666;\n",
              "  }\n",
              "\n",
              "  .colab-df-quickchart {\n",
              "    background-color: var(--bg-color);\n",
              "    border: none;\n",
              "    border-radius: 50%;\n",
              "    cursor: pointer;\n",
              "    display: none;\n",
              "    fill: var(--fill-color);\n",
              "    height: 32px;\n",
              "    padding: 0;\n",
              "    width: 32px;\n",
              "  }\n",
              "\n",
              "  .colab-df-quickchart:hover {\n",
              "    background-color: var(--hover-bg-color);\n",
              "    box-shadow: 0 1px 2px rgba(60, 64, 67, 0.3), 0 1px 3px 1px rgba(60, 64, 67, 0.15);\n",
              "    fill: var(--button-hover-fill-color);\n",
              "  }\n",
              "\n",
              "  .colab-df-quickchart-complete:disabled,\n",
              "  .colab-df-quickchart-complete:disabled:hover {\n",
              "    background-color: var(--disabled-bg-color);\n",
              "    fill: var(--disabled-fill-color);\n",
              "    box-shadow: none;\n",
              "  }\n",
              "\n",
              "  .colab-df-spinner {\n",
              "    border: 2px solid var(--fill-color);\n",
              "    border-color: transparent;\n",
              "    border-bottom-color: var(--fill-color);\n",
              "    animation:\n",
              "      spin 1s steps(1) infinite;\n",
              "  }\n",
              "\n",
              "  @keyframes spin {\n",
              "    0% {\n",
              "      border-color: transparent;\n",
              "      border-bottom-color: var(--fill-color);\n",
              "      border-left-color: var(--fill-color);\n",
              "    }\n",
              "    20% {\n",
              "      border-color: transparent;\n",
              "      border-left-color: var(--fill-color);\n",
              "      border-top-color: var(--fill-color);\n",
              "    }\n",
              "    30% {\n",
              "      border-color: transparent;\n",
              "      border-left-color: var(--fill-color);\n",
              "      border-top-color: var(--fill-color);\n",
              "      border-right-color: var(--fill-color);\n",
              "    }\n",
              "    40% {\n",
              "      border-color: transparent;\n",
              "      border-right-color: var(--fill-color);\n",
              "      border-top-color: var(--fill-color);\n",
              "    }\n",
              "    60% {\n",
              "      border-color: transparent;\n",
              "      border-right-color: var(--fill-color);\n",
              "    }\n",
              "    80% {\n",
              "      border-color: transparent;\n",
              "      border-right-color: var(--fill-color);\n",
              "      border-bottom-color: var(--fill-color);\n",
              "    }\n",
              "    90% {\n",
              "      border-color: transparent;\n",
              "      border-bottom-color: var(--fill-color);\n",
              "    }\n",
              "  }\n",
              "</style>\n",
              "\n",
              "  <script>\n",
              "    async function quickchart(key) {\n",
              "      const quickchartButtonEl =\n",
              "        document.querySelector('#' + key + ' button');\n",
              "      quickchartButtonEl.disabled = true;  // To prevent multiple clicks.\n",
              "      quickchartButtonEl.classList.add('colab-df-spinner');\n",
              "      try {\n",
              "        const charts = await google.colab.kernel.invokeFunction(\n",
              "            'suggestCharts', [key], {});\n",
              "      } catch (error) {\n",
              "        console.error('Error during call to suggestCharts:', error);\n",
              "      }\n",
              "      quickchartButtonEl.classList.remove('colab-df-spinner');\n",
              "      quickchartButtonEl.classList.add('colab-df-quickchart-complete');\n",
              "    }\n",
              "    (() => {\n",
              "      let quickchartButtonEl =\n",
              "        document.querySelector('#df-7e5892cb-929f-49fb-9ea9-443f5e33eb86 button');\n",
              "      quickchartButtonEl.style.display =\n",
              "        google.colab.kernel.accessAllowed ? 'block' : 'none';\n",
              "    })();\n",
              "  </script>\n",
              "</div>\n",
              "    </div>\n",
              "  </div>\n"
            ],
            "application/vnd.google.colaboratory.intrinsic+json": {
              "type": "dataframe",
              "variable_name": "df"
            }
          },
          "metadata": {},
          "execution_count": 72
        }
      ]
    },
    {
      "cell_type": "code",
      "source": [
        "from sklearn.metrics.cluster import contingency_matrix\n",
        "from scipy.stats.contingency import association\n",
        "import seaborn\n",
        "\n",
        "def cramersv(a, b):\n",
        "    return association(contingency_matrix(a, b))\n",
        "\n",
        "corr = df.drop('Num_Acc', axis=1).corr(method=cramersv)\n",
        "sns.heatmap(corr, square=True, linewidths=.5, cbar_kws={\"shrink\": .5}, annot=True)\n"
      ],
      "metadata": {
        "colab": {
          "base_uri": "https://localhost:8080/",
          "height": 538
        },
        "id": "zmqkrolvL43g",
        "outputId": "580c8572-aff4-41a9-c4bf-f951ddf9276c"
      },
      "execution_count": 74,
      "outputs": [
        {
          "output_type": "execute_result",
          "data": {
            "text/plain": [
              "<Axes: >"
            ]
          },
          "metadata": {},
          "execution_count": 74
        },
        {
          "output_type": "display_data",
          "data": {
            "text/plain": [
              "<Figure size 640x480 with 2 Axes>"
            ],
            "image/png": "[encoded data removed]"
          },
          "metadata": {}
        }
      ]
    },
    {
      "cell_type": "code",
      "source": [
        "df.to_csv('places_prepped.csv', index=False)"
      ],
      "metadata": {
        "id": "Hui8wDBykFi3"
      },
      "execution_count": 76,
      "outputs": []
    }
  ]
}