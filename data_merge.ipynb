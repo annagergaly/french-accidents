{
 "nbformat": 4,
 "nbformat_minor": 0,
 "metadata": {
  "colab": {
   "provenance": []
  },
  "kernelspec": {
   "name": "french-accidents",
   "language": "python",
   "display_name": "french-accidents"
  },
  "language_info": {
   "name": "python"
  }
 },
 "cells": [
  {
   "cell_type": "code",
   "execution_count": 1,
   "metadata": {
    "id": "yxZVzIUP3XYu",
    "ExecuteTime": {
     "end_time": "2024-04-07T11:20:51.837222Z",
     "start_time": "2024-04-07T11:20:33.445406Z"
    }
   },
   "outputs": [],
   "source": [
    "import pandas as pd\n",
    "from pgmpy.estimators import HillClimbSearch\n",
    "from pgmpy.estimators import K2Score"
   ]
  },
  {
   "cell_type": "code",
   "source": [
    "characteristics_df = pd.read_csv('data/characteristics_prepped.csv', encoding='latin1')\n",
    "places_df = pd.read_csv('data/places_prepped.csv', encoding='latin1')\n",
    "users_df = pd.read_csv('data/users_prepped.csv', encoding='latin1')\n",
    "vehicles_df = pd.read_csv('data/vehicles_prepped.csv', encoding='latin1')"
   ],
   "metadata": {
    "colab": {
     "base_uri": "https://localhost:8080/"
    },
    "id": "Kx-CHKaU3gy_",
    "outputId": "4f0878b8-1e12-4ff3-e9eb-ec7b8abf5f8b",
    "ExecuteTime": {
     "end_time": "2024-04-07T11:21:08.699096Z",
     "start_time": "2024-04-07T11:20:51.847348Z"
    }
   },
   "execution_count": 2,
   "outputs": []
  },
  {
   "cell_type": "markdown",
   "source": [
    "## Vehicles + users merge"
   ],
   "metadata": {
    "id": "5m_DouLH71Vo"
   }
  },
  {
   "cell_type": "markdown",
   "source": [
    "Vechicles and users table might contain multiple rows for the same Num_Acc id. (Because there might be multiple people or vehicles involved in the accident)"
   ],
   "metadata": {
    "id": "Csih3I3R7Unt"
   }
  },
  {
   "cell_type": "code",
   "source": [
    "vehicles_df.shape"
   ],
   "metadata": {
    "colab": {
     "base_uri": "https://localhost:8080/"
    },
    "id": "x5RwmeaO92EG",
    "outputId": "3db0771e-fba5-44f3-e6e7-0780d23f414a",
    "ExecuteTime": {
     "end_time": "2024-04-07T11:21:08.823386Z",
     "start_time": "2024-04-07T11:21:08.734895Z"
    }
   },
   "execution_count": 3,
   "outputs": [
    {
     "data": {
      "text/plain": "(1433389, 8)"
     },
     "execution_count": 3,
     "metadata": {},
     "output_type": "execute_result"
    }
   ]
  },
  {
   "cell_type": "code",
   "source": [
    "users_df.shape"
   ],
   "metadata": {
    "colab": {
     "base_uri": "https://localhost:8080/"
    },
    "id": "P0xDsDQy97XF",
    "outputId": "a2738acc-3165-4301-f255-609fe353c87f",
    "ExecuteTime": {
     "end_time": "2024-04-07T11:21:08.854759Z",
     "start_time": "2024-04-07T11:21:08.829510Z"
    }
   },
   "execution_count": 4,
   "outputs": [
    {
     "data": {
      "text/plain": "(1876005, 13)"
     },
     "execution_count": 4,
     "metadata": {},
     "output_type": "execute_result"
    }
   ]
  },
  {
   "cell_type": "code",
   "source": [
    "vehicles_users_df = pd.merge(vehicles_df, users_df, on='Num_Acc', how='outer', suffixes=('_vehicles', '_users'))"
   ],
   "metadata": {
    "id": "-THaO-b_7Bd1",
    "ExecuteTime": {
     "end_time": "2024-04-07T11:21:14.487005Z",
     "start_time": "2024-04-07T11:21:08.861154Z"
    }
   },
   "execution_count": 5,
   "outputs": []
  },
  {
   "cell_type": "markdown",
   "source": [
    "Filter rows that that contains a user-vehicle pair that does not match."
   ],
   "metadata": {
    "id": "7kZM3zSQ8B5E"
   }
  },
  {
   "cell_type": "code",
   "source": [
    "vehicles_users_df = vehicles_users_df[vehicles_users_df['num_veh_vehicles'] == vehicles_users_df['num_veh_users']]"
   ],
   "metadata": {
    "id": "5xxFdLNh8NRo",
    "ExecuteTime": {
     "end_time": "2024-04-07T11:21:16.145921Z",
     "start_time": "2024-04-07T11:21:14.508986Z"
    }
   },
   "execution_count": 6,
   "outputs": []
  },
  {
   "cell_type": "code",
   "source": [
    "vehicles_users_df.head()"
   ],
   "metadata": {
    "colab": {
     "base_uri": "https://localhost:8080/",
     "height": 206
    },
    "id": "cYysTPqg8RCa",
    "outputId": "d8d75695-0bca-4be2-80b0-9cb9359ba67e",
    "ExecuteTime": {
     "end_time": "2024-04-07T11:21:16.877314Z",
     "start_time": "2024-04-07T11:21:16.529929Z"
    }
   },
   "execution_count": 7,
   "outputs": [
    {
     "data": {
      "text/plain": "         Num_Acc  Occupants  Mobile Obstacle  Shock num_veh_vehicles  \\\n0   200500000001          1              2.0    1.0              A01   \n7   200500000001          1              2.0    8.0              B02   \n8   200500000001          1              2.0    8.0              B02   \n9   200500000001          1              2.0    8.0              B02   \n10  200500000001          1              2.0    8.0              B02   \n\n    Vehicle_Category  Fix_obstacle_type  Maneuver_category  Seat  User type  \\\n0                  8                  0                  1     1          1   \n7                  8                  0                  1     1          1   \n8                  8                  0                  1     2          2   \n9                  8                  0                  1     4          2   \n10                 8                  0                  1     5          2   \n\n    Severity  Sex  Trip  Pedestrian location  Pedestrian action  \\\n0          2    1     1                    0                  0   \n7          3    2     3                    0                  0   \n8          1    1     0                    0                  0   \n9          1    1     0                    0                  0   \n10         1    1     0                    0                  0   \n\n    Pedestrian alone  Birth year num_veh_users  Safety equipment existence  \\\n0                  0        1976           A01                           1   \n7                  0        1968           B02                           1   \n8                  0        1964           B02                           1   \n9                  0        2004           B02                           3   \n10                 0        1998           B02                           1   \n\n    Safety equipment use  \n0                      1  \n7                      1  \n8                      1  \n9                      1  \n10                     1  ",
      "text/html": "<div>\n<style scoped>\n    .dataframe tbody tr th:only-of-type {\n        vertical-align: middle;\n    }\n\n    .dataframe tbody tr th {\n        vertical-align: top;\n    }\n\n    .dataframe thead th {\n        text-align: right;\n    }\n</style>\n<table border=\"1\" class=\"dataframe\">\n  <thead>\n    <tr style=\"text-align: right;\">\n      <th></th>\n      <th>Num_Acc</th>\n      <th>Occupants</th>\n      <th>Mobile Obstacle</th>\n      <th>Shock</th>\n      <th>num_veh_vehicles</th>\n      <th>Vehicle_Category</th>\n      <th>Fix_obstacle_type</th>\n      <th>Maneuver_category</th>\n      <th>Seat</th>\n      <th>User type</th>\n      <th>Severity</th>\n      <th>Sex</th>\n      <th>Trip</th>\n      <th>Pedestrian location</th>\n      <th>Pedestrian action</th>\n      <th>Pedestrian alone</th>\n      <th>Birth year</th>\n      <th>num_veh_users</th>\n      <th>Safety equipment existence</th>\n      <th>Safety equipment use</th>\n    </tr>\n  </thead>\n  <tbody>\n    <tr>\n      <th>0</th>\n      <td>200500000001</td>\n      <td>1</td>\n      <td>2.0</td>\n      <td>1.0</td>\n      <td>A01</td>\n      <td>8</td>\n      <td>0</td>\n      <td>1</td>\n      <td>1</td>\n      <td>1</td>\n      <td>2</td>\n      <td>1</td>\n      <td>1</td>\n      <td>0</td>\n      <td>0</td>\n      <td>0</td>\n      <td>1976</td>\n      <td>A01</td>\n      <td>1</td>\n      <td>1</td>\n    </tr>\n    <tr>\n      <th>7</th>\n      <td>200500000001</td>\n      <td>1</td>\n      <td>2.0</td>\n      <td>8.0</td>\n      <td>B02</td>\n      <td>8</td>\n      <td>0</td>\n      <td>1</td>\n      <td>1</td>\n      <td>1</td>\n      <td>3</td>\n      <td>2</td>\n      <td>3</td>\n      <td>0</td>\n      <td>0</td>\n      <td>0</td>\n      <td>1968</td>\n      <td>B02</td>\n      <td>1</td>\n      <td>1</td>\n    </tr>\n    <tr>\n      <th>8</th>\n      <td>200500000001</td>\n      <td>1</td>\n      <td>2.0</td>\n      <td>8.0</td>\n      <td>B02</td>\n      <td>8</td>\n      <td>0</td>\n      <td>1</td>\n      <td>2</td>\n      <td>2</td>\n      <td>1</td>\n      <td>1</td>\n      <td>0</td>\n      <td>0</td>\n      <td>0</td>\n      <td>0</td>\n      <td>1964</td>\n      <td>B02</td>\n      <td>1</td>\n      <td>1</td>\n    </tr>\n    <tr>\n      <th>9</th>\n      <td>200500000001</td>\n      <td>1</td>\n      <td>2.0</td>\n      <td>8.0</td>\n      <td>B02</td>\n      <td>8</td>\n      <td>0</td>\n      <td>1</td>\n      <td>4</td>\n      <td>2</td>\n      <td>1</td>\n      <td>1</td>\n      <td>0</td>\n      <td>0</td>\n      <td>0</td>\n      <td>0</td>\n      <td>2004</td>\n      <td>B02</td>\n      <td>3</td>\n      <td>1</td>\n    </tr>\n    <tr>\n      <th>10</th>\n      <td>200500000001</td>\n      <td>1</td>\n      <td>2.0</td>\n      <td>8.0</td>\n      <td>B02</td>\n      <td>8</td>\n      <td>0</td>\n      <td>1</td>\n      <td>5</td>\n      <td>2</td>\n      <td>1</td>\n      <td>1</td>\n      <td>0</td>\n      <td>0</td>\n      <td>0</td>\n      <td>0</td>\n      <td>1998</td>\n      <td>B02</td>\n      <td>1</td>\n      <td>1</td>\n    </tr>\n  </tbody>\n</table>\n</div>"
     },
     "execution_count": 7,
     "metadata": {},
     "output_type": "execute_result"
    }
   ]
  },
  {
   "cell_type": "code",
   "source": [
    "vehicles_users_df['num_veh_vehicles'].isna().sum()"
   ],
   "metadata": {
    "colab": {
     "base_uri": "https://localhost:8080/"
    },
    "id": "Jt-5bs2C8TTD",
    "outputId": "6e00ae76-69aa-4715-d36c-52769b8d5ae3",
    "ExecuteTime": {
     "end_time": "2024-04-07T11:21:17.065288Z",
     "start_time": "2024-04-07T11:21:16.887797Z"
    }
   },
   "execution_count": 8,
   "outputs": [
    {
     "data": {
      "text/plain": "0"
     },
     "execution_count": 8,
     "metadata": {},
     "output_type": "execute_result"
    }
   ]
  },
  {
   "cell_type": "code",
   "source": [
    "vehicles_users_df['num_veh_users'].isna().sum()"
   ],
   "metadata": {
    "colab": {
     "base_uri": "https://localhost:8080/"
    },
    "id": "ZDesIxtj8xo8",
    "outputId": "ed5fb399-df7d-48e7-e61e-87faf38c878c",
    "ExecuteTime": {
     "end_time": "2024-04-07T11:21:17.267135Z",
     "start_time": "2024-04-07T11:21:17.071198Z"
    }
   },
   "execution_count": 9,
   "outputs": [
    {
     "data": {
      "text/plain": "0"
     },
     "execution_count": 9,
     "metadata": {},
     "output_type": "execute_result"
    }
   ]
  },
  {
   "cell_type": "code",
   "source": [
    "vehicles_users_df.drop(['num_veh_users', 'num_veh_vehicles'], axis=1, inplace=True)"
   ],
   "metadata": {
    "id": "YZHpTMuG-lg9",
    "ExecuteTime": {
     "end_time": "2024-04-07T11:21:17.437658Z",
     "start_time": "2024-04-07T11:21:17.272479Z"
    }
   },
   "execution_count": 10,
   "outputs": []
  },
  {
   "cell_type": "code",
   "source": [
    "vehicles_users_df.shape"
   ],
   "metadata": {
    "colab": {
     "base_uri": "https://localhost:8080/"
    },
    "id": "g8wtZ7B_99EU",
    "outputId": "5a012363-d595-449e-e903-622bbc808301",
    "ExecuteTime": {
     "end_time": "2024-04-07T11:21:17.468844Z",
     "start_time": "2024-04-07T11:21:17.442791Z"
    }
   },
   "execution_count": 11,
   "outputs": [
    {
     "data": {
      "text/plain": "(1875983, 18)"
     },
     "execution_count": 11,
     "metadata": {},
     "output_type": "execute_result"
    }
   ]
  },
  {
   "cell_type": "markdown",
   "source": [
    "There are no vehicles without users and no users without vehicles."
   ],
   "metadata": {
    "id": "kRCJS-S-9eFY"
   }
  },
  {
   "cell_type": "markdown",
   "source": [
    "## Characteristics + places merge"
   ],
   "metadata": {
    "id": "N7-S-ATB9xRO"
   }
  },
  {
   "cell_type": "code",
   "source": [
    "places_df.shape"
   ],
   "metadata": {
    "colab": {
     "base_uri": "https://localhost:8080/"
    },
    "id": "zbDZ22Y19dCE",
    "outputId": "6042f8f6-6e87-4894-8706-6583059f7f3c",
    "ExecuteTime": {
     "end_time": "2024-04-07T11:21:17.515441Z",
     "start_time": "2024-04-07T11:21:17.493058Z"
    }
   },
   "execution_count": 12,
   "outputs": [
    {
     "data": {
      "text/plain": "(839985, 11)"
     },
     "execution_count": 12,
     "metadata": {},
     "output_type": "execute_result"
    }
   ]
  },
  {
   "cell_type": "code",
   "source": [
    "characteristics_df.shape"
   ],
   "metadata": {
    "colab": {
     "base_uri": "https://localhost:8080/"
    },
    "id": "lMNL57u89uiG",
    "outputId": "75b5aa72-d4a1-4cbc-df6e-c48e90198801",
    "ExecuteTime": {
     "end_time": "2024-04-07T11:21:17.546044Z",
     "start_time": "2024-04-07T11:21:17.521425Z"
    }
   },
   "execution_count": 13,
   "outputs": [
    {
     "data": {
      "text/plain": "(839985, 11)"
     },
     "execution_count": 13,
     "metadata": {},
     "output_type": "execute_result"
    }
   ]
  },
  {
   "cell_type": "code",
   "source": [
    "characteristics_places_df = pd.merge(places_df, characteristics_df, on='Num_Acc', how='inner')"
   ],
   "metadata": {
    "id": "GS8EbaXJ9wVN",
    "ExecuteTime": {
     "end_time": "2024-04-07T11:21:18.264976Z",
     "start_time": "2024-04-07T11:21:17.553126Z"
    }
   },
   "execution_count": 14,
   "outputs": []
  },
  {
   "cell_type": "code",
   "source": [
    "characteristics_places_df.shape"
   ],
   "metadata": {
    "colab": {
     "base_uri": "https://localhost:8080/"
    },
    "id": "aAw-I6mQ_BTk",
    "outputId": "6ddfcffd-9821-4912-f131-bc273a574048",
    "ExecuteTime": {
     "end_time": "2024-04-07T11:21:18.295182Z",
     "start_time": "2024-04-07T11:21:18.270177Z"
    }
   },
   "execution_count": 15,
   "outputs": [
    {
     "data": {
      "text/plain": "(839985, 21)"
     },
     "execution_count": 15,
     "metadata": {},
     "output_type": "execute_result"
    }
   ]
  },
  {
   "cell_type": "markdown",
   "source": [
    "## Merge all"
   ],
   "metadata": {
    "id": "Fsxz1TBH_Ikn"
   }
  },
  {
   "cell_type": "code",
   "source": [
    "merged_df = pd.merge(characteristics_places_df, vehicles_users_df, on='Num_Acc', how='inner')"
   ],
   "metadata": {
    "id": "121haPFv_Ctr",
    "ExecuteTime": {
     "end_time": "2024-04-07T11:21:26.825759Z",
     "start_time": "2024-04-07T11:21:18.304186Z"
    }
   },
   "execution_count": 16,
   "outputs": []
  },
  {
   "cell_type": "code",
   "source": [
    "merged_df.shape"
   ],
   "metadata": {
    "colab": {
     "base_uri": "https://localhost:8080/"
    },
    "id": "H4I_x4Rn_Wa8",
    "outputId": "2cbaf135-8a62-49fa-c191-51ff862ebad7",
    "ExecuteTime": {
     "end_time": "2024-04-07T11:21:26.963740Z",
     "start_time": "2024-04-07T11:21:26.879391Z"
    }
   },
   "execution_count": 17,
   "outputs": [
    {
     "data": {
      "text/plain": "(1875983, 38)"
     },
     "execution_count": 17,
     "metadata": {},
     "output_type": "execute_result"
    }
   ]
  },
  {
   "cell_type": "code",
   "outputs": [
    {
     "data": {
      "text/plain": "        Num_Acc  road_type  traffic_type  num_lanes  bike_lane_type  \\\n0  201600000001        3.0           2.0        0.0             0.0   \n1  201600000001        3.0           2.0        0.0             0.0   \n2  201600000002        3.0           1.0        0.0             0.0   \n3  201600000002        3.0           1.0        0.0             0.0   \n4  201600000002        3.0           1.0        0.0             0.0   \n\n   terrain_type  curve_type  condition  infrastructure  situ  ...  User type  \\\n0           1.0         3.0        1.0             0.0   1.0  ...          1   \n1           1.0         3.0        1.0             0.0   1.0  ...          1   \n2           1.0         2.0        1.0             0.0   1.0  ...          1   \n3           1.0         2.0        1.0             0.0   1.0  ...          2   \n4           1.0         2.0        1.0             0.0   1.0  ...          2   \n\n   Severity  Sex  Trip  Pedestrian location  Pedestrian action  \\\n0         1    2     0                    0                  0   \n1         3    1     9                    0                  0   \n2         3    1     5                    0                  0   \n3         3    1     0                    0                  0   \n4         3    2     0                    0                  0   \n\n   Pedestrian alone  Birth year Safety equipment existence  \\\n0                 0        1983                          1   \n1                 0        2001                          2   \n2                 0        1960                          1   \n3                 0        2000                          1   \n4                 0        1962                          1   \n\n   Safety equipment use  \n0                     1  \n1                     1  \n2                     1  \n3                     1  \n4                     1  \n\n[5 rows x 38 columns]",
      "text/html": "<div>\n<style scoped>\n    .dataframe tbody tr th:only-of-type {\n        vertical-align: middle;\n    }\n\n    .dataframe tbody tr th {\n        vertical-align: top;\n    }\n\n    .dataframe thead th {\n        text-align: right;\n    }\n</style>\n<table border=\"1\" class=\"dataframe\">\n  <thead>\n    <tr style=\"text-align: right;\">\n      <th></th>\n      <th>Num_Acc</th>\n      <th>road_type</th>\n      <th>traffic_type</th>\n      <th>num_lanes</th>\n      <th>bike_lane_type</th>\n      <th>terrain_type</th>\n      <th>curve_type</th>\n      <th>condition</th>\n      <th>infrastructure</th>\n      <th>situ</th>\n      <th>...</th>\n      <th>User type</th>\n      <th>Severity</th>\n      <th>Sex</th>\n      <th>Trip</th>\n      <th>Pedestrian location</th>\n      <th>Pedestrian action</th>\n      <th>Pedestrian alone</th>\n      <th>Birth year</th>\n      <th>Safety equipment existence</th>\n      <th>Safety equipment use</th>\n    </tr>\n  </thead>\n  <tbody>\n    <tr>\n      <th>0</th>\n      <td>201600000001</td>\n      <td>3.0</td>\n      <td>2.0</td>\n      <td>0.0</td>\n      <td>0.0</td>\n      <td>1.0</td>\n      <td>3.0</td>\n      <td>1.0</td>\n      <td>0.0</td>\n      <td>1.0</td>\n      <td>...</td>\n      <td>1</td>\n      <td>1</td>\n      <td>2</td>\n      <td>0</td>\n      <td>0</td>\n      <td>0</td>\n      <td>0</td>\n      <td>1983</td>\n      <td>1</td>\n      <td>1</td>\n    </tr>\n    <tr>\n      <th>1</th>\n      <td>201600000001</td>\n      <td>3.0</td>\n      <td>2.0</td>\n      <td>0.0</td>\n      <td>0.0</td>\n      <td>1.0</td>\n      <td>3.0</td>\n      <td>1.0</td>\n      <td>0.0</td>\n      <td>1.0</td>\n      <td>...</td>\n      <td>1</td>\n      <td>3</td>\n      <td>1</td>\n      <td>9</td>\n      <td>0</td>\n      <td>0</td>\n      <td>0</td>\n      <td>2001</td>\n      <td>2</td>\n      <td>1</td>\n    </tr>\n    <tr>\n      <th>2</th>\n      <td>201600000002</td>\n      <td>3.0</td>\n      <td>1.0</td>\n      <td>0.0</td>\n      <td>0.0</td>\n      <td>1.0</td>\n      <td>2.0</td>\n      <td>1.0</td>\n      <td>0.0</td>\n      <td>1.0</td>\n      <td>...</td>\n      <td>1</td>\n      <td>3</td>\n      <td>1</td>\n      <td>5</td>\n      <td>0</td>\n      <td>0</td>\n      <td>0</td>\n      <td>1960</td>\n      <td>1</td>\n      <td>1</td>\n    </tr>\n    <tr>\n      <th>3</th>\n      <td>201600000002</td>\n      <td>3.0</td>\n      <td>1.0</td>\n      <td>0.0</td>\n      <td>0.0</td>\n      <td>1.0</td>\n      <td>2.0</td>\n      <td>1.0</td>\n      <td>0.0</td>\n      <td>1.0</td>\n      <td>...</td>\n      <td>2</td>\n      <td>3</td>\n      <td>1</td>\n      <td>0</td>\n      <td>0</td>\n      <td>0</td>\n      <td>0</td>\n      <td>2000</td>\n      <td>1</td>\n      <td>1</td>\n    </tr>\n    <tr>\n      <th>4</th>\n      <td>201600000002</td>\n      <td>3.0</td>\n      <td>1.0</td>\n      <td>0.0</td>\n      <td>0.0</td>\n      <td>1.0</td>\n      <td>2.0</td>\n      <td>1.0</td>\n      <td>0.0</td>\n      <td>1.0</td>\n      <td>...</td>\n      <td>2</td>\n      <td>3</td>\n      <td>2</td>\n      <td>0</td>\n      <td>0</td>\n      <td>0</td>\n      <td>0</td>\n      <td>1962</td>\n      <td>1</td>\n      <td>1</td>\n    </tr>\n  </tbody>\n</table>\n<p>5 rows × 38 columns</p>\n</div>"
     },
     "execution_count": 19,
     "metadata": {},
     "output_type": "execute_result"
    }
   ],
   "source": [
    "merged_df.head()"
   ],
   "metadata": {
    "collapsed": false,
    "ExecuteTime": {
     "end_time": "2024-04-07T14:02:46.796761Z",
     "start_time": "2024-04-07T14:02:46.441658Z"
    }
   },
   "execution_count": 19
  },
  {
   "cell_type": "code",
   "outputs": [
    {
     "data": {
      "text/plain": "  0%|          | 0/10000 [00:00<?, ?it/s]",
      "application/vnd.jupyter.widget-view+json": {
       "version_major": 2,
       "version_minor": 0,
       "model_id": "943b8c590d644c3f8dd19badcae899cf"
      }
     },
     "metadata": {},
     "output_type": "display_data"
    },
    {
     "ename": "MemoryError",
     "evalue": "Unable to allocate 5.78 GiB for an array with shape (924, 839985) and data type float64",
     "output_type": "error",
     "traceback": [
      "\u001B[1;31m---------------------------------------------------------------------------\u001B[0m",
      "\u001B[1;31mMemoryError\u001B[0m                               Traceback (most recent call last)",
      "Cell \u001B[1;32mIn[18], line 3\u001B[0m\n\u001B[0;32m      1\u001B[0m scoring_method \u001B[38;5;241m=\u001B[39m K2Score(data\u001B[38;5;241m=\u001B[39mmerged_df)\n\u001B[0;32m      2\u001B[0m est \u001B[38;5;241m=\u001B[39m HillClimbSearch(data\u001B[38;5;241m=\u001B[39mmerged_df)\n\u001B[1;32m----> 3\u001B[0m estimated_model \u001B[38;5;241m=\u001B[39m \u001B[43mest\u001B[49m\u001B[38;5;241;43m.\u001B[39;49m\u001B[43mestimate\u001B[49m\u001B[43m(\u001B[49m\n\u001B[0;32m      4\u001B[0m \u001B[43m    \u001B[49m\u001B[43mscoring_method\u001B[49m\u001B[38;5;241;43m=\u001B[39;49m\u001B[43mscoring_method\u001B[49m\u001B[43m,\u001B[49m\u001B[43m \u001B[49m\u001B[43mmax_indegree\u001B[49m\u001B[38;5;241;43m=\u001B[39;49m\u001B[38;5;241;43m4\u001B[39;49m\u001B[43m,\u001B[49m\u001B[43m \u001B[49m\u001B[43mmax_iter\u001B[49m\u001B[38;5;241;43m=\u001B[39;49m\u001B[38;5;28;43mint\u001B[39;49m\u001B[43m(\u001B[49m\u001B[38;5;241;43m1e4\u001B[39;49m\u001B[43m)\u001B[49m\n\u001B[0;32m      5\u001B[0m \u001B[43m)\u001B[49m\n",
      "File \u001B[1;32mC:\\Egyetem\\Msc\\Haladó\\french-accidents\\.venv\\lib\\site-packages\\pgmpy\\estimators\\HillClimbSearch.py:300\u001B[0m, in \u001B[0;36mHillClimbSearch.estimate\u001B[1;34m(self, scoring_method, start_dag, fixed_edges, tabu_length, max_indegree, black_list, white_list, epsilon, max_iter, show_progress)\u001B[0m\n\u001B[0;32m    296\u001B[0m \u001B[38;5;66;03m# Step 2: For each iteration, find the best scoring operation and\u001B[39;00m\n\u001B[0;32m    297\u001B[0m \u001B[38;5;66;03m#         do that to the current model. If no legal operation is\u001B[39;00m\n\u001B[0;32m    298\u001B[0m \u001B[38;5;66;03m#         possible, sets best_operation=None.\u001B[39;00m\n\u001B[0;32m    299\u001B[0m \u001B[38;5;28;01mfor\u001B[39;00m _ \u001B[38;5;129;01min\u001B[39;00m iteration:\n\u001B[1;32m--> 300\u001B[0m     best_operation, best_score_delta \u001B[38;5;241m=\u001B[39m \u001B[38;5;28;43mmax\u001B[39;49m\u001B[43m(\u001B[49m\n\u001B[0;32m    301\u001B[0m \u001B[43m        \u001B[49m\u001B[38;5;28;43mself\u001B[39;49m\u001B[38;5;241;43m.\u001B[39;49m\u001B[43m_legal_operations\u001B[49m\u001B[43m(\u001B[49m\n\u001B[0;32m    302\u001B[0m \u001B[43m            \u001B[49m\u001B[43mcurrent_model\u001B[49m\u001B[43m,\u001B[49m\n\u001B[0;32m    303\u001B[0m \u001B[43m            \u001B[49m\u001B[43mscore_fn\u001B[49m\u001B[43m,\u001B[49m\n\u001B[0;32m    304\u001B[0m \u001B[43m            \u001B[49m\u001B[43mscore\u001B[49m\u001B[38;5;241;43m.\u001B[39;49m\u001B[43mstructure_prior_ratio\u001B[49m\u001B[43m,\u001B[49m\n\u001B[0;32m    305\u001B[0m \u001B[43m            \u001B[49m\u001B[43mtabu_list\u001B[49m\u001B[43m,\u001B[49m\n\u001B[0;32m    306\u001B[0m \u001B[43m            \u001B[49m\u001B[43mmax_indegree\u001B[49m\u001B[43m,\u001B[49m\n\u001B[0;32m    307\u001B[0m \u001B[43m            \u001B[49m\u001B[43mblack_list\u001B[49m\u001B[43m,\u001B[49m\n\u001B[0;32m    308\u001B[0m \u001B[43m            \u001B[49m\u001B[43mwhite_list\u001B[49m\u001B[43m,\u001B[49m\n\u001B[0;32m    309\u001B[0m \u001B[43m            \u001B[49m\u001B[43mfixed_edges\u001B[49m\u001B[43m,\u001B[49m\n\u001B[0;32m    310\u001B[0m \u001B[43m        \u001B[49m\u001B[43m)\u001B[49m\u001B[43m,\u001B[49m\n\u001B[0;32m    311\u001B[0m \u001B[43m        \u001B[49m\u001B[43mkey\u001B[49m\u001B[38;5;241;43m=\u001B[39;49m\u001B[38;5;28;43;01mlambda\u001B[39;49;00m\u001B[43m \u001B[49m\u001B[43mt\u001B[49m\u001B[43m:\u001B[49m\u001B[43m \u001B[49m\u001B[43mt\u001B[49m\u001B[43m[\u001B[49m\u001B[38;5;241;43m1\u001B[39;49m\u001B[43m]\u001B[49m\u001B[43m,\u001B[49m\n\u001B[0;32m    312\u001B[0m \u001B[43m        \u001B[49m\u001B[43mdefault\u001B[49m\u001B[38;5;241;43m=\u001B[39;49m\u001B[43m(\u001B[49m\u001B[38;5;28;43;01mNone\u001B[39;49;00m\u001B[43m,\u001B[49m\u001B[43m \u001B[49m\u001B[38;5;28;43;01mNone\u001B[39;49;00m\u001B[43m)\u001B[49m\u001B[43m,\u001B[49m\n\u001B[0;32m    313\u001B[0m \u001B[43m    \u001B[49m\u001B[43m)\u001B[49m\n\u001B[0;32m    315\u001B[0m     \u001B[38;5;28;01mif\u001B[39;00m best_operation \u001B[38;5;129;01mis\u001B[39;00m \u001B[38;5;28;01mNone\u001B[39;00m \u001B[38;5;129;01mor\u001B[39;00m best_score_delta \u001B[38;5;241m<\u001B[39m epsilon:\n\u001B[0;32m    316\u001B[0m         \u001B[38;5;28;01mbreak\u001B[39;00m\n",
      "File \u001B[1;32mC:\\Egyetem\\Msc\\Haladó\\french-accidents\\.venv\\lib\\site-packages\\pgmpy\\estimators\\HillClimbSearch.py:97\u001B[0m, in \u001B[0;36mHillClimbSearch._legal_operations\u001B[1;34m(self, model, score, structure_score, tabu_list, max_indegree, black_list, white_list, fixed_edges)\u001B[0m\n\u001B[0;32m     95\u001B[0m new_parents \u001B[38;5;241m=\u001B[39m old_parents \u001B[38;5;241m+\u001B[39m [X]\n\u001B[0;32m     96\u001B[0m \u001B[38;5;28;01mif\u001B[39;00m \u001B[38;5;28mlen\u001B[39m(new_parents) \u001B[38;5;241m<\u001B[39m\u001B[38;5;241m=\u001B[39m max_indegree:\n\u001B[1;32m---> 97\u001B[0m     score_delta \u001B[38;5;241m=\u001B[39m \u001B[43mscore\u001B[49m\u001B[43m(\u001B[49m\u001B[43mY\u001B[49m\u001B[43m,\u001B[49m\u001B[43m \u001B[49m\u001B[43mnew_parents\u001B[49m\u001B[43m)\u001B[49m \u001B[38;5;241m-\u001B[39m score(Y, old_parents)\n\u001B[0;32m     98\u001B[0m     score_delta \u001B[38;5;241m+\u001B[39m\u001B[38;5;241m=\u001B[39m structure_score(\u001B[38;5;124m\"\u001B[39m\u001B[38;5;124m+\u001B[39m\u001B[38;5;124m\"\u001B[39m)\n\u001B[0;32m     99\u001B[0m     \u001B[38;5;28;01myield\u001B[39;00m (operation, score_delta)\n",
      "File \u001B[1;32mC:\\Egyetem\\Msc\\Haladó\\french-accidents\\.venv\\lib\\site-packages\\pgmpy\\estimators\\ScoreCache.py:44\u001B[0m, in \u001B[0;36mScoreCache.local_score\u001B[1;34m(self, variable, parents)\u001B[0m\n\u001B[0;32m     42\u001B[0m \u001B[38;5;28;01mdef\u001B[39;00m \u001B[38;5;21mlocal_score\u001B[39m(\u001B[38;5;28mself\u001B[39m, variable, parents):\n\u001B[0;32m     43\u001B[0m     hashable \u001B[38;5;241m=\u001B[39m \u001B[38;5;28mtuple\u001B[39m(parents)\n\u001B[1;32m---> 44\u001B[0m     \u001B[38;5;28;01mreturn\u001B[39;00m \u001B[38;5;28;43mself\u001B[39;49m\u001B[38;5;241;43m.\u001B[39;49m\u001B[43mcache\u001B[49m\u001B[43m(\u001B[49m\u001B[43mvariable\u001B[49m\u001B[43m,\u001B[49m\u001B[43m \u001B[49m\u001B[43mhashable\u001B[49m\u001B[43m)\u001B[49m\n",
      "File \u001B[1;32mC:\\Egyetem\\Msc\\Haladó\\french-accidents\\.venv\\lib\\site-packages\\pgmpy\\estimators\\ScoreCache.py:90\u001B[0m, in \u001B[0;36mLRUCache.__call__\u001B[1;34m(self, *key)\u001B[0m\n\u001B[0;32m     87\u001B[0m link \u001B[38;5;241m=\u001B[39m mapping\u001B[38;5;241m.\u001B[39mget(key, head)\n\u001B[0;32m     88\u001B[0m \u001B[38;5;28;01mif\u001B[39;00m link \u001B[38;5;129;01mis\u001B[39;00m head:\n\u001B[0;32m     89\u001B[0m     \u001B[38;5;66;03m# Not yet in map\u001B[39;00m\n\u001B[1;32m---> 90\u001B[0m     value \u001B[38;5;241m=\u001B[39m \u001B[38;5;28;43mself\u001B[39;49m\u001B[38;5;241;43m.\u001B[39;49m\u001B[43moriginal_function\u001B[49m\u001B[43m(\u001B[49m\u001B[38;5;241;43m*\u001B[39;49m\u001B[43mkey\u001B[49m\u001B[43m)\u001B[49m\n\u001B[0;32m     91\u001B[0m     \u001B[38;5;28;01mif\u001B[39;00m \u001B[38;5;28mlen\u001B[39m(mapping) \u001B[38;5;241m>\u001B[39m\u001B[38;5;241m=\u001B[39m \u001B[38;5;28mself\u001B[39m\u001B[38;5;241m.\u001B[39mmax_size:\n\u001B[0;32m     92\u001B[0m         \u001B[38;5;66;03m# Unlink the least recently used element\u001B[39;00m\n\u001B[0;32m     93\u001B[0m         old_prev, old_next, old_key, old_value \u001B[38;5;241m=\u001B[39m head[_NEXT]\n",
      "File \u001B[1;32mC:\\Egyetem\\Msc\\Haladó\\french-accidents\\.venv\\lib\\site-packages\\pgmpy\\estimators\\ScoreCache.py:48\u001B[0m, in \u001B[0;36mScoreCache._wrapped_original\u001B[1;34m(self, variable, parents)\u001B[0m\n\u001B[0;32m     46\u001B[0m \u001B[38;5;28;01mdef\u001B[39;00m \u001B[38;5;21m_wrapped_original\u001B[39m(\u001B[38;5;28mself\u001B[39m, variable, parents):\n\u001B[0;32m     47\u001B[0m     expected \u001B[38;5;241m=\u001B[39m \u001B[38;5;28mlist\u001B[39m(parents)\n\u001B[1;32m---> 48\u001B[0m     \u001B[38;5;28;01mreturn\u001B[39;00m \u001B[38;5;28;43mself\u001B[39;49m\u001B[38;5;241;43m.\u001B[39;49m\u001B[43mbase_scorer\u001B[49m\u001B[38;5;241;43m.\u001B[39;49m\u001B[43mlocal_score\u001B[49m\u001B[43m(\u001B[49m\u001B[43mvariable\u001B[49m\u001B[43m,\u001B[49m\u001B[43m \u001B[49m\u001B[43mexpected\u001B[49m\u001B[43m)\u001B[49m\n",
      "File \u001B[1;32mC:\\Egyetem\\Msc\\Haladó\\french-accidents\\.venv\\lib\\site-packages\\pgmpy\\estimators\\StructureScore.py:121\u001B[0m, in \u001B[0;36mK2Score.local_score\u001B[1;34m(self, variable, parents)\u001B[0m\n\u001B[0;32m    119\u001B[0m var_cardinality \u001B[38;5;241m=\u001B[39m \u001B[38;5;28mlen\u001B[39m(var_states)\n\u001B[0;32m    120\u001B[0m parents \u001B[38;5;241m=\u001B[39m \u001B[38;5;28mlist\u001B[39m(parents)\n\u001B[1;32m--> 121\u001B[0m state_counts \u001B[38;5;241m=\u001B[39m \u001B[38;5;28;43mself\u001B[39;49m\u001B[38;5;241;43m.\u001B[39;49m\u001B[43mstate_counts\u001B[49m\u001B[43m(\u001B[49m\u001B[43mvariable\u001B[49m\u001B[43m,\u001B[49m\u001B[43m \u001B[49m\u001B[43mparents\u001B[49m\u001B[43m,\u001B[49m\u001B[43m \u001B[49m\u001B[43mreindex\u001B[49m\u001B[38;5;241;43m=\u001B[39;49m\u001B[38;5;28;43;01mFalse\u001B[39;49;00m\u001B[43m)\u001B[49m\n\u001B[0;32m    122\u001B[0m num_parents_states \u001B[38;5;241m=\u001B[39m np\u001B[38;5;241m.\u001B[39mprod([\u001B[38;5;28mlen\u001B[39m(\u001B[38;5;28mself\u001B[39m\u001B[38;5;241m.\u001B[39mstate_names[var]) \u001B[38;5;28;01mfor\u001B[39;00m var \u001B[38;5;129;01min\u001B[39;00m parents])\n\u001B[0;32m    124\u001B[0m counts \u001B[38;5;241m=\u001B[39m np\u001B[38;5;241m.\u001B[39masarray(state_counts)\n",
      "File \u001B[1;32mC:\\Egyetem\\Msc\\Haladó\\french-accidents\\.venv\\lib\\site-packages\\pgmpy\\estimators\\base.py:170\u001B[0m, in \u001B[0;36mBaseEstimator.state_counts\u001B[1;34m(self, variable, parents, weighted, reindex)\u001B[0m\n\u001B[0;32m    166\u001B[0m         state_counts \u001B[38;5;241m=\u001B[39m state_count_data\u001B[38;5;241m.\u001B[39mreindex(\n\u001B[0;32m    167\u001B[0m             index\u001B[38;5;241m=\u001B[39mrow_index, columns\u001B[38;5;241m=\u001B[39mcolumn_index\n\u001B[0;32m    168\u001B[0m         )\u001B[38;5;241m.\u001B[39mfillna(\u001B[38;5;241m0\u001B[39m)\n\u001B[0;32m    169\u001B[0m     \u001B[38;5;28;01melse\u001B[39;00m:\n\u001B[1;32m--> 170\u001B[0m         state_counts \u001B[38;5;241m=\u001B[39m \u001B[43mstate_count_data\u001B[49m\u001B[38;5;241;43m.\u001B[39;49m\u001B[43mfillna\u001B[49m\u001B[43m(\u001B[49m\u001B[38;5;241;43m0\u001B[39;49m\u001B[43m)\u001B[49m\n\u001B[0;32m    172\u001B[0m \u001B[38;5;28;01mreturn\u001B[39;00m state_counts\n",
      "File \u001B[1;32mC:\\Egyetem\\Msc\\Haladó\\french-accidents\\.venv\\lib\\site-packages\\pandas\\core\\generic.py:7431\u001B[0m, in \u001B[0;36mNDFrame.fillna\u001B[1;34m(self, value, method, axis, inplace, limit, downcast)\u001B[0m\n\u001B[0;32m   7429\u001B[0m         new_data \u001B[38;5;241m=\u001B[39m result\u001B[38;5;241m.\u001B[39m_mgr\n\u001B[0;32m   7430\u001B[0m     \u001B[38;5;28;01melse\u001B[39;00m:\n\u001B[1;32m-> 7431\u001B[0m         new_data \u001B[38;5;241m=\u001B[39m \u001B[38;5;28;43mself\u001B[39;49m\u001B[38;5;241;43m.\u001B[39;49m\u001B[43m_mgr\u001B[49m\u001B[38;5;241;43m.\u001B[39;49m\u001B[43mfillna\u001B[49m\u001B[43m(\u001B[49m\n\u001B[0;32m   7432\u001B[0m \u001B[43m            \u001B[49m\u001B[43mvalue\u001B[49m\u001B[38;5;241;43m=\u001B[39;49m\u001B[43mvalue\u001B[49m\u001B[43m,\u001B[49m\u001B[43m \u001B[49m\u001B[43mlimit\u001B[49m\u001B[38;5;241;43m=\u001B[39;49m\u001B[43mlimit\u001B[49m\u001B[43m,\u001B[49m\u001B[43m \u001B[49m\u001B[43minplace\u001B[49m\u001B[38;5;241;43m=\u001B[39;49m\u001B[43minplace\u001B[49m\u001B[43m,\u001B[49m\u001B[43m \u001B[49m\u001B[43mdowncast\u001B[49m\u001B[38;5;241;43m=\u001B[39;49m\u001B[43mdowncast\u001B[49m\n\u001B[0;32m   7433\u001B[0m \u001B[43m        \u001B[49m\u001B[43m)\u001B[49m\n\u001B[0;32m   7434\u001B[0m \u001B[38;5;28;01melif\u001B[39;00m \u001B[38;5;28misinstance\u001B[39m(value, ABCDataFrame) \u001B[38;5;129;01mand\u001B[39;00m \u001B[38;5;28mself\u001B[39m\u001B[38;5;241m.\u001B[39mndim \u001B[38;5;241m==\u001B[39m \u001B[38;5;241m2\u001B[39m:\n\u001B[0;32m   7435\u001B[0m     new_data \u001B[38;5;241m=\u001B[39m \u001B[38;5;28mself\u001B[39m\u001B[38;5;241m.\u001B[39mwhere(\u001B[38;5;28mself\u001B[39m\u001B[38;5;241m.\u001B[39mnotna(), value)\u001B[38;5;241m.\u001B[39m_mgr\n",
      "File \u001B[1;32mC:\\Egyetem\\Msc\\Haladó\\french-accidents\\.venv\\lib\\site-packages\\pandas\\core\\internals\\base.py:186\u001B[0m, in \u001B[0;36mDataManager.fillna\u001B[1;34m(self, value, limit, inplace, downcast)\u001B[0m\n\u001B[0;32m    182\u001B[0m \u001B[38;5;28;01mif\u001B[39;00m limit \u001B[38;5;129;01mis\u001B[39;00m \u001B[38;5;129;01mnot\u001B[39;00m \u001B[38;5;28;01mNone\u001B[39;00m:\n\u001B[0;32m    183\u001B[0m     \u001B[38;5;66;03m# Do this validation even if we go through one of the no-op paths\u001B[39;00m\n\u001B[0;32m    184\u001B[0m     limit \u001B[38;5;241m=\u001B[39m libalgos\u001B[38;5;241m.\u001B[39mvalidate_limit(\u001B[38;5;28;01mNone\u001B[39;00m, limit\u001B[38;5;241m=\u001B[39mlimit)\n\u001B[1;32m--> 186\u001B[0m \u001B[38;5;28;01mreturn\u001B[39;00m \u001B[38;5;28;43mself\u001B[39;49m\u001B[38;5;241;43m.\u001B[39;49m\u001B[43mapply_with_block\u001B[49m\u001B[43m(\u001B[49m\n\u001B[0;32m    187\u001B[0m \u001B[43m    \u001B[49m\u001B[38;5;124;43m\"\u001B[39;49m\u001B[38;5;124;43mfillna\u001B[39;49m\u001B[38;5;124;43m\"\u001B[39;49m\u001B[43m,\u001B[49m\n\u001B[0;32m    188\u001B[0m \u001B[43m    \u001B[49m\u001B[43mvalue\u001B[49m\u001B[38;5;241;43m=\u001B[39;49m\u001B[43mvalue\u001B[49m\u001B[43m,\u001B[49m\n\u001B[0;32m    189\u001B[0m \u001B[43m    \u001B[49m\u001B[43mlimit\u001B[49m\u001B[38;5;241;43m=\u001B[39;49m\u001B[43mlimit\u001B[49m\u001B[43m,\u001B[49m\n\u001B[0;32m    190\u001B[0m \u001B[43m    \u001B[49m\u001B[43minplace\u001B[49m\u001B[38;5;241;43m=\u001B[39;49m\u001B[43minplace\u001B[49m\u001B[43m,\u001B[49m\n\u001B[0;32m    191\u001B[0m \u001B[43m    \u001B[49m\u001B[43mdowncast\u001B[49m\u001B[38;5;241;43m=\u001B[39;49m\u001B[43mdowncast\u001B[49m\u001B[43m,\u001B[49m\n\u001B[0;32m    192\u001B[0m \u001B[43m    \u001B[49m\u001B[43musing_cow\u001B[49m\u001B[38;5;241;43m=\u001B[39;49m\u001B[43musing_copy_on_write\u001B[49m\u001B[43m(\u001B[49m\u001B[43m)\u001B[49m\u001B[43m,\u001B[49m\n\u001B[0;32m    193\u001B[0m \u001B[43m    \u001B[49m\u001B[43malready_warned\u001B[49m\u001B[38;5;241;43m=\u001B[39;49m\u001B[43m_AlreadyWarned\u001B[49m\u001B[43m(\u001B[49m\u001B[43m)\u001B[49m\u001B[43m,\u001B[49m\n\u001B[0;32m    194\u001B[0m \u001B[43m\u001B[49m\u001B[43m)\u001B[49m\n",
      "File \u001B[1;32mC:\\Egyetem\\Msc\\Haladó\\french-accidents\\.venv\\lib\\site-packages\\pandas\\core\\internals\\managers.py:363\u001B[0m, in \u001B[0;36mBaseBlockManager.apply\u001B[1;34m(self, f, align_keys, **kwargs)\u001B[0m\n\u001B[0;32m    361\u001B[0m         applied \u001B[38;5;241m=\u001B[39m b\u001B[38;5;241m.\u001B[39mapply(f, \u001B[38;5;241m*\u001B[39m\u001B[38;5;241m*\u001B[39mkwargs)\n\u001B[0;32m    362\u001B[0m     \u001B[38;5;28;01melse\u001B[39;00m:\n\u001B[1;32m--> 363\u001B[0m         applied \u001B[38;5;241m=\u001B[39m \u001B[38;5;28mgetattr\u001B[39m(b, f)(\u001B[38;5;241m*\u001B[39m\u001B[38;5;241m*\u001B[39mkwargs)\n\u001B[0;32m    364\u001B[0m     result_blocks \u001B[38;5;241m=\u001B[39m extend_blocks(applied, result_blocks)\n\u001B[0;32m    366\u001B[0m out \u001B[38;5;241m=\u001B[39m \u001B[38;5;28mtype\u001B[39m(\u001B[38;5;28mself\u001B[39m)\u001B[38;5;241m.\u001B[39mfrom_blocks(result_blocks, \u001B[38;5;28mself\u001B[39m\u001B[38;5;241m.\u001B[39maxes)\n",
      "File \u001B[1;32mC:\\Egyetem\\Msc\\Haladó\\french-accidents\\.venv\\lib\\site-packages\\pandas\\core\\internals\\blocks.py:1692\u001B[0m, in \u001B[0;36mBlock.fillna\u001B[1;34m(self, value, limit, inplace, downcast, using_cow, already_warned)\u001B[0m\n\u001B[0;32m   1686\u001B[0m     nbs \u001B[38;5;241m=\u001B[39m \u001B[38;5;28mself\u001B[39m\u001B[38;5;241m.\u001B[39mputmask(\n\u001B[0;32m   1687\u001B[0m         mask\u001B[38;5;241m.\u001B[39mT, value, using_cow\u001B[38;5;241m=\u001B[39musing_cow, already_warned\u001B[38;5;241m=\u001B[39malready_warned\n\u001B[0;32m   1688\u001B[0m     )\n\u001B[0;32m   1689\u001B[0m \u001B[38;5;28;01melse\u001B[39;00m:\n\u001B[0;32m   1690\u001B[0m     \u001B[38;5;66;03m# without _downcast, we would break\u001B[39;00m\n\u001B[0;32m   1691\u001B[0m     \u001B[38;5;66;03m#  test_fillna_dtype_conversion_equiv_replace\u001B[39;00m\n\u001B[1;32m-> 1692\u001B[0m     nbs \u001B[38;5;241m=\u001B[39m \u001B[38;5;28;43mself\u001B[39;49m\u001B[38;5;241;43m.\u001B[39;49m\u001B[43mwhere\u001B[49m\u001B[43m(\u001B[49m\u001B[43mvalue\u001B[49m\u001B[43m,\u001B[49m\u001B[43m \u001B[49m\u001B[38;5;241;43m~\u001B[39;49m\u001B[43mmask\u001B[49m\u001B[38;5;241;43m.\u001B[39;49m\u001B[43mT\u001B[49m\u001B[43m,\u001B[49m\u001B[43m \u001B[49m\u001B[43m_downcast\u001B[49m\u001B[38;5;241;43m=\u001B[39;49m\u001B[38;5;28;43;01mFalse\u001B[39;49;00m\u001B[43m)\u001B[49m\n\u001B[0;32m   1694\u001B[0m \u001B[38;5;66;03m# Note: blk._maybe_downcast vs self._maybe_downcast(nbs)\u001B[39;00m\n\u001B[0;32m   1695\u001B[0m \u001B[38;5;66;03m#  makes a difference bc blk may have object dtype, which has\u001B[39;00m\n\u001B[0;32m   1696\u001B[0m \u001B[38;5;66;03m#  different behavior in _maybe_downcast.\u001B[39;00m\n\u001B[0;32m   1697\u001B[0m \u001B[38;5;28;01mreturn\u001B[39;00m extend_blocks(\n\u001B[0;32m   1698\u001B[0m     [\n\u001B[0;32m   1699\u001B[0m         blk\u001B[38;5;241m.\u001B[39m_maybe_downcast(\n\u001B[1;32m   (...)\u001B[0m\n\u001B[0;32m   1703\u001B[0m     ]\n\u001B[0;32m   1704\u001B[0m )\n",
      "File \u001B[1;32mC:\\Egyetem\\Msc\\Haladó\\french-accidents\\.venv\\lib\\site-packages\\pandas\\core\\internals\\blocks.py:1634\u001B[0m, in \u001B[0;36mBlock.where\u001B[1;34m(self, other, cond, _downcast, using_cow)\u001B[0m\n\u001B[0;32m   1629\u001B[0m             other \u001B[38;5;241m=\u001B[39m np\u001B[38;5;241m.\u001B[39marray(other)\u001B[38;5;241m.\u001B[39mreshape(values\u001B[38;5;241m.\u001B[39mshape)\n\u001B[0;32m   1630\u001B[0m             \u001B[38;5;66;03m# If lengths don't match (or len(other)==1), we will raise\u001B[39;00m\n\u001B[0;32m   1631\u001B[0m             \u001B[38;5;66;03m#  inside expressions.where, see test_series_where\u001B[39;00m\n\u001B[0;32m   1632\u001B[0m \n\u001B[0;32m   1633\u001B[0m         \u001B[38;5;66;03m# Note: expressions.where may upcast.\u001B[39;00m\n\u001B[1;32m-> 1634\u001B[0m         result \u001B[38;5;241m=\u001B[39m \u001B[43mexpressions\u001B[49m\u001B[38;5;241;43m.\u001B[39;49m\u001B[43mwhere\u001B[49m\u001B[43m(\u001B[49m\u001B[38;5;241;43m~\u001B[39;49m\u001B[43micond\u001B[49m\u001B[43m,\u001B[49m\u001B[43m \u001B[49m\u001B[43mvalues\u001B[49m\u001B[43m,\u001B[49m\u001B[43m \u001B[49m\u001B[43mother\u001B[49m\u001B[43m)\u001B[49m\n\u001B[0;32m   1635\u001B[0m         \u001B[38;5;66;03m# The np_can_hold_element check _should_ ensure that we always\u001B[39;00m\n\u001B[0;32m   1636\u001B[0m         \u001B[38;5;66;03m#  have result.dtype == self.dtype here.\u001B[39;00m\n\u001B[0;32m   1638\u001B[0m \u001B[38;5;28;01mif\u001B[39;00m transpose:\n",
      "File \u001B[1;32mC:\\Egyetem\\Msc\\Haladó\\french-accidents\\.venv\\lib\\site-packages\\pandas\\core\\computation\\expressions.py:259\u001B[0m, in \u001B[0;36mwhere\u001B[1;34m(cond, a, b, use_numexpr)\u001B[0m\n\u001B[0;32m    247\u001B[0m \u001B[38;5;250m\u001B[39m\u001B[38;5;124;03m\"\"\"\u001B[39;00m\n\u001B[0;32m    248\u001B[0m \u001B[38;5;124;03mEvaluate the where condition cond on a and b.\u001B[39;00m\n\u001B[0;32m    249\u001B[0m \n\u001B[1;32m   (...)\u001B[0m\n\u001B[0;32m    256\u001B[0m \u001B[38;5;124;03m    Whether to try to use numexpr.\u001B[39;00m\n\u001B[0;32m    257\u001B[0m \u001B[38;5;124;03m\"\"\"\u001B[39;00m\n\u001B[0;32m    258\u001B[0m \u001B[38;5;28;01massert\u001B[39;00m _where \u001B[38;5;129;01mis\u001B[39;00m \u001B[38;5;129;01mnot\u001B[39;00m \u001B[38;5;28;01mNone\u001B[39;00m\n\u001B[1;32m--> 259\u001B[0m \u001B[38;5;28;01mreturn\u001B[39;00m \u001B[43m_where\u001B[49m\u001B[43m(\u001B[49m\u001B[43mcond\u001B[49m\u001B[43m,\u001B[49m\u001B[43m \u001B[49m\u001B[43ma\u001B[49m\u001B[43m,\u001B[49m\u001B[43m \u001B[49m\u001B[43mb\u001B[49m\u001B[43m)\u001B[49m \u001B[38;5;28;01mif\u001B[39;00m use_numexpr \u001B[38;5;28;01melse\u001B[39;00m _where_standard(cond, a, b)\n",
      "File \u001B[1;32mC:\\Egyetem\\Msc\\Haladó\\french-accidents\\.venv\\lib\\site-packages\\pandas\\core\\computation\\expressions.py:174\u001B[0m, in \u001B[0;36m_where_standard\u001B[1;34m(cond, a, b)\u001B[0m\n\u001B[0;32m    172\u001B[0m \u001B[38;5;28;01mdef\u001B[39;00m \u001B[38;5;21m_where_standard\u001B[39m(cond, a, b):\n\u001B[0;32m    173\u001B[0m     \u001B[38;5;66;03m# Caller is responsible for extracting ndarray if necessary\u001B[39;00m\n\u001B[1;32m--> 174\u001B[0m     \u001B[38;5;28;01mreturn\u001B[39;00m \u001B[43mnp\u001B[49m\u001B[38;5;241;43m.\u001B[39;49m\u001B[43mwhere\u001B[49m\u001B[43m(\u001B[49m\u001B[43mcond\u001B[49m\u001B[43m,\u001B[49m\u001B[43m \u001B[49m\u001B[43ma\u001B[49m\u001B[43m,\u001B[49m\u001B[43m \u001B[49m\u001B[43mb\u001B[49m\u001B[43m)\u001B[49m\n",
      "\u001B[1;31mMemoryError\u001B[0m: Unable to allocate 5.78 GiB for an array with shape (924, 839985) and data type float64"
     ]
    }
   ],
   "source": [
    "scoring_method = K2Score(data=merged_df)\n",
    "est = HillClimbSearch(data=merged_df)\n",
    "estimated_model = est.estimate(\n",
    "    scoring_method=scoring_method, max_indegree=4, max_iter=int(1e4)\n",
    ")"
   ],
   "metadata": {
    "collapsed": false,
    "ExecuteTime": {
     "end_time": "2024-04-07T11:26:06.246716Z",
     "start_time": "2024-04-07T11:21:27.062946Z"
    }
   },
   "execution_count": 18
  }
 ]
}
