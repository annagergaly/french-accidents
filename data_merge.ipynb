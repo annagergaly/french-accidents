{
 "cells": [
  {
   "cell_type": "code",
   "execution_count": 1,
   "metadata": {},
   "outputs": [
    {
     "name": "stdout",
     "output_type": "stream",
     "text": [
      "Requirement already satisfied: pgmpy in c:\\users\\anna\\miniconda3\\lib\\site-packages (0.1.25)\n",
      "Requirement already satisfied: networkx in c:\\users\\anna\\miniconda3\\lib\\site-packages (from pgmpy) (2.8.8)\n",
      "Requirement already satisfied: numpy in c:\\users\\anna\\miniconda3\\lib\\site-packages (from pgmpy) (1.26.2)\n",
      "Requirement already satisfied: scipy in c:\\users\\anna\\miniconda3\\lib\\site-packages (from pgmpy) (1.13.0)\n",
      "Requirement already satisfied: scikit-learn in c:\\users\\anna\\miniconda3\\lib\\site-packages (from pgmpy) (1.4.1.post1)\n",
      "Requirement already satisfied: pandas in c:\\users\\anna\\miniconda3\\lib\\site-packages (from pgmpy) (2.2.1)\n",
      "Requirement already satisfied: pyparsing in c:\\users\\anna\\miniconda3\\lib\\site-packages (from pgmpy) (3.0.9)\n",
      "Requirement already satisfied: torch in c:\\users\\anna\\miniconda3\\lib\\site-packages (from pgmpy) (2.1.1)\n",
      "Requirement already satisfied: statsmodels in c:\\users\\anna\\miniconda3\\lib\\site-packages (from pgmpy) (0.14.1)\n",
      "Requirement already satisfied: tqdm in c:\\users\\anna\\miniconda3\\lib\\site-packages (from pgmpy) (4.65.0)\n",
      "Requirement already satisfied: joblib in c:\\users\\anna\\miniconda3\\lib\\site-packages (from pgmpy) (1.3.2)\n",
      "Requirement already satisfied: opt-einsum in c:\\users\\anna\\miniconda3\\lib\\site-packages (from pgmpy) (3.3.0)\n",
      "Requirement already satisfied: python-dateutil>=2.8.2 in c:\\users\\anna\\miniconda3\\lib\\site-packages (from pandas->pgmpy) (2.8.2)\n",
      "Requirement already satisfied: pytz>=2020.1 in c:\\users\\anna\\miniconda3\\lib\\site-packages (from pandas->pgmpy) (2023.3.post1)\n",
      "Requirement already satisfied: tzdata>=2022.7 in c:\\users\\anna\\miniconda3\\lib\\site-packages (from pandas->pgmpy) (2024.1)\n",
      "Requirement already satisfied: threadpoolctl>=2.0.0 in c:\\users\\anna\\miniconda3\\lib\\site-packages (from scikit-learn->pgmpy) (3.4.0)\n",
      "Requirement already satisfied: patsy>=0.5.4 in c:\\users\\anna\\miniconda3\\lib\\site-packages (from statsmodels->pgmpy) (0.5.6)\n",
      "Requirement already satisfied: packaging>=21.3 in c:\\users\\anna\\miniconda3\\lib\\site-packages (from statsmodels->pgmpy) (23.1)\n",
      "Requirement already satisfied: filelock in c:\\users\\anna\\miniconda3\\lib\\site-packages (from torch->pgmpy) (3.13.1)\n",
      "Requirement already satisfied: typing-extensions in c:\\users\\anna\\miniconda3\\lib\\site-packages (from torch->pgmpy) (4.7.1)\n",
      "Requirement already satisfied: sympy in c:\\users\\anna\\miniconda3\\lib\\site-packages (from torch->pgmpy) (1.12)\n",
      "Requirement already satisfied: jinja2 in c:\\users\\anna\\miniconda3\\lib\\site-packages (from torch->pgmpy) (3.1.2)\n",
      "Requirement already satisfied: fsspec in c:\\users\\anna\\miniconda3\\lib\\site-packages (from torch->pgmpy) (2024.3.1)\n",
      "Requirement already satisfied: colorama in c:\\users\\anna\\miniconda3\\lib\\site-packages (from tqdm->pgmpy) (0.4.6)\n",
      "Requirement already satisfied: six in c:\\users\\anna\\miniconda3\\lib\\site-packages (from patsy>=0.5.4->statsmodels->pgmpy) (1.16.0)\n",
      "Requirement already satisfied: MarkupSafe>=2.0 in c:\\users\\anna\\miniconda3\\lib\\site-packages (from jinja2->torch->pgmpy) (2.1.1)\n",
      "Requirement already satisfied: mpmath>=0.19 in c:\\users\\anna\\miniconda3\\lib\\site-packages (from sympy->torch->pgmpy) (1.3.0)\n"
     ]
    }
   ],
   "source": [
    "!pip install pgmpy"
   ]
  },
  {
   "cell_type": "code",
   "execution_count": 2,
   "metadata": {},
   "outputs": [
    {
     "name": "stdout",
     "output_type": "stream",
     "text": [
      "Requirement already satisfied: matplotlib in c:\\users\\anna\\miniconda3\\lib\\site-packages (3.8.0)\n",
      "Requirement already satisfied: contourpy>=1.0.1 in c:\\users\\anna\\miniconda3\\lib\\site-packages (from matplotlib) (1.2.0)\n",
      "Requirement already satisfied: cycler>=0.10 in c:\\users\\anna\\miniconda3\\lib\\site-packages (from matplotlib) (0.11.0)\n",
      "Requirement already satisfied: fonttools>=4.22.0 in c:\\users\\anna\\miniconda3\\lib\\site-packages (from matplotlib) (4.25.0)\n",
      "Requirement already satisfied: kiwisolver>=1.0.1 in c:\\users\\anna\\miniconda3\\lib\\site-packages (from matplotlib) (1.4.4)\n",
      "Requirement already satisfied: numpy<2,>=1.21 in c:\\users\\anna\\miniconda3\\lib\\site-packages (from matplotlib) (1.26.2)\n",
      "Requirement already satisfied: packaging>=20.0 in c:\\users\\anna\\miniconda3\\lib\\site-packages (from matplotlib) (23.1)\n",
      "Requirement already satisfied: pillow>=6.2.0 in c:\\users\\anna\\miniconda3\\lib\\site-packages (from matplotlib) (10.2.0)\n",
      "Requirement already satisfied: pyparsing>=2.3.1 in c:\\users\\anna\\miniconda3\\lib\\site-packages (from matplotlib) (3.0.9)\n",
      "Requirement already satisfied: python-dateutil>=2.7 in c:\\users\\anna\\miniconda3\\lib\\site-packages (from matplotlib) (2.8.2)\n",
      "Requirement already satisfied: six>=1.5 in c:\\users\\anna\\miniconda3\\lib\\site-packages (from python-dateutil>=2.7->matplotlib) (1.16.0)\n"
     ]
    }
   ],
   "source": [
    "!pip install matplotlib"
   ]
  },
  {
   "cell_type": "code",
   "execution_count": 3,
   "metadata": {
    "ExecuteTime": {
     "end_time": "2024-04-07T15:13:28.429846Z",
     "start_time": "2024-04-07T15:13:28.421611600Z"
    },
    "id": "yxZVzIUP3XYu"
   },
   "outputs": [],
   "source": [
    "import pandas as pd\n",
    "from pgmpy.estimators import HillClimbSearch\n",
    "from pgmpy.estimators import MmhcEstimator\n",
    "from pgmpy.estimators import K2Score\n",
    "from pgmpy.models import BayesianNetwork\n",
    "from pgmpy.estimators import BayesianEstimator"
   ]
  },
  {
   "cell_type": "code",
   "execution_count": 4,
   "metadata": {
    "id": "oXggvFMIZK2Q"
   },
   "outputs": [],
   "source": [
    "import networkx as nx\n",
    "import matplotlib.pyplot as plt\n",
    "from pgmpy.readwrite import BIFReader, BIFWriter"
   ]
  },
  {
   "cell_type": "code",
   "execution_count": 5,
   "metadata": {
    "ExecuteTime": {
     "end_time": "2024-04-07T15:13:34.004532500Z",
     "start_time": "2024-04-07T15:13:28.899173100Z"
    },
    "id": "Kx-CHKaU3gy_"
   },
   "outputs": [],
   "source": [
    "characteristics_df = pd.read_csv('data/characteristics_prepped.csv', encoding='latin1')\n",
    "places_df = pd.read_csv('data/places_prepped.csv', encoding='latin1')\n",
    "users_df = pd.read_csv('data/users_prepped.csv', encoding='latin1')\n",
    "vehicles_df = pd.read_csv('data/vehicles_prepped.csv', encoding='latin1')"
   ]
  },
  {
   "cell_type": "markdown",
   "metadata": {
    "id": "5m_DouLH71Vo"
   },
   "source": [
    "## Vehicles + users merge"
   ]
  },
  {
   "cell_type": "markdown",
   "metadata": {
    "id": "Csih3I3R7Unt"
   },
   "source": [
    "Vechicles and users table might contain multiple rows for the same Num_Acc id. (Because there might be multiple people or vehicles involved in the accident)"
   ]
  },
  {
   "cell_type": "code",
   "execution_count": 6,
   "metadata": {
    "ExecuteTime": {
     "end_time": "2024-04-07T15:13:34.023185Z",
     "start_time": "2024-04-07T15:13:34.004532500Z"
    },
    "colab": {
     "base_uri": "https://localhost:8080/"
    },
    "id": "x5RwmeaO92EG",
    "outputId": "b99cbbfa-26a9-44ab-ffb2-c2d1796a726a"
   },
   "outputs": [
    {
     "data": {
      "text/plain": [
       "(1433389, 8)"
      ]
     },
     "execution_count": 6,
     "metadata": {},
     "output_type": "execute_result"
    }
   ],
   "source": [
    "vehicles_df.shape"
   ]
  },
  {
   "cell_type": "code",
   "execution_count": 7,
   "metadata": {
    "ExecuteTime": {
     "end_time": "2024-04-07T15:13:34.084146300Z",
     "start_time": "2024-04-07T15:13:34.030842Z"
    },
    "colab": {
     "base_uri": "https://localhost:8080/"
    },
    "id": "P0xDsDQy97XF",
    "outputId": "365f7bf6-5574-4cfc-8f35-e3b0272a24aa"
   },
   "outputs": [
    {
     "data": {
      "text/plain": [
       "(1876005, 13)"
      ]
     },
     "execution_count": 7,
     "metadata": {},
     "output_type": "execute_result"
    }
   ],
   "source": [
    "users_df.shape"
   ]
  },
  {
   "cell_type": "code",
   "execution_count": 8,
   "metadata": {
    "ExecuteTime": {
     "end_time": "2024-04-07T15:13:35.520387800Z",
     "start_time": "2024-04-07T15:13:34.053647800Z"
    },
    "id": "-THaO-b_7Bd1"
   },
   "outputs": [],
   "source": [
    "vehicles_users_df = pd.merge(vehicles_df, users_df, on='Num_Acc', how='outer', suffixes=('_vehicles', '_users'))"
   ]
  },
  {
   "cell_type": "markdown",
   "metadata": {
    "id": "7kZM3zSQ8B5E"
   },
   "source": [
    "Filter rows that that contains a user-vehicle pair that does not match."
   ]
  },
  {
   "cell_type": "code",
   "execution_count": 9,
   "metadata": {
    "ExecuteTime": {
     "end_time": "2024-04-07T15:13:36.483736900Z",
     "start_time": "2024-04-07T15:13:35.815773500Z"
    },
    "id": "5xxFdLNh8NRo"
   },
   "outputs": [],
   "source": [
    "vehicles_users_df = vehicles_users_df[vehicles_users_df['num_veh_vehicles'] == vehicles_users_df['num_veh_users']]"
   ]
  },
  {
   "cell_type": "code",
   "execution_count": 10,
   "metadata": {
    "ExecuteTime": {
     "end_time": "2024-04-07T15:13:36.551897900Z",
     "start_time": "2024-04-07T15:13:36.491848900Z"
    },
    "colab": {
     "base_uri": "https://localhost:8080/",
     "height": 261
    },
    "id": "cYysTPqg8RCa",
    "outputId": "a9fca4e7-66da-48e5-c59e-fca1d1ef3482"
   },
   "outputs": [
    {
     "data": {
      "text/html": [
       "<div>\n",
       "<style scoped>\n",
       "    .dataframe tbody tr th:only-of-type {\n",
       "        vertical-align: middle;\n",
       "    }\n",
       "\n",
       "    .dataframe tbody tr th {\n",
       "        vertical-align: top;\n",
       "    }\n",
       "\n",
       "    .dataframe thead th {\n",
       "        text-align: right;\n",
       "    }\n",
       "</style>\n",
       "<table border=\"1\" class=\"dataframe\">\n",
       "  <thead>\n",
       "    <tr style=\"text-align: right;\">\n",
       "      <th></th>\n",
       "      <th>Num_Acc</th>\n",
       "      <th>Occupants</th>\n",
       "      <th>Mobile Obstacle</th>\n",
       "      <th>Shock</th>\n",
       "      <th>num_veh_vehicles</th>\n",
       "      <th>Vehicle_Category</th>\n",
       "      <th>Fix_obstacle_type</th>\n",
       "      <th>Maneuver_category</th>\n",
       "      <th>Seat</th>\n",
       "      <th>User type</th>\n",
       "      <th>Severity</th>\n",
       "      <th>Sex</th>\n",
       "      <th>Trip</th>\n",
       "      <th>Pedestrian location</th>\n",
       "      <th>Pedestrian action</th>\n",
       "      <th>Pedestrian alone</th>\n",
       "      <th>num_veh_users</th>\n",
       "      <th>Age_range</th>\n",
       "      <th>Safety equipment existence</th>\n",
       "      <th>Safety equipment use</th>\n",
       "    </tr>\n",
       "  </thead>\n",
       "  <tbody>\n",
       "    <tr>\n",
       "      <th>0</th>\n",
       "      <td>200500000001</td>\n",
       "      <td>1</td>\n",
       "      <td>2.0</td>\n",
       "      <td>1.0</td>\n",
       "      <td>A01</td>\n",
       "      <td>8</td>\n",
       "      <td>0</td>\n",
       "      <td>1</td>\n",
       "      <td>1</td>\n",
       "      <td>1</td>\n",
       "      <td>2</td>\n",
       "      <td>1</td>\n",
       "      <td>1</td>\n",
       "      <td>0</td>\n",
       "      <td>0</td>\n",
       "      <td>0</td>\n",
       "      <td>A01</td>\n",
       "      <td>3</td>\n",
       "      <td>1</td>\n",
       "      <td>1</td>\n",
       "    </tr>\n",
       "    <tr>\n",
       "      <th>7</th>\n",
       "      <td>200500000001</td>\n",
       "      <td>1</td>\n",
       "      <td>2.0</td>\n",
       "      <td>8.0</td>\n",
       "      <td>B02</td>\n",
       "      <td>8</td>\n",
       "      <td>0</td>\n",
       "      <td>1</td>\n",
       "      <td>1</td>\n",
       "      <td>1</td>\n",
       "      <td>3</td>\n",
       "      <td>2</td>\n",
       "      <td>3</td>\n",
       "      <td>0</td>\n",
       "      <td>0</td>\n",
       "      <td>0</td>\n",
       "      <td>B02</td>\n",
       "      <td>3</td>\n",
       "      <td>1</td>\n",
       "      <td>1</td>\n",
       "    </tr>\n",
       "    <tr>\n",
       "      <th>8</th>\n",
       "      <td>200500000001</td>\n",
       "      <td>1</td>\n",
       "      <td>2.0</td>\n",
       "      <td>8.0</td>\n",
       "      <td>B02</td>\n",
       "      <td>8</td>\n",
       "      <td>0</td>\n",
       "      <td>1</td>\n",
       "      <td>2</td>\n",
       "      <td>2</td>\n",
       "      <td>1</td>\n",
       "      <td>1</td>\n",
       "      <td>0</td>\n",
       "      <td>0</td>\n",
       "      <td>0</td>\n",
       "      <td>0</td>\n",
       "      <td>B02</td>\n",
       "      <td>3</td>\n",
       "      <td>1</td>\n",
       "      <td>1</td>\n",
       "    </tr>\n",
       "    <tr>\n",
       "      <th>9</th>\n",
       "      <td>200500000001</td>\n",
       "      <td>1</td>\n",
       "      <td>2.0</td>\n",
       "      <td>8.0</td>\n",
       "      <td>B02</td>\n",
       "      <td>8</td>\n",
       "      <td>0</td>\n",
       "      <td>1</td>\n",
       "      <td>4</td>\n",
       "      <td>2</td>\n",
       "      <td>1</td>\n",
       "      <td>1</td>\n",
       "      <td>0</td>\n",
       "      <td>0</td>\n",
       "      <td>0</td>\n",
       "      <td>0</td>\n",
       "      <td>B02</td>\n",
       "      <td>0</td>\n",
       "      <td>3</td>\n",
       "      <td>1</td>\n",
       "    </tr>\n",
       "    <tr>\n",
       "      <th>10</th>\n",
       "      <td>200500000001</td>\n",
       "      <td>1</td>\n",
       "      <td>2.0</td>\n",
       "      <td>8.0</td>\n",
       "      <td>B02</td>\n",
       "      <td>8</td>\n",
       "      <td>0</td>\n",
       "      <td>1</td>\n",
       "      <td>5</td>\n",
       "      <td>2</td>\n",
       "      <td>1</td>\n",
       "      <td>1</td>\n",
       "      <td>0</td>\n",
       "      <td>0</td>\n",
       "      <td>0</td>\n",
       "      <td>0</td>\n",
       "      <td>B02</td>\n",
       "      <td>0</td>\n",
       "      <td>1</td>\n",
       "      <td>1</td>\n",
       "    </tr>\n",
       "  </tbody>\n",
       "</table>\n",
       "</div>"
      ],
      "text/plain": [
       "         Num_Acc  Occupants  Mobile Obstacle  Shock num_veh_vehicles  \\\n",
       "0   200500000001          1              2.0    1.0              A01   \n",
       "7   200500000001          1              2.0    8.0              B02   \n",
       "8   200500000001          1              2.0    8.0              B02   \n",
       "9   200500000001          1              2.0    8.0              B02   \n",
       "10  200500000001          1              2.0    8.0              B02   \n",
       "\n",
       "    Vehicle_Category  Fix_obstacle_type  Maneuver_category  Seat  User type  \\\n",
       "0                  8                  0                  1     1          1   \n",
       "7                  8                  0                  1     1          1   \n",
       "8                  8                  0                  1     2          2   \n",
       "9                  8                  0                  1     4          2   \n",
       "10                 8                  0                  1     5          2   \n",
       "\n",
       "    Severity  Sex  Trip  Pedestrian location  Pedestrian action  \\\n",
       "0          2    1     1                    0                  0   \n",
       "7          3    2     3                    0                  0   \n",
       "8          1    1     0                    0                  0   \n",
       "9          1    1     0                    0                  0   \n",
       "10         1    1     0                    0                  0   \n",
       "\n",
       "    Pedestrian alone num_veh_users  Age_range  Safety equipment existence  \\\n",
       "0                  0           A01          3                           1   \n",
       "7                  0           B02          3                           1   \n",
       "8                  0           B02          3                           1   \n",
       "9                  0           B02          0                           3   \n",
       "10                 0           B02          0                           1   \n",
       "\n",
       "    Safety equipment use  \n",
       "0                      1  \n",
       "7                      1  \n",
       "8                      1  \n",
       "9                      1  \n",
       "10                     1  "
      ]
     },
     "execution_count": 10,
     "metadata": {},
     "output_type": "execute_result"
    }
   ],
   "source": [
    "vehicles_users_df.head()"
   ]
  },
  {
   "cell_type": "code",
   "execution_count": 11,
   "metadata": {
    "ExecuteTime": {
     "end_time": "2024-04-07T15:13:36.785294500Z",
     "start_time": "2024-04-07T15:13:36.553164Z"
    },
    "colab": {
     "base_uri": "https://localhost:8080/"
    },
    "id": "Jt-5bs2C8TTD",
    "outputId": "1e76577f-138e-4538-98e4-77dd1e68a739"
   },
   "outputs": [
    {
     "data": {
      "text/plain": [
       "0"
      ]
     },
     "execution_count": 11,
     "metadata": {},
     "output_type": "execute_result"
    }
   ],
   "source": [
    "vehicles_users_df['num_veh_vehicles'].isna().sum()"
   ]
  },
  {
   "cell_type": "code",
   "execution_count": 12,
   "metadata": {
    "ExecuteTime": {
     "end_time": "2024-04-07T15:13:36.878719300Z",
     "start_time": "2024-04-07T15:13:36.666969500Z"
    },
    "colab": {
     "base_uri": "https://localhost:8080/"
    },
    "id": "ZDesIxtj8xo8",
    "outputId": "e08b673a-6043-4e13-fc3b-e6d50072dfab"
   },
   "outputs": [
    {
     "data": {
      "text/plain": [
       "0"
      ]
     },
     "execution_count": 12,
     "metadata": {},
     "output_type": "execute_result"
    }
   ],
   "source": [
    "vehicles_users_df['num_veh_users'].isna().sum()"
   ]
  },
  {
   "cell_type": "code",
   "execution_count": 13,
   "metadata": {
    "ExecuteTime": {
     "end_time": "2024-04-07T15:13:37.054960200Z",
     "start_time": "2024-04-07T15:13:36.820800Z"
    },
    "id": "YZHpTMuG-lg9"
   },
   "outputs": [],
   "source": [
    "vehicles_users_df.drop(['num_veh_users', 'num_veh_vehicles'], axis=1, inplace=True)"
   ]
  },
  {
   "cell_type": "code",
   "execution_count": 14,
   "metadata": {
    "ExecuteTime": {
     "end_time": "2024-04-07T15:13:37.097321700Z",
     "start_time": "2024-04-07T15:13:37.066522200Z"
    },
    "colab": {
     "base_uri": "https://localhost:8080/"
    },
    "id": "g8wtZ7B_99EU",
    "outputId": "e4efa69a-103b-40ac-ebc9-31fa7f306450"
   },
   "outputs": [
    {
     "data": {
      "text/plain": [
       "(1875983, 18)"
      ]
     },
     "execution_count": 14,
     "metadata": {},
     "output_type": "execute_result"
    }
   ],
   "source": [
    "vehicles_users_df.shape"
   ]
  },
  {
   "cell_type": "markdown",
   "metadata": {
    "id": "kRCJS-S-9eFY"
   },
   "source": [
    "There are no vehicles without users and no users without vehicles."
   ]
  },
  {
   "cell_type": "markdown",
   "metadata": {
    "id": "N7-S-ATB9xRO"
   },
   "source": [
    "## Characteristics + places merge"
   ]
  },
  {
   "cell_type": "code",
   "execution_count": 15,
   "metadata": {
    "ExecuteTime": {
     "end_time": "2024-04-07T15:13:37.235309800Z",
     "start_time": "2024-04-07T15:13:37.087147100Z"
    },
    "colab": {
     "base_uri": "https://localhost:8080/"
    },
    "id": "zbDZ22Y19dCE",
    "outputId": "48f48a0f-1df0-4e44-e198-9cf7ec45dce2"
   },
   "outputs": [
    {
     "data": {
      "text/plain": [
       "(839985, 11)"
      ]
     },
     "execution_count": 15,
     "metadata": {},
     "output_type": "execute_result"
    }
   ],
   "source": [
    "places_df.shape"
   ]
  },
  {
   "cell_type": "code",
   "execution_count": 16,
   "metadata": {
    "ExecuteTime": {
     "end_time": "2024-04-07T15:13:37.243473200Z",
     "start_time": "2024-04-07T15:13:37.107610200Z"
    },
    "colab": {
     "base_uri": "https://localhost:8080/"
    },
    "id": "lMNL57u89uiG",
    "outputId": "18d9fbe8-6bc4-4cf0-8ace-4c1db4f01a9a"
   },
   "outputs": [
    {
     "data": {
      "text/plain": [
       "(669966, 11)"
      ]
     },
     "execution_count": 16,
     "metadata": {},
     "output_type": "execute_result"
    }
   ],
   "source": [
    "characteristics_df.shape"
   ]
  },
  {
   "cell_type": "code",
   "execution_count": 17,
   "metadata": {
    "ExecuteTime": {
     "end_time": "2024-04-07T15:13:37.612102200Z",
     "start_time": "2024-04-07T15:13:37.152849300Z"
    },
    "id": "GS8EbaXJ9wVN"
   },
   "outputs": [],
   "source": [
    "characteristics_places_df = pd.merge(places_df, characteristics_df, on='Num_Acc', how='inner')"
   ]
  },
  {
   "cell_type": "code",
   "execution_count": 18,
   "metadata": {
    "ExecuteTime": {
     "end_time": "2024-04-07T15:13:37.628713100Z",
     "start_time": "2024-04-07T15:13:37.612102200Z"
    },
    "colab": {
     "base_uri": "https://localhost:8080/"
    },
    "id": "aAw-I6mQ_BTk",
    "outputId": "3e7417a4-9799-4b23-dd91-3e28223fe331"
   },
   "outputs": [
    {
     "data": {
      "text/plain": [
       "(669966, 21)"
      ]
     },
     "execution_count": 18,
     "metadata": {},
     "output_type": "execute_result"
    }
   ],
   "source": [
    "characteristics_places_df.shape"
   ]
  },
  {
   "cell_type": "markdown",
   "metadata": {
    "id": "Fsxz1TBH_Ikn"
   },
   "source": [
    "## Merge all"
   ]
  },
  {
   "cell_type": "code",
   "execution_count": 19,
   "metadata": {
    "ExecuteTime": {
     "end_time": "2024-04-07T15:13:38.942196500Z",
     "start_time": "2024-04-07T15:13:37.645758100Z"
    },
    "id": "121haPFv_Ctr"
   },
   "outputs": [],
   "source": [
    "merged_df = pd.merge(characteristics_places_df, vehicles_users_df, on='Num_Acc', how='inner')"
   ]
  },
  {
   "cell_type": "code",
   "execution_count": 20,
   "metadata": {
    "ExecuteTime": {
     "end_time": "2024-04-07T15:13:38.990201900Z",
     "start_time": "2024-04-07T15:13:38.958199200Z"
    },
    "colab": {
     "base_uri": "https://localhost:8080/"
    },
    "id": "H4I_x4Rn_Wa8",
    "outputId": "42403114-80ea-4143-b633-12aca80326d4"
   },
   "outputs": [
    {
     "data": {
      "text/plain": [
       "(1491407, 38)"
      ]
     },
     "execution_count": 20,
     "metadata": {},
     "output_type": "execute_result"
    }
   ],
   "source": [
    "merged_df.shape"
   ]
  },
  {
   "cell_type": "code",
   "execution_count": 21,
   "metadata": {
    "ExecuteTime": {
     "end_time": "2024-04-07T15:13:39.046199500Z",
     "start_time": "2024-04-07T15:13:38.974199800Z"
    },
    "colab": {
     "base_uri": "https://localhost:8080/",
     "height": 290
    },
    "id": "-qkRdJW5IbU5",
    "outputId": "96cc2e80-37bf-4156-d809-7fe09ca05a71"
   },
   "outputs": [
    {
     "data": {
      "text/html": [
       "<div>\n",
       "<style scoped>\n",
       "    .dataframe tbody tr th:only-of-type {\n",
       "        vertical-align: middle;\n",
       "    }\n",
       "\n",
       "    .dataframe tbody tr th {\n",
       "        vertical-align: top;\n",
       "    }\n",
       "\n",
       "    .dataframe thead th {\n",
       "        text-align: right;\n",
       "    }\n",
       "</style>\n",
       "<table border=\"1\" class=\"dataframe\">\n",
       "  <thead>\n",
       "    <tr style=\"text-align: right;\">\n",
       "      <th></th>\n",
       "      <th>Num_Acc</th>\n",
       "      <th>road_type</th>\n",
       "      <th>traffic_type</th>\n",
       "      <th>num_lanes</th>\n",
       "      <th>bike_lane_type</th>\n",
       "      <th>terrain_type</th>\n",
       "      <th>curve_type</th>\n",
       "      <th>condition</th>\n",
       "      <th>infrastructure</th>\n",
       "      <th>situ</th>\n",
       "      <th>...</th>\n",
       "      <th>User type</th>\n",
       "      <th>Severity</th>\n",
       "      <th>Sex</th>\n",
       "      <th>Trip</th>\n",
       "      <th>Pedestrian location</th>\n",
       "      <th>Pedestrian action</th>\n",
       "      <th>Pedestrian alone</th>\n",
       "      <th>Age_range</th>\n",
       "      <th>Safety equipment existence</th>\n",
       "      <th>Safety equipment use</th>\n",
       "    </tr>\n",
       "  </thead>\n",
       "  <tbody>\n",
       "    <tr>\n",
       "      <th>0</th>\n",
       "      <td>201600000001</td>\n",
       "      <td>3.0</td>\n",
       "      <td>2.0</td>\n",
       "      <td>0.0</td>\n",
       "      <td>0.0</td>\n",
       "      <td>1.0</td>\n",
       "      <td>3.0</td>\n",
       "      <td>1.0</td>\n",
       "      <td>0.0</td>\n",
       "      <td>1.0</td>\n",
       "      <td>...</td>\n",
       "      <td>1</td>\n",
       "      <td>1</td>\n",
       "      <td>2</td>\n",
       "      <td>0</td>\n",
       "      <td>0</td>\n",
       "      <td>0</td>\n",
       "      <td>0</td>\n",
       "      <td>3</td>\n",
       "      <td>1</td>\n",
       "      <td>1</td>\n",
       "    </tr>\n",
       "    <tr>\n",
       "      <th>1</th>\n",
       "      <td>201600000001</td>\n",
       "      <td>3.0</td>\n",
       "      <td>2.0</td>\n",
       "      <td>0.0</td>\n",
       "      <td>0.0</td>\n",
       "      <td>1.0</td>\n",
       "      <td>3.0</td>\n",
       "      <td>1.0</td>\n",
       "      <td>0.0</td>\n",
       "      <td>1.0</td>\n",
       "      <td>...</td>\n",
       "      <td>1</td>\n",
       "      <td>3</td>\n",
       "      <td>1</td>\n",
       "      <td>9</td>\n",
       "      <td>0</td>\n",
       "      <td>0</td>\n",
       "      <td>0</td>\n",
       "      <td>1</td>\n",
       "      <td>2</td>\n",
       "      <td>1</td>\n",
       "    </tr>\n",
       "    <tr>\n",
       "      <th>2</th>\n",
       "      <td>201600000002</td>\n",
       "      <td>3.0</td>\n",
       "      <td>1.0</td>\n",
       "      <td>0.0</td>\n",
       "      <td>0.0</td>\n",
       "      <td>1.0</td>\n",
       "      <td>2.0</td>\n",
       "      <td>1.0</td>\n",
       "      <td>0.0</td>\n",
       "      <td>1.0</td>\n",
       "      <td>...</td>\n",
       "      <td>1</td>\n",
       "      <td>3</td>\n",
       "      <td>1</td>\n",
       "      <td>5</td>\n",
       "      <td>0</td>\n",
       "      <td>0</td>\n",
       "      <td>0</td>\n",
       "      <td>4</td>\n",
       "      <td>1</td>\n",
       "      <td>1</td>\n",
       "    </tr>\n",
       "    <tr>\n",
       "      <th>3</th>\n",
       "      <td>201600000002</td>\n",
       "      <td>3.0</td>\n",
       "      <td>1.0</td>\n",
       "      <td>0.0</td>\n",
       "      <td>0.0</td>\n",
       "      <td>1.0</td>\n",
       "      <td>2.0</td>\n",
       "      <td>1.0</td>\n",
       "      <td>0.0</td>\n",
       "      <td>1.0</td>\n",
       "      <td>...</td>\n",
       "      <td>2</td>\n",
       "      <td>3</td>\n",
       "      <td>1</td>\n",
       "      <td>0</td>\n",
       "      <td>0</td>\n",
       "      <td>0</td>\n",
       "      <td>0</td>\n",
       "      <td>1</td>\n",
       "      <td>1</td>\n",
       "      <td>1</td>\n",
       "    </tr>\n",
       "    <tr>\n",
       "      <th>4</th>\n",
       "      <td>201600000002</td>\n",
       "      <td>3.0</td>\n",
       "      <td>1.0</td>\n",
       "      <td>0.0</td>\n",
       "      <td>0.0</td>\n",
       "      <td>1.0</td>\n",
       "      <td>2.0</td>\n",
       "      <td>1.0</td>\n",
       "      <td>0.0</td>\n",
       "      <td>1.0</td>\n",
       "      <td>...</td>\n",
       "      <td>2</td>\n",
       "      <td>3</td>\n",
       "      <td>2</td>\n",
       "      <td>0</td>\n",
       "      <td>0</td>\n",
       "      <td>0</td>\n",
       "      <td>0</td>\n",
       "      <td>4</td>\n",
       "      <td>1</td>\n",
       "      <td>1</td>\n",
       "    </tr>\n",
       "  </tbody>\n",
       "</table>\n",
       "<p>5 rows × 38 columns</p>\n",
       "</div>"
      ],
      "text/plain": [
       "        Num_Acc  road_type  traffic_type  num_lanes  bike_lane_type  \\\n",
       "0  201600000001        3.0           2.0        0.0             0.0   \n",
       "1  201600000001        3.0           2.0        0.0             0.0   \n",
       "2  201600000002        3.0           1.0        0.0             0.0   \n",
       "3  201600000002        3.0           1.0        0.0             0.0   \n",
       "4  201600000002        3.0           1.0        0.0             0.0   \n",
       "\n",
       "   terrain_type  curve_type  condition  infrastructure  situ  ...  User type  \\\n",
       "0           1.0         3.0        1.0             0.0   1.0  ...          1   \n",
       "1           1.0         3.0        1.0             0.0   1.0  ...          1   \n",
       "2           1.0         2.0        1.0             0.0   1.0  ...          1   \n",
       "3           1.0         2.0        1.0             0.0   1.0  ...          2   \n",
       "4           1.0         2.0        1.0             0.0   1.0  ...          2   \n",
       "\n",
       "   Severity  Sex  Trip  Pedestrian location  Pedestrian action  \\\n",
       "0         1    2     0                    0                  0   \n",
       "1         3    1     9                    0                  0   \n",
       "2         3    1     5                    0                  0   \n",
       "3         3    1     0                    0                  0   \n",
       "4         3    2     0                    0                  0   \n",
       "\n",
       "   Pedestrian alone Age_range  Safety equipment existence  \\\n",
       "0                 0         3                           1   \n",
       "1                 0         1                           2   \n",
       "2                 0         4                           1   \n",
       "3                 0         1                           1   \n",
       "4                 0         4                           1   \n",
       "\n",
       "   Safety equipment use  \n",
       "0                     1  \n",
       "1                     1  \n",
       "2                     1  \n",
       "3                     1  \n",
       "4                     1  \n",
       "\n",
       "[5 rows x 38 columns]"
      ]
     },
     "execution_count": 21,
     "metadata": {},
     "output_type": "execute_result"
    }
   ],
   "source": [
    "merged_df.head()"
   ]
  },
  {
   "cell_type": "code",
   "execution_count": 22,
   "metadata": {
    "id": "S0FWr_YUTR5e"
   },
   "outputs": [],
   "source": [
    "merged_df.drop('Num_Acc', axis=1, inplace=True)\n",
    "merged_df.drop('Municipality', axis=1, inplace=True)\n",
    "merged_df.drop('Department', axis=1, inplace=True)\n",
    "merged_df.drop('Date', axis=1, inplace=True)"
   ]
  },
  {
   "cell_type": "code",
   "execution_count": 23,
   "metadata": {
    "ExecuteTime": {
     "end_time": "2024-04-07T15:13:59.006822100Z",
     "start_time": "2024-04-07T15:13:56.935381700Z"
    },
    "id": "p0-IpsyVIbU5"
   },
   "outputs": [],
   "source": [
    "merged_df = merged_df.apply(pd.to_numeric, downcast=\"integer\")"
   ]
  },
  {
   "cell_type": "markdown",
   "metadata": {},
   "source": [
    "## Bayes model"
   ]
  },
  {
   "cell_type": "markdown",
   "metadata": {},
   "source": [
    "### Training the model"
   ]
  },
  {
   "cell_type": "code",
   "execution_count": 24,
   "metadata": {
    "ExecuteTime": {
     "start_time": "2024-04-07T15:13:59.859251600Z"
    },
    "colab": {
     "base_uri": "https://localhost:8080/",
     "height": 49,
     "referenced_widgets": [
      "53426becea05466db68be131704a4b96",
      "795e986c59bc48ea90a3c36eeeab6e1e",
      "eb28ff297f1d498091d90e8c7d0e6f34",
      "c335538ec74c44b4947d5a5067e91216",
      "82f686178d484b80a7803683b2051a40",
      "a15e7bd6bd624aefa76e30c69ca258b8",
      "1e461e87752a49b9bf2dc633dc3410d3",
      "a906222e9dbc4670ac3a7402e358995d",
      "80e538f884e0461d8d1de2491eac860f",
      "872c56a06ce24195b4975cbb95499c50",
      "7bb9cf8ab6e24ebe9faf00385df10eae"
     ]
    },
    "id": "m4KkvybEIbU5",
    "is_executing": true,
    "outputId": "957dae03-ce6c-4d76-b012-4039afb16de9"
   },
   "outputs": [
    {
     "data": {
      "application/vnd.jupyter.widget-view+json": {
       "model_id": "765e774d35d749c794dae73bf88161aa",
       "version_major": 2,
       "version_minor": 0
      },
      "text/plain": [
       "  0%|          | 0/1000 [00:00<?, ?it/s]"
      ]
     },
     "metadata": {},
     "output_type": "display_data"
    }
   ],
   "source": [
    "scoring_method = K2Score(data=merged_df)\n",
    "est = HillClimbSearch(data=merged_df)\n",
    "estimated_model = est.estimate(\n",
    "    scoring_method=scoring_method, max_indegree=4, max_iter=1000\n",
    ")"
   ]
  },
  {
   "cell_type": "code",
   "execution_count": 25,
   "metadata": {},
   "outputs": [],
   "source": [
    "model = BayesianNetwork(estimated_model)"
   ]
  },
  {
   "cell_type": "code",
   "execution_count": 26,
   "metadata": {},
   "outputs": [],
   "source": [
    "model.fit(merged_df, estimator=BayesianEstimator)"
   ]
  },
  {
   "cell_type": "code",
   "execution_count": 27,
   "metadata": {},
   "outputs": [],
   "source": [
    "model.save(\"model_indegree4.xml\", filetype=\"xmlbif\")"
   ]
  },
  {
   "cell_type": "code",
   "execution_count": 28,
   "metadata": {},
   "outputs": [],
   "source": [
    "nx.nx_agraph.to_agraph(model).draw(\"graph.png\", prog=\"dot\")"
   ]
  },
  {
   "cell_type": "markdown",
   "metadata": {},
   "source": [
    "### Sampling from the model (Variable elimination)"
   ]
  },
  {
   "cell_type": "markdown",
   "metadata": {},
   "source": [
    "#### 1. Severity without evidences\n",
    "If a person is involved in an accident, how severe will their injuries be."
   ]
  },
  {
   "cell_type": "markdown",
   "metadata": {},
   "source": [
    "Severity meaning\n",
    "\n",
    "*   1 - Unscathed/Unharmed\n",
    "*   2 - Light injury\n",
    "*   3 - Hospitalized wounded\n",
    "*   4 - Killedled"
   ]
  },
  {
   "cell_type": "code",
   "execution_count": 30,
   "metadata": {},
   "outputs": [
    {
     "name": "stdout",
     "output_type": "stream",
     "text": [
      "+-------------+-----------------+\n",
      "| Severity    |   phi(Severity) |\n",
      "+=============+=================+\n",
      "| Severity(1) |          0.4088 |\n",
      "+-------------+-----------------+\n",
      "| Severity(2) |          0.3562 |\n",
      "+-------------+-----------------+\n",
      "| Severity(3) |          0.2079 |\n",
      "+-------------+-----------------+\n",
      "| Severity(4) |          0.0270 |\n",
      "+-------------+-----------------+\n"
     ]
    }
   ],
   "source": [
    "from pgmpy.inference import VariableElimination\n",
    "inference = VariableElimination(model)\n",
    "\n",
    "evidence_set = {}\n",
    "\n",
    "query_result = inference.query(variables=[\"Severity\"],\n",
    "                               evidence=evidence_set)\n",
    "print(query_result)"
   ]
  },
  {
   "cell_type": "markdown",
   "metadata": {},
   "source": [
    "Results:\n",
    "\n",
    "* It is most likely they will be unharmed (41%)\n",
    "* A high chance of light injury (36%)\n",
    "* A relatively high chance of being hospitalized (21%)\n",
    "* And a low chance of death (3%)\n",
    "\n",
    "> The sum is above 100% because of rounding"
   ]
  },
  {
   "cell_type": "markdown",
   "metadata": {},
   "source": [
    "#### 2. Cycling in Île-de-France without safety equipment\n",
    "\n",
    "##### 1.1 If a cyclist is in an accident with no safety equipment in Île-de-France region, what is the chance of them dying."
   ]
  },
  {
   "cell_type": "code",
   "execution_count": 30,
   "metadata": {},
   "outputs": [
    {
     "name": "stdout",
     "output_type": "stream",
     "text": [
      "+-------------+-----------------+\n",
      "| Severity    |   phi(Severity) |\n",
      "+=============+=================+\n",
      "| Severity(1) |          0.0996 |\n",
      "+-------------+-----------------+\n",
      "| Severity(2) |          0.5020 |\n",
      "+-------------+-----------------+\n",
      "| Severity(3) |          0.3604 |\n",
      "+-------------+-----------------+\n",
      "| Severity(4) |          0.0380 |\n",
      "+-------------+-----------------+\n"
     ]
    }
   ],
   "source": [
    "evidence_set = {\"Regions\": 10, # Île-de-France\n",
    "                \"Vehicle_Category\": 1, # Bicycle\n",
    "                \"Safety equipment use\": 2 # No safety equipment\n",
    "               }\n",
    "\n",
    "query_result = inference.query(variables=[\"Severity\"],\n",
    "                               evidence=evidence_set)\n",
    "print(query_result)"
   ]
  },
  {
   "cell_type": "markdown",
   "metadata": {
    "jp-MarkdownHeadingCollapsed": true
   },
   "source": [
    "##### Result:\n",
    "They have a **3.8%** chance of dying "
   ]
  },
  {
   "cell_type": "markdown",
   "metadata": {},
   "source": [
    "##### 1.2 What if they do wear safety equipment with these conditions?"
   ]
  },
  {
   "cell_type": "code",
   "execution_count": 31,
   "metadata": {},
   "outputs": [
    {
     "name": "stdout",
     "output_type": "stream",
     "text": [
      "+-------------+-----------------+\n",
      "| Severity    |   phi(Severity) |\n",
      "+=============+=================+\n",
      "| Severity(1) |          0.1168 |\n",
      "+-------------+-----------------+\n",
      "| Severity(2) |          0.4713 |\n",
      "+-------------+-----------------+\n",
      "| Severity(3) |          0.3800 |\n",
      "+-------------+-----------------+\n",
      "| Severity(4) |          0.0319 |\n",
      "+-------------+-----------------+\n"
     ]
    }
   ],
   "source": [
    "evidence_set = {\"Regions\": 10, # Île-de-France\n",
    "                \"Vehicle_Category\": 1, # Bicycle\n",
    "                \"Safety equipment use\": 1 # Wearing safety equipment\n",
    "               }\n",
    "\n",
    "query_result = inference.query(variables=[\"Severity\"],\n",
    "                               evidence=evidence_set)\n",
    "print(query_result)"
   ]
  },
  {
   "cell_type": "markdown",
   "metadata": {
    "jp-MarkdownHeadingCollapsed": true
   },
   "source": [
    "##### Result:\n",
    "They have a lower (**3.2%**) chance of dying. (Compared to 3.8%) There is more probability of being hospitalized this way (2%) but I'm not sure why. The chance of being unharmed is also significantly higher."
   ]
  },
  {
   "cell_type": "markdown",
   "metadata": {},
   "source": [
    "##### 1.3 How about other regions?"
   ]
  },
  {
   "cell_type": "code",
   "execution_count": 32,
   "metadata": {},
   "outputs": [
    {
     "name": "stdout",
     "output_type": "stream",
     "text": [
      "+-------------+----------------+\n",
      "| Regions     |   phi(Regions) |\n",
      "+=============+================+\n",
      "| Regions(1)  |         0.1114 |\n",
      "+-------------+----------------+\n",
      "| Regions(2)  |         0.0374 |\n",
      "+-------------+----------------+\n",
      "| Regions(3)  |         0.0449 |\n",
      "+-------------+----------------+\n",
      "| Regions(4)  |         0.0391 |\n",
      "+-------------+----------------+\n",
      "| Regions(5)  |         0.0093 |\n",
      "+-------------+----------------+\n",
      "| Regions(6)  |         0.0070 |\n",
      "+-------------+----------------+\n",
      "| Regions(7)  |         0.0657 |\n",
      "+-------------+----------------+\n",
      "| Regions(8)  |         0.0089 |\n",
      "+-------------+----------------+\n",
      "| Regions(9)  |         0.0628 |\n",
      "+-------------+----------------+\n",
      "| Regions(10) |         0.2049 |\n",
      "+-------------+----------------+\n",
      "| Regions(11) |         0.0081 |\n",
      "+-------------+----------------+\n",
      "| Regions(12) |         0.0009 |\n",
      "+-------------+----------------+\n",
      "| Regions(13) |         0.0475 |\n",
      "+-------------+----------------+\n",
      "| Regions(14) |         0.0920 |\n",
      "+-------------+----------------+\n",
      "| Regions(15) |         0.0910 |\n",
      "+-------------+----------------+\n",
      "| Regions(16) |         0.0449 |\n",
      "+-------------+----------------+\n",
      "| Regions(17) |         0.1147 |\n",
      "+-------------+----------------+\n",
      "| Regions(18) |         0.0097 |\n",
      "+-------------+----------------+\n",
      "+-------------+----------------+\n",
      "| Regions     |   phi(Regions) |\n",
      "+=============+================+\n",
      "| Regions(1)  |         0.1044 |\n",
      "+-------------+----------------+\n",
      "| Regions(2)  |         0.0347 |\n",
      "+-------------+----------------+\n",
      "| Regions(3)  |         0.0401 |\n",
      "+-------------+----------------+\n",
      "| Regions(4)  |         0.0368 |\n",
      "+-------------+----------------+\n",
      "| Regions(5)  |         0.0087 |\n",
      "+-------------+----------------+\n",
      "| Regions(6)  |         0.0068 |\n",
      "+-------------+----------------+\n",
      "| Regions(7)  |         0.0626 |\n",
      "+-------------+----------------+\n",
      "| Regions(8)  |         0.0080 |\n",
      "+-------------+----------------+\n",
      "| Regions(9)  |         0.0611 |\n",
      "+-------------+----------------+\n",
      "| Regions(10) |         0.2469 |\n",
      "+-------------+----------------+\n",
      "| Regions(11) |         0.0073 |\n",
      "+-------------+----------------+\n",
      "| Regions(12) |         0.0009 |\n",
      "+-------------+----------------+\n",
      "| Regions(13) |         0.0432 |\n",
      "+-------------+----------------+\n",
      "| Regions(14) |         0.0877 |\n",
      "+-------------+----------------+\n",
      "| Regions(15) |         0.0825 |\n",
      "+-------------+----------------+\n",
      "| Regions(16) |         0.0399 |\n",
      "+-------------+----------------+\n",
      "| Regions(17) |         0.1189 |\n",
      "+-------------+----------------+\n",
      "| Regions(18) |         0.0096 |\n",
      "+-------------+----------------+\n"
     ]
    }
   ],
   "source": [
    "evidence_set = {\"Severity\": 4, # Dying\n",
    "                \"Vehicle_Category\": 1, # Bicycle\n",
    "                \"Safety equipment use\": 1 # Wearing safety equipment\n",
    "               }\n",
    "\n",
    "query_result = inference.query(variables=[\"Regions\"],\n",
    "                               evidence=evidence_set)\n",
    "print(query_result)\n",
    "\n",
    "evidence_set = {\"Severity\": 4, # Dying\n",
    "                \"Vehicle_Category\": 1, # Bicycle\n",
    "                \"Safety equipment use\": 2 # No safety equipment\n",
    "               }\n",
    "\n",
    "query_result = inference.query(variables=[\"Regions\"],\n",
    "                               evidence=evidence_set)\n",
    "print(query_result)"
   ]
  },
  {
   "cell_type": "markdown",
   "metadata": {},
   "source": [
    "If someone dies in an accident while biking (with or without safety equipment) it is most likely they were in **Île-de-France** (10) region.\n",
    "\n",
    "While this might be shocking, let's look at some other information first. \n",
    "\n",
    "##### 1.4 *If we are riding a bike, and take part in an accident, how likely it is that we are in Île-de-France?*"
   ]
  },
  {
   "cell_type": "code",
   "execution_count": 33,
   "metadata": {},
   "outputs": [
    {
     "name": "stdout",
     "output_type": "stream",
     "text": [
      "+-------------+----------------+\n",
      "| Regions     |   phi(Regions) |\n",
      "+=============+================+\n",
      "| Regions(1)  |         0.0967 |\n",
      "+-------------+----------------+\n",
      "| Regions(2)  |         0.0283 |\n",
      "+-------------+----------------+\n",
      "| Regions(3)  |         0.0396 |\n",
      "+-------------+----------------+\n",
      "| Regions(4)  |         0.0329 |\n",
      "+-------------+----------------+\n",
      "| Regions(5)  |         0.0072 |\n",
      "+-------------+----------------+\n",
      "| Regions(6)  |         0.0067 |\n",
      "+-------------+----------------+\n",
      "| Regions(7)  |         0.0563 |\n",
      "+-------------+----------------+\n",
      "| Regions(8)  |         0.0055 |\n",
      "+-------------+----------------+\n",
      "| Regions(9)  |         0.0595 |\n",
      "+-------------+----------------+\n",
      "| Regions(10) |         0.2828 |\n",
      "+-------------+----------------+\n",
      "| Regions(11) |         0.0049 |\n",
      "+-------------+----------------+\n",
      "| Regions(12) |         0.0006 |\n",
      "+-------------+----------------+\n",
      "| Regions(13) |         0.0327 |\n",
      "+-------------+----------------+\n",
      "| Regions(14) |         0.0869 |\n",
      "+-------------+----------------+\n",
      "| Regions(15) |         0.0755 |\n",
      "+-------------+----------------+\n",
      "| Regions(16) |         0.0397 |\n",
      "+-------------+----------------+\n",
      "| Regions(17) |         0.1330 |\n",
      "+-------------+----------------+\n",
      "| Regions(18) |         0.0112 |\n",
      "+-------------+----------------+\n"
     ]
    }
   ],
   "source": [
    "evidence_set = {\n",
    "                \"Vehicle_Category\": 1 # Bicycle\n",
    "               }\n",
    "\n",
    "query_result = inference.query(variables=[\"Regions\"],\n",
    "                               evidence=evidence_set)\n",
    "print(query_result)"
   ]
  },
  {
   "cell_type": "markdown",
   "metadata": {},
   "source": [
    "As we can see here, **bike accidents in general are more common in Île-de-France.**\n",
    "\n",
    "This might be because Île-de-France is a more dangerous place for bikers **or** what is more likely, **people in Île-de-France are more likely to ride bikes!**\n",
    "\n",
    "With some quick google searches, **Paris** (which is in Île-de-France region) is the **second most bike-friendly city** in France.\n",
    "\n",
    "Also, from the first **Tour de France** in **1903** to **1939**, the **Grand Depart** (the start of the race) was always in the **Île-de-France region**. Because of this, it is very likely that there is a deep culture of cycling there and a well-built infrastructure for it!\n",
    "\n",
    "> Sources:\n",
    "> https://www.canyon.com/en-cn/blog-content/hybrid-bike-news/bike-friendly-cities-france/b02042022.html\n",
    "> https://en.wikipedia.org/wiki/List_of_Tour_de_France_Grands_D%C3%A9parts"
   ]
  },
  {
   "cell_type": "markdown",
   "metadata": {},
   "source": [
    "##### 1.5 Is it more dangerous if we get into an accident at night?"
   ]
  },
  {
   "cell_type": "code",
   "execution_count": 34,
   "metadata": {},
   "outputs": [
    {
     "name": "stdout",
     "output_type": "stream",
     "text": [
      "Night\n",
      "+-------------+-----------------+\n",
      "| Severity    |   phi(Severity) |\n",
      "+=============+=================+\n",
      "| Severity(1) |          0.1195 |\n",
      "+-------------+-----------------+\n",
      "| Severity(2) |          0.3869 |\n",
      "+-------------+-----------------+\n",
      "| Severity(3) |          0.4170 |\n",
      "+-------------+-----------------+\n",
      "| Severity(4) |          0.0765 |\n",
      "+-------------+-----------------+\n",
      "Day\n",
      "+-------------+-----------------+\n",
      "| Severity    |   phi(Severity) |\n",
      "+=============+=================+\n",
      "| Severity(1) |          0.1047 |\n",
      "+-------------+-----------------+\n",
      "| Severity(2) |          0.4829 |\n",
      "+-------------+-----------------+\n",
      "| Severity(3) |          0.3693 |\n",
      "+-------------+-----------------+\n",
      "| Severity(4) |          0.0432 |\n",
      "+-------------+-----------------+\n"
     ]
    }
   ],
   "source": [
    "evidence_set = {\"Vehicle_Category\": 1, # Bicycle\n",
    "                \"Safety equipment use\": 2, # No safety equipment\n",
    "                \"Lighting\": 5 # Night without public lighting\n",
    "               }\n",
    "\n",
    "query_result = inference.query(variables=[\"Severity\"],\n",
    "                               evidence=evidence_set)\n",
    "\n",
    "print(\"Night\")\n",
    "print(query_result)\n",
    "\n",
    "evidence_set = {\"Vehicle_Category\": 1, # Bicycle\n",
    "                \"Safety equipment use\": 2, # No safety equipment\n",
    "                \"Lighting\": 1 # Full day\n",
    "               }\n",
    "\n",
    "query_result = inference.query(variables=[\"Severity\"],\n",
    "                               evidence=evidence_set)\n",
    "print(\"Day\")\n",
    "print(query_result)"
   ]
  },
  {
   "cell_type": "markdown",
   "metadata": {},
   "source": [
    "##### Result:\n",
    "\n",
    "The chance of the cyclist dying in an accident is much higher at night, nearly twice as much as in proper lighting conditions. The cyclists with no injuries are nearly the same percentage. The other (2 and 3) severities show that during the day, cyclists are more likely to get lightly injured and not hospitalized, however at night it is more probable that we get a more serious injury.\n",
    "\n",
    "> In conclusion, it is always recommended it be cautious when traveling at night!\n",
    "\n",
    "Another factor in this statistic that we have no information on from our dataset is whether these cyclists were wearing proper visibility equipment at the time of these accidents. "
   ]
  },
  {
   "cell_type": "markdown",
   "metadata": {},
   "source": [
    "##### 1.6 What about safety equipment at night?"
   ]
  },
  {
   "cell_type": "code",
   "execution_count": 35,
   "metadata": {},
   "outputs": [
    {
     "name": "stdout",
     "output_type": "stream",
     "text": [
      "+-------------+-----------------+\n",
      "| Severity    |   phi(Severity) |\n",
      "+=============+=================+\n",
      "| Severity(1) |          0.1157 |\n",
      "+-------------+-----------------+\n",
      "| Severity(2) |          0.3685 |\n",
      "+-------------+-----------------+\n",
      "| Severity(3) |          0.4561 |\n",
      "+-------------+-----------------+\n",
      "| Severity(4) |          0.0596 |\n",
      "+-------------+-----------------+\n"
     ]
    }
   ],
   "source": [
    "evidence_set = {\"Vehicle_Category\": 1, # Bicycle\n",
    "                \"Safety equipment use\": 1, # Wearing safety equipment\n",
    "                \"Lighting\": 5 # Night without public lighting\n",
    "               }\n",
    "\n",
    "query_result = inference.query(variables=[\"Severity\"],\n",
    "                               evidence=evidence_set)\n",
    "print(query_result)"
   ]
  },
  {
   "cell_type": "markdown",
   "metadata": {},
   "source": [
    "##### Result:\n",
    "\n",
    "Instead of **7.7%** of dying, we have a **6%** chance this way, so safety equipment is a win even in nightly conditions. The chance of being hospitalized is higher here by 4% than without having safety equipment, which is a bit odd. \n",
    "\n",
    "We sadly have no information on whether safety equipment here also refers to visibility equipment and lamps, which are necessary for safe biking in these lighting conditions."
   ]
  },
  {
   "cell_type": "markdown",
   "metadata": {},
   "source": [
    "#### 3. How old are motorbike riders?"
   ]
  },
  {
   "cell_type": "markdown",
   "metadata": {},
   "source": [
    "##### 3.1 What does it tell about our age, if we are riding a motorcycle and get into an accident?"
   ]
  },
  {
   "cell_type": "code",
   "execution_count": 36,
   "metadata": {},
   "outputs": [
    {
     "name": "stdout",
     "output_type": "stream",
     "text": [
      "+--------------+------------------+\n",
      "| Age_range    |   phi(Age_range) |\n",
      "+==============+==================+\n",
      "| Age_range(0) |           0.0088 |\n",
      "+--------------+------------------+\n",
      "| Age_range(1) |           0.0147 |\n",
      "+--------------+------------------+\n",
      "| Age_range(2) |           0.2360 |\n",
      "+--------------+------------------+\n",
      "| Age_range(3) |           0.4837 |\n",
      "+--------------+------------------+\n",
      "| Age_range(4) |           0.2385 |\n",
      "+--------------+------------------+\n",
      "| Age_range(5) |           0.0184 |\n",
      "+--------------+------------------+\n"
     ]
    }
   ],
   "source": [
    "evidence_set = {\"Vehicle_Category\": 4 # Motorcycle\n",
    "               }\n",
    "\n",
    "query_result = inference.query(variables=[\"Age_range\"],\n",
    "                               evidence=evidence_set)\n",
    "print(query_result)"
   ]
  },
  {
   "cell_type": "markdown",
   "metadata": {},
   "source": [
    "##### Result:\n",
    "\n",
    "As we can see, if we do have an accident on a motorcycle, there is a 50 percent chance that we are in the 25-45 age group!"
   ]
  },
  {
   "cell_type": "markdown",
   "metadata": {},
   "source": [
    "#### 4. Gender and severity"
   ]
  },
  {
   "cell_type": "markdown",
   "metadata": {},
   "source": [
    "##### 4.1 Driving in the city on well lit days, how severe are the injuries of men vs women in an accident?"
   ]
  },
  {
   "cell_type": "code",
   "execution_count": 37,
   "metadata": {},
   "outputs": [
    {
     "name": "stdout",
     "output_type": "stream",
     "text": [
      "Men\n",
      "+-------------+-----------------+\n",
      "| Severity    |   phi(Severity) |\n",
      "+=============+=================+\n",
      "| Severity(1) |          0.6988 |\n",
      "+-------------+-----------------+\n",
      "| Severity(2) |          0.2017 |\n",
      "+-------------+-----------------+\n",
      "| Severity(3) |          0.0864 |\n",
      "+-------------+-----------------+\n",
      "| Severity(4) |          0.0131 |\n",
      "+-------------+-----------------+\n",
      "Women\n",
      "+-------------+-----------------+\n",
      "| Severity    |   phi(Severity) |\n",
      "+=============+=================+\n",
      "| Severity(1) |          0.5658 |\n",
      "+-------------+-----------------+\n",
      "| Severity(2) |          0.3305 |\n",
      "+-------------+-----------------+\n",
      "| Severity(3) |          0.0962 |\n",
      "+-------------+-----------------+\n",
      "| Severity(4) |          0.0075 |\n",
      "+-------------+-----------------+\n"
     ]
    }
   ],
   "source": [
    "evidence_set = {\"Localisation\": 2, # Built in areas\n",
    "                \"User type\": 1, # Driver\n",
    "                \"Lighting\": 1, # Full day\n",
    "                \"Vehicle_Category\": 8, # In a car\n",
    "                \"Sex\": 1 # Men\n",
    "               }\n",
    "\n",
    "query_result = inference.query(variables=[\"Severity\"],\n",
    "                               evidence=evidence_set)\n",
    "print(\"Men\")\n",
    "print(query_result)\n",
    "\n",
    "evidence_set = {\"Localisation\": 2, # Built in areas\n",
    "                \"User type\": 1, # Driver\n",
    "                \"Lighting\": 1, # Full day\n",
    "                \"Vehicle_Category\": 8, # In a car\n",
    "                \"Sex\": 2 # Women\n",
    "               }\n",
    "\n",
    "query_result = inference.query(variables=[\"Severity\"],\n",
    "                               evidence=evidence_set)\n",
    "print(\"Women\")\n",
    "print(query_result)"
   ]
  },
  {
   "cell_type": "markdown",
   "metadata": {},
   "source": [
    "##### Result:\n",
    "\n",
    "This shows that as driving a vehicle in daylight in a city, men are much more likely to have no injuries (**70% vs 56.5%**) than women. Women are more likely to have light injuries (**men 20%, women 33%**) and a bit more likely to be hospitalized (**men 8.6%, women 9.6%**). In these conditions, men are more likely to die (**men 1.3%, women 0.7%**).\n",
    "\n",
    "There are a few different factors that might play into these differences. Maybe when encountering an accident, women are more prone to get injured because of biological differences. It might be that some male drivers downplay their injuriesor maybe male drivers take part in more minor accidents than women (in these conditions)."
   ]
  },
  {
   "cell_type": "markdown",
   "metadata": {},
   "source": [
    "##### 4.2 How about in rural areas?"
   ]
  },
  {
   "cell_type": "code",
   "execution_count": 38,
   "metadata": {},
   "outputs": [
    {
     "name": "stdout",
     "output_type": "stream",
     "text": [
      "Men\n",
      "+-------------+-----------------+\n",
      "| Severity    |   phi(Severity) |\n",
      "+=============+=================+\n",
      "| Severity(1) |          0.5260 |\n",
      "+-------------+-----------------+\n",
      "| Severity(2) |          0.2426 |\n",
      "+-------------+-----------------+\n",
      "| Severity(3) |          0.1921 |\n",
      "+-------------+-----------------+\n",
      "| Severity(4) |          0.0393 |\n",
      "+-------------+-----------------+\n",
      "Women\n",
      "+-------------+-----------------+\n",
      "| Severity    |   phi(Severity) |\n",
      "+=============+=================+\n",
      "| Severity(1) |          0.4022 |\n",
      "+-------------+-----------------+\n",
      "| Severity(2) |          0.3750 |\n",
      "+-------------+-----------------+\n",
      "| Severity(3) |          0.2017 |\n",
      "+-------------+-----------------+\n",
      "| Severity(4) |          0.0212 |\n",
      "+-------------+-----------------+\n"
     ]
    }
   ],
   "source": [
    "evidence_set = {\"Localisation\": 1, # Out of agglomeration\n",
    "                \"User type\": 1, # Driver\n",
    "                \"Lighting\": 1, # Full day\n",
    "                \"Vehicle_Category\": 8, # In a car\n",
    "                \"Sex\": 1 # Men\n",
    "               }\n",
    "\n",
    "query_result = inference.query(variables=[\"Severity\"],\n",
    "                               evidence=evidence_set)\n",
    "print(\"Men\")\n",
    "print(query_result)\n",
    "\n",
    "evidence_set = {\"Localisation\": 1, # Out of agglomeration\n",
    "                \"User type\": 1, # Driver\n",
    "                \"Lighting\": 1, # Full day\n",
    "                \"Vehicle_Category\": 8, # In a car\n",
    "                \"Sex\": 2 # Women\n",
    "               }\n",
    "\n",
    "query_result = inference.query(variables=[\"Severity\"],\n",
    "                               evidence=evidence_set)\n",
    "print(\"Women\")\n",
    "print(query_result)"
   ]
  },
  {
   "cell_type": "markdown",
   "metadata": {},
   "source": [
    "##### Result:\n",
    "\n",
    "The severity of injury is the same trend as before for men vs women. The difference now is that in these conditions, people are more likely to get injured in not built in areas!"
   ]
  },
  {
   "cell_type": "markdown",
   "metadata": {},
   "source": [
    "##### 4.3 Is there a correlation between gender and user type?"
   ]
  },
  {
   "cell_type": "markdown",
   "metadata": {},
   "source": [
    "User types:\n",
    "\n",
    "*   1 - Driver\n",
    "*   2 - Passenger\n",
    "*   3 - Pedestrian\n",
    "*   4 - Pedestrian in rollerblade or scooter"
   ]
  },
  {
   "cell_type": "code",
   "execution_count": 39,
   "metadata": {},
   "outputs": [
    {
     "name": "stdout",
     "output_type": "stream",
     "text": [
      "Men\n",
      "+--------------+------------------+\n",
      "| User type    |   phi(User type) |\n",
      "+==============+==================+\n",
      "| User type(1) |           0.7594 |\n",
      "+--------------+------------------+\n",
      "| User type(2) |           0.1318 |\n",
      "+--------------+------------------+\n",
      "| User type(3) |           0.1059 |\n",
      "+--------------+------------------+\n",
      "| User type(4) |           0.0029 |\n",
      "+--------------+------------------+\n",
      "Women\n",
      "+--------------+------------------+\n",
      "| User type    |   phi(User type) |\n",
      "+==============+==================+\n",
      "| User type(1) |           0.5988 |\n",
      "+--------------+------------------+\n",
      "| User type(2) |           0.2123 |\n",
      "+--------------+------------------+\n",
      "| User type(3) |           0.1862 |\n",
      "+--------------+------------------+\n",
      "| User type(4) |           0.0027 |\n",
      "+--------------+------------------+\n"
     ]
    }
   ],
   "source": [
    "evidence_set = {\"Localisation\": 2, # Built in areas\n",
    "                \"Lighting\": 1, # Full day\n",
    "                \"Vehicle_Category\": 8, # In a car\n",
    "                \"Sex\": 1 # Men\n",
    "               }\n",
    "\n",
    "query_result = inference.query(variables=[\"User type\"],\n",
    "                               evidence=evidence_set)\n",
    "print(\"Men\")\n",
    "print(query_result)\n",
    "\n",
    "evidence_set = {\"Localisation\": 2, # Built in areas\n",
    "                \"Vehicle_Category\": 8, # In a car\n",
    "                \"Lighting\": 1, # Full day\n",
    "                \"Sex\": 2 # Women\n",
    "               }\n",
    "\n",
    "query_result = inference.query(variables=[\"User type\"],\n",
    "                               evidence=evidence_set)\n",
    "print(\"Women\")\n",
    "print(query_result)"
   ]
  },
  {
   "cell_type": "markdown",
   "metadata": {},
   "source": [
    "##### Result:\n",
    "\n",
    "Men are more likely to be drivers in these conditions (**men 76%, women 60%**) and women are more likely to be passengers or pedestrians than men.\n",
    "\n",
    "If we can assume that probably same amount of man and woman pedestrians get in an accident, then from this I would assume that there are more male drivers, so they are more likely to be drivers in an accident than pedestrians.\n",
    "\n"
   ]
  },
  {
   "cell_type": "markdown",
   "metadata": {},
   "source": [
    "#### 5. Age and severity"
   ]
  },
  {
   "cell_type": "markdown",
   "metadata": {},
   "source": [
    "The ages are within these ranges:\n",
    "\n",
    "[0, 12, 16, 25, 45, 65, 150]"
   ]
  },
  {
   "cell_type": "markdown",
   "metadata": {},
   "source": [
    "##### 5.1 What age groups are more likely to get hospitalized because of an accident? (assuming they are the driver)"
   ]
  },
  {
   "cell_type": "code",
   "execution_count": 104,
   "metadata": {},
   "outputs": [
    {
     "name": "stdout",
     "output_type": "stream",
     "text": [
      "+--------------+------------------+\n",
      "| Age_range    |   phi(Age_range) |\n",
      "+==============+==================+\n",
      "| Age_range(0) |           0.0003 |\n",
      "+--------------+------------------+\n",
      "| Age_range(1) |           0.0007 |\n",
      "+--------------+------------------+\n",
      "| Age_range(2) |           0.2113 |\n",
      "+--------------+------------------+\n",
      "| Age_range(3) |           0.4327 |\n",
      "+--------------+------------------+\n",
      "| Age_range(4) |           0.2651 |\n",
      "+--------------+------------------+\n",
      "| Age_range(5) |           0.0899 |\n",
      "+--------------+------------------+\n"
     ]
    }
   ],
   "source": [
    "evidence_set = {\"User type\": 1, # Driver\n",
    "                \"Vehicle_Category\": 8, # In a car\n",
    "                \"Severity\": 3 # Hospitalized\n",
    "               }\n",
    "\n",
    "query_result = inference.query(variables=[\"Age_range\"],\n",
    "                               evidence=evidence_set)\n",
    "print(query_result)"
   ]
  },
  {
   "cell_type": "markdown",
   "metadata": {},
   "source": [
    "##### Result:\n",
    "\n",
    "It is more likely to have a driver in a car to be between 25 and 45 years old. It is important to notice that the age range 2 is only 9 years, yet there is a 21 percent chance that this is the age of the driver."
   ]
  },
  {
   "cell_type": "markdown",
   "metadata": {},
   "source": [
    "##### 5.2 Which age groups are more likely to use safety equipments?"
   ]
  },
  {
   "cell_type": "code",
   "execution_count": 105,
   "metadata": {},
   "outputs": [
    {
     "name": "stdout",
     "output_type": "stream",
     "text": [
      "+--------------+------------------+\n",
      "| Age_range    |   phi(Age_range) |\n",
      "+==============+==================+\n",
      "| Age_range(0) |           0.0015 |\n",
      "+--------------+------------------+\n",
      "| Age_range(1) |           0.0198 |\n",
      "+--------------+------------------+\n",
      "| Age_range(2) |           0.2368 |\n",
      "+--------------+------------------+\n",
      "| Age_range(3) |           0.4267 |\n",
      "+--------------+------------------+\n",
      "| Age_range(4) |           0.2459 |\n",
      "+--------------+------------------+\n",
      "| Age_range(5) |           0.0693 |\n",
      "+--------------+------------------+\n"
     ]
    }
   ],
   "source": [
    "evidence_set = {\"User type\": 1, # Driver\n",
    "                \"Safety equipment use\": 1, # Wearing safety equipment\n",
    "               }\n",
    "\n",
    "query_result = inference.query(variables=[\"Age_range\"],\n",
    "                               evidence=evidence_set)\n",
    "print(query_result)"
   ]
  },
  {
   "cell_type": "markdown",
   "metadata": {},
   "source": [
    "##### Result:\n",
    "\n",
    "These results probably correlate with how age groups are represented in an accident (most people are probably between 25 and 45. Then a lot between 45 and 65, and between 16-25)"
   ]
  },
  {
   "cell_type": "markdown",
   "metadata": {
    "collapsed": false,
    "jupyter": {
     "outputs_hidden": false
    }
   },
   "source": [
    "#### 6. Analysing trip type\n",
    "\n",
    "What are the likely reasons a driver 25-45 years old vs 16-25 started a trip that lead to hospitalization when driving during the day?\n",
    "\n",
    "Trip types\n",
    "\n",
    "*   1 - Home - Work\n",
    "*   2 - Home - School\n",
    "*   3 - Shopping\n",
    "*   4 - Professional use\n",
    "*   5 - Walking- Leisure\n",
    "*   9 - Other\n",
    "*   0 - no information"
   ]
  },
  {
   "cell_type": "code",
   "execution_count": 31,
   "metadata": {},
   "outputs": [
    {
     "name": "stdout",
     "output_type": "stream",
     "text": [
      "25-45 years old\n",
      "+---------+-------------+\n",
      "| Trip    |   phi(Trip) |\n",
      "+=========+=============+\n",
      "| Trip(0) |      0.2195 |\n",
      "+---------+-------------+\n",
      "| Trip(1) |      0.2342 |\n",
      "+---------+-------------+\n",
      "| Trip(2) |      0.0073 |\n",
      "+---------+-------------+\n",
      "| Trip(3) |      0.0186 |\n",
      "+---------+-------------+\n",
      "| Trip(4) |      0.1449 |\n",
      "+---------+-------------+\n",
      "| Trip(5) |      0.3073 |\n",
      "+---------+-------------+\n",
      "| Trip(9) |      0.0683 |\n",
      "+---------+-------------+\n",
      "16-25 years old\n",
      "+---------+-------------+\n",
      "| Trip    |   phi(Trip) |\n",
      "+=========+=============+\n",
      "| Trip(0) |      0.2235 |\n",
      "+---------+-------------+\n",
      "| Trip(1) |      0.1700 |\n",
      "+---------+-------------+\n",
      "| Trip(2) |      0.0486 |\n",
      "+---------+-------------+\n",
      "| Trip(3) |      0.0148 |\n",
      "+---------+-------------+\n",
      "| Trip(4) |      0.0702 |\n",
      "+---------+-------------+\n",
      "| Trip(5) |      0.3995 |\n",
      "+---------+-------------+\n",
      "| Trip(9) |      0.0734 |\n",
      "+---------+-------------+\n"
     ]
    }
   ],
   "source": [
    "evidence_set = {\"User type\": 1, # Driver\n",
    "                \"Age_range\": 3, # 25-45\n",
    "                \"Severity\": 3, # Hospitalized\n",
    "                \"Lighting\": 1 # Full day\n",
    "               }\n",
    "\n",
    "query_result = inference.query(variables=[\"Trip\"],\n",
    "                               evidence=evidence_set)\n",
    "print(\"25-45 years old\")\n",
    "print(query_result)\n",
    "\n",
    "evidence_set = {\"User type\": 1, # Driver\n",
    "                \"Age_range\": 2, # 16-25\n",
    "                \"Severity\": 3, # Hospitalized\n",
    "                \"Lighting\": 1 # Full day\n",
    "               }\n",
    "\n",
    "query_result = inference.query(variables=[\"Trip\"],\n",
    "                               evidence=evidence_set)\n",
    "print(\"16-25 years old\")\n",
    "print(query_result)"
   ]
  },
  {
   "cell_type": "markdown",
   "metadata": {},
   "source": [
    "Result:\n",
    "\n",
    "Among both groups, leisure trips are the most common. Naturally, home-work trips are more common among 25-45 year olds, and home-school trips are more common among 16-25 year olds. Professional use is understandably more common in the first group."
   ]
  },
  {
   "cell_type": "markdown",
   "metadata": {
    "collapsed": false,
    "jupyter": {
     "outputs_hidden": false
    }
   },
   "source": [
    "#### 7. What are the most dangerous road conditions?\n",
    "\n",
    "What road conditions are likely when a middle-aged, likely experienced driver suffers a deadly accident?"
   ]
  },
  {
   "cell_type": "code",
   "execution_count": 33,
   "metadata": {
    "collapsed": false,
    "jupyter": {
     "outputs_hidden": false
    }
   },
   "outputs": [
    {
     "name": "stdout",
     "output_type": "stream",
     "text": [
      "Road conditions:\n",
      "+--------------+------------------+\n",
      "| condition    |   phi(condition) |\n",
      "+==============+==================+\n",
      "| condition(0) |           0.0306 |\n",
      "+--------------+------------------+\n",
      "| condition(1) |           0.7802 |\n",
      "+--------------+------------------+\n",
      "| condition(2) |           0.1696 |\n",
      "+--------------+------------------+\n",
      "| condition(3) |           0.0011 |\n",
      "+--------------+------------------+\n",
      "| condition(4) |           0.0004 |\n",
      "+--------------+------------------+\n",
      "| condition(5) |           0.0029 |\n",
      "+--------------+------------------+\n",
      "| condition(6) |           0.0006 |\n",
      "+--------------+------------------+\n",
      "| condition(7) |           0.0063 |\n",
      "+--------------+------------------+\n",
      "| condition(8) |           0.0029 |\n",
      "+--------------+------------------+\n",
      "| condition(9) |           0.0054 |\n",
      "+--------------+------------------+\n",
      "Terrain type:\n",
      "+-----------------+---------------------+\n",
      "| terrain_type    |   phi(terrain_type) |\n",
      "+=================+=====================+\n",
      "| terrain_type(0) |              0.0948 |\n",
      "+-----------------+---------------------+\n",
      "| terrain_type(1) |              0.6998 |\n",
      "+-----------------+---------------------+\n",
      "| terrain_type(2) |              0.1635 |\n",
      "+-----------------+---------------------+\n",
      "| terrain_type(3) |              0.0240 |\n",
      "+-----------------+---------------------+\n",
      "| terrain_type(4) |              0.0179 |\n",
      "+-----------------+---------------------+\n",
      "Curve type:\n",
      "+---------------+-------------------+\n",
      "| curve_type    |   phi(curve_type) |\n",
      "+===============+===================+\n",
      "| curve_type(0) |            0.0567 |\n",
      "+---------------+-------------------+\n",
      "| curve_type(1) |            0.6953 |\n",
      "+---------------+-------------------+\n",
      "| curve_type(2) |            0.1150 |\n",
      "+---------------+-------------------+\n",
      "| curve_type(3) |            0.1111 |\n",
      "+---------------+-------------------+\n",
      "| curve_type(4) |            0.0218 |\n",
      "+---------------+-------------------+\n"
     ]
    }
   ],
   "source": [
    "evidence_set = {\"User type\": 1, # Driver\n",
    "                \"Age_range\": 3, # 25-45\n",
    "                \"Severity\": 4, # Killed\n",
    "               }\n",
    "\n",
    "query_result = inference.query(variables=[\"condition\"],\n",
    "                               evidence=evidence_set)\n",
    "\n",
    "print(\"Road conditions:\")\n",
    "print(query_result)\n",
    "\n",
    "query_result = inference.query(variables=[\"terrain_type\"],\n",
    "                               evidence=evidence_set)\n",
    "\n",
    "print(\"Terrain type:\")\n",
    "print(query_result)\n",
    "\n",
    "query_result = inference.query(variables=[\"curve_type\"],\n",
    "                               evidence=evidence_set)\n",
    "\n",
    "print(\"Curve type:\")\n",
    "print(query_result)"
   ]
  },
  {
   "cell_type": "markdown",
   "metadata": {},
   "source": [
    "Result:\n",
    "If a driver aged between 25-45 dies, the road had normal conditions with **78%** probability and was wet with **17%** probability.\n",
    "Similarly **70%** flat terrain and **16%** slope, hills are less common.\n",
    "Also similarly **70%** probability of having a straight road and **22%** probability of being curved in either direction.\n",
    "\n",
    "These could be due to the general distribution of all driving situations."
   ]
  },
  {
   "cell_type": "markdown",
   "metadata": {
    "collapsed": false,
    "jupyter": {
     "outputs_hidden": false
    }
   },
   "source": [
    "#### 8. Are accidents likely to be worse during holidays?\n",
    "\n",
    "Are drivers likely to injured worse during the day on a holiday?"
   ]
  },
  {
   "cell_type": "code",
   "execution_count": 34,
   "metadata": {},
   "outputs": [
    {
     "name": "stdout",
     "output_type": "stream",
     "text": [
      "No holiday:\n",
      "+-------------+-----------------+\n",
      "| Severity    |   phi(Severity) |\n",
      "+=============+=================+\n",
      "| Severity(1) |          0.4515 |\n",
      "+-------------+-----------------+\n",
      "| Severity(2) |          0.3381 |\n",
      "+-------------+-----------------+\n",
      "| Severity(3) |          0.1874 |\n",
      "+-------------+-----------------+\n",
      "| Severity(4) |          0.0229 |\n",
      "+-------------+-----------------+\n",
      "Holiday:\n",
      "+-------------+-----------------+\n",
      "| Severity    |   phi(Severity) |\n",
      "+=============+=================+\n",
      "| Severity(1) |          0.4491 |\n",
      "+-------------+-----------------+\n",
      "| Severity(2) |          0.3393 |\n",
      "+-------------+-----------------+\n",
      "| Severity(3) |          0.1886 |\n",
      "+-------------+-----------------+\n",
      "| Severity(4) |          0.0231 |\n",
      "+-------------+-----------------+\n"
     ]
    }
   ],
   "source": [
    "evidence_set = {\"User type\": 1, # Driver\n",
    "                \"Lighting\": 1, # Full day\n",
    "                \"Holiday\": 0 # No holiday\n",
    "               }\n",
    "\n",
    "query_result = inference.query(variables=[\"Severity\"],\n",
    "                               evidence=evidence_set)\n",
    "\n",
    "print(\"No holiday:\")\n",
    "print(query_result)\n",
    "\n",
    "evidence_set = {\"User type\": 1, # Driver\n",
    "                \"Lighting\": 1, # Full day\n",
    "                \"Holiday\": 1 # Holiday\n",
    "               }\n",
    "\n",
    "query_result = inference.query(variables=[\"Severity\"],\n",
    "                               evidence=evidence_set)\n",
    "\n",
    "print(\"Holiday:\")\n",
    "print(query_result)"
   ]
  },
  {
   "cell_type": "markdown",
   "metadata": {},
   "source": [
    "Result:\n",
    "\n",
    "There is no significant difference in the probabilities regarding the severity of the accident, whether it was a holiday or not."
   ]
  },
  {
   "cell_type": "markdown",
   "metadata": {},
   "source": [
    "### Gibbs Sampling"
   ]
  },
  {
   "cell_type": "code",
   "execution_count": 58,
   "metadata": {},
   "outputs": [],
   "source": [
    "model_l = BayesianNetwork.load(\"model_indegree4.xml\", filetype=\"xmlbif\")"
   ]
  },
  {
   "cell_type": "code",
   "execution_count": 70,
   "metadata": {},
   "outputs": [
    {
     "data": {
      "text/plain": [
       "{'intel': 2, 'sat': 2}"
      ]
     },
     "execution_count": 70,
     "metadata": {},
     "output_type": "execute_result"
    }
   ],
   "source": [
    "gibbs_chain.cardinalities"
   ]
  },
  {
   "cell_type": "code",
   "execution_count": null,
   "metadata": {},
   "outputs": [],
   "source": [
    "from pgmpy.sampling import GibbsSampling\n",
    "\n",
    "gibbs_chain = GibbsSampling(model_l)"
   ]
  },
  {
   "cell_type": "code",
   "execution_count": 71,
   "metadata": {},
   "outputs": [
    {
     "data": {
      "application/vnd.jupyter.widget-view+json": {
       "model_id": "9e1bf4529b7e46958d2507ebbf577414",
       "version_major": 2,
       "version_minor": 0
      },
      "text/plain": [
       "0it [00:00, ?it/s]"
      ]
     },
     "metadata": {},
     "output_type": "display_data"
    },
    {
     "data": {
      "text/html": [
       "<div>\n",
       "<style scoped>\n",
       "    .dataframe tbody tr th:only-of-type {\n",
       "        vertical-align: middle;\n",
       "    }\n",
       "\n",
       "    .dataframe tbody tr th {\n",
       "        vertical-align: top;\n",
       "    }\n",
       "\n",
       "    .dataframe thead th {\n",
       "        text-align: right;\n",
       "    }\n",
       "</style>\n",
       "<table border=\"1\" class=\"dataframe\">\n",
       "  <thead>\n",
       "    <tr style=\"text-align: right;\">\n",
       "      <th></th>\n",
       "      <th>intel</th>\n",
       "      <th>sat</th>\n",
       "    </tr>\n",
       "  </thead>\n",
       "  <tbody>\n",
       "    <tr>\n",
       "      <th>0</th>\n",
       "      <td>0</td>\n",
       "      <td>0</td>\n",
       "    </tr>\n",
       "  </tbody>\n",
       "</table>\n",
       "</div>"
      ],
      "text/plain": [
       "   intel  sat\n",
       "0      0    0"
      ]
     },
     "execution_count": 71,
     "metadata": {},
     "output_type": "execute_result"
    }
   ],
   "source": [
    "gibbs_chain.sample(size=1)"
   ]
  }
 ],
 "metadata": {
  "colab": {
   "provenance": []
  },
  "kernelspec": {
   "display_name": "Python 3 (ipykernel)",
   "language": "python",
   "name": "python3"
  },
  "language_info": {
   "codemirror_mode": {
    "name": "ipython",
    "version": 3
   },
   "file_extension": ".py",
   "mimetype": "text/x-python",
   "name": "python",
   "nbconvert_exporter": "python",
   "pygments_lexer": "ipython3",
   "version": "3.11.5"
  },
  "widgets": {
   "application/vnd.jupyter.widget-state+json": {
    "1e461e87752a49b9bf2dc633dc3410d3": {
     "model_module": "@jupyter-widgets/controls",
     "model_module_version": "1.5.0",
     "model_name": "DescriptionStyleModel",
     "state": {
      "_model_module": "@jupyter-widgets/controls",
      "_model_module_version": "1.5.0",
      "_model_name": "DescriptionStyleModel",
      "_view_count": null,
      "_view_module": "@jupyter-widgets/base",
      "_view_module_version": "1.2.0",
      "_view_name": "StyleView",
      "description_width": ""
     }
    },
    "53426becea05466db68be131704a4b96": {
     "model_module": "@jupyter-widgets/controls",
     "model_module_version": "1.5.0",
     "model_name": "HBoxModel",
     "state": {
      "_dom_classes": [],
      "_model_module": "@jupyter-widgets/controls",
      "_model_module_version": "1.5.0",
      "_model_name": "HBoxModel",
      "_view_count": null,
      "_view_module": "@jupyter-widgets/controls",
      "_view_module_version": "1.5.0",
      "_view_name": "HBoxView",
      "box_style": "",
      "children": [
       "IPY_MODEL_795e986c59bc48ea90a3c36eeeab6e1e",
       "IPY_MODEL_eb28ff297f1d498091d90e8c7d0e6f34",
       "IPY_MODEL_c335538ec74c44b4947d5a5067e91216"
      ],
      "layout": "IPY_MODEL_82f686178d484b80a7803683b2051a40"
     }
    },
    "795e986c59bc48ea90a3c36eeeab6e1e": {
     "model_module": "@jupyter-widgets/controls",
     "model_module_version": "1.5.0",
     "model_name": "HTMLModel",
     "state": {
      "_dom_classes": [],
      "_model_module": "@jupyter-widgets/controls",
      "_model_module_version": "1.5.0",
      "_model_name": "HTMLModel",
      "_view_count": null,
      "_view_module": "@jupyter-widgets/controls",
      "_view_module_version": "1.5.0",
      "_view_name": "HTMLView",
      "description": "",
      "description_tooltip": null,
      "layout": "IPY_MODEL_a15e7bd6bd624aefa76e30c69ca258b8",
      "placeholder": "​",
      "style": "IPY_MODEL_1e461e87752a49b9bf2dc633dc3410d3",
      "value": "100%"
     }
    },
    "7bb9cf8ab6e24ebe9faf00385df10eae": {
     "model_module": "@jupyter-widgets/controls",
     "model_module_version": "1.5.0",
     "model_name": "DescriptionStyleModel",
     "state": {
      "_model_module": "@jupyter-widgets/controls",
      "_model_module_version": "1.5.0",
      "_model_name": "DescriptionStyleModel",
      "_view_count": null,
      "_view_module": "@jupyter-widgets/base",
      "_view_module_version": "1.2.0",
      "_view_name": "StyleView",
      "description_width": ""
     }
    },
    "80e538f884e0461d8d1de2491eac860f": {
     "model_module": "@jupyter-widgets/controls",
     "model_module_version": "1.5.0",
     "model_name": "ProgressStyleModel",
     "state": {
      "_model_module": "@jupyter-widgets/controls",
      "_model_module_version": "1.5.0",
      "_model_name": "ProgressStyleModel",
      "_view_count": null,
      "_view_module": "@jupyter-widgets/base",
      "_view_module_version": "1.2.0",
      "_view_name": "StyleView",
      "bar_color": null,
      "description_width": ""
     }
    },
    "82f686178d484b80a7803683b2051a40": {
     "model_module": "@jupyter-widgets/base",
     "model_module_version": "1.2.0",
     "model_name": "LayoutModel",
     "state": {
      "_model_module": "@jupyter-widgets/base",
      "_model_module_version": "1.2.0",
      "_model_name": "LayoutModel",
      "_view_count": null,
      "_view_module": "@jupyter-widgets/base",
      "_view_module_version": "1.2.0",
      "_view_name": "LayoutView",
      "align_content": null,
      "align_items": null,
      "align_self": null,
      "border": null,
      "bottom": null,
      "display": null,
      "flex": null,
      "flex_flow": null,
      "grid_area": null,
      "grid_auto_columns": null,
      "grid_auto_flow": null,
      "grid_auto_rows": null,
      "grid_column": null,
      "grid_gap": null,
      "grid_row": null,
      "grid_template_areas": null,
      "grid_template_columns": null,
      "grid_template_rows": null,
      "height": null,
      "justify_content": null,
      "justify_items": null,
      "left": null,
      "margin": null,
      "max_height": null,
      "max_width": null,
      "min_height": null,
      "min_width": null,
      "object_fit": null,
      "object_position": null,
      "order": null,
      "overflow": null,
      "overflow_x": null,
      "overflow_y": null,
      "padding": null,
      "right": null,
      "top": null,
      "visibility": null,
      "width": null
     }
    },
    "872c56a06ce24195b4975cbb95499c50": {
     "model_module": "@jupyter-widgets/base",
     "model_module_version": "1.2.0",
     "model_name": "LayoutModel",
     "state": {
      "_model_module": "@jupyter-widgets/base",
      "_model_module_version": "1.2.0",
      "_model_name": "LayoutModel",
      "_view_count": null,
      "_view_module": "@jupyter-widgets/base",
      "_view_module_version": "1.2.0",
      "_view_name": "LayoutView",
      "align_content": null,
      "align_items": null,
      "align_self": null,
      "border": null,
      "bottom": null,
      "display": null,
      "flex": null,
      "flex_flow": null,
      "grid_area": null,
      "grid_auto_columns": null,
      "grid_auto_flow": null,
      "grid_auto_rows": null,
      "grid_column": null,
      "grid_gap": null,
      "grid_row": null,
      "grid_template_areas": null,
      "grid_template_columns": null,
      "grid_template_rows": null,
      "height": null,
      "justify_content": null,
      "justify_items": null,
      "left": null,
      "margin": null,
      "max_height": null,
      "max_width": null,
      "min_height": null,
      "min_width": null,
      "object_fit": null,
      "object_position": null,
      "order": null,
      "overflow": null,
      "overflow_x": null,
      "overflow_y": null,
      "padding": null,
      "right": null,
      "top": null,
      "visibility": null,
      "width": null
     }
    },
    "a15e7bd6bd624aefa76e30c69ca258b8": {
     "model_module": "@jupyter-widgets/base",
     "model_module_version": "1.2.0",
     "model_name": "LayoutModel",
     "state": {
      "_model_module": "@jupyter-widgets/base",
      "_model_module_version": "1.2.0",
      "_model_name": "LayoutModel",
      "_view_count": null,
      "_view_module": "@jupyter-widgets/base",
      "_view_module_version": "1.2.0",
      "_view_name": "LayoutView",
      "align_content": null,
      "align_items": null,
      "align_self": null,
      "border": null,
      "bottom": null,
      "display": null,
      "flex": null,
      "flex_flow": null,
      "grid_area": null,
      "grid_auto_columns": null,
      "grid_auto_flow": null,
      "grid_auto_rows": null,
      "grid_column": null,
      "grid_gap": null,
      "grid_row": null,
      "grid_template_areas": null,
      "grid_template_columns": null,
      "grid_template_rows": null,
      "height": null,
      "justify_content": null,
      "justify_items": null,
      "left": null,
      "margin": null,
      "max_height": null,
      "max_width": null,
      "min_height": null,
      "min_width": null,
      "object_fit": null,
      "object_position": null,
      "order": null,
      "overflow": null,
      "overflow_x": null,
      "overflow_y": null,
      "padding": null,
      "right": null,
      "top": null,
      "visibility": null,
      "width": null
     }
    },
    "a906222e9dbc4670ac3a7402e358995d": {
     "model_module": "@jupyter-widgets/base",
     "model_module_version": "1.2.0",
     "model_name": "LayoutModel",
     "state": {
      "_model_module": "@jupyter-widgets/base",
      "_model_module_version": "1.2.0",
      "_model_name": "LayoutModel",
      "_view_count": null,
      "_view_module": "@jupyter-widgets/base",
      "_view_module_version": "1.2.0",
      "_view_name": "LayoutView",
      "align_content": null,
      "align_items": null,
      "align_self": null,
      "border": null,
      "bottom": null,
      "display": null,
      "flex": null,
      "flex_flow": null,
      "grid_area": null,
      "grid_auto_columns": null,
      "grid_auto_flow": null,
      "grid_auto_rows": null,
      "grid_column": null,
      "grid_gap": null,
      "grid_row": null,
      "grid_template_areas": null,
      "grid_template_columns": null,
      "grid_template_rows": null,
      "height": null,
      "justify_content": null,
      "justify_items": null,
      "left": null,
      "margin": null,
      "max_height": null,
      "max_width": null,
      "min_height": null,
      "min_width": null,
      "object_fit": null,
      "object_position": null,
      "order": null,
      "overflow": null,
      "overflow_x": null,
      "overflow_y": null,
      "padding": null,
      "right": null,
      "top": null,
      "visibility": null,
      "width": null
     }
    },
    "c335538ec74c44b4947d5a5067e91216": {
     "model_module": "@jupyter-widgets/controls",
     "model_module_version": "1.5.0",
     "model_name": "HTMLModel",
     "state": {
      "_dom_classes": [],
      "_model_module": "@jupyter-widgets/controls",
      "_model_module_version": "1.5.0",
      "_model_name": "HTMLModel",
      "_view_count": null,
      "_view_module": "@jupyter-widgets/controls",
      "_view_module_version": "1.5.0",
      "_view_name": "HTMLView",
      "description": "",
      "description_tooltip": null,
      "layout": "IPY_MODEL_872c56a06ce24195b4975cbb95499c50",
      "placeholder": "​",
      "style": "IPY_MODEL_7bb9cf8ab6e24ebe9faf00385df10eae",
      "value": " 10/10 [02:31&lt;00:00,  5.46s/it]"
     }
    },
    "eb28ff297f1d498091d90e8c7d0e6f34": {
     "model_module": "@jupyter-widgets/controls",
     "model_module_version": "1.5.0",
     "model_name": "FloatProgressModel",
     "state": {
      "_dom_classes": [],
      "_model_module": "@jupyter-widgets/controls",
      "_model_module_version": "1.5.0",
      "_model_name": "FloatProgressModel",
      "_view_count": null,
      "_view_module": "@jupyter-widgets/controls",
      "_view_module_version": "1.5.0",
      "_view_name": "ProgressView",
      "bar_style": "success",
      "description": "",
      "description_tooltip": null,
      "layout": "IPY_MODEL_a906222e9dbc4670ac3a7402e358995d",
      "max": 10,
      "min": 0,
      "orientation": "horizontal",
      "style": "IPY_MODEL_80e538f884e0461d8d1de2491eac860f",
      "value": 10
     }
    }
   }
  }
 },
 "nbformat": 4,
 "nbformat_minor": 4
}
