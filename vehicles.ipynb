{
  "nbformat": 4,
  "nbformat_minor": 0,
  "metadata": {
    "colab": {
      "provenance": []
    },
    "kernelspec": {
      "name": "python3",
      "display_name": "Python 3"
    },
    "language_info": {
      "name": "python"
    }
  },
  "cells": [
    {
      "cell_type": "markdown",
      "source": [
        "# Vehicles"
      ],
      "metadata": {
        "id": "XmK74ilK0E6f"
      }
    },
    {
      "cell_type": "code",
      "source": [
        "import pandas as pd\n",
        "from sklearn.metrics.cluster import contingency_matrix\n",
        "from scipy.stats.contingency import association\n",
        "import seaborn as sns"
      ],
      "metadata": {
        "id": "9CS48WB-0bLk"
      },
      "execution_count": 34,
      "outputs": []
    },
    {
      "cell_type": "code",
      "source": [
        "# For visualisation\n",
        "def cramersv(a, b):\n",
        "    return association(contingency_matrix(a, b))"
      ],
      "metadata": {
        "id": "SiG5H_3xBPY-"
      },
      "execution_count": 35,
      "outputs": []
    },
    {
      "cell_type": "code",
      "execution_count": 2,
      "metadata": {
        "id": "ygLOC5cbz8W4"
      },
      "outputs": [],
      "source": [
        "df = pd.read_csv('data/vehicles.csv', encoding='latin1')"
      ]
    },
    {
      "cell_type": "code",
      "source": [
        "def fill_with_most_common(df, column_name):\n",
        "  most_common_value = df[column_name].mode()[0]\n",
        "  df[column_name].fillna(most_common_value, inplace=True)"
      ],
      "metadata": {
        "id": "tRpYhPiEELJj"
      },
      "execution_count": 3,
      "outputs": []
    },
    {
      "cell_type": "code",
      "source": [
        "df.head()"
      ],
      "metadata": {
        "colab": {
          "base_uri": "https://localhost:8080/",
          "height": 206
        },
        "id": "HSuUX2ZF0gjN",
        "outputId": "6969b2d7-f755-44d2-c023-12f787c653f0"
      },
      "execution_count": 4,
      "outputs": [
        {
          "output_type": "execute_result",
          "data": {
            "text/plain": [
              "        Num_Acc  senc  catv  occutc  obs  obsm  choc  manv num_veh\n",
              "0  201600000001   0.0     7       0  0.0   0.0   1.0   1.0     B02\n",
              "1  201600000001   0.0     2       0  0.0   0.0   7.0  15.0     A01\n",
              "2  201600000002   0.0     7       0  6.0   0.0   1.0   1.0     A01\n",
              "3  201600000003   0.0     7       0  0.0   1.0   6.0   1.0     A01\n",
              "4  201600000004   0.0    32       0  0.0   0.0   1.0   1.0     B02"
            ],
            "text/html": [
              "\n",
              "  <div id=\"df-070d07a7-08d1-4a3c-a603-da405ed35274\" class=\"colab-df-container\">\n",
              "    <div>\n",
              "<style scoped>\n",
              "    .dataframe tbody tr th:only-of-type {\n",
              "        vertical-align: middle;\n",
              "    }\n",
              "\n",
              "    .dataframe tbody tr th {\n",
              "        vertical-align: top;\n",
              "    }\n",
              "\n",
              "    .dataframe thead th {\n",
              "        text-align: right;\n",
              "    }\n",
              "</style>\n",
              "<table border=\"1\" class=\"dataframe\">\n",
              "  <thead>\n",
              "    <tr style=\"text-align: right;\">\n",
              "      <th></th>\n",
              "      <th>Num_Acc</th>\n",
              "      <th>senc</th>\n",
              "      <th>catv</th>\n",
              "      <th>occutc</th>\n",
              "      <th>obs</th>\n",
              "      <th>obsm</th>\n",
              "      <th>choc</th>\n",
              "      <th>manv</th>\n",
              "      <th>num_veh</th>\n",
              "    </tr>\n",
              "  </thead>\n",
              "  <tbody>\n",
              "    <tr>\n",
              "      <th>0</th>\n",
              "      <td>201600000001</td>\n",
              "      <td>0.0</td>\n",
              "      <td>7</td>\n",
              "      <td>0</td>\n",
              "      <td>0.0</td>\n",
              "      <td>0.0</td>\n",
              "      <td>1.0</td>\n",
              "      <td>1.0</td>\n",
              "      <td>B02</td>\n",
              "    </tr>\n",
              "    <tr>\n",
              "      <th>1</th>\n",
              "      <td>201600000001</td>\n",
              "      <td>0.0</td>\n",
              "      <td>2</td>\n",
              "      <td>0</td>\n",
              "      <td>0.0</td>\n",
              "      <td>0.0</td>\n",
              "      <td>7.0</td>\n",
              "      <td>15.0</td>\n",
              "      <td>A01</td>\n",
              "    </tr>\n",
              "    <tr>\n",
              "      <th>2</th>\n",
              "      <td>201600000002</td>\n",
              "      <td>0.0</td>\n",
              "      <td>7</td>\n",
              "      <td>0</td>\n",
              "      <td>6.0</td>\n",
              "      <td>0.0</td>\n",
              "      <td>1.0</td>\n",
              "      <td>1.0</td>\n",
              "      <td>A01</td>\n",
              "    </tr>\n",
              "    <tr>\n",
              "      <th>3</th>\n",
              "      <td>201600000003</td>\n",
              "      <td>0.0</td>\n",
              "      <td>7</td>\n",
              "      <td>0</td>\n",
              "      <td>0.0</td>\n",
              "      <td>1.0</td>\n",
              "      <td>6.0</td>\n",
              "      <td>1.0</td>\n",
              "      <td>A01</td>\n",
              "    </tr>\n",
              "    <tr>\n",
              "      <th>4</th>\n",
              "      <td>201600000004</td>\n",
              "      <td>0.0</td>\n",
              "      <td>32</td>\n",
              "      <td>0</td>\n",
              "      <td>0.0</td>\n",
              "      <td>0.0</td>\n",
              "      <td>1.0</td>\n",
              "      <td>1.0</td>\n",
              "      <td>B02</td>\n",
              "    </tr>\n",
              "  </tbody>\n",
              "</table>\n",
              "</div>\n",
              "    <div class=\"colab-df-buttons\">\n",
              "\n",
              "  <div class=\"colab-df-container\">\n",
              "    <button class=\"colab-df-convert\" onclick=\"convertToInteractive('df-070d07a7-08d1-4a3c-a603-da405ed35274')\"\n",
              "            title=\"Convert this dataframe to an interactive table.\"\n",
              "            style=\"display:none;\">\n",
              "\n",
              "  <svg xmlns=\"http://www.w3.org/2000/svg\" height=\"24px\" viewBox=\"0 -960 960 960\">\n",
              "    <path d=\"M120-120v-720h720v720H120Zm60-500h600v-160H180v160Zm220 220h160v-160H400v160Zm0 220h160v-160H400v160ZM180-400h160v-160H180v160Zm440 0h160v-160H620v160ZM180-180h160v-160H180v160Zm440 0h160v-160H620v160Z\"/>\n",
              "  </svg>\n",
              "    </button>\n",
              "\n",
              "  <style>\n",
              "    .colab-df-container {\n",
              "      display:flex;\n",
              "      gap: 12px;\n",
              "    }\n",
              "\n",
              "    .colab-df-convert {\n",
              "      background-color: #E8F0FE;\n",
              "      border: none;\n",
              "      border-radius: 50%;\n",
              "      cursor: pointer;\n",
              "      display: none;\n",
              "      fill: #1967D2;\n",
              "      height: 32px;\n",
              "      padding: 0 0 0 0;\n",
              "      width: 32px;\n",
              "    }\n",
              "\n",
              "    .colab-df-convert:hover {\n",
              "      background-color: #E2EBFA;\n",
              "      box-shadow: 0px 1px 2px rgba(60, 64, 67, 0.3), 0px 1px 3px 1px rgba(60, 64, 67, 0.15);\n",
              "      fill: #174EA6;\n",
              "    }\n",
              "\n",
              "    .colab-df-buttons div {\n",
              "      margin-bottom: 4px;\n",
              "    }\n",
              "\n",
              "    [theme=dark] .colab-df-convert {\n",
              "      background-color: #3B4455;\n",
              "      fill: #D2E3FC;\n",
              "    }\n",
              "\n",
              "    [theme=dark] .colab-df-convert:hover {\n",
              "      background-color: #434B5C;\n",
              "      box-shadow: 0px 1px 3px 1px rgba(0, 0, 0, 0.15);\n",
              "      filter: drop-shadow(0px 1px 2px rgba(0, 0, 0, 0.3));\n",
              "      fill: #FFFFFF;\n",
              "    }\n",
              "  </style>\n",
              "\n",
              "    <script>\n",
              "      const buttonEl =\n",
              "        document.querySelector('#df-070d07a7-08d1-4a3c-a603-da405ed35274 button.colab-df-convert');\n",
              "      buttonEl.style.display =\n",
              "        google.colab.kernel.accessAllowed ? 'block' : 'none';\n",
              "\n",
              "      async function convertToInteractive(key) {\n",
              "        const element = document.querySelector('#df-070d07a7-08d1-4a3c-a603-da405ed35274');\n",
              "        const dataTable =\n",
              "          await google.colab.kernel.invokeFunction('convertToInteractive',\n",
              "                                                    [key], {});\n",
              "        if (!dataTable) return;\n",
              "\n",
              "        const docLinkHtml = 'Like what you see? Visit the ' +\n",
              "          '<a target=\"_blank\" href=https://colab.research.google.com/notebooks/data_table.ipynb>data table notebook</a>'\n",
              "          + ' to learn more about interactive tables.';\n",
              "        element.innerHTML = '';\n",
              "        dataTable['output_type'] = 'display_data';\n",
              "        await google.colab.output.renderOutput(dataTable, element);\n",
              "        const docLink = document.createElement('div');\n",
              "        docLink.innerHTML = docLinkHtml;\n",
              "        element.appendChild(docLink);\n",
              "      }\n",
              "    </script>\n",
              "  </div>\n",
              "\n",
              "\n",
              "<div id=\"df-abd363ac-bfc3-452c-996d-f7abfa468290\">\n",
              "  <button class=\"colab-df-quickchart\" onclick=\"quickchart('df-abd363ac-bfc3-452c-996d-f7abfa468290')\"\n",
              "            title=\"Suggest charts\"\n",
              "            style=\"display:none;\">\n",
              "\n",
              "<svg xmlns=\"http://www.w3.org/2000/svg\" height=\"24px\"viewBox=\"0 0 24 24\"\n",
              "     width=\"24px\">\n",
              "    <g>\n",
              "        <path d=\"M19 3H5c-1.1 0-2 .9-2 2v14c0 1.1.9 2 2 2h14c1.1 0 2-.9 2-2V5c0-1.1-.9-2-2-2zM9 17H7v-7h2v7zm4 0h-2V7h2v10zm4 0h-2v-4h2v4z\"/>\n",
              "    </g>\n",
              "</svg>\n",
              "  </button>\n",
              "\n",
              "<style>\n",
              "  .colab-df-quickchart {\n",
              "      --bg-color: #E8F0FE;\n",
              "      --fill-color: #1967D2;\n",
              "      --hover-bg-color: #E2EBFA;\n",
              "      --hover-fill-color: #174EA6;\n",
              "      --disabled-fill-color: #AAA;\n",
              "      --disabled-bg-color: #DDD;\n",
              "  }\n",
              "\n",
              "  [theme=dark] .colab-df-quickchart {\n",
              "      --bg-color: #3B4455;\n",
              "      --fill-color: #D2E3FC;\n",
              "      --hover-bg-color: #434B5C;\n",
              "      --hover-fill-color: #FFFFFF;\n",
              "      --disabled-bg-color: #3B4455;\n",
              "      --disabled-fill-color: #666;\n",
              "  }\n",
              "\n",
              "  .colab-df-quickchart {\n",
              "    background-color: var(--bg-color);\n",
              "    border: none;\n",
              "    border-radius: 50%;\n",
              "    cursor: pointer;\n",
              "    display: none;\n",
              "    fill: var(--fill-color);\n",
              "    height: 32px;\n",
              "    padding: 0;\n",
              "    width: 32px;\n",
              "  }\n",
              "\n",
              "  .colab-df-quickchart:hover {\n",
              "    background-color: var(--hover-bg-color);\n",
              "    box-shadow: 0 1px 2px rgba(60, 64, 67, 0.3), 0 1px 3px 1px rgba(60, 64, 67, 0.15);\n",
              "    fill: var(--button-hover-fill-color);\n",
              "  }\n",
              "\n",
              "  .colab-df-quickchart-complete:disabled,\n",
              "  .colab-df-quickchart-complete:disabled:hover {\n",
              "    background-color: var(--disabled-bg-color);\n",
              "    fill: var(--disabled-fill-color);\n",
              "    box-shadow: none;\n",
              "  }\n",
              "\n",
              "  .colab-df-spinner {\n",
              "    border: 2px solid var(--fill-color);\n",
              "    border-color: transparent;\n",
              "    border-bottom-color: var(--fill-color);\n",
              "    animation:\n",
              "      spin 1s steps(1) infinite;\n",
              "  }\n",
              "\n",
              "  @keyframes spin {\n",
              "    0% {\n",
              "      border-color: transparent;\n",
              "      border-bottom-color: var(--fill-color);\n",
              "      border-left-color: var(--fill-color);\n",
              "    }\n",
              "    20% {\n",
              "      border-color: transparent;\n",
              "      border-left-color: var(--fill-color);\n",
              "      border-top-color: var(--fill-color);\n",
              "    }\n",
              "    30% {\n",
              "      border-color: transparent;\n",
              "      border-left-color: var(--fill-color);\n",
              "      border-top-color: var(--fill-color);\n",
              "      border-right-color: var(--fill-color);\n",
              "    }\n",
              "    40% {\n",
              "      border-color: transparent;\n",
              "      border-right-color: var(--fill-color);\n",
              "      border-top-color: var(--fill-color);\n",
              "    }\n",
              "    60% {\n",
              "      border-color: transparent;\n",
              "      border-right-color: var(--fill-color);\n",
              "    }\n",
              "    80% {\n",
              "      border-color: transparent;\n",
              "      border-right-color: var(--fill-color);\n",
              "      border-bottom-color: var(--fill-color);\n",
              "    }\n",
              "    90% {\n",
              "      border-color: transparent;\n",
              "      border-bottom-color: var(--fill-color);\n",
              "    }\n",
              "  }\n",
              "</style>\n",
              "\n",
              "  <script>\n",
              "    async function quickchart(key) {\n",
              "      const quickchartButtonEl =\n",
              "        document.querySelector('#' + key + ' button');\n",
              "      quickchartButtonEl.disabled = true;  // To prevent multiple clicks.\n",
              "      quickchartButtonEl.classList.add('colab-df-spinner');\n",
              "      try {\n",
              "        const charts = await google.colab.kernel.invokeFunction(\n",
              "            'suggestCharts', [key], {});\n",
              "      } catch (error) {\n",
              "        console.error('Error during call to suggestCharts:', error);\n",
              "      }\n",
              "      quickchartButtonEl.classList.remove('colab-df-spinner');\n",
              "      quickchartButtonEl.classList.add('colab-df-quickchart-complete');\n",
              "    }\n",
              "    (() => {\n",
              "      let quickchartButtonEl =\n",
              "        document.querySelector('#df-abd363ac-bfc3-452c-996d-f7abfa468290 button');\n",
              "      quickchartButtonEl.style.display =\n",
              "        google.colab.kernel.accessAllowed ? 'block' : 'none';\n",
              "    })();\n",
              "  </script>\n",
              "</div>\n",
              "    </div>\n",
              "  </div>\n"
            ],
            "application/vnd.google.colaboratory.intrinsic+json": {
              "type": "dataframe",
              "variable_name": "df"
            }
          },
          "metadata": {},
          "execution_count": 4
        }
      ]
    },
    {
      "cell_type": "code",
      "source": [
        "df.info()"
      ],
      "metadata": {
        "colab": {
          "base_uri": "https://localhost:8080/"
        },
        "id": "SQN1UFrk9PUl",
        "outputId": "e0ac7565-6a95-4450-ba2d-6747e96b2ba5"
      },
      "execution_count": 5,
      "outputs": [
        {
          "output_type": "stream",
          "name": "stdout",
          "text": [
            "<class 'pandas.core.frame.DataFrame'>\n",
            "RangeIndex: 1433389 entries, 0 to 1433388\n",
            "Data columns (total 9 columns):\n",
            " #   Column   Non-Null Count    Dtype  \n",
            "---  ------   --------------    -----  \n",
            " 0   Num_Acc  1433389 non-null  int64  \n",
            " 1   senc     1433317 non-null  float64\n",
            " 2   catv     1433389 non-null  int64  \n",
            " 3   occutc   1433389 non-null  int64  \n",
            " 4   obs      1432627 non-null  float64\n",
            " 5   obsm     1432788 non-null  float64\n",
            " 6   choc     1433160 non-null  float64\n",
            " 7   manv     1433083 non-null  float64\n",
            " 8   num_veh  1433389 non-null  object \n",
            "dtypes: float64(5), int64(3), object(1)\n",
            "memory usage: 98.4+ MB\n"
          ]
        }
      ]
    },
    {
      "cell_type": "code",
      "source": [
        "df.rename(columns={'senc': 'Flow direction','catv': 'Category', 'obs': 'Fix Obstacle', 'obsm': 'Mobile Obstacle', 'choc': 'Shock', 'manv': 'Maneuver', 'occutc': 'Occupants'}, inplace=True)"
      ],
      "metadata": {
        "id": "dNudaIkr0g0N"
      },
      "execution_count": 6,
      "outputs": []
    },
    {
      "cell_type": "markdown",
      "source": [
        "## Num_veh"
      ],
      "metadata": {
        "id": "fQCDZ7nt8U7Q"
      }
    },
    {
      "cell_type": "markdown",
      "source": [
        "Vehicle identifier included for each user occupying this vehicle (including pedestrians who are attached to the vehicles which struck them) – Alphanumeric code"
      ],
      "metadata": {
        "id": "bu86Snbk8XX-"
      }
    },
    {
      "cell_type": "code",
      "source": [
        "df['num_veh'].value_counts()"
      ],
      "metadata": {
        "colab": {
          "base_uri": "https://localhost:8080/"
        },
        "id": "ax172rEW8WxP",
        "outputId": "6ee166eb-f48b-42eb-ca97-fe3ce3924ecd"
      },
      "execution_count": 7,
      "outputs": [
        {
          "output_type": "execute_result",
          "data": {
            "text/plain": [
              "A01    829287\n",
              "B01    387462\n",
              "B02    128469\n",
              "C01     42417\n",
              "Z01     14332\n",
              "        ...  \n",
              "A06         1\n",
              "C07         1\n",
              "A07         1\n",
              "B08         1\n",
              "D56         1\n",
              "Name: num_veh, Length: 132, dtype: int64"
            ]
          },
          "metadata": {},
          "execution_count": 7
        }
      ]
    },
    {
      "cell_type": "code",
      "source": [
        "df['num_veh'].isna().sum()"
      ],
      "metadata": {
        "colab": {
          "base_uri": "https://localhost:8080/"
        },
        "id": "X5-6pMh58XJ_",
        "outputId": "4369baae-3bcd-422a-f817-036bc90ca571"
      },
      "execution_count": 8,
      "outputs": [
        {
          "output_type": "execute_result",
          "data": {
            "text/plain": [
              "0"
            ]
          },
          "metadata": {},
          "execution_count": 8
        }
      ]
    },
    {
      "cell_type": "markdown",
      "source": [
        "## Category\n"
      ],
      "metadata": {
        "id": "M1CHQ7ty1JHN"
      }
    },
    {
      "cell_type": "markdown",
      "source": [
        "Vehicle category:\n",
        "\n",
        "- 01 - Bicycle\n",
        "\n",
        "- 02 - Moped <50cm3\n",
        "\n",
        "- 03 - Carriage (Quadricycle with body motor) (formerly \"motor car or tricycle\")\n",
        "\n",
        "- 04 - Reference no longer used since 2006 (registered scooter)\n",
        "\n",
        "- 05 - Reference no longer used since 2006 (motorcycle)\n",
        "\n",
        "- 06 - Reference no longer used since 2006 (sidecar)\n",
        "\n",
        "- 07 - VL only\n",
        "\n",
        "- 08 - No longer used category (VL + caravan)\n",
        "\n",
        "- 09 - No longer used category (VL + trailer)\n",
        "\n",
        "- 10 - LCV only 1.5T <= GVW <= 3.5T with or without trailer (formerly LCV only 1.5T <= GVW <=3.5T)\n",
        "\n",
        "- 11 - Reference no longer used since 2006 (UV (10) + caravan)\n",
        "\n",
        "- 12 - Reference no longer used since 2006 (UV (10) + trailer)\n",
        "\n",
        "- 13 - PL only 3.5T <PTCA <= 7.5T\n",
        "\n",
        "- 14 - PL only > 7.5T\n",
        "\n",
        "- 15 - PL > 3.5T + trailer\n",
        "\n",
        "- 16 - Road tractor alone\n",
        "\n",
        "- 17 - Road tractor + semi-trailer\n",
        "\n",
        "- 18 - Reference no longer used since 2006 (public transport)\n",
        "\n",
        "- 19 - Reference no longer used since 2006 (tramway)\n",
        "\n",
        "- 20 - Special machine\n",
        "\n",
        "- 21 - Agricultural tractor\n",
        "\n",
        "- 30 - Scooter < 50 cm3\n",
        "\n",
        "- 31 - Motorcycle > 50 cm3 and <= 125 cm3\n",
        "\n",
        "- 32 - Scooter > 50 cm3 and <= 125 cm3\n",
        "\n",
        "- 33 - Motorcycle > 125 cm3\n",
        "\n",
        "- 34 - Scooter > 125 cm3\n",
        "\n",
        "- 35 - Light Quad <= 50 cm3 (Quadricycle with unbodied engine)\n",
        "\n",
        "- 36 - Heavy quad > 50 cm3 (Quadricycle with non-bodied engine)\n",
        "\n",
        "- 37 - Bus\n",
        "\n",
        "- 38 - Coach\n",
        "\n",
        "- 39 - Train\n",
        "\n",
        "- 40 - Tram\n",
        "\n",
        "- 99 - Other vehicle (including pedestrian)"
      ],
      "metadata": {
        "id": "ptkBe-1G39y9"
      }
    },
    {
      "cell_type": "code",
      "source": [
        "df['Category'].value_counts()"
      ],
      "metadata": {
        "colab": {
          "base_uri": "https://localhost:8080/"
        },
        "id": "j1lmFZOh1KgE",
        "outputId": "4c5f5797-2b2a-476c-b76e-4375d5884bbe"
      },
      "execution_count": 9,
      "outputs": [
        {
          "output_type": "execute_result",
          "data": {
            "text/plain": [
              "7     890217\n",
              "33     97185\n",
              "2      79884\n",
              "10     70205\n",
              "30     59918\n",
              "1      58128\n",
              "32     29596\n",
              "31     28038\n",
              "5      21816\n",
              "14     15392\n",
              "34     13436\n",
              "15     11782\n",
              "17     11501\n",
              "37      9071\n",
              "4       7463\n",
              "99      5441\n",
              "13      5295\n",
              "3       5008\n",
              "21      2762\n",
              "38      2524\n",
              "18      2075\n",
              "36      1624\n",
              "40      1555\n",
              "20      1383\n",
              "16       657\n",
              "35       367\n",
              "39       328\n",
              "9        300\n",
              "19       183\n",
              "8        120\n",
              "12        79\n",
              "6         39\n",
              "11        17\n",
              "Name: Category, dtype: int64"
            ]
          },
          "metadata": {},
          "execution_count": 9
        }
      ]
    },
    {
      "cell_type": "code",
      "source": [
        "df['Category'].isna().sum()"
      ],
      "metadata": {
        "colab": {
          "base_uri": "https://localhost:8080/"
        },
        "id": "FNIljAeI1Kw4",
        "outputId": "064c97ac-9bac-4c62-a816-5ace6c94b634"
      },
      "execution_count": 10,
      "outputs": [
        {
          "output_type": "execute_result",
          "data": {
            "text/plain": [
              "0"
            ]
          },
          "metadata": {},
          "execution_count": 10
        }
      ]
    },
    {
      "cell_type": "markdown",
      "source": [
        "## Fix Obstacle"
      ],
      "metadata": {
        "id": "DItp225t4oBk"
      }
    },
    {
      "cell_type": "markdown",
      "source": [
        "Fixed obstacle hit:\n",
        "\n",
        "  1 – Parked vehicle\n",
        "\n",
        "  2 – Tree\n",
        "\n",
        "  3 – Metal slide\n",
        "\n",
        "  4 – Concrete slide\n",
        "\n",
        "  5 – Other slide\n",
        "\n",
        "  6 – Building, wall, bridge pier\n",
        "\n",
        "  7 – Vertical signaling support or emergency call station\n",
        "\n",
        "  8 – Post\n",
        "\n",
        "  9 – Urban furniture\n",
        "\n",
        "  10 – Parapet\n",
        "\n",
        "  11 – Island, refuge, upper boundary\n",
        "\n",
        "  12 – Curbside\n",
        "\n",
        "  13 – Ditch, embankment, rock wall\n",
        "\n",
        "  14 – Other fixed obstacle on the roadway\n",
        "\n",
        "  15 – Other fixed obstacle on sidewalk or shoulder\n",
        "\n",
        "  16 – Exiting the roadway without obstacles\n",
        "  "
      ],
      "metadata": {
        "id": "-0TWWVRo4xul"
      }
    },
    {
      "cell_type": "code",
      "source": [
        "df['Fix Obstacle'].value_counts()"
      ],
      "metadata": {
        "colab": {
          "base_uri": "https://localhost:8080/"
        },
        "id": "EOLUEZ292_1Q",
        "outputId": "2b0881d0-8264-431d-a40b-043f95524ec3"
      },
      "execution_count": 11,
      "outputs": [
        {
          "output_type": "execute_result",
          "data": {
            "text/plain": [
              "0.0     1248215\n",
              "1.0       31072\n",
              "13.0      23630\n",
              "2.0       20263\n",
              "4.0       16098\n",
              "6.0       15635\n",
              "3.0       15585\n",
              "8.0       14809\n",
              "14.0      10407\n",
              "12.0       7989\n",
              "16.0       7808\n",
              "15.0       6497\n",
              "9.0        4498\n",
              "11.0       3487\n",
              "7.0        3006\n",
              "5.0        1933\n",
              "10.0       1695\n",
              "Name: Fix Obstacle, dtype: int64"
            ]
          },
          "metadata": {},
          "execution_count": 11
        }
      ]
    },
    {
      "cell_type": "code",
      "source": [
        "df['Fix Obstacle'].isna().sum()"
      ],
      "metadata": {
        "colab": {
          "base_uri": "https://localhost:8080/"
        },
        "id": "r6zKl3SO799d",
        "outputId": "e94de94a-9270-457b-f885-4f04c79187b1"
      },
      "execution_count": 12,
      "outputs": [
        {
          "output_type": "execute_result",
          "data": {
            "text/plain": [
              "762"
            ]
          },
          "metadata": {},
          "execution_count": 12
        }
      ]
    },
    {
      "cell_type": "code",
      "source": [
        "df['Fix Obstacle'].fillna(0, inplace=True)"
      ],
      "metadata": {
        "id": "uFE1cGjuEFSc"
      },
      "execution_count": 39,
      "outputs": []
    },
    {
      "cell_type": "markdown",
      "source": [
        "## Mobile Obstacle"
      ],
      "metadata": {
        "id": "t-2dY3DC5XW8"
      }
    },
    {
      "cell_type": "markdown",
      "source": [
        "Moving obstacle struck:\n",
        "\n",
        "  1 – Pedestrian\n",
        "\n",
        "  2 – Vehicle\n",
        "\n",
        "  4 – Rail vehicle\n",
        "\n",
        "  5 – Pet\n",
        "\n",
        "  6 – Wild animal\n",
        "\n",
        "9 – Other"
      ],
      "metadata": {
        "id": "dagSssNj5aFG"
      }
    },
    {
      "cell_type": "code",
      "source": [
        "df['Mobile Obstacle'].value_counts()"
      ],
      "metadata": {
        "colab": {
          "base_uri": "https://localhost:8080/"
        },
        "id": "Z_K_jJcG5hmQ",
        "outputId": "23d519d7-99cc-4b83-e498-6713437477e8"
      },
      "execution_count": 14,
      "outputs": [
        {
          "output_type": "execute_result",
          "data": {
            "text/plain": [
              "2.0    949636\n",
              "0.0    312044\n",
              "1.0    146011\n",
              "9.0     20461\n",
              "6.0      1954\n",
              "5.0      1357\n",
              "4.0      1325\n",
              "Name: Mobile Obstacle, dtype: int64"
            ]
          },
          "metadata": {},
          "execution_count": 14
        }
      ]
    },
    {
      "cell_type": "code",
      "source": [
        "df['Mobile Obstacle'].isna().sum()"
      ],
      "metadata": {
        "colab": {
          "base_uri": "https://localhost:8080/"
        },
        "id": "q5AabjQl79j-",
        "outputId": "3c3b5337-d135-48cc-fd59-39e2fa6717fe"
      },
      "execution_count": 15,
      "outputs": [
        {
          "output_type": "execute_result",
          "data": {
            "text/plain": [
              "601"
            ]
          },
          "metadata": {},
          "execution_count": 15
        }
      ]
    },
    {
      "cell_type": "code",
      "source": [
        "df['Mobile Obstacle'].fillna(0, inplace=True)"
      ],
      "metadata": {
        "colab": {
          "base_uri": "https://localhost:8080/"
        },
        "id": "dXc0_MnGEXQq",
        "outputId": "bc25e707-e4bb-4555-de47-cb12522d58ab"
      },
      "execution_count": 16,
      "outputs": [
        {
          "output_type": "execute_result",
          "data": {
            "text/plain": [
              "0          0.0\n",
              "1          0.0\n",
              "2          0.0\n",
              "3          1.0\n",
              "4          0.0\n",
              "          ... \n",
              "1433384    2.0\n",
              "1433385    2.0\n",
              "1433386    2.0\n",
              "1433387    2.0\n",
              "1433388    0.0\n",
              "Name: Mobile Obstacle, Length: 1433389, dtype: float64"
            ]
          },
          "metadata": {},
          "execution_count": 16
        }
      ]
    },
    {
      "cell_type": "markdown",
      "source": [
        "## Shock"
      ],
      "metadata": {
        "id": "s9gO19k251YU"
      }
    },
    {
      "cell_type": "markdown",
      "source": [
        "Initial shock point:\n",
        "\n",
        "  1 - Before\n",
        "\n",
        "  2 – Front right\n",
        "\n",
        "  3 – Front left\n",
        "\n",
        "  4 – Back\n",
        "\n",
        "  5 – Right back\n",
        "\n",
        "  6 – Left rear\n",
        "\n",
        "  7 – Right side\n",
        "\n",
        "  8 – Left side\n",
        "  \n",
        "  9 – Multiple impacts (rollovers)"
      ],
      "metadata": {
        "id": "oKdQcqPD5_a8"
      }
    },
    {
      "cell_type": "code",
      "source": [
        "df['Shock'].value_counts()"
      ],
      "metadata": {
        "colab": {
          "base_uri": "https://localhost:8080/"
        },
        "id": "lVUIvRfU6r7F",
        "outputId": "73c47da2-0899-43fe-c18f-a4c4ccf74242"
      },
      "execution_count": 17,
      "outputs": [
        {
          "output_type": "execute_result",
          "data": {
            "text/plain": [
              "1.0    531553\n",
              "3.0    204636\n",
              "2.0    165642\n",
              "4.0    132518\n",
              "8.0    105565\n",
              "0.0     97717\n",
              "7.0     88074\n",
              "6.0     47388\n",
              "5.0     37260\n",
              "9.0     22807\n",
              "Name: Shock, dtype: int64"
            ]
          },
          "metadata": {},
          "execution_count": 17
        }
      ]
    },
    {
      "cell_type": "code",
      "source": [
        "df['Shock'].isna().sum()"
      ],
      "metadata": {
        "colab": {
          "base_uri": "https://localhost:8080/"
        },
        "id": "s1Sa283K789G",
        "outputId": "ce6448b9-794b-4fca-a3e7-595c0701ab43"
      },
      "execution_count": 18,
      "outputs": [
        {
          "output_type": "execute_result",
          "data": {
            "text/plain": [
              "229"
            ]
          },
          "metadata": {},
          "execution_count": 18
        }
      ]
    },
    {
      "cell_type": "code",
      "source": [
        "df['Shock'].fillna(0, inplace=True)"
      ],
      "metadata": {
        "colab": {
          "base_uri": "https://localhost:8080/"
        },
        "id": "BYET0XJbEmC-",
        "outputId": "3ac35305-5d0a-486f-ece7-d617cd33fce5"
      },
      "execution_count": 19,
      "outputs": [
        {
          "output_type": "execute_result",
          "data": {
            "text/plain": [
              "0          1.0\n",
              "1          7.0\n",
              "2          1.0\n",
              "3          6.0\n",
              "4          1.0\n",
              "          ... \n",
              "1433384    3.0\n",
              "1433385    3.0\n",
              "1433386    1.0\n",
              "1433387    1.0\n",
              "1433388    0.0\n",
              "Name: Shock, Length: 1433389, dtype: float64"
            ]
          },
          "metadata": {},
          "execution_count": 19
        }
      ]
    },
    {
      "cell_type": "markdown",
      "source": [
        "## Maneuver"
      ],
      "metadata": {
        "id": "fzh92VIX7IV_"
      }
    },
    {
      "cell_type": "markdown",
      "source": [
        "Main maneuver before the accident:\n",
        "\n",
        "-  1 – Without change of direction\n",
        "\n",
        "-   2 – Same direction, same line\n",
        "\n",
        "-   3 – Between 2 lines\n",
        "\n",
        "-   4 – In reverse\n",
        "\n",
        "-   5 – Against the grain\n",
        "\n",
        "-   6 – Crossing the central reservation\n",
        "\n",
        "-   7 – In the bus lane, in the same direction\n",
        "\n",
        "-   8 – In the bus lane, in the opposite direction\n",
        "\n",
        "-   9 – By inserting yourself\n",
        "\n",
        "-   10 – When making a U-turn on the road\n",
        "\n",
        "Changing lanes\n",
        "\n",
        "- 11 – Left\n",
        "\n",
        "- 12 – Right\n",
        "\n",
        "Deported\n",
        "\n",
        "- 13 – Left\n",
        "\n",
        "- 14 – Right\n",
        "\n",
        "- Turning point\n",
        "\n",
        "- 15 – Left\n",
        "\n",
        "- 16 – Right\n",
        "\n",
        "Exceeding\n",
        "\n",
        "- 17 – Left\n",
        "\n",
        "- 18 – Right\n",
        "\n",
        "Miscellaneous\n",
        "\n",
        "- 19 – Crossing the road\n",
        "\n",
        "- 20 – Parking maneuver\n",
        "\n",
        "- 21 – Avoidance maneuver\n",
        "\n",
        "- 22 – Door opening\n",
        "\n",
        "- 23 – Stopped (excluding parking)\n",
        "\n",
        "- 24 – Parked (with occupants)"
      ],
      "metadata": {
        "id": "KhnYieCM7JpF"
      }
    },
    {
      "cell_type": "code",
      "source": [
        "df['Maneuver'].value_counts()"
      ],
      "metadata": {
        "colab": {
          "base_uri": "https://localhost:8080/"
        },
        "id": "YVUJZzYu7qzs",
        "outputId": "38dbbbb1-5961-44b6-c705-6cbc3071a374"
      },
      "execution_count": 20,
      "outputs": [
        {
          "output_type": "execute_result",
          "data": {
            "text/plain": [
              "1.0     631200\n",
              "2.0     163463\n",
              "15.0    127031\n",
              "0.0     118546\n",
              "13.0     59922\n",
              "17.0     48701\n",
              "23.0     37726\n",
              "16.0     32035\n",
              "9.0      31288\n",
              "19.0     27750\n",
              "14.0     22580\n",
              "21.0     22064\n",
              "11.0     15165\n",
              "5.0      14740\n",
              "10.0     13782\n",
              "12.0     12765\n",
              "4.0      12749\n",
              "3.0       9673\n",
              "18.0      6984\n",
              "20.0      6674\n",
              "7.0       5160\n",
              "24.0      5048\n",
              "22.0      4207\n",
              "6.0       3097\n",
              "8.0        733\n",
              "Name: Maneuver, dtype: int64"
            ]
          },
          "metadata": {},
          "execution_count": 20
        }
      ]
    },
    {
      "cell_type": "code",
      "source": [
        "df['Maneuver'].isna().sum()"
      ],
      "metadata": {
        "colab": {
          "base_uri": "https://localhost:8080/"
        },
        "id": "4_WrSTPS78bV",
        "outputId": "07c99a2d-f31e-421f-f772-31bb60884868"
      },
      "execution_count": 21,
      "outputs": [
        {
          "output_type": "execute_result",
          "data": {
            "text/plain": [
              "306"
            ]
          },
          "metadata": {},
          "execution_count": 21
        }
      ]
    },
    {
      "cell_type": "code",
      "source": [
        "df['Maneuver'].fillna(1, inplace=True)"
      ],
      "metadata": {
        "colab": {
          "base_uri": "https://localhost:8080/"
        },
        "id": "DWe2jRlDEvS6",
        "outputId": "af3b0197-827f-481f-8bd9-a982b81ef952"
      },
      "execution_count": 22,
      "outputs": [
        {
          "output_type": "execute_result",
          "data": {
            "text/plain": [
              "0           1.0\n",
              "1          15.0\n",
              "2           1.0\n",
              "3           1.0\n",
              "4           1.0\n",
              "           ... \n",
              "1433384     1.0\n",
              "1433385    19.0\n",
              "1433386    17.0\n",
              "1433387     1.0\n",
              "1433388     1.0\n",
              "Name: Maneuver, Length: 1433389, dtype: float64"
            ]
          },
          "metadata": {},
          "execution_count": 22
        }
      ]
    },
    {
      "cell_type": "markdown",
      "source": [
        "## Occupants"
      ],
      "metadata": {
        "id": "CYlmf_pT74UB"
      }
    },
    {
      "cell_type": "markdown",
      "source": [
        "Number of occupants on public transport"
      ],
      "metadata": {
        "id": "pkSqfSLn76Pt"
      }
    },
    {
      "cell_type": "code",
      "source": [
        "df['Occupants'].value_counts()"
      ],
      "metadata": {
        "colab": {
          "base_uri": "https://localhost:8080/"
        },
        "id": "7LyeAGHD77i_",
        "outputId": "4e7f4e6f-c0fd-4ee6-aa9a-aebc720038b1"
      },
      "execution_count": 23,
      "outputs": [
        {
          "output_type": "execute_result",
          "data": {
            "text/plain": [
              "0      1423666\n",
              "1         4770\n",
              "2          696\n",
              "10         554\n",
              "3          359\n",
              "        ...   \n",
              "184          1\n",
              "153          1\n",
              "240          1\n",
              "125          1\n",
              "470          1\n",
              "Name: Occupants, Length: 114, dtype: int64"
            ]
          },
          "metadata": {},
          "execution_count": 23
        }
      ]
    },
    {
      "cell_type": "code",
      "source": [
        "df['Occupants'].isna().sum()"
      ],
      "metadata": {
        "colab": {
          "base_uri": "https://localhost:8080/"
        },
        "id": "d-1FLuxF773Q",
        "outputId": "85cf9fea-4309-466e-9ae9-ada308765e39"
      },
      "execution_count": 24,
      "outputs": [
        {
          "output_type": "execute_result",
          "data": {
            "text/plain": [
              "0"
            ]
          },
          "metadata": {},
          "execution_count": 24
        }
      ]
    },
    {
      "cell_type": "markdown",
      "source": [
        "## Flow direction"
      ],
      "metadata": {
        "id": "p6beEvyG8OUV"
      }
    },
    {
      "cell_type": "markdown",
      "source": [
        "Flow direction :\n",
        "\n",
        "  1 – PK or PR or ascending postal address number\n",
        "\n",
        "  2 – PK or PR or decreasing postal address number\n",
        "  "
      ],
      "metadata": {
        "id": "wm7PJmA28PXl"
      }
    },
    {
      "cell_type": "code",
      "source": [
        "df['Flow direction'].value_counts()"
      ],
      "metadata": {
        "colab": {
          "base_uri": "https://localhost:8080/"
        },
        "id": "cJ6RWBcb8Sip",
        "outputId": "392aeaec-e1e4-401e-cf31-f06cd3133843"
      },
      "execution_count": 25,
      "outputs": [
        {
          "output_type": "execute_result",
          "data": {
            "text/plain": [
              "0.0    1322803\n",
              "1.0      74935\n",
              "2.0      35579\n",
              "Name: Flow direction, dtype: int64"
            ]
          },
          "metadata": {},
          "execution_count": 25
        }
      ]
    },
    {
      "cell_type": "code",
      "source": [
        "df['Flow direction'].isna().sum()"
      ],
      "metadata": {
        "colab": {
          "base_uri": "https://localhost:8080/"
        },
        "id": "KjpSsDCI8S0t",
        "outputId": "5b96bd7a-f092-48f9-bbf2-912328672f70"
      },
      "execution_count": 26,
      "outputs": [
        {
          "output_type": "execute_result",
          "data": {
            "text/plain": [
              "72"
            ]
          },
          "metadata": {},
          "execution_count": 26
        }
      ]
    },
    {
      "cell_type": "code",
      "source": [
        "df.drop('Flow direction', axis=1, inplace=True)"
      ],
      "metadata": {
        "id": "oMPRO36fE9qE"
      },
      "execution_count": 27,
      "outputs": []
    },
    {
      "cell_type": "markdown",
      "source": [
        "# Result"
      ],
      "metadata": {
        "id": "tyK9ZOXN2w7i"
      }
    },
    {
      "cell_type": "code",
      "source": [
        "df.columns"
      ],
      "metadata": {
        "colab": {
          "base_uri": "https://localhost:8080/"
        },
        "id": "N0Yb5kbH3Agf",
        "outputId": "10a4b2a0-371a-4687-a71b-959b2e961126"
      },
      "execution_count": 28,
      "outputs": [
        {
          "output_type": "execute_result",
          "data": {
            "text/plain": [
              "Index(['Num_Acc', 'Category', 'Occupants', 'Fix Obstacle', 'Mobile Obstacle',\n",
              "       'Shock', 'Maneuver', 'num_veh'],\n",
              "      dtype='object')"
            ]
          },
          "metadata": {},
          "execution_count": 28
        }
      ]
    },
    {
      "cell_type": "code",
      "source": [
        "df.to_csv('data/vehicles_prepped.csv', index=False)"
      ],
      "metadata": {
        "id": "t4gvoFQ12zEM"
      },
      "execution_count": 29,
      "outputs": []
    },
    {
      "cell_type": "markdown",
      "source": [
        "### Correlation"
      ],
      "metadata": {
        "id": "Bh0M2KWx_tig"
      }
    },
    {
      "cell_type": "code",
      "source": [
        "cols = list(df.columns)\n",
        "cols.remove(\"Num_Acc\")\n",
        "cols.remove(\"num_veh\")"
      ],
      "metadata": {
        "id": "lSyLKoPm_wfP"
      },
      "execution_count": 30,
      "outputs": []
    },
    {
      "cell_type": "code",
      "source": [
        "corr = df[cols].corr(method=cramersv, numeric_only=False)\n",
        "sns.heatmap(corr, square=True, annot=True)"
      ],
      "metadata": {
        "colab": {
          "base_uri": "https://localhost:8080/",
          "height": 549
        },
        "id": "l3dexvUCAFz-",
        "outputId": "d5b02c25-b505-4bc7-ef3b-823ca3b414cf"
      },
      "execution_count": 36,
      "outputs": [
        {
          "output_type": "execute_result",
          "data": {
            "text/plain": [
              "<Axes: >"
            ]
          },
          "metadata": {},
          "execution_count": 36
        },
        {
          "output_type": "display_data",
          "data": {
            "text/plain": [
              "<Figure size 640x480 with 2 Axes>"
            ],
            "image/png": "[encoded data removed]"
          },
          "metadata": {}
        }
      ]
    },
    {
      "cell_type": "markdown",
      "source": [
        "# Notes"
      ],
      "metadata": {
        "id": "43X40H9t8j_m"
      }
    },
    {
      "cell_type": "markdown",
      "source": [
        "Bad news\n",
        "\n",
        "- **Flow direction:** should be thrown out. 92% of this data is null, and not sure what we can use it for in the first place\n",
        "\n",
        "General\n",
        "\n",
        "- Occupants: 99% zero, because only filled out when a public transport is involved (have to be checked if this few public transport accidents are, or if they just don't fill it in)\n",
        "\n",
        "Question\n",
        "\n",
        "- Mobile Obstacle: There is an \"9 - other\" code and a lot of invalid \"0\" codes. Should we fill the 0-s with 9-s?"
      ],
      "metadata": {
        "id": "XuKNlXcm9U65"
      }
    },
    {
      "cell_type": "code",
      "source": [
        "1322803/1433389"
      ],
      "metadata": {
        "colab": {
          "base_uri": "https://localhost:8080/"
        },
        "id": "gGgKtbEk9daF",
        "outputId": "59b60f37-b970-429a-b695-1004507b8f93"
      },
      "execution_count": null,
      "outputs": [
        {
          "output_type": "execute_result",
          "data": {
            "text/plain": [
              "0.922849973035931"
            ]
          },
          "metadata": {},
          "execution_count": 28
        }
      ]
    },
    {
      "cell_type": "code",
      "source": [
        "1423666/1433389"
      ],
      "metadata": {
        "colab": {
          "base_uri": "https://localhost:8080/"
        },
        "id": "_jL-l6AU9g93",
        "outputId": "d98db284-71cb-49d2-cc7d-bd63d954365b"
      },
      "execution_count": null,
      "outputs": [
        {
          "output_type": "execute_result",
          "data": {
            "text/plain": [
              "0.9932167750694334"
            ]
          },
          "metadata": {},
          "execution_count": 29
        }
      ]
    },
    {
      "cell_type": "code",
      "source": [],
      "metadata": {
        "id": "x7uMllGH918n"
      },
      "execution_count": null,
      "outputs": []
    }
  ]
}