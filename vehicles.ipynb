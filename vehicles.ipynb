{
  "nbformat": 4,
  "nbformat_minor": 0,
  "metadata": {
    "colab": {
      "provenance": []
    },
    "kernelspec": {
      "name": "python3",
      "display_name": "Python 3"
    },
    "language_info": {
      "name": "python"
    }
  },
  "cells": [
    {
      "cell_type": "markdown",
      "source": [
        "# Vehicles"
      ],
      "metadata": {
        "id": "XmK74ilK0E6f"
      }
    },
    {
      "cell_type": "code",
      "source": [
        "import pandas as pd\n",
        "from sklearn.metrics.cluster import contingency_matrix\n",
        "from scipy.stats.contingency import association\n",
        "import seaborn as sns"
      ],
      "metadata": {
        "id": "9CS48WB-0bLk"
      },
      "execution_count": 54,
      "outputs": []
    },
    {
      "cell_type": "code",
      "source": [
        "# For visualisation\n",
        "def cramersv(a, b):\n",
        "    return association(contingency_matrix(a, b))"
      ],
      "metadata": {
        "id": "SiG5H_3xBPY-"
      },
      "execution_count": 55,
      "outputs": []
    },
    {
      "cell_type": "code",
      "execution_count": 56,
      "metadata": {
        "id": "ygLOC5cbz8W4"
      },
      "outputs": [],
      "source": [
        "df = pd.read_csv('data/vehicles.csv', encoding='latin1')"
      ]
    },
    {
      "cell_type": "code",
      "source": [
        "def fill_with_most_common(df, column_name):\n",
        "  most_common_value = df[column_name].mode()[0]\n",
        "  df[column_name].fillna(most_common_value, inplace=True)"
      ],
      "metadata": {
        "id": "tRpYhPiEELJj"
      },
      "execution_count": 57,
      "outputs": []
    },
    {
      "cell_type": "code",
      "source": [
        "df.head()"
      ],
      "metadata": {
        "colab": {
          "base_uri": "https://localhost:8080/",
          "height": 206
        },
        "id": "HSuUX2ZF0gjN",
        "outputId": "08d648dd-2ebb-4a42-bb33-198b2055308c"
      },
      "execution_count": 58,
      "outputs": [
        {
          "output_type": "execute_result",
          "data": {
            "text/plain": [
              "        Num_Acc  senc  catv  occutc  obs  obsm  choc  manv num_veh\n",
              "0  201600000001   0.0     7       0  0.0   0.0   1.0   1.0     B02\n",
              "1  201600000001   0.0     2       0  0.0   0.0   7.0  15.0     A01\n",
              "2  201600000002   0.0     7       0  6.0   0.0   1.0   1.0     A01\n",
              "3  201600000003   0.0     7       0  0.0   1.0   6.0   1.0     A01\n",
              "4  201600000004   0.0    32       0  0.0   0.0   1.0   1.0     B02"
            ],
            "text/html": [
              "\n",
              "  <div id=\"df-c7b2de68-5771-4970-b2b8-d096e9bdbc1f\" class=\"colab-df-container\">\n",
              "    <div>\n",
              "<style scoped>\n",
              "    .dataframe tbody tr th:only-of-type {\n",
              "        vertical-align: middle;\n",
              "    }\n",
              "\n",
              "    .dataframe tbody tr th {\n",
              "        vertical-align: top;\n",
              "    }\n",
              "\n",
              "    .dataframe thead th {\n",
              "        text-align: right;\n",
              "    }\n",
              "</style>\n",
              "<table border=\"1\" class=\"dataframe\">\n",
              "  <thead>\n",
              "    <tr style=\"text-align: right;\">\n",
              "      <th></th>\n",
              "      <th>Num_Acc</th>\n",
              "      <th>senc</th>\n",
              "      <th>catv</th>\n",
              "      <th>occutc</th>\n",
              "      <th>obs</th>\n",
              "      <th>obsm</th>\n",
              "      <th>choc</th>\n",
              "      <th>manv</th>\n",
              "      <th>num_veh</th>\n",
              "    </tr>\n",
              "  </thead>\n",
              "  <tbody>\n",
              "    <tr>\n",
              "      <th>0</th>\n",
              "      <td>201600000001</td>\n",
              "      <td>0.0</td>\n",
              "      <td>7</td>\n",
              "      <td>0</td>\n",
              "      <td>0.0</td>\n",
              "      <td>0.0</td>\n",
              "      <td>1.0</td>\n",
              "      <td>1.0</td>\n",
              "      <td>B02</td>\n",
              "    </tr>\n",
              "    <tr>\n",
              "      <th>1</th>\n",
              "      <td>201600000001</td>\n",
              "      <td>0.0</td>\n",
              "      <td>2</td>\n",
              "      <td>0</td>\n",
              "      <td>0.0</td>\n",
              "      <td>0.0</td>\n",
              "      <td>7.0</td>\n",
              "      <td>15.0</td>\n",
              "      <td>A01</td>\n",
              "    </tr>\n",
              "    <tr>\n",
              "      <th>2</th>\n",
              "      <td>201600000002</td>\n",
              "      <td>0.0</td>\n",
              "      <td>7</td>\n",
              "      <td>0</td>\n",
              "      <td>6.0</td>\n",
              "      <td>0.0</td>\n",
              "      <td>1.0</td>\n",
              "      <td>1.0</td>\n",
              "      <td>A01</td>\n",
              "    </tr>\n",
              "    <tr>\n",
              "      <th>3</th>\n",
              "      <td>201600000003</td>\n",
              "      <td>0.0</td>\n",
              "      <td>7</td>\n",
              "      <td>0</td>\n",
              "      <td>0.0</td>\n",
              "      <td>1.0</td>\n",
              "      <td>6.0</td>\n",
              "      <td>1.0</td>\n",
              "      <td>A01</td>\n",
              "    </tr>\n",
              "    <tr>\n",
              "      <th>4</th>\n",
              "      <td>201600000004</td>\n",
              "      <td>0.0</td>\n",
              "      <td>32</td>\n",
              "      <td>0</td>\n",
              "      <td>0.0</td>\n",
              "      <td>0.0</td>\n",
              "      <td>1.0</td>\n",
              "      <td>1.0</td>\n",
              "      <td>B02</td>\n",
              "    </tr>\n",
              "  </tbody>\n",
              "</table>\n",
              "</div>\n",
              "    <div class=\"colab-df-buttons\">\n",
              "\n",
              "  <div class=\"colab-df-container\">\n",
              "    <button class=\"colab-df-convert\" onclick=\"convertToInteractive('df-c7b2de68-5771-4970-b2b8-d096e9bdbc1f')\"\n",
              "            title=\"Convert this dataframe to an interactive table.\"\n",
              "            style=\"display:none;\">\n",
              "\n",
              "  <svg xmlns=\"http://www.w3.org/2000/svg\" height=\"24px\" viewBox=\"0 -960 960 960\">\n",
              "    <path d=\"M120-120v-720h720v720H120Zm60-500h600v-160H180v160Zm220 220h160v-160H400v160Zm0 220h160v-160H400v160ZM180-400h160v-160H180v160Zm440 0h160v-160H620v160ZM180-180h160v-160H180v160Zm440 0h160v-160H620v160Z\"/>\n",
              "  </svg>\n",
              "    </button>\n",
              "\n",
              "  <style>\n",
              "    .colab-df-container {\n",
              "      display:flex;\n",
              "      gap: 12px;\n",
              "    }\n",
              "\n",
              "    .colab-df-convert {\n",
              "      background-color: #E8F0FE;\n",
              "      border: none;\n",
              "      border-radius: 50%;\n",
              "      cursor: pointer;\n",
              "      display: none;\n",
              "      fill: #1967D2;\n",
              "      height: 32px;\n",
              "      padding: 0 0 0 0;\n",
              "      width: 32px;\n",
              "    }\n",
              "\n",
              "    .colab-df-convert:hover {\n",
              "      background-color: #E2EBFA;\n",
              "      box-shadow: 0px 1px 2px rgba(60, 64, 67, 0.3), 0px 1px 3px 1px rgba(60, 64, 67, 0.15);\n",
              "      fill: #174EA6;\n",
              "    }\n",
              "\n",
              "    .colab-df-buttons div {\n",
              "      margin-bottom: 4px;\n",
              "    }\n",
              "\n",
              "    [theme=dark] .colab-df-convert {\n",
              "      background-color: #3B4455;\n",
              "      fill: #D2E3FC;\n",
              "    }\n",
              "\n",
              "    [theme=dark] .colab-df-convert:hover {\n",
              "      background-color: #434B5C;\n",
              "      box-shadow: 0px 1px 3px 1px rgba(0, 0, 0, 0.15);\n",
              "      filter: drop-shadow(0px 1px 2px rgba(0, 0, 0, 0.3));\n",
              "      fill: #FFFFFF;\n",
              "    }\n",
              "  </style>\n",
              "\n",
              "    <script>\n",
              "      const buttonEl =\n",
              "        document.querySelector('#df-c7b2de68-5771-4970-b2b8-d096e9bdbc1f button.colab-df-convert');\n",
              "      buttonEl.style.display =\n",
              "        google.colab.kernel.accessAllowed ? 'block' : 'none';\n",
              "\n",
              "      async function convertToInteractive(key) {\n",
              "        const element = document.querySelector('#df-c7b2de68-5771-4970-b2b8-d096e9bdbc1f');\n",
              "        const dataTable =\n",
              "          await google.colab.kernel.invokeFunction('convertToInteractive',\n",
              "                                                    [key], {});\n",
              "        if (!dataTable) return;\n",
              "\n",
              "        const docLinkHtml = 'Like what you see? Visit the ' +\n",
              "          '<a target=\"_blank\" href=https://colab.research.google.com/notebooks/data_table.ipynb>data table notebook</a>'\n",
              "          + ' to learn more about interactive tables.';\n",
              "        element.innerHTML = '';\n",
              "        dataTable['output_type'] = 'display_data';\n",
              "        await google.colab.output.renderOutput(dataTable, element);\n",
              "        const docLink = document.createElement('div');\n",
              "        docLink.innerHTML = docLinkHtml;\n",
              "        element.appendChild(docLink);\n",
              "      }\n",
              "    </script>\n",
              "  </div>\n",
              "\n",
              "\n",
              "<div id=\"df-78e04a84-fbc2-425d-8b70-f54b244db8dc\">\n",
              "  <button class=\"colab-df-quickchart\" onclick=\"quickchart('df-78e04a84-fbc2-425d-8b70-f54b244db8dc')\"\n",
              "            title=\"Suggest charts\"\n",
              "            style=\"display:none;\">\n",
              "\n",
              "<svg xmlns=\"http://www.w3.org/2000/svg\" height=\"24px\"viewBox=\"0 0 24 24\"\n",
              "     width=\"24px\">\n",
              "    <g>\n",
              "        <path d=\"M19 3H5c-1.1 0-2 .9-2 2v14c0 1.1.9 2 2 2h14c1.1 0 2-.9 2-2V5c0-1.1-.9-2-2-2zM9 17H7v-7h2v7zm4 0h-2V7h2v10zm4 0h-2v-4h2v4z\"/>\n",
              "    </g>\n",
              "</svg>\n",
              "  </button>\n",
              "\n",
              "<style>\n",
              "  .colab-df-quickchart {\n",
              "      --bg-color: #E8F0FE;\n",
              "      --fill-color: #1967D2;\n",
              "      --hover-bg-color: #E2EBFA;\n",
              "      --hover-fill-color: #174EA6;\n",
              "      --disabled-fill-color: #AAA;\n",
              "      --disabled-bg-color: #DDD;\n",
              "  }\n",
              "\n",
              "  [theme=dark] .colab-df-quickchart {\n",
              "      --bg-color: #3B4455;\n",
              "      --fill-color: #D2E3FC;\n",
              "      --hover-bg-color: #434B5C;\n",
              "      --hover-fill-color: #FFFFFF;\n",
              "      --disabled-bg-color: #3B4455;\n",
              "      --disabled-fill-color: #666;\n",
              "  }\n",
              "\n",
              "  .colab-df-quickchart {\n",
              "    background-color: var(--bg-color);\n",
              "    border: none;\n",
              "    border-radius: 50%;\n",
              "    cursor: pointer;\n",
              "    display: none;\n",
              "    fill: var(--fill-color);\n",
              "    height: 32px;\n",
              "    padding: 0;\n",
              "    width: 32px;\n",
              "  }\n",
              "\n",
              "  .colab-df-quickchart:hover {\n",
              "    background-color: var(--hover-bg-color);\n",
              "    box-shadow: 0 1px 2px rgba(60, 64, 67, 0.3), 0 1px 3px 1px rgba(60, 64, 67, 0.15);\n",
              "    fill: var(--button-hover-fill-color);\n",
              "  }\n",
              "\n",
              "  .colab-df-quickchart-complete:disabled,\n",
              "  .colab-df-quickchart-complete:disabled:hover {\n",
              "    background-color: var(--disabled-bg-color);\n",
              "    fill: var(--disabled-fill-color);\n",
              "    box-shadow: none;\n",
              "  }\n",
              "\n",
              "  .colab-df-spinner {\n",
              "    border: 2px solid var(--fill-color);\n",
              "    border-color: transparent;\n",
              "    border-bottom-color: var(--fill-color);\n",
              "    animation:\n",
              "      spin 1s steps(1) infinite;\n",
              "  }\n",
              "\n",
              "  @keyframes spin {\n",
              "    0% {\n",
              "      border-color: transparent;\n",
              "      border-bottom-color: var(--fill-color);\n",
              "      border-left-color: var(--fill-color);\n",
              "    }\n",
              "    20% {\n",
              "      border-color: transparent;\n",
              "      border-left-color: var(--fill-color);\n",
              "      border-top-color: var(--fill-color);\n",
              "    }\n",
              "    30% {\n",
              "      border-color: transparent;\n",
              "      border-left-color: var(--fill-color);\n",
              "      border-top-color: var(--fill-color);\n",
              "      border-right-color: var(--fill-color);\n",
              "    }\n",
              "    40% {\n",
              "      border-color: transparent;\n",
              "      border-right-color: var(--fill-color);\n",
              "      border-top-color: var(--fill-color);\n",
              "    }\n",
              "    60% {\n",
              "      border-color: transparent;\n",
              "      border-right-color: var(--fill-color);\n",
              "    }\n",
              "    80% {\n",
              "      border-color: transparent;\n",
              "      border-right-color: var(--fill-color);\n",
              "      border-bottom-color: var(--fill-color);\n",
              "    }\n",
              "    90% {\n",
              "      border-color: transparent;\n",
              "      border-bottom-color: var(--fill-color);\n",
              "    }\n",
              "  }\n",
              "</style>\n",
              "\n",
              "  <script>\n",
              "    async function quickchart(key) {\n",
              "      const quickchartButtonEl =\n",
              "        document.querySelector('#' + key + ' button');\n",
              "      quickchartButtonEl.disabled = true;  // To prevent multiple clicks.\n",
              "      quickchartButtonEl.classList.add('colab-df-spinner');\n",
              "      try {\n",
              "        const charts = await google.colab.kernel.invokeFunction(\n",
              "            'suggestCharts', [key], {});\n",
              "      } catch (error) {\n",
              "        console.error('Error during call to suggestCharts:', error);\n",
              "      }\n",
              "      quickchartButtonEl.classList.remove('colab-df-spinner');\n",
              "      quickchartButtonEl.classList.add('colab-df-quickchart-complete');\n",
              "    }\n",
              "    (() => {\n",
              "      let quickchartButtonEl =\n",
              "        document.querySelector('#df-78e04a84-fbc2-425d-8b70-f54b244db8dc button');\n",
              "      quickchartButtonEl.style.display =\n",
              "        google.colab.kernel.accessAllowed ? 'block' : 'none';\n",
              "    })();\n",
              "  </script>\n",
              "</div>\n",
              "    </div>\n",
              "  </div>\n"
            ],
            "application/vnd.google.colaboratory.intrinsic+json": {
              "type": "dataframe",
              "variable_name": "df"
            }
          },
          "metadata": {},
          "execution_count": 58
        }
      ]
    },
    {
      "cell_type": "code",
      "source": [
        "df.info()"
      ],
      "metadata": {
        "colab": {
          "base_uri": "https://localhost:8080/"
        },
        "id": "SQN1UFrk9PUl",
        "outputId": "2d5df8f3-8d30-48dc-dbac-942c1d3754dc"
      },
      "execution_count": 59,
      "outputs": [
        {
          "output_type": "stream",
          "name": "stdout",
          "text": [
            "<class 'pandas.core.frame.DataFrame'>\n",
            "RangeIndex: 1433389 entries, 0 to 1433388\n",
            "Data columns (total 9 columns):\n",
            " #   Column   Non-Null Count    Dtype  \n",
            "---  ------   --------------    -----  \n",
            " 0   Num_Acc  1433389 non-null  int64  \n",
            " 1   senc     1433317 non-null  float64\n",
            " 2   catv     1433389 non-null  int64  \n",
            " 3   occutc   1433389 non-null  int64  \n",
            " 4   obs      1432627 non-null  float64\n",
            " 5   obsm     1432788 non-null  float64\n",
            " 6   choc     1433160 non-null  float64\n",
            " 7   manv     1433083 non-null  float64\n",
            " 8   num_veh  1433389 non-null  object \n",
            "dtypes: float64(5), int64(3), object(1)\n",
            "memory usage: 98.4+ MB\n"
          ]
        }
      ]
    },
    {
      "cell_type": "code",
      "source": [
        "df.rename(columns={'senc': 'Flow direction','catv': 'Category', 'obs': 'Fix Obstacle', 'obsm': 'Mobile Obstacle', 'choc': 'Shock', 'manv': 'Maneuver', 'occutc': 'Occupants'}, inplace=True)"
      ],
      "metadata": {
        "id": "dNudaIkr0g0N"
      },
      "execution_count": 60,
      "outputs": []
    },
    {
      "cell_type": "markdown",
      "source": [
        "## Num_veh"
      ],
      "metadata": {
        "id": "fQCDZ7nt8U7Q"
      }
    },
    {
      "cell_type": "markdown",
      "source": [
        "Vehicle identifier included for each user occupying this vehicle (including pedestrians who are attached to the vehicles which struck them) – Alphanumeric code"
      ],
      "metadata": {
        "id": "bu86Snbk8XX-"
      }
    },
    {
      "cell_type": "code",
      "source": [
        "df['num_veh'].value_counts()"
      ],
      "metadata": {
        "colab": {
          "base_uri": "https://localhost:8080/"
        },
        "id": "ax172rEW8WxP",
        "outputId": "bd282ddc-e0cc-4498-d0dd-2d8132b30611"
      },
      "execution_count": 61,
      "outputs": [
        {
          "output_type": "execute_result",
          "data": {
            "text/plain": [
              "num_veh\n",
              "A01    829287\n",
              "B01    387462\n",
              "B02    128469\n",
              "C01     42417\n",
              "Z01     14332\n",
              "        ...  \n",
              "A06         1\n",
              "C07         1\n",
              "A07         1\n",
              "B08         1\n",
              "D56         1\n",
              "Name: count, Length: 132, dtype: int64"
            ]
          },
          "metadata": {},
          "execution_count": 61
        }
      ]
    },
    {
      "cell_type": "code",
      "source": [
        "df['num_veh'].isna().sum()"
      ],
      "metadata": {
        "colab": {
          "base_uri": "https://localhost:8080/"
        },
        "id": "X5-6pMh58XJ_",
        "outputId": "5470f5e3-32fa-4b50-c5e1-f8e0957a0976"
      },
      "execution_count": 62,
      "outputs": [
        {
          "output_type": "execute_result",
          "data": {
            "text/plain": [
              "0"
            ]
          },
          "metadata": {},
          "execution_count": 62
        }
      ]
    },
    {
      "cell_type": "markdown",
      "source": [
        "## Category\n"
      ],
      "metadata": {
        "id": "M1CHQ7ty1JHN"
      }
    },
    {
      "cell_type": "markdown",
      "source": [
        "Vehicle category:\n",
        "\n",
        "- 01 - Bicycle\n",
        "\n",
        "- 02 - Moped <50cm3\n",
        "\n",
        "- 03 - Carriage (Quadricycle with body motor) (formerly \"motor car or tricycle\")\n",
        "\n",
        "- 04 - Reference no longer used since 2006 (registered scooter)\n",
        "\n",
        "- 05 - Reference no longer used since 2006 (motorcycle)\n",
        "\n",
        "- 06 - Reference no longer used since 2006 (sidecar)\n",
        "\n",
        "- 07 - VL only\n",
        "\n",
        "- 08 - No longer used category (VL + caravan)\n",
        "\n",
        "- 09 - No longer used category (VL + trailer)\n",
        "\n",
        "- 10 - LCV only 1.5T <= GVW <= 3.5T with or without trailer (formerly LCV only 1.5T <= GVW <=3.5T)\n",
        "\n",
        "- 11 - Reference no longer used since 2006 (UV (10) + caravan)\n",
        "\n",
        "- 12 - Reference no longer used since 2006 (UV (10) + trailer)\n",
        "\n",
        "- 13 - PL only 3.5T <PTCA <= 7.5T\n",
        "\n",
        "- 14 - PL only > 7.5T\n",
        "\n",
        "- 15 - PL > 3.5T + trailer\n",
        "\n",
        "- 16 - Road tractor alone\n",
        "\n",
        "- 17 - Road tractor + semi-trailer\n",
        "\n",
        "- 18 - Reference no longer used since 2006 (public transport)\n",
        "\n",
        "- 19 - Reference no longer used since 2006 (tramway)\n",
        "\n",
        "- 20 - Special machine\n",
        "\n",
        "- 21 - Agricultural tractor\n",
        "\n",
        "- 30 - Scooter < 50 cm3\n",
        "\n",
        "- 31 - Motorcycle > 50 cm3 and <= 125 cm3\n",
        "\n",
        "- 32 - Scooter > 50 cm3 and <= 125 cm3\n",
        "\n",
        "- 33 - Motorcycle > 125 cm3\n",
        "\n",
        "- 34 - Scooter > 125 cm3\n",
        "\n",
        "- 35 - Light Quad <= 50 cm3 (Quadricycle with unbodied engine)\n",
        "\n",
        "- 36 - Heavy quad > 50 cm3 (Quadricycle with non-bodied engine)\n",
        "\n",
        "- 37 - Bus\n",
        "\n",
        "- 38 - Coach\n",
        "\n",
        "- 39 - Train\n",
        "\n",
        "- 40 - Tram\n",
        "\n",
        "- 99 - Other vehicle (including pedestrian)"
      ],
      "metadata": {
        "id": "ptkBe-1G39y9"
      }
    },
    {
      "cell_type": "code",
      "source": [
        "df['Category'].value_counts()"
      ],
      "metadata": {
        "colab": {
          "base_uri": "https://localhost:8080/"
        },
        "id": "j1lmFZOh1KgE",
        "outputId": "7ddeda90-896b-4906-e0e8-8a2fa7be6a37"
      },
      "execution_count": 63,
      "outputs": [
        {
          "output_type": "execute_result",
          "data": {
            "text/plain": [
              "Category\n",
              "7     890217\n",
              "33     97185\n",
              "2      79884\n",
              "10     70205\n",
              "30     59918\n",
              "1      58128\n",
              "32     29596\n",
              "31     28038\n",
              "5      21816\n",
              "14     15392\n",
              "34     13436\n",
              "15     11782\n",
              "17     11501\n",
              "37      9071\n",
              "4       7463\n",
              "99      5441\n",
              "13      5295\n",
              "3       5008\n",
              "21      2762\n",
              "38      2524\n",
              "18      2075\n",
              "36      1624\n",
              "40      1555\n",
              "20      1383\n",
              "16       657\n",
              "35       367\n",
              "39       328\n",
              "9        300\n",
              "19       183\n",
              "8        120\n",
              "12        79\n",
              "6         39\n",
              "11        17\n",
              "Name: count, dtype: int64"
            ]
          },
          "metadata": {},
          "execution_count": 63
        }
      ]
    },
    {
      "cell_type": "code",
      "source": [
        "df['Category'].isna().sum()"
      ],
      "metadata": {
        "colab": {
          "base_uri": "https://localhost:8080/"
        },
        "id": "FNIljAeI1Kw4",
        "outputId": "107422ff-49b6-4889-f002-d02eed996f60"
      },
      "execution_count": 64,
      "outputs": [
        {
          "output_type": "execute_result",
          "data": {
            "text/plain": [
              "0"
            ]
          },
          "metadata": {},
          "execution_count": 64
        }
      ]
    },
    {
      "cell_type": "markdown",
      "source": [
        "#### New shorter categorization\n",
        "\n",
        "1. Bicycle\n",
        "  - 01\n",
        "2. Scooter\n",
        "  - 04\n",
        "  - 30\n",
        "  - 32\n",
        "  - 34\n",
        "3. Moped\n",
        "  - 02\n",
        "4. Motorcycle\n",
        "  - 05\n",
        "  - 06\n",
        "  - 31\n",
        "  - 33\n",
        "5. Tractor\n",
        "  - 16\n",
        "  - 17\n",
        "  - 21\n",
        "6. Quadricycle\n",
        "  - 03\n",
        "  - 35\n",
        "  - 36\n",
        "7. Public transport\n",
        "  - 18\n",
        "  - 19\n",
        "  - 37\n",
        "  - 38\n",
        "  - 39\n",
        "  - 40\n",
        "8. Car\n",
        "  - 07\n",
        "  - 08\n",
        "  - 09\n",
        "  - 10\n",
        "  - 11\n",
        "  - 12\n",
        "  - 13\n",
        "  - 14\n",
        "  - 15\n",
        "9. Other\n",
        "  - 20\n",
        "  - 99\n"
      ],
      "metadata": {
        "id": "Vq0uRrhPJXvx"
      }
    },
    {
      "cell_type": "code",
      "source": [
        "category_mapping = {\n",
        "    1: 1,  # Bicycle\n",
        "    2: 2,  # Scooter\n",
        "    3: 6,  # Quadricycle\n",
        "    4: 2,  # Scooter\n",
        "    5: 4,  # Motorcycle\n",
        "    6: 4,  # Motorcycle\n",
        "    7: 8,  # Car\n",
        "    8: 8,  # Car\n",
        "    9: 8,  # Car\n",
        "    10: 8,  # Car\n",
        "    11: 8,  # Car\n",
        "    12: 8,  # Car\n",
        "    13: 8,  # Car\n",
        "    14: 8,  # Car\n",
        "    15: 8,  # Car\n",
        "    16: 5,  # Tractor\n",
        "    17: 5,  # Tractor\n",
        "    18: 7,  # Public Transport\n",
        "    19: 7,  # Public Transport\n",
        "    20: 9,  # Other\n",
        "    21: 5,  # Tractor\n",
        "    30: 2,  # Scooter\n",
        "    31: 4,  # Motorcycle\n",
        "    32: 2,  # Scooter\n",
        "    33: 4,  # Motorcycle\n",
        "    34: 2,  # Scooter\n",
        "    35: 6,  # Quadricycle\n",
        "    36: 6,  # Quadricycle\n",
        "    37: 7,  # Public Transport\n",
        "    38: 7,  # Public Transport\n",
        "    39: 7,  # Public Transport\n",
        "    40: 7,  # Public Transport\n",
        "    99: 9   # Other\n",
        "}\n",
        "\n",
        "df['Vehicle_Category'] = df['Category'].map(category_mapping)\n",
        "df.drop(['Category'], axis=1, inplace=True)"
      ],
      "metadata": {
        "id": "zomaxCoRMBox"
      },
      "execution_count": 65,
      "outputs": []
    },
    {
      "cell_type": "markdown",
      "source": [
        "## Vehicle category\n",
        "\n",
        "1. Bicycle\n",
        "2. Scooter\n",
        "3. Moped\n",
        "4. Motorcycle\n",
        "5. Tractor\n",
        "6. Quadricycle\n",
        "7. Public transport\n",
        "8. Car\n",
        "9. Other"
      ],
      "metadata": {
        "id": "L0obZDQjNwtC"
      }
    },
    {
      "cell_type": "code",
      "source": [
        "df['Vehicle_Category'].value_counts()"
      ],
      "metadata": {
        "colab": {
          "base_uri": "https://localhost:8080/"
        },
        "id": "3nK1n6TZN4ws",
        "outputId": "5443ffcf-35e6-44f7-b6c4-400411da86dd"
      },
      "execution_count": 66,
      "outputs": [
        {
          "output_type": "execute_result",
          "data": {
            "text/plain": [
              "Vehicle_Category\n",
              "8    993407\n",
              "2    190297\n",
              "4    147078\n",
              "1     58128\n",
              "7     15736\n",
              "5     14920\n",
              "6      6999\n",
              "9      6824\n",
              "Name: count, dtype: int64"
            ]
          },
          "metadata": {},
          "execution_count": 66
        }
      ]
    },
    {
      "cell_type": "code",
      "source": [
        "df['Vehicle_Category'].isna().sum()"
      ],
      "metadata": {
        "colab": {
          "base_uri": "https://localhost:8080/"
        },
        "id": "vHXp0vA3OWWK",
        "outputId": "b13512ae-896a-40b6-ef86-b8f6ae2be250"
      },
      "execution_count": 67,
      "outputs": [
        {
          "output_type": "execute_result",
          "data": {
            "text/plain": [
              "0"
            ]
          },
          "metadata": {},
          "execution_count": 67
        }
      ]
    },
    {
      "cell_type": "markdown",
      "source": [
        "## Fix Obstacle"
      ],
      "metadata": {
        "id": "DItp225t4oBk"
      }
    },
    {
      "cell_type": "markdown",
      "source": [
        "Fixed obstacle hit:\n",
        "\n",
        "  1 – Parked vehicle\n",
        "\n",
        "  2 – Tree\n",
        "\n",
        "  3 – Metal slide\n",
        "\n",
        "  4 – Concrete slide\n",
        "\n",
        "  5 – Other slide\n",
        "\n",
        "  6 – Building, wall, bridge pier\n",
        "\n",
        "  7 – Vertical signaling support or emergency call station\n",
        "\n",
        "  8 – Post\n",
        "\n",
        "  9 – Urban furniture\n",
        "\n",
        "  10 – Parapet\n",
        "\n",
        "  11 – Island, refuge, upper boundary\n",
        "\n",
        "  12 – Curbside\n",
        "\n",
        "  13 – Ditch, embankment, rock wall\n",
        "\n",
        "  14 – Other fixed obstacle on the roadway\n",
        "\n",
        "  15 – Other fixed obstacle on sidewalk or shoulder\n",
        "\n",
        "  16 – Exiting the roadway without obstacles\n",
        "  "
      ],
      "metadata": {
        "id": "-0TWWVRo4xul"
      }
    },
    {
      "cell_type": "code",
      "source": [
        "df['Fix Obstacle'].value_counts()"
      ],
      "metadata": {
        "colab": {
          "base_uri": "https://localhost:8080/"
        },
        "id": "EOLUEZ292_1Q",
        "outputId": "4f5795d1-0d11-458a-cc2b-cf2d7d988f4a"
      },
      "execution_count": 68,
      "outputs": [
        {
          "output_type": "execute_result",
          "data": {
            "text/plain": [
              "Fix Obstacle\n",
              "0.0     1248215\n",
              "1.0       31072\n",
              "13.0      23630\n",
              "2.0       20263\n",
              "4.0       16098\n",
              "6.0       15635\n",
              "3.0       15585\n",
              "8.0       14809\n",
              "14.0      10407\n",
              "12.0       7989\n",
              "16.0       7808\n",
              "15.0       6497\n",
              "9.0        4498\n",
              "11.0       3487\n",
              "7.0        3006\n",
              "5.0        1933\n",
              "10.0       1695\n",
              "Name: count, dtype: int64"
            ]
          },
          "metadata": {},
          "execution_count": 68
        }
      ]
    },
    {
      "cell_type": "code",
      "source": [
        "df['Fix Obstacle'].isna().sum()"
      ],
      "metadata": {
        "colab": {
          "base_uri": "https://localhost:8080/"
        },
        "id": "r6zKl3SO799d",
        "outputId": "82de4cfe-d78e-4d4d-f427-5e7dc39cad36"
      },
      "execution_count": 69,
      "outputs": [
        {
          "output_type": "execute_result",
          "data": {
            "text/plain": [
              "762"
            ]
          },
          "metadata": {},
          "execution_count": 69
        }
      ]
    },
    {
      "cell_type": "code",
      "source": [
        "df['Fix Obstacle'].fillna(0, inplace=True)"
      ],
      "metadata": {
        "id": "uFE1cGjuEFSc"
      },
      "execution_count": 70,
      "outputs": []
    },
    {
      "cell_type": "markdown",
      "source": [
        "## Fix obstacle type"
      ],
      "metadata": {
        "id": "P3RfkLqtPTNa"
      }
    },
    {
      "cell_type": "markdown",
      "source": [
        "#### Mapping\n",
        "\n",
        "0. Other\n",
        "  - 0 or null value\n",
        "\n",
        "1. Stationary Objects:\n",
        "  - Parked vehicle: 1\n",
        "  - Tree: 2\n",
        "  - Building, wall, bridge pier: 6\n",
        "  - Urban furniture: 9\n",
        "  - Parapet: 10\n",
        "  - Island, refuge, upper boundary: 11\n",
        "  - Curbside: 12\n",
        "  - Ditch, embankment, rock wall: 13\n",
        "2. Roadway Infrastructure:\n",
        "  - Metal slide: 3\n",
        "  - Concrete slide: 4\n",
        "  - Other slide: 5\n",
        "  - Vertical signaling support or emergency call station: 7\n",
        "  - Post: 8\n",
        "  - Other fixed obstacle on the roadway: 14\n",
        "3. Sidewalk/Shoulder Obstacles:\n",
        "  - Other fixed obstacle on sidewalk or shoulder: 15\n",
        "4. Exiting the Roadway:\n",
        "  - Exiting the roadway without obstacles: 16"
      ],
      "metadata": {
        "id": "CD5Ld0hsP6K7"
      }
    },
    {
      "cell_type": "code",
      "source": [
        "fix_obstacle_mapping = {\n",
        "    0: 0,  # Other\n",
        "    1: 1,  # Parked vehicle\n",
        "    2: 1,  # Tree\n",
        "    3: 2,  # Metal slide\n",
        "    4: 2,  # Concrete slide\n",
        "    5: 2,  # Other slide\n",
        "    6: 1,  # Building, wall, bridge pier\n",
        "    7: 2,  # Vertical signaling support or emergency call station\n",
        "    8: 1,  # Post\n",
        "    9: 1,  # Urban furniture\n",
        "    10: 1,  # Parapet\n",
        "    11: 1,  # Island, refuge, upper boundary\n",
        "    12: 1,  # Curbside\n",
        "    13: 1,  # Ditch, embankment, rock wall\n",
        "    14: 2,  # Other fixed obstacle on the roadway\n",
        "    15: 3,  # Other fixed obstacle on sidewalk or shoulder\n",
        "    16: 4   # Exiting the roadway without obstacles\n",
        "}\n",
        "\n",
        "# Map the 'Fix obstacle' column to the 'Fix_obstacle_type' column\n",
        "df['Fix_obstacle_type'] = df['Fix Obstacle'].map(fix_obstacle_mapping)\n",
        "df.drop(['Fix Obstacle'], axis=1, inplace=True)"
      ],
      "metadata": {
        "id": "LMfGeE45P_Z8"
      },
      "execution_count": 71,
      "outputs": []
    },
    {
      "cell_type": "markdown",
      "source": [
        "New categories:\n",
        "\n",
        "0. Other\n",
        "1. Stationary Objects\n",
        "2. Roadway Infrastructure\n",
        "3. Sidewalk/Shoulder Obstacles\n",
        "4. Exiting the Roadway"
      ],
      "metadata": {
        "id": "-G5HFzWUQoQR"
      }
    },
    {
      "cell_type": "code",
      "source": [
        "df['Fix_obstacle_type'].value_counts()"
      ],
      "metadata": {
        "colab": {
          "base_uri": "https://localhost:8080/"
        },
        "id": "NMC-fvcpQuO_",
        "outputId": "ed2fcc4a-53dd-45eb-8ae5-d044d868846c"
      },
      "execution_count": 72,
      "outputs": [
        {
          "output_type": "execute_result",
          "data": {
            "text/plain": [
              "Fix_obstacle_type\n",
              "0    1248977\n",
              "1     123078\n",
              "2      47029\n",
              "4       7808\n",
              "3       6497\n",
              "Name: count, dtype: int64"
            ]
          },
          "metadata": {},
          "execution_count": 72
        }
      ]
    },
    {
      "cell_type": "code",
      "source": [
        "df['Fix_obstacle_type'].isna().sum()"
      ],
      "metadata": {
        "colab": {
          "base_uri": "https://localhost:8080/"
        },
        "id": "mcjqJXQcQy-R",
        "outputId": "eaf8f1e6-f82c-4a94-fb45-03a1c9f284e6"
      },
      "execution_count": 73,
      "outputs": [
        {
          "output_type": "execute_result",
          "data": {
            "text/plain": [
              "0"
            ]
          },
          "metadata": {},
          "execution_count": 73
        }
      ]
    },
    {
      "cell_type": "markdown",
      "source": [
        "## Mobile Obstacle"
      ],
      "metadata": {
        "id": "t-2dY3DC5XW8"
      }
    },
    {
      "cell_type": "markdown",
      "source": [
        "Moving obstacle struck:\n",
        "\n",
        "  1 – Pedestrian\n",
        "\n",
        "  2 – Vehicle\n",
        "\n",
        "  4 – Rail vehicle\n",
        "\n",
        "  5 – Pet\n",
        "\n",
        "  6 – Wild animal\n",
        "\n",
        "9 – Other"
      ],
      "metadata": {
        "id": "dagSssNj5aFG"
      }
    },
    {
      "cell_type": "code",
      "source": [
        "df['Mobile Obstacle'].value_counts()"
      ],
      "metadata": {
        "colab": {
          "base_uri": "https://localhost:8080/"
        },
        "id": "Z_K_jJcG5hmQ",
        "outputId": "306c76eb-4f22-46ad-f5ac-a055f144eb3c"
      },
      "execution_count": 74,
      "outputs": [
        {
          "output_type": "execute_result",
          "data": {
            "text/plain": [
              "Mobile Obstacle\n",
              "2.0    949636\n",
              "0.0    312044\n",
              "1.0    146011\n",
              "9.0     20461\n",
              "6.0      1954\n",
              "5.0      1357\n",
              "4.0      1325\n",
              "Name: count, dtype: int64"
            ]
          },
          "metadata": {},
          "execution_count": 74
        }
      ]
    },
    {
      "cell_type": "code",
      "source": [
        "df['Mobile Obstacle'].isna().sum()"
      ],
      "metadata": {
        "colab": {
          "base_uri": "https://localhost:8080/"
        },
        "id": "q5AabjQl79j-",
        "outputId": "d3d412e6-1c92-404d-e5c1-73ef73287223"
      },
      "execution_count": 75,
      "outputs": [
        {
          "output_type": "execute_result",
          "data": {
            "text/plain": [
              "601"
            ]
          },
          "metadata": {},
          "execution_count": 75
        }
      ]
    },
    {
      "cell_type": "code",
      "source": [
        "df['Mobile Obstacle'].fillna(0, inplace=True)"
      ],
      "metadata": {
        "id": "dXc0_MnGEXQq"
      },
      "execution_count": 76,
      "outputs": []
    },
    {
      "cell_type": "markdown",
      "source": [
        "## Shock"
      ],
      "metadata": {
        "id": "s9gO19k251YU"
      }
    },
    {
      "cell_type": "markdown",
      "source": [
        "Initial shock point:\n",
        "\n",
        "  1 - Before\n",
        "\n",
        "  2 – Front right\n",
        "\n",
        "  3 – Front left\n",
        "\n",
        "  4 – Back\n",
        "\n",
        "  5 – Right back\n",
        "\n",
        "  6 – Left rear\n",
        "\n",
        "  7 – Right side\n",
        "\n",
        "  8 – Left side\n",
        "  \n",
        "  9 – Multiple impacts (rollovers)"
      ],
      "metadata": {
        "id": "oKdQcqPD5_a8"
      }
    },
    {
      "cell_type": "code",
      "source": [
        "df['Shock'].value_counts()"
      ],
      "metadata": {
        "colab": {
          "base_uri": "https://localhost:8080/"
        },
        "id": "lVUIvRfU6r7F",
        "outputId": "c2c52fe2-180f-44a8-ab63-9db8625b8300"
      },
      "execution_count": 77,
      "outputs": [
        {
          "output_type": "execute_result",
          "data": {
            "text/plain": [
              "Shock\n",
              "1.0    531553\n",
              "3.0    204636\n",
              "2.0    165642\n",
              "4.0    132518\n",
              "8.0    105565\n",
              "0.0     97717\n",
              "7.0     88074\n",
              "6.0     47388\n",
              "5.0     37260\n",
              "9.0     22807\n",
              "Name: count, dtype: int64"
            ]
          },
          "metadata": {},
          "execution_count": 77
        }
      ]
    },
    {
      "cell_type": "code",
      "source": [
        "df['Shock'].isna().sum()"
      ],
      "metadata": {
        "colab": {
          "base_uri": "https://localhost:8080/"
        },
        "id": "s1Sa283K789G",
        "outputId": "d14c4381-58af-4c61-c39a-9728a7491382"
      },
      "execution_count": 78,
      "outputs": [
        {
          "output_type": "execute_result",
          "data": {
            "text/plain": [
              "229"
            ]
          },
          "metadata": {},
          "execution_count": 78
        }
      ]
    },
    {
      "cell_type": "code",
      "source": [
        "df['Shock'].fillna(0, inplace=True)"
      ],
      "metadata": {
        "id": "BYET0XJbEmC-"
      },
      "execution_count": 79,
      "outputs": []
    },
    {
      "cell_type": "markdown",
      "source": [
        "## Maneuver"
      ],
      "metadata": {
        "id": "fzh92VIX7IV_"
      }
    },
    {
      "cell_type": "markdown",
      "source": [
        "Main maneuver before the accident:\n",
        "\n",
        "-  1 – Without change of direction\n",
        "\n",
        "-   2 – Same direction, same line\n",
        "\n",
        "-   3 – Between 2 lines\n",
        "\n",
        "-   4 – In reverse\n",
        "\n",
        "-   5 – Against the grain\n",
        "\n",
        "-   6 – Crossing the central reservation\n",
        "\n",
        "-   7 – In the bus lane, in the same direction\n",
        "\n",
        "-   8 – In the bus lane, in the opposite direction\n",
        "\n",
        "-   9 – By inserting yourself\n",
        "\n",
        "-   10 – When making a U-turn on the road\n",
        "\n",
        "Changing lanes\n",
        "\n",
        "- 11 – Left\n",
        "\n",
        "- 12 – Right\n",
        "\n",
        "Deported\n",
        "\n",
        "- 13 – Left\n",
        "\n",
        "- 14 – Right\n",
        "\n",
        "Turning point\n",
        "\n",
        "- 15 – Left\n",
        "\n",
        "- 16 – Right\n",
        "\n",
        "Exceeding\n",
        "\n",
        "- 17 – Left\n",
        "\n",
        "- 18 – Right\n",
        "\n",
        "Miscellaneous\n",
        "\n",
        "- 19 – Crossing the road\n",
        "\n",
        "- 20 – Parking maneuver\n",
        "\n",
        "- 21 – Avoidance maneuver\n",
        "\n",
        "- 22 – Door opening\n",
        "\n",
        "- 23 – Stopped (excluding parking)\n",
        "\n",
        "- 24 – Parked (with occupants)"
      ],
      "metadata": {
        "id": "KhnYieCM7JpF"
      }
    },
    {
      "cell_type": "code",
      "source": [
        "df['Maneuver'].value_counts()"
      ],
      "metadata": {
        "colab": {
          "base_uri": "https://localhost:8080/"
        },
        "id": "YVUJZzYu7qzs",
        "outputId": "1125fdf6-27e3-498a-c4c6-6ce2e393b841"
      },
      "execution_count": 80,
      "outputs": [
        {
          "output_type": "execute_result",
          "data": {
            "text/plain": [
              "Maneuver\n",
              "1.0     631200\n",
              "2.0     163463\n",
              "15.0    127031\n",
              "0.0     118546\n",
              "13.0     59922\n",
              "17.0     48701\n",
              "23.0     37726\n",
              "16.0     32035\n",
              "9.0      31288\n",
              "19.0     27750\n",
              "14.0     22580\n",
              "21.0     22064\n",
              "11.0     15165\n",
              "5.0      14740\n",
              "10.0     13782\n",
              "12.0     12765\n",
              "4.0      12749\n",
              "3.0       9673\n",
              "18.0      6984\n",
              "20.0      6674\n",
              "7.0       5160\n",
              "24.0      5048\n",
              "22.0      4207\n",
              "6.0       3097\n",
              "8.0        733\n",
              "Name: count, dtype: int64"
            ]
          },
          "metadata": {},
          "execution_count": 80
        }
      ]
    },
    {
      "cell_type": "code",
      "source": [
        "df['Maneuver'].isna().sum()"
      ],
      "metadata": {
        "colab": {
          "base_uri": "https://localhost:8080/"
        },
        "id": "4_WrSTPS78bV",
        "outputId": "16bd5720-5547-4b22-8a66-ae53aa622a64"
      },
      "execution_count": 81,
      "outputs": [
        {
          "output_type": "execute_result",
          "data": {
            "text/plain": [
              "306"
            ]
          },
          "metadata": {},
          "execution_count": 81
        }
      ]
    },
    {
      "cell_type": "code",
      "source": [
        "df['Maneuver'].fillna(0, inplace=True)"
      ],
      "metadata": {
        "id": "DWe2jRlDEvS6"
      },
      "execution_count": 82,
      "outputs": []
    },
    {
      "cell_type": "markdown",
      "source": [
        "#### New mapping\n",
        "\n",
        "0. Other\n",
        "1. Main maneuver before the accident\n",
        "2. Changing lanes\n",
        "3. Deported\n",
        "4. Turning point\n",
        "5. Exceeding\n",
        "6. Miscellaneous"
      ],
      "metadata": {
        "id": "e5HXWzRqUnW7"
      }
    },
    {
      "cell_type": "code",
      "source": [
        "def map_maneuver_to_category(maneuver):\n",
        "    main_maneuvers = [1, 2, 3, 4, 5, 6, 7, 8, 9, 10]\n",
        "    changing_lanes = [11, 12]\n",
        "    deported = [13, 14]\n",
        "    turning_point = [15, 16]\n",
        "    exceeding = [17, 18]\n",
        "    miscellaneous = [19, 20, 21, 22, 23, 24]\n",
        "\n",
        "    if maneuver in main_maneuvers:\n",
        "        return 1  # Main maneuver before the accident\n",
        "    elif maneuver in changing_lanes:\n",
        "        return 2  # Changing lanes\n",
        "    elif maneuver in deported:\n",
        "        return 3  # Deported\n",
        "    elif maneuver in turning_point:\n",
        "        return 4  # Turning point\n",
        "    elif maneuver in exceeding:\n",
        "        return 5  # Exceeding\n",
        "    elif maneuver in miscellaneous:\n",
        "        return 6  # Miscellaneous\n",
        "    else:\n",
        "        return 0  # Unknown or unassigned maneuver category\n",
        "\n",
        "df['Maneuver_category'] = df['Maneuver'].apply(map_maneuver_to_category)\n",
        "df.drop(['Maneuver'], axis=1, inplace=True)"
      ],
      "metadata": {
        "id": "ZNLxTPDYUnvJ"
      },
      "execution_count": 83,
      "outputs": []
    },
    {
      "cell_type": "code",
      "source": [
        "df['Maneuver_category'].value_counts()"
      ],
      "metadata": {
        "colab": {
          "base_uri": "https://localhost:8080/"
        },
        "id": "qYS-S9hnVBei",
        "outputId": "40b0d8a5-8836-4e92-f7bf-5b4801499af1"
      },
      "execution_count": 84,
      "outputs": [
        {
          "output_type": "execute_result",
          "data": {
            "text/plain": [
              "Maneuver_category\n",
              "1    885885\n",
              "4    159066\n",
              "0    118852\n",
              "6    103469\n",
              "3     82502\n",
              "5     55685\n",
              "2     27930\n",
              "Name: count, dtype: int64"
            ]
          },
          "metadata": {},
          "execution_count": 84
        }
      ]
    },
    {
      "cell_type": "code",
      "source": [
        "df['Maneuver_category'].isna().sum()"
      ],
      "metadata": {
        "colab": {
          "base_uri": "https://localhost:8080/"
        },
        "id": "zlrWah1TVPR0",
        "outputId": "a6c44f47-fa3e-4844-965d-0cc361dd3e7e"
      },
      "execution_count": 85,
      "outputs": [
        {
          "output_type": "execute_result",
          "data": {
            "text/plain": [
              "0"
            ]
          },
          "metadata": {},
          "execution_count": 85
        }
      ]
    },
    {
      "cell_type": "markdown",
      "source": [
        "## Occupants"
      ],
      "metadata": {
        "id": "CYlmf_pT74UB"
      }
    },
    {
      "cell_type": "markdown",
      "source": [
        "Number of occupants on public transport"
      ],
      "metadata": {
        "id": "pkSqfSLn76Pt"
      }
    },
    {
      "cell_type": "code",
      "source": [
        "df['Occupants'].value_counts()"
      ],
      "metadata": {
        "colab": {
          "base_uri": "https://localhost:8080/"
        },
        "id": "7LyeAGHD77i_",
        "outputId": "1b672643-121a-47b2-d6f9-785ef6ecc236"
      },
      "execution_count": 86,
      "outputs": [
        {
          "output_type": "execute_result",
          "data": {
            "text/plain": [
              "Occupants\n",
              "0      1423666\n",
              "1         4770\n",
              "2          696\n",
              "10         554\n",
              "3          359\n",
              "        ...   \n",
              "184          1\n",
              "153          1\n",
              "240          1\n",
              "125          1\n",
              "470          1\n",
              "Name: count, Length: 114, dtype: int64"
            ]
          },
          "metadata": {},
          "execution_count": 86
        }
      ]
    },
    {
      "cell_type": "code",
      "source": [
        "df['Occupants'].isna().sum()"
      ],
      "metadata": {
        "colab": {
          "base_uri": "https://localhost:8080/"
        },
        "id": "d-1FLuxF773Q",
        "outputId": "e44d24c3-dbc1-4a68-ee93-672f1875123a"
      },
      "execution_count": 87,
      "outputs": [
        {
          "output_type": "execute_result",
          "data": {
            "text/plain": [
              "0"
            ]
          },
          "metadata": {},
          "execution_count": 87
        }
      ]
    },
    {
      "cell_type": "markdown",
      "source": [
        "#### New categorization\n",
        "\n",
        "1. Not a public transport\n",
        "2. Below 5\n",
        "3. Between 5 and 10\n",
        "4. Between 10 and 20\n",
        "5. 20 or more"
      ],
      "metadata": {
        "id": "zkc5TdOySCs5"
      }
    },
    {
      "cell_type": "code",
      "source": [
        "def map_occupants(occupants):\n",
        "    if occupants == 0:\n",
        "        return 1  # Not a public transport\n",
        "    elif occupants < 5:\n",
        "        return 2  # Below 5\n",
        "    elif 5 <= occupants < 10:\n",
        "        return 3  # Between 5 and 10\n",
        "    elif 10 <= occupants < 20:\n",
        "        return 4  # Between 10 and 20\n",
        "    else:\n",
        "        return 5  # 20 or more\n",
        "\n",
        "df['Occupants'] = df['Occupants'].apply(map_occupants)"
      ],
      "metadata": {
        "id": "GbOO9-keTLjq"
      },
      "execution_count": 88,
      "outputs": []
    },
    {
      "cell_type": "code",
      "source": [
        "df['Occupants'].value_counts()"
      ],
      "metadata": {
        "colab": {
          "base_uri": "https://localhost:8080/"
        },
        "id": "uwlqUaKBTMLC",
        "outputId": "6aa54593-f7ff-4946-bc9b-d67685e2df56"
      },
      "execution_count": 89,
      "outputs": [
        {
          "output_type": "execute_result",
          "data": {
            "text/plain": [
              "Occupants\n",
              "1    1423666\n",
              "2       6018\n",
              "5       1951\n",
              "4       1197\n",
              "3        557\n",
              "Name: count, dtype: int64"
            ]
          },
          "metadata": {},
          "execution_count": 89
        }
      ]
    },
    {
      "cell_type": "code",
      "source": [
        "df['Occupants'].isna().sum()"
      ],
      "metadata": {
        "colab": {
          "base_uri": "https://localhost:8080/"
        },
        "id": "aFd_pKekTpk6",
        "outputId": "096c1d31-ad8f-48cd-a0ed-42c254eaf979"
      },
      "execution_count": 90,
      "outputs": [
        {
          "output_type": "execute_result",
          "data": {
            "text/plain": [
              "0"
            ]
          },
          "metadata": {},
          "execution_count": 90
        }
      ]
    },
    {
      "cell_type": "markdown",
      "source": [
        "## Flow direction"
      ],
      "metadata": {
        "id": "p6beEvyG8OUV"
      }
    },
    {
      "cell_type": "markdown",
      "source": [
        "Flow direction :\n",
        "\n",
        "  1 – PK or PR or ascending postal address number\n",
        "\n",
        "  2 – PK or PR or decreasing postal address number\n",
        "  "
      ],
      "metadata": {
        "id": "wm7PJmA28PXl"
      }
    },
    {
      "cell_type": "code",
      "source": [
        "df['Flow direction'].value_counts()"
      ],
      "metadata": {
        "colab": {
          "base_uri": "https://localhost:8080/"
        },
        "id": "cJ6RWBcb8Sip",
        "outputId": "70c84b4d-dfb8-4a3a-ce6b-5ad1e617fbc3"
      },
      "execution_count": 91,
      "outputs": [
        {
          "output_type": "execute_result",
          "data": {
            "text/plain": [
              "Flow direction\n",
              "0.0    1322803\n",
              "1.0      74935\n",
              "2.0      35579\n",
              "Name: count, dtype: int64"
            ]
          },
          "metadata": {},
          "execution_count": 91
        }
      ]
    },
    {
      "cell_type": "code",
      "source": [
        "df['Flow direction'].isna().sum()"
      ],
      "metadata": {
        "colab": {
          "base_uri": "https://localhost:8080/"
        },
        "id": "KjpSsDCI8S0t",
        "outputId": "1c915744-7bd4-4fef-8a7f-1f0150a927ea"
      },
      "execution_count": 92,
      "outputs": [
        {
          "output_type": "execute_result",
          "data": {
            "text/plain": [
              "72"
            ]
          },
          "metadata": {},
          "execution_count": 92
        }
      ]
    },
    {
      "cell_type": "code",
      "source": [
        "df.drop('Flow direction', axis=1, inplace=True)"
      ],
      "metadata": {
        "id": "oMPRO36fE9qE"
      },
      "execution_count": 93,
      "outputs": []
    },
    {
      "cell_type": "markdown",
      "source": [
        "# Result"
      ],
      "metadata": {
        "id": "tyK9ZOXN2w7i"
      }
    },
    {
      "cell_type": "code",
      "source": [
        "df.columns"
      ],
      "metadata": {
        "colab": {
          "base_uri": "https://localhost:8080/"
        },
        "id": "N0Yb5kbH3Agf",
        "outputId": "4c488960-5641-4f8c-e0d5-279ed47e1809"
      },
      "execution_count": 94,
      "outputs": [
        {
          "output_type": "execute_result",
          "data": {
            "text/plain": [
              "Index(['Num_Acc', 'Occupants', 'Mobile Obstacle', 'Shock', 'num_veh',\n",
              "       'Vehicle_Category', 'Fix_obstacle_type', 'Maneuver_category'],\n",
              "      dtype='object')"
            ]
          },
          "metadata": {},
          "execution_count": 94
        }
      ]
    },
    {
      "cell_type": "code",
      "source": [
        "df.to_csv('data/vehicles_prepped.csv', index=False)"
      ],
      "metadata": {
        "id": "t4gvoFQ12zEM"
      },
      "execution_count": 95,
      "outputs": []
    },
    {
      "cell_type": "markdown",
      "source": [
        "### Correlation"
      ],
      "metadata": {
        "id": "Bh0M2KWx_tig"
      }
    },
    {
      "cell_type": "code",
      "source": [
        "cols = list(df.columns)\n",
        "cols.remove(\"Num_Acc\")\n",
        "cols.remove(\"num_veh\")"
      ],
      "metadata": {
        "id": "lSyLKoPm_wfP"
      },
      "execution_count": 96,
      "outputs": []
    },
    {
      "cell_type": "code",
      "source": [
        "corr = df[cols].corr(method=cramersv, numeric_only=False)\n",
        "sns.heatmap(corr, square=True, annot=True)"
      ],
      "metadata": {
        "colab": {
          "base_uri": "https://localhost:8080/",
          "height": 576
        },
        "id": "l3dexvUCAFz-",
        "outputId": "24e44e47-2c7c-41b6-8860-1c0ad2c0b7ee"
      },
      "execution_count": 97,
      "outputs": [
        {
          "output_type": "execute_result",
          "data": {
            "text/plain": [
              "<Axes: >"
            ]
          },
          "metadata": {},
          "execution_count": 97
        },
        {
          "output_type": "display_data",
          "data": {
            "text/plain": [
              "<Figure size 640x480 with 2 Axes>"
            ],
            "image/png": "[encoded data removed]"
          },
          "metadata": {}
        }
      ]
    },
    {
      "cell_type": "markdown",
      "source": [
        "# Notes"
      ],
      "metadata": {
        "id": "43X40H9t8j_m"
      }
    },
    {
      "cell_type": "markdown",
      "source": [
        "Bad news\n",
        "\n",
        "- **Flow direction:** should be thrown out. 92% of this data is null, and not sure what we can use it for in the first place\n",
        "\n",
        "General\n",
        "\n",
        "- Occupants: 99% zero, because only filled out when a public transport is involved (have to be checked if this few public transport accidents are, or if they just don't fill it in)\n",
        "\n",
        "Question\n",
        "\n",
        "- Mobile Obstacle: There is an \"9 - other\" code and a lot of invalid \"0\" codes. Should we fill the 0-s with 9-s?"
      ],
      "metadata": {
        "id": "XuKNlXcm9U65"
      }
    },
    {
      "cell_type": "code",
      "source": [
        "1322803/1433389"
      ],
      "metadata": {
        "colab": {
          "base_uri": "https://localhost:8080/"
        },
        "id": "gGgKtbEk9daF",
        "outputId": "59b60f37-b970-429a-b695-1004507b8f93"
      },
      "execution_count": null,
      "outputs": [
        {
          "output_type": "execute_result",
          "data": {
            "text/plain": [
              "0.922849973035931"
            ]
          },
          "metadata": {},
          "execution_count": 28
        }
      ]
    },
    {
      "cell_type": "code",
      "source": [
        "1423666/1433389"
      ],
      "metadata": {
        "colab": {
          "base_uri": "https://localhost:8080/"
        },
        "id": "_jL-l6AU9g93",
        "outputId": "d98db284-71cb-49d2-cc7d-bd63d954365b"
      },
      "execution_count": null,
      "outputs": [
        {
          "output_type": "execute_result",
          "data": {
            "text/plain": [
              "0.9932167750694334"
            ]
          },
          "metadata": {},
          "execution_count": 29
        }
      ]
    },
    {
      "cell_type": "code",
      "source": [],
      "metadata": {
        "id": "x7uMllGH918n"
      },
      "execution_count": null,
      "outputs": []
    }
  ]
}