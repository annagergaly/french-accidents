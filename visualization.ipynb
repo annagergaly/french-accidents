{
 "cells": [
  {
   "cell_type": "code",
   "execution_count": 51,
   "metadata": {
    "collapsed": true,
    "ExecuteTime": {
     "end_time": "2024-03-16T13:10:12.022675400Z",
     "start_time": "2024-03-16T13:10:12.005271900Z"
    }
   },
   "outputs": [],
   "source": [
    "import pandas as pd"
   ]
  },
  {
   "cell_type": "code",
   "execution_count": 117,
   "outputs": [],
   "source": [
    "char = pd.read_csv(\"data/characteristics_prepped.csv\")\n",
    "users = pd.read_csv(\"data/users_prepped.csv\")"
   ],
   "metadata": {
    "collapsed": false,
    "ExecuteTime": {
     "end_time": "2024-03-17T12:22:48.863891800Z",
     "start_time": "2024-03-17T12:22:45.719836300Z"
    }
   }
  },
  {
   "cell_type": "code",
   "execution_count": 118,
   "outputs": [],
   "source": [
    "def f(x):\n",
    "    if x == 201:\n",
    "        return \"2A\"\n",
    "    if x == 202:\n",
    "        return \"2B\"\n",
    "    elif x < 100:\n",
    "        return \"0\" + str(int(x/10))\n",
    "    elif x % 10 == 0:\n",
    "        return str(int(x/10))\n",
    "    else:\n",
    "        return x"
   ],
   "metadata": {
    "collapsed": false,
    "ExecuteTime": {
     "end_time": "2024-03-17T12:22:48.879812800Z",
     "start_time": "2024-03-17T12:22:48.868020200Z"
    }
   }
  },
  {
   "cell_type": "code",
   "execution_count": 119,
   "outputs": [],
   "source": [
    "#Number of accidents\n",
    "counts = char[\"Department\"].value_counts().reset_index().rename({\"index\":\"DEP\", \"Department\":\"count_of_accidents\"}, axis=\"columns\")\n",
    "counts = counts[counts[\"DEP\"] < 900]\n",
    "counts[\"DEP\"] = counts[\"DEP\"].map(f)"
   ],
   "metadata": {
    "collapsed": false,
    "ExecuteTime": {
     "end_time": "2024-03-17T12:22:48.914476200Z",
     "start_time": "2024-03-17T12:22:48.882815300Z"
    }
   }
  },
  {
   "cell_type": "code",
   "execution_count": 120,
   "outputs": [],
   "source": [
    "#Average severity\n",
    "df = users.merge(char, on=\"Num_Acc\")\n",
    "avg_sev = df[[\"Department\", \"Severity\"]].groupby(\"Department\").mean(\"Severity\").reset_index().rename({\"Department\":\"DEP\", \"Severity\":\"avg_severity\"}, axis=\"columns\")\n",
    "avg_sev = avg_sev[avg_sev[\"DEP\"] < 900]\n",
    "avg_sev[\"DEP\"] = avg_sev[\"DEP\"].map(f)"
   ],
   "metadata": {
    "collapsed": false,
    "ExecuteTime": {
     "end_time": "2024-03-17T12:22:50.323021800Z",
     "start_time": "2024-03-17T12:22:48.915478100Z"
    }
   }
  },
  {
   "cell_type": "code",
   "execution_count": 124,
   "outputs": [],
   "source": [
    "avg_sev.merge(counts).to_csv(\"data/data_to_visualize.csv\", index=False)"
   ],
   "metadata": {
    "collapsed": false,
    "ExecuteTime": {
     "end_time": "2024-03-17T12:24:15.600473600Z",
     "start_time": "2024-03-17T12:24:15.574010900Z"
    }
   }
  },
  {
   "cell_type": "code",
   "execution_count": null,
   "outputs": [],
   "source": [],
   "metadata": {
    "collapsed": false
   }
  }
 ],
 "metadata": {
  "kernelspec": {
   "display_name": "Python 3",
   "language": "python",
   "name": "python3"
  },
  "language_info": {
   "codemirror_mode": {
    "name": "ipython",
    "version": 2
   },
   "file_extension": ".py",
   "mimetype": "text/x-python",
   "name": "python",
   "nbconvert_exporter": "python",
   "pygments_lexer": "ipython2",
   "version": "2.7.6"
  }
 },
 "nbformat": 4,
 "nbformat_minor": 0
}
