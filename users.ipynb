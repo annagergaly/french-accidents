{
  "nbformat": 4,
  "nbformat_minor": 0,
  "metadata": {
    "colab": {
      "provenance": [],
      "toc_visible": true
    },
    "kernelspec": {
      "name": "python3",
      "display_name": "Python 3"
    },
    "language_info": {
      "name": "python"
    }
  },
  "cells": [
    {
      "cell_type": "markdown",
      "source": [
        "# Addicents in France"
      ],
      "metadata": {
        "id": "f99wFYWNmWe_"
      }
    },
    {
      "cell_type": "code",
      "execution_count": 6,
      "metadata": {
        "id": "vRcin-4QJ9hD"
      },
      "outputs": [],
      "source": [
        "import pandas as pd"
      ]
    },
    {
      "cell_type": "markdown",
      "source": [
        "# Users.csv"
      ],
      "metadata": {
        "id": "zoLOasldocx6"
      }
    },
    {
      "cell_type": "code",
      "source": [
        "df = pd.read_csv('users.csv', encoding='latin1')"
      ],
      "metadata": {
        "id": "nOVaHo6monij"
      },
      "execution_count": 31,
      "outputs": []
    },
    {
      "cell_type": "code",
      "source": [
        "df.head()"
      ],
      "metadata": {
        "colab": {
          "base_uri": "https://localhost:8080/",
          "height": 206
        },
        "outputId": "51e5960e-1dc7-4d29-fbef-1c790c411a40",
        "id": "JNyUQMq7onil"
      },
      "execution_count": 32,
      "outputs": [
        {
          "output_type": "execute_result",
          "data": {
            "text/plain": [
              "        Num_Acc  place  catu  grav  sexe  trajet  secu  locp  actp  etatp  \\\n",
              "0  201600000001    1.0     1     1     2     0.0  11.0   0.0   0.0    0.0   \n",
              "1  201600000001    1.0     1     3     1     9.0  21.0   0.0   0.0    0.0   \n",
              "2  201600000002    1.0     1     3     1     5.0  11.0   0.0   0.0    0.0   \n",
              "3  201600000002    2.0     2     3     1     0.0  11.0   0.0   0.0    0.0   \n",
              "4  201600000002    3.0     2     3     2     0.0  11.0   0.0   0.0    0.0   \n",
              "\n",
              "   an_nais num_veh  \n",
              "0   1983.0     B02  \n",
              "1   2001.0     A01  \n",
              "2   1960.0     A01  \n",
              "3   2000.0     A01  \n",
              "4   1962.0     A01  "
            ],
            "text/html": [
              "\n",
              "  <div id=\"df-71191206-a1e1-4b3c-bf33-616671534d5d\" class=\"colab-df-container\">\n",
              "    <div>\n",
              "<style scoped>\n",
              "    .dataframe tbody tr th:only-of-type {\n",
              "        vertical-align: middle;\n",
              "    }\n",
              "\n",
              "    .dataframe tbody tr th {\n",
              "        vertical-align: top;\n",
              "    }\n",
              "\n",
              "    .dataframe thead th {\n",
              "        text-align: right;\n",
              "    }\n",
              "</style>\n",
              "<table border=\"1\" class=\"dataframe\">\n",
              "  <thead>\n",
              "    <tr style=\"text-align: right;\">\n",
              "      <th></th>\n",
              "      <th>Num_Acc</th>\n",
              "      <th>place</th>\n",
              "      <th>catu</th>\n",
              "      <th>grav</th>\n",
              "      <th>sexe</th>\n",
              "      <th>trajet</th>\n",
              "      <th>secu</th>\n",
              "      <th>locp</th>\n",
              "      <th>actp</th>\n",
              "      <th>etatp</th>\n",
              "      <th>an_nais</th>\n",
              "      <th>num_veh</th>\n",
              "    </tr>\n",
              "  </thead>\n",
              "  <tbody>\n",
              "    <tr>\n",
              "      <th>0</th>\n",
              "      <td>201600000001</td>\n",
              "      <td>1.0</td>\n",
              "      <td>1</td>\n",
              "      <td>1</td>\n",
              "      <td>2</td>\n",
              "      <td>0.0</td>\n",
              "      <td>11.0</td>\n",
              "      <td>0.0</td>\n",
              "      <td>0.0</td>\n",
              "      <td>0.0</td>\n",
              "      <td>1983.0</td>\n",
              "      <td>B02</td>\n",
              "    </tr>\n",
              "    <tr>\n",
              "      <th>1</th>\n",
              "      <td>201600000001</td>\n",
              "      <td>1.0</td>\n",
              "      <td>1</td>\n",
              "      <td>3</td>\n",
              "      <td>1</td>\n",
              "      <td>9.0</td>\n",
              "      <td>21.0</td>\n",
              "      <td>0.0</td>\n",
              "      <td>0.0</td>\n",
              "      <td>0.0</td>\n",
              "      <td>2001.0</td>\n",
              "      <td>A01</td>\n",
              "    </tr>\n",
              "    <tr>\n",
              "      <th>2</th>\n",
              "      <td>201600000002</td>\n",
              "      <td>1.0</td>\n",
              "      <td>1</td>\n",
              "      <td>3</td>\n",
              "      <td>1</td>\n",
              "      <td>5.0</td>\n",
              "      <td>11.0</td>\n",
              "      <td>0.0</td>\n",
              "      <td>0.0</td>\n",
              "      <td>0.0</td>\n",
              "      <td>1960.0</td>\n",
              "      <td>A01</td>\n",
              "    </tr>\n",
              "    <tr>\n",
              "      <th>3</th>\n",
              "      <td>201600000002</td>\n",
              "      <td>2.0</td>\n",
              "      <td>2</td>\n",
              "      <td>3</td>\n",
              "      <td>1</td>\n",
              "      <td>0.0</td>\n",
              "      <td>11.0</td>\n",
              "      <td>0.0</td>\n",
              "      <td>0.0</td>\n",
              "      <td>0.0</td>\n",
              "      <td>2000.0</td>\n",
              "      <td>A01</td>\n",
              "    </tr>\n",
              "    <tr>\n",
              "      <th>4</th>\n",
              "      <td>201600000002</td>\n",
              "      <td>3.0</td>\n",
              "      <td>2</td>\n",
              "      <td>3</td>\n",
              "      <td>2</td>\n",
              "      <td>0.0</td>\n",
              "      <td>11.0</td>\n",
              "      <td>0.0</td>\n",
              "      <td>0.0</td>\n",
              "      <td>0.0</td>\n",
              "      <td>1962.0</td>\n",
              "      <td>A01</td>\n",
              "    </tr>\n",
              "  </tbody>\n",
              "</table>\n",
              "</div>\n",
              "    <div class=\"colab-df-buttons\">\n",
              "\n",
              "  <div class=\"colab-df-container\">\n",
              "    <button class=\"colab-df-convert\" onclick=\"convertToInteractive('df-71191206-a1e1-4b3c-bf33-616671534d5d')\"\n",
              "            title=\"Convert this dataframe to an interactive table.\"\n",
              "            style=\"display:none;\">\n",
              "\n",
              "  <svg xmlns=\"http://www.w3.org/2000/svg\" height=\"24px\" viewBox=\"0 -960 960 960\">\n",
              "    <path d=\"M120-120v-720h720v720H120Zm60-500h600v-160H180v160Zm220 220h160v-160H400v160Zm0 220h160v-160H400v160ZM180-400h160v-160H180v160Zm440 0h160v-160H620v160ZM180-180h160v-160H180v160Zm440 0h160v-160H620v160Z\"/>\n",
              "  </svg>\n",
              "    </button>\n",
              "\n",
              "  <style>\n",
              "    .colab-df-container {\n",
              "      display:flex;\n",
              "      gap: 12px;\n",
              "    }\n",
              "\n",
              "    .colab-df-convert {\n",
              "      background-color: #E8F0FE;\n",
              "      border: none;\n",
              "      border-radius: 50%;\n",
              "      cursor: pointer;\n",
              "      display: none;\n",
              "      fill: #1967D2;\n",
              "      height: 32px;\n",
              "      padding: 0 0 0 0;\n",
              "      width: 32px;\n",
              "    }\n",
              "\n",
              "    .colab-df-convert:hover {\n",
              "      background-color: #E2EBFA;\n",
              "      box-shadow: 0px 1px 2px rgba(60, 64, 67, 0.3), 0px 1px 3px 1px rgba(60, 64, 67, 0.15);\n",
              "      fill: #174EA6;\n",
              "    }\n",
              "\n",
              "    .colab-df-buttons div {\n",
              "      margin-bottom: 4px;\n",
              "    }\n",
              "\n",
              "    [theme=dark] .colab-df-convert {\n",
              "      background-color: #3B4455;\n",
              "      fill: #D2E3FC;\n",
              "    }\n",
              "\n",
              "    [theme=dark] .colab-df-convert:hover {\n",
              "      background-color: #434B5C;\n",
              "      box-shadow: 0px 1px 3px 1px rgba(0, 0, 0, 0.15);\n",
              "      filter: drop-shadow(0px 1px 2px rgba(0, 0, 0, 0.3));\n",
              "      fill: #FFFFFF;\n",
              "    }\n",
              "  </style>\n",
              "\n",
              "    <script>\n",
              "      const buttonEl =\n",
              "        document.querySelector('#df-71191206-a1e1-4b3c-bf33-616671534d5d button.colab-df-convert');\n",
              "      buttonEl.style.display =\n",
              "        google.colab.kernel.accessAllowed ? 'block' : 'none';\n",
              "\n",
              "      async function convertToInteractive(key) {\n",
              "        const element = document.querySelector('#df-71191206-a1e1-4b3c-bf33-616671534d5d');\n",
              "        const dataTable =\n",
              "          await google.colab.kernel.invokeFunction('convertToInteractive',\n",
              "                                                    [key], {});\n",
              "        if (!dataTable) return;\n",
              "\n",
              "        const docLinkHtml = 'Like what you see? Visit the ' +\n",
              "          '<a target=\"_blank\" href=https://colab.research.google.com/notebooks/data_table.ipynb>data table notebook</a>'\n",
              "          + ' to learn more about interactive tables.';\n",
              "        element.innerHTML = '';\n",
              "        dataTable['output_type'] = 'display_data';\n",
              "        await google.colab.output.renderOutput(dataTable, element);\n",
              "        const docLink = document.createElement('div');\n",
              "        docLink.innerHTML = docLinkHtml;\n",
              "        element.appendChild(docLink);\n",
              "      }\n",
              "    </script>\n",
              "  </div>\n",
              "\n",
              "\n",
              "<div id=\"df-9f489bed-bbf0-4425-ac05-dbdd597ff570\">\n",
              "  <button class=\"colab-df-quickchart\" onclick=\"quickchart('df-9f489bed-bbf0-4425-ac05-dbdd597ff570')\"\n",
              "            title=\"Suggest charts\"\n",
              "            style=\"display:none;\">\n",
              "\n",
              "<svg xmlns=\"http://www.w3.org/2000/svg\" height=\"24px\"viewBox=\"0 0 24 24\"\n",
              "     width=\"24px\">\n",
              "    <g>\n",
              "        <path d=\"M19 3H5c-1.1 0-2 .9-2 2v14c0 1.1.9 2 2 2h14c1.1 0 2-.9 2-2V5c0-1.1-.9-2-2-2zM9 17H7v-7h2v7zm4 0h-2V7h2v10zm4 0h-2v-4h2v4z\"/>\n",
              "    </g>\n",
              "</svg>\n",
              "  </button>\n",
              "\n",
              "<style>\n",
              "  .colab-df-quickchart {\n",
              "      --bg-color: #E8F0FE;\n",
              "      --fill-color: #1967D2;\n",
              "      --hover-bg-color: #E2EBFA;\n",
              "      --hover-fill-color: #174EA6;\n",
              "      --disabled-fill-color: #AAA;\n",
              "      --disabled-bg-color: #DDD;\n",
              "  }\n",
              "\n",
              "  [theme=dark] .colab-df-quickchart {\n",
              "      --bg-color: #3B4455;\n",
              "      --fill-color: #D2E3FC;\n",
              "      --hover-bg-color: #434B5C;\n",
              "      --hover-fill-color: #FFFFFF;\n",
              "      --disabled-bg-color: #3B4455;\n",
              "      --disabled-fill-color: #666;\n",
              "  }\n",
              "\n",
              "  .colab-df-quickchart {\n",
              "    background-color: var(--bg-color);\n",
              "    border: none;\n",
              "    border-radius: 50%;\n",
              "    cursor: pointer;\n",
              "    display: none;\n",
              "    fill: var(--fill-color);\n",
              "    height: 32px;\n",
              "    padding: 0;\n",
              "    width: 32px;\n",
              "  }\n",
              "\n",
              "  .colab-df-quickchart:hover {\n",
              "    background-color: var(--hover-bg-color);\n",
              "    box-shadow: 0 1px 2px rgba(60, 64, 67, 0.3), 0 1px 3px 1px rgba(60, 64, 67, 0.15);\n",
              "    fill: var(--button-hover-fill-color);\n",
              "  }\n",
              "\n",
              "  .colab-df-quickchart-complete:disabled,\n",
              "  .colab-df-quickchart-complete:disabled:hover {\n",
              "    background-color: var(--disabled-bg-color);\n",
              "    fill: var(--disabled-fill-color);\n",
              "    box-shadow: none;\n",
              "  }\n",
              "\n",
              "  .colab-df-spinner {\n",
              "    border: 2px solid var(--fill-color);\n",
              "    border-color: transparent;\n",
              "    border-bottom-color: var(--fill-color);\n",
              "    animation:\n",
              "      spin 1s steps(1) infinite;\n",
              "  }\n",
              "\n",
              "  @keyframes spin {\n",
              "    0% {\n",
              "      border-color: transparent;\n",
              "      border-bottom-color: var(--fill-color);\n",
              "      border-left-color: var(--fill-color);\n",
              "    }\n",
              "    20% {\n",
              "      border-color: transparent;\n",
              "      border-left-color: var(--fill-color);\n",
              "      border-top-color: var(--fill-color);\n",
              "    }\n",
              "    30% {\n",
              "      border-color: transparent;\n",
              "      border-left-color: var(--fill-color);\n",
              "      border-top-color: var(--fill-color);\n",
              "      border-right-color: var(--fill-color);\n",
              "    }\n",
              "    40% {\n",
              "      border-color: transparent;\n",
              "      border-right-color: var(--fill-color);\n",
              "      border-top-color: var(--fill-color);\n",
              "    }\n",
              "    60% {\n",
              "      border-color: transparent;\n",
              "      border-right-color: var(--fill-color);\n",
              "    }\n",
              "    80% {\n",
              "      border-color: transparent;\n",
              "      border-right-color: var(--fill-color);\n",
              "      border-bottom-color: var(--fill-color);\n",
              "    }\n",
              "    90% {\n",
              "      border-color: transparent;\n",
              "      border-bottom-color: var(--fill-color);\n",
              "    }\n",
              "  }\n",
              "</style>\n",
              "\n",
              "  <script>\n",
              "    async function quickchart(key) {\n",
              "      const quickchartButtonEl =\n",
              "        document.querySelector('#' + key + ' button');\n",
              "      quickchartButtonEl.disabled = true;  // To prevent multiple clicks.\n",
              "      quickchartButtonEl.classList.add('colab-df-spinner');\n",
              "      try {\n",
              "        const charts = await google.colab.kernel.invokeFunction(\n",
              "            'suggestCharts', [key], {});\n",
              "      } catch (error) {\n",
              "        console.error('Error during call to suggestCharts:', error);\n",
              "      }\n",
              "      quickchartButtonEl.classList.remove('colab-df-spinner');\n",
              "      quickchartButtonEl.classList.add('colab-df-quickchart-complete');\n",
              "    }\n",
              "    (() => {\n",
              "      let quickchartButtonEl =\n",
              "        document.querySelector('#df-9f489bed-bbf0-4425-ac05-dbdd597ff570 button');\n",
              "      quickchartButtonEl.style.display =\n",
              "        google.colab.kernel.accessAllowed ? 'block' : 'none';\n",
              "    })();\n",
              "  </script>\n",
              "</div>\n",
              "    </div>\n",
              "  </div>\n"
            ],
            "application/vnd.google.colaboratory.intrinsic+json": {
              "type": "dataframe",
              "variable_name": "df"
            }
          },
          "metadata": {},
          "execution_count": 32
        }
      ]
    },
    {
      "cell_type": "code",
      "source": [
        "df.rename(columns={'place': 'Place', 'catu': 'User type', 'grav': 'Severity', 'sexe': 'Sex', 'trajet': 'Trip', \"an_nais\": \"Birth year\",\n",
        "                   'secu': 'Safety equipment', 'locp': 'Pedestrian location', 'actp': 'Pedestrian action', 'etatp': 'Pedestrian alone'}, inplace=True)"
      ],
      "metadata": {
        "id": "mobw8nKUonim"
      },
      "execution_count": 34,
      "outputs": []
    },
    {
      "cell_type": "code",
      "source": [
        "len(df)"
      ],
      "metadata": {
        "colab": {
          "base_uri": "https://localhost:8080/"
        },
        "id": "3U-cLEPRHqHQ",
        "outputId": "ecf3e46e-b0cc-46e8-bdb7-bbcf0b4ba931"
      },
      "execution_count": 144,
      "outputs": [
        {
          "output_type": "execute_result",
          "data": {
            "text/plain": [
              "1876005"
            ]
          },
          "metadata": {},
          "execution_count": 144
        }
      ]
    },
    {
      "cell_type": "code",
      "source": [
        "df.head()"
      ],
      "metadata": {
        "colab": {
          "base_uri": "https://localhost:8080/",
          "height": 206
        },
        "outputId": "fc010fa6-21c4-46fa-ab7f-3ed7355d8b69",
        "id": "3G0HmWUZonin"
      },
      "execution_count": 35,
      "outputs": [
        {
          "output_type": "execute_result",
          "data": {
            "text/plain": [
              "        Num_Acc  Place  User type  Severity  Sex  Trip  Safety equipment  \\\n",
              "0  201600000001    1.0          1         1    2   0.0              11.0   \n",
              "1  201600000001    1.0          1         3    1   9.0              21.0   \n",
              "2  201600000002    1.0          1         3    1   5.0              11.0   \n",
              "3  201600000002    2.0          2         3    1   0.0              11.0   \n",
              "4  201600000002    3.0          2         3    2   0.0              11.0   \n",
              "\n",
              "   Pedestrian location  Pedestrian action  Pedestrian alone  Birth year  \\\n",
              "0                  0.0                0.0               0.0      1983.0   \n",
              "1                  0.0                0.0               0.0      2001.0   \n",
              "2                  0.0                0.0               0.0      1960.0   \n",
              "3                  0.0                0.0               0.0      2000.0   \n",
              "4                  0.0                0.0               0.0      1962.0   \n",
              "\n",
              "  num_veh  \n",
              "0     B02  \n",
              "1     A01  \n",
              "2     A01  \n",
              "3     A01  \n",
              "4     A01  "
            ],
            "text/html": [
              "\n",
              "  <div id=\"df-baa101f8-357d-4386-a1d9-976e849889a7\" class=\"colab-df-container\">\n",
              "    <div>\n",
              "<style scoped>\n",
              "    .dataframe tbody tr th:only-of-type {\n",
              "        vertical-align: middle;\n",
              "    }\n",
              "\n",
              "    .dataframe tbody tr th {\n",
              "        vertical-align: top;\n",
              "    }\n",
              "\n",
              "    .dataframe thead th {\n",
              "        text-align: right;\n",
              "    }\n",
              "</style>\n",
              "<table border=\"1\" class=\"dataframe\">\n",
              "  <thead>\n",
              "    <tr style=\"text-align: right;\">\n",
              "      <th></th>\n",
              "      <th>Num_Acc</th>\n",
              "      <th>Place</th>\n",
              "      <th>User type</th>\n",
              "      <th>Severity</th>\n",
              "      <th>Sex</th>\n",
              "      <th>Trip</th>\n",
              "      <th>Safety equipment</th>\n",
              "      <th>Pedestrian location</th>\n",
              "      <th>Pedestrian action</th>\n",
              "      <th>Pedestrian alone</th>\n",
              "      <th>Birth year</th>\n",
              "      <th>num_veh</th>\n",
              "    </tr>\n",
              "  </thead>\n",
              "  <tbody>\n",
              "    <tr>\n",
              "      <th>0</th>\n",
              "      <td>201600000001</td>\n",
              "      <td>1.0</td>\n",
              "      <td>1</td>\n",
              "      <td>1</td>\n",
              "      <td>2</td>\n",
              "      <td>0.0</td>\n",
              "      <td>11.0</td>\n",
              "      <td>0.0</td>\n",
              "      <td>0.0</td>\n",
              "      <td>0.0</td>\n",
              "      <td>1983.0</td>\n",
              "      <td>B02</td>\n",
              "    </tr>\n",
              "    <tr>\n",
              "      <th>1</th>\n",
              "      <td>201600000001</td>\n",
              "      <td>1.0</td>\n",
              "      <td>1</td>\n",
              "      <td>3</td>\n",
              "      <td>1</td>\n",
              "      <td>9.0</td>\n",
              "      <td>21.0</td>\n",
              "      <td>0.0</td>\n",
              "      <td>0.0</td>\n",
              "      <td>0.0</td>\n",
              "      <td>2001.0</td>\n",
              "      <td>A01</td>\n",
              "    </tr>\n",
              "    <tr>\n",
              "      <th>2</th>\n",
              "      <td>201600000002</td>\n",
              "      <td>1.0</td>\n",
              "      <td>1</td>\n",
              "      <td>3</td>\n",
              "      <td>1</td>\n",
              "      <td>5.0</td>\n",
              "      <td>11.0</td>\n",
              "      <td>0.0</td>\n",
              "      <td>0.0</td>\n",
              "      <td>0.0</td>\n",
              "      <td>1960.0</td>\n",
              "      <td>A01</td>\n",
              "    </tr>\n",
              "    <tr>\n",
              "      <th>3</th>\n",
              "      <td>201600000002</td>\n",
              "      <td>2.0</td>\n",
              "      <td>2</td>\n",
              "      <td>3</td>\n",
              "      <td>1</td>\n",
              "      <td>0.0</td>\n",
              "      <td>11.0</td>\n",
              "      <td>0.0</td>\n",
              "      <td>0.0</td>\n",
              "      <td>0.0</td>\n",
              "      <td>2000.0</td>\n",
              "      <td>A01</td>\n",
              "    </tr>\n",
              "    <tr>\n",
              "      <th>4</th>\n",
              "      <td>201600000002</td>\n",
              "      <td>3.0</td>\n",
              "      <td>2</td>\n",
              "      <td>3</td>\n",
              "      <td>2</td>\n",
              "      <td>0.0</td>\n",
              "      <td>11.0</td>\n",
              "      <td>0.0</td>\n",
              "      <td>0.0</td>\n",
              "      <td>0.0</td>\n",
              "      <td>1962.0</td>\n",
              "      <td>A01</td>\n",
              "    </tr>\n",
              "  </tbody>\n",
              "</table>\n",
              "</div>\n",
              "    <div class=\"colab-df-buttons\">\n",
              "\n",
              "  <div class=\"colab-df-container\">\n",
              "    <button class=\"colab-df-convert\" onclick=\"convertToInteractive('df-baa101f8-357d-4386-a1d9-976e849889a7')\"\n",
              "            title=\"Convert this dataframe to an interactive table.\"\n",
              "            style=\"display:none;\">\n",
              "\n",
              "  <svg xmlns=\"http://www.w3.org/2000/svg\" height=\"24px\" viewBox=\"0 -960 960 960\">\n",
              "    <path d=\"M120-120v-720h720v720H120Zm60-500h600v-160H180v160Zm220 220h160v-160H400v160Zm0 220h160v-160H400v160ZM180-400h160v-160H180v160Zm440 0h160v-160H620v160ZM180-180h160v-160H180v160Zm440 0h160v-160H620v160Z\"/>\n",
              "  </svg>\n",
              "    </button>\n",
              "\n",
              "  <style>\n",
              "    .colab-df-container {\n",
              "      display:flex;\n",
              "      gap: 12px;\n",
              "    }\n",
              "\n",
              "    .colab-df-convert {\n",
              "      background-color: #E8F0FE;\n",
              "      border: none;\n",
              "      border-radius: 50%;\n",
              "      cursor: pointer;\n",
              "      display: none;\n",
              "      fill: #1967D2;\n",
              "      height: 32px;\n",
              "      padding: 0 0 0 0;\n",
              "      width: 32px;\n",
              "    }\n",
              "\n",
              "    .colab-df-convert:hover {\n",
              "      background-color: #E2EBFA;\n",
              "      box-shadow: 0px 1px 2px rgba(60, 64, 67, 0.3), 0px 1px 3px 1px rgba(60, 64, 67, 0.15);\n",
              "      fill: #174EA6;\n",
              "    }\n",
              "\n",
              "    .colab-df-buttons div {\n",
              "      margin-bottom: 4px;\n",
              "    }\n",
              "\n",
              "    [theme=dark] .colab-df-convert {\n",
              "      background-color: #3B4455;\n",
              "      fill: #D2E3FC;\n",
              "    }\n",
              "\n",
              "    [theme=dark] .colab-df-convert:hover {\n",
              "      background-color: #434B5C;\n",
              "      box-shadow: 0px 1px 3px 1px rgba(0, 0, 0, 0.15);\n",
              "      filter: drop-shadow(0px 1px 2px rgba(0, 0, 0, 0.3));\n",
              "      fill: #FFFFFF;\n",
              "    }\n",
              "  </style>\n",
              "\n",
              "    <script>\n",
              "      const buttonEl =\n",
              "        document.querySelector('#df-baa101f8-357d-4386-a1d9-976e849889a7 button.colab-df-convert');\n",
              "      buttonEl.style.display =\n",
              "        google.colab.kernel.accessAllowed ? 'block' : 'none';\n",
              "\n",
              "      async function convertToInteractive(key) {\n",
              "        const element = document.querySelector('#df-baa101f8-357d-4386-a1d9-976e849889a7');\n",
              "        const dataTable =\n",
              "          await google.colab.kernel.invokeFunction('convertToInteractive',\n",
              "                                                    [key], {});\n",
              "        if (!dataTable) return;\n",
              "\n",
              "        const docLinkHtml = 'Like what you see? Visit the ' +\n",
              "          '<a target=\"_blank\" href=https://colab.research.google.com/notebooks/data_table.ipynb>data table notebook</a>'\n",
              "          + ' to learn more about interactive tables.';\n",
              "        element.innerHTML = '';\n",
              "        dataTable['output_type'] = 'display_data';\n",
              "        await google.colab.output.renderOutput(dataTable, element);\n",
              "        const docLink = document.createElement('div');\n",
              "        docLink.innerHTML = docLinkHtml;\n",
              "        element.appendChild(docLink);\n",
              "      }\n",
              "    </script>\n",
              "  </div>\n",
              "\n",
              "\n",
              "<div id=\"df-bd3d062f-7208-49b8-bf78-a81629e16bfb\">\n",
              "  <button class=\"colab-df-quickchart\" onclick=\"quickchart('df-bd3d062f-7208-49b8-bf78-a81629e16bfb')\"\n",
              "            title=\"Suggest charts\"\n",
              "            style=\"display:none;\">\n",
              "\n",
              "<svg xmlns=\"http://www.w3.org/2000/svg\" height=\"24px\"viewBox=\"0 0 24 24\"\n",
              "     width=\"24px\">\n",
              "    <g>\n",
              "        <path d=\"M19 3H5c-1.1 0-2 .9-2 2v14c0 1.1.9 2 2 2h14c1.1 0 2-.9 2-2V5c0-1.1-.9-2-2-2zM9 17H7v-7h2v7zm4 0h-2V7h2v10zm4 0h-2v-4h2v4z\"/>\n",
              "    </g>\n",
              "</svg>\n",
              "  </button>\n",
              "\n",
              "<style>\n",
              "  .colab-df-quickchart {\n",
              "      --bg-color: #E8F0FE;\n",
              "      --fill-color: #1967D2;\n",
              "      --hover-bg-color: #E2EBFA;\n",
              "      --hover-fill-color: #174EA6;\n",
              "      --disabled-fill-color: #AAA;\n",
              "      --disabled-bg-color: #DDD;\n",
              "  }\n",
              "\n",
              "  [theme=dark] .colab-df-quickchart {\n",
              "      --bg-color: #3B4455;\n",
              "      --fill-color: #D2E3FC;\n",
              "      --hover-bg-color: #434B5C;\n",
              "      --hover-fill-color: #FFFFFF;\n",
              "      --disabled-bg-color: #3B4455;\n",
              "      --disabled-fill-color: #666;\n",
              "  }\n",
              "\n",
              "  .colab-df-quickchart {\n",
              "    background-color: var(--bg-color);\n",
              "    border: none;\n",
              "    border-radius: 50%;\n",
              "    cursor: pointer;\n",
              "    display: none;\n",
              "    fill: var(--fill-color);\n",
              "    height: 32px;\n",
              "    padding: 0;\n",
              "    width: 32px;\n",
              "  }\n",
              "\n",
              "  .colab-df-quickchart:hover {\n",
              "    background-color: var(--hover-bg-color);\n",
              "    box-shadow: 0 1px 2px rgba(60, 64, 67, 0.3), 0 1px 3px 1px rgba(60, 64, 67, 0.15);\n",
              "    fill: var(--button-hover-fill-color);\n",
              "  }\n",
              "\n",
              "  .colab-df-quickchart-complete:disabled,\n",
              "  .colab-df-quickchart-complete:disabled:hover {\n",
              "    background-color: var(--disabled-bg-color);\n",
              "    fill: var(--disabled-fill-color);\n",
              "    box-shadow: none;\n",
              "  }\n",
              "\n",
              "  .colab-df-spinner {\n",
              "    border: 2px solid var(--fill-color);\n",
              "    border-color: transparent;\n",
              "    border-bottom-color: var(--fill-color);\n",
              "    animation:\n",
              "      spin 1s steps(1) infinite;\n",
              "  }\n",
              "\n",
              "  @keyframes spin {\n",
              "    0% {\n",
              "      border-color: transparent;\n",
              "      border-bottom-color: var(--fill-color);\n",
              "      border-left-color: var(--fill-color);\n",
              "    }\n",
              "    20% {\n",
              "      border-color: transparent;\n",
              "      border-left-color: var(--fill-color);\n",
              "      border-top-color: var(--fill-color);\n",
              "    }\n",
              "    30% {\n",
              "      border-color: transparent;\n",
              "      border-left-color: var(--fill-color);\n",
              "      border-top-color: var(--fill-color);\n",
              "      border-right-color: var(--fill-color);\n",
              "    }\n",
              "    40% {\n",
              "      border-color: transparent;\n",
              "      border-right-color: var(--fill-color);\n",
              "      border-top-color: var(--fill-color);\n",
              "    }\n",
              "    60% {\n",
              "      border-color: transparent;\n",
              "      border-right-color: var(--fill-color);\n",
              "    }\n",
              "    80% {\n",
              "      border-color: transparent;\n",
              "      border-right-color: var(--fill-color);\n",
              "      border-bottom-color: var(--fill-color);\n",
              "    }\n",
              "    90% {\n",
              "      border-color: transparent;\n",
              "      border-bottom-color: var(--fill-color);\n",
              "    }\n",
              "  }\n",
              "</style>\n",
              "\n",
              "  <script>\n",
              "    async function quickchart(key) {\n",
              "      const quickchartButtonEl =\n",
              "        document.querySelector('#' + key + ' button');\n",
              "      quickchartButtonEl.disabled = true;  // To prevent multiple clicks.\n",
              "      quickchartButtonEl.classList.add('colab-df-spinner');\n",
              "      try {\n",
              "        const charts = await google.colab.kernel.invokeFunction(\n",
              "            'suggestCharts', [key], {});\n",
              "      } catch (error) {\n",
              "        console.error('Error during call to suggestCharts:', error);\n",
              "      }\n",
              "      quickchartButtonEl.classList.remove('colab-df-spinner');\n",
              "      quickchartButtonEl.classList.add('colab-df-quickchart-complete');\n",
              "    }\n",
              "    (() => {\n",
              "      let quickchartButtonEl =\n",
              "        document.querySelector('#df-bd3d062f-7208-49b8-bf78-a81629e16bfb button');\n",
              "      quickchartButtonEl.style.display =\n",
              "        google.colab.kernel.accessAllowed ? 'block' : 'none';\n",
              "    })();\n",
              "  </script>\n",
              "</div>\n",
              "    </div>\n",
              "  </div>\n"
            ],
            "application/vnd.google.colaboratory.intrinsic+json": {
              "type": "dataframe",
              "variable_name": "df"
            }
          },
          "metadata": {},
          "execution_count": 35
        }
      ]
    },
    {
      "cell_type": "code",
      "source": [
        "df.isna().sum()"
      ],
      "metadata": {
        "colab": {
          "base_uri": "https://localhost:8080/"
        },
        "id": "TeyYic9N_yQE",
        "outputId": "0c58dcdb-5424-4ae4-fb72-c52c33bd4d2a"
      },
      "execution_count": 92,
      "outputs": [
        {
          "output_type": "execute_result",
          "data": {
            "text/plain": [
              "Num_Acc                     0\n",
              "Place                  100366\n",
              "User type                   0\n",
              "Severity                    0\n",
              "Sex                         0\n",
              "Trip                      369\n",
              "Safety equipment        43458\n",
              "Pedestrian location      1664\n",
              "Pedestrian action        1773\n",
              "Pedestrian alone         1706\n",
              "Birth year               2351\n",
              "num_veh                     0\n",
              "Year                        0\n",
              "dtype: int64"
            ]
          },
          "metadata": {},
          "execution_count": 92
        }
      ]
    },
    {
      "cell_type": "code",
      "source": [
        "df.describe()"
      ],
      "metadata": {
        "colab": {
          "base_uri": "https://localhost:8080/",
          "height": 317
        },
        "id": "afmE4mVdEjXX",
        "outputId": "88fb69f4-c3ca-438b-815b-7f87c4fa5097"
      },
      "execution_count": 115,
      "outputs": [
        {
          "output_type": "execute_result",
          "data": {
            "text/plain": [
              "            Num_Acc         Place     User type      Severity           Sex  \\\n",
              "count  1.876005e+06  1.775639e+06  1.876005e+06  1.876005e+06  1.876005e+06   \n",
              "mean   2.009992e+11  1.283953e+00  1.341410e+00  2.513080e+00  1.328885e+00   \n",
              "std    3.464316e+08  9.058402e-01  6.334311e-01  1.332745e+00  4.698081e-01   \n",
              "min    2.005000e+11  0.000000e+00  1.000000e+00  1.000000e+00  1.000000e+00   \n",
              "25%    2.007000e+11  1.000000e+00  1.000000e+00  1.000000e+00  1.000000e+00   \n",
              "50%    2.010000e+11  1.000000e+00  1.000000e+00  3.000000e+00  1.000000e+00   \n",
              "75%    2.013000e+11  1.000000e+00  2.000000e+00  4.000000e+00  2.000000e+00   \n",
              "max    2.016001e+11  9.000000e+00  4.000000e+00  4.000000e+00  2.000000e+00   \n",
              "\n",
              "               Trip  Safety equipment  Pedestrian location  Pedestrian action  \\\n",
              "count  1.875636e+06      1.876005e+06         1.874341e+06       1.874232e+06   \n",
              "mean   3.075555e+00      1.780090e+01         2.242522e-01       2.762860e-01   \n",
              "std    2.676239e+00      1.973449e+01         8.722973e-01       1.051576e+00   \n",
              "min    0.000000e+00      0.000000e+00         0.000000e+00       0.000000e+00   \n",
              "25%    0.000000e+00      1.100000e+01         0.000000e+00       0.000000e+00   \n",
              "50%    4.000000e+00      1.100000e+01         0.000000e+00       0.000000e+00   \n",
              "75%    5.000000e+00      2.100000e+01         0.000000e+00       0.000000e+00   \n",
              "max    9.000000e+00      9.300000e+01         8.000000e+00       9.000000e+00   \n",
              "\n",
              "       Pedestrian alone    Birth year          Year  \\\n",
              "count      1.874299e+06  1.873654e+06  1.876005e+06   \n",
              "mean       1.023823e-01  1.972682e+03  2.009991e+03   \n",
              "std        3.800489e-01  1.834448e+01  3.464368e+00   \n",
              "min        0.000000e+00  1.896000e+03  2.005000e+03   \n",
              "25%        0.000000e+00  1.961000e+03  2.007000e+03   \n",
              "50%        0.000000e+00  1.976000e+03  2.010000e+03   \n",
              "75%        0.000000e+00  1.987000e+03  2.013000e+03   \n",
              "max        3.000000e+00  2.016000e+03  2.016000e+03   \n",
              "\n",
              "       Safety equipment existence  Safety equipment use  \n",
              "count                1.876005e+06          1.876005e+06  \n",
              "mean                 1.652568e+00          1.275226e+00  \n",
              "std                  1.930204e+00          7.948490e-01  \n",
              "min                  0.000000e+00          0.000000e+00  \n",
              "25%                  1.000000e+00          1.000000e+00  \n",
              "50%                  1.000000e+00          1.000000e+00  \n",
              "75%                  2.000000e+00          1.000000e+00  \n",
              "max                  9.000000e+00          3.000000e+00  "
            ],
            "text/html": [
              "\n",
              "  <div id=\"df-2c950a07-2610-493c-853c-1eb54920c528\" class=\"colab-df-container\">\n",
              "    <div>\n",
              "<style scoped>\n",
              "    .dataframe tbody tr th:only-of-type {\n",
              "        vertical-align: middle;\n",
              "    }\n",
              "\n",
              "    .dataframe tbody tr th {\n",
              "        vertical-align: top;\n",
              "    }\n",
              "\n",
              "    .dataframe thead th {\n",
              "        text-align: right;\n",
              "    }\n",
              "</style>\n",
              "<table border=\"1\" class=\"dataframe\">\n",
              "  <thead>\n",
              "    <tr style=\"text-align: right;\">\n",
              "      <th></th>\n",
              "      <th>Num_Acc</th>\n",
              "      <th>Place</th>\n",
              "      <th>User type</th>\n",
              "      <th>Severity</th>\n",
              "      <th>Sex</th>\n",
              "      <th>Trip</th>\n",
              "      <th>Safety equipment</th>\n",
              "      <th>Pedestrian location</th>\n",
              "      <th>Pedestrian action</th>\n",
              "      <th>Pedestrian alone</th>\n",
              "      <th>Birth year</th>\n",
              "      <th>Year</th>\n",
              "      <th>Safety equipment existence</th>\n",
              "      <th>Safety equipment use</th>\n",
              "    </tr>\n",
              "  </thead>\n",
              "  <tbody>\n",
              "    <tr>\n",
              "      <th>count</th>\n",
              "      <td>1.876005e+06</td>\n",
              "      <td>1.775639e+06</td>\n",
              "      <td>1.876005e+06</td>\n",
              "      <td>1.876005e+06</td>\n",
              "      <td>1.876005e+06</td>\n",
              "      <td>1.875636e+06</td>\n",
              "      <td>1.876005e+06</td>\n",
              "      <td>1.874341e+06</td>\n",
              "      <td>1.874232e+06</td>\n",
              "      <td>1.874299e+06</td>\n",
              "      <td>1.873654e+06</td>\n",
              "      <td>1.876005e+06</td>\n",
              "      <td>1.876005e+06</td>\n",
              "      <td>1.876005e+06</td>\n",
              "    </tr>\n",
              "    <tr>\n",
              "      <th>mean</th>\n",
              "      <td>2.009992e+11</td>\n",
              "      <td>1.283953e+00</td>\n",
              "      <td>1.341410e+00</td>\n",
              "      <td>2.513080e+00</td>\n",
              "      <td>1.328885e+00</td>\n",
              "      <td>3.075555e+00</td>\n",
              "      <td>1.780090e+01</td>\n",
              "      <td>2.242522e-01</td>\n",
              "      <td>2.762860e-01</td>\n",
              "      <td>1.023823e-01</td>\n",
              "      <td>1.972682e+03</td>\n",
              "      <td>2.009991e+03</td>\n",
              "      <td>1.652568e+00</td>\n",
              "      <td>1.275226e+00</td>\n",
              "    </tr>\n",
              "    <tr>\n",
              "      <th>std</th>\n",
              "      <td>3.464316e+08</td>\n",
              "      <td>9.058402e-01</td>\n",
              "      <td>6.334311e-01</td>\n",
              "      <td>1.332745e+00</td>\n",
              "      <td>4.698081e-01</td>\n",
              "      <td>2.676239e+00</td>\n",
              "      <td>1.973449e+01</td>\n",
              "      <td>8.722973e-01</td>\n",
              "      <td>1.051576e+00</td>\n",
              "      <td>3.800489e-01</td>\n",
              "      <td>1.834448e+01</td>\n",
              "      <td>3.464368e+00</td>\n",
              "      <td>1.930204e+00</td>\n",
              "      <td>7.948490e-01</td>\n",
              "    </tr>\n",
              "    <tr>\n",
              "      <th>min</th>\n",
              "      <td>2.005000e+11</td>\n",
              "      <td>0.000000e+00</td>\n",
              "      <td>1.000000e+00</td>\n",
              "      <td>1.000000e+00</td>\n",
              "      <td>1.000000e+00</td>\n",
              "      <td>0.000000e+00</td>\n",
              "      <td>0.000000e+00</td>\n",
              "      <td>0.000000e+00</td>\n",
              "      <td>0.000000e+00</td>\n",
              "      <td>0.000000e+00</td>\n",
              "      <td>1.896000e+03</td>\n",
              "      <td>2.005000e+03</td>\n",
              "      <td>0.000000e+00</td>\n",
              "      <td>0.000000e+00</td>\n",
              "    </tr>\n",
              "    <tr>\n",
              "      <th>25%</th>\n",
              "      <td>2.007000e+11</td>\n",
              "      <td>1.000000e+00</td>\n",
              "      <td>1.000000e+00</td>\n",
              "      <td>1.000000e+00</td>\n",
              "      <td>1.000000e+00</td>\n",
              "      <td>0.000000e+00</td>\n",
              "      <td>1.100000e+01</td>\n",
              "      <td>0.000000e+00</td>\n",
              "      <td>0.000000e+00</td>\n",
              "      <td>0.000000e+00</td>\n",
              "      <td>1.961000e+03</td>\n",
              "      <td>2.007000e+03</td>\n",
              "      <td>1.000000e+00</td>\n",
              "      <td>1.000000e+00</td>\n",
              "    </tr>\n",
              "    <tr>\n",
              "      <th>50%</th>\n",
              "      <td>2.010000e+11</td>\n",
              "      <td>1.000000e+00</td>\n",
              "      <td>1.000000e+00</td>\n",
              "      <td>3.000000e+00</td>\n",
              "      <td>1.000000e+00</td>\n",
              "      <td>4.000000e+00</td>\n",
              "      <td>1.100000e+01</td>\n",
              "      <td>0.000000e+00</td>\n",
              "      <td>0.000000e+00</td>\n",
              "      <td>0.000000e+00</td>\n",
              "      <td>1.976000e+03</td>\n",
              "      <td>2.010000e+03</td>\n",
              "      <td>1.000000e+00</td>\n",
              "      <td>1.000000e+00</td>\n",
              "    </tr>\n",
              "    <tr>\n",
              "      <th>75%</th>\n",
              "      <td>2.013000e+11</td>\n",
              "      <td>1.000000e+00</td>\n",
              "      <td>2.000000e+00</td>\n",
              "      <td>4.000000e+00</td>\n",
              "      <td>2.000000e+00</td>\n",
              "      <td>5.000000e+00</td>\n",
              "      <td>2.100000e+01</td>\n",
              "      <td>0.000000e+00</td>\n",
              "      <td>0.000000e+00</td>\n",
              "      <td>0.000000e+00</td>\n",
              "      <td>1.987000e+03</td>\n",
              "      <td>2.013000e+03</td>\n",
              "      <td>2.000000e+00</td>\n",
              "      <td>1.000000e+00</td>\n",
              "    </tr>\n",
              "    <tr>\n",
              "      <th>max</th>\n",
              "      <td>2.016001e+11</td>\n",
              "      <td>9.000000e+00</td>\n",
              "      <td>4.000000e+00</td>\n",
              "      <td>4.000000e+00</td>\n",
              "      <td>2.000000e+00</td>\n",
              "      <td>9.000000e+00</td>\n",
              "      <td>9.300000e+01</td>\n",
              "      <td>8.000000e+00</td>\n",
              "      <td>9.000000e+00</td>\n",
              "      <td>3.000000e+00</td>\n",
              "      <td>2.016000e+03</td>\n",
              "      <td>2.016000e+03</td>\n",
              "      <td>9.000000e+00</td>\n",
              "      <td>3.000000e+00</td>\n",
              "    </tr>\n",
              "  </tbody>\n",
              "</table>\n",
              "</div>\n",
              "    <div class=\"colab-df-buttons\">\n",
              "\n",
              "  <div class=\"colab-df-container\">\n",
              "    <button class=\"colab-df-convert\" onclick=\"convertToInteractive('df-2c950a07-2610-493c-853c-1eb54920c528')\"\n",
              "            title=\"Convert this dataframe to an interactive table.\"\n",
              "            style=\"display:none;\">\n",
              "\n",
              "  <svg xmlns=\"http://www.w3.org/2000/svg\" height=\"24px\" viewBox=\"0 -960 960 960\">\n",
              "    <path d=\"M120-120v-720h720v720H120Zm60-500h600v-160H180v160Zm220 220h160v-160H400v160Zm0 220h160v-160H400v160ZM180-400h160v-160H180v160Zm440 0h160v-160H620v160ZM180-180h160v-160H180v160Zm440 0h160v-160H620v160Z\"/>\n",
              "  </svg>\n",
              "    </button>\n",
              "\n",
              "  <style>\n",
              "    .colab-df-container {\n",
              "      display:flex;\n",
              "      gap: 12px;\n",
              "    }\n",
              "\n",
              "    .colab-df-convert {\n",
              "      background-color: #E8F0FE;\n",
              "      border: none;\n",
              "      border-radius: 50%;\n",
              "      cursor: pointer;\n",
              "      display: none;\n",
              "      fill: #1967D2;\n",
              "      height: 32px;\n",
              "      padding: 0 0 0 0;\n",
              "      width: 32px;\n",
              "    }\n",
              "\n",
              "    .colab-df-convert:hover {\n",
              "      background-color: #E2EBFA;\n",
              "      box-shadow: 0px 1px 2px rgba(60, 64, 67, 0.3), 0px 1px 3px 1px rgba(60, 64, 67, 0.15);\n",
              "      fill: #174EA6;\n",
              "    }\n",
              "\n",
              "    .colab-df-buttons div {\n",
              "      margin-bottom: 4px;\n",
              "    }\n",
              "\n",
              "    [theme=dark] .colab-df-convert {\n",
              "      background-color: #3B4455;\n",
              "      fill: #D2E3FC;\n",
              "    }\n",
              "\n",
              "    [theme=dark] .colab-df-convert:hover {\n",
              "      background-color: #434B5C;\n",
              "      box-shadow: 0px 1px 3px 1px rgba(0, 0, 0, 0.15);\n",
              "      filter: drop-shadow(0px 1px 2px rgba(0, 0, 0, 0.3));\n",
              "      fill: #FFFFFF;\n",
              "    }\n",
              "  </style>\n",
              "\n",
              "    <script>\n",
              "      const buttonEl =\n",
              "        document.querySelector('#df-2c950a07-2610-493c-853c-1eb54920c528 button.colab-df-convert');\n",
              "      buttonEl.style.display =\n",
              "        google.colab.kernel.accessAllowed ? 'block' : 'none';\n",
              "\n",
              "      async function convertToInteractive(key) {\n",
              "        const element = document.querySelector('#df-2c950a07-2610-493c-853c-1eb54920c528');\n",
              "        const dataTable =\n",
              "          await google.colab.kernel.invokeFunction('convertToInteractive',\n",
              "                                                    [key], {});\n",
              "        if (!dataTable) return;\n",
              "\n",
              "        const docLinkHtml = 'Like what you see? Visit the ' +\n",
              "          '<a target=\"_blank\" href=https://colab.research.google.com/notebooks/data_table.ipynb>data table notebook</a>'\n",
              "          + ' to learn more about interactive tables.';\n",
              "        element.innerHTML = '';\n",
              "        dataTable['output_type'] = 'display_data';\n",
              "        await google.colab.output.renderOutput(dataTable, element);\n",
              "        const docLink = document.createElement('div');\n",
              "        docLink.innerHTML = docLinkHtml;\n",
              "        element.appendChild(docLink);\n",
              "      }\n",
              "    </script>\n",
              "  </div>\n",
              "\n",
              "\n",
              "<div id=\"df-6dd15d13-9476-4011-8a86-c91b8e3df6f1\">\n",
              "  <button class=\"colab-df-quickchart\" onclick=\"quickchart('df-6dd15d13-9476-4011-8a86-c91b8e3df6f1')\"\n",
              "            title=\"Suggest charts\"\n",
              "            style=\"display:none;\">\n",
              "\n",
              "<svg xmlns=\"http://www.w3.org/2000/svg\" height=\"24px\"viewBox=\"0 0 24 24\"\n",
              "     width=\"24px\">\n",
              "    <g>\n",
              "        <path d=\"M19 3H5c-1.1 0-2 .9-2 2v14c0 1.1.9 2 2 2h14c1.1 0 2-.9 2-2V5c0-1.1-.9-2-2-2zM9 17H7v-7h2v7zm4 0h-2V7h2v10zm4 0h-2v-4h2v4z\"/>\n",
              "    </g>\n",
              "</svg>\n",
              "  </button>\n",
              "\n",
              "<style>\n",
              "  .colab-df-quickchart {\n",
              "      --bg-color: #E8F0FE;\n",
              "      --fill-color: #1967D2;\n",
              "      --hover-bg-color: #E2EBFA;\n",
              "      --hover-fill-color: #174EA6;\n",
              "      --disabled-fill-color: #AAA;\n",
              "      --disabled-bg-color: #DDD;\n",
              "  }\n",
              "\n",
              "  [theme=dark] .colab-df-quickchart {\n",
              "      --bg-color: #3B4455;\n",
              "      --fill-color: #D2E3FC;\n",
              "      --hover-bg-color: #434B5C;\n",
              "      --hover-fill-color: #FFFFFF;\n",
              "      --disabled-bg-color: #3B4455;\n",
              "      --disabled-fill-color: #666;\n",
              "  }\n",
              "\n",
              "  .colab-df-quickchart {\n",
              "    background-color: var(--bg-color);\n",
              "    border: none;\n",
              "    border-radius: 50%;\n",
              "    cursor: pointer;\n",
              "    display: none;\n",
              "    fill: var(--fill-color);\n",
              "    height: 32px;\n",
              "    padding: 0;\n",
              "    width: 32px;\n",
              "  }\n",
              "\n",
              "  .colab-df-quickchart:hover {\n",
              "    background-color: var(--hover-bg-color);\n",
              "    box-shadow: 0 1px 2px rgba(60, 64, 67, 0.3), 0 1px 3px 1px rgba(60, 64, 67, 0.15);\n",
              "    fill: var(--button-hover-fill-color);\n",
              "  }\n",
              "\n",
              "  .colab-df-quickchart-complete:disabled,\n",
              "  .colab-df-quickchart-complete:disabled:hover {\n",
              "    background-color: var(--disabled-bg-color);\n",
              "    fill: var(--disabled-fill-color);\n",
              "    box-shadow: none;\n",
              "  }\n",
              "\n",
              "  .colab-df-spinner {\n",
              "    border: 2px solid var(--fill-color);\n",
              "    border-color: transparent;\n",
              "    border-bottom-color: var(--fill-color);\n",
              "    animation:\n",
              "      spin 1s steps(1) infinite;\n",
              "  }\n",
              "\n",
              "  @keyframes spin {\n",
              "    0% {\n",
              "      border-color: transparent;\n",
              "      border-bottom-color: var(--fill-color);\n",
              "      border-left-color: var(--fill-color);\n",
              "    }\n",
              "    20% {\n",
              "      border-color: transparent;\n",
              "      border-left-color: var(--fill-color);\n",
              "      border-top-color: var(--fill-color);\n",
              "    }\n",
              "    30% {\n",
              "      border-color: transparent;\n",
              "      border-left-color: var(--fill-color);\n",
              "      border-top-color: var(--fill-color);\n",
              "      border-right-color: var(--fill-color);\n",
              "    }\n",
              "    40% {\n",
              "      border-color: transparent;\n",
              "      border-right-color: var(--fill-color);\n",
              "      border-top-color: var(--fill-color);\n",
              "    }\n",
              "    60% {\n",
              "      border-color: transparent;\n",
              "      border-right-color: var(--fill-color);\n",
              "    }\n",
              "    80% {\n",
              "      border-color: transparent;\n",
              "      border-right-color: var(--fill-color);\n",
              "      border-bottom-color: var(--fill-color);\n",
              "    }\n",
              "    90% {\n",
              "      border-color: transparent;\n",
              "      border-bottom-color: var(--fill-color);\n",
              "    }\n",
              "  }\n",
              "</style>\n",
              "\n",
              "  <script>\n",
              "    async function quickchart(key) {\n",
              "      const quickchartButtonEl =\n",
              "        document.querySelector('#' + key + ' button');\n",
              "      quickchartButtonEl.disabled = true;  // To prevent multiple clicks.\n",
              "      quickchartButtonEl.classList.add('colab-df-spinner');\n",
              "      try {\n",
              "        const charts = await google.colab.kernel.invokeFunction(\n",
              "            'suggestCharts', [key], {});\n",
              "      } catch (error) {\n",
              "        console.error('Error during call to suggestCharts:', error);\n",
              "      }\n",
              "      quickchartButtonEl.classList.remove('colab-df-spinner');\n",
              "      quickchartButtonEl.classList.add('colab-df-quickchart-complete');\n",
              "    }\n",
              "    (() => {\n",
              "      let quickchartButtonEl =\n",
              "        document.querySelector('#df-6dd15d13-9476-4011-8a86-c91b8e3df6f1 button');\n",
              "      quickchartButtonEl.style.display =\n",
              "        google.colab.kernel.accessAllowed ? 'block' : 'none';\n",
              "    })();\n",
              "  </script>\n",
              "</div>\n",
              "    </div>\n",
              "  </div>\n"
            ],
            "application/vnd.google.colaboratory.intrinsic+json": {
              "type": "dataframe",
              "summary": "{\n  \"name\": \"df\",\n  \"rows\": 8,\n  \"fields\": [\n    {\n      \"column\": \"Num_Acc\",\n      \"properties\": {\n        \"dtype\": \"number\",\n        \"std\": 92972616109.99353,\n        \"min\": 1876005.0,\n        \"max\": 201600059432.0,\n        \"num_unique_values\": 8,\n        \"samples\": [\n          200999180850.09753,\n          201000012107.0,\n          1876005.0\n        ],\n        \"semantic_type\": \"\",\n        \"description\": \"\"\n      }\n    },\n    {\n      \"column\": \"Place\",\n      \"properties\": {\n        \"dtype\": \"number\",\n        \"std\": 627782.4722334312,\n        \"min\": 0.0,\n        \"max\": 1775639.0,\n        \"num_unique_values\": 6,\n        \"samples\": [\n          1775639.0,\n          1.2839529881918565,\n          9.0\n        ],\n        \"semantic_type\": \"\",\n        \"description\": \"\"\n      }\n    },\n    {\n      \"column\": \"User type\",\n      \"properties\": {\n        \"dtype\": \"number\",\n        \"std\": 663267.3742076107,\n        \"min\": 0.633431058324638,\n        \"max\": 1876005.0,\n        \"num_unique_values\": 6,\n        \"samples\": [\n          1876005.0,\n          1.3414100708686811,\n          4.0\n        ],\n        \"semantic_type\": \"\",\n        \"description\": \"\"\n      }\n    },\n    {\n      \"column\": \"Severity\",\n      \"properties\": {\n        \"dtype\": \"number\",\n        \"std\": 663267.0776784255,\n        \"min\": 1.0,\n        \"max\": 1876005.0,\n        \"num_unique_values\": 6,\n        \"samples\": [\n          1876005.0,\n          2.513080189018686,\n          4.0\n        ],\n        \"semantic_type\": \"\",\n        \"description\": \"\"\n      }\n    },\n    {\n      \"column\": \"Sex\",\n      \"properties\": {\n        \"dtype\": \"number\",\n        \"std\": 663267.4841190574,\n        \"min\": 0.4698080559539198,\n        \"max\": 1876005.0,\n        \"num_unique_values\": 5,\n        \"samples\": [\n          1.3288845178984066,\n          2.0,\n          0.4698080559539198\n        ],\n        \"semantic_type\": \"\",\n        \"description\": \"\"\n      }\n    },\n    {\n      \"column\": \"Trip\",\n      \"properties\": {\n        \"dtype\": \"number\",\n        \"std\": 663136.2676783089,\n        \"min\": 0.0,\n        \"max\": 1875636.0,\n        \"num_unique_values\": 7,\n        \"samples\": [\n          1875636.0,\n          3.0755551716857643,\n          5.0\n        ],\n        \"semantic_type\": \"\",\n        \"description\": \"\"\n      }\n    },\n    {\n      \"column\": \"Safety equipment\",\n      \"properties\": {\n        \"dtype\": \"number\",\n        \"std\": 663259.1642770291,\n        \"min\": 0.0,\n        \"max\": 1876005.0,\n        \"num_unique_values\": 7,\n        \"samples\": [\n          1876005.0,\n          17.800901383525098,\n          21.0\n        ],\n        \"semantic_type\": \"\",\n        \"description\": \"\"\n      }\n    },\n    {\n      \"column\": \"Pedestrian location\",\n      \"properties\": {\n        \"dtype\": \"number\",\n        \"std\": 662679.1562385691,\n        \"min\": 0.0,\n        \"max\": 1874341.0,\n        \"num_unique_values\": 5,\n        \"samples\": [\n          0.22425215048915859,\n          8.0,\n          0.8722973225757885\n        ],\n        \"semantic_type\": \"\",\n        \"description\": \"\"\n      }\n    },\n    {\n      \"column\": \"Pedestrian action\",\n      \"properties\": {\n        \"dtype\": \"number\",\n        \"std\": 662640.5567298367,\n        \"min\": 0.0,\n        \"max\": 1874232.0,\n        \"num_unique_values\": 5,\n        \"samples\": [\n          0.2762859667319734,\n          9.0,\n          1.0515757990699326\n        ],\n        \"semantic_type\": \"\",\n        \"description\": \"\"\n      }\n    },\n    {\n      \"column\": \"Pedestrian alone\",\n      \"properties\": {\n        \"dtype\": \"number\",\n        \"std\": 662664.5905470446,\n        \"min\": 0.0,\n        \"max\": 1874299.0,\n        \"num_unique_values\": 5,\n        \"samples\": [\n          0.10238227732074764,\n          3.0,\n          0.38004894267773054\n        ],\n        \"semantic_type\": \"\",\n        \"description\": \"\"\n      }\n    },\n    {\n      \"column\": \"Birth year\",\n      \"properties\": {\n        \"dtype\": \"number\",\n        \"std\": 661839.7219750108,\n        \"min\": 18.34448388966358,\n        \"max\": 1873654.0,\n        \"num_unique_values\": 8,\n        \"samples\": [\n          1972.6822636409925,\n          1976.0,\n          1873654.0\n        ],\n        \"semantic_type\": \"\",\n        \"description\": \"\"\n      }\n    },\n    {\n      \"column\": \"Year\",\n      \"properties\": {\n        \"dtype\": \"number\",\n        \"std\": 662658.9535404952,\n        \"min\": 3.4643677305890304,\n        \"max\": 1876005.0,\n        \"num_unique_values\": 8,\n        \"samples\": [\n          2009.9914520483687,\n          2010.0,\n          1876005.0\n        ],\n        \"semantic_type\": \"\",\n        \"description\": \"\"\n      }\n    },\n    {\n      \"column\": \"Safety equipment existence\",\n      \"properties\": {\n        \"dtype\": \"number\",\n        \"std\": 663267.0909693444,\n        \"min\": 0.0,\n        \"max\": 1876005.0,\n        \"num_unique_values\": 7,\n        \"samples\": [\n          1876005.0,\n          1.6525675571227156,\n          2.0\n        ],\n        \"semantic_type\": \"\",\n        \"description\": \"\"\n      }\n    },\n    {\n      \"column\": \"Safety equipment use\",\n      \"properties\": {\n        \"dtype\": \"number\",\n        \"std\": 663267.5209201383,\n        \"min\": 0.0,\n        \"max\": 1876005.0,\n        \"num_unique_values\": 6,\n        \"samples\": [\n          1876005.0,\n          1.2752258122979416,\n          3.0\n        ],\n        \"semantic_type\": \"\",\n        \"description\": \"\"\n      }\n    }\n  ]\n}"
            }
          },
          "metadata": {},
          "execution_count": 115
        }
      ]
    },
    {
      "cell_type": "markdown",
      "source": [
        "## Place"
      ],
      "metadata": {
        "id": "MSiQ3nZgtLmh"
      }
    },
    {
      "cell_type": "markdown",
      "source": [
        "Allows to locate the place occupied in the vehicle by the user at the time of the accident.\n",
        "\n",
        "Meaning differs based on the type of vehicle.\n",
        "\n",
        "*   Moto/side-car = motorcycle/side-car\n",
        "*   Voiture = car\n",
        "*   Transport en commun = public transportation\n",
        "*   10 = Pedestrian (not applicable)\n",
        "\n",
        "0 may mean that the accident happened in a year, when this data was not recorded. Namely from 2005, 2006, 2007, or 2008.\n",
        "\n",
        "1, and 2 are the most common. 1 is usually the driver's place in countries where cars drive on the right, and 2 is the passenger's seat next to that.\n",
        "\n",
        "\n"
      ],
      "metadata": {
        "id": "FHfBelIzvHIV"
      }
    },
    {
      "cell_type": "markdown",
      "source": [
        "![picture](https://drive.google.com/uc?id=1cGRhGEkm44BivoHHKj5kO03oFFQN2DOa)"
      ],
      "metadata": {
        "id": "tQlBwDMQu4AX"
      }
    },
    {
      "cell_type": "code",
      "source": [
        "df[\"Place\"].value_counts()"
      ],
      "metadata": {
        "colab": {
          "base_uri": "https://localhost:8080/"
        },
        "id": "HTIHlgJBtKuz",
        "outputId": "10844eb3-ba2e-41b0-f88a-448af4c906a0"
      },
      "execution_count": 36,
      "outputs": [
        {
          "output_type": "execute_result",
          "data": {
            "text/plain": [
              "1.0    1399666\n",
              "2.0     196453\n",
              "0.0      60766\n",
              "3.0      45922\n",
              "4.0      39411\n",
              "5.0      23806\n",
              "8.0       4620\n",
              "7.0       2115\n",
              "6.0       1620\n",
              "9.0       1260\n",
              "Name: Place, dtype: int64"
            ]
          },
          "metadata": {},
          "execution_count": 36
        }
      ]
    },
    {
      "cell_type": "code",
      "source": [
        "df[\"Year\"] = df[\"Num_Acc\"].map(lambda x: int(x/100000000))"
      ],
      "metadata": {
        "id": "hA7ebTde7FFY"
      },
      "execution_count": 65,
      "outputs": []
    },
    {
      "cell_type": "code",
      "source": [
        "df[df[\"Place\"] == 0][\"Year\"].value_counts()"
      ],
      "metadata": {
        "colab": {
          "base_uri": "https://localhost:8080/"
        },
        "id": "5EbvHwUu5NTj",
        "outputId": "12566e8d-546c-4c68-cc3a-434e3131be51"
      },
      "execution_count": 81,
      "outputs": [
        {
          "output_type": "execute_result",
          "data": {
            "text/plain": [
              "2005    15652\n",
              "2007    15330\n",
              "2006    15202\n",
              "2008    14582\n",
              "Name: Year, dtype: int64"
            ]
          },
          "metadata": {},
          "execution_count": 81
        }
      ]
    },
    {
      "cell_type": "markdown",
      "source": [
        "## User type\n",
        "\n",
        "*   1 - Driver\n",
        "*   2 - Passenger\n",
        "*   3 - Pedestrian\n",
        "*   4 - Pedestrian in rollerblade or scooter\n",
        "\n",
        "Type 4 was moved in datasets after 2018, but this dataset does not contain data from 2017 and onwards."
      ],
      "metadata": {
        "id": "1WW1WxrK8LA9"
      }
    },
    {
      "cell_type": "code",
      "source": [
        "df[\"User type\"].value_counts()"
      ],
      "metadata": {
        "colab": {
          "base_uri": "https://localhost:8080/"
        },
        "id": "3qYjNqqR5zFa",
        "outputId": "4bb19aa8-0716-4ba7-f5ee-d1a6144036e6"
      },
      "execution_count": 74,
      "outputs": [
        {
          "output_type": "execute_result",
          "data": {
            "text/plain": [
              "1    1397701\n",
              "2     319388\n",
              "3     155649\n",
              "4       3267\n",
              "Name: User type, dtype: int64"
            ]
          },
          "metadata": {},
          "execution_count": 74
        }
      ]
    },
    {
      "cell_type": "markdown",
      "source": [
        "## Severity\n",
        "\n",
        "*   1 - Unscathed/Unharmed\n",
        "*   2 - Killed\n",
        "*   3 - Hospitalized wounded\n",
        "*   4 - Light injury\n",
        "\n",
        "The extremities are most common."
      ],
      "metadata": {
        "id": "cpC0z8Mp9E2e"
      }
    },
    {
      "cell_type": "code",
      "source": [
        "df[\"Severity\"].value_counts()"
      ],
      "metadata": {
        "colab": {
          "base_uri": "https://localhost:8080/"
        },
        "id": "femUyzWY8nBr",
        "outputId": "cac6759a-0e0f-4b08-c925-f290ce2639f0"
      },
      "execution_count": 76,
      "outputs": [
        {
          "output_type": "execute_result",
          "data": {
            "text/plain": [
              "1    764874\n",
              "4    666873\n",
              "3    393669\n",
              "2     50589\n",
              "Name: Severity, dtype: int64"
            ]
          },
          "metadata": {},
          "execution_count": 76
        }
      ]
    },
    {
      "cell_type": "markdown",
      "source": [
        "## Sex\n",
        "\n",
        "*   1 - Male\n",
        "*   2 - Female\n",
        "\n",
        "There are about twice as many males compared to females."
      ],
      "metadata": {
        "id": "3Fh8d26e9ysj"
      }
    },
    {
      "cell_type": "code",
      "source": [
        "df[\"Sex\"].value_counts()"
      ],
      "metadata": {
        "colab": {
          "base_uri": "https://localhost:8080/"
        },
        "id": "BQCnNcDc9OFB",
        "outputId": "92ac4aaa-63f7-4d25-e12c-baf594f9f875"
      },
      "execution_count": 77,
      "outputs": [
        {
          "output_type": "execute_result",
          "data": {
            "text/plain": [
              "1    1259016\n",
              "2     616989\n",
              "Name: Sex, dtype: int64"
            ]
          },
          "metadata": {},
          "execution_count": 77
        }
      ]
    },
    {
      "cell_type": "markdown",
      "source": [
        "## Trip\n",
        "\n",
        "Reason of travel at the time of accident.\n",
        "\n",
        "*   1 - Home - Work\n",
        "*   2 - Home - School\n",
        "*   3 - Shopping\n",
        "*   4 - Professional use\n",
        "*   5 - Walking- Leisure\n",
        "*   9 - Other\n",
        "*   0 - no information"
      ],
      "metadata": {
        "id": "d6c2ooFm-S5N"
      }
    },
    {
      "cell_type": "code",
      "source": [
        "df[\"Trip\"].value_counts()"
      ],
      "metadata": {
        "colab": {
          "base_uri": "https://localhost:8080/"
        },
        "id": "nfIVg9LJ94UH",
        "outputId": "ed2e614a-36d4-4c44-f3e4-3ce1b22907e1"
      },
      "execution_count": 78,
      "outputs": [
        {
          "output_type": "execute_result",
          "data": {
            "text/plain": [
              "5.0    686902\n",
              "0.0    550516\n",
              "1.0    242558\n",
              "4.0    184032\n",
              "9.0    126393\n",
              "3.0     47419\n",
              "2.0     37816\n",
              "Name: Trip, dtype: int64"
            ]
          },
          "metadata": {},
          "execution_count": 78
        }
      ]
    },
    {
      "cell_type": "code",
      "source": [
        "len(df[df[\"Trip\"] == 0]) / len(df)"
      ],
      "metadata": {
        "colab": {
          "base_uri": "https://localhost:8080/"
        },
        "id": "mrnl-ZZOHz79",
        "outputId": "6ff51a0a-664d-4107-9ebe-0bc13d9f8d16"
      },
      "execution_count": 146,
      "outputs": [
        {
          "output_type": "execute_result",
          "data": {
            "text/plain": [
              "0.2934512434668351"
            ]
          },
          "metadata": {},
          "execution_count": 146
        }
      ]
    },
    {
      "cell_type": "markdown",
      "source": [
        "## Safety equipment\n",
        "\n",
        "Consists of two characters, both of which have meaning.\n",
        "\n",
        "Missing values are filled with 00, which means no information.\n",
        "\n",
        "First character: existance of safety equipment.\n",
        "*  1 - Belt\n",
        "*  2 - Helmet\n",
        "*  3 - Child restraint\n",
        "*  4 - Reflective equipment\n",
        "*  9 - Other\n",
        "\n",
        "Second character: use of safety equipment.\n",
        "*  1 - Yes\n",
        "*  2 - No\n",
        "*  3 - Not determinable"
      ],
      "metadata": {
        "id": "_arDir6h_P8_"
      }
    },
    {
      "cell_type": "code",
      "source": [
        "df[\"Safety equipment\"].fillna(0, inplace=True)\n",
        "df[\"Safety equipment existence\"] = df[\"Safety equipment\"].map(lambda x: int(x/10))\n",
        "df[\"Safety equipment use\"] = df[\"Safety equipment\"].map(lambda x: int(x % 10))"
      ],
      "metadata": {
        "id": "yAtdph6j-ytj"
      },
      "execution_count": 99,
      "outputs": []
    },
    {
      "cell_type": "code",
      "source": [
        "df[\"Safety equipment existence\"].value_counts()"
      ],
      "metadata": {
        "colab": {
          "base_uri": "https://localhost:8080/"
        },
        "id": "zIMHT9Ab_TTt",
        "outputId": "a0742bd8-c262-4b03-9e8c-bebdbe64836b"
      },
      "execution_count": 100,
      "outputs": [
        {
          "output_type": "execute_result",
          "data": {
            "text/plain": [
              "1    1229254\n",
              "2     399341\n",
              "0     115781\n",
              "9     111988\n",
              "3      14167\n",
              "4       5474\n",
              "Name: Safety equipment existence, dtype: int64"
            ]
          },
          "metadata": {},
          "execution_count": 100
        }
      ]
    },
    {
      "cell_type": "code",
      "source": [
        "df[\"Safety equipment use\"].value_counts()"
      ],
      "metadata": {
        "colab": {
          "base_uri": "https://localhost:8080/"
        },
        "id": "EByc-6lN_nby",
        "outputId": "c3147d50-4b38-46e6-fd69-207ba008189d"
      },
      "execution_count": 101,
      "outputs": [
        {
          "output_type": "execute_result",
          "data": {
            "text/plain": [
              "1    1410283\n",
              "3     287205\n",
              "0     118301\n",
              "2      60216\n",
              "Name: Safety equipment use, dtype: int64"
            ]
          },
          "metadata": {},
          "execution_count": 101
        }
      ]
    },
    {
      "cell_type": "markdown",
      "source": [
        "## Pedestrian location\n",
        "\n",
        "On pavement:\n",
        "*  1 - At + 50 m from the crosswalk\n",
        "*  2 - At - 50 m from crosswalk\n",
        "On crosswalk:\n",
        "*  3 - Without light signal\n",
        "*  4 - With light signal\n",
        "Misc:\n",
        "*  5 - On sidewalk\n",
        "*  6 - On verge?\n",
        "*  7 - On refuge or BAU\n",
        "*  8 - On against aisle?\n",
        "\n",
        "*  0 - Not applicable (because it was not a pedestrian)"
      ],
      "metadata": {
        "id": "Y3UZsE2aAugy"
      }
    },
    {
      "cell_type": "code",
      "source": [
        "df[\"Pedestrian location\"].value_counts()"
      ],
      "metadata": {
        "colab": {
          "base_uri": "https://localhost:8080/"
        },
        "id": "GLCE8h7DAgNB",
        "outputId": "e47c22f7-cd05-405e-fa65-c88413c5163b"
      },
      "execution_count": 102,
      "outputs": [
        {
          "output_type": "execute_result",
          "data": {
            "text/plain": [
              "0.0    1732439\n",
              "4.0      40011\n",
              "2.0      36711\n",
              "3.0      27838\n",
              "1.0      22841\n",
              "5.0       9737\n",
              "6.0       3060\n",
              "8.0       1531\n",
              "7.0        173\n",
              "Name: Pedestrian location, dtype: int64"
            ]
          },
          "metadata": {},
          "execution_count": 102
        }
      ]
    },
    {
      "cell_type": "code",
      "source": [
        "df[df[\"User type\"] < 3][\"Pedestrian location\"].value_counts()"
      ],
      "metadata": {
        "colab": {
          "base_uri": "https://localhost:8080/"
        },
        "id": "EnvnCivXA1xw",
        "outputId": "de8accce-03d8-47ab-f1a9-97075f946ec2"
      },
      "execution_count": 107,
      "outputs": [
        {
          "output_type": "execute_result",
          "data": {
            "text/plain": [
              "0.0    1715454\n",
              "Name: Pedestrian location, dtype: int64"
            ]
          },
          "metadata": {},
          "execution_count": 107
        }
      ]
    },
    {
      "cell_type": "code",
      "source": [
        "df[df[\"User type\"] >= 3][\"Pedestrian location\"].value_counts()"
      ],
      "metadata": {
        "colab": {
          "base_uri": "https://localhost:8080/"
        },
        "id": "7GH4mx9WEYD1",
        "outputId": "844eef21-007b-4885-e956-a9691228b090"
      },
      "execution_count": 111,
      "outputs": [
        {
          "output_type": "execute_result",
          "data": {
            "text/plain": [
              "4.0    40011\n",
              "2.0    36711\n",
              "3.0    27838\n",
              "1.0    22841\n",
              "0.0    16985\n",
              "5.0     9737\n",
              "6.0     3060\n",
              "8.0     1531\n",
              "7.0      173\n",
              "Name: Pedestrian location, dtype: int64"
            ]
          },
          "metadata": {},
          "execution_count": 111
        }
      ]
    },
    {
      "cell_type": "code",
      "source": [
        "len(df[(df[\"User type\"] >= 3) & (df[\"Pedestrian location\"] == 0)])/len(df[(df[\"User type\"] >= 3)])"
      ],
      "metadata": {
        "colab": {
          "base_uri": "https://localhost:8080/"
        },
        "id": "UbF98nayITAa",
        "outputId": "73ecdbf0-9701-4af7-b26b-d6f51add5780"
      },
      "execution_count": 148,
      "outputs": [
        {
          "output_type": "execute_result",
          "data": {
            "text/plain": [
              "0.10688036446927937"
            ]
          },
          "metadata": {},
          "execution_count": 148
        }
      ]
    },
    {
      "cell_type": "markdown",
      "source": [
        "## Pedestrian action\n",
        "\n",
        "Moving:\n",
        "*  0 - Unknown or not applicable\n",
        "*  1 - Direction of striking vehicle\n",
        "*  2 - Opposite vehicle direction\n",
        "\n",
        "Miscellaneous:\n",
        "*  3 - Crossing\n",
        "*  4 - Masked\n",
        "*  5 - Playing - running\n",
        "*  6 - With animal\n",
        "*  9 - Other"
      ],
      "metadata": {
        "id": "7arUsssXECOf"
      }
    },
    {
      "cell_type": "code",
      "source": [
        "df[\"Pedestrian action\"].value_counts()"
      ],
      "metadata": {
        "colab": {
          "base_uri": "https://localhost:8080/"
        },
        "id": "oxBTnBDfEO4o",
        "outputId": "63a143e1-dfdd-4966-e310-97d2daf883ec"
      },
      "execution_count": 110,
      "outputs": [
        {
          "output_type": "execute_result",
          "data": {
            "text/plain": [
              "0.0    1723439\n",
              "3.0     115011\n",
              "9.0      10688\n",
              "5.0       9282\n",
              "1.0       8441\n",
              "2.0       4215\n",
              "4.0       2809\n",
              "6.0        347\n",
              "Name: Pedestrian action, dtype: int64"
            ]
          },
          "metadata": {},
          "execution_count": 110
        }
      ]
    },
    {
      "cell_type": "code",
      "source": [
        "df[df[\"User type\"] < 3][\"Pedestrian action\"].value_counts()"
      ],
      "metadata": {
        "colab": {
          "base_uri": "https://localhost:8080/"
        },
        "id": "cyBufzeqBAA1",
        "outputId": "7e1bcc8b-2e3a-49e1-d9c8-b7441788f661"
      },
      "execution_count": 109,
      "outputs": [
        {
          "output_type": "execute_result",
          "data": {
            "text/plain": [
              "0.0    1715323\n",
              "Name: Pedestrian action, dtype: int64"
            ]
          },
          "metadata": {},
          "execution_count": 109
        }
      ]
    },
    {
      "cell_type": "code",
      "source": [
        "df[df[\"User type\"] >= 3][\"Pedestrian action\"].value_counts()"
      ],
      "metadata": {
        "colab": {
          "base_uri": "https://localhost:8080/"
        },
        "id": "PzhVQxYnENwZ",
        "outputId": "b0db0a13-0b57-4d8c-eae5-568be65207dd"
      },
      "execution_count": 112,
      "outputs": [
        {
          "output_type": "execute_result",
          "data": {
            "text/plain": [
              "3.0    115011\n",
              "9.0     10688\n",
              "5.0      9282\n",
              "1.0      8441\n",
              "0.0      8116\n",
              "2.0      4215\n",
              "4.0      2809\n",
              "6.0       347\n",
              "Name: Pedestrian action, dtype: int64"
            ]
          },
          "metadata": {},
          "execution_count": 112
        }
      ]
    },
    {
      "cell_type": "markdown",
      "source": [
        "## Pedestrian alone\n",
        "\n",
        "Specifies whether the pedestrian was alone or not.\n",
        "*  1 - Alone\n",
        "*  2 - Accompanied\n",
        "*  3 - In a group\n",
        "*  0 - Not applicable or unknown"
      ],
      "metadata": {
        "id": "itna3_2yEyvQ"
      }
    },
    {
      "cell_type": "code",
      "source": [
        "df[\"Pedestrian alone\"].value_counts()"
      ],
      "metadata": {
        "colab": {
          "base_uri": "https://localhost:8080/"
        },
        "id": "zqQRZwsQE-vW",
        "outputId": "d4e76f47-83b2-445c-f885-d1ef4788aae4"
      },
      "execution_count": 118,
      "outputs": [
        {
          "output_type": "execute_result",
          "data": {
            "text/plain": [
              "0.0    1725093\n",
              "1.0     113063\n",
              "2.0      29597\n",
              "3.0       6546\n",
              "Name: Pedestrian alone, dtype: int64"
            ]
          },
          "metadata": {},
          "execution_count": 118
        }
      ]
    },
    {
      "cell_type": "code",
      "source": [
        "df[df[\"User type\"] < 3][\"Pedestrian alone\"].value_counts()"
      ],
      "metadata": {
        "colab": {
          "base_uri": "https://localhost:8080/"
        },
        "id": "tWJcKZzDEbFD",
        "outputId": "4131ee5b-db79-46a9-92c8-a0b73c4ff3b7"
      },
      "execution_count": 116,
      "outputs": [
        {
          "output_type": "execute_result",
          "data": {
            "text/plain": [
              "0.0    1715412\n",
              "Name: Pedestrian alone, dtype: int64"
            ]
          },
          "metadata": {},
          "execution_count": 116
        }
      ]
    },
    {
      "cell_type": "code",
      "source": [
        "df[df[\"User type\"] >= 3][\"Pedestrian alone\"].value_counts()"
      ],
      "metadata": {
        "colab": {
          "base_uri": "https://localhost:8080/"
        },
        "id": "_60wpDW3E7z1",
        "outputId": "820ae267-c583-4971-de70-5deafcf8f9d9"
      },
      "execution_count": 117,
      "outputs": [
        {
          "output_type": "execute_result",
          "data": {
            "text/plain": [
              "1.0    113063\n",
              "2.0     29597\n",
              "0.0      9681\n",
              "3.0      6546\n",
              "Name: Pedestrian alone, dtype: int64"
            ]
          },
          "metadata": {},
          "execution_count": 117
        }
      ]
    },
    {
      "cell_type": "markdown",
      "source": [
        "## Birth year"
      ],
      "metadata": {
        "id": "iFx3Pbz4FM8l"
      }
    },
    {
      "cell_type": "code",
      "source": [
        "unique = df[\"Birth year\"].nunique()\n",
        "df[\"Birth year\"].hist(bins=unique)"
      ],
      "metadata": {
        "colab": {
          "base_uri": "https://localhost:8080/",
          "height": 448
        },
        "id": "GrVkRN9YE9kE",
        "outputId": "0f8e7ed6-ba0d-4bb2-d8ae-2c655741bc88"
      },
      "execution_count": 139,
      "outputs": [
        {
          "output_type": "execute_result",
          "data": {
            "text/plain": [
              "<Axes: >"
            ]
          },
          "metadata": {},
          "execution_count": 139
        },
        {
          "output_type": "display_data",
          "data": {
            "text/plain": [
              "<Figure size 640x480 with 1 Axes>"
            ],
            "image/png": "[encoded data removed]"
          },
          "metadata": {}
        }
      ]
    },
    {
      "cell_type": "code",
      "source": [
        "unique = df[df[\"Year\"] == 2016][\"Birth year\"].nunique()\n",
        "df[df[\"Year\"] == 2016][\"Birth year\"].hist(bins=unique)"
      ],
      "metadata": {
        "colab": {
          "base_uri": "https://localhost:8080/",
          "height": 448
        },
        "id": "s1BAtX95G2Iq",
        "outputId": "9552671e-4403-4501-d0f0-b344f388593d"
      },
      "execution_count": 142,
      "outputs": [
        {
          "output_type": "execute_result",
          "data": {
            "text/plain": [
              "<Axes: >"
            ]
          },
          "metadata": {},
          "execution_count": 142
        },
        {
          "output_type": "display_data",
          "data": {
            "text/plain": [
              "<Figure size 640x480 with 1 Axes>"
            ],
            "image/png": "[encoded data removed]"
          },
          "metadata": {}
        }
      ]
    },
    {
      "cell_type": "code",
      "source": [
        "unique = df[df[\"Year\"] == 2005][\"Birth year\"].nunique()\n",
        "df[df[\"Year\"] == 2005][\"Birth year\"].hist(bins=unique)"
      ],
      "metadata": {
        "colab": {
          "base_uri": "https://localhost:8080/",
          "height": 448
        },
        "id": "q68BNyOrHDxu",
        "outputId": "6f6210ab-6b21-4c03-b26d-a27b8771dfcc"
      },
      "execution_count": 143,
      "outputs": [
        {
          "output_type": "execute_result",
          "data": {
            "text/plain": [
              "<Axes: >"
            ]
          },
          "metadata": {},
          "execution_count": 143
        },
        {
          "output_type": "display_data",
          "data": {
            "text/plain": [
              "<Figure size 640x480 with 1 Axes>"
            ],
            "image/png": "[encoded data removed]"
          },
          "metadata": {}
        }
      ]
    },
    {
      "cell_type": "code",
      "source": [
        "df[(1990 <= df[\"Birth year\"]) & (df[\"Birth year\"] <= 1999)][\"Birth year\"].value_counts()"
      ],
      "metadata": {
        "colab": {
          "base_uri": "https://localhost:8080/"
        },
        "id": "53SzBKfTF0hC",
        "outputId": "03b6c79a-fe03-4acc-faac-b06946495442"
      },
      "execution_count": 135,
      "outputs": [
        {
          "output_type": "execute_result",
          "data": {
            "text/plain": [
              "1990.0    46560\n",
              "1991.0    41116\n",
              "1992.0    36291\n",
              "1993.0    30604\n",
              "1994.0    26841\n",
              "1995.0    23406\n",
              "1996.0    19187\n",
              "1997.0    15596\n",
              "1998.0    12742\n",
              "1999.0    10514\n",
              "Name: Birth year, dtype: int64"
            ]
          },
          "metadata": {},
          "execution_count": 135
        }
      ]
    },
    {
      "cell_type": "code",
      "source": [
        "len(df[df[\"Birth year\"] < 1910])"
      ],
      "metadata": {
        "colab": {
          "base_uri": "https://localhost:8080/"
        },
        "id": "_cEAGOgIFSG2",
        "outputId": "5ca0860c-6466-4911-9524-1f49541fa094"
      },
      "execution_count": 124,
      "outputs": [
        {
          "output_type": "execute_result",
          "data": {
            "text/plain": [
              "288"
            ]
          },
          "metadata": {},
          "execution_count": 124
        }
      ]
    },
    {
      "cell_type": "code",
      "source": [
        "df[df[\"Birth year\"] > df[\"Year\"]] # No inconsistencies"
      ],
      "metadata": {
        "colab": {
          "base_uri": "https://localhost:8080/",
          "height": 53
        },
        "id": "0hNUn5xBFj-v",
        "outputId": "b9ca76b3-7fd9-4028-b12d-8d881104b16d"
      },
      "execution_count": 126,
      "outputs": [
        {
          "output_type": "execute_result",
          "data": {
            "text/plain": [
              "Empty DataFrame\n",
              "Columns: [Num_Acc, Place, User type, Severity, Sex, Trip, Safety equipment, Pedestrian location, Pedestrian action, Pedestrian alone, Birth year, num_veh, Year, Safety equipment existence, Safety equipment use]\n",
              "Index: []"
            ],
            "text/html": [
              "\n",
              "  <div id=\"df-8e91b6cd-f286-4c78-9202-354a2766083f\" class=\"colab-df-container\">\n",
              "    <div>\n",
              "<style scoped>\n",
              "    .dataframe tbody tr th:only-of-type {\n",
              "        vertical-align: middle;\n",
              "    }\n",
              "\n",
              "    .dataframe tbody tr th {\n",
              "        vertical-align: top;\n",
              "    }\n",
              "\n",
              "    .dataframe thead th {\n",
              "        text-align: right;\n",
              "    }\n",
              "</style>\n",
              "<table border=\"1\" class=\"dataframe\">\n",
              "  <thead>\n",
              "    <tr style=\"text-align: right;\">\n",
              "      <th></th>\n",
              "      <th>Num_Acc</th>\n",
              "      <th>Place</th>\n",
              "      <th>User type</th>\n",
              "      <th>Severity</th>\n",
              "      <th>Sex</th>\n",
              "      <th>Trip</th>\n",
              "      <th>Safety equipment</th>\n",
              "      <th>Pedestrian location</th>\n",
              "      <th>Pedestrian action</th>\n",
              "      <th>Pedestrian alone</th>\n",
              "      <th>Birth year</th>\n",
              "      <th>num_veh</th>\n",
              "      <th>Year</th>\n",
              "      <th>Safety equipment existence</th>\n",
              "      <th>Safety equipment use</th>\n",
              "    </tr>\n",
              "  </thead>\n",
              "  <tbody>\n",
              "  </tbody>\n",
              "</table>\n",
              "</div>\n",
              "    <div class=\"colab-df-buttons\">\n",
              "\n",
              "  <div class=\"colab-df-container\">\n",
              "    <button class=\"colab-df-convert\" onclick=\"convertToInteractive('df-8e91b6cd-f286-4c78-9202-354a2766083f')\"\n",
              "            title=\"Convert this dataframe to an interactive table.\"\n",
              "            style=\"display:none;\">\n",
              "\n",
              "  <svg xmlns=\"http://www.w3.org/2000/svg\" height=\"24px\" viewBox=\"0 -960 960 960\">\n",
              "    <path d=\"M120-120v-720h720v720H120Zm60-500h600v-160H180v160Zm220 220h160v-160H400v160Zm0 220h160v-160H400v160ZM180-400h160v-160H180v160Zm440 0h160v-160H620v160ZM180-180h160v-160H180v160Zm440 0h160v-160H620v160Z\"/>\n",
              "  </svg>\n",
              "    </button>\n",
              "\n",
              "  <style>\n",
              "    .colab-df-container {\n",
              "      display:flex;\n",
              "      gap: 12px;\n",
              "    }\n",
              "\n",
              "    .colab-df-convert {\n",
              "      background-color: #E8F0FE;\n",
              "      border: none;\n",
              "      border-radius: 50%;\n",
              "      cursor: pointer;\n",
              "      display: none;\n",
              "      fill: #1967D2;\n",
              "      height: 32px;\n",
              "      padding: 0 0 0 0;\n",
              "      width: 32px;\n",
              "    }\n",
              "\n",
              "    .colab-df-convert:hover {\n",
              "      background-color: #E2EBFA;\n",
              "      box-shadow: 0px 1px 2px rgba(60, 64, 67, 0.3), 0px 1px 3px 1px rgba(60, 64, 67, 0.15);\n",
              "      fill: #174EA6;\n",
              "    }\n",
              "\n",
              "    .colab-df-buttons div {\n",
              "      margin-bottom: 4px;\n",
              "    }\n",
              "\n",
              "    [theme=dark] .colab-df-convert {\n",
              "      background-color: #3B4455;\n",
              "      fill: #D2E3FC;\n",
              "    }\n",
              "\n",
              "    [theme=dark] .colab-df-convert:hover {\n",
              "      background-color: #434B5C;\n",
              "      box-shadow: 0px 1px 3px 1px rgba(0, 0, 0, 0.15);\n",
              "      filter: drop-shadow(0px 1px 2px rgba(0, 0, 0, 0.3));\n",
              "      fill: #FFFFFF;\n",
              "    }\n",
              "  </style>\n",
              "\n",
              "    <script>\n",
              "      const buttonEl =\n",
              "        document.querySelector('#df-8e91b6cd-f286-4c78-9202-354a2766083f button.colab-df-convert');\n",
              "      buttonEl.style.display =\n",
              "        google.colab.kernel.accessAllowed ? 'block' : 'none';\n",
              "\n",
              "      async function convertToInteractive(key) {\n",
              "        const element = document.querySelector('#df-8e91b6cd-f286-4c78-9202-354a2766083f');\n",
              "        const dataTable =\n",
              "          await google.colab.kernel.invokeFunction('convertToInteractive',\n",
              "                                                    [key], {});\n",
              "        if (!dataTable) return;\n",
              "\n",
              "        const docLinkHtml = 'Like what you see? Visit the ' +\n",
              "          '<a target=\"_blank\" href=https://colab.research.google.com/notebooks/data_table.ipynb>data table notebook</a>'\n",
              "          + ' to learn more about interactive tables.';\n",
              "        element.innerHTML = '';\n",
              "        dataTable['output_type'] = 'display_data';\n",
              "        await google.colab.output.renderOutput(dataTable, element);\n",
              "        const docLink = document.createElement('div');\n",
              "        docLink.innerHTML = docLinkHtml;\n",
              "        element.appendChild(docLink);\n",
              "      }\n",
              "    </script>\n",
              "  </div>\n",
              "\n",
              "    </div>\n",
              "  </div>\n"
            ],
            "application/vnd.google.colaboratory.intrinsic+json": {
              "type": "dataframe",
              "repr_error": "'str' object has no attribute 'empty'"
            }
          },
          "metadata": {},
          "execution_count": 126
        }
      ]
    },
    {
      "cell_type": "markdown",
      "source": [
        "## Notes\n",
        "\n",
        "*  Place may be useful, but have to be converted into a more descriptive format. (E. g. relating to the position in the vehicle, such as \"driver's place\" or \"rear left\").\n",
        "*  User type and severity are essential, and are never missing\n",
        "*  Type of trip also could be useful, but there is no information in 29% of cases\n",
        "*  Safety equipment could also serve useful when correlated with the severity of the accident.\n",
        "*  Information about pedestrians are missing in about 10% of pedestrian users.\n",
        "*  Birth year could also serve useful, especially when considering the driver."
      ],
      "metadata": {
        "id": "lDr-aLtfGtFn"
      }
    },
    {
      "cell_type": "code",
      "source": [],
      "metadata": {
        "id": "PYBgXNRwFrdB"
      },
      "execution_count": null,
      "outputs": []
    }
  ]
}