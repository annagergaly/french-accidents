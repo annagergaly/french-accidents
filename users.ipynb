{
 "nbformat": 4,
 "nbformat_minor": 0,
 "metadata": {
  "colab": {
   "provenance": []
  },
  "kernelspec": {
   "name": "python3",
   "language": "python",
   "display_name": "Python 3 (ipykernel)"
  },
  "language_info": {
   "name": "python"
  }
 },
 "cells": [
  {
   "cell_type": "markdown",
   "source": [
    "# Addicents in France"
   ],
   "metadata": {
    "id": "f99wFYWNmWe_"
   }
  },
  {
   "cell_type": "code",
   "execution_count": 117,
   "metadata": {
    "id": "vRcin-4QJ9hD",
    "ExecuteTime": {
     "end_time": "2024-03-16T12:00:35.368437200Z",
     "start_time": "2024-03-16T12:00:35.337148700Z"
    }
   },
   "outputs": [],
   "source": [
    "import pandas as pd"
   ]
  },
  {
   "cell_type": "markdown",
   "source": [
    "# Users.csv"
   ],
   "metadata": {
    "id": "zoLOasldocx6"
   }
  },
  {
   "cell_type": "code",
   "source": [
    "df = pd.read_csv('data/users.csv', encoding='latin1')"
   ],
   "metadata": {
    "id": "nOVaHo6monij",
    "colab": {
     "base_uri": "https://localhost:8080/",
     "height": 298
    },
    "outputId": "8bca938a-9b00-4191-fc4e-a563890d2cd2",
    "ExecuteTime": {
     "end_time": "2024-03-16T12:00:37.226546700Z",
     "start_time": "2024-03-16T12:00:35.637837900Z"
    }
   },
   "execution_count": 118,
   "outputs": []
  },
  {
   "cell_type": "code",
   "source": [
    "df.head()"
   ],
   "metadata": {
    "colab": {
     "base_uri": "https://localhost:8080/",
     "height": 206
    },
    "outputId": "51e5960e-1dc7-4d29-fbef-1c790c411a40",
    "id": "JNyUQMq7onil",
    "ExecuteTime": {
     "end_time": "2024-03-16T12:00:37.311279100Z",
     "start_time": "2024-03-16T12:00:37.226546700Z"
    }
   },
   "execution_count": 119,
   "outputs": [
    {
     "data": {
      "text/plain": "        Num_Acc  place  catu  grav  sexe  trajet  secu  locp  actp  etatp  \\\n0  201600000001    1.0     1     1     2     0.0  11.0   0.0   0.0    0.0   \n1  201600000001    1.0     1     3     1     9.0  21.0   0.0   0.0    0.0   \n2  201600000002    1.0     1     3     1     5.0  11.0   0.0   0.0    0.0   \n3  201600000002    2.0     2     3     1     0.0  11.0   0.0   0.0    0.0   \n4  201600000002    3.0     2     3     2     0.0  11.0   0.0   0.0    0.0   \n\n   an_nais num_veh  \n0   1983.0     B02  \n1   2001.0     A01  \n2   1960.0     A01  \n3   2000.0     A01  \n4   1962.0     A01  ",
      "text/html": "<div>\n<style scoped>\n    .dataframe tbody tr th:only-of-type {\n        vertical-align: middle;\n    }\n\n    .dataframe tbody tr th {\n        vertical-align: top;\n    }\n\n    .dataframe thead th {\n        text-align: right;\n    }\n</style>\n<table border=\"1\" class=\"dataframe\">\n  <thead>\n    <tr style=\"text-align: right;\">\n      <th></th>\n      <th>Num_Acc</th>\n      <th>place</th>\n      <th>catu</th>\n      <th>grav</th>\n      <th>sexe</th>\n      <th>trajet</th>\n      <th>secu</th>\n      <th>locp</th>\n      <th>actp</th>\n      <th>etatp</th>\n      <th>an_nais</th>\n      <th>num_veh</th>\n    </tr>\n  </thead>\n  <tbody>\n    <tr>\n      <th>0</th>\n      <td>201600000001</td>\n      <td>1.0</td>\n      <td>1</td>\n      <td>1</td>\n      <td>2</td>\n      <td>0.0</td>\n      <td>11.0</td>\n      <td>0.0</td>\n      <td>0.0</td>\n      <td>0.0</td>\n      <td>1983.0</td>\n      <td>B02</td>\n    </tr>\n    <tr>\n      <th>1</th>\n      <td>201600000001</td>\n      <td>1.0</td>\n      <td>1</td>\n      <td>3</td>\n      <td>1</td>\n      <td>9.0</td>\n      <td>21.0</td>\n      <td>0.0</td>\n      <td>0.0</td>\n      <td>0.0</td>\n      <td>2001.0</td>\n      <td>A01</td>\n    </tr>\n    <tr>\n      <th>2</th>\n      <td>201600000002</td>\n      <td>1.0</td>\n      <td>1</td>\n      <td>3</td>\n      <td>1</td>\n      <td>5.0</td>\n      <td>11.0</td>\n      <td>0.0</td>\n      <td>0.0</td>\n      <td>0.0</td>\n      <td>1960.0</td>\n      <td>A01</td>\n    </tr>\n    <tr>\n      <th>3</th>\n      <td>201600000002</td>\n      <td>2.0</td>\n      <td>2</td>\n      <td>3</td>\n      <td>1</td>\n      <td>0.0</td>\n      <td>11.0</td>\n      <td>0.0</td>\n      <td>0.0</td>\n      <td>0.0</td>\n      <td>2000.0</td>\n      <td>A01</td>\n    </tr>\n    <tr>\n      <th>4</th>\n      <td>201600000002</td>\n      <td>3.0</td>\n      <td>2</td>\n      <td>3</td>\n      <td>2</td>\n      <td>0.0</td>\n      <td>11.0</td>\n      <td>0.0</td>\n      <td>0.0</td>\n      <td>0.0</td>\n      <td>1962.0</td>\n      <td>A01</td>\n    </tr>\n  </tbody>\n</table>\n</div>"
     },
     "execution_count": 119,
     "metadata": {},
     "output_type": "execute_result"
    }
   ]
  },
  {
   "cell_type": "code",
   "source": [
    "df.rename(columns={'place': 'Seat', 'catu': 'User type', 'grav': 'Severity', 'sexe': 'Sex', 'trajet': 'Trip', \"an_nais\": \"Birth year\",\n",
    "                   'secu': 'Safety equipment', 'locp': 'Pedestrian location', 'actp': 'Pedestrian action', 'etatp': 'Pedestrian alone'}, inplace=True)"
   ],
   "metadata": {
    "id": "mobw8nKUonim",
    "ExecuteTime": {
     "end_time": "2024-03-16T12:00:37.326905800Z",
     "start_time": "2024-03-16T12:00:37.248779Z"
    }
   },
   "execution_count": 120,
   "outputs": []
  },
  {
   "cell_type": "code",
   "source": [
    "len(df)"
   ],
   "metadata": {
    "colab": {
     "base_uri": "https://localhost:8080/"
    },
    "id": "3U-cLEPRHqHQ",
    "outputId": "ecf3e46e-b0cc-46e8-bdb7-bbcf0b4ba931",
    "ExecuteTime": {
     "end_time": "2024-03-16T12:00:37.333416400Z",
     "start_time": "2024-03-16T12:00:37.264408700Z"
    }
   },
   "execution_count": 121,
   "outputs": [
    {
     "data": {
      "text/plain": "1876005"
     },
     "execution_count": 121,
     "metadata": {},
     "output_type": "execute_result"
    }
   ]
  },
  {
   "cell_type": "code",
   "source": [
    "df.head()"
   ],
   "metadata": {
    "colab": {
     "base_uri": "https://localhost:8080/",
     "height": 206
    },
    "outputId": "fc010fa6-21c4-46fa-ab7f-3ed7355d8b69",
    "id": "3G0HmWUZonin",
    "ExecuteTime": {
     "end_time": "2024-03-16T12:00:37.373327100Z",
     "start_time": "2024-03-16T12:00:37.280161100Z"
    }
   },
   "execution_count": 122,
   "outputs": [
    {
     "data": {
      "text/plain": "        Num_Acc  Seat  User type  Severity  Sex  Trip  Safety equipment  \\\n0  201600000001   1.0          1         1    2   0.0              11.0   \n1  201600000001   1.0          1         3    1   9.0              21.0   \n2  201600000002   1.0          1         3    1   5.0              11.0   \n3  201600000002   2.0          2         3    1   0.0              11.0   \n4  201600000002   3.0          2         3    2   0.0              11.0   \n\n   Pedestrian location  Pedestrian action  Pedestrian alone  Birth year  \\\n0                  0.0                0.0               0.0      1983.0   \n1                  0.0                0.0               0.0      2001.0   \n2                  0.0                0.0               0.0      1960.0   \n3                  0.0                0.0               0.0      2000.0   \n4                  0.0                0.0               0.0      1962.0   \n\n  num_veh  \n0     B02  \n1     A01  \n2     A01  \n3     A01  \n4     A01  ",
      "text/html": "<div>\n<style scoped>\n    .dataframe tbody tr th:only-of-type {\n        vertical-align: middle;\n    }\n\n    .dataframe tbody tr th {\n        vertical-align: top;\n    }\n\n    .dataframe thead th {\n        text-align: right;\n    }\n</style>\n<table border=\"1\" class=\"dataframe\">\n  <thead>\n    <tr style=\"text-align: right;\">\n      <th></th>\n      <th>Num_Acc</th>\n      <th>Seat</th>\n      <th>User type</th>\n      <th>Severity</th>\n      <th>Sex</th>\n      <th>Trip</th>\n      <th>Safety equipment</th>\n      <th>Pedestrian location</th>\n      <th>Pedestrian action</th>\n      <th>Pedestrian alone</th>\n      <th>Birth year</th>\n      <th>num_veh</th>\n    </tr>\n  </thead>\n  <tbody>\n    <tr>\n      <th>0</th>\n      <td>201600000001</td>\n      <td>1.0</td>\n      <td>1</td>\n      <td>1</td>\n      <td>2</td>\n      <td>0.0</td>\n      <td>11.0</td>\n      <td>0.0</td>\n      <td>0.0</td>\n      <td>0.0</td>\n      <td>1983.0</td>\n      <td>B02</td>\n    </tr>\n    <tr>\n      <th>1</th>\n      <td>201600000001</td>\n      <td>1.0</td>\n      <td>1</td>\n      <td>3</td>\n      <td>1</td>\n      <td>9.0</td>\n      <td>21.0</td>\n      <td>0.0</td>\n      <td>0.0</td>\n      <td>0.0</td>\n      <td>2001.0</td>\n      <td>A01</td>\n    </tr>\n    <tr>\n      <th>2</th>\n      <td>201600000002</td>\n      <td>1.0</td>\n      <td>1</td>\n      <td>3</td>\n      <td>1</td>\n      <td>5.0</td>\n      <td>11.0</td>\n      <td>0.0</td>\n      <td>0.0</td>\n      <td>0.0</td>\n      <td>1960.0</td>\n      <td>A01</td>\n    </tr>\n    <tr>\n      <th>3</th>\n      <td>201600000002</td>\n      <td>2.0</td>\n      <td>2</td>\n      <td>3</td>\n      <td>1</td>\n      <td>0.0</td>\n      <td>11.0</td>\n      <td>0.0</td>\n      <td>0.0</td>\n      <td>0.0</td>\n      <td>2000.0</td>\n      <td>A01</td>\n    </tr>\n    <tr>\n      <th>4</th>\n      <td>201600000002</td>\n      <td>3.0</td>\n      <td>2</td>\n      <td>3</td>\n      <td>2</td>\n      <td>0.0</td>\n      <td>11.0</td>\n      <td>0.0</td>\n      <td>0.0</td>\n      <td>0.0</td>\n      <td>1962.0</td>\n      <td>A01</td>\n    </tr>\n  </tbody>\n</table>\n</div>"
     },
     "execution_count": 122,
     "metadata": {},
     "output_type": "execute_result"
    }
   ]
  },
  {
   "cell_type": "code",
   "source": [
    "df.isna().sum()"
   ],
   "metadata": {
    "colab": {
     "base_uri": "https://localhost:8080/"
    },
    "id": "TeyYic9N_yQE",
    "outputId": "0c58dcdb-5424-4ae4-fb72-c52c33bd4d2a",
    "ExecuteTime": {
     "end_time": "2024-03-16T12:00:37.693316200Z",
     "start_time": "2024-03-16T12:00:37.326905800Z"
    }
   },
   "execution_count": 123,
   "outputs": [
    {
     "data": {
      "text/plain": "Num_Acc                     0\nSeat                   100366\nUser type                   0\nSeverity                    0\nSex                         0\nTrip                      369\nSafety equipment        43458\nPedestrian location      1664\nPedestrian action        1773\nPedestrian alone         1706\nBirth year               2351\nnum_veh                     0\ndtype: int64"
     },
     "execution_count": 123,
     "metadata": {},
     "output_type": "execute_result"
    }
   ]
  },
  {
   "cell_type": "code",
   "source": [
    "df.describe()"
   ],
   "metadata": {
    "colab": {
     "base_uri": "https://localhost:8080/",
     "height": 317
    },
    "id": "afmE4mVdEjXX",
    "outputId": "88fb69f4-c3ca-438b-815b-7f87c4fa5097",
    "ExecuteTime": {
     "end_time": "2024-03-16T12:00:38.366227Z",
     "start_time": "2024-03-16T12:00:37.662098400Z"
    }
   },
   "execution_count": 124,
   "outputs": [
    {
     "data": {
      "text/plain": "            Num_Acc          Seat     User type      Severity           Sex  \\\ncount  1.876005e+06  1.775639e+06  1.876005e+06  1.876005e+06  1.876005e+06   \nmean   2.009992e+11  1.283953e+00  1.341410e+00  2.513080e+00  1.328885e+00   \nstd    3.464316e+08  9.058402e-01  6.334311e-01  1.332745e+00  4.698081e-01   \nmin    2.005000e+11  0.000000e+00  1.000000e+00  1.000000e+00  1.000000e+00   \n25%    2.007000e+11  1.000000e+00  1.000000e+00  1.000000e+00  1.000000e+00   \n50%    2.010000e+11  1.000000e+00  1.000000e+00  3.000000e+00  1.000000e+00   \n75%    2.013000e+11  1.000000e+00  2.000000e+00  4.000000e+00  2.000000e+00   \nmax    2.016001e+11  9.000000e+00  4.000000e+00  4.000000e+00  2.000000e+00   \n\n               Trip  Safety equipment  Pedestrian location  Pedestrian action  \\\ncount  1.875636e+06      1.832547e+06         1.874341e+06       1.874232e+06   \nmean   3.075555e+00      1.822304e+01         2.242522e-01       2.762860e-01   \nstd    2.676239e+00      1.977354e+01         8.722973e-01       1.051576e+00   \nmin    0.000000e+00      0.000000e+00         0.000000e+00       0.000000e+00   \n25%    0.000000e+00      1.100000e+01         0.000000e+00       0.000000e+00   \n50%    4.000000e+00      1.100000e+01         0.000000e+00       0.000000e+00   \n75%    5.000000e+00      2.100000e+01         0.000000e+00       0.000000e+00   \nmax    9.000000e+00      9.300000e+01         8.000000e+00       9.000000e+00   \n\n       Pedestrian alone    Birth year  \ncount      1.874299e+06  1.873654e+06  \nmean       1.023823e-01  1.972682e+03  \nstd        3.800489e-01  1.834448e+01  \nmin        0.000000e+00  1.896000e+03  \n25%        0.000000e+00  1.961000e+03  \n50%        0.000000e+00  1.976000e+03  \n75%        0.000000e+00  1.987000e+03  \nmax        3.000000e+00  2.016000e+03  ",
      "text/html": "<div>\n<style scoped>\n    .dataframe tbody tr th:only-of-type {\n        vertical-align: middle;\n    }\n\n    .dataframe tbody tr th {\n        vertical-align: top;\n    }\n\n    .dataframe thead th {\n        text-align: right;\n    }\n</style>\n<table border=\"1\" class=\"dataframe\">\n  <thead>\n    <tr style=\"text-align: right;\">\n      <th></th>\n      <th>Num_Acc</th>\n      <th>Seat</th>\n      <th>User type</th>\n      <th>Severity</th>\n      <th>Sex</th>\n      <th>Trip</th>\n      <th>Safety equipment</th>\n      <th>Pedestrian location</th>\n      <th>Pedestrian action</th>\n      <th>Pedestrian alone</th>\n      <th>Birth year</th>\n    </tr>\n  </thead>\n  <tbody>\n    <tr>\n      <th>count</th>\n      <td>1.876005e+06</td>\n      <td>1.775639e+06</td>\n      <td>1.876005e+06</td>\n      <td>1.876005e+06</td>\n      <td>1.876005e+06</td>\n      <td>1.875636e+06</td>\n      <td>1.832547e+06</td>\n      <td>1.874341e+06</td>\n      <td>1.874232e+06</td>\n      <td>1.874299e+06</td>\n      <td>1.873654e+06</td>\n    </tr>\n    <tr>\n      <th>mean</th>\n      <td>2.009992e+11</td>\n      <td>1.283953e+00</td>\n      <td>1.341410e+00</td>\n      <td>2.513080e+00</td>\n      <td>1.328885e+00</td>\n      <td>3.075555e+00</td>\n      <td>1.822304e+01</td>\n      <td>2.242522e-01</td>\n      <td>2.762860e-01</td>\n      <td>1.023823e-01</td>\n      <td>1.972682e+03</td>\n    </tr>\n    <tr>\n      <th>std</th>\n      <td>3.464316e+08</td>\n      <td>9.058402e-01</td>\n      <td>6.334311e-01</td>\n      <td>1.332745e+00</td>\n      <td>4.698081e-01</td>\n      <td>2.676239e+00</td>\n      <td>1.977354e+01</td>\n      <td>8.722973e-01</td>\n      <td>1.051576e+00</td>\n      <td>3.800489e-01</td>\n      <td>1.834448e+01</td>\n    </tr>\n    <tr>\n      <th>min</th>\n      <td>2.005000e+11</td>\n      <td>0.000000e+00</td>\n      <td>1.000000e+00</td>\n      <td>1.000000e+00</td>\n      <td>1.000000e+00</td>\n      <td>0.000000e+00</td>\n      <td>0.000000e+00</td>\n      <td>0.000000e+00</td>\n      <td>0.000000e+00</td>\n      <td>0.000000e+00</td>\n      <td>1.896000e+03</td>\n    </tr>\n    <tr>\n      <th>25%</th>\n      <td>2.007000e+11</td>\n      <td>1.000000e+00</td>\n      <td>1.000000e+00</td>\n      <td>1.000000e+00</td>\n      <td>1.000000e+00</td>\n      <td>0.000000e+00</td>\n      <td>1.100000e+01</td>\n      <td>0.000000e+00</td>\n      <td>0.000000e+00</td>\n      <td>0.000000e+00</td>\n      <td>1.961000e+03</td>\n    </tr>\n    <tr>\n      <th>50%</th>\n      <td>2.010000e+11</td>\n      <td>1.000000e+00</td>\n      <td>1.000000e+00</td>\n      <td>3.000000e+00</td>\n      <td>1.000000e+00</td>\n      <td>4.000000e+00</td>\n      <td>1.100000e+01</td>\n      <td>0.000000e+00</td>\n      <td>0.000000e+00</td>\n      <td>0.000000e+00</td>\n      <td>1.976000e+03</td>\n    </tr>\n    <tr>\n      <th>75%</th>\n      <td>2.013000e+11</td>\n      <td>1.000000e+00</td>\n      <td>2.000000e+00</td>\n      <td>4.000000e+00</td>\n      <td>2.000000e+00</td>\n      <td>5.000000e+00</td>\n      <td>2.100000e+01</td>\n      <td>0.000000e+00</td>\n      <td>0.000000e+00</td>\n      <td>0.000000e+00</td>\n      <td>1.987000e+03</td>\n    </tr>\n    <tr>\n      <th>max</th>\n      <td>2.016001e+11</td>\n      <td>9.000000e+00</td>\n      <td>4.000000e+00</td>\n      <td>4.000000e+00</td>\n      <td>2.000000e+00</td>\n      <td>9.000000e+00</td>\n      <td>9.300000e+01</td>\n      <td>8.000000e+00</td>\n      <td>9.000000e+00</td>\n      <td>3.000000e+00</td>\n      <td>2.016000e+03</td>\n    </tr>\n  </tbody>\n</table>\n</div>"
     },
     "execution_count": 124,
     "metadata": {},
     "output_type": "execute_result"
    }
   ]
  },
  {
   "cell_type": "markdown",
   "source": [
    "## Seat"
   ],
   "metadata": {
    "id": "MSiQ3nZgtLmh"
   }
  },
  {
   "cell_type": "markdown",
   "source": [
    "Allows to locate the place occupied in the vehicle by the user at the time of the accident.\n",
    "\n",
    "Meaning differs based on the type of vehicle.\n",
    "\n",
    "*   Moto/side-car = motorcycle/side-car\n",
    "*   Voiture = car\n",
    "*   Transport en commun = public transportation\n",
    "*   10 = Pedestrian (not applicable)\n",
    "\n",
    "0 may mean that the accident happened in a year, when this data was not recorded. Namely from 2005, 2006, 2007, or 2008.\n",
    "\n",
    "1, and 2 are the most common. 1 is usually the driver's place in countries where cars drive on the right, and 2 is the passenger's seat next to that.\n",
    "\n",
    "\n"
   ],
   "metadata": {
    "id": "FHfBelIzvHIV"
   }
  },
  {
   "cell_type": "markdown",
   "source": [
    "![picture](https://drive.google.com/uc?id=1cGRhGEkm44BivoHHKj5kO03oFFQN2DOa)"
   ],
   "metadata": {
    "id": "tQlBwDMQu4AX"
   }
  },
  {
   "cell_type": "markdown",
   "source": [
    "By cars and public transportation:\n",
    "* 1 Driver (if the car is left-handed, has the wheel on the left)\n",
    "* 2 Front right seat\n",
    "* 3 Rear right seat\n",
    "* 4 Rear left seat\n",
    "* 5 Rear middle seat\n",
    "* 6 Front middle seat\n",
    "* 7 Middle left seat\n",
    "* 8 Middle seat\n",
    "* 9 Middle right seat\n",
    "\n",
    "By motorcycles:\n",
    "* 1 Driver\n",
    "* 2 Passenger\n",
    "* 3 Side-car/other passenger"
   ],
   "metadata": {
    "collapsed": false
   }
  },
  {
   "cell_type": "code",
   "source": [
    "df[\"Seat\"].value_counts()"
   ],
   "metadata": {
    "colab": {
     "base_uri": "https://localhost:8080/"
    },
    "id": "HTIHlgJBtKuz",
    "outputId": "10844eb3-ba2e-41b0-f88a-448af4c906a0",
    "ExecuteTime": {
     "end_time": "2024-03-16T12:00:39.710584100Z",
     "start_time": "2024-03-16T12:00:39.663703700Z"
    }
   },
   "execution_count": 125,
   "outputs": [
    {
     "data": {
      "text/plain": "1.0    1399666\n2.0     196453\n0.0      60766\n3.0      45922\n4.0      39411\n5.0      23806\n8.0       4620\n7.0       2115\n6.0       1620\n9.0       1260\nName: Seat, dtype: int64"
     },
     "execution_count": 125,
     "metadata": {},
     "output_type": "execute_result"
    }
   ]
  },
  {
   "cell_type": "code",
   "source": [
    "df[\"Year\"] = df[\"Num_Acc\"].map(lambda x: int(x/100000000))"
   ],
   "metadata": {
    "id": "hA7ebTde7FFY",
    "ExecuteTime": {
     "end_time": "2024-03-16T12:00:41.137521900Z",
     "start_time": "2024-03-16T12:00:40.138384600Z"
    }
   },
   "execution_count": 126,
   "outputs": []
  },
  {
   "cell_type": "code",
   "source": [
    "df[df[\"Seat\"] == 0][\"Year\"].value_counts()"
   ],
   "metadata": {
    "colab": {
     "base_uri": "https://localhost:8080/"
    },
    "id": "5EbvHwUu5NTj",
    "outputId": "12566e8d-546c-4c68-cc3a-434e3131be51",
    "ExecuteTime": {
     "end_time": "2024-03-16T12:00:41.219357700Z",
     "start_time": "2024-03-16T12:00:41.141036300Z"
    }
   },
   "execution_count": 127,
   "outputs": [
    {
     "data": {
      "text/plain": "2005    15652\n2007    15330\n2006    15202\n2008    14582\nName: Year, dtype: int64"
     },
     "execution_count": 127,
     "metadata": {},
     "output_type": "execute_result"
    }
   ]
  },
  {
   "cell_type": "code",
   "execution_count": 135,
   "outputs": [],
   "source": [
    "df[\"Seat\"].fillna(0, inplace=True)"
   ],
   "metadata": {
    "collapsed": false,
    "ExecuteTime": {
     "end_time": "2024-03-16T12:02:29.782175100Z",
     "start_time": "2024-03-16T12:02:29.734554900Z"
    }
   }
  },
  {
   "cell_type": "markdown",
   "source": [
    "## User type\n",
    "\n",
    "*   1 - Driver\n",
    "*   2 - Passenger\n",
    "*   3 - Pedestrian\n",
    "*   4 - Pedestrian in rollerblade or scooter\n",
    "\n",
    "Type 4 was moved in datasets after 2018, but this dataset does not contain data from 2017 and onwards."
   ],
   "metadata": {
    "id": "1WW1WxrK8LA9"
   }
  },
  {
   "cell_type": "code",
   "source": [
    "df[\"User type\"].value_counts()"
   ],
   "metadata": {
    "colab": {
     "base_uri": "https://localhost:8080/"
    },
    "id": "3qYjNqqR5zFa",
    "outputId": "4bb19aa8-0716-4ba7-f5ee-d1a6144036e6",
    "ExecuteTime": {
     "end_time": "2024-03-16T12:02:33.799172200Z",
     "start_time": "2024-03-16T12:02:33.767922600Z"
    }
   },
   "execution_count": 136,
   "outputs": [
    {
     "data": {
      "text/plain": "1    1397701\n2     319388\n3     155649\n4       3267\nName: User type, dtype: int64"
     },
     "execution_count": 136,
     "metadata": {},
     "output_type": "execute_result"
    }
   ]
  },
  {
   "cell_type": "code",
   "execution_count": 137,
   "outputs": [
    {
     "data": {
      "text/plain": "1.0    1396381\n2.0       1320\nName: Seat, dtype: int64"
     },
     "execution_count": 137,
     "metadata": {},
     "output_type": "execute_result"
    }
   ],
   "source": [
    "df[df[\"User type\"] == 1][\"Seat\"].value_counts()"
   ],
   "metadata": {
    "collapsed": false,
    "ExecuteTime": {
     "end_time": "2024-03-16T12:02:36.042254100Z",
     "start_time": "2024-03-16T12:02:35.888285100Z"
    }
   }
  },
  {
   "cell_type": "code",
   "execution_count": 138,
   "outputs": [
    {
     "data": {
      "text/plain": "0.9990555920042985"
     },
     "execution_count": 138,
     "metadata": {},
     "output_type": "execute_result"
    }
   ],
   "source": [
    "2 - df[df[\"User type\"] == 1][\"Seat\"].mean() #Over 99% of the cars have the driver's seat on the left"
   ],
   "metadata": {
    "collapsed": false,
    "ExecuteTime": {
     "end_time": "2024-03-16T12:02:36.358026700Z",
     "start_time": "2024-03-16T12:02:36.204463700Z"
    }
   }
  },
  {
   "cell_type": "markdown",
   "source": [
    "## Severity\n",
    "\n",
    "*   1 - Unscathed/Unharmed\n",
    "*   2 - Killed\n",
    "*   3 - Hospitalized wounded\n",
    "*   4 - Light injury\n",
    "\n",
    "New order:\n",
    "\n",
    "*   1 - Unscathed/Unharmed\n",
    "*   2 - Light injury\n",
    "*   3 - Hospitalized wounded\n",
    "*   4 - Killed"
   ],
   "metadata": {
    "id": "cpC0z8Mp9E2e"
   }
  },
  {
   "cell_type": "code",
   "source": [
    "#Reorder them to be more meaningful\n",
    "mapping = {\n",
    "    2: 4, # Death becomes 4 instead of 2\n",
    "    4: 2, # Light injury becomes 2 instead of 4\n",
    "}\n",
    "\n",
    "df['Severity'] = df['Severity'].replace(mapping)\n",
    "\n",
    "df[\"Severity\"].value_counts()"
   ],
   "metadata": {
    "colab": {
     "base_uri": "https://localhost:8080/"
    },
    "id": "femUyzWY8nBr",
    "outputId": "cac6759a-0e0f-4b08-c925-f290ce2639f0",
    "ExecuteTime": {
     "end_time": "2024-03-16T12:03:04.347697100Z",
     "start_time": "2024-03-16T12:03:04.247230100Z"
    }
   },
   "execution_count": 140,
   "outputs": [
    {
     "data": {
      "text/plain": "1    764874\n2    666873\n3    393669\n4     50589\nName: Severity, dtype: int64"
     },
     "execution_count": 140,
     "metadata": {},
     "output_type": "execute_result"
    }
   ]
  },
  {
   "cell_type": "markdown",
   "source": [
    "## Sex\n",
    "\n",
    "*   1 - Male\n",
    "*   2 - Female\n",
    "\n",
    "There are about twice as many males compared to females."
   ],
   "metadata": {
    "id": "3Fh8d26e9ysj"
   }
  },
  {
   "cell_type": "code",
   "source": [
    "df[\"Sex\"].value_counts()"
   ],
   "metadata": {
    "colab": {
     "base_uri": "https://localhost:8080/"
    },
    "id": "BQCnNcDc9OFB",
    "outputId": "92ac4aaa-63f7-4d25-e12c-baf594f9f875",
    "ExecuteTime": {
     "end_time": "2024-03-16T12:03:21.172780300Z",
     "start_time": "2024-03-16T12:03:21.103096700Z"
    }
   },
   "execution_count": 142,
   "outputs": [
    {
     "data": {
      "text/plain": "1    1259016\n2     616989\nName: Sex, dtype: int64"
     },
     "execution_count": 142,
     "metadata": {},
     "output_type": "execute_result"
    }
   ]
  },
  {
   "cell_type": "markdown",
   "source": [
    "## Trip\n",
    "\n",
    "Reason of travel at the time of accident.\n",
    "\n",
    "*   1 - Home - Work\n",
    "*   2 - Home - School\n",
    "*   3 - Shopping\n",
    "*   4 - Professional use\n",
    "*   5 - Walking- Leisure\n",
    "*   9 - Other\n",
    "*   0 - no information"
   ],
   "metadata": {
    "id": "d6c2ooFm-S5N"
   }
  },
  {
   "cell_type": "code",
   "source": [
    "df[\"Trip\"].value_counts()"
   ],
   "metadata": {
    "colab": {
     "base_uri": "https://localhost:8080/"
    },
    "id": "nfIVg9LJ94UH",
    "outputId": "ed2e614a-36d4-4c44-f3e4-3ce1b22907e1",
    "ExecuteTime": {
     "end_time": "2024-03-16T11:58:50.383389600Z",
     "start_time": "2024-03-16T11:58:50.336462300Z"
    }
   },
   "execution_count": 101,
   "outputs": [
    {
     "data": {
      "text/plain": "5.0    686902\n0.0    550516\n1.0    242558\n4.0    184032\n9.0    126393\n3.0     47419\n2.0     37816\nName: Trip, dtype: int64"
     },
     "execution_count": 101,
     "metadata": {},
     "output_type": "execute_result"
    }
   ]
  },
  {
   "cell_type": "code",
   "source": [
    "len(df[df[\"Trip\"] == 0]) / len(df)"
   ],
   "metadata": {
    "colab": {
     "base_uri": "https://localhost:8080/"
    },
    "id": "mrnl-ZZOHz79",
    "outputId": "6ff51a0a-664d-4107-9ebe-0bc13d9f8d16",
    "ExecuteTime": {
     "end_time": "2024-03-16T11:58:51.034681300Z",
     "start_time": "2024-03-16T11:58:50.903336400Z"
    }
   },
   "execution_count": 102,
   "outputs": [
    {
     "data": {
      "text/plain": "0.2934512434668351"
     },
     "execution_count": 102,
     "metadata": {},
     "output_type": "execute_result"
    }
   ]
  },
  {
   "cell_type": "code",
   "execution_count": 144,
   "outputs": [],
   "source": [
    "df[\"Trip\"].fillna(0, inplace=True)"
   ],
   "metadata": {
    "collapsed": false,
    "ExecuteTime": {
     "end_time": "2024-03-16T12:08:48.550984Z",
     "start_time": "2024-03-16T12:08:48.483635400Z"
    }
   }
  },
  {
   "cell_type": "code",
   "execution_count": 145,
   "outputs": [
    {
     "data": {
      "text/plain": "0.29364793803854466"
     },
     "execution_count": 145,
     "metadata": {},
     "output_type": "execute_result"
    }
   ],
   "source": [
    "len(df[df[\"Trip\"] == 0]) / len(df)"
   ],
   "metadata": {
    "collapsed": false,
    "ExecuteTime": {
     "end_time": "2024-03-16T12:08:48.757791100Z",
     "start_time": "2024-03-16T12:08:48.635007700Z"
    }
   }
  },
  {
   "cell_type": "markdown",
   "source": [
    "## Safety equipment\n",
    "\n",
    "Consists of two characters, both of which have meaning.\n",
    "\n",
    "Missing values are filled with 00, which means no information.\n",
    "\n",
    "First character: existance of safety equipment.\n",
    "*  1 - Belt\n",
    "*  2 - Helmet\n",
    "*  3 - Child restraint\n",
    "*  4 - Reflective equipment\n",
    "*  9 - Other\n",
    "\n",
    "Second character: use of safety equipment.\n",
    "*  1 - Yes\n",
    "*  2 - No\n",
    "*  3 - Not determinable"
   ],
   "metadata": {
    "id": "_arDir6h_P8_"
   }
  },
  {
   "cell_type": "code",
   "source": [
    "df[\"Safety equipment\"].fillna(0, inplace=True)\n",
    "df[\"Safety equipment existence\"] = df[\"Safety equipment\"].map(lambda x: int(x/10))\n",
    "df[\"Safety equipment use\"] = df[\"Safety equipment\"].map(lambda x: int(x % 10))"
   ],
   "metadata": {
    "id": "yAtdph6j-ytj",
    "ExecuteTime": {
     "end_time": "2024-03-16T12:09:02.995371Z",
     "start_time": "2024-03-16T12:09:00.960159200Z"
    }
   },
   "execution_count": 146,
   "outputs": []
  },
  {
   "cell_type": "code",
   "source": [
    "df[\"Safety equipment existence\"].value_counts()"
   ],
   "metadata": {
    "colab": {
     "base_uri": "https://localhost:8080/"
    },
    "id": "zIMHT9Ab_TTt",
    "outputId": "a0742bd8-c262-4b03-9e8c-bebdbe64836b",
    "ExecuteTime": {
     "end_time": "2024-03-16T12:09:03.067025400Z",
     "start_time": "2024-03-16T12:09:03.016201600Z"
    }
   },
   "execution_count": 147,
   "outputs": [
    {
     "data": {
      "text/plain": "1    1229254\n2     399341\n0     115781\n9     111988\n3      14167\n4       5474\nName: Safety equipment existence, dtype: int64"
     },
     "execution_count": 147,
     "metadata": {},
     "output_type": "execute_result"
    }
   ]
  },
  {
   "cell_type": "code",
   "source": [
    "df[\"Safety equipment use\"].value_counts()"
   ],
   "metadata": {
    "colab": {
     "base_uri": "https://localhost:8080/"
    },
    "id": "EByc-6lN_nby",
    "outputId": "c3147d50-4b38-46e6-fd69-207ba008189d",
    "ExecuteTime": {
     "end_time": "2024-03-16T12:09:03.121049700Z",
     "start_time": "2024-03-16T12:09:03.035699700Z"
    }
   },
   "execution_count": 148,
   "outputs": [
    {
     "data": {
      "text/plain": "1    1410283\n3     287205\n0     118301\n2      60216\nName: Safety equipment use, dtype: int64"
     },
     "execution_count": 148,
     "metadata": {},
     "output_type": "execute_result"
    }
   ]
  },
  {
   "cell_type": "code",
   "execution_count": 149,
   "outputs": [],
   "source": [
    "del df[\"Safety equipment\"]"
   ],
   "metadata": {
    "collapsed": false,
    "ExecuteTime": {
     "end_time": "2024-03-16T12:09:13.362307Z",
     "start_time": "2024-03-16T12:09:13.331042300Z"
    }
   }
  },
  {
   "cell_type": "markdown",
   "source": [
    "## Pedestrian location\n",
    "\n",
    "On pavement:\n",
    "*  1 - At more than 50 m from the crosswalk\n",
    "*  2 - At less than 50 m from crosswalk\n",
    "\n",
    "On crosswalk:\n",
    "*  3 - Without light signal\n",
    "*  4 - With light signal\n",
    "\n",
    "Misc:\n",
    "*  5 - On sidewalk\n",
    "*  6 - On shoulder/bench (of the road)\n",
    "*  7 - On refuge (járdasziget) or leállósáv\n",
    "*  8 - On parallel secondary road\n",
    "\n",
    "*  0 - Not applicable (because it was not a pedestrian)"
   ],
   "metadata": {
    "id": "Y3UZsE2aAugy"
   }
  },
  {
   "cell_type": "code",
   "source": [
    "df[\"Pedestrian location\"].value_counts()"
   ],
   "metadata": {
    "colab": {
     "base_uri": "https://localhost:8080/"
    },
    "id": "GLCE8h7DAgNB",
    "outputId": "e47c22f7-cd05-405e-fa65-c88413c5163b",
    "ExecuteTime": {
     "end_time": "2024-03-16T12:09:27.869943900Z",
     "start_time": "2024-03-16T12:09:27.837693300Z"
    }
   },
   "execution_count": 150,
   "outputs": [
    {
     "data": {
      "text/plain": "0.0    1732439\n4.0      40011\n2.0      36711\n3.0      27838\n1.0      22841\n5.0       9737\n6.0       3060\n8.0       1531\n7.0        173\nName: Pedestrian location, dtype: int64"
     },
     "execution_count": 150,
     "metadata": {},
     "output_type": "execute_result"
    }
   ]
  },
  {
   "cell_type": "code",
   "source": [
    "df[df[\"User type\"] < 3][\"Pedestrian location\"].value_counts() #If the user was not a pedestrian, then it pedestrian is not applicable\n",
    "#Meaning that this field is correctly filled"
   ],
   "metadata": {
    "colab": {
     "base_uri": "https://localhost:8080/"
    },
    "id": "EnvnCivXA1xw",
    "outputId": "de8accce-03d8-47ab-f1a9-97075f946ec2",
    "ExecuteTime": {
     "end_time": "2024-03-16T12:09:38.035752900Z",
     "start_time": "2024-03-16T12:09:37.734924400Z"
    }
   },
   "execution_count": 151,
   "outputs": [
    {
     "data": {
      "text/plain": "0.0    1715454\nName: Pedestrian location, dtype: int64"
     },
     "execution_count": 151,
     "metadata": {},
     "output_type": "execute_result"
    }
   ]
  },
  {
   "cell_type": "code",
   "source": [
    "df[df[\"User type\"] >= 3][\"Pedestrian location\"].value_counts()"
   ],
   "metadata": {
    "colab": {
     "base_uri": "https://localhost:8080/"
    },
    "id": "7GH4mx9WEYD1",
    "outputId": "844eef21-007b-4885-e956-a9691228b090",
    "ExecuteTime": {
     "end_time": "2024-03-16T12:09:44.860635600Z",
     "start_time": "2024-03-16T12:09:44.783503400Z"
    }
   },
   "execution_count": 152,
   "outputs": [
    {
     "data": {
      "text/plain": "4.0    40011\n2.0    36711\n3.0    27838\n1.0    22841\n0.0    16985\n5.0     9737\n6.0     3060\n8.0     1531\n7.0      173\nName: Pedestrian location, dtype: int64"
     },
     "execution_count": 152,
     "metadata": {},
     "output_type": "execute_result"
    }
   ]
  },
  {
   "cell_type": "code",
   "source": [
    "len(df[(df[\"User type\"] >= 3) & (df[\"Pedestrian location\"] == 0)])/len(df[(df[\"User type\"] >= 3)])\n",
    "# About 10% of pedestrians have unknown location"
   ],
   "metadata": {
    "colab": {
     "base_uri": "https://localhost:8080/"
    },
    "id": "UbF98nayITAa",
    "outputId": "73ecdbf0-9701-4af7-b26b-d6f51add5780",
    "ExecuteTime": {
     "end_time": "2024-03-16T12:09:45.600392700Z",
     "start_time": "2024-03-16T12:09:45.532870400Z"
    }
   },
   "execution_count": 153,
   "outputs": [
    {
     "data": {
      "text/plain": "0.10688036446927937"
     },
     "execution_count": 153,
     "metadata": {},
     "output_type": "execute_result"
    }
   ]
  },
  {
   "cell_type": "code",
   "execution_count": 154,
   "outputs": [],
   "source": [
    "df[\"Pedestrian location\"].fillna(0, inplace=True)"
   ],
   "metadata": {
    "collapsed": false,
    "ExecuteTime": {
     "end_time": "2024-03-16T12:09:58.631067700Z",
     "start_time": "2024-03-16T12:09:58.585998Z"
    }
   }
  },
  {
   "cell_type": "markdown",
   "source": [
    "## Pedestrian action\n",
    "\n",
    "Moving:\n",
    "*  0 - Unknown or not applicable\n",
    "*  1 - Direction of striking vehicle\n",
    "*  2 - Opposite vehicle direction\n",
    "\n",
    "Miscellaneous:\n",
    "*  3 - Crossing the road\n",
    "*  4 - Masked\n",
    "*  5 - Playing/running\n",
    "*  6 - With animal\n",
    "*  9 - Other"
   ],
   "metadata": {
    "id": "7arUsssXECOf"
   }
  },
  {
   "cell_type": "code",
   "source": [
    "df[\"Pedestrian action\"].value_counts()"
   ],
   "metadata": {
    "colab": {
     "base_uri": "https://localhost:8080/"
    },
    "id": "oxBTnBDfEO4o",
    "outputId": "63a143e1-dfdd-4966-e310-97d2daf883ec",
    "ExecuteTime": {
     "end_time": "2024-03-16T12:10:02.024570300Z",
     "start_time": "2024-03-16T12:10:01.961904600Z"
    }
   },
   "execution_count": 155,
   "outputs": [
    {
     "data": {
      "text/plain": "0.0    1723439\n3.0     115011\n9.0      10688\n5.0       9282\n1.0       8441\n2.0       4215\n4.0       2809\n6.0        347\nName: Pedestrian action, dtype: int64"
     },
     "execution_count": 155,
     "metadata": {},
     "output_type": "execute_result"
    }
   ]
  },
  {
   "cell_type": "code",
   "source": [
    "df[df[\"User type\"] < 3][\"Pedestrian action\"].value_counts() #Also correctly filled"
   ],
   "metadata": {
    "colab": {
     "base_uri": "https://localhost:8080/"
    },
    "id": "cyBufzeqBAA1",
    "outputId": "7e1bcc8b-2e3a-49e1-d9c8-b7441788f661",
    "ExecuteTime": {
     "end_time": "2024-03-16T12:10:08.021131400Z",
     "start_time": "2024-03-16T12:10:07.805003500Z"
    }
   },
   "execution_count": 156,
   "outputs": [
    {
     "data": {
      "text/plain": "0.0    1715323\nName: Pedestrian action, dtype: int64"
     },
     "execution_count": 156,
     "metadata": {},
     "output_type": "execute_result"
    }
   ]
  },
  {
   "cell_type": "code",
   "source": [
    "df[df[\"User type\"] >= 3][\"Pedestrian action\"].value_counts()"
   ],
   "metadata": {
    "colab": {
     "base_uri": "https://localhost:8080/"
    },
    "id": "PzhVQxYnENwZ",
    "outputId": "b0db0a13-0b57-4d8c-eae5-568be65207dd",
    "ExecuteTime": {
     "end_time": "2024-03-16T12:10:08.074551Z",
     "start_time": "2024-03-16T12:10:08.005472200Z"
    }
   },
   "execution_count": 157,
   "outputs": [
    {
     "data": {
      "text/plain": "3.0    115011\n9.0     10688\n5.0      9282\n1.0      8441\n0.0      8116\n2.0      4215\n4.0      2809\n6.0       347\nName: Pedestrian action, dtype: int64"
     },
     "execution_count": 157,
     "metadata": {},
     "output_type": "execute_result"
    }
   ]
  },
  {
   "cell_type": "code",
   "execution_count": 158,
   "outputs": [],
   "source": [
    "df[\"Pedestrian action\"].fillna(0, inplace=True)"
   ],
   "metadata": {
    "collapsed": false,
    "ExecuteTime": {
     "end_time": "2024-03-16T12:10:18.892446300Z",
     "start_time": "2024-03-16T12:10:18.857362800Z"
    }
   }
  },
  {
   "cell_type": "markdown",
   "source": [
    "## Pedestrian alone\n",
    "\n",
    "Specifies whether the pedestrian was alone or not.\n",
    "*  1 - Alone\n",
    "*  2 - Accompanied\n",
    "*  3 - In a group\n",
    "*  0 - Not applicable or unknown"
   ],
   "metadata": {
    "id": "itna3_2yEyvQ"
   }
  },
  {
   "cell_type": "code",
   "source": [
    "df[\"Pedestrian alone\"].value_counts()"
   ],
   "metadata": {
    "colab": {
     "base_uri": "https://localhost:8080/"
    },
    "id": "zqQRZwsQE-vW",
    "outputId": "d4e76f47-83b2-445c-f885-d1ef4788aae4",
    "ExecuteTime": {
     "end_time": "2024-03-16T12:10:43.846508600Z",
     "start_time": "2024-03-16T12:10:43.793396Z"
    }
   },
   "execution_count": 160,
   "outputs": [
    {
     "data": {
      "text/plain": "0.0    1725093\n1.0     113063\n2.0      29597\n3.0       6546\nName: Pedestrian alone, dtype: int64"
     },
     "execution_count": 160,
     "metadata": {},
     "output_type": "execute_result"
    }
   ]
  },
  {
   "cell_type": "code",
   "source": [
    "df[df[\"User type\"] < 3][\"Pedestrian alone\"].value_counts()"
   ],
   "metadata": {
    "colab": {
     "base_uri": "https://localhost:8080/"
    },
    "id": "tWJcKZzDEbFD",
    "outputId": "4131ee5b-db79-46a9-92c8-a0b73c4ff3b7",
    "ExecuteTime": {
     "end_time": "2024-03-16T12:10:44.195271Z",
     "start_time": "2024-03-16T12:10:43.978090300Z"
    }
   },
   "execution_count": 161,
   "outputs": [
    {
     "data": {
      "text/plain": "0.0    1715412\nName: Pedestrian alone, dtype: int64"
     },
     "execution_count": 161,
     "metadata": {},
     "output_type": "execute_result"
    }
   ]
  },
  {
   "cell_type": "code",
   "source": [
    "df[df[\"User type\"] >= 3][\"Pedestrian alone\"].value_counts() #In many cases, this field is filled"
   ],
   "metadata": {
    "colab": {
     "base_uri": "https://localhost:8080/"
    },
    "id": "_60wpDW3E7z1",
    "outputId": "820ae267-c583-4971-de70-5deafcf8f9d9",
    "ExecuteTime": {
     "end_time": "2024-03-16T12:10:44.263374500Z",
     "start_time": "2024-03-16T12:10:44.163053300Z"
    }
   },
   "execution_count": 162,
   "outputs": [
    {
     "data": {
      "text/plain": "1.0    113063\n2.0     29597\n0.0      9681\n3.0      6546\nName: Pedestrian alone, dtype: int64"
     },
     "execution_count": 162,
     "metadata": {},
     "output_type": "execute_result"
    }
   ]
  },
  {
   "cell_type": "code",
   "execution_count": 163,
   "outputs": [],
   "source": [
    "df[\"Pedestrian alone\"].fillna(0, inplace=True)"
   ],
   "metadata": {
    "collapsed": false,
    "ExecuteTime": {
     "end_time": "2024-03-16T12:10:44.495061300Z",
     "start_time": "2024-03-16T12:10:44.420900100Z"
    }
   }
  },
  {
   "cell_type": "markdown",
   "source": [
    "## Birth year"
   ],
   "metadata": {
    "id": "iFx3Pbz4FM8l"
   }
  },
  {
   "cell_type": "code",
   "source": [
    "unique = df[\"Birth year\"].nunique()\n",
    "df[\"Birth year\"].hist(bins=unique)"
   ],
   "metadata": {
    "colab": {
     "base_uri": "https://localhost:8080/",
     "height": 448
    },
    "id": "GrVkRN9YE9kE",
    "outputId": "0f8e7ed6-ba0d-4bb2-d8ae-2c655741bc88",
    "ExecuteTime": {
     "end_time": "2024-03-16T12:10:46.691577700Z",
     "start_time": "2024-03-16T12:10:46.263588400Z"
    }
   },
   "execution_count": 164,
   "outputs": [
    {
     "data": {
      "text/plain": "<AxesSubplot: >"
     },
     "execution_count": 164,
     "metadata": {},
     "output_type": "execute_result"
    },
    {
     "data": {
      "text/plain": "<Figure size 640x480 with 1 Axes>",
      "image/png": "[encoded data removed]"
     },
     "metadata": {},
     "output_type": "display_data"
    }
   ]
  },
  {
   "cell_type": "code",
   "source": [
    "unique = df[df[\"Year\"] == 2016][\"Birth year\"].nunique()\n",
    "df[df[\"Year\"] == 2016][\"Birth year\"].hist(bins=unique)"
   ],
   "metadata": {
    "colab": {
     "base_uri": "https://localhost:8080/",
     "height": 448
    },
    "id": "s1BAtX95G2Iq",
    "outputId": "9552671e-4403-4501-d0f0-b344f388593d",
    "ExecuteTime": {
     "end_time": "2024-03-16T12:10:47.725402100Z",
     "start_time": "2024-03-16T12:10:47.339563900Z"
    }
   },
   "execution_count": 165,
   "outputs": [
    {
     "data": {
      "text/plain": "<AxesSubplot: >"
     },
     "execution_count": 165,
     "metadata": {},
     "output_type": "execute_result"
    },
    {
     "data": {
      "text/plain": "<Figure size 640x480 with 1 Axes>",
      "image/png": "[encoded data removed]"
     },
     "metadata": {},
     "output_type": "display_data"
    }
   ]
  },
  {
   "cell_type": "code",
   "source": [
    "unique = df[df[\"Year\"] == 2005][\"Birth year\"].nunique()\n",
    "df[df[\"Year\"] == 2005][\"Birth year\"].hist(bins=unique)"
   ],
   "metadata": {
    "colab": {
     "base_uri": "https://localhost:8080/",
     "height": 448
    },
    "id": "q68BNyOrHDxu",
    "outputId": "6f6210ab-6b21-4c03-b26d-a27b8771dfcc",
    "ExecuteTime": {
     "end_time": "2024-03-16T12:10:48.139631400Z",
     "start_time": "2024-03-16T12:10:47.725402100Z"
    }
   },
   "execution_count": 166,
   "outputs": [
    {
     "data": {
      "text/plain": "<AxesSubplot: >"
     },
     "execution_count": 166,
     "metadata": {},
     "output_type": "execute_result"
    },
    {
     "data": {
      "text/plain": "<Figure size 640x480 with 1 Axes>",
      "image/png": "[encoded data removed]"
     },
     "metadata": {},
     "output_type": "display_data"
    }
   ]
  },
  {
   "cell_type": "code",
   "source": [
    "df[(1990 <= df[\"Birth year\"]) & (df[\"Birth year\"] <= 1999)][\"Birth year\"].value_counts()"
   ],
   "metadata": {
    "colab": {
     "base_uri": "https://localhost:8080/"
    },
    "id": "53SzBKfTF0hC",
    "outputId": "03b6c79a-fe03-4acc-faac-b06946495442",
    "ExecuteTime": {
     "end_time": "2024-03-16T12:10:48.426150700Z",
     "start_time": "2024-03-16T12:10:48.341298600Z"
    }
   },
   "execution_count": 167,
   "outputs": [
    {
     "data": {
      "text/plain": "1990.0    46560\n1991.0    41116\n1992.0    36291\n1993.0    30604\n1994.0    26841\n1995.0    23406\n1996.0    19187\n1997.0    15596\n1998.0    12742\n1999.0    10514\nName: Birth year, dtype: int64"
     },
     "execution_count": 167,
     "metadata": {},
     "output_type": "execute_result"
    }
   ]
  },
  {
   "cell_type": "code",
   "source": [
    "len(df[df[\"Birth year\"] < 1910])"
   ],
   "metadata": {
    "colab": {
     "base_uri": "https://localhost:8080/"
    },
    "id": "_cEAGOgIFSG2",
    "outputId": "5ca0860c-6466-4911-9524-1f49541fa094",
    "ExecuteTime": {
     "end_time": "2024-03-16T12:10:49.040531300Z",
     "start_time": "2024-03-16T12:10:49.001194100Z"
    }
   },
   "execution_count": 168,
   "outputs": [
    {
     "data": {
      "text/plain": "288"
     },
     "execution_count": 168,
     "metadata": {},
     "output_type": "execute_result"
    }
   ]
  },
  {
   "cell_type": "code",
   "source": [
    "df[df[\"Birth year\"] > df[\"Year\"]] # No inconsistencies"
   ],
   "metadata": {
    "colab": {
     "base_uri": "https://localhost:8080/",
     "height": 53
    },
    "id": "0hNUn5xBFj-v",
    "outputId": "b9ca76b3-7fd9-4028-b12d-8d881104b16d",
    "ExecuteTime": {
     "end_time": "2024-03-16T12:10:50.870830500Z",
     "start_time": "2024-03-16T12:10:50.808202100Z"
    }
   },
   "execution_count": 169,
   "outputs": [
    {
     "data": {
      "text/plain": "Empty DataFrame\nColumns: [Num_Acc, Seat, User type, Severity, Sex, Trip, Pedestrian location, Pedestrian action, Pedestrian alone, Birth year, num_veh, Year, Safety equipment existence, Safety equipment use]\nIndex: []",
      "text/html": "<div>\n<style scoped>\n    .dataframe tbody tr th:only-of-type {\n        vertical-align: middle;\n    }\n\n    .dataframe tbody tr th {\n        vertical-align: top;\n    }\n\n    .dataframe thead th {\n        text-align: right;\n    }\n</style>\n<table border=\"1\" class=\"dataframe\">\n  <thead>\n    <tr style=\"text-align: right;\">\n      <th></th>\n      <th>Num_Acc</th>\n      <th>Seat</th>\n      <th>User type</th>\n      <th>Severity</th>\n      <th>Sex</th>\n      <th>Trip</th>\n      <th>Pedestrian location</th>\n      <th>Pedestrian action</th>\n      <th>Pedestrian alone</th>\n      <th>Birth year</th>\n      <th>num_veh</th>\n      <th>Year</th>\n      <th>Safety equipment existence</th>\n      <th>Safety equipment use</th>\n    </tr>\n  </thead>\n  <tbody>\n  </tbody>\n</table>\n</div>"
     },
     "execution_count": 169,
     "metadata": {},
     "output_type": "execute_result"
    }
   ]
  },
  {
   "cell_type": "code",
   "execution_count": 174,
   "outputs": [],
   "source": [
    "#Fill missing birth year with average\n",
    "df[\"Birth year\"].fillna(df[\"Birth year\"].mean(), inplace=True)"
   ],
   "metadata": {
    "collapsed": false,
    "ExecuteTime": {
     "end_time": "2024-03-16T12:11:56.271320400Z",
     "start_time": "2024-03-16T12:11:56.215550200Z"
    }
   }
  },
  {
   "cell_type": "markdown",
   "source": [
    "## Notes\n",
    "\n",
    "*  Place may be useful, but have to be converted into a more descriptive format. (E. g. relating to the position in the vehicle, such as \"driver's place\" or \"rear left\").\n",
    "*  User type and severity are essential, and are never missing\n",
    "*  Type of trip also could be useful, but there is no information in 29% of cases\n",
    "*  Safety equipment could also serve useful when correlated with the severity of the accident.\n",
    "*  Information about pedestrians are missing in about 10% of pedestrian users.\n",
    "*  Birth year could also serve useful, especially when considering the driver."
   ],
   "metadata": {
    "id": "lDr-aLtfGtFn"
   }
  },
  {
   "cell_type": "markdown",
   "source": [
    "## Association"
   ],
   "metadata": {
    "collapsed": false
   }
  },
  {
   "cell_type": "code",
   "execution_count": 175,
   "outputs": [
    {
     "data": {
      "text/plain": "Num_Acc                       0\nSeat                          0\nUser type                     0\nSeverity                      0\nSex                           0\nTrip                          0\nPedestrian location           0\nPedestrian action             0\nPedestrian alone              0\nBirth year                    0\nnum_veh                       0\nYear                          0\nSafety equipment existence    0\nSafety equipment use          0\ndtype: int64"
     },
     "execution_count": 175,
     "metadata": {},
     "output_type": "execute_result"
    }
   ],
   "source": [
    "df.isna().sum()"
   ],
   "metadata": {
    "collapsed": false,
    "ExecuteTime": {
     "end_time": "2024-03-16T12:12:00.639480500Z",
     "start_time": "2024-03-16T12:12:00.316902900Z"
    }
   }
  },
  {
   "cell_type": "code",
   "execution_count": 176,
   "outputs": [],
   "source": [
    "from sklearn.metrics.cluster import contingency_matrix\n",
    "from scipy.stats.contingency import association\n",
    "import seaborn as sns\n",
    "\n",
    "def cramersv(a, b):\n",
    "    return association(contingency_matrix(a, b))"
   ],
   "metadata": {
    "collapsed": false,
    "ExecuteTime": {
     "end_time": "2024-03-16T12:12:05.000957600Z",
     "start_time": "2024-03-16T12:12:04.969737900Z"
    }
   }
  },
  {
   "cell_type": "code",
   "execution_count": 191,
   "outputs": [],
   "source": [
    "cols = list(df.columns)\n",
    "cols = cols[1:6] + cols[-2:] + [\"Birth year\"]"
   ],
   "metadata": {
    "collapsed": false,
    "ExecuteTime": {
     "end_time": "2024-03-16T12:17:13.671696100Z",
     "start_time": "2024-03-16T12:17:13.640434500Z"
    }
   }
  },
  {
   "cell_type": "code",
   "execution_count": 199,
   "outputs": [],
   "source": [
    "ped_cols = [\"Pedestrian location\", \"Pedestrian action\", \"Pedestrian alone\"] + cols\n",
    "ped_cols.remove(\"User type\")\n",
    "ped_cols.remove(\"Seat\")"
   ],
   "metadata": {
    "collapsed": false,
    "ExecuteTime": {
     "end_time": "2024-03-16T12:20:20.477101200Z",
     "start_time": "2024-03-16T12:20:20.429990700Z"
    }
   }
  },
  {
   "cell_type": "code",
   "execution_count": 200,
   "outputs": [
    {
     "data": {
      "text/plain": "<AxesSubplot: >"
     },
     "execution_count": 200,
     "metadata": {},
     "output_type": "execute_result"
    },
    {
     "data": {
      "text/plain": "<Figure size 640x480 with 2 Axes>",
      "image/png": "[encoded data removed]"
     },
     "metadata": {},
     "output_type": "display_data"
    }
   ],
   "source": [
    "corr = df[cols].corr(method=cramersv, numeric_only=False)\n",
    "sns.heatmap(corr, square=True, annot=True)"
   ],
   "metadata": {
    "collapsed": false,
    "ExecuteTime": {
     "end_time": "2024-03-16T12:20:29.445715200Z",
     "start_time": "2024-03-16T12:20:20.975219200Z"
    }
   }
  },
  {
   "cell_type": "code",
   "execution_count": 201,
   "outputs": [
    {
     "data": {
      "text/plain": "<AxesSubplot: >"
     },
     "execution_count": 201,
     "metadata": {},
     "output_type": "execute_result"
    },
    {
     "data": {
      "text/plain": "<Figure size 640x480 with 2 Axes>",
      "image/png": "[encoded data removed]"
     },
     "metadata": {},
     "output_type": "display_data"
    }
   ],
   "source": [
    "#Looking at only pedestrians\n",
    "corr = df[df[\"User type\"] >= 3][ped_cols].corr(method=cramersv, numeric_only=False)\n",
    "sns.heatmap(corr, square=True, annot=True)"
   ],
   "metadata": {
    "collapsed": false,
    "ExecuteTime": {
     "end_time": "2024-03-16T12:20:30.689992100Z",
     "start_time": "2024-03-16T12:20:29.453777100Z"
    }
   }
  },
  {
   "cell_type": "code",
   "execution_count": 207,
   "outputs": [],
   "source": [
    "df[[\"Seat\", \"User type\", \"Severity\", \"Sex\", \"Trip\", \"Pedestrian location\", \"Pedestrian action\", \"Pedestrian alone\", \"Birth year\", \"Safety equipment existence\", \"Safety equipment use\"]] = df[[\"Seat\", \"User type\", \"Severity\", \"Sex\", \"Trip\", \"Pedestrian location\", \"Pedestrian action\", \"Pedestrian alone\", \"Birth year\", \"Safety equipment existence\", \"Safety equipment use\"]].astype(\"int\")"
   ],
   "metadata": {
    "collapsed": false,
    "ExecuteTime": {
     "end_time": "2024-03-16T12:30:18.394831400Z",
     "start_time": "2024-03-16T12:30:18.092278500Z"
    }
   }
  },
  {
   "cell_type": "code",
   "execution_count": 208,
   "outputs": [],
   "source": [
    "df[[\"Num_Acc\", \"Seat\", \"User type\", \"Severity\", \"Sex\", \"Trip\", \"Pedestrian location\", \"Pedestrian action\", \"Pedestrian alone\", \"Birth year\", \"num_veh\", \"Safety equipment existence\", \"Safety equipment use\"]].to_csv(\"data/users_prepped.csv\", index=False)"
   ],
   "metadata": {
    "collapsed": false,
    "ExecuteTime": {
     "end_time": "2024-03-16T12:30:26.043796900Z",
     "start_time": "2024-03-16T12:30:19.380653300Z"
    }
   }
  },
  {
   "cell_type": "code",
   "execution_count": null,
   "outputs": [],
   "source": [],
   "metadata": {
    "collapsed": false
   }
  }
 ]
}
